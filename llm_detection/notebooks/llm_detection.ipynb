{
 "cells": [
  {
   "cell_type": "markdown",
   "id": "d9438e4c-51bd-4571-8fa6-f149e8da7d53",
   "metadata": {},
   "source": [
    "## Data Augmentation"
   ]
  },
  {
   "cell_type": "markdown",
   "id": "34f8f782-1457-4600-b695-9d93592574c0",
   "metadata": {},
   "source": [
    "Check these out later: https://www.tutorialspoint.com/natural_language_toolkit/natural_language_toolkit_synonym_antonym_replacement.htm, https://www.kaggle.com/code/rohitsingh9990/data-augmentation-by-synonym-replacement"
   ]
  },
  {
   "cell_type": "code",
   "execution_count": 1,
   "id": "fa2fed8d-eb1a-47fe-93bf-45181b8d4e80",
   "metadata": {},
   "outputs": [],
   "source": [
    "import pandas as pd\n",
    "import numpy as np\n",
    "import os\n",
    "\n",
    "\n",
    "DATA_PATH = os.path.join(\"..\", \"data\")"
   ]
  },
  {
   "cell_type": "code",
   "execution_count": 2,
   "id": "bd9591a6-74da-423d-9e85-eb0252be86fb",
   "metadata": {},
   "outputs": [
    {
     "data": {
      "text/html": [
       "<div>\n",
       "<style scoped>\n",
       "    .dataframe tbody tr th:only-of-type {\n",
       "        vertical-align: middle;\n",
       "    }\n",
       "\n",
       "    .dataframe tbody tr th {\n",
       "        vertical-align: top;\n",
       "    }\n",
       "\n",
       "    .dataframe thead th {\n",
       "        text-align: right;\n",
       "    }\n",
       "</style>\n",
       "<table border=\"1\" class=\"dataframe\">\n",
       "  <thead>\n",
       "    <tr style=\"text-align: right;\">\n",
       "      <th></th>\n",
       "      <th>id</th>\n",
       "      <th>prompt_id</th>\n",
       "      <th>text</th>\n",
       "      <th>generated</th>\n",
       "    </tr>\n",
       "  </thead>\n",
       "  <tbody>\n",
       "    <tr>\n",
       "      <th>0</th>\n",
       "      <td>0059830c</td>\n",
       "      <td>0</td>\n",
       "      <td>Cars. Cars have been around since they became ...</td>\n",
       "      <td>0</td>\n",
       "    </tr>\n",
       "    <tr>\n",
       "      <th>1</th>\n",
       "      <td>005db917</td>\n",
       "      <td>0</td>\n",
       "      <td>Transportation is a large necessity in most co...</td>\n",
       "      <td>0</td>\n",
       "    </tr>\n",
       "    <tr>\n",
       "      <th>2</th>\n",
       "      <td>008f63e3</td>\n",
       "      <td>0</td>\n",
       "      <td>\"America's love affair with it's vehicles seem...</td>\n",
       "      <td>0</td>\n",
       "    </tr>\n",
       "    <tr>\n",
       "      <th>3</th>\n",
       "      <td>00940276</td>\n",
       "      <td>0</td>\n",
       "      <td>How often do you ride in a car? Do you drive a...</td>\n",
       "      <td>0</td>\n",
       "    </tr>\n",
       "    <tr>\n",
       "      <th>4</th>\n",
       "      <td>00c39458</td>\n",
       "      <td>0</td>\n",
       "      <td>Cars are a wonderful thing. They are perhaps o...</td>\n",
       "      <td>0</td>\n",
       "    </tr>\n",
       "    <tr>\n",
       "      <th>...</th>\n",
       "      <td>...</td>\n",
       "      <td>...</td>\n",
       "      <td>...</td>\n",
       "      <td>...</td>\n",
       "    </tr>\n",
       "    <tr>\n",
       "      <th>1373</th>\n",
       "      <td>fe6ff9a5</td>\n",
       "      <td>1</td>\n",
       "      <td>There has been a fuss about the Elector Colleg...</td>\n",
       "      <td>0</td>\n",
       "    </tr>\n",
       "    <tr>\n",
       "      <th>1374</th>\n",
       "      <td>ff669174</td>\n",
       "      <td>0</td>\n",
       "      <td>Limiting car usage has many advantages. Such a...</td>\n",
       "      <td>0</td>\n",
       "    </tr>\n",
       "    <tr>\n",
       "      <th>1375</th>\n",
       "      <td>ffa247e0</td>\n",
       "      <td>0</td>\n",
       "      <td>There's a new trend that has been developing f...</td>\n",
       "      <td>0</td>\n",
       "    </tr>\n",
       "    <tr>\n",
       "      <th>1376</th>\n",
       "      <td>ffc237e9</td>\n",
       "      <td>0</td>\n",
       "      <td>As we all know cars are a big part of our soci...</td>\n",
       "      <td>0</td>\n",
       "    </tr>\n",
       "    <tr>\n",
       "      <th>1377</th>\n",
       "      <td>ffe1ca0d</td>\n",
       "      <td>0</td>\n",
       "      <td>Cars have been around since the 1800's and hav...</td>\n",
       "      <td>0</td>\n",
       "    </tr>\n",
       "  </tbody>\n",
       "</table>\n",
       "<p>1378 rows × 4 columns</p>\n",
       "</div>"
      ],
      "text/plain": [
       "            id  prompt_id                                               text  \\\n",
       "0     0059830c          0  Cars. Cars have been around since they became ...   \n",
       "1     005db917          0  Transportation is a large necessity in most co...   \n",
       "2     008f63e3          0  \"America's love affair with it's vehicles seem...   \n",
       "3     00940276          0  How often do you ride in a car? Do you drive a...   \n",
       "4     00c39458          0  Cars are a wonderful thing. They are perhaps o...   \n",
       "...        ...        ...                                                ...   \n",
       "1373  fe6ff9a5          1  There has been a fuss about the Elector Colleg...   \n",
       "1374  ff669174          0  Limiting car usage has many advantages. Such a...   \n",
       "1375  ffa247e0          0  There's a new trend that has been developing f...   \n",
       "1376  ffc237e9          0  As we all know cars are a big part of our soci...   \n",
       "1377  ffe1ca0d          0  Cars have been around since the 1800's and hav...   \n",
       "\n",
       "      generated  \n",
       "0             0  \n",
       "1             0  \n",
       "2             0  \n",
       "3             0  \n",
       "4             0  \n",
       "...         ...  \n",
       "1373          0  \n",
       "1374          0  \n",
       "1375          0  \n",
       "1376          0  \n",
       "1377          0  \n",
       "\n",
       "[1378 rows x 4 columns]"
      ]
     },
     "execution_count": 2,
     "metadata": {},
     "output_type": "execute_result"
    }
   ],
   "source": [
    "train_df = pd.read_csv(os.path.join(DATA_PATH, \"train_essays.csv\"))\n",
    "train_df"
   ]
  },
  {
   "cell_type": "code",
   "execution_count": 3,
   "id": "4a2d9454-fb82-4ffa-94e7-038190caca1f",
   "metadata": {},
   "outputs": [
    {
     "data": {
      "text/html": [
       "<div>\n",
       "<style scoped>\n",
       "    .dataframe tbody tr th:only-of-type {\n",
       "        vertical-align: middle;\n",
       "    }\n",
       "\n",
       "    .dataframe tbody tr th {\n",
       "        vertical-align: top;\n",
       "    }\n",
       "\n",
       "    .dataframe thead th {\n",
       "        text-align: right;\n",
       "    }\n",
       "</style>\n",
       "<table border=\"1\" class=\"dataframe\">\n",
       "  <thead>\n",
       "    <tr style=\"text-align: right;\">\n",
       "      <th></th>\n",
       "      <th>id</th>\n",
       "      <th>prompt_id</th>\n",
       "      <th>text</th>\n",
       "      <th>generated</th>\n",
       "    </tr>\n",
       "  </thead>\n",
       "  <tbody>\n",
       "    <tr>\n",
       "      <th>704</th>\n",
       "      <td>82131f68</td>\n",
       "      <td>1</td>\n",
       "      <td>This essay will analyze, discuss and prove one...</td>\n",
       "      <td>1</td>\n",
       "    </tr>\n",
       "    <tr>\n",
       "      <th>740</th>\n",
       "      <td>86fe4f18</td>\n",
       "      <td>1</td>\n",
       "      <td>I strongly believe that the Electoral College ...</td>\n",
       "      <td>1</td>\n",
       "    </tr>\n",
       "    <tr>\n",
       "      <th>1262</th>\n",
       "      <td>eafb8a56</td>\n",
       "      <td>0</td>\n",
       "      <td>Limiting car use causes pollution, increases c...</td>\n",
       "      <td>1</td>\n",
       "    </tr>\n",
       "  </tbody>\n",
       "</table>\n",
       "</div>"
      ],
      "text/plain": [
       "            id  prompt_id                                               text  \\\n",
       "704   82131f68          1  This essay will analyze, discuss and prove one...   \n",
       "740   86fe4f18          1  I strongly believe that the Electoral College ...   \n",
       "1262  eafb8a56          0  Limiting car use causes pollution, increases c...   \n",
       "\n",
       "      generated  \n",
       "704           1  \n",
       "740           1  \n",
       "1262          1  "
      ]
     },
     "execution_count": 3,
     "metadata": {},
     "output_type": "execute_result"
    }
   ],
   "source": [
    "train_df[train_df.generated == 1]"
   ]
  },
  {
   "cell_type": "code",
   "execution_count": 4,
   "id": "4af26a4e-793d-45f9-bab1-a5eac1ce2bfd",
   "metadata": {},
   "outputs": [
    {
     "data": {
      "text/html": [
       "<div>\n",
       "<style scoped>\n",
       "    .dataframe tbody tr th:only-of-type {\n",
       "        vertical-align: middle;\n",
       "    }\n",
       "\n",
       "    .dataframe tbody tr th {\n",
       "        vertical-align: top;\n",
       "    }\n",
       "\n",
       "    .dataframe thead th {\n",
       "        text-align: right;\n",
       "    }\n",
       "</style>\n",
       "<table border=\"1\" class=\"dataframe\">\n",
       "  <thead>\n",
       "    <tr style=\"text-align: right;\">\n",
       "      <th></th>\n",
       "      <th>id</th>\n",
       "      <th>text</th>\n",
       "      <th>prompt_id</th>\n",
       "      <th>generated</th>\n",
       "    </tr>\n",
       "  </thead>\n",
       "  <tbody>\n",
       "    <tr>\n",
       "      <th>0</th>\n",
       "      <td>1974691434640</td>\n",
       "      <td>In recent years, there has been a growing glob...</td>\n",
       "      <td>0</td>\n",
       "      <td>1</td>\n",
       "    </tr>\n",
       "    <tr>\n",
       "      <th>1</th>\n",
       "      <td>1974691438512</td>\n",
       "      <td>The advantages of limiting car usage are evide...</td>\n",
       "      <td>0</td>\n",
       "      <td>1</td>\n",
       "    </tr>\n",
       "    <tr>\n",
       "      <th>2</th>\n",
       "      <td>1974691442128</td>\n",
       "      <td>The global movement towards limiting car usage...</td>\n",
       "      <td>0</td>\n",
       "      <td>1</td>\n",
       "    </tr>\n",
       "    <tr>\n",
       "      <th>3</th>\n",
       "      <td>1974689124528</td>\n",
       "      <td>The advantages of limiting car usage are becom...</td>\n",
       "      <td>0</td>\n",
       "      <td>1</td>\n",
       "    </tr>\n",
       "    <tr>\n",
       "      <th>4</th>\n",
       "      <td>1974691445968</td>\n",
       "      <td>The advantages of limiting car usage are manif...</td>\n",
       "      <td>0</td>\n",
       "      <td>1</td>\n",
       "    </tr>\n",
       "    <tr>\n",
       "      <th>...</th>\n",
       "      <td>...</td>\n",
       "      <td>...</td>\n",
       "      <td>...</td>\n",
       "      <td>...</td>\n",
       "    </tr>\n",
       "    <tr>\n",
       "      <th>1373</th>\n",
       "      <td>fe6ff9a5</td>\n",
       "      <td>There has been a fuss about the Elector Colleg...</td>\n",
       "      <td>1</td>\n",
       "      <td>0</td>\n",
       "    </tr>\n",
       "    <tr>\n",
       "      <th>1374</th>\n",
       "      <td>ff669174</td>\n",
       "      <td>Limiting car usage has many advantages. Such a...</td>\n",
       "      <td>0</td>\n",
       "      <td>0</td>\n",
       "    </tr>\n",
       "    <tr>\n",
       "      <th>1375</th>\n",
       "      <td>ffa247e0</td>\n",
       "      <td>There's a new trend that has been developing f...</td>\n",
       "      <td>0</td>\n",
       "      <td>0</td>\n",
       "    </tr>\n",
       "    <tr>\n",
       "      <th>1376</th>\n",
       "      <td>ffc237e9</td>\n",
       "      <td>As we all know cars are a big part of our soci...</td>\n",
       "      <td>0</td>\n",
       "      <td>0</td>\n",
       "    </tr>\n",
       "    <tr>\n",
       "      <th>1377</th>\n",
       "      <td>ffe1ca0d</td>\n",
       "      <td>Cars have been around since the 1800's and hav...</td>\n",
       "      <td>0</td>\n",
       "      <td>0</td>\n",
       "    </tr>\n",
       "  </tbody>\n",
       "</table>\n",
       "<p>1527 rows × 4 columns</p>\n",
       "</div>"
      ],
      "text/plain": [
       "                 id                                               text  \\\n",
       "0     1974691434640  In recent years, there has been a growing glob...   \n",
       "1     1974691438512  The advantages of limiting car usage are evide...   \n",
       "2     1974691442128  The global movement towards limiting car usage...   \n",
       "3     1974689124528  The advantages of limiting car usage are becom...   \n",
       "4     1974691445968  The advantages of limiting car usage are manif...   \n",
       "...             ...                                                ...   \n",
       "1373       fe6ff9a5  There has been a fuss about the Elector Colleg...   \n",
       "1374       ff669174  Limiting car usage has many advantages. Such a...   \n",
       "1375       ffa247e0  There's a new trend that has been developing f...   \n",
       "1376       ffc237e9  As we all know cars are a big part of our soci...   \n",
       "1377       ffe1ca0d  Cars have been around since the 1800's and hav...   \n",
       "\n",
       "     prompt_id generated  \n",
       "0            0         1  \n",
       "1            0         1  \n",
       "2            0         1  \n",
       "3            0         1  \n",
       "4            0         1  \n",
       "...        ...       ...  \n",
       "1373         1         0  \n",
       "1374         0         0  \n",
       "1375         0         0  \n",
       "1376         0         0  \n",
       "1377         0         0  \n",
       "\n",
       "[1527 rows x 4 columns]"
      ]
     },
     "execution_count": 4,
     "metadata": {},
     "output_type": "execute_result"
    }
   ],
   "source": [
    "def read_gpt(file: str) -> pd.Series:\n",
    "    with open(os.path.join(DATA_PATH, file), encoding=\"utf8\") as f:\n",
    "        contents = f.read()\n",
    "    responses = list(filter(lambda x: x.startswith(\" ChatGPT\"), \n",
    "                        contents.split(\"##\")))\n",
    "    clear_responses = [res.replace(\"ChatGPT\", \"\").replace(\"~\", \"\").strip() \n",
    "                            for res in responses]\n",
    "    return pd.Series(clear_responses)\n",
    "\n",
    "\n",
    "chat_gpt_environment = read_gpt(\"chatgpt_cars.md\")\n",
    "envir_df = pd.DataFrame({\"id\": [str(id(text)) for text in chat_gpt_environment],\n",
    "                         \"text\": chat_gpt_environment, \n",
    "                         \"prompt_id\": np.zeros_like(chat_gpt_environment),\n",
    "                         \"generated\": np.ones_like(chat_gpt_environment)})\n",
    "\n",
    "chat_gpt_electoral = read_gpt(\"chatgpt_electoral.md\")\n",
    "elect_df = pd.DataFrame({\"id\": [str(id(text)) for text in chat_gpt_electoral],\n",
    "                         \"text\": chat_gpt_electoral, \n",
    "                         \"prompt_id\": np.ones_like(chat_gpt_electoral),\n",
    "                         \"generated\": np.ones_like(chat_gpt_electoral)})\n",
    "\n",
    "df = pd.concat([envir_df, elect_df, train_df])\n",
    "df"
   ]
  },
  {
   "cell_type": "code",
   "execution_count": 5,
   "id": "257e9a2a-0e07-4dd9-82b9-4484c7f4bbc9",
   "metadata": {},
   "outputs": [
    {
     "data": {
      "text/plain": [
       "'Dear Senator,\\n\\nI am writing to express my support for retaining the Electoral College as the method for electing the President of the United States. While critics argue for its abolition, citing concerns about fairness and potential issues, it is crucial to consider the nuanced advantages highlighted by various sources, including the Office of the Federal Register and Judge Richard A. Posner.\\n\\nThe Electoral College, as explained by the Federal Register, was established as a compromise between direct congressional election and a popular vote, ensuring a balanced representation of federal and state interests (Federal Register, 1). This compromise remains relevant today, preventing the domination of densely populated areas and fostering a more inclusive system.\\n\\nCritics, such as Bradford Plumer, point out flaws in the Electoral College, emphasizing the potential for elector confusion and the so-called \"disaster factor\" (Plumer, 10-11). However, Judge Posner provides a more balanced perspective, outlining practical reasons for retaining the Electoral College, including the certainty of outcome and the avoidance of runoff elections (Posner, 18, 22).\\n\\nThe certainty of outcome, as argued by Posner, is a crucial advantage of the Electoral College. The winner-take-all system ensures that the winning candidate\\'s share of the electoral vote typically exceeds their share of the popular vote, reducing the likelihood of disputed election results (Posner, 18). This certainty is essential for maintaining the stability and integrity of the electoral process.\\n\\nPosner also highlights the Electoral College\\'s role in fostering trans-regional appeal for presidential candidates, preventing candidates with only regional support from dominating the political landscape (Posner, 19). This ensures that the President represents a broader range of interests, preventing the marginalization of certain regions.\\n\\nThe focus on swing states, another point emphasized by Posner, is a critical aspect of the Electoral College. The winner-take-all method encourages candidates to concentrate their efforts on states where the outcome is uncertain, fostering a more informed and engaged electorate (Posner, 20). This ensures that voters in toss-up states are more likely to pay close attention to the campaign and make thoughtful, informed decisions.\\n\\nIn conclusion, while the critics present valid concerns, it is essential to acknowledge the nuanced advantages of the Electoral College. The system maintains stability, prevents the domination of densely populated areas, and encourages candidates to consider the diverse interests of citizens across the nation. Rather than abolishing the Electoral College, efforts should be directed towards refining and strengthening the system to address its perceived shortcomings.\\n\\nSincerely,\\n\\n[Your Name]'"
      ]
     },
     "execution_count": 5,
     "metadata": {},
     "output_type": "execute_result"
    }
   ],
   "source": [
    "df.text.loc[df.text.apply(lambda x: x.startswith(\"Dear\"))].iloc[3]"
   ]
  },
  {
   "cell_type": "code",
   "execution_count": 6,
   "id": "606591a4-d5b7-452f-8b04-64315e0f3854",
   "metadata": {},
   "outputs": [],
   "source": [
    "import re\n",
    "\n",
    "\n",
    "bracket_regex = r\"\\[.*?\\]\"\n",
    "\n",
    "df.text = df.text.apply(lambda x: re.sub(bracket_regex, \"\", x))\n",
    "df.text = df.text.apply(lambda x: x.lower())"
   ]
  },
  {
   "cell_type": "code",
   "execution_count": 7,
   "id": "185039ed-6963-4334-8339-faf2845844af",
   "metadata": {},
   "outputs": [],
   "source": [
    "import nltk\n",
    "from nltk.corpus import stopwords\n",
    "from nltk.tokenize import word_tokenize\n",
    "from collections.abc import Iterable\n",
    "\n",
    "\n",
    "# https://www.geeksforgeeks.org/removing-stop-words-nltk-python/\n",
    "def remove_stopwords(words: str, stopwords: Iterable[str]) -> str:\n",
    "    word_tokens = word_tokenize(words)\n",
    "    # converts the words in word_tokens to lower case and then checks whether \n",
    "    #they are present in stop_words or not\n",
    "    filtered_sentence = [w for w in word_tokens if not w.lower() in stop_words]\n",
    "    #with no lower case conversion\n",
    "    filtered_sentence = []\n",
    "     \n",
    "    for w in word_tokens:\n",
    "        if w not in stop_words:\n",
    "            filtered_sentence.append(w)\n",
    "    return \" \".join(filtered_sentence)\n",
    "\n",
    "\n",
    "stop_words = set(stopwords.words('english'))\n",
    "df.text = df.text.apply(lambda x: remove_stopwords(x, stop_words))"
   ]
  },
  {
   "cell_type": "code",
   "execution_count": 8,
   "id": "53e17fa4-e301-4ac7-aca9-de358987817e",
   "metadata": {},
   "outputs": [
    {
     "data": {
      "text/plain": [
       "\"dear senator , writing express support retaining electoral college method electing president united states . critics argue abolition , citing concerns fairness potential issues , crucial consider nuanced advantages highlighted various sources , including office federal register judge richard a. posner . electoral college , explained federal register , established compromise direct congressional election popular vote , ensuring balanced representation federal state interests ( federal register , 1 ) . compromise remains relevant today , preventing domination densely populated areas fostering inclusive system . critics , bradford plumer , point flaws electoral college , emphasizing potential elector confusion so-called `` disaster factor '' ( plumer , 10-11 ) . however , judge posner provides balanced perspective , outlining practical reasons retaining electoral college , including certainty outcome avoidance runoff elections ( posner , 18 , 22 ) . certainty outcome , argued posner , crucial advantage electoral college . winner-take-all system ensures winning candidate 's share electoral vote typically exceeds share popular vote , reducing likelihood disputed election results ( posner , 18 ) . certainty essential maintaining stability integrity electoral process . posner also highlights electoral college 's role fostering trans-regional appeal presidential candidates , preventing candidates regional support dominating political landscape ( posner , 19 ) . ensures president represents broader range interests , preventing marginalization certain regions . focus swing states , another point emphasized posner , critical aspect electoral college . winner-take-all method encourages candidates concentrate efforts states outcome uncertain , fostering informed engaged electorate ( posner , 20 ) . ensures voters toss-up states likely pay close attention campaign make thoughtful , informed decisions . conclusion , critics present valid concerns , essential acknowledge nuanced advantages electoral college . system maintains stability , prevents domination densely populated areas , encourages candidates consider diverse interests citizens across nation . rather abolishing electoral college , efforts directed towards refining strengthening system address perceived shortcomings . sincerely ,\""
      ]
     },
     "execution_count": 8,
     "metadata": {},
     "output_type": "execute_result"
    }
   ],
   "source": [
    "df.text.loc[df.text.apply(lambda x: x.startswith(\"dear\"))].iloc[3]"
   ]
  },
  {
   "cell_type": "code",
   "execution_count": 9,
   "id": "d126d4c0-2dba-49fd-b367-8984362f9a27",
   "metadata": {},
   "outputs": [
    {
     "data": {
      "text/plain": [
       "152"
      ]
     },
     "execution_count": 9,
     "metadata": {},
     "output_type": "execute_result"
    }
   ],
   "source": [
    "(df.generated == 1).sum()"
   ]
  },
  {
   "cell_type": "code",
   "execution_count": 10,
   "id": "8f3514aa-5559-4436-9993-185b1116bbc2",
   "metadata": {},
   "outputs": [
    {
     "data": {
      "text/plain": [
       "False"
      ]
     },
     "execution_count": 10,
     "metadata": {},
     "output_type": "execute_result"
    }
   ],
   "source": [
    "df.isnull().values.any()"
   ]
  },
  {
   "cell_type": "code",
   "execution_count": 11,
   "id": "32b83646-6555-4866-8221-3cce2dfcb710",
   "metadata": {},
   "outputs": [
    {
     "data": {
      "text/plain": [
       "id           object\n",
       "text         object\n",
       "prompt_id    object\n",
       "generated    object\n",
       "dtype: object"
      ]
     },
     "execution_count": 11,
     "metadata": {},
     "output_type": "execute_result"
    }
   ],
   "source": [
    "df.dtypes"
   ]
  },
  {
   "cell_type": "code",
   "execution_count": 12,
   "id": "ec602713-df68-4529-b320-200d8ae46345",
   "metadata": {},
   "outputs": [
    {
     "data": {
      "text/plain": [
       "id           object\n",
       "text         object\n",
       "prompt_id     int32\n",
       "generated     int32\n",
       "dtype: object"
      ]
     },
     "execution_count": 12,
     "metadata": {},
     "output_type": "execute_result"
    }
   ],
   "source": [
    "df.prompt_id = df.prompt_id.astype(int)\n",
    "df.generated = df.generated.astype(int)\n",
    "df.dtypes"
   ]
  },
  {
   "cell_type": "markdown",
   "id": "124c4a3e-9ced-4036-a0b9-b2ad60fb2f74",
   "metadata": {},
   "source": [
    "## Classifiers"
   ]
  },
  {
   "cell_type": "code",
   "execution_count": 13,
   "id": "a6bb3cc5-0b09-4724-b155-9a2d321aacc4",
   "metadata": {},
   "outputs": [],
   "source": [
    "from sklearn.model_selection import train_test_split\n",
    "\n",
    "\n",
    "data_train, data_test = train_test_split(df,\n",
    "                                         train_size=0.75, \n",
    "                                         test_size=0.25, \n",
    "                                         stratify=df.generated,\n",
    "                                         random_state=42)"
   ]
  },
  {
   "cell_type": "code",
   "execution_count": 14,
   "id": "1a6579fc-63d7-403c-951f-bd3af78760e9",
   "metadata": {
    "tags": []
   },
   "outputs": [],
   "source": [
    "from sklearn.feature_extraction.text import TfidfVectorizer\n",
    "\n",
    "\n",
    "vectorizer = TfidfVectorizer().fit(data_train.text)\n",
    "x_train = vectorizer.transform(data_train.text)\n",
    "y_train = data_train.generated.values\n",
    "x_test = vectorizer.transform(data_test.text)\n",
    "y_test = data_test.generated.values"
   ]
  },
  {
   "cell_type": "markdown",
   "id": "470494ba-7eb3-496d-9d83-d8b83a94d59b",
   "metadata": {},
   "source": [
    "The metric we will be using is Macro-F1 average.\n",
    "\n",
    "- **F1** is a metric used to balance the need for making sure our classifications for a category are both correct (precision) and represent as many of the actual cases of the category as possible (recall).\n",
    "- **Macro-F1** is the unweighted average of all F1 metrics for each class. We choose Macro F1 instead of a weighted average because we have an unbalanced dataset (Generated essays data are a small fraction of overall essays)\n",
    "\n",
    "\n",
    "Thus, we want to use a metric which favors both thorough and precise classifiers, and which also assigns equal importance to our smaller classes."
   ]
  },
  {
   "cell_type": "code",
   "execution_count": 15,
   "id": "e502c8d8-64f1-42d5-8885-74e4d7dccae1",
   "metadata": {
    "tags": []
   },
   "outputs": [],
   "source": [
    "from sklearn.model_selection import cross_val_score\n",
    "\n",
    "\n",
    "def cross_val_res(model, x, y, scoring=None, cv=10):\n",
    "    \"\"\"\n",
    "    Minor utility method, wraping cross_val_score.\n",
    "    \"\"\"\n",
    "    if scoring is None:\n",
    "        scoring = \"f1_macro\"\n",
    "    res = cross_val_score(model, x, y, cv=cv, scoring=scoring)\n",
    "    return res.mean(), res.std()"
   ]
  },
  {
   "cell_type": "markdown",
   "id": "8916b8b8-a7f5-4913-ab72-08bccaeee0f8",
   "metadata": {},
   "source": [
    "### Dummy Classifier"
   ]
  },
  {
   "cell_type": "markdown",
   "id": "28556888-ed28-4fa2-ab31-4408f5edabcd",
   "metadata": {},
   "source": [
    "We will first run a \"fake\" classifier which only guesses the majority category.\n",
    "\n",
    "This dummy model thus completely disregards the input features and serves as a useful baseline with which to compare the subsequent classifiers."
   ]
  },
  {
   "cell_type": "code",
   "execution_count": 16,
   "id": "18f8d6ca-c3af-4e0d-a808-60b5515bcb12",
   "metadata": {
    "tags": []
   },
   "outputs": [
    {
     "name": "stdout",
     "output_type": "stream",
     "text": [
      "Dummy Classifier mean macro F1-score 0.4738, std: 0.0011\n"
     ]
    }
   ],
   "source": [
    "from sklearn.metrics import classification_report\n",
    "from sklearn.model_selection import cross_val_score\n",
    "from sklearn.dummy import DummyClassifier\n",
    "\n",
    "\n",
    "majority_model = DummyClassifier(strategy=\"most_frequent\")\n",
    "res = cross_val_res(majority_model, x_train, y_train)\n",
    "print(f\"Dummy Classifier mean macro F1-score {res[0]:.4f}, std: {res[1]:.4f}\")"
   ]
  },
  {
   "cell_type": "markdown",
   "id": "e7735259-ac2f-44ef-abb2-edfb09d296de",
   "metadata": {},
   "source": [
    "### Naive Bayes"
   ]
  },
  {
   "cell_type": "markdown",
   "id": "82f69629-6178-4b26-9703-630c507babe7",
   "metadata": {},
   "source": [
    "Naive Bayes is a very cheap and easy-to-interpret classifier, which checks for the probability that each individual word in the text will belong in any language. We generally want to use the simplest model for the job, and so we start with this reliable model which has proven itself in many fields in the past.\n",
    "\n",
    "The `sklearn` library gives us access to many variations of Naive Bayes, each specialized in its own field. For this NLP task, we will be using `MultinomialNB`, which was suggested by [this blogpost](https://towardsdatascience.com/naive-bayes-classifiers-for-text-classification-be0d133d35ba)."
   ]
  },
  {
   "cell_type": "code",
   "execution_count": 17,
   "id": "3403adf6-3e64-4431-ac50-8f68df3a14c6",
   "metadata": {},
   "outputs": [
    {
     "name": "stdout",
     "output_type": "stream",
     "text": [
      "Naive Bayes mean macro F1-score 0.8325, std: 0.0810\n"
     ]
    }
   ],
   "source": [
    "from sklearn.naive_bayes import MultinomialNB\n",
    "\n",
    "\n",
    "# naive bayes needs dense arrays to work \n",
    "naive_x_train = x_train.toarray()\n",
    "naive_x_test = x_test.toarray()\n",
    "\n",
    "naive_model = MultinomialNB()\n",
    "res = cross_val_res(naive_model, naive_x_train, y_train)\n",
    "print(f\"Naive Bayes mean macro F1-score {res[0]:.4f}, std: {res[1]:.4f}\")"
   ]
  },
  {
   "cell_type": "code",
   "execution_count": 18,
   "id": "24694265-7406-4b8a-a2d1-cb8a98cf5f15",
   "metadata": {},
   "outputs": [
    {
     "name": "stdout",
     "output_type": "stream",
     "text": [
      "              precision    recall  f1-score   support\n",
      "\n",
      "           0       0.98      1.00      0.99       344\n",
      "           1       1.00      0.79      0.88        38\n",
      "\n",
      "    accuracy                           0.98       382\n",
      "   macro avg       0.99      0.89      0.94       382\n",
      "weighted avg       0.98      0.98      0.98       382\n",
      "\n"
     ]
    }
   ],
   "source": [
    "naive_model = MultinomialNB().fit(x_train, y_train)\n",
    "naive_res = naive_model.predict(x_test)\n",
    "print(classification_report(y_test, naive_res, zero_division=0))"
   ]
  },
  {
   "cell_type": "markdown",
   "id": "13d7e4a0-2623-46e1-9cbc-6ae28bb87568",
   "metadata": {},
   "source": [
    "### Logistic Regression"
   ]
  },
  {
   "cell_type": "markdown",
   "id": "44c15dbe-a7c6-40e5-a18e-ef52822c1b01",
   "metadata": {},
   "source": [
    "LogisticRegression despite its name is a linear classifier, meaning that it attempts to linearly separate the data into distinct categories. This interpretation does not apply well to a NLP task, but means that the classifier retains some very useful properties:\n",
    "\n",
    "- The solution we get is a global optimum, meaning that it's the best we can get with the provided data. This means no hyper-parameter tuning is necessary and we can use the classifier as-is.\n",
    "- It's a simple and very easy to compute classifier, since it solves a (mathematically simple) linear problem, albeit with some restrictions (technically those restrictions force it to use gradient descent, but the calculations are much easier than say, a neural network)"
   ]
  },
  {
   "cell_type": "code",
   "execution_count": 19,
   "id": "50250bf6-0adc-4bfe-b334-6374c29ebbb6",
   "metadata": {
    "tags": []
   },
   "outputs": [
    {
     "name": "stdout",
     "output_type": "stream",
     "text": [
      "Logistic Regression mean macro F1-score 0.9928, std: 0.0111\n"
     ]
    }
   ],
   "source": [
    "from sklearn.linear_model import LogisticRegression\n",
    "import warnings\n",
    "\n",
    "\n",
    "with warnings.catch_warnings():\n",
    "    # ignore warnings about deprecated methods in libraries\n",
    "    warnings.simplefilter(\"ignore\")\n",
    "\n",
    "    lr = LogisticRegression(max_iter=1000)\n",
    "    res = cross_val_res(lr, x_train, y_train)\n",
    "    print(f\"Logistic Regression mean macro F1-score {res[0]:.4f}, std: {res[1]:.4f}\")"
   ]
  },
  {
   "cell_type": "code",
   "execution_count": 20,
   "id": "c625833a-4843-4a2f-a73b-0c9fcb1bff9a",
   "metadata": {
    "tags": []
   },
   "outputs": [
    {
     "name": "stdout",
     "output_type": "stream",
     "text": [
      "              precision    recall  f1-score   support\n",
      "\n",
      "           0       1.00      1.00      1.00       344\n",
      "           1       1.00      0.97      0.99        38\n",
      "\n",
      "    accuracy                           1.00       382\n",
      "   macro avg       1.00      0.99      0.99       382\n",
      "weighted avg       1.00      1.00      1.00       382\n",
      "\n"
     ]
    }
   ],
   "source": [
    "with warnings.catch_warnings():\n",
    "    warnings.simplefilter(\"ignore\")\n",
    "    lr = LogisticRegression(max_iter=1000).fit(x_train, y_train)\n",
    "    lr_res = lr.predict(x_test)\n",
    "\n",
    "print(classification_report(y_test, lr_res, zero_division=0))"
   ]
  },
  {
   "cell_type": "markdown",
   "id": "d70ccc10-19c4-482e-b506-47b85a187d63",
   "metadata": {},
   "source": [
    "### Random Forest"
   ]
  },
  {
   "cell_type": "markdown",
   "id": "4d8c9d54-b472-4b37-8068-1d4579acadee",
   "metadata": {},
   "source": [
    "Random Forest is an ensemble algorithm, which means it uses many simpler algorithms which then \"vote\" on a final decision. It has proven to be a good classifier on complex tasks, it combats overfitting by design (essentially by utilizing random chance in its training phase) and is still fairly easy to interpret.\n",
    "\n",
    "The drawback is first and foremost computational, since we need to train many smaller classifiers, which may by themselves be computationally expensive (this is somewhat offset by the fact that the classifiers are indepednent and can be computed in parallel). Additionally, Random Forest is a non-parametric method which means that it is generally memory-intensive and may be slow to run on operational data. Finally, we also need to tune hyperparameters."
   ]
  },
  {
   "cell_type": "code",
   "execution_count": 21,
   "id": "242df209-18a9-4652-9863-31a8560a1d4d",
   "metadata": {},
   "outputs": [
    {
     "name": "stdout",
     "output_type": "stream",
     "text": [
      "Random Forest mean macro F1: 0.9925, std: 0.0061\n"
     ]
    }
   ],
   "source": [
    "from sklearn.ensemble import RandomForestClassifier\n",
    "\n",
    "\n",
    "forest_model = RandomForestClassifier(n_estimators=50,\n",
    "                                      criterion=\"entropy\")\n",
    "res = cross_val_res(forest_model, x_train, y_train, cv=5)\n",
    "print(f\"Random Forest mean macro F1: {res[0]:.4f}, std: {res[1]:.4f}\")"
   ]
  },
  {
   "cell_type": "code",
   "execution_count": 22,
   "id": "8d99837f-f70e-4484-b248-347a7909878e",
   "metadata": {},
   "outputs": [
    {
     "name": "stdout",
     "output_type": "stream",
     "text": [
      "              precision    recall  f1-score   support\n",
      "\n",
      "           0       1.00      1.00      1.00       344\n",
      "           1       1.00      0.97      0.99        38\n",
      "\n",
      "    accuracy                           1.00       382\n",
      "   macro avg       1.00      0.99      0.99       382\n",
      "weighted avg       1.00      1.00      1.00       382\n",
      "\n"
     ]
    }
   ],
   "source": [
    "forest_model = RandomForestClassifier(n_estimators=50, \n",
    "                                      criterion=\"entropy\").fit(x_train, y_train)\n",
    "forest_pred = forest_model.predict(x_test)\n",
    "print(classification_report(y_test, forest_pred, zero_division=0))"
   ]
  },
  {
   "cell_type": "markdown",
   "id": "87f4ffe4-87f9-4179-9f43-c2641b26f015",
   "metadata": {},
   "source": [
    "### Adaboost"
   ]
  },
  {
   "cell_type": "markdown",
   "id": "ca27a788-11b2-4509-8218-8e906f694a67",
   "metadata": {},
   "source": [
    "Adaboost is the logical conclusion of Random Forests, where each voter considers a very specific \"rule\" that needs to be followed. The next voter then considers the most important rule to distinguish between the categories for all the clases that the first could not reliably classify, and so on.\n",
    "\n",
    "This classifier is generally more compact and competent than a simple Random Forest, but is more computationally expensive during training because we cannot train it in parallel."
   ]
  },
  {
   "cell_type": "code",
   "execution_count": 23,
   "id": "2acb17ba-62b2-4ae1-a27c-c0793176747a",
   "metadata": {},
   "outputs": [
    {
     "name": "stdout",
     "output_type": "stream",
     "text": [
      "AdaBoost mean macro F1: 0.9901, std: 0.0092\n"
     ]
    }
   ],
   "source": [
    "from sklearn.ensemble import AdaBoostClassifier\n",
    "\n",
    "\n",
    "ada_model = AdaBoostClassifier(n_estimators=25)\n",
    "res = cross_val_res(ada_model, x_train, y_train, cv=3)\n",
    "print(f\"AdaBoost mean macro F1: {res[0]:.4f}, std: {res[1]:.4f}\")"
   ]
  },
  {
   "cell_type": "code",
   "execution_count": 24,
   "id": "ca9920f5-1d64-4fe4-ad7c-f7c2eaafa9f4",
   "metadata": {},
   "outputs": [
    {
     "name": "stdout",
     "output_type": "stream",
     "text": [
      "              precision    recall  f1-score   support\n",
      "\n",
      "           0       1.00      1.00      1.00       344\n",
      "           1       0.97      0.97      0.97        38\n",
      "\n",
      "    accuracy                           0.99       382\n",
      "   macro avg       0.99      0.99      0.99       382\n",
      "weighted avg       0.99      0.99      0.99       382\n",
      "\n"
     ]
    }
   ],
   "source": [
    "ada_model = AdaBoostClassifier(n_estimators=25).fit(x_train, y_train)\n",
    "ada_pred = ada_model.predict(x_test)\n",
    "print(classification_report(y_test, ada_pred, zero_division=0))"
   ]
  },
  {
   "cell_type": "code",
   "execution_count": 25,
   "id": "3d5b1c65-f16e-4c08-93c4-5eadae3e86de",
   "metadata": {},
   "outputs": [],
   "source": [
    "from sklearn.pipeline import make_pipeline\n",
    "from lime.lime_text import LimeTextExplainer\n",
    "\n",
    "\n",
    "best_model = forest_model\n",
    "best_pred = best_model.predict(x_test)\n",
    "c = make_pipeline(vectorizer, best_model)\n",
    "explainer = LimeTextExplainer(class_names=forest_model.classes_)"
   ]
  },
  {
   "cell_type": "code",
   "execution_count": 26,
   "id": "52309649-496d-4fef-b926-ad7b800b5ac0",
   "metadata": {},
   "outputs": [
    {
     "data": {
      "image/png": "[encoded data removed]",
      "text/plain": [
       "<Figure size 1000x400 with 2 Axes>"
      ]
     },
     "metadata": {},
     "output_type": "display_data"
    }
   ],
   "source": [
    "import matplotlib.pyplot as plt\n",
    "import textwrap\n",
    "\n",
    "\n",
    "# code for lime text and graph attributed to Ioannis Pavlopoulos\n",
    "fig, axes = plt.subplots(1, 2)\n",
    "fig.set_size_inches(10, 4)\n",
    "\n",
    "# explanation for (correct) human classification\n",
    "example_human = data_test[(data_test.generated == 0) & (best_pred == 0)].sample(1)\n",
    "exp_human = explainer.explain_instance(example_human.text.iloc[0] , c.predict_proba)\n",
    "exp_human_reversed = [(name, -value) for name, value in exp_human.as_list()]\n",
    "word_scores_human = pd.DataFrame(exp_human.as_list(), columns=[\"word\", \"xscore\"]) \n",
    "word_scores_human['color'] = word_scores_human.xscore.apply(lambda x: 'g' if x>0 else 'r')\n",
    "\n",
    "axes[0].barh(word_scores_human.word, word_scores_human.xscore, color=word_scores_human.color)\n",
    "axes[0].set_title(\"Human essay\")\n",
    "\n",
    "# explanation for generated classification\n",
    "example = data_test[(data_test.generated == 1) & (best_pred == 1)].sample(1)\n",
    "exp = explainer.explain_instance(example.text.iloc[0] , c.predict_proba)\n",
    "word_scores = pd.DataFrame(exp.as_list(), columns=[\"word\", \"xscore\"])\n",
    "word_scores['color'] = word_scores.xscore.apply(lambda x: 'g' if x>0 else 'r')\n",
    "\n",
    "axes[1].barh(word_scores.word, word_scores.xscore, color=word_scores.color)\n",
    "axes[1].set_title(\"Generated essay\")\n",
    "\n",
    "caption_text = \"Classifier attribution (LIME) per word for correctly classified human and generated essays. \"\\\n",
    "                \"Red (left) lines indicate the classifier leans towards the text being a human essay \"\\\n",
    "                \"because of the word's use, Green (right) lines indicate that it leans towards the text being LLM generated. \"\\\n",
    "                \"The length of the lines indicates the certaintly of the classifier towards the classification. \"\\\n",
    "                \"Note that this graph does not necessarily represent probability values for each word, this would \"\\\n",
    "                \"only be the case in a Naive Bayes classifier.\"\n",
    "\n",
    "caption = textwrap.fill(caption_text, width=150)\n",
    "fig.text(0, -0.25, caption)\n",
    "\n",
    "fig.suptitle(\"Classification attribution per word\")\n",
    "fig.text(0.5, -0.05, 'Attribution (red for human, green for generated)', ha='center')\n",
    "fig.tight_layout(h_pad=3, w_pad=3) #believe it or not this *is* different from pad=3\n",
    "plt.show()"
   ]
  },
  {
   "cell_type": "markdown",
   "id": "a39b7d3d-b5d7-4ea2-9a0c-d64b6719da05",
   "metadata": {},
   "source": [
    "## Text Similarity"
   ]
  },
  {
   "cell_type": "markdown",
   "id": "f3ff2564-317d-4331-aa16-c0558443f42d",
   "metadata": {},
   "source": [
    "https://www.newscatcherapi.com/blog/ultimate-guide-to-text-similarity-with-python"
   ]
  },
  {
   "cell_type": "code",
   "execution_count": 27,
   "id": "7b1b1322-51d1-4b4f-ac89-060a1dc11630",
   "metadata": {},
   "outputs": [
    {
     "name": "stdout",
     "output_type": "stream",
     "text": [
      "Downloading Word2Vec model...\n"
     ]
    }
   ],
   "source": [
    "print(\"Downloading Word2Vec model...\")"
   ]
  },
  {
   "cell_type": "code",
   "execution_count": 28,
   "id": "cbc533af-c6f9-4b3a-90ef-6e1a7ec19dd2",
   "metadata": {},
   "outputs": [],
   "source": [
    "%%capture\n",
    "!python -m spacy download en_core_web_md"
   ]
  },
  {
   "cell_type": "code",
   "execution_count": 29,
   "id": "e69cfc82-9eee-4e7a-b981-72df5f53f404",
   "metadata": {},
   "outputs": [
    {
     "name": "stdout",
     "output_type": "stream",
     "text": [
      "Model downloaded.\n"
     ]
    }
   ],
   "source": [
    "print(\"Model downloaded.\")"
   ]
  },
  {
   "cell_type": "code",
   "execution_count": 30,
   "id": "3c91f5b4-0dab-4bc2-a7d6-5888e01979b9",
   "metadata": {},
   "outputs": [
    {
     "name": "stdout",
     "output_type": "stream",
     "text": [
      "Loading Word2Vec model...\n",
      "Model loaded.\n"
     ]
    }
   ],
   "source": [
    "import spacy\n",
    "\n",
    "\n",
    "print(\"Loading Word2Vec model...\")\n",
    "word2vec = spacy.load('en_core_web_md')\n",
    "print(\"Model loaded.\")"
   ]
  },
  {
   "cell_type": "code",
   "execution_count": 31,
   "id": "42902432-f942-481f-ba32-073bc1484b09",
   "metadata": {},
   "outputs": [
    {
     "name": "stdout",
     "output_type": "stream",
     "text": [
      "Computing embeddings for generated essays...\n"
     ]
    },
    {
     "name": "stderr",
     "output_type": "stream",
     "text": [
      "100%|████████████████████████████████████████████████████████████████████████████████| 152/152 [00:10<00:00, 14.43it/s]\n"
     ]
    },
    {
     "name": "stdout",
     "output_type": "stream",
     "text": [
      "Done.\n",
      "Computing embeddings for human essays...\n"
     ]
    },
    {
     "name": "stderr",
     "output_type": "stream",
     "text": [
      "100%|██████████████████████████████████████████████████████████████████████████████| 1375/1375 [01:31<00:00, 15.02it/s]"
     ]
    },
    {
     "name": "stdout",
     "output_type": "stream",
     "text": [
      "Done.\n"
     ]
    },
    {
     "name": "stderr",
     "output_type": "stream",
     "text": [
      "\n"
     ]
    }
   ],
   "source": [
    "from tqdm import tqdm\n",
    "\n",
    "\n",
    "generated_df = df[df.generated == 1]\n",
    "human_df = df[df.generated == 0]\n",
    "\n",
    "generated_docs = []\n",
    "human_docs = []\n",
    "\n",
    "print(\"Computing embeddings for generated essays...\")\n",
    "for text in tqdm(generated_df.text):\n",
    "    generated_docs.append(word2vec(text))\n",
    "print(\"Done.\")\n",
    "\n",
    "print(\"Computing embeddings for human essays...\")\n",
    "for text in tqdm(human_df.text):\n",
    "    human_docs.append(word2vec(text))\n",
    "print(\"Done.\")"
   ]
  },
  {
   "cell_type": "code",
   "execution_count": 32,
   "id": "7ebd0a39-0c74-421a-8d5a-22171c190b65",
   "metadata": {},
   "outputs": [
    {
     "name": "stdout",
     "output_type": "stream",
     "text": [
      "Calculating similarity scores...\n"
     ]
    },
    {
     "name": "stderr",
     "output_type": "stream",
     "text": [
      "100%|████████████████████████████████████████████████████████████████████████████████| 152/152 [00:04<00:00, 34.03it/s]\n"
     ]
    }
   ],
   "source": [
    "mean_similarity = []\n",
    "max_similarity = []\n",
    "\n",
    "print(\"Calculating similarity scores...\")\n",
    "for gen_doc in tqdm(generated_docs):\n",
    "    similarities = []\n",
    "    for human_doc in human_docs:\n",
    "      similarities.append(gen_doc.similarity(human_doc))\n",
    "        \n",
    "    mean_similarity.append(np.mean(similarities))\n",
    "    max_similarity.append(np.max(similarities))"
   ]
  },
  {
   "cell_type": "code",
   "execution_count": 33,
   "id": "93eafdda-9be0-4f89-9f60-a0941a83c4f3",
   "metadata": {},
   "outputs": [
    {
     "data": {
      "text/html": [
       "<div>\n",
       "<style scoped>\n",
       "    .dataframe tbody tr th:only-of-type {\n",
       "        vertical-align: middle;\n",
       "    }\n",
       "\n",
       "    .dataframe tbody tr th {\n",
       "        vertical-align: top;\n",
       "    }\n",
       "\n",
       "    .dataframe thead th {\n",
       "        text-align: right;\n",
       "    }\n",
       "</style>\n",
       "<table border=\"1\" class=\"dataframe\">\n",
       "  <thead>\n",
       "    <tr style=\"text-align: right;\">\n",
       "      <th></th>\n",
       "      <th>id</th>\n",
       "      <th>text</th>\n",
       "      <th>mean</th>\n",
       "      <th>max</th>\n",
       "    </tr>\n",
       "  </thead>\n",
       "  <tbody>\n",
       "    <tr>\n",
       "      <th>0</th>\n",
       "      <td>1974691434640</td>\n",
       "      <td>recent years , growing global movement limit c...</td>\n",
       "      <td>0.873956</td>\n",
       "      <td>0.972159</td>\n",
       "    </tr>\n",
       "    <tr>\n",
       "      <th>1</th>\n",
       "      <td>1974691438512</td>\n",
       "      <td>advantages limiting car usage evident various ...</td>\n",
       "      <td>0.878144</td>\n",
       "      <td>0.972569</td>\n",
       "    </tr>\n",
       "    <tr>\n",
       "      <th>2</th>\n",
       "      <td>1974691442128</td>\n",
       "      <td>global movement towards limiting car usage gai...</td>\n",
       "      <td>0.880153</td>\n",
       "      <td>0.975580</td>\n",
       "    </tr>\n",
       "    <tr>\n",
       "      <th>3</th>\n",
       "      <td>1974689124528</td>\n",
       "      <td>advantages limiting car usage becoming increas...</td>\n",
       "      <td>0.884278</td>\n",
       "      <td>0.977396</td>\n",
       "    </tr>\n",
       "    <tr>\n",
       "      <th>4</th>\n",
       "      <td>1974691445968</td>\n",
       "      <td>advantages limiting car usage manifold , exten...</td>\n",
       "      <td>0.876774</td>\n",
       "      <td>0.972363</td>\n",
       "    </tr>\n",
       "    <tr>\n",
       "      <th>...</th>\n",
       "      <td>...</td>\n",
       "      <td>...</td>\n",
       "      <td>...</td>\n",
       "      <td>...</td>\n",
       "    </tr>\n",
       "    <tr>\n",
       "      <th>62</th>\n",
       "      <td>1974656425472</td>\n",
       "      <td>debate surrounding electoral college versus di...</td>\n",
       "      <td>0.881351</td>\n",
       "      <td>0.975078</td>\n",
       "    </tr>\n",
       "    <tr>\n",
       "      <th>63</th>\n",
       "      <td>1974689772112</td>\n",
       "      <td>dear senator , writing express support retenti...</td>\n",
       "      <td>0.883998</td>\n",
       "      <td>0.977757</td>\n",
       "    </tr>\n",
       "    <tr>\n",
       "      <th>704</th>\n",
       "      <td>82131f68</td>\n",
       "      <td>essay analyze , discuss prove one reason favor...</td>\n",
       "      <td>0.869092</td>\n",
       "      <td>0.985460</td>\n",
       "    </tr>\n",
       "    <tr>\n",
       "      <th>740</th>\n",
       "      <td>86fe4f18</td>\n",
       "      <td>strongly believe electoral college remain way ...</td>\n",
       "      <td>0.818765</td>\n",
       "      <td>0.973601</td>\n",
       "    </tr>\n",
       "    <tr>\n",
       "      <th>1262</th>\n",
       "      <td>eafb8a56</td>\n",
       "      <td>limiting car use causes pollution , increases ...</td>\n",
       "      <td>0.904556</td>\n",
       "      <td>0.986500</td>\n",
       "    </tr>\n",
       "  </tbody>\n",
       "</table>\n",
       "<p>152 rows × 4 columns</p>\n",
       "</div>"
      ],
      "text/plain": [
       "                 id                                               text  \\\n",
       "0     1974691434640  recent years , growing global movement limit c...   \n",
       "1     1974691438512  advantages limiting car usage evident various ...   \n",
       "2     1974691442128  global movement towards limiting car usage gai...   \n",
       "3     1974689124528  advantages limiting car usage becoming increas...   \n",
       "4     1974691445968  advantages limiting car usage manifold , exten...   \n",
       "...             ...                                                ...   \n",
       "62    1974656425472  debate surrounding electoral college versus di...   \n",
       "63    1974689772112  dear senator , writing express support retenti...   \n",
       "704        82131f68  essay analyze , discuss prove one reason favor...   \n",
       "740        86fe4f18  strongly believe electoral college remain way ...   \n",
       "1262       eafb8a56  limiting car use causes pollution , increases ...   \n",
       "\n",
       "          mean       max  \n",
       "0     0.873956  0.972159  \n",
       "1     0.878144  0.972569  \n",
       "2     0.880153  0.975580  \n",
       "3     0.884278  0.977396  \n",
       "4     0.876774  0.972363  \n",
       "...        ...       ...  \n",
       "62    0.881351  0.975078  \n",
       "63    0.883998  0.977757  \n",
       "704   0.869092  0.985460  \n",
       "740   0.818765  0.973601  \n",
       "1262  0.904556  0.986500  \n",
       "\n",
       "[152 rows x 4 columns]"
      ]
     },
     "execution_count": 33,
     "metadata": {},
     "output_type": "execute_result"
    }
   ],
   "source": [
    "similarity_df = pd.DataFrame({\"id\": generated_df.id,\n",
    "                              \"text\": generated_df.text,\n",
    "                              \"mean\": mean_similarity,\n",
    "                              \"max\": max_similarity})\n",
    "similarity_df"
   ]
  },
  {
   "cell_type": "code",
   "execution_count": 34,
   "id": "6085c8bb-b704-4c2b-9706-dd71ccb7431c",
   "metadata": {},
   "outputs": [
    {
     "data": {
      "image/png": "[encoded data removed]",
      "text/plain": [
       "<Figure size 640x480 with 1 Axes>"
      ]
     },
     "metadata": {},
     "output_type": "display_data"
    }
   ],
   "source": [
    "import seaborn as sns\n",
    "import textwrap\n",
    "\n",
    "\n",
    "sns.histplot(similarity_df, palette={\"mean\": \"blue\", \"max\": \"green\"})\n",
    "\n",
    "caption_text = \"\"\"Mean and maximum cosine similarity between each generated essay compared to \n",
    "all human essays. The similarities were computed using Word2Vec. Note that most generated texts\n",
    "are very similar on average with human essays (mean similarity), and almost all have at \n",
    "least one almost identical human counterpart (maximum similarity).\n",
    "\"\"\"\n",
    "caption = textwrap.fill(caption_text, width=100)\n",
    "plt.figtext(-0.1, -0.2, caption)\n",
    "\n",
    "plt.xlabel(\"Cosine Similarity\")\n",
    "plt.ylabel(\"Number of Genereated Essays\")\n",
    "plt.title(\"Cosine similarity between generated and human essays\")\n",
    "plt.show()"
   ]
  },
  {
   "cell_type": "code",
   "execution_count": 35,
   "id": "b6e4f84c-d1fe-4c52-a72f-c7ef49615638",
   "metadata": {},
   "outputs": [
    {
     "data": {
      "text/plain": [
       "(152,)"
      ]
     },
     "execution_count": 35,
     "metadata": {},
     "output_type": "execute_result"
    }
   ],
   "source": [
    "np.unique(similarity_df.id).shape"
   ]
  },
  {
   "cell_type": "code",
   "execution_count": 41,
   "id": "f49e2b8e-00f5-4d6a-9ad3-cec9e9ee91a2",
   "metadata": {},
   "outputs": [
    {
     "name": "stdout",
     "output_type": "stream",
     "text": [
      "Starting Leave One Out validation for generated texts...\n"
     ]
    },
    {
     "name": "stderr",
     "output_type": "stream",
     "text": [
      "100%|████████████████████████████████████████████████████████████████████████████████| 152/152 [02:03<00:00,  1.23it/s]\n"
     ]
    }
   ],
   "source": [
    "probs = []\n",
    "\n",
    "print(\"Starting Leave One Out validation for generated texts...\")\n",
    "for essay_id in tqdm(similarity_df.id):\n",
    "    essay_train = df[~df.id.eq(essay_id)] \n",
    "    essay_test = df[df.id.eq(essay_id)]\n",
    "    assert essay_test.shape[0] == 1, essay_id\n",
    "    model = RandomForestClassifier(n_estimators=25)\n",
    "    model = model.fit(vectorizer.transform(essay_train.text), essay_train.generated)\n",
    "    probs.append(model.predict_proba(vectorizer.transform(essay_test)))"
   ]
  },
  {
   "cell_type": "code",
   "execution_count": 47,
   "id": "5b1236e2-f355-4946-ab73-66e6e58adf5f",
   "metadata": {},
   "outputs": [
    {
     "data": {
      "text/html": [
       "<div>\n",
       "<style scoped>\n",
       "    .dataframe tbody tr th:only-of-type {\n",
       "        vertical-align: middle;\n",
       "    }\n",
       "\n",
       "    .dataframe tbody tr th {\n",
       "        vertical-align: top;\n",
       "    }\n",
       "\n",
       "    .dataframe thead th {\n",
       "        text-align: right;\n",
       "    }\n",
       "</style>\n",
       "<table border=\"1\" class=\"dataframe\">\n",
       "  <thead>\n",
       "    <tr style=\"text-align: right;\">\n",
       "      <th></th>\n",
       "      <th>id</th>\n",
       "      <th>text</th>\n",
       "      <th>mean</th>\n",
       "      <th>max</th>\n",
       "      <th>probs</th>\n",
       "    </tr>\n",
       "  </thead>\n",
       "  <tbody>\n",
       "    <tr>\n",
       "      <th>0</th>\n",
       "      <td>1974691434640</td>\n",
       "      <td>recent years , growing global movement limit c...</td>\n",
       "      <td>0.873956</td>\n",
       "      <td>0.972159</td>\n",
       "      <td>1.00</td>\n",
       "    </tr>\n",
       "    <tr>\n",
       "      <th>1</th>\n",
       "      <td>1974691438512</td>\n",
       "      <td>advantages limiting car usage evident various ...</td>\n",
       "      <td>0.878144</td>\n",
       "      <td>0.972569</td>\n",
       "      <td>1.00</td>\n",
       "    </tr>\n",
       "    <tr>\n",
       "      <th>2</th>\n",
       "      <td>1974691442128</td>\n",
       "      <td>global movement towards limiting car usage gai...</td>\n",
       "      <td>0.880153</td>\n",
       "      <td>0.975580</td>\n",
       "      <td>0.96</td>\n",
       "    </tr>\n",
       "    <tr>\n",
       "      <th>3</th>\n",
       "      <td>1974689124528</td>\n",
       "      <td>advantages limiting car usage becoming increas...</td>\n",
       "      <td>0.884278</td>\n",
       "      <td>0.977396</td>\n",
       "      <td>1.00</td>\n",
       "    </tr>\n",
       "    <tr>\n",
       "      <th>4</th>\n",
       "      <td>1974691445968</td>\n",
       "      <td>advantages limiting car usage manifold , exten...</td>\n",
       "      <td>0.876774</td>\n",
       "      <td>0.972363</td>\n",
       "      <td>1.00</td>\n",
       "    </tr>\n",
       "    <tr>\n",
       "      <th>...</th>\n",
       "      <td>...</td>\n",
       "      <td>...</td>\n",
       "      <td>...</td>\n",
       "      <td>...</td>\n",
       "      <td>...</td>\n",
       "    </tr>\n",
       "    <tr>\n",
       "      <th>62</th>\n",
       "      <td>1974656425472</td>\n",
       "      <td>debate surrounding electoral college versus di...</td>\n",
       "      <td>0.881351</td>\n",
       "      <td>0.975078</td>\n",
       "      <td>1.00</td>\n",
       "    </tr>\n",
       "    <tr>\n",
       "      <th>63</th>\n",
       "      <td>1974689772112</td>\n",
       "      <td>dear senator , writing express support retenti...</td>\n",
       "      <td>0.883998</td>\n",
       "      <td>0.977757</td>\n",
       "      <td>1.00</td>\n",
       "    </tr>\n",
       "    <tr>\n",
       "      <th>704</th>\n",
       "      <td>82131f68</td>\n",
       "      <td>essay analyze , discuss prove one reason favor...</td>\n",
       "      <td>0.869092</td>\n",
       "      <td>0.985460</td>\n",
       "      <td>1.00</td>\n",
       "    </tr>\n",
       "    <tr>\n",
       "      <th>740</th>\n",
       "      <td>86fe4f18</td>\n",
       "      <td>strongly believe electoral college remain way ...</td>\n",
       "      <td>0.818765</td>\n",
       "      <td>0.973601</td>\n",
       "      <td>1.00</td>\n",
       "    </tr>\n",
       "    <tr>\n",
       "      <th>1262</th>\n",
       "      <td>eafb8a56</td>\n",
       "      <td>limiting car use causes pollution , increases ...</td>\n",
       "      <td>0.904556</td>\n",
       "      <td>0.986500</td>\n",
       "      <td>1.00</td>\n",
       "    </tr>\n",
       "  </tbody>\n",
       "</table>\n",
       "<p>152 rows × 5 columns</p>\n",
       "</div>"
      ],
      "text/plain": [
       "                 id                                               text  \\\n",
       "0     1974691434640  recent years , growing global movement limit c...   \n",
       "1     1974691438512  advantages limiting car usage evident various ...   \n",
       "2     1974691442128  global movement towards limiting car usage gai...   \n",
       "3     1974689124528  advantages limiting car usage becoming increas...   \n",
       "4     1974691445968  advantages limiting car usage manifold , exten...   \n",
       "...             ...                                                ...   \n",
       "62    1974656425472  debate surrounding electoral college versus di...   \n",
       "63    1974689772112  dear senator , writing express support retenti...   \n",
       "704        82131f68  essay analyze , discuss prove one reason favor...   \n",
       "740        86fe4f18  strongly believe electoral college remain way ...   \n",
       "1262       eafb8a56  limiting car use causes pollution , increases ...   \n",
       "\n",
       "          mean       max  probs  \n",
       "0     0.873956  0.972159   1.00  \n",
       "1     0.878144  0.972569   1.00  \n",
       "2     0.880153  0.975580   0.96  \n",
       "3     0.884278  0.977396   1.00  \n",
       "4     0.876774  0.972363   1.00  \n",
       "...        ...       ...    ...  \n",
       "62    0.881351  0.975078   1.00  \n",
       "63    0.883998  0.977757   1.00  \n",
       "704   0.869092  0.985460   1.00  \n",
       "740   0.818765  0.973601   1.00  \n",
       "1262  0.904556  0.986500   1.00  \n",
       "\n",
       "[152 rows x 5 columns]"
      ]
     },
     "execution_count": 47,
     "metadata": {},
     "output_type": "execute_result"
    }
   ],
   "source": [
    "similarity_df[\"probs\"] = [x[0][0] for x in probs]\n",
    "similarity_df"
   ]
  },
  {
   "cell_type": "code",
   "execution_count": null,
   "id": "b1fc083d-b74d-4b0e-81b5-ad8a4ca1f5b0",
   "metadata": {},
   "outputs": [],
   "source": [
    "similarity_df[\"probs\"] = probs\n",
    "similarity_df"
   ]
  },
  {
   "cell_type": "markdown",
   "id": "ca41cab2-46b0-425d-b214-4215f69ee450",
   "metadata": {},
   "source": [
    "## Impact of data size"
   ]
  },
  {
   "cell_type": "code",
   "execution_count": null,
   "id": "979a1551-ca47-4c9c-a383-002cbd775ac0",
   "metadata": {},
   "outputs": [],
   "source": [
    "len_splits = np.arange(start=0.1, stop=1.1, step=0.1)\n",
    "splits = [data_train.sample(int(np.ceil(data_train.shape[0]*i))) for i in len_splits]\n",
    "\n",
    "sizes = [len(split) for split in splits]\n",
    "sizes"
   ]
  },
  {
   "cell_type": "code",
   "execution_count": null,
   "id": "8815a661-a71c-4e7e-9bd4-85d936cdf63c",
   "metadata": {},
   "outputs": [],
   "source": [
    "from sklearn.metrics import f1_score\n",
    "\n",
    "\n",
    "train_scores = []\n",
    "test_scores = []\n",
    "\n",
    "for split in splits:\n",
    "    x_train = vectorizer.transform(split.text)\n",
    "    y_train = split.generated\n",
    "    model = RandomForestClassifier(n_estimators=50).fit(x_train, y_train)\n",
    "\n",
    "    train_preds = model.predict(x_train)\n",
    "    train_scores.append(f1_score(y_train, train_preds, average=\"macro\"))\n",
    "    test_preds = model.predict(x_test)\n",
    "    test_scores.append(f1_score(y_test, test_preds, average=\"macro\"))\n",
    "\n",
    "train_scores = np.array(train_scores)\n",
    "test_scores = np.array(test_scores)"
   ]
  },
  {
   "cell_type": "code",
   "execution_count": null,
   "id": "34129f3a-afcd-4197-9df4-e3f14243f510",
   "metadata": {},
   "outputs": [],
   "source": [
    "sns.regplot(y=train_scores, \n",
    "            x=sizes, \n",
    "            label=\"train\", \n",
    "            color=\"blue\", \n",
    "            scatter_kws={\"s\": 30})\n",
    "sns.regplot(y=test_scores,\n",
    "            x=sizes,\n",
    "            label=\"test\",\n",
    "            color=\"orange\",\n",
    "            marker=\"*\", \n",
    "            scatter_kws={\"s\": 100})\n",
    "\n",
    "plt.title(\"Dataset size impact on LLM detection\")\n",
    "plt.ylabel(\"Macro F1 score\")\n",
    "plt.xlabel(\"Dataset size\")\n",
    "#plt.ylim(None, 1.1)\n",
    "\n",
    "# TODO: come back to this once done with data and classifiers\n",
    "caption_text = \"Impact of dataset size on LLM detection. The classifier used is the \"\\\n",
    "\"Random Forest Classifier with 15 simple decision trees. The green line indicates \"\\\n",
    "\"the expected classifier test score on unseen dataset sizes. This line follows the \"\\\n",
    "\"linear assumption which rarely applies to these kinds of problems. Shaded area represents \"\\\n",
    "\"the 95% Confidence Interval.\"\n",
    "caption = textwrap.fill(caption_text, width=100)\n",
    "plt.figtext(-0.1, -0.15, caption)\n",
    "\n",
    "plt.legend()\n",
    "plt.show()"
   ]
  },
  {
   "cell_type": "code",
   "execution_count": null,
   "id": "eba3c417-339b-4034-8b3a-9e6259ab6c8b",
   "metadata": {},
   "outputs": [],
   "source": [
    "plt.xlim(0, 2500)\n",
    "\n",
    "sns.regplot(y=train_scores, \n",
    "            x=sizes, \n",
    "            label=\"train\", \n",
    "            color=\"blue\", \n",
    "            scatter_kws={\"s\": 30},\n",
    "            truncate=False)\n",
    "sns.regplot(y=test_scores,\n",
    "            x=sizes,\n",
    "            label=\"test\",\n",
    "            color=\"orange\",\n",
    "            marker=\"*\", \n",
    "            scatter_kws={\"s\": 100},\n",
    "            truncate=False)\n",
    "\n",
    "plt.title(\"Dataset size impact on LLM detection\")\n",
    "plt.ylabel(\"Macro F1 score\")\n",
    "plt.xlabel(\"Dataset size\")\n",
    "\n",
    "caption = textwrap.fill(caption_text, width=100)\n",
    "plt.figtext(-0.1, -0.15, caption)\n",
    "\n",
    "plt.legend()\n",
    "plt.show()"
   ]
  },
  {
   "cell_type": "markdown",
   "id": "d017098b-fbb8-4cfe-8956-4f6fb876e84f",
   "metadata": {},
   "source": [
    "## Clustering-based augmentation"
   ]
  },
  {
   "cell_type": "markdown",
   "id": "b42e8abf-593f-4a39-8bf5-333ef241c778",
   "metadata": {},
   "source": [
    "https://builtin.com/data-science/elbow-method"
   ]
  },
  {
   "cell_type": "code",
   "execution_count": null,
   "id": "da316721-1497-4731-9bdc-5e7452d179e0",
   "metadata": {},
   "outputs": [],
   "source": [
    "from sklearn.cluster import KMeans\n",
    "from yellowbrick.cluster import KElbowVisualizer\n",
    "\n",
    "generated_train_df = data_train[data_train.generated == 1].copy()\n",
    "generated_train = vectorizer.transform(generated_train_df.text).toarray()\n",
    "\n",
    "\n",
    "# there is an internal memory leak here, don't worry about it\n",
    "with warnings.catch_warnings():\n",
    "    warnings.simplefilter(\"ignore\")\n",
    "    km = KMeans(random_state=42, n_init=5)\n",
    "    visualizer = KElbowVisualizer(km, k=(2,10))\n",
    "    visualizer.fit(generated_train)        \n",
    "    \n",
    "visualizer.show()        "
   ]
  },
  {
   "cell_type": "code",
   "execution_count": null,
   "id": "51d562c6-68a5-4306-997b-4453164c9379",
   "metadata": {},
   "outputs": [],
   "source": [
    "from yellowbrick.cluster import SilhouetteVisualizer\n",
    "\n",
    "\n",
    "fig, axes = plt.subplots(3, 2, figsize=(15,8))\n",
    "\n",
    "for i in range(2, 8):\n",
    "    # there is an internal memory leak here, don't worry about it\n",
    "    with warnings.catch_warnings():\n",
    "        warnings.simplefilter(\"ignore\")\n",
    "        km = KMeans(n_clusters=i, init='k-means++', n_init=5, random_state=42)\n",
    "        \n",
    "        q, mod = divmod(i, 2)\n",
    "        ax = axes[q-1][mod]\n",
    "        ax.set_title(f\"K={i}\")\n",
    "        \n",
    "        visualizer = SilhouetteVisualizer(km, colors='yellowbrick', ax=ax)\n",
    "        visualizer.fit(generated_train) \n",
    "\n",
    "fig.suptitle(\"Silhouette Plot of KMeans Clustering for various K\")\n",
    "fig.tight_layout(h_pad=3, w_pad=3)\n",
    "#visualizer.show() "
   ]
  },
  {
   "cell_type": "code",
   "execution_count": null,
   "id": "7979f19b-a2cc-4f69-b4ef-98e01063892a",
   "metadata": {},
   "outputs": [],
   "source": [
    "km = KMeans(n_clusters=2, init=\"k-means++\", random_state=42, n_init=10)\n",
    "preds = km.fit_predict(generated_train)\n",
    "generated_train_df[\"cluster\"] = preds"
   ]
  },
  {
   "cell_type": "code",
   "execution_count": null,
   "id": "35566d1a-29b0-4896-b239-9614bdd804ff",
   "metadata": {},
   "outputs": [],
   "source": [
    "ax = generated_train_df.cluster.value_counts().sort_index().plot(\n",
    "    kind='bar', \n",
    "    color=['blue', 'green', 'red', 'purple'])\n",
    "ax.set_title(\"Number of generated essays per cluster\")\n",
    "ax.set_xlabel(\"Cluster\")\n",
    "ax.set_ylabel(\"Number of essays\")\n",
    "\n",
    "plt.show()"
   ]
  },
  {
   "cell_type": "code",
   "execution_count": null,
   "id": "832373b7-20f8-4624-b259-e25de1c274e4",
   "metadata": {},
   "outputs": [],
   "source": [
    "for cluster in np.unique(generated_train_df.cluster):\n",
    "    print(\"=\" * 100)\n",
    "    print(f\"Cluster {cluster}\")\n",
    "    for text in generated_train_df[generated_train_df.cluster==1].head(3).text:\n",
    "        print(\"\\t\\t\", text)"
   ]
  },
  {
   "cell_type": "code",
   "execution_count": null,
   "id": "9fca3cd2-56af-4bb0-92cc-ecf0f0d4fb4a",
   "metadata": {},
   "outputs": [],
   "source": [
    "feature_names = generated_train.get_feature_names()\n",
    "df_tfidf = pd.DataFrame(X_tfidf, columns = feature_names)\n",
    "\n",
    "idx = X_tfidf.argsort(axis=1)"
   ]
  }
 ],
 "metadata": {
  "kernelspec": {
   "display_name": "Python 3 (ipykernel)",
   "language": "python",
   "name": "python3"
  },
  "language_info": {
   "codemirror_mode": {
    "name": "ipython",
    "version": 3
   },
   "file_extension": ".py",
   "mimetype": "text/x-python",
   "name": "python",
   "nbconvert_exporter": "python",
   "pygments_lexer": "ipython3",
   "version": "3.11.5"
  }
 },
 "nbformat": 4,
 "nbformat_minor": 5
}
