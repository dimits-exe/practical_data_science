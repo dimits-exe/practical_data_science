{
 "cells": [
  {
   "cell_type": "markdown",
   "id": "4c3adb1b-0f13-4bd5-8dde-e62b4afe50d5",
   "metadata": {},
   "source": [
    "# LLM detection\n",
    "## Assignment #3\n",
    "###  Practical Data Science course, MSc in Data Science (2023/2024)\n",
    "\n",
    "---\n",
    "\n",
    "> Dimitris Tsirmpas <br>\n",
    "> MSc in Data Science f3352315 <br>\n",
    "> Athens University of Economics and Business"
   ]
  },
  {
   "cell_type": "markdown",
   "id": "d9438e4c-51bd-4571-8fa6-f149e8da7d53",
   "metadata": {},
   "source": [
    "## Data Augmentation"
   ]
  },
  {
   "cell_type": "markdown",
   "id": "f9ea8502-d773-4151-990e-73ebd811fe94",
   "metadata": {},
   "source": [
    "We begin by reviewing the data provided to us by the competition:"
   ]
  },
  {
   "cell_type": "code",
   "execution_count": 1,
   "id": "fa2fed8d-eb1a-47fe-93bf-45181b8d4e80",
   "metadata": {},
   "outputs": [],
   "source": [
    "import pandas as pd\n",
    "import numpy as np\n",
    "from tqdm.auto import tqdm\n",
    "import os\n",
    "\n",
    "\n",
    "DATA_PATH = os.path.join(\"..\", \"data\")"
   ]
  },
  {
   "cell_type": "code",
   "execution_count": 2,
   "id": "bd9591a6-74da-423d-9e85-eb0252be86fb",
   "metadata": {},
   "outputs": [
    {
     "data": {
      "text/html": [
       "<div>\n",
       "<style scoped>\n",
       "    .dataframe tbody tr th:only-of-type {\n",
       "        vertical-align: middle;\n",
       "    }\n",
       "\n",
       "    .dataframe tbody tr th {\n",
       "        vertical-align: top;\n",
       "    }\n",
       "\n",
       "    .dataframe thead th {\n",
       "        text-align: right;\n",
       "    }\n",
       "</style>\n",
       "<table border=\"1\" class=\"dataframe\">\n",
       "  <thead>\n",
       "    <tr style=\"text-align: right;\">\n",
       "      <th></th>\n",
       "      <th>id</th>\n",
       "      <th>prompt_id</th>\n",
       "      <th>text</th>\n",
       "      <th>generated</th>\n",
       "    </tr>\n",
       "  </thead>\n",
       "  <tbody>\n",
       "    <tr>\n",
       "      <th>0</th>\n",
       "      <td>0059830c</td>\n",
       "      <td>0</td>\n",
       "      <td>Cars. Cars have been around since they became ...</td>\n",
       "      <td>0</td>\n",
       "    </tr>\n",
       "    <tr>\n",
       "      <th>1</th>\n",
       "      <td>005db917</td>\n",
       "      <td>0</td>\n",
       "      <td>Transportation is a large necessity in most co...</td>\n",
       "      <td>0</td>\n",
       "    </tr>\n",
       "    <tr>\n",
       "      <th>2</th>\n",
       "      <td>008f63e3</td>\n",
       "      <td>0</td>\n",
       "      <td>\"America's love affair with it's vehicles seem...</td>\n",
       "      <td>0</td>\n",
       "    </tr>\n",
       "    <tr>\n",
       "      <th>3</th>\n",
       "      <td>00940276</td>\n",
       "      <td>0</td>\n",
       "      <td>How often do you ride in a car? Do you drive a...</td>\n",
       "      <td>0</td>\n",
       "    </tr>\n",
       "    <tr>\n",
       "      <th>4</th>\n",
       "      <td>00c39458</td>\n",
       "      <td>0</td>\n",
       "      <td>Cars are a wonderful thing. They are perhaps o...</td>\n",
       "      <td>0</td>\n",
       "    </tr>\n",
       "    <tr>\n",
       "      <th>...</th>\n",
       "      <td>...</td>\n",
       "      <td>...</td>\n",
       "      <td>...</td>\n",
       "      <td>...</td>\n",
       "    </tr>\n",
       "    <tr>\n",
       "      <th>1373</th>\n",
       "      <td>fe6ff9a5</td>\n",
       "      <td>1</td>\n",
       "      <td>There has been a fuss about the Elector Colleg...</td>\n",
       "      <td>0</td>\n",
       "    </tr>\n",
       "    <tr>\n",
       "      <th>1374</th>\n",
       "      <td>ff669174</td>\n",
       "      <td>0</td>\n",
       "      <td>Limiting car usage has many advantages. Such a...</td>\n",
       "      <td>0</td>\n",
       "    </tr>\n",
       "    <tr>\n",
       "      <th>1375</th>\n",
       "      <td>ffa247e0</td>\n",
       "      <td>0</td>\n",
       "      <td>There's a new trend that has been developing f...</td>\n",
       "      <td>0</td>\n",
       "    </tr>\n",
       "    <tr>\n",
       "      <th>1376</th>\n",
       "      <td>ffc237e9</td>\n",
       "      <td>0</td>\n",
       "      <td>As we all know cars are a big part of our soci...</td>\n",
       "      <td>0</td>\n",
       "    </tr>\n",
       "    <tr>\n",
       "      <th>1377</th>\n",
       "      <td>ffe1ca0d</td>\n",
       "      <td>0</td>\n",
       "      <td>Cars have been around since the 1800's and hav...</td>\n",
       "      <td>0</td>\n",
       "    </tr>\n",
       "  </tbody>\n",
       "</table>\n",
       "<p>1378 rows × 4 columns</p>\n",
       "</div>"
      ],
      "text/plain": [
       "            id  prompt_id                                               text  \\\n",
       "0     0059830c          0  Cars. Cars have been around since they became ...   \n",
       "1     005db917          0  Transportation is a large necessity in most co...   \n",
       "2     008f63e3          0  \"America's love affair with it's vehicles seem...   \n",
       "3     00940276          0  How often do you ride in a car? Do you drive a...   \n",
       "4     00c39458          0  Cars are a wonderful thing. They are perhaps o...   \n",
       "...        ...        ...                                                ...   \n",
       "1373  fe6ff9a5          1  There has been a fuss about the Elector Colleg...   \n",
       "1374  ff669174          0  Limiting car usage has many advantages. Such a...   \n",
       "1375  ffa247e0          0  There's a new trend that has been developing f...   \n",
       "1376  ffc237e9          0  As we all know cars are a big part of our soci...   \n",
       "1377  ffe1ca0d          0  Cars have been around since the 1800's and hav...   \n",
       "\n",
       "      generated  \n",
       "0             0  \n",
       "1             0  \n",
       "2             0  \n",
       "3             0  \n",
       "4             0  \n",
       "...         ...  \n",
       "1373          0  \n",
       "1374          0  \n",
       "1375          0  \n",
       "1376          0  \n",
       "1377          0  \n",
       "\n",
       "[1378 rows x 4 columns]"
      ]
     },
     "execution_count": 2,
     "metadata": {},
     "output_type": "execute_result"
    }
   ],
   "source": [
    "train_df = pd.read_csv(os.path.join(DATA_PATH, \"train_essays.csv\"))\n",
    "train_df"
   ]
  },
  {
   "cell_type": "markdown",
   "id": "fca02819-4443-44c9-8e14-3e775e1d2f52",
   "metadata": {},
   "source": [
    "Out of these we have been provided with only 3 generated essays:"
   ]
  },
  {
   "cell_type": "code",
   "execution_count": 3,
   "id": "4a2d9454-fb82-4ffa-94e7-038190caca1f",
   "metadata": {},
   "outputs": [
    {
     "data": {
      "text/html": [
       "<div>\n",
       "<style scoped>\n",
       "    .dataframe tbody tr th:only-of-type {\n",
       "        vertical-align: middle;\n",
       "    }\n",
       "\n",
       "    .dataframe tbody tr th {\n",
       "        vertical-align: top;\n",
       "    }\n",
       "\n",
       "    .dataframe thead th {\n",
       "        text-align: right;\n",
       "    }\n",
       "</style>\n",
       "<table border=\"1\" class=\"dataframe\">\n",
       "  <thead>\n",
       "    <tr style=\"text-align: right;\">\n",
       "      <th></th>\n",
       "      <th>id</th>\n",
       "      <th>prompt_id</th>\n",
       "      <th>text</th>\n",
       "      <th>generated</th>\n",
       "    </tr>\n",
       "  </thead>\n",
       "  <tbody>\n",
       "    <tr>\n",
       "      <th>704</th>\n",
       "      <td>82131f68</td>\n",
       "      <td>1</td>\n",
       "      <td>This essay will analyze, discuss and prove one...</td>\n",
       "      <td>1</td>\n",
       "    </tr>\n",
       "    <tr>\n",
       "      <th>740</th>\n",
       "      <td>86fe4f18</td>\n",
       "      <td>1</td>\n",
       "      <td>I strongly believe that the Electoral College ...</td>\n",
       "      <td>1</td>\n",
       "    </tr>\n",
       "    <tr>\n",
       "      <th>1262</th>\n",
       "      <td>eafb8a56</td>\n",
       "      <td>0</td>\n",
       "      <td>Limiting car use causes pollution, increases c...</td>\n",
       "      <td>1</td>\n",
       "    </tr>\n",
       "  </tbody>\n",
       "</table>\n",
       "</div>"
      ],
      "text/plain": [
       "            id  prompt_id                                               text  \\\n",
       "704   82131f68          1  This essay will analyze, discuss and prove one...   \n",
       "740   86fe4f18          1  I strongly believe that the Electoral College ...   \n",
       "1262  eafb8a56          0  Limiting car use causes pollution, increases c...   \n",
       "\n",
       "      generated  \n",
       "704           1  \n",
       "740           1  \n",
       "1262          1  "
      ]
     },
     "execution_count": 3,
     "metadata": {},
     "output_type": "execute_result"
    }
   ],
   "source": [
    "train_df[train_df.generated == 1]"
   ]
  },
  {
   "cell_type": "markdown",
   "id": "cfabc614-00e6-433b-bbf7-8e4c8eb13797",
   "metadata": {},
   "source": [
    "### Prompting\n",
    "\n",
    "Unless we procure more data the task is impossible. We will thus use prompting to produce our own generated dataset.\n",
    "\n",
    "For this task we will use ChatGPT. The prompts were manually given using the official website, and exported the responses in MarkDown form using the very convinient [ChatGPT Conv Down](https://addons.mozilla.org/en-US/firefox/addon/chatgpt-convdown/) Firefox addon. \n",
    "\n",
    "We used three prompting strategies to procure our generated dataset:\n",
    "* The standard prompt (used for the human essays) without sources\n",
    "* The standard prompt using all the sources, with a role prompt to persuade the model into writing in a more simplistic tone mirroring the tone used in the human essays\n",
    "* The standard prompt with a role prompt, using a different subset of the sources each time \n",
    "* The standard prompt with a role prompt and a different subset of the human essays instead of sources, in order to \"mimick\" the tone and style of these essays\n",
    "\n",
    "This procedure was repeated for both types of prompts provided in the dataset (car-free cities and the Electoral College). The conversation context was periodically refreshed in order to avoid the model repeating its own generated essays. Following this procedure we hope to obtain a thorough dataset being as close as possible to the actual operational dataset.\n",
    "\n",
    "Details on the prompts themselves can be found in `report.pdf`."
   ]
  },
  {
   "cell_type": "markdown",
   "id": "563372dd-10f9-4e2a-ada5-f891ee7fe282",
   "metadata": {},
   "source": [
    "### Dataset Caveats\n",
    "\n",
    "Unfortunately, even following the above strategy does not yield as good results as we would hope for. The biggest isse by far is that ChatGPT's output is formulaic and carries a distinct tone which is most of the time distinct from the students'. \n",
    "\n",
    "Role prompting and including human essays as input slightly alleviates the problem but does not eradicate it. Trying to explictly set the tone of the generated essays leads to a complete collapse in tone, with outputs as *artistic* as the one below:\n",
    "\n",
    ">Dear [Senator's Name],\n",
    ">\n",
    ">Hope this letter finds you chill. I wanted to throw my two cents into the mix about the whole Electoral College debate. It's like a hot topic, right? Some say we should keep it, others are all about switching to the popular vote. Here's where I'm at.\n",
    ">\n",
    ">So, keeping the Electoral College – it's got its quirks, but it's not all bad. I get it, voting for electors instead of the actual president seems a bit weird. But, like, it's been working, hasn't it? It's like a system our folks set up ages ago, and yeah, maybe it's not perfect, but it's got a rhythm.\" [...]\n"
   ]
  },
  {
   "cell_type": "code",
   "execution_count": 4,
   "id": "08c9bda4-c928-4be4-8e53-5965949a6d24",
   "metadata": {},
   "outputs": [],
   "source": [
    "import os\n",
    "\n",
    "\n",
    "OUTPUT_DIR = \"..\\output\"\n",
    "\n",
    "def csv_output(df: pd.DataFrame, filename: str) -> None:\n",
    "    \"\"\"\n",
    "    Save a pandas DataFrame to a CSV file.\n",
    "\n",
    "    :param df: The DataFrame to be saved.\n",
    "    :type df: pd.DataFrame\n",
    "\n",
    "    :param filename: The name of the CSV file.\n",
    "    :type filename: str\n",
    "\n",
    "    :return: This function does not return anything.\n",
    "    :rtype: None\n",
    "    \"\"\"\n",
    "    file = os.path.join(OUTPUT_DIR, filename)\n",
    "    df.to_csv(file, encoding = 'utf8')\n",
    "    print(f\"File saved successfully as {file}\")\n",
    "\n",
    "\n",
    "def save_plot(filename: str) -> None:\n",
    "    \"\"\"\n",
    "    Saves a plot to the output directory.\n",
    "\n",
    "    :param filename: The name of the file for the Figure.\n",
    "    :type filename: str\n",
    "    \"\"\"\n",
    "    path = os.path.join(OUTPUT_DIR, filename)\n",
    "    plt.savefig(path, bbox_inches=\"tight\")\n",
    "    print(f\"Figured saved to \" + path)"
   ]
  },
  {
   "cell_type": "markdown",
   "id": "8ea9863f-eb8d-4c76-97c8-64939f7b324a",
   "metadata": {},
   "source": [
    "### Importing the generated dataset"
   ]
  },
  {
   "cell_type": "code",
   "execution_count": 5,
   "id": "4af26a4e-793d-45f9-bab1-a5eac1ce2bfd",
   "metadata": {},
   "outputs": [],
   "source": [
    "def read_gpt(file: str) -> pd.Series:\n",
    "    \"\"\"\n",
    "    Read and extract ChatGPT responses from a file.\n",
    "\n",
    "    :param file: A string specifying the name of the file to be read.\n",
    "    :type file: str\n",
    "\n",
    "    :return: A pandas Series containing ChatGPT responses extracted from the file.\n",
    "    :rtype: pd.Series\n",
    "    \"\"\"\n",
    "    with open(os.path.join(DATA_PATH, file), encoding=\"utf8\") as f:\n",
    "        contents = f.read()\n",
    "    responses = list(filter(lambda x: x.startswith(\" ChatGPT\"), \n",
    "                        contents.split(\"##\")))\n",
    "    clear_responses = [res.replace(\"ChatGPT\", \"\").replace(\"~\", \"\").strip() \n",
    "                            for res in responses]\n",
    "    return pd.Series(clear_responses)\n",
    "\n",
    "\n",
    "def create_gpt_dataset(input_file_name: str, prompt_id: int):\n",
    "    data_text = read_gpt(\"chatgpt_cars.md\")\n",
    "    df = pd.DataFrame({\"id\": [str(id(text)) for text in data_text],\n",
    "                             \"text\": data_text, \n",
    "                             \"prompt_id\": np.full_like(data_text, prompt_id),\n",
    "                             \"generated\": np.ones_like(data_text)})\n",
    "    df.prompt_id = df.prompt_id.astype(int)\n",
    "    df.generated = df.generated.astype(int)\n",
    "    return df\n",
    "    \n",
    "\n",
    "envir_df = create_gpt_dataset(\"chatgpt_cars.md\", prompt_id=0)\n",
    "elect_df = create_gpt_dataset(\"chatgpt_electoral.md\", prompt_id=1)"
   ]
  },
  {
   "cell_type": "markdown",
   "id": "36faeb47-6ac3-4dd8-9c43-edafc1c52b73",
   "metadata": {},
   "source": [
    "We will export the entire dataset, but will only use a subset of it in training. This is because of the low quality data encountered in the first prompts, where the generated texts do not match the tone or the contents of the human essays."
   ]
  },
  {
   "cell_type": "code",
   "execution_count": 6,
   "id": "4f34d5f6-73c8-4763-b479-9cb5b77694e7",
   "metadata": {},
   "outputs": [
    {
     "name": "stdout",
     "output_type": "stream",
     "text": [
      "File saved successfully as ..\\output\\augmentation.csv\n"
     ]
    }
   ],
   "source": [
    "augmentation_df = pd.concat([envir_df, elect_df])\n",
    "csv_output(augmentation_df, \"augmentation.csv\")"
   ]
  },
  {
   "cell_type": "code",
   "execution_count": 7,
   "id": "3b79b8d3-d8ca-49c5-9cea-b46c4d5fa8e1",
   "metadata": {},
   "outputs": [
    {
     "data": {
      "text/html": [
       "<div>\n",
       "<style scoped>\n",
       "    .dataframe tbody tr th:only-of-type {\n",
       "        vertical-align: middle;\n",
       "    }\n",
       "\n",
       "    .dataframe tbody tr th {\n",
       "        vertical-align: top;\n",
       "    }\n",
       "\n",
       "    .dataframe thead th {\n",
       "        text-align: right;\n",
       "    }\n",
       "</style>\n",
       "<table border=\"1\" class=\"dataframe\">\n",
       "  <thead>\n",
       "    <tr style=\"text-align: right;\">\n",
       "      <th></th>\n",
       "      <th>id</th>\n",
       "      <th>text</th>\n",
       "      <th>prompt_id</th>\n",
       "      <th>generated</th>\n",
       "    </tr>\n",
       "  </thead>\n",
       "  <tbody>\n",
       "    <tr>\n",
       "      <th>80</th>\n",
       "      <td>1787905080304</td>\n",
       "      <td>Limiting car usage offers numerous advantages ...</td>\n",
       "      <td>0</td>\n",
       "      <td>1</td>\n",
       "    </tr>\n",
       "    <tr>\n",
       "      <th>81</th>\n",
       "      <td>1787906645760</td>\n",
       "      <td>Limiting car usage presents a myriad of advant...</td>\n",
       "      <td>0</td>\n",
       "      <td>1</td>\n",
       "    </tr>\n",
       "    <tr>\n",
       "      <th>82</th>\n",
       "      <td>1787906824160</td>\n",
       "      <td>Limiting car usage offers a range of advantage...</td>\n",
       "      <td>0</td>\n",
       "      <td>1</td>\n",
       "    </tr>\n",
       "    <tr>\n",
       "      <th>83</th>\n",
       "      <td>1787906828688</td>\n",
       "      <td>Limiting car usage brings forth numerous advan...</td>\n",
       "      <td>0</td>\n",
       "      <td>1</td>\n",
       "    </tr>\n",
       "    <tr>\n",
       "      <th>84</th>\n",
       "      <td>1787908575984</td>\n",
       "      <td>Limiting car usage presents a myriad of advant...</td>\n",
       "      <td>0</td>\n",
       "      <td>1</td>\n",
       "    </tr>\n",
       "    <tr>\n",
       "      <th>...</th>\n",
       "      <td>...</td>\n",
       "      <td>...</td>\n",
       "      <td>...</td>\n",
       "      <td>...</td>\n",
       "    </tr>\n",
       "    <tr>\n",
       "      <th>1373</th>\n",
       "      <td>fe6ff9a5</td>\n",
       "      <td>There has been a fuss about the Elector Colleg...</td>\n",
       "      <td>1</td>\n",
       "      <td>0</td>\n",
       "    </tr>\n",
       "    <tr>\n",
       "      <th>1374</th>\n",
       "      <td>ff669174</td>\n",
       "      <td>Limiting car usage has many advantages. Such a...</td>\n",
       "      <td>0</td>\n",
       "      <td>0</td>\n",
       "    </tr>\n",
       "    <tr>\n",
       "      <th>1375</th>\n",
       "      <td>ffa247e0</td>\n",
       "      <td>There's a new trend that has been developing f...</td>\n",
       "      <td>0</td>\n",
       "      <td>0</td>\n",
       "    </tr>\n",
       "    <tr>\n",
       "      <th>1376</th>\n",
       "      <td>ffc237e9</td>\n",
       "      <td>As we all know cars are a big part of our soci...</td>\n",
       "      <td>0</td>\n",
       "      <td>0</td>\n",
       "    </tr>\n",
       "    <tr>\n",
       "      <th>1377</th>\n",
       "      <td>ffe1ca0d</td>\n",
       "      <td>Cars have been around since the 1800's and hav...</td>\n",
       "      <td>0</td>\n",
       "      <td>0</td>\n",
       "    </tr>\n",
       "  </tbody>\n",
       "</table>\n",
       "<p>1524 rows × 4 columns</p>\n",
       "</div>"
      ],
      "text/plain": [
       "                 id                                               text  \\\n",
       "80    1787905080304  Limiting car usage offers numerous advantages ...   \n",
       "81    1787906645760  Limiting car usage presents a myriad of advant...   \n",
       "82    1787906824160  Limiting car usage offers a range of advantage...   \n",
       "83    1787906828688  Limiting car usage brings forth numerous advan...   \n",
       "84    1787908575984  Limiting car usage presents a myriad of advant...   \n",
       "...             ...                                                ...   \n",
       "1373       fe6ff9a5  There has been a fuss about the Elector Colleg...   \n",
       "1374       ff669174  Limiting car usage has many advantages. Such a...   \n",
       "1375       ffa247e0  There's a new trend that has been developing f...   \n",
       "1376       ffc237e9  As we all know cars are a big part of our soci...   \n",
       "1377       ffe1ca0d  Cars have been around since the 1800's and hav...   \n",
       "\n",
       "      prompt_id  generated  \n",
       "80            0          1  \n",
       "81            0          1  \n",
       "82            0          1  \n",
       "83            0          1  \n",
       "84            0          1  \n",
       "...         ...        ...  \n",
       "1373          1          0  \n",
       "1374          0          0  \n",
       "1375          0          0  \n",
       "1376          0          0  \n",
       "1377          0          0  \n",
       "\n",
       "[1524 rows x 4 columns]"
      ]
     },
     "execution_count": 7,
     "metadata": {},
     "output_type": "execute_result"
    }
   ],
   "source": [
    "# discard most low-quality datapoints\n",
    "df = pd.concat([envir_df[80:], elect_df[80:], train_df])\n",
    "df"
   ]
  },
  {
   "cell_type": "markdown",
   "id": "4874ff29-7b45-4d50-bb8e-bc7804edb9bd",
   "metadata": {},
   "source": [
    "### Preprocessing\n",
    "\n",
    "We execute the following preprocessing steps:\n",
    "* Remove all placeholder tags such as [Your Name], and which are exclusively used by ChatGPT\n",
    "* Turn all text to lowercase\n",
    "* Remove stopwords"
   ]
  },
  {
   "cell_type": "code",
   "execution_count": 8,
   "id": "257e9a2a-0e07-4dd9-82b9-4484c7f4bbc9",
   "metadata": {},
   "outputs": [
    {
     "data": {
      "text/plain": [
       "\"Dear Florida State Senator, Although many could argue that the Electoral College is a fair system of deciding the president, far too many people consider it nondemocratic and inefficient for it it continue being our way of electing our leader. A new system of election must be created to make up for the pitfalls that are inevitable in the Electoral College. A country that is supposed to be a democracy does not have the voting system that such a proud democracy deserves.\\n\\nDefenders of the College may say that the possibility of a tie is very low or that the electors chosen are confirmed not to betray the wants of the voters, but just because the possibility is low does not mean you can simply allow the flaws in the voting system to exist. A small hole in a fabric can only grow bigger, and the same goes for our electoral college. If we can't repair or replace the fabric that is our Electoral College, soon there will be problems too big for us to deal with in our current state. The electoral voters may keep the public in mind for now, but there have already been cases where electoral voters put their own wants ahead of the public.\\n\\nOne thing that the Electoral College does not promote is the power in the hands of the people. Although people can vote for whatever candidate they want, the elector is the real deciding hand in the process of picking our president. If one wanted to, an elector can completely disregard the decision of the voters and choose who they want. Considering the ratio of electors in some states to people, it seems completely nondemocratic for the votes of some to be more important than the wants of the common people. Some start to feel that they shouldn't vote because their one vote wouldn't have the power to change anything, and wouldn't even ensure the election of the president they want. Another thing that lowers the morale is the absence of candidates in states that can't be won very easily. If a candidate is pretty sure he can't win over a state, he won't visit it because it wouldn't be worth his time. He also wil prioritize large states over small ones because they have more electoral votes. All of these can make a state or person feel as if the election isn't really in their hands, and when people feel like their vote doesn't matter, they don't vote.\\n\\nBesides the power it takes away from the common man, some could say that the system itself is very inefficient compared to what it could be. Even though it has a very low possibility, the fact is that a tie is possible due to the electoral college having an even number of votes. It would then go to the House of Representatives, who might not even have the want of the people in mind. Since most of the time Congress has a party that makes up a majority of it, it would be very unfair to allow them to pick the president. It's also possible that even if a majority of the people vote for a president, the electoral votes elect the other candidate instead, like what happened to Al Gore in 2000. An election like this just has too many holes and pitfalls to be efficient. The holes need to be repaired before we can actually use this as our primary way to select a president, or else we're setting ourselves up to have problems in the future.\\n\\nThe Electoral College may be functional, but is largely inefficient and is not in the best interest of the common people. The vote for a candidate is not even in the hands in the people, but rather a minority of chosen electors. In a country that prides itself on the power the people have, and the control they have on how their country is run, the people have surprisingly less influence than you would think. We as a people need to speak up against the overrated system that is the Electoral College, and develop a system that fits the needs of a true democracy like America should be.\""
      ]
     },
     "execution_count": 8,
     "metadata": {},
     "output_type": "execute_result"
    }
   ],
   "source": [
    "# sample text\n",
    "df.text.loc[df.text.apply(lambda x: x.startswith(\"Dear\"))].iloc[3]"
   ]
  },
  {
   "cell_type": "code",
   "execution_count": 9,
   "id": "95fd8f8c-177a-48ef-9e20-7db15245b617",
   "metadata": {},
   "outputs": [],
   "source": [
    "import re\n",
    "import nltk\n",
    "from nltk.corpus import stopwords\n",
    "from nltk.tokenize import word_tokenize\n",
    "from collections.abc import Iterable\n",
    "\n",
    "\n",
    "def remove_stopwords(words: str, stop_words: Iterable[str]) -> str:\n",
    "    word_tokens = word_tokenize(words)\n",
    "    # converts the words in word_tokens to lower case and then checks whether \n",
    "    #they are present in stop_words or not\n",
    "    filtered_sentence = [w for w in word_tokens if not w.lower() in stop_words]\n",
    "    #with no lower case conversion\n",
    "    filtered_sentence = []\n",
    "     \n",
    "    for w in word_tokens:\n",
    "        if w not in stop_words:\n",
    "            filtered_sentence.append(w)\n",
    "    return \" \".join(filtered_sentence)\n",
    "\n",
    "\n",
    "def preprocess(text: pd.Series) -> pd.Series:\n",
    "    bracket_regex = r\"\\[.*?\\]\"\n",
    "\n",
    "    text = text.apply(lambda x: re.sub(bracket_regex, \"\", x))\n",
    "    text = text.apply(lambda x: x.lower())\n",
    "\n",
    "    stop_words = set(stopwords.words('english'))\n",
    "    text = text.apply(lambda x: remove_stopwords(x, stop_words))\n",
    "    \n",
    "    return text"
   ]
  },
  {
   "cell_type": "markdown",
   "id": "8780d038-34f9-4f95-b6c2-3e87a8efd3a0",
   "metadata": {},
   "source": [
    "The resulting text resembles the following:"
   ]
  },
  {
   "cell_type": "code",
   "execution_count": 10,
   "id": "53e17fa4-e301-4ac7-aca9-de358987817e",
   "metadata": {},
   "outputs": [
    {
     "data": {
      "text/plain": [
       "\"dear state senator , believe abolish electoral college leave popular vote . electoral college abolished unfair , poses threat u.s constitution . electoral college unfair takes away democratic way society founding fathers set . united states america leave people vote people united states vote someone get run country electoral college decided differently called democracy . example 2000 election al gore gorge w. bush , people united states voted al gore , due electoral college bush election . passage indefensible electoral college says `` 60 % voters would prefer direct election kind . '' tell ? half usa would prefer people vote instead ! furthermore , believe due away electoral college poses threat u.s constitution . say mean threat citizens usa . people united states thought vote president ? majority voters vote someone opponent wins democracy ? also article indefensible electoral college says `` oh state sends two slates electors congress ? happened hawaii 1960. luckily , vice president richard nixon , presiding senate , validated opponent 's electors . '' imagin happens someone notice ? double slaters bound vote candidate easy state win candidate . electoral college nothing problems . conclution , electoral college abolished unfair , poses threat u.s constitution . make conclution based mr .\""
      ]
     },
     "execution_count": 10,
     "metadata": {},
     "output_type": "execute_result"
    }
   ],
   "source": [
    "df.text = preprocess(df.text)\n",
    "df.text.loc[df.text.apply(lambda x: x.startswith(\"dear\"))].iloc[3]"
   ]
  },
  {
   "cell_type": "code",
   "execution_count": 11,
   "id": "d126d4c0-2dba-49fd-b367-8984362f9a27",
   "metadata": {},
   "outputs": [
    {
     "name": "stdout",
     "output_type": "stream",
     "text": [
      "Number of generated essays in the dataset: 149\n"
     ]
    }
   ],
   "source": [
    "print(f\"Number of generated essays in the dataset: {(df.generated == 1).sum()}\")"
   ]
  },
  {
   "cell_type": "code",
   "execution_count": 12,
   "id": "8f3514aa-5559-4436-9993-185b1116bbc2",
   "metadata": {},
   "outputs": [
    {
     "data": {
      "text/plain": [
       "False"
      ]
     },
     "execution_count": 12,
     "metadata": {},
     "output_type": "execute_result"
    }
   ],
   "source": [
    "# check for null values\n",
    "df.isnull().values.any()"
   ]
  },
  {
   "cell_type": "markdown",
   "id": "fcf101a9-53f9-4ee4-b65c-6f77f5c15f09",
   "metadata": {},
   "source": [
    "We also may need to convert the dataframe's types."
   ]
  },
  {
   "cell_type": "markdown",
   "id": "35ec3a81-9076-454a-a436-a9f3f2f603d3",
   "metadata": {},
   "source": [
    "### More augmentation?\n",
    "\n",
    "Another idea would be to use other standard NLP augmentation techniques such as randomly deleting/inserting words, purposefully inserting typographical mistakes in the text or even [replacing words with close synonyms](https://www.kaggle.com/code/rohitsingh9990/data-augmentation-by-synonym-replacement). However, all of these strategies would ultimately hurt the quality of our dataset, since typos and specific words are very valuable tools in LLM detection."
   ]
  },
  {
   "cell_type": "markdown",
   "id": "124c4a3e-9ced-4036-a0b9-b2ad60fb2f74",
   "metadata": {},
   "source": [
    "## Classifiers"
   ]
  },
  {
   "cell_type": "code",
   "execution_count": 13,
   "id": "a7d35e8d-cfca-4a88-bede-9e9cfb2dd123",
   "metadata": {
    "scrolled": true
   },
   "outputs": [
    {
     "name": "stdout",
     "output_type": "stream",
     "text": [
      "Downloading Word2Vec model...\n"
     ]
    }
   ],
   "source": [
    "print(\"Downloading Word2Vec model...\")"
   ]
  },
  {
   "cell_type": "code",
   "execution_count": 14,
   "id": "696ab0a1-1b8d-4080-b599-6f9031313e3f",
   "metadata": {},
   "outputs": [],
   "source": [
    "%%capture\n",
    "!python -m spacy download en_core_web_md"
   ]
  },
  {
   "cell_type": "code",
   "execution_count": 15,
   "id": "d1b95c89-0d9d-40f6-9484-a9378562278f",
   "metadata": {},
   "outputs": [
    {
     "name": "stdout",
     "output_type": "stream",
     "text": [
      "Model downloaded.\n"
     ]
    }
   ],
   "source": [
    "print(\"Model downloaded.\")"
   ]
  },
  {
   "cell_type": "code",
   "execution_count": 16,
   "id": "9246e340-ac9c-47f2-aca3-99b17c59f62c",
   "metadata": {},
   "outputs": [
    {
     "name": "stdout",
     "output_type": "stream",
     "text": [
      "Loading Word2Vec model...\n",
      "Model loaded.\n"
     ]
    }
   ],
   "source": [
    "import spacy\n",
    "\n",
    "\n",
    "print(\"Loading Word2Vec model...\")\n",
    "word2vec = spacy.load('en_core_web_md')\n",
    "print(\"Model loaded.\")"
   ]
  },
  {
   "cell_type": "code",
   "execution_count": 17,
   "id": "8fa7372c-5ef2-42a4-b129-3f933a004cc2",
   "metadata": {},
   "outputs": [
    {
     "name": "stdout",
     "output_type": "stream",
     "text": [
      "Computing embeddings...\n"
     ]
    },
    {
     "data": {
      "application/vnd.jupyter.widget-view+json": {
       "model_id": "0772f1e43e4c4070b46c5f22c5767d1e",
       "version_major": 2,
       "version_minor": 0
      },
      "text/plain": [
       "  0%|          | 0/1524 [00:00<?, ?it/s]"
      ]
     },
     "metadata": {},
     "output_type": "display_data"
    },
    {
     "data": {
      "text/html": [
       "<div>\n",
       "<style scoped>\n",
       "    .dataframe tbody tr th:only-of-type {\n",
       "        vertical-align: middle;\n",
       "    }\n",
       "\n",
       "    .dataframe tbody tr th {\n",
       "        vertical-align: top;\n",
       "    }\n",
       "\n",
       "    .dataframe thead th {\n",
       "        text-align: right;\n",
       "    }\n",
       "</style>\n",
       "<table border=\"1\" class=\"dataframe\">\n",
       "  <thead>\n",
       "    <tr style=\"text-align: right;\">\n",
       "      <th></th>\n",
       "      <th>id</th>\n",
       "      <th>text</th>\n",
       "      <th>prompt_id</th>\n",
       "      <th>generated</th>\n",
       "      <th>embedding</th>\n",
       "    </tr>\n",
       "  </thead>\n",
       "  <tbody>\n",
       "    <tr>\n",
       "      <th>80</th>\n",
       "      <td>1787905080304</td>\n",
       "      <td>limiting car usage offers numerous advantages ...</td>\n",
       "      <td>0</td>\n",
       "      <td>1</td>\n",
       "      <td>[-0.98624474, -0.038121544, -1.8818331, 0.1376...</td>\n",
       "    </tr>\n",
       "    <tr>\n",
       "      <th>81</th>\n",
       "      <td>1787906645760</td>\n",
       "      <td>limiting car usage presents myriad advantages ...</td>\n",
       "      <td>0</td>\n",
       "      <td>1</td>\n",
       "      <td>[-1.1210637, -0.14010453, -1.875791, 0.4314957...</td>\n",
       "    </tr>\n",
       "    <tr>\n",
       "      <th>82</th>\n",
       "      <td>1787906824160</td>\n",
       "      <td>limiting car usage offers range advantages ext...</td>\n",
       "      <td>0</td>\n",
       "      <td>1</td>\n",
       "      <td>[-0.9631841, -0.092236586, -1.8918346, 0.15222...</td>\n",
       "    </tr>\n",
       "    <tr>\n",
       "      <th>83</th>\n",
       "      <td>1787906828688</td>\n",
       "      <td>limiting car usage brings forth numerous advan...</td>\n",
       "      <td>0</td>\n",
       "      <td>1</td>\n",
       "      <td>[-0.94708604, -0.26262596, -1.7073458, 0.11121...</td>\n",
       "    </tr>\n",
       "    <tr>\n",
       "      <th>84</th>\n",
       "      <td>1787908575984</td>\n",
       "      <td>limiting car usage presents myriad advantages ...</td>\n",
       "      <td>0</td>\n",
       "      <td>1</td>\n",
       "      <td>[-1.113946, -0.19865415, -1.9179273, 0.2551637...</td>\n",
       "    </tr>\n",
       "    <tr>\n",
       "      <th>...</th>\n",
       "      <td>...</td>\n",
       "      <td>...</td>\n",
       "      <td>...</td>\n",
       "      <td>...</td>\n",
       "      <td>...</td>\n",
       "    </tr>\n",
       "    <tr>\n",
       "      <th>1373</th>\n",
       "      <td>fe6ff9a5</td>\n",
       "      <td>fuss elector college . many people get confuse...</td>\n",
       "      <td>1</td>\n",
       "      <td>0</td>\n",
       "      <td>[-1.4767352, 0.04409365, -2.265938, 0.2277243,...</td>\n",
       "    </tr>\n",
       "    <tr>\n",
       "      <th>1374</th>\n",
       "      <td>ff669174</td>\n",
       "      <td>limiting car usage many advantages . putting l...</td>\n",
       "      <td>0</td>\n",
       "      <td>0</td>\n",
       "      <td>[-0.20308205, 0.864372, -3.5353804, 0.25371215...</td>\n",
       "    </tr>\n",
       "    <tr>\n",
       "      <th>1375</th>\n",
       "      <td>ffa247e0</td>\n",
       "      <td>'s new trend developing years , soon full thro...</td>\n",
       "      <td>0</td>\n",
       "      <td>0</td>\n",
       "      <td>[-0.80689734, 0.0152280945, -2.0881786, -0.199...</td>\n",
       "    </tr>\n",
       "    <tr>\n",
       "      <th>1376</th>\n",
       "      <td>ffc237e9</td>\n",
       "      <td>know cars big part society today . however car...</td>\n",
       "      <td>0</td>\n",
       "      <td>0</td>\n",
       "      <td>[-0.65920925, 0.18932514, -2.4064806, -0.80102...</td>\n",
       "    </tr>\n",
       "    <tr>\n",
       "      <th>1377</th>\n",
       "      <td>ffe1ca0d</td>\n",
       "      <td>cars around since 1800 's popular ever since ....</td>\n",
       "      <td>0</td>\n",
       "      <td>0</td>\n",
       "      <td>[-0.37164244, 0.2070003, -2.5946207, -0.715533...</td>\n",
       "    </tr>\n",
       "  </tbody>\n",
       "</table>\n",
       "<p>1524 rows × 5 columns</p>\n",
       "</div>"
      ],
      "text/plain": [
       "                 id                                               text  \\\n",
       "80    1787905080304  limiting car usage offers numerous advantages ...   \n",
       "81    1787906645760  limiting car usage presents myriad advantages ...   \n",
       "82    1787906824160  limiting car usage offers range advantages ext...   \n",
       "83    1787906828688  limiting car usage brings forth numerous advan...   \n",
       "84    1787908575984  limiting car usage presents myriad advantages ...   \n",
       "...             ...                                                ...   \n",
       "1373       fe6ff9a5  fuss elector college . many people get confuse...   \n",
       "1374       ff669174  limiting car usage many advantages . putting l...   \n",
       "1375       ffa247e0  's new trend developing years , soon full thro...   \n",
       "1376       ffc237e9  know cars big part society today . however car...   \n",
       "1377       ffe1ca0d  cars around since 1800 's popular ever since ....   \n",
       "\n",
       "      prompt_id  generated                                          embedding  \n",
       "80            0          1  [-0.98624474, -0.038121544, -1.8818331, 0.1376...  \n",
       "81            0          1  [-1.1210637, -0.14010453, -1.875791, 0.4314957...  \n",
       "82            0          1  [-0.9631841, -0.092236586, -1.8918346, 0.15222...  \n",
       "83            0          1  [-0.94708604, -0.26262596, -1.7073458, 0.11121...  \n",
       "84            0          1  [-1.113946, -0.19865415, -1.9179273, 0.2551637...  \n",
       "...         ...        ...                                                ...  \n",
       "1373          1          0  [-1.4767352, 0.04409365, -2.265938, 0.2277243,...  \n",
       "1374          0          0  [-0.20308205, 0.864372, -3.5353804, 0.25371215...  \n",
       "1375          0          0  [-0.80689734, 0.0152280945, -2.0881786, -0.199...  \n",
       "1376          0          0  [-0.65920925, 0.18932514, -2.4064806, -0.80102...  \n",
       "1377          0          0  [-0.37164244, 0.2070003, -2.5946207, -0.715533...  \n",
       "\n",
       "[1524 rows x 5 columns]"
      ]
     },
     "execution_count": 17,
     "metadata": {},
     "output_type": "execute_result"
    }
   ],
   "source": [
    "def compute_embeddings(text: Iterable[str]) -> list[str]:\n",
    "    embeddings = []\n",
    "    \n",
    "    print(\"Computing embeddings...\")\n",
    "    for text in tqdm(text):\n",
    "        embeddings.append(word2vec(text).vector)\n",
    "        \n",
    "    return embeddings\n",
    "\n",
    "df[\"embedding\"] = compute_embeddings(df.text)\n",
    "df"
   ]
  },
  {
   "cell_type": "code",
   "execution_count": 18,
   "id": "116c7db5-f262-4d56-a997-66aafc8e7f61",
   "metadata": {},
   "outputs": [],
   "source": [
    "from sklearn.feature_extraction.text import TfidfVectorizer\n",
    "\n",
    "\n",
    "def get_data_from_text(data_train, data_test):\n",
    "    vectorizer = TfidfVectorizer().fit(data_train.text)\n",
    "    x_train = vectorizer.transform(data_train.text)\n",
    "    x_test = vectorizer.transform(data_test.text)\n",
    "    \n",
    "    embed_x_train = np.array([x for x in data_train.embedding])\n",
    "    embed_x_test = np.array([x for x in data_test.embedding])\n",
    "    \n",
    "    y_train = data_train.generated.values\n",
    "    y_test = data_test.generated.values\n",
    "\n",
    "    return {\"vectorizer\": vectorizer, \n",
    "            \"x_train\": x_train, \n",
    "            \"y_train\": y_train,\n",
    "            \"x_test\": x_test, \n",
    "            \"y_test\": y_test, \n",
    "            \"embed_x_train\": embed_x_train, \n",
    "            \"embed_x_test\": embed_x_test}"
   ]
  },
  {
   "cell_type": "code",
   "execution_count": 19,
   "id": "a2112495-7c53-4fe1-a52b-2fe8adc35502",
   "metadata": {},
   "outputs": [],
   "source": [
    "from sklearn.model_selection import train_test_split\n",
    "\n",
    "\n",
    "data_train, data_test = train_test_split(df,\n",
    "                                         train_size=0.7, \n",
    "                                         test_size=0.3, \n",
    "                                         stratify=df.generated,\n",
    "                                         random_state=42)\n",
    "\n",
    "data = get_data_from_text(data_train, data_test)\n",
    "\n",
    "vectorizer = data[\"vectorizer\"]\n",
    "x_train = data[\"x_train\"]\n",
    "x_test = data[\"x_test\"]\n",
    "\n",
    "embed_x_train = data[\"embed_x_train\"]\n",
    "embed_x_test = data[\"embed_x_test\"]\n",
    "\n",
    "y_train = data[\"y_train\"]\n",
    "y_test = data[\"y_test\"]"
   ]
  },
  {
   "cell_type": "markdown",
   "id": "470494ba-7eb3-496d-9d83-d8b83a94d59b",
   "metadata": {},
   "source": [
    "The metric we will be using is Macro-F1 average.\n",
    "\n",
    "- **F1** is a metric used to balance the need for making sure our classifications for a category are both correct (precision) and represent as many of the actual cases of the category as possible (recall).\n",
    "- **Macro-F1** is the unweighted average of all F1 metrics for each class. We choose Macro F1 instead of a weighted average because we have an unbalanced dataset (Generated essays data are a small fraction of overall essays)\n",
    "\n",
    "\n",
    "Thus, we want to use a metric which favors both thorough and precise classifiers, and which also assigns equal importance to our smaller classes."
   ]
  },
  {
   "cell_type": "code",
   "execution_count": 20,
   "id": "e502c8d8-64f1-42d5-8885-74e4d7dccae1",
   "metadata": {
    "tags": []
   },
   "outputs": [],
   "source": [
    "from sklearn.model_selection import cross_val_score\n",
    "\n",
    "\n",
    "def cross_val_res(model, x, y, scoring=None, cv=10):\n",
    "    \"\"\"\n",
    "    Minor utility method, wraping cross_val_score.\n",
    "    \"\"\"\n",
    "    if scoring is None:\n",
    "        scoring = \"f1_macro\"\n",
    "    res = cross_val_score(model, x, y, cv=cv, scoring=scoring)\n",
    "    return res.mean(), res.std()"
   ]
  },
  {
   "cell_type": "markdown",
   "id": "8916b8b8-a7f5-4913-ab72-08bccaeee0f8",
   "metadata": {},
   "source": [
    "### Dummy Classifier"
   ]
  },
  {
   "cell_type": "markdown",
   "id": "28556888-ed28-4fa2-ab31-4408f5edabcd",
   "metadata": {},
   "source": [
    "We will first run a \"fake\" classifier which only guesses the majority category.\n",
    "\n",
    "This dummy model thus completely disregards the input features and serves as a useful baseline with which to compare the subsequent classifiers."
   ]
  },
  {
   "cell_type": "code",
   "execution_count": 21,
   "id": "18f8d6ca-c3af-4e0d-a808-60b5515bcb12",
   "metadata": {
    "tags": []
   },
   "outputs": [
    {
     "name": "stdout",
     "output_type": "stream",
     "text": [
      "Dummy Classifier mean macro F1-score 0.4744, std: 0.0012\n"
     ]
    }
   ],
   "source": [
    "from sklearn.metrics import classification_report\n",
    "from sklearn.dummy import DummyClassifier\n",
    "\n",
    "\n",
    "majority_model = DummyClassifier(strategy=\"most_frequent\")\n",
    "res = cross_val_res(majority_model, x_train, y_train)\n",
    "print(f\"Dummy Classifier mean macro F1-score {res[0]:.4f}, std: {res[1]:.4f}\")"
   ]
  },
  {
   "cell_type": "markdown",
   "id": "e7735259-ac2f-44ef-abb2-edfb09d296de",
   "metadata": {},
   "source": [
    "### Naive Bayes"
   ]
  },
  {
   "cell_type": "markdown",
   "id": "82f69629-6178-4b26-9703-630c507babe7",
   "metadata": {},
   "source": [
    "Naive Bayes is a very cheap and easy-to-interpret classifier, which checks for the probability that each individual word in the text will belong in any language. We generally want to use the simplest model for the job, and so we start with this reliable model which has proven itself in many fields in the past.\n",
    "\n",
    "The `sklearn` library gives us access to many variations of Naive Bayes, each specialized in its own field. For this NLP task, we will be using `MultinomialNB`, which was suggested by [this blogpost](https://towardsdatascience.com/naive-bayes-classifiers-for-text-classification-be0d133d35ba)."
   ]
  },
  {
   "cell_type": "code",
   "execution_count": 22,
   "id": "3403adf6-3e64-4431-ac50-8f68df3a14c6",
   "metadata": {
    "scrolled": true
   },
   "outputs": [
    {
     "name": "stdout",
     "output_type": "stream",
     "text": [
      "Naive Bayes mean macro F1-score 0.9048, std: 0.0421\n"
     ]
    }
   ],
   "source": [
    "from sklearn.naive_bayes import MultinomialNB\n",
    "\n",
    "\n",
    "# naive bayes needs dense arrays to work \n",
    "naive_x_train = x_train.toarray()\n",
    "naive_x_test = x_test.toarray()\n",
    "\n",
    "naive_model = MultinomialNB()\n",
    "res = cross_val_res(naive_model, x_train, y_train)\n",
    "print(f\"Naive Bayes mean macro F1-score {res[0]:.4f}, std: {res[1]:.4f}\")"
   ]
  },
  {
   "cell_type": "code",
   "execution_count": 23,
   "id": "24694265-7406-4b8a-a2d1-cb8a98cf5f15",
   "metadata": {
    "scrolled": true
   },
   "outputs": [
    {
     "name": "stdout",
     "output_type": "stream",
     "text": [
      "              precision    recall  f1-score   support\n",
      "\n",
      "           0       0.96      1.00      0.98       413\n",
      "           1       1.00      0.67      0.80        45\n",
      "\n",
      "    accuracy                           0.97       458\n",
      "   macro avg       0.98      0.83      0.89       458\n",
      "weighted avg       0.97      0.97      0.96       458\n",
      "\n"
     ]
    }
   ],
   "source": [
    "naive_model = MultinomialNB().fit(x_train, y_train)\n",
    "naive_res = naive_model.predict(x_test)\n",
    "print(classification_report(y_test, naive_res, zero_division=0))"
   ]
  },
  {
   "cell_type": "markdown",
   "id": "13d7e4a0-2623-46e1-9cbc-6ae28bb87568",
   "metadata": {},
   "source": [
    "### Logistic Regression"
   ]
  },
  {
   "cell_type": "markdown",
   "id": "44c15dbe-a7c6-40e5-a18e-ef52822c1b01",
   "metadata": {},
   "source": [
    "LogisticRegression despite its name is a linear classifier, meaning that it attempts to linearly separate the data into distinct categories. This interpretation does not apply well to a NLP task, but means that the classifier retains some very useful properties:\n",
    "\n",
    "- The solution we get is a global optimum, meaning that it's the best we can get with the provided data. This means no hyper-parameter tuning is necessary and we can use the classifier as-is.\n",
    "- It's a simple and very easy to compute classifier, since it solves a (mathematically simple) linear problem, albeit with some restrictions (technically those restrictions force it to use gradient descent, but the calculations are much easier than say, a neural network)"
   ]
  },
  {
   "cell_type": "code",
   "execution_count": 24,
   "id": "50250bf6-0adc-4bfe-b334-6374c29ebbb6",
   "metadata": {
    "tags": []
   },
   "outputs": [
    {
     "name": "stdout",
     "output_type": "stream",
     "text": [
      "Logistic Regression mean macro F1-score 0.9889, std: 0.0136\n"
     ]
    }
   ],
   "source": [
    "from sklearn.linear_model import LogisticRegression\n",
    "import warnings\n",
    "\n",
    "\n",
    "with warnings.catch_warnings():\n",
    "    # ignore warnings about deprecated methods in libraries\n",
    "    warnings.simplefilter(\"ignore\")\n",
    "\n",
    "    lr = LogisticRegression(max_iter=1000)\n",
    "    res = cross_val_res(lr, x_train, y_train)\n",
    "    print(f\"Logistic Regression with TF-IDF vectors Macro F1-score\\n mean:{res[0]:.4f}, std: {res[1]:.4f}\")"
   ]
  },
  {
   "cell_type": "code",
   "execution_count": 25,
   "id": "3507dd90-73fb-46ab-a19f-fe3dbf6cb4a5",
   "metadata": {},
   "outputs": [
    {
     "name": "stdout",
     "output_type": "stream",
     "text": [
      "Logistic Regression with Word2Vec Embeddings Macro F1-score\n",
      " mean:0.9945, std: 0.0111\n"
     ]
    }
   ],
   "source": [
    "with warnings.catch_warnings():\n",
    "    # ignore warnings about deprecated methods in libraries\n",
    "    warnings.simplefilter(\"ignore\")\n",
    "\n",
    "    lr = LogisticRegression(max_iter=1000)\n",
    "    res = cross_val_res(lr, embed_x_train, y_train)\n",
    "    print(f\"Logistic Regression with Word2Vec Embeddings Macro F1-score\\n mean:{res[0]:.4f}, std: {res[1]:.4f}\")"
   ]
  },
  {
   "cell_type": "code",
   "execution_count": 26,
   "id": "c625833a-4843-4a2f-a73b-0c9fcb1bff9a",
   "metadata": {
    "tags": []
   },
   "outputs": [
    {
     "name": "stdout",
     "output_type": "stream",
     "text": [
      "              precision    recall  f1-score   support\n",
      "\n",
      "           0       0.99      1.00      1.00       413\n",
      "           1       1.00      0.91      0.95        45\n",
      "\n",
      "    accuracy                           0.99       458\n",
      "   macro avg       1.00      0.96      0.97       458\n",
      "weighted avg       0.99      0.99      0.99       458\n",
      "\n"
     ]
    }
   ],
   "source": [
    "with warnings.catch_warnings():\n",
    "    warnings.simplefilter(\"ignore\")\n",
    "    lr = LogisticRegression(max_iter=1000).fit(x_train, y_train)\n",
    "    lr_res = lr.predict(x_test)\n",
    "\n",
    "print(classification_report(y_test, lr_res, zero_division=0))"
   ]
  },
  {
   "cell_type": "markdown",
   "id": "d70ccc10-19c4-482e-b506-47b85a187d63",
   "metadata": {},
   "source": [
    "### Random Forest"
   ]
  },
  {
   "cell_type": "markdown",
   "id": "4d8c9d54-b472-4b37-8068-1d4579acadee",
   "metadata": {},
   "source": [
    "Random Forest is an ensemble algorithm, which means it uses many simpler algorithms which then \"vote\" on a final decision. It has proven to be a good classifier on complex tasks, it combats overfitting by design (essentially by utilizing random chance in its training phase) and is still fairly easy to interpret.\n",
    "\n",
    "The drawback is first and foremost computational, since we need to train many smaller classifiers, which may by themselves be computationally expensive (this is somewhat offset by the fact that the classifiers are indepednent and can be computed in parallel). Additionally, Random Forest is a non-parametric method which means that it is generally memory-intensive and may be slow to run on operational data. Finally, we also need to tune hyperparameters."
   ]
  },
  {
   "cell_type": "code",
   "execution_count": 27,
   "id": "242df209-18a9-4652-9863-31a8560a1d4d",
   "metadata": {},
   "outputs": [
    {
     "name": "stdout",
     "output_type": "stream",
     "text": [
      "Random Forest Macro F1:\n",
      " mean:0.9919, std: 0.0066\n"
     ]
    }
   ],
   "source": [
    "from sklearn.ensemble import RandomForestClassifier\n",
    "\n",
    "\n",
    "forest_model = RandomForestClassifier(n_estimators=50,\n",
    "                                      criterion=\"entropy\")\n",
    "res = cross_val_res(forest_model, x_train, y_train, cv=5)\n",
    "print(f\"Random Forest with TF-IDF vectors Macro F1-score\\n mean:{res[0]:.4f}, std: {res[1]:.4f}\")"
   ]
  },
  {
   "cell_type": "code",
   "execution_count": 28,
   "id": "9f485f2f-e957-41a2-84dc-5f3fbb92ec9e",
   "metadata": {},
   "outputs": [
    {
     "name": "stdout",
     "output_type": "stream",
     "text": [
      "Random Forest with Word2Vec Embeddings Macro F1-score\n",
      " mean:0.9916, std: 0.0129\n"
     ]
    }
   ],
   "source": [
    "forest_model = RandomForestClassifier(n_estimators=50,\n",
    "                                      criterion=\"entropy\")\n",
    "res = cross_val_res(forest_model, embed_x_train, y_train)\n",
    "print(f\"Random Forest with Word2Vec Embeddings Macro F1-score\\n mean:{res[0]:.4f}, std: {res[1]:.4f}\")"
   ]
  },
  {
   "cell_type": "code",
   "execution_count": 29,
   "id": "8d99837f-f70e-4484-b248-347a7909878e",
   "metadata": {},
   "outputs": [
    {
     "name": "stdout",
     "output_type": "stream",
     "text": [
      "              precision    recall  f1-score   support\n",
      "\n",
      "           0       1.00      1.00      1.00       413\n",
      "           1       1.00      0.96      0.98        45\n",
      "\n",
      "    accuracy                           1.00       458\n",
      "   macro avg       1.00      0.98      0.99       458\n",
      "weighted avg       1.00      1.00      1.00       458\n",
      "\n"
     ]
    }
   ],
   "source": [
    "forest_model = RandomForestClassifier(n_estimators=50, \n",
    "                                      criterion=\"entropy\").fit(x_train, y_train)\n",
    "forest_pred = forest_model.predict(x_test)\n",
    "print(classification_report(y_test, forest_pred, zero_division=0))"
   ]
  },
  {
   "cell_type": "markdown",
   "id": "87f4ffe4-87f9-4179-9f43-c2641b26f015",
   "metadata": {},
   "source": [
    "### Adaboost"
   ]
  },
  {
   "cell_type": "markdown",
   "id": "ca27a788-11b2-4509-8218-8e906f694a67",
   "metadata": {},
   "source": [
    "Adaboost is the logical conclusion of Random Forests, where each voter considers a very specific \"rule\" that needs to be followed. The next voter then considers the most important rule to distinguish between the categories for all the clases that the first could not reliably classify, and so on.\n",
    "\n",
    "This classifier is generally more compact and competent than a simple Random Forest, but is more computationally expensive during training because we cannot train it in parallel."
   ]
  },
  {
   "cell_type": "code",
   "execution_count": 30,
   "id": "2acb17ba-62b2-4ae1-a27c-c0793176747a",
   "metadata": {},
   "outputs": [
    {
     "name": "stdout",
     "output_type": "stream",
     "text": [
      "AdaBoost mean macro F1: 0.9919, std: 0.0066\n"
     ]
    }
   ],
   "source": [
    "from sklearn.ensemble import AdaBoostClassifier\n",
    "\n",
    "\n",
    "ada_model = AdaBoostClassifier(n_estimators=25)\n",
    "res = cross_val_res(ada_model, x_train, y_train, cv=3)\n",
    "print(f\"AdaBoost Macro with TF-IDF vectors F1:\\n mean {res[0]:.4f}, std: {res[1]:.4f}\")"
   ]
  },
  {
   "cell_type": "code",
   "execution_count": 31,
   "id": "e5e3acf5-9beb-48b6-a43f-36c4ff370d40",
   "metadata": {},
   "outputs": [
    {
     "name": "stdout",
     "output_type": "stream",
     "text": [
      "AdaBoost Macro with Word2Vec Embeddings F1:\n",
      " mean:0.9866, std: 0.0100\n"
     ]
    }
   ],
   "source": [
    "ada_model = AdaBoostClassifier(n_estimators=25)\n",
    "res = cross_val_res(ada_model, embed_x_train, y_train, cv=3)\n",
    "print(f\"AdaBoost Macro with Word2Vec Embeddings F1:\\n mean:{res[0]:.4f}, std: {res[1]:.4f}\")"
   ]
  },
  {
   "cell_type": "code",
   "execution_count": 32,
   "id": "ca9920f5-1d64-4fe4-ad7c-f7c2eaafa9f4",
   "metadata": {},
   "outputs": [
    {
     "name": "stdout",
     "output_type": "stream",
     "text": [
      "              precision    recall  f1-score   support\n",
      "\n",
      "           0       1.00      1.00      1.00       413\n",
      "           1       0.96      0.96      0.96        45\n",
      "\n",
      "    accuracy                           0.99       458\n",
      "   macro avg       0.98      0.98      0.98       458\n",
      "weighted avg       0.99      0.99      0.99       458\n",
      "\n"
     ]
    }
   ],
   "source": [
    "ada_model = AdaBoostClassifier(n_estimators=25).fit(x_train, y_train)\n",
    "ada_pred = ada_model.predict(x_test)\n",
    "print(classification_report(y_test, ada_pred, zero_division=0))"
   ]
  },
  {
   "cell_type": "code",
   "execution_count": 33,
   "id": "3d5b1c65-f16e-4c08-93c4-5eadae3e86de",
   "metadata": {},
   "outputs": [],
   "source": [
    "from sklearn.pipeline import make_pipeline\n",
    "from lime.lime_text import LimeTextExplainer\n",
    "\n",
    "\n",
    "best_model = ada_model\n",
    "best_pred = best_model.predict(x_test)\n",
    "c = make_pipeline(vectorizer, best_model)\n",
    "explainer = LimeTextExplainer(class_names=best_model.classes_)"
   ]
  },
  {
   "cell_type": "code",
   "execution_count": 34,
   "id": "52309649-496d-4fef-b926-ad7b800b5ac0",
   "metadata": {},
   "outputs": [
    {
     "name": "stdout",
     "output_type": "stream",
     "text": [
      "Figured saved to ..\\output\\attribution.png\n"
     ]
    },
    {
     "data": {
      "image/png": "[encoded data removed]",
      "text/plain": [
       "<Figure size 1000x400 with 2 Axes>"
      ]
     },
     "metadata": {},
     "output_type": "display_data"
    }
   ],
   "source": [
    "import matplotlib.pyplot as plt\n",
    "import textwrap\n",
    "\n",
    "\n",
    "# code for lime text and graph attributed to Ioannis Pavlopoulos\n",
    "fig, axes = plt.subplots(1, 2)\n",
    "fig.set_size_inches(10, 4)\n",
    "\n",
    "# explanation for (correct) human classification\n",
    "example_human = data_test[(data_test.generated == 0) & (best_pred == 0)].head(256)\n",
    "exp_human = explainer.explain_instance(example_human.text.iloc[0] , c.predict_proba)\n",
    "exp_human_reversed = [(name, -value) for name, value in exp_human.as_list()]\n",
    "word_scores_human = pd.DataFrame(exp_human.as_list(), columns=[\"word\", \"xscore\"]) \n",
    "word_scores_human['color'] = word_scores_human.xscore.apply(lambda x: 'g' if x>0 else 'r')\n",
    "\n",
    "axes[0].barh(word_scores_human.word, word_scores_human.xscore, color=word_scores_human.color)\n",
    "axes[0].set_title(\"Human essay\")\n",
    "\n",
    "# explanation for generated classification\n",
    "example = data_test[(data_test.generated == 1) & (best_pred == 1)].head(256)\n",
    "exp = explainer.explain_instance(example.text.iloc[0] , c.predict_proba)\n",
    "word_scores = pd.DataFrame(exp.as_list(), columns=[\"word\", \"xscore\"])\n",
    "word_scores['color'] = word_scores.xscore.apply(lambda x: 'g' if x>0 else 'r')\n",
    "\n",
    "axes[1].barh(word_scores.word, word_scores.xscore, color=word_scores.color)\n",
    "axes[1].set_title(\"Generated essay\")\n",
    "\n",
    "caption_text = \"Classifier attribution (LIME) per word for correctly classified human and generated essays. \"\\\n",
    "                \"Red (left) lines indicate the classifier leans towards the text being a human essay \"\\\n",
    "                \"because of the word's use, Green (right) lines indicate that it leans towards the text being LLM generated. \"\\\n",
    "                \"The length of the lines indicates the certaintly of the classifier towards the classification. \"\\\n",
    "                \"Note that this graph does not necessarily represent probability values for each word.\"\n",
    "\n",
    "caption = textwrap.fill(caption_text, width=150)\n",
    "fig.text(0, -0.25, caption)\n",
    "\n",
    "fig.suptitle(\"Classification attribution per word\")\n",
    "fig.text(0.5, -0.05, 'Attribution (red for human, green for generated)', ha='center')\n",
    "fig.tight_layout(h_pad=3, w_pad=3) #believe it or not this *is* different from pad=3\n",
    "\n",
    "save_plot(\"attribution.png\")\n",
    "plt.show()"
   ]
  },
  {
   "cell_type": "markdown",
   "id": "a39b7d3d-b5d7-4ea2-9a0c-d64b6719da05",
   "metadata": {},
   "source": [
    "## Text Similarity"
   ]
  },
  {
   "cell_type": "markdown",
   "id": "f3ff2564-317d-4331-aa16-c0558443f42d",
   "metadata": {},
   "source": [
    "https://www.newscatcherapi.com/blog/ultimate-guide-to-text-similarity-with-python"
   ]
  },
  {
   "cell_type": "code",
   "execution_count": 35,
   "id": "458e94be-677b-452e-afc1-b7735d14e40c",
   "metadata": {},
   "outputs": [],
   "source": [
    "generated_df = df[df.generated == 1]\n",
    "human_df = df[df.generated == 0]\n",
    "\n",
    "generated_docs = []\n",
    "human_docs = []"
   ]
  },
  {
   "cell_type": "code",
   "execution_count": 36,
   "id": "87bac36d-fef1-4f93-a326-a6755d7e79b9",
   "metadata": {},
   "outputs": [
    {
     "name": "stdout",
     "output_type": "stream",
     "text": [
      "Calculating similarity scores...\n"
     ]
    },
    {
     "data": {
      "application/vnd.jupyter.widget-view+json": {
       "model_id": "c889ecbcbbb24ebd9ee2f5969fa625dc",
       "version_major": 2,
       "version_minor": 0
      },
      "text/plain": [
       "  0%|          | 0/149 [00:00<?, ?it/s]"
      ]
     },
     "metadata": {},
     "output_type": "display_data"
    },
    {
     "data": {
      "text/html": [
       "<div>\n",
       "<style scoped>\n",
       "    .dataframe tbody tr th:only-of-type {\n",
       "        vertical-align: middle;\n",
       "    }\n",
       "\n",
       "    .dataframe tbody tr th {\n",
       "        vertical-align: top;\n",
       "    }\n",
       "\n",
       "    .dataframe thead th {\n",
       "        text-align: right;\n",
       "    }\n",
       "</style>\n",
       "<table border=\"1\" class=\"dataframe\">\n",
       "  <thead>\n",
       "    <tr style=\"text-align: right;\">\n",
       "      <th></th>\n",
       "      <th>id</th>\n",
       "      <th>text</th>\n",
       "      <th>mean</th>\n",
       "      <th>max</th>\n",
       "    </tr>\n",
       "  </thead>\n",
       "  <tbody>\n",
       "    <tr>\n",
       "      <th>80</th>\n",
       "      <td>1787905080304</td>\n",
       "      <td>limiting car usage offers numerous advantages ...</td>\n",
       "      <td>0.070840</td>\n",
       "      <td>0.161692</td>\n",
       "    </tr>\n",
       "    <tr>\n",
       "      <th>81</th>\n",
       "      <td>1787906645760</td>\n",
       "      <td>limiting car usage presents myriad advantages ...</td>\n",
       "      <td>0.063066</td>\n",
       "      <td>0.146512</td>\n",
       "    </tr>\n",
       "    <tr>\n",
       "      <th>82</th>\n",
       "      <td>1787906824160</td>\n",
       "      <td>limiting car usage offers range advantages ext...</td>\n",
       "      <td>0.066002</td>\n",
       "      <td>0.165877</td>\n",
       "    </tr>\n",
       "    <tr>\n",
       "      <th>83</th>\n",
       "      <td>1787906828688</td>\n",
       "      <td>limiting car usage brings forth numerous advan...</td>\n",
       "      <td>0.062823</td>\n",
       "      <td>0.150000</td>\n",
       "    </tr>\n",
       "    <tr>\n",
       "      <th>84</th>\n",
       "      <td>1787908575984</td>\n",
       "      <td>limiting car usage presents myriad advantages ...</td>\n",
       "      <td>0.077351</td>\n",
       "      <td>0.187500</td>\n",
       "    </tr>\n",
       "    <tr>\n",
       "      <th>...</th>\n",
       "      <td>...</td>\n",
       "      <td>...</td>\n",
       "      <td>...</td>\n",
       "      <td>...</td>\n",
       "    </tr>\n",
       "    <tr>\n",
       "      <th>151</th>\n",
       "      <td>1787908761120</td>\n",
       "      <td>today 's fast-paced world , cars considered ne...</td>\n",
       "      <td>0.091258</td>\n",
       "      <td>0.205189</td>\n",
       "    </tr>\n",
       "    <tr>\n",
       "      <th>152</th>\n",
       "      <td>1787908813616</td>\n",
       "      <td>limiting car usage emerged revolutionary conce...</td>\n",
       "      <td>0.060222</td>\n",
       "      <td>0.140590</td>\n",
       "    </tr>\n",
       "    <tr>\n",
       "      <th>704</th>\n",
       "      <td>82131f68</td>\n",
       "      <td>essay analyze , discuss prove one reason favor...</td>\n",
       "      <td>0.073079</td>\n",
       "      <td>0.155405</td>\n",
       "    </tr>\n",
       "    <tr>\n",
       "      <th>740</th>\n",
       "      <td>86fe4f18</td>\n",
       "      <td>strongly believe electoral college remain way ...</td>\n",
       "      <td>0.077130</td>\n",
       "      <td>0.172840</td>\n",
       "    </tr>\n",
       "    <tr>\n",
       "      <th>1262</th>\n",
       "      <td>eafb8a56</td>\n",
       "      <td>limiting car use causes pollution , increases ...</td>\n",
       "      <td>0.067349</td>\n",
       "      <td>0.126623</td>\n",
       "    </tr>\n",
       "  </tbody>\n",
       "</table>\n",
       "<p>149 rows × 4 columns</p>\n",
       "</div>"
      ],
      "text/plain": [
       "                 id                                               text  \\\n",
       "80    1787905080304  limiting car usage offers numerous advantages ...   \n",
       "81    1787906645760  limiting car usage presents myriad advantages ...   \n",
       "82    1787906824160  limiting car usage offers range advantages ext...   \n",
       "83    1787906828688  limiting car usage brings forth numerous advan...   \n",
       "84    1787908575984  limiting car usage presents myriad advantages ...   \n",
       "...             ...                                                ...   \n",
       "151   1787908761120  today 's fast-paced world , cars considered ne...   \n",
       "152   1787908813616  limiting car usage emerged revolutionary conce...   \n",
       "704        82131f68  essay analyze , discuss prove one reason favor...   \n",
       "740        86fe4f18  strongly believe electoral college remain way ...   \n",
       "1262       eafb8a56  limiting car use causes pollution , increases ...   \n",
       "\n",
       "          mean       max  \n",
       "80    0.070840  0.161692  \n",
       "81    0.063066  0.146512  \n",
       "82    0.066002  0.165877  \n",
       "83    0.062823  0.150000  \n",
       "84    0.077351  0.187500  \n",
       "...        ...       ...  \n",
       "151   0.091258  0.205189  \n",
       "152   0.060222  0.140590  \n",
       "704   0.073079  0.155405  \n",
       "740   0.077130  0.172840  \n",
       "1262  0.067349  0.126623  \n",
       "\n",
       "[149 rows x 4 columns]"
      ]
     },
     "execution_count": 36,
     "metadata": {},
     "output_type": "execute_result"
    }
   ],
   "source": [
    "def jaccard_similarity(set1: set[str], set2: set[str]) -> float:\n",
    "    intersection = len(set1.intersection(set2))\n",
    "    union = len(set1.union(set2))\n",
    "    return intersection / union\n",
    "\n",
    "\n",
    "mean_similarity = []\n",
    "max_similarity = []\n",
    "\n",
    "print(\"Calculating similarity scores...\")\n",
    "for x in tqdm(generated_df.text):\n",
    "    similarities = []\n",
    "    for y in human_df.text:\n",
    "      similarities.append(jaccard_similarity(set(x.split()), set(y.split())))\n",
    "                                        \n",
    "    mean_similarity.append(np.mean(similarities))\n",
    "    max_similarity.append(np.max(similarities))\n",
    "\n",
    "similarity_df = pd.DataFrame({\"id\": generated_df.id,\n",
    "                              \"text\": generated_df.text,\n",
    "                              \"mean\": mean_similarity,\n",
    "                              \"max\": max_similarity})\n",
    "similarity_df"
   ]
  },
  {
   "cell_type": "code",
   "execution_count": 37,
   "id": "93eafdda-9be0-4f89-9f60-a0941a83c4f3",
   "metadata": {},
   "outputs": [
    {
     "data": {
      "text/html": [
       "<div>\n",
       "<style scoped>\n",
       "    .dataframe tbody tr th:only-of-type {\n",
       "        vertical-align: middle;\n",
       "    }\n",
       "\n",
       "    .dataframe tbody tr th {\n",
       "        vertical-align: top;\n",
       "    }\n",
       "\n",
       "    .dataframe thead th {\n",
       "        text-align: right;\n",
       "    }\n",
       "</style>\n",
       "<table border=\"1\" class=\"dataframe\">\n",
       "  <thead>\n",
       "    <tr style=\"text-align: right;\">\n",
       "      <th></th>\n",
       "      <th>id</th>\n",
       "      <th>text</th>\n",
       "      <th>mean</th>\n",
       "      <th>max</th>\n",
       "    </tr>\n",
       "  </thead>\n",
       "  <tbody>\n",
       "    <tr>\n",
       "      <th>80</th>\n",
       "      <td>1787905080304</td>\n",
       "      <td>limiting car usage offers numerous advantages ...</td>\n",
       "      <td>0.070840</td>\n",
       "      <td>0.161692</td>\n",
       "    </tr>\n",
       "    <tr>\n",
       "      <th>81</th>\n",
       "      <td>1787906645760</td>\n",
       "      <td>limiting car usage presents myriad advantages ...</td>\n",
       "      <td>0.063066</td>\n",
       "      <td>0.146512</td>\n",
       "    </tr>\n",
       "    <tr>\n",
       "      <th>82</th>\n",
       "      <td>1787906824160</td>\n",
       "      <td>limiting car usage offers range advantages ext...</td>\n",
       "      <td>0.066002</td>\n",
       "      <td>0.165877</td>\n",
       "    </tr>\n",
       "    <tr>\n",
       "      <th>83</th>\n",
       "      <td>1787906828688</td>\n",
       "      <td>limiting car usage brings forth numerous advan...</td>\n",
       "      <td>0.062823</td>\n",
       "      <td>0.150000</td>\n",
       "    </tr>\n",
       "    <tr>\n",
       "      <th>84</th>\n",
       "      <td>1787908575984</td>\n",
       "      <td>limiting car usage presents myriad advantages ...</td>\n",
       "      <td>0.077351</td>\n",
       "      <td>0.187500</td>\n",
       "    </tr>\n",
       "    <tr>\n",
       "      <th>...</th>\n",
       "      <td>...</td>\n",
       "      <td>...</td>\n",
       "      <td>...</td>\n",
       "      <td>...</td>\n",
       "    </tr>\n",
       "    <tr>\n",
       "      <th>151</th>\n",
       "      <td>1787908761120</td>\n",
       "      <td>today 's fast-paced world , cars considered ne...</td>\n",
       "      <td>0.091258</td>\n",
       "      <td>0.205189</td>\n",
       "    </tr>\n",
       "    <tr>\n",
       "      <th>152</th>\n",
       "      <td>1787908813616</td>\n",
       "      <td>limiting car usage emerged revolutionary conce...</td>\n",
       "      <td>0.060222</td>\n",
       "      <td>0.140590</td>\n",
       "    </tr>\n",
       "    <tr>\n",
       "      <th>704</th>\n",
       "      <td>82131f68</td>\n",
       "      <td>essay analyze , discuss prove one reason favor...</td>\n",
       "      <td>0.073079</td>\n",
       "      <td>0.155405</td>\n",
       "    </tr>\n",
       "    <tr>\n",
       "      <th>740</th>\n",
       "      <td>86fe4f18</td>\n",
       "      <td>strongly believe electoral college remain way ...</td>\n",
       "      <td>0.077130</td>\n",
       "      <td>0.172840</td>\n",
       "    </tr>\n",
       "    <tr>\n",
       "      <th>1262</th>\n",
       "      <td>eafb8a56</td>\n",
       "      <td>limiting car use causes pollution , increases ...</td>\n",
       "      <td>0.067349</td>\n",
       "      <td>0.126623</td>\n",
       "    </tr>\n",
       "  </tbody>\n",
       "</table>\n",
       "<p>149 rows × 4 columns</p>\n",
       "</div>"
      ],
      "text/plain": [
       "                 id                                               text  \\\n",
       "80    1787905080304  limiting car usage offers numerous advantages ...   \n",
       "81    1787906645760  limiting car usage presents myriad advantages ...   \n",
       "82    1787906824160  limiting car usage offers range advantages ext...   \n",
       "83    1787906828688  limiting car usage brings forth numerous advan...   \n",
       "84    1787908575984  limiting car usage presents myriad advantages ...   \n",
       "...             ...                                                ...   \n",
       "151   1787908761120  today 's fast-paced world , cars considered ne...   \n",
       "152   1787908813616  limiting car usage emerged revolutionary conce...   \n",
       "704        82131f68  essay analyze , discuss prove one reason favor...   \n",
       "740        86fe4f18  strongly believe electoral college remain way ...   \n",
       "1262       eafb8a56  limiting car use causes pollution , increases ...   \n",
       "\n",
       "          mean       max  \n",
       "80    0.070840  0.161692  \n",
       "81    0.063066  0.146512  \n",
       "82    0.066002  0.165877  \n",
       "83    0.062823  0.150000  \n",
       "84    0.077351  0.187500  \n",
       "...        ...       ...  \n",
       "151   0.091258  0.205189  \n",
       "152   0.060222  0.140590  \n",
       "704   0.073079  0.155405  \n",
       "740   0.077130  0.172840  \n",
       "1262  0.067349  0.126623  \n",
       "\n",
       "[149 rows x 4 columns]"
      ]
     },
     "execution_count": 37,
     "metadata": {},
     "output_type": "execute_result"
    }
   ],
   "source": [
    "similarity_df = pd.DataFrame({\"id\": generated_df.id,\n",
    "                              \"text\": generated_df.text,\n",
    "                              \"mean\": mean_similarity,\n",
    "                              \"max\": max_similarity})\n",
    "similarity_df"
   ]
  },
  {
   "cell_type": "code",
   "execution_count": 38,
   "id": "6085c8bb-b704-4c2b-9706-dd71ccb7431c",
   "metadata": {},
   "outputs": [
    {
     "name": "stdout",
     "output_type": "stream",
     "text": [
      "Figured saved to ..\\output\\similarity.png\n"
     ]
    },
    {
     "data": {
      "image/png": "[encoded data removed]",
      "text/plain": [
       "<Figure size 640x480 with 1 Axes>"
      ]
     },
     "metadata": {},
     "output_type": "display_data"
    }
   ],
   "source": [
    "import seaborn as sns\n",
    "import textwrap\n",
    "\n",
    "\n",
    "sns.histplot(similarity_df, palette={\"mean\": \"blue\", \"max\": \"green\"})\n",
    "\n",
    "caption_text = \"\"\"Mean and maximum Jaccard similarity between each generated essay compared to \n",
    "all human essays. This Figure demonstrates the very low similarity between the two kinds of essays in \n",
    "our dataset, laregely explaining the exceptional performance of our classifiers. \n",
    "\"\"\"\n",
    "caption = textwrap.fill(caption_text, width=100)\n",
    "plt.figtext(-0.1, -0.2, caption)\n",
    "\n",
    "plt.xlabel(\"Jaccard Similarity\")\n",
    "plt.ylabel(\"Number of Genereated Essays\")\n",
    "plt.title(\"Similarity between generated and human essays\")\n",
    "\n",
    "save_plot(\"similarity.png\")\n",
    "plt.show()"
   ]
  },
  {
   "cell_type": "code",
   "execution_count": 39,
   "id": "f49e2b8e-00f5-4d6a-9ad3-cec9e9ee91a2",
   "metadata": {},
   "outputs": [
    {
     "name": "stdout",
     "output_type": "stream",
     "text": [
      "Starting Leave One Out validation for generated texts...\n"
     ]
    },
    {
     "data": {
      "application/vnd.jupyter.widget-view+json": {
       "model_id": "f68ced9a97bd4632827854a35e3ade79",
       "version_major": 2,
       "version_minor": 0
      },
      "text/plain": [
       "  0%|          | 0/149 [00:00<?, ?it/s]"
      ]
     },
     "metadata": {},
     "output_type": "display_data"
    }
   ],
   "source": [
    "probs = []\n",
    "\n",
    "# TODO: look into this\n",
    "print(\"Starting Leave One Out validation for generated texts...\")\n",
    "for essay_id in tqdm(similarity_df.id):\n",
    "    essay_train = df[~df.id.eq(essay_id)] \n",
    "    essay_test = df[df.id.eq(essay_id)]\n",
    "    assert essay_test.shape[0] == 1, essay_id\n",
    "    model = RandomForestClassifier(n_estimators=25)\n",
    "    model = model.fit(vectorizer.transform(essay_train.text), essay_train.generated)\n",
    "    probs.append(model.predict_proba(vectorizer.transform(essay_test)))"
   ]
  },
  {
   "cell_type": "code",
   "execution_count": 40,
   "id": "5b1236e2-f355-4946-ab73-66e6e58adf5f",
   "metadata": {},
   "outputs": [
    {
     "data": {
      "text/html": [
       "<div>\n",
       "<style scoped>\n",
       "    .dataframe tbody tr th:only-of-type {\n",
       "        vertical-align: middle;\n",
       "    }\n",
       "\n",
       "    .dataframe tbody tr th {\n",
       "        vertical-align: top;\n",
       "    }\n",
       "\n",
       "    .dataframe thead th {\n",
       "        text-align: right;\n",
       "    }\n",
       "</style>\n",
       "<table border=\"1\" class=\"dataframe\">\n",
       "  <thead>\n",
       "    <tr style=\"text-align: right;\">\n",
       "      <th></th>\n",
       "      <th>id</th>\n",
       "      <th>text</th>\n",
       "      <th>mean</th>\n",
       "      <th>max</th>\n",
       "      <th>probs</th>\n",
       "    </tr>\n",
       "  </thead>\n",
       "  <tbody>\n",
       "    <tr>\n",
       "      <th>80</th>\n",
       "      <td>1787905080304</td>\n",
       "      <td>limiting car usage offers numerous advantages ...</td>\n",
       "      <td>0.070840</td>\n",
       "      <td>0.161692</td>\n",
       "      <td>1.0</td>\n",
       "    </tr>\n",
       "    <tr>\n",
       "      <th>81</th>\n",
       "      <td>1787906645760</td>\n",
       "      <td>limiting car usage presents myriad advantages ...</td>\n",
       "      <td>0.063066</td>\n",
       "      <td>0.146512</td>\n",
       "      <td>1.0</td>\n",
       "    </tr>\n",
       "    <tr>\n",
       "      <th>82</th>\n",
       "      <td>1787906824160</td>\n",
       "      <td>limiting car usage offers range advantages ext...</td>\n",
       "      <td>0.066002</td>\n",
       "      <td>0.165877</td>\n",
       "      <td>1.0</td>\n",
       "    </tr>\n",
       "    <tr>\n",
       "      <th>83</th>\n",
       "      <td>1787906828688</td>\n",
       "      <td>limiting car usage brings forth numerous advan...</td>\n",
       "      <td>0.062823</td>\n",
       "      <td>0.150000</td>\n",
       "      <td>1.0</td>\n",
       "    </tr>\n",
       "    <tr>\n",
       "      <th>84</th>\n",
       "      <td>1787908575984</td>\n",
       "      <td>limiting car usage presents myriad advantages ...</td>\n",
       "      <td>0.077351</td>\n",
       "      <td>0.187500</td>\n",
       "      <td>1.0</td>\n",
       "    </tr>\n",
       "    <tr>\n",
       "      <th>...</th>\n",
       "      <td>...</td>\n",
       "      <td>...</td>\n",
       "      <td>...</td>\n",
       "      <td>...</td>\n",
       "      <td>...</td>\n",
       "    </tr>\n",
       "    <tr>\n",
       "      <th>151</th>\n",
       "      <td>1787908761120</td>\n",
       "      <td>today 's fast-paced world , cars considered ne...</td>\n",
       "      <td>0.091258</td>\n",
       "      <td>0.205189</td>\n",
       "      <td>1.0</td>\n",
       "    </tr>\n",
       "    <tr>\n",
       "      <th>152</th>\n",
       "      <td>1787908813616</td>\n",
       "      <td>limiting car usage emerged revolutionary conce...</td>\n",
       "      <td>0.060222</td>\n",
       "      <td>0.140590</td>\n",
       "      <td>1.0</td>\n",
       "    </tr>\n",
       "    <tr>\n",
       "      <th>704</th>\n",
       "      <td>82131f68</td>\n",
       "      <td>essay analyze , discuss prove one reason favor...</td>\n",
       "      <td>0.073079</td>\n",
       "      <td>0.155405</td>\n",
       "      <td>1.0</td>\n",
       "    </tr>\n",
       "    <tr>\n",
       "      <th>740</th>\n",
       "      <td>86fe4f18</td>\n",
       "      <td>strongly believe electoral college remain way ...</td>\n",
       "      <td>0.077130</td>\n",
       "      <td>0.172840</td>\n",
       "      <td>1.0</td>\n",
       "    </tr>\n",
       "    <tr>\n",
       "      <th>1262</th>\n",
       "      <td>eafb8a56</td>\n",
       "      <td>limiting car use causes pollution , increases ...</td>\n",
       "      <td>0.067349</td>\n",
       "      <td>0.126623</td>\n",
       "      <td>1.0</td>\n",
       "    </tr>\n",
       "  </tbody>\n",
       "</table>\n",
       "<p>149 rows × 5 columns</p>\n",
       "</div>"
      ],
      "text/plain": [
       "                 id                                               text  \\\n",
       "80    1787905080304  limiting car usage offers numerous advantages ...   \n",
       "81    1787906645760  limiting car usage presents myriad advantages ...   \n",
       "82    1787906824160  limiting car usage offers range advantages ext...   \n",
       "83    1787906828688  limiting car usage brings forth numerous advan...   \n",
       "84    1787908575984  limiting car usage presents myriad advantages ...   \n",
       "...             ...                                                ...   \n",
       "151   1787908761120  today 's fast-paced world , cars considered ne...   \n",
       "152   1787908813616  limiting car usage emerged revolutionary conce...   \n",
       "704        82131f68  essay analyze , discuss prove one reason favor...   \n",
       "740        86fe4f18  strongly believe electoral college remain way ...   \n",
       "1262       eafb8a56  limiting car use causes pollution , increases ...   \n",
       "\n",
       "          mean       max  probs  \n",
       "80    0.070840  0.161692    1.0  \n",
       "81    0.063066  0.146512    1.0  \n",
       "82    0.066002  0.165877    1.0  \n",
       "83    0.062823  0.150000    1.0  \n",
       "84    0.077351  0.187500    1.0  \n",
       "...        ...       ...    ...  \n",
       "151   0.091258  0.205189    1.0  \n",
       "152   0.060222  0.140590    1.0  \n",
       "704   0.073079  0.155405    1.0  \n",
       "740   0.077130  0.172840    1.0  \n",
       "1262  0.067349  0.126623    1.0  \n",
       "\n",
       "[149 rows x 5 columns]"
      ]
     },
     "execution_count": 40,
     "metadata": {},
     "output_type": "execute_result"
    }
   ],
   "source": [
    "similarity_df[\"probs\"] = [x[0][0] for x in probs]\n",
    "similarity_df"
   ]
  },
  {
   "cell_type": "markdown",
   "id": "ca41cab2-46b0-425d-b214-4215f69ee450",
   "metadata": {},
   "source": [
    "## Impact of data size"
   ]
  },
  {
   "cell_type": "code",
   "execution_count": 41,
   "id": "979a1551-ca47-4c9c-a383-002cbd775ac0",
   "metadata": {},
   "outputs": [
    {
     "data": {
      "text/plain": [
       "[107, 214, 320, 427, 533, 640, 747, 853, 960, 1066]"
      ]
     },
     "execution_count": 41,
     "metadata": {},
     "output_type": "execute_result"
    }
   ],
   "source": [
    "len_splits = np.arange(start=0.1, stop=1.1, step=0.1)\n",
    "splits = [data_train.sample(int(np.ceil(data_train.shape[0]*i))) for i in len_splits]\n",
    "\n",
    "sizes = [len(split) for split in splits]\n",
    "sizes"
   ]
  },
  {
   "cell_type": "code",
   "execution_count": 42,
   "id": "8815a661-a71c-4e7e-9bd4-85d936cdf63c",
   "metadata": {},
   "outputs": [],
   "source": [
    "from sklearn.metrics import f1_score\n",
    "\n",
    "\n",
    "train_scores = []\n",
    "test_scores = []\n",
    "\n",
    "for split in splits:\n",
    "    x_train = vectorizer.transform(split.text)\n",
    "    y_train = split.generated\n",
    "    model = RandomForestClassifier(n_estimators=50).fit(x_train, y_train)\n",
    "\n",
    "    train_preds = model.predict(x_train)\n",
    "    train_scores.append(f1_score(y_train, train_preds, average=\"macro\"))\n",
    "    test_preds = model.predict(x_test)\n",
    "    test_scores.append(f1_score(y_test, test_preds, average=\"macro\"))\n",
    "\n",
    "train_scores = np.array(train_scores)\n",
    "test_scores = np.array(test_scores)"
   ]
  },
  {
   "cell_type": "code",
   "execution_count": 43,
   "id": "34129f3a-afcd-4197-9df4-e3f14243f510",
   "metadata": {},
   "outputs": [
    {
     "name": "stderr",
     "output_type": "stream",
     "text": [
      "No artists with labels found to put in legend.  Note that artists whose label start with an underscore are ignored when legend() is called with no argument.\n"
     ]
    },
    {
     "name": "stdout",
     "output_type": "stream",
     "text": [
      "Figured saved to ..\\output\\dataset_size.png\n"
     ]
    },
    {
     "data": {
      "image/png": "[encoded data removed]",
      "text/plain": [
       "<Figure size 640x480 with 2 Axes>"
      ]
     },
     "metadata": {},
     "output_type": "display_data"
    }
   ],
   "source": [
    "fig, (ax1, ax2) = plt.subplots(2, 1)\n",
    "fig.suptitle(\"Dataset size impact on LLM detection\")\n",
    "fig.tight_layout(pad=3)\n",
    "\n",
    "# regular regplot\n",
    "sns.regplot(y=train_scores, \n",
    "            x=sizes, \n",
    "            label=\"train\", \n",
    "            color=\"blue\", \n",
    "            ax=ax1,\n",
    "            scatter_kws={\"s\": 30})\n",
    "sns.regplot(y=test_scores,\n",
    "            x=sizes,\n",
    "            label=\"test\",\n",
    "            color=\"orange\",\n",
    "            marker=\"*\", \n",
    "            ax=ax1,\n",
    "            scatter_kws={\"s\": 100})\n",
    "\n",
    "ax1.set_title(\"Regression plot on original splits\")\n",
    "ax1.set_ylabel(\"Macro F1 score\")\n",
    "ax1.set_xlabel(\"Dataset size (number of entries)\")\n",
    "plt.legend()\n",
    "\n",
    "\n",
    "# regplot with expanded xlim\n",
    "plt.xlim(0, 1500)\n",
    "sns.regplot(y=train_scores, \n",
    "            x=sizes, \n",
    "            label=\"train\", \n",
    "            color=\"blue\", \n",
    "            ax=ax2,\n",
    "            scatter_kws={\"s\": 30},\n",
    "            truncate=False)\n",
    "sns.regplot(y=test_scores,\n",
    "            x=sizes,\n",
    "            label=\"test\",\n",
    "            color=\"orange\",\n",
    "            marker=\"*\", \n",
    "            ax=ax2,\n",
    "            scatter_kws={\"s\": 100},\n",
    "            truncate=False)\n",
    "\n",
    "ax2.set_title(\"Regression plot on predicted splits\")\n",
    "ax2.set_ylabel(\"Macro F1 score\")\n",
    "ax2.set_xlabel(\"Dataset size (number of entries)\")\n",
    "plt.legend()\n",
    "\n",
    "# TODO: come back to this once done with data and classifiers\n",
    "caption_text = \"Impact of dataset size on LLM detection. The classifier used is the \"\\\n",
    "\"Random Forest Classifier with 15 simple decision trees. The green line indicates \"\\\n",
    "\"the expected classifier test score on unseen dataset sizes. This line follows the \"\\\n",
    "\"linear assumption which rarely applies to these kinds of problems. Shaded area represents \"\\\n",
    "\"the 95% Confidence Interval.\"\n",
    "caption = textwrap.fill(caption_text, width=110)\n",
    "plt.figtext(0, -0.15, caption)\n",
    "\n",
    "# save and show\n",
    "save_plot(\"dataset_size.png\")\n",
    "plt.show()"
   ]
  },
  {
   "cell_type": "markdown",
   "id": "d017098b-fbb8-4cfe-8956-4f6fb876e84f",
   "metadata": {},
   "source": [
    "## Clustering-based augmentation"
   ]
  },
  {
   "cell_type": "markdown",
   "id": "5fa553d5-483a-4aa4-9790-d6d46b3ed95c",
   "metadata": {},
   "source": [
    "In order to determine the \"variance\" of our generated samples, we can use clustering techniques to determine "
   ]
  },
  {
   "cell_type": "markdown",
   "id": "b42e8abf-593f-4a39-8bf5-333ef241c778",
   "metadata": {},
   "source": [
    "https://builtin.com/data-science/elbow-method"
   ]
  },
  {
   "cell_type": "code",
   "execution_count": 44,
   "id": "50869b92-04e0-4525-85d4-54a74fbebb44",
   "metadata": {},
   "outputs": [],
   "source": [
    "x_generated = vectorizer.transform(generated_df.text).toarray()\n",
    "x_human = vectorizer.transform(human_df.text).toarray()"
   ]
  },
  {
   "cell_type": "markdown",
   "id": "e49711af-484c-466f-99e6-637a7904fd2e",
   "metadata": {},
   "source": [
    "### Clustering Generated Essays"
   ]
  },
  {
   "cell_type": "code",
   "execution_count": 45,
   "id": "da316721-1497-4731-9bdc-5e7452d179e0",
   "metadata": {},
   "outputs": [
    {
     "data": {
      "image/png": "[encoded data removed]",
      "text/plain": [
       "<Figure size 800x550 with 2 Axes>"
      ]
     },
     "metadata": {},
     "output_type": "display_data"
    }
   ],
   "source": [
    "from sklearn.cluster import KMeans\n",
    "from yellowbrick.cluster import KElbowVisualizer\n",
    "\n",
    "\n",
    "# there is an internal memory leak here, don't worry about it\n",
    "with warnings.catch_warnings():\n",
    "    warnings.simplefilter(\"ignore\")\n",
    "    km = KMeans(random_state=42, n_init=5)\n",
    "    visualizer = KElbowVisualizer(km, k=(2,10))\n",
    "    visualizer.fit(x_generated)        \n",
    "    \n",
    "plt.title(\"Generated Essays - Distortion Score Elbow for KMeans with TF-IDF embeddings\")\n",
    "plt.show()"
   ]
  },
  {
   "cell_type": "code",
   "execution_count": null,
   "id": "51d562c6-68a5-4306-997b-4453164c9379",
   "metadata": {},
   "outputs": [
    {
     "name": "stdout",
     "output_type": "stream",
     "text": [
      "Generating plots...\n"
     ]
    },
    {
     "data": {
      "application/vnd.jupyter.widget-view+json": {
       "model_id": "ae8552e7942a4112b4d2de27ea12ad05",
       "version_major": 2,
       "version_minor": 0
      },
      "text/plain": [
       "  0%|          | 0/6 [00:00<?, ?it/s]"
      ]
     },
     "metadata": {},
     "output_type": "display_data"
    }
   ],
   "source": [
    "from yellowbrick.cluster import SilhouetteVisualizer\n",
    "\n",
    "\n",
    "fig, axes = plt.subplots(3, 2, figsize=(15,8))\n",
    "\n",
    "print(\"Generating plots...\")\n",
    "for i in tqdm(range(2, 8)):\n",
    "    # there is an internal memory leak here, don't worry about it\n",
    "    with warnings.catch_warnings():\n",
    "        warnings.simplefilter(\"ignore\")\n",
    "        km = KMeans(n_clusters=i, init='k-means++', n_init=5, random_state=42)\n",
    "        \n",
    "        q, mod = divmod(i, 2)\n",
    "        ax = axes[q-1][mod]\n",
    "        ax.set_title(f\"K={i}\")\n",
    "        \n",
    "        visualizer = SilhouetteVisualizer(km, colors='yellowbrick', ax=ax)\n",
    "        visualizer.fit(x_generated) \n",
    "\n",
    "fig.suptitle(\"Generated Essays - Silhouette Plot of KMeans for using TF-IDF vectors\")\n",
    "fig.tight_layout(h_pad=3, w_pad=3)\n",
    "plt.show()"
   ]
  },
  {
   "cell_type": "code",
   "execution_count": null,
   "id": "6ce5fd51-7ffe-4587-a76e-0b5d012f3c47",
   "metadata": {},
   "outputs": [],
   "source": [
    "x_embed_generated = np.array([x for x in df.loc[df.generated==1].embedding])\n",
    "fig, axes = plt.subplots(3, 2, figsize=(15,8))\n",
    "\n",
    "print(\"Generating plots...\")\n",
    "for i in tqdm(range(2, 8)):\n",
    "    # there is an internal memory leak here, don't worry about it\n",
    "    with warnings.catch_warnings():\n",
    "        warnings.simplefilter(\"ignore\")\n",
    "        km = KMeans(n_clusters=i, init='k-means++', n_init=5, random_state=42)\n",
    "        \n",
    "        q, mod = divmod(i, 2)\n",
    "        ax = axes[q-1][mod]\n",
    "        ax.set_title(f\"K={i}\")\n",
    "        \n",
    "        visualizer = SilhouetteVisualizer(km, colors='yellowbrick', ax=ax)\n",
    "        visualizer.fit(x_embed_generated) \n",
    "\n",
    "fig.suptitle(\"Generated Essays - Silhouette Plot of KMeans Clustering using Word2Vec Embeddings\")\n",
    "fig.tight_layout(h_pad=3, w_pad=3)\n",
    "plt.show()"
   ]
  },
  {
   "cell_type": "code",
   "execution_count": null,
   "id": "7979f19b-a2cc-4f69-b4ef-98e01063892a",
   "metadata": {},
   "outputs": [],
   "source": [
    "def print_clusters(clusters, data_df, n_samples=2):\n",
    "    for cluster in np.unique(clusters):\n",
    "        print(\"=\" * 100)\n",
    "        print(f\"Cluster {cluster}\")\n",
    "        for text in data_df[clusters==cluster].sample(n_samples).text:\n",
    "            print(\"\\t\\t\", text)"
   ]
  },
  {
   "cell_type": "code",
   "execution_count": null,
   "id": "832373b7-20f8-4624-b259-e25de1c274e4",
   "metadata": {},
   "outputs": [],
   "source": [
    "km = KMeans(n_clusters=2, \n",
    "            init=\"k-means++\", \n",
    "            random_state=42, \n",
    "            n_init=10)\n",
    "generated_clusters = km.fit_predict(data)\n",
    "print_clusters(generated_clusters, generated_df)"
   ]
  },
  {
   "cell_type": "markdown",
   "id": "729c279a-f2c4-4411-9f3c-53d87043cf3f",
   "metadata": {},
   "source": [
    "### Clustering Human Essays"
   ]
  },
  {
   "cell_type": "code",
   "execution_count": null,
   "id": "2678858b-cea5-49d7-adc2-a785b73d3134",
   "metadata": {},
   "outputs": [],
   "source": [
    "# there is an internal memory leak here, don't worry about it\n",
    "with warnings.catch_warnings():\n",
    "    warnings.simplefilter(\"ignore\")\n",
    "    km = KMeans(random_state=42, n_init=5)\n",
    "    visualizer = KElbowVisualizer(km, k=(2,10))\n",
    "    visualizer.fit(x_human)        \n",
    "    \n",
    "plt.title(\"Human Essays - Distortion Score Elbow for KMeans\")\n",
    "plt.show()"
   ]
  },
  {
   "cell_type": "code",
   "execution_count": null,
   "id": "e9991a84-63b8-4c86-b361-054441f8a280",
   "metadata": {},
   "outputs": [],
   "source": [
    "fig, axes = plt.subplots(3, 2, figsize=(15,8))\n",
    "\n",
    "print(\"Generating plots...\")\n",
    "for i in tqdm(range(2, 8)):\n",
    "    # there is an internal memory leak here, don't worry about it\n",
    "    with warnings.catch_warnings():\n",
    "        warnings.simplefilter(\"ignore\")\n",
    "        km = KMeans(n_clusters=i, init='k-means++', n_init=5, random_state=42)\n",
    "        \n",
    "        q, mod = divmod(i, 2)\n",
    "        ax = axes[q-1][mod]\n",
    "        ax.set_title(f\"K={i}\")\n",
    "        \n",
    "        visualizer = SilhouetteVisualizer(km, colors='yellowbrick', ax=ax)\n",
    "        visualizer.fit(x_human) \n",
    "\n",
    "fig.suptitle(\"Human Essays - Silhouette Plot of KMeans for human essays with TF-IDF vectors\")\n",
    "fig.tight_layout(h_pad=3, w_pad=3)\n",
    "plt.show()"
   ]
  },
  {
   "cell_type": "code",
   "execution_count": null,
   "id": "73217b5a-ccfe-4ce1-8168-22cdec31365b",
   "metadata": {},
   "outputs": [],
   "source": [
    "embed_human = np.array([x for x in df.loc[df.generated==0].embedding])\n",
    "fig, axes = plt.subplots(3, 2, figsize=(15,8))\n",
    "\n",
    "print(\"Generating plots...\")\n",
    "for i in tqdm(range(2, 8)):\n",
    "    # there is an internal memory leak here, don't worry about it\n",
    "    with warnings.catch_warnings():\n",
    "        warnings.simplefilter(\"ignore\")\n",
    "        km = KMeans(n_clusters=i, init='k-means++', n_init=5, random_state=42)\n",
    "        \n",
    "        q, mod = divmod(i, 2)\n",
    "        ax = axes[q-1][mod]\n",
    "        ax.set_title(f\"K={i}\")\n",
    "        \n",
    "        visualizer = SilhouetteVisualizer(km, colors='yellowbrick', ax=ax)\n",
    "        visualizer.fit(embed_human) \n",
    "\n",
    "fig.suptitle(\"Human Essays - Silhouette Plot of KMeans using Word2Vec embeddings\")\n",
    "fig.tight_layout(h_pad=3, w_pad=3) \n",
    "plt.show()"
   ]
  },
  {
   "cell_type": "code",
   "execution_count": null,
   "id": "deb19b76-f305-4078-89fe-f28bd432fdbc",
   "metadata": {
    "scrolled": true
   },
   "outputs": [],
   "source": [
    "km = KMeans(n_clusters=4, \n",
    "                init=\"k-means++\", \n",
    "                random_state=42, \n",
    "                n_init=10)\n",
    "km = km.fit(embed_human)\n",
    "human_clusters = km.predict(embed_human)\n",
    "print_clusters(human_clusters, human_df)"
   ]
  },
  {
   "cell_type": "markdown",
   "id": "a9121115-6ea0-4298-8cf4-decf5ffd9604",
   "metadata": {},
   "source": [
    "### Augmenting our dataset to balance the clusters"
   ]
  },
  {
   "cell_type": "code",
   "execution_count": null,
   "id": "82ed55d7-9e5f-4730-83e5-880c29b95336",
   "metadata": {},
   "outputs": [],
   "source": [
    "guessed_gen_clusters = km.predict(x_embed_generated)"
   ]
  },
  {
   "cell_type": "code",
   "execution_count": null,
   "id": "a91e4b6b-a9a6-41b7-9b30-66078eaba743",
   "metadata": {},
   "outputs": [],
   "source": [
    "cluster_df = pd.DataFrame({\"clusters\": np.concatenate([\n",
    "                                guessed_gen_clusters, \n",
    "                                human_clusters]),\n",
    "                          \"generated\": np.concatenate([\n",
    "                              np.ones_like(guessed_gen_clusters), \n",
    "                              np.zeros_like(human_clusters)])})\n",
    "\n",
    "mapping = {0: \"Cars w/sources\", \n",
    "           1: \"Election w/sources\",\n",
    "          2: \"Election no sources\",\n",
    "          3: \"Cars no sources\"}\n",
    "\n",
    "cluster_df.clusters = cluster_df.clusters.map(mapping)\n",
    "cluster_df"
   ]
  },
  {
   "cell_type": "code",
   "execution_count": null,
   "id": "eb4480ac-b9d6-4213-af17-c54586cd6eaa",
   "metadata": {},
   "outputs": [],
   "source": [
    "fig, (ax1, ax2) = plt.subplots(1, 2)\n",
    "\n",
    "cluster_human_df = cluster_df[cluster_df.generated == 0]\n",
    "cluster_human_df.clusters.value_counts().sort_index().plot(\n",
    "    kind='bar', \n",
    "    color=['blue', 'green', 'red', 'purple'],\n",
    "    ax=ax1)\n",
    "ax1.set_title(\"Human Essays\")\n",
    "ax1.set_xlabel(\"Cluster\")\n",
    "ax1.set_ylabel(\"Number of essays\")\n",
    "ax1.set_xticklabels(ax1.get_xticklabels(), rotation=45)\n",
    "\n",
    "\n",
    "gen_human_df = cluster_df[cluster_df.generated == 1]\n",
    "gen_human_df.clusters.value_counts().sort_index().plot(\n",
    "    kind='bar', \n",
    "    color=['blue', 'green', 'red', 'purple'],\n",
    "    ax=ax2)\n",
    "ax2.set_title(\"Generated Essays\")\n",
    "ax2.set_xlabel(\"Cluster\")\n",
    "ax2.set_ylabel(\"Number of essays\")\n",
    "ax2.set_xticklabels(ax2.get_xticklabels(), rotation=45)\n",
    "\n",
    "fig.suptitle(\"Number of essays per cluster\")\n",
    "plt.show()"
   ]
  },
  {
   "cell_type": "markdown",
   "id": "eb5715db-2f60-4a33-934f-081e6a61450a",
   "metadata": {},
   "source": [
    "### Cluster-based augmentation"
   ]
  },
  {
   "cell_type": "code",
   "execution_count": null,
   "id": "3bf6a9ee-4c92-493e-9dbd-06aeeb491317",
   "metadata": {},
   "outputs": [],
   "source": [
    "extra_cars_df = create_gpt_dataset(\"cluster_augmentation_cars.md\", prompt_id=0)\n",
    "extra_cars_df.text = preprocess(extra_cars_df.text)\n",
    "extra_cars_df"
   ]
  },
  {
   "cell_type": "code",
   "execution_count": null,
   "id": "837642ae-df6c-4fd5-b34e-22950e7888d0",
   "metadata": {},
   "outputs": [],
   "source": []
  }
 ],
 "metadata": {
  "kernelspec": {
   "display_name": "Python 3 (ipykernel)",
   "language": "python",
   "name": "python3"
  },
  "language_info": {
   "codemirror_mode": {
    "name": "ipython",
    "version": 3
   },
   "file_extension": ".py",
   "mimetype": "text/x-python",
   "name": "python",
   "nbconvert_exporter": "python",
   "pygments_lexer": "ipython3",
   "version": "3.11.5"
  }
 },
 "nbformat": 4,
 "nbformat_minor": 5
}
