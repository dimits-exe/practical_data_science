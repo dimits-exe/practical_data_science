{
 "cells": [
  {
   "cell_type": "code",
   "execution_count": 1,
   "id": "26584ef6-7959-477a-aa3f-6c1e3d83f054",
   "metadata": {},
   "outputs": [
    {
     "data": {
      "application/vnd.jupyter.widget-view+json": {
       "model_id": "4cd75bb45d3f463682b58f812a44f818",
       "version_major": 2,
       "version_minor": 0
      },
      "text/plain": [
       "0it [00:00, ?it/s]"
      ]
     },
     "metadata": {},
     "output_type": "display_data"
    }
   ],
   "source": [
    "from tqdm.notebook import tqdm_notebook\n",
    "from tqdm.auto import tqdm\n",
    "import pandas as pd\n",
    "import numpy as np\n",
    "import os\n",
    "\n",
    "\n",
    "# enable progress bar functionality\n",
    "tqdm_notebook().pandas()\n",
    "\n",
    "DATA_DIR = os.path.join(\"..\", \"data\")\n",
    "OUTPUT_DIR = \"..\\output\""
   ]
  },
  {
   "cell_type": "code",
   "execution_count": 2,
   "id": "8424b185-e105-41d1-9cdf-4e1461573045",
   "metadata": {},
   "outputs": [
    {
     "data": {
      "text/html": [
       "<div>\n",
       "<style scoped>\n",
       "    .dataframe tbody tr th:only-of-type {\n",
       "        vertical-align: middle;\n",
       "    }\n",
       "\n",
       "    .dataframe tbody tr th {\n",
       "        vertical-align: top;\n",
       "    }\n",
       "\n",
       "    .dataframe thead th {\n",
       "        text-align: right;\n",
       "    }\n",
       "</style>\n",
       "<table border=\"1\" class=\"dataframe\">\n",
       "  <thead>\n",
       "    <tr style=\"text-align: right;\">\n",
       "      <th></th>\n",
       "      <th>id</th>\n",
       "      <th>text</th>\n",
       "      <th>prompt_id</th>\n",
       "      <th>generated</th>\n",
       "      <th>embedding</th>\n",
       "    </tr>\n",
       "  </thead>\n",
       "  <tbody>\n",
       "    <tr>\n",
       "      <th>0</th>\n",
       "      <td>2003001870352</td>\n",
       "      <td>cars have been a major part of our lives for a...</td>\n",
       "      <td>0</td>\n",
       "      <td>1</td>\n",
       "      <td>[ 8.0638006e-02  1.6982207e+00 -2.5302460e+00 ...</td>\n",
       "    </tr>\n",
       "    <tr>\n",
       "      <th>1</th>\n",
       "      <td>2002999238416</td>\n",
       "      <td>limiting car usage has many advantages, such a...</td>\n",
       "      <td>0</td>\n",
       "      <td>1</td>\n",
       "      <td>[-0.8870298  -0.45862535 -3.3064713  -0.091987...</td>\n",
       "    </tr>\n",
       "    <tr>\n",
       "      <th>2</th>\n",
       "      <td>2003043890224</td>\n",
       "      <td>\"america's love affair with it's vehicles seem...</td>\n",
       "      <td>0</td>\n",
       "      <td>1</td>\n",
       "      <td>[ 1.3898681   1.1529934  -1.213773   -2.872517...</td>\n",
       "    </tr>\n",
       "    <tr>\n",
       "      <th>3</th>\n",
       "      <td>2003002359856</td>\n",
       "      <td>cars are convenient, but they can be harmful t...</td>\n",
       "      <td>0</td>\n",
       "      <td>1</td>\n",
       "      <td>[-0.90010715 -0.37471777 -3.003909   -0.017782...</td>\n",
       "    </tr>\n",
       "    <tr>\n",
       "      <th>4</th>\n",
       "      <td>2003032440576</td>\n",
       "      <td>cars are a convenient way to get around, but t...</td>\n",
       "      <td>0</td>\n",
       "      <td>1</td>\n",
       "      <td>[-8.3860934e-02 -2.7152100e-01 -3.4049506e+00 ...</td>\n",
       "    </tr>\n",
       "    <tr>\n",
       "      <th>...</th>\n",
       "      <td>...</td>\n",
       "      <td>...</td>\n",
       "      <td>...</td>\n",
       "      <td>...</td>\n",
       "      <td>...</td>\n",
       "    </tr>\n",
       "    <tr>\n",
       "      <th>5248</th>\n",
       "      <td>fe6ff9a5</td>\n",
       "      <td>there has been a fuss about the elector colleg...</td>\n",
       "      <td>1</td>\n",
       "      <td>0</td>\n",
       "      <td>[-1.42343497e+00  5.88029288e-02 -2.23422146e+...</td>\n",
       "    </tr>\n",
       "    <tr>\n",
       "      <th>5249</th>\n",
       "      <td>ff669174</td>\n",
       "      <td>limiting car usage has many advantages. such a...</td>\n",
       "      <td>0</td>\n",
       "      <td>0</td>\n",
       "      <td>[-2.03082055e-01  8.64372015e-01 -3.53538036e+...</td>\n",
       "    </tr>\n",
       "    <tr>\n",
       "      <th>5250</th>\n",
       "      <td>ffa247e0</td>\n",
       "      <td>there's a new trend that has been developing f...</td>\n",
       "      <td>0</td>\n",
       "      <td>0</td>\n",
       "      <td>[-0.56401914  0.08619051 -1.9395874  -0.461474...</td>\n",
       "    </tr>\n",
       "    <tr>\n",
       "      <th>5251</th>\n",
       "      <td>ffc237e9</td>\n",
       "      <td>as we all know cars are a big part of our soci...</td>\n",
       "      <td>0</td>\n",
       "      <td>0</td>\n",
       "      <td>[-0.4084281   0.26007837 -2.2451966  -1.063174...</td>\n",
       "    </tr>\n",
       "    <tr>\n",
       "      <th>5252</th>\n",
       "      <td>ffe1ca0d</td>\n",
       "      <td>cars have been around since the 1800's and hav...</td>\n",
       "      <td>0</td>\n",
       "      <td>0</td>\n",
       "      <td>[-0.21564204  0.25178915 -2.4897282  -0.883331...</td>\n",
       "    </tr>\n",
       "  </tbody>\n",
       "</table>\n",
       "<p>5253 rows × 5 columns</p>\n",
       "</div>"
      ],
      "text/plain": [
       "                 id                                               text  \\\n",
       "0     2003001870352  cars have been a major part of our lives for a...   \n",
       "1     2002999238416  limiting car usage has many advantages, such a...   \n",
       "2     2003043890224  \"america's love affair with it's vehicles seem...   \n",
       "3     2003002359856  cars are convenient, but they can be harmful t...   \n",
       "4     2003032440576  cars are a convenient way to get around, but t...   \n",
       "...             ...                                                ...   \n",
       "5248       fe6ff9a5  there has been a fuss about the elector colleg...   \n",
       "5249       ff669174  limiting car usage has many advantages. such a...   \n",
       "5250       ffa247e0  there's a new trend that has been developing f...   \n",
       "5251       ffc237e9  as we all know cars are a big part of our soci...   \n",
       "5252       ffe1ca0d  cars have been around since the 1800's and hav...   \n",
       "\n",
       "      prompt_id  generated                                          embedding  \n",
       "0             0          1  [ 8.0638006e-02  1.6982207e+00 -2.5302460e+00 ...  \n",
       "1             0          1  [-0.8870298  -0.45862535 -3.3064713  -0.091987...  \n",
       "2             0          1  [ 1.3898681   1.1529934  -1.213773   -2.872517...  \n",
       "3             0          1  [-0.90010715 -0.37471777 -3.003909   -0.017782...  \n",
       "4             0          1  [-8.3860934e-02 -2.7152100e-01 -3.4049506e+00 ...  \n",
       "...         ...        ...                                                ...  \n",
       "5248          1          0  [-1.42343497e+00  5.88029288e-02 -2.23422146e+...  \n",
       "5249          0          0  [-2.03082055e-01  8.64372015e-01 -3.53538036e+...  \n",
       "5250          0          0  [-0.56401914  0.08619051 -1.9395874  -0.461474...  \n",
       "5251          0          0  [-0.4084281   0.26007837 -2.2451966  -1.063174...  \n",
       "5252          0          0  [-0.21564204  0.25178915 -2.4897282  -0.883331...  \n",
       "\n",
       "[5253 rows x 5 columns]"
      ]
     },
     "execution_count": 2,
     "metadata": {},
     "output_type": "execute_result"
    }
   ],
   "source": [
    "df = pd.read_csv(os.path.join(OUTPUT_DIR, \"loov_input_data.csv\"))\n",
    "df = df.drop(\"Unnamed: 0\", axis=1)\n",
    "df"
   ]
  },
  {
   "cell_type": "code",
   "execution_count": 3,
   "id": "4ea9a57c-1332-4632-8899-f1e0d1cc55b1",
   "metadata": {},
   "outputs": [
    {
     "data": {
      "text/plain": [
       "id           object\n",
       "text         object\n",
       "prompt_id     int64\n",
       "generated     int64\n",
       "embedding    object\n",
       "dtype: object"
      ]
     },
     "execution_count": 3,
     "metadata": {},
     "output_type": "execute_result"
    }
   ],
   "source": [
    "df.dtypes"
   ]
  },
  {
   "cell_type": "code",
   "execution_count": 5,
   "id": "328889c4-a93d-441a-bcd1-15696b1338ad",
   "metadata": {},
   "outputs": [
    {
     "data": {
      "text/html": [
       "<style>#sk-container-id-1 {color: black;}#sk-container-id-1 pre{padding: 0;}#sk-container-id-1 div.sk-toggleable {background-color: white;}#sk-container-id-1 label.sk-toggleable__label {cursor: pointer;display: block;width: 100%;margin-bottom: 0;padding: 0.3em;box-sizing: border-box;text-align: center;}#sk-container-id-1 label.sk-toggleable__label-arrow:before {content: \"▸\";float: left;margin-right: 0.25em;color: #696969;}#sk-container-id-1 label.sk-toggleable__label-arrow:hover:before {color: black;}#sk-container-id-1 div.sk-estimator:hover label.sk-toggleable__label-arrow:before {color: black;}#sk-container-id-1 div.sk-toggleable__content {max-height: 0;max-width: 0;overflow: hidden;text-align: left;background-color: #f0f8ff;}#sk-container-id-1 div.sk-toggleable__content pre {margin: 0.2em;color: black;border-radius: 0.25em;background-color: #f0f8ff;}#sk-container-id-1 input.sk-toggleable__control:checked~div.sk-toggleable__content {max-height: 200px;max-width: 100%;overflow: auto;}#sk-container-id-1 input.sk-toggleable__control:checked~label.sk-toggleable__label-arrow:before {content: \"▾\";}#sk-container-id-1 div.sk-estimator input.sk-toggleable__control:checked~label.sk-toggleable__label {background-color: #d4ebff;}#sk-container-id-1 div.sk-label input.sk-toggleable__control:checked~label.sk-toggleable__label {background-color: #d4ebff;}#sk-container-id-1 input.sk-hidden--visually {border: 0;clip: rect(1px 1px 1px 1px);clip: rect(1px, 1px, 1px, 1px);height: 1px;margin: -1px;overflow: hidden;padding: 0;position: absolute;width: 1px;}#sk-container-id-1 div.sk-estimator {font-family: monospace;background-color: #f0f8ff;border: 1px dotted black;border-radius: 0.25em;box-sizing: border-box;margin-bottom: 0.5em;}#sk-container-id-1 div.sk-estimator:hover {background-color: #d4ebff;}#sk-container-id-1 div.sk-parallel-item::after {content: \"\";width: 100%;border-bottom: 1px solid gray;flex-grow: 1;}#sk-container-id-1 div.sk-label:hover label.sk-toggleable__label {background-color: #d4ebff;}#sk-container-id-1 div.sk-serial::before {content: \"\";position: absolute;border-left: 1px solid gray;box-sizing: border-box;top: 0;bottom: 0;left: 50%;z-index: 0;}#sk-container-id-1 div.sk-serial {display: flex;flex-direction: column;align-items: center;background-color: white;padding-right: 0.2em;padding-left: 0.2em;position: relative;}#sk-container-id-1 div.sk-item {position: relative;z-index: 1;}#sk-container-id-1 div.sk-parallel {display: flex;align-items: stretch;justify-content: center;background-color: white;position: relative;}#sk-container-id-1 div.sk-item::before, #sk-container-id-1 div.sk-parallel-item::before {content: \"\";position: absolute;border-left: 1px solid gray;box-sizing: border-box;top: 0;bottom: 0;left: 50%;z-index: -1;}#sk-container-id-1 div.sk-parallel-item {display: flex;flex-direction: column;z-index: 1;position: relative;background-color: white;}#sk-container-id-1 div.sk-parallel-item:first-child::after {align-self: flex-end;width: 50%;}#sk-container-id-1 div.sk-parallel-item:last-child::after {align-self: flex-start;width: 50%;}#sk-container-id-1 div.sk-parallel-item:only-child::after {width: 0;}#sk-container-id-1 div.sk-dashed-wrapped {border: 1px dashed gray;margin: 0 0.4em 0.5em 0.4em;box-sizing: border-box;padding-bottom: 0.4em;background-color: white;}#sk-container-id-1 div.sk-label label {font-family: monospace;font-weight: bold;display: inline-block;line-height: 1.2em;}#sk-container-id-1 div.sk-label-container {text-align: center;}#sk-container-id-1 div.sk-container {/* jupyter's `normalize.less` sets `[hidden] { display: none; }` but bootstrap.min.css set `[hidden] { display: none !important; }` so we also need the `!important` here to be able to override the default hidden behavior on the sphinx rendered scikit-learn.org. See: https://github.com/scikit-learn/scikit-learn/issues/21755 */display: inline-block !important;position: relative;}#sk-container-id-1 div.sk-text-repr-fallback {display: none;}</style><div id=\"sk-container-id-1\" class=\"sk-top-container\"><div class=\"sk-text-repr-fallback\"><pre>TfidfVectorizer(max_df=0.9, min_df=0.05, ngram_range=(3, 5),\n",
       "                strip_accents=&#x27;unicode&#x27;)</pre><b>In a Jupyter environment, please rerun this cell to show the HTML representation or trust the notebook. <br />On GitHub, the HTML representation is unable to render, please try loading this page with nbviewer.org.</b></div><div class=\"sk-container\" hidden><div class=\"sk-item\"><div class=\"sk-estimator sk-toggleable\"><input class=\"sk-toggleable__control sk-hidden--visually\" id=\"sk-estimator-id-1\" type=\"checkbox\" checked><label for=\"sk-estimator-id-1\" class=\"sk-toggleable__label sk-toggleable__label-arrow\">TfidfVectorizer</label><div class=\"sk-toggleable__content\"><pre>TfidfVectorizer(max_df=0.9, min_df=0.05, ngram_range=(3, 5),\n",
       "                strip_accents=&#x27;unicode&#x27;)</pre></div></div></div></div></div>"
      ],
      "text/plain": [
       "TfidfVectorizer(max_df=0.9, min_df=0.05, ngram_range=(3, 5),\n",
       "                strip_accents='unicode')"
      ]
     },
     "execution_count": 5,
     "metadata": {},
     "output_type": "execute_result"
    }
   ],
   "source": [
    "from sklearn.feature_extraction.text import TfidfVectorizer\n",
    "\n",
    "\n",
    "#https://aclanthology.org/2020.aespen-1.6.pdf\n",
    "vectorizer = TfidfVectorizer(strip_accents=\"unicode\",\n",
    "                             ngram_range=(3,5), \n",
    "                             max_df=0.9, \n",
    "                             min_df=0.05)\n",
    "vectorizer.fit(df.text)"
   ]
  },
  {
   "cell_type": "code",
   "execution_count": 6,
   "id": "66754485-1140-4f76-bc04-aae029ad31fd",
   "metadata": {},
   "outputs": [],
   "source": [
    "from sklearn.ensemble import AdaBoostClassifier\n",
    "\n",
    "\n",
    "best_model = AdaBoostClassifier(n_estimators=200)"
   ]
  },
  {
   "cell_type": "code",
   "execution_count": 7,
   "id": "a03f22b2-9316-4fd6-9975-48e435a284cb",
   "metadata": {},
   "outputs": [],
   "source": [
    "import threading\n",
    "\n",
    "file_lock = threading.Lock()"
   ]
  },
  {
   "cell_type": "code",
   "execution_count": 8,
   "id": "8c251973-7fbf-4f96-8c59-777e0ab981aa",
   "metadata": {},
   "outputs": [],
   "source": [
    "from sklearn.base import clone\n",
    "\n",
    "\n",
    "def validate(essay_id):\n",
    "    essay_train = df[~df.id.eq(essay_id)]\n",
    "    essay_test = df[df.id.eq(essay_id)]\n",
    "    \n",
    "    if essay_test.shape[0] != 1:\n",
    "        raise ValueError(f\"Error id={essay_id} shape={essay_test.shape}\")\n",
    "        \n",
    "    model = clone(best_model)\n",
    "    model = model.fit(vectorizer.transform(essay_train.text), essay_train.generated)\n",
    "\n",
    "    return model.predict_proba(vectorizer.transform(essay_test.text))\n",
    "\n",
    "\n",
    "def csv_output(df: pd.DataFrame, filename: str) -> None:\n",
    "    \"\"\"\n",
    "    Save a pandas DataFrame to a CSV file.\n",
    "\n",
    "    :param df: The DataFrame to be saved.\n",
    "    :type df: pd.DataFrame\n",
    "\n",
    "    :param filename: The name of the CSV file.\n",
    "    :type filename: str\n",
    "\n",
    "    :return: This function does not return anything.\n",
    "    :rtype: None\n",
    "    \"\"\"\n",
    "    file = os.path.join(OUTPUT_DIR, filename)\n",
    "    df.to_csv(file, encoding = 'utf8')\n",
    "    print(f\"File saved successfully as {file}\")\n",
    "\n",
    "\n",
    "def batch_validate(essay_id):\n",
    "    try:\n",
    "        res =  validate(essay_id)\n",
    "    except Exception as e:\n",
    "        print(e)\n",
    "        return\n",
    "\n",
    "    # if no error append results to disk\n",
    "    with file_lock:\n",
    "        res_df = pd.DataFrame({\"id\": essay_id, \"proba1\":res[0], \"proba2\": res[1]})\n",
    "        file = os.path.join(OUTPUT_DIR, \"loov_intermediate_res.csv\")\n",
    "        df = pd.read_csv(file)\n",
    "        new_df = pd.concat(df, res_df)\n",
    "        csv_output(new_df, file)\n"
   ]
  },
  {
   "cell_type": "code",
   "execution_count": null,
   "id": "f31b09a5-faa7-4138-881c-c4c50a232551",
   "metadata": {},
   "outputs": [],
   "source": [
    "%%timeit\n",
    "validate(df[df.generated==1].id.iloc[1])"
   ]
  },
  {
   "cell_type": "code",
   "execution_count": null,
   "id": "b2caef43-5488-481f-a5e6-07437b22a8c5",
   "metadata": {},
   "outputs": [],
   "source": [
    "from concurrent.futures import ThreadPoolExecutor\n",
    "\n",
    "\n",
    "probs = []\n",
    "ids = df[df.generated == 1].id\n",
    "# n_jobs are optimized for my machine based on CPU usage, \n",
    "# change it accordingly\n",
    "n_jobs = 6\n",
    "\n",
    "print(\"Running Leave One Out validation for generated texts...\")\n",
    "with ThreadPoolExecutor(max_workers=n_jobs) as executor:\n",
    "    list(tqdm(executor.map(batch_validate, ids), total=len(ids)))"
   ]
  },
  {
   "cell_type": "code",
   "execution_count": null,
   "id": "f353c976-524c-4a6a-aa6b-8a062668bda1",
   "metadata": {},
   "outputs": [],
   "source": [
    "similarity_df[\"probs\"] = [x[0][0] for x in probs]\n",
    "similarity_df"
   ]
  }
 ],
 "metadata": {
  "kernelspec": {
   "display_name": "Python 3 (ipykernel)",
   "language": "python",
   "name": "python3"
  },
  "language_info": {
   "codemirror_mode": {
    "name": "ipython",
    "version": 3
   },
   "file_extension": ".py",
   "mimetype": "text/x-python",
   "name": "python",
   "nbconvert_exporter": "python",
   "pygments_lexer": "ipython3",
   "version": "3.11.5"
  }
 },
 "nbformat": 4,
 "nbformat_minor": 5
}
