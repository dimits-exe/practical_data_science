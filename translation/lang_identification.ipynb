{
 "cells": [
  {
   "cell_type": "code",
   "execution_count": 1,
   "id": "61c64785-61ad-4212-a91e-141f1cfd19b5",
   "metadata": {},
   "outputs": [],
   "source": [
    "from time import time\n",
    "\n",
    "start = time()"
   ]
  },
  {
   "cell_type": "markdown",
   "id": "26f6978d-5009-4a94-89e1-ee8ccb01d081",
   "metadata": {},
   "source": [
    "## Regex classifier"
   ]
  },
  {
   "cell_type": "code",
   "execution_count": 2,
   "id": "59b239c8-6826-4835-8b63-5874804b468a",
   "metadata": {
    "tags": []
   },
   "outputs": [],
   "source": [
    "from sklearn.base import BaseEstimator, RegressorMixin\n",
    "import numpy as np\n",
    "import re\n",
    "\n",
    "\n",
    "#idea credit https://www.linkedin.com/pulse/regex-one-pattern-rule-them-all-find-bring-darkness-bind-carranza/\n",
    "class RegexClassifier(BaseEstimator, RegressorMixin):\n",
    "    \"\"\"\n",
    "    Language Classifier using Regular Expressions\n",
    "    \"\"\"\n",
    "\n",
    "    language_regex_dict = {\n",
    "        'el': r'([\\u0370-\\u03FF]+)\\s?',  # Greek\n",
    "        'en': r'([a-zA-Z]+)\\s?',  # English\n",
    "    }\n",
    "\n",
    "    # STATIC INITALIZATION BLOCK\n",
    "    # pre-compie all expressions to save execution time\n",
    "    for lang in language_regex_dict.keys():\n",
    "        language_regex_dict[lang] = re.compile(language_regex_dict[lang])\n",
    "\n",
    "\n",
    "    def __init__(self, include_greeklish=True):\n",
    "        \"\"\"\n",
    "        Initialize a new :class:`RegexClassifier` instance.\n",
    "\n",
    "        :param include_greeklish: Optional. If True, include Greeklish in the language identification process.\n",
    "        \"\"\"\n",
    "        self.include_greeklish = include_greeklish\n",
    "\n",
    "    def predict(self, x):\n",
    "        preds = []\n",
    "\n",
    "        for text in x:\n",
    "            pred = None\n",
    "\n",
    "            if self.include_greeklish and \\\n",
    "                re.search(RegexClassifier.language_regex_dict[\"el\"], text) and \\\n",
    "                re.search(RegexClassifier.language_regex_dict[\"en\"], text):\n",
    "                    pred = \"greeklish\"\n",
    "\n",
    "            for lang_code, regex_pattern in RegexClassifier.language_regex_dict.items():\n",
    "                match = re.search(regex_pattern, text)\n",
    "                if match:\n",
    "                    pred = lang_code\n",
    "                    break\n",
    "            preds.append(pred)\n",
    "        return np.array(preds)\n",
    "    \n",
    "    def fit(self, x, y):\n",
    "        return self"
   ]
  },
  {
   "cell_type": "code",
   "execution_count": 3,
   "id": "96a77733-0bfa-45e0-a5a7-4432baab8455",
   "metadata": {
    "tags": []
   },
   "outputs": [
    {
     "name": "stdout",
     "output_type": "stream",
     "text": [
      "Detected Language Code: [None 'en' 'el']\n"
     ]
    }
   ],
   "source": [
    "# Example usage\n",
    "user_input_text = [\"你好，これはサンプルです。안녕하세요\", \"this is an english sentence\", \"δεν αντεχω αλλο\"]\n",
    "detected_language = RegexClassifier().predict(user_input_text)\n",
    "print(f\"Detected Language Code: {detected_language}\")"
   ]
  },
  {
   "cell_type": "markdown",
   "id": "2e6a8254-d567-492c-9a98-c944e7ca5199",
   "metadata": {},
   "source": [
    "## Defining the Gold Standard\n"
   ]
  },
  {
   "cell_type": "markdown",
   "id": "a77d5818-afe2-4c09-9a29-6f615dd492ec",
   "metadata": {},
   "source": [
    "### Greek-English identification dataset"
   ]
  },
  {
   "cell_type": "markdown",
   "id": "35fbce76-e950-4efc-9b38-09da72af29c8",
   "metadata": {},
   "source": [
    "https://aclanthology.org/L06-1229/\n",
    "https://aclanthology.org/L04-1369/\n",
    "https://huggingface.co/datasets/papluca/language-identification"
   ]
  },
  {
   "cell_type": "code",
   "execution_count": 4,
   "id": "7884d336-7550-4a37-9125-fd31d52561e3",
   "metadata": {},
   "outputs": [],
   "source": [
    "import pandas as pd\n",
    "\n",
    "\n",
    "def dataset_to_pd(dataset_dict: dict) -> pd.DataFrame:\n",
    "    df_ls = []\n",
    "    label_array = np.empty(shape=(sum([len(dataset) for dataset in dataset_dict.values()])), dtype=object)\n",
    "    last_idx = -1\n",
    "\n",
    "    for label, dataset in dataset_dict.items():\n",
    "        new_last_idx = len(dataset) + last_idx\n",
    "        label_array.put(np.arange(last_idx+1, new_last_idx+1, 1), label)\n",
    "        last_idx = new_last_idx\n",
    "\n",
    "        df_ls.append(pd.DataFrame(dataset))\n",
    "\n",
    "    full_df = pd.concat(df_ls, ignore_index=True)\n",
    "    full_df[\"set\"] = label_array\n",
    "    full_df.insert(0, \"set\", full_df.pop(\"set\"))\n",
    "\n",
    "    return full_df"
   ]
  },
  {
   "cell_type": "code",
   "execution_count": 5,
   "id": "321846d4-f30f-46f6-b67d-cae6566f7ea0",
   "metadata": {},
   "outputs": [
    {
     "data": {
      "text/plain": [
       "DatasetDict({\n",
       "    train: Dataset({\n",
       "        features: ['labels', 'text'],\n",
       "        num_rows: 70000\n",
       "    })\n",
       "    validation: Dataset({\n",
       "        features: ['labels', 'text'],\n",
       "        num_rows: 10000\n",
       "    })\n",
       "    test: Dataset({\n",
       "        features: ['labels', 'text'],\n",
       "        num_rows: 10000\n",
       "    })\n",
       "})"
      ]
     },
     "execution_count": 5,
     "metadata": {},
     "output_type": "execute_result"
    }
   ],
   "source": [
    "from datasets import load_dataset\n",
    "\n",
    "\n",
    "dataset_dict = load_dataset(\"papluca/language-identification\")\n",
    "dataset_dict"
   ]
  },
  {
   "cell_type": "code",
   "execution_count": 6,
   "id": "fd8bd535-bb09-413a-b30b-cc3c978f93fd",
   "metadata": {},
   "outputs": [
    {
     "data": {
      "text/html": [
       "<div>\n",
       "<style scoped>\n",
       "    .dataframe tbody tr th:only-of-type {\n",
       "        vertical-align: middle;\n",
       "    }\n",
       "\n",
       "    .dataframe tbody tr th {\n",
       "        vertical-align: top;\n",
       "    }\n",
       "\n",
       "    .dataframe thead th {\n",
       "        text-align: right;\n",
       "    }\n",
       "</style>\n",
       "<table border=\"1\" class=\"dataframe\">\n",
       "  <thead>\n",
       "    <tr style=\"text-align: right;\">\n",
       "      <th></th>\n",
       "      <th>set</th>\n",
       "      <th>labels</th>\n",
       "      <th>text</th>\n",
       "    </tr>\n",
       "  </thead>\n",
       "  <tbody>\n",
       "    <tr>\n",
       "      <th>0</th>\n",
       "      <td>train</td>\n",
       "      <td>pt</td>\n",
       "      <td>os chefes de defesa da estónia, letónia, lituâ...</td>\n",
       "    </tr>\n",
       "    <tr>\n",
       "      <th>1</th>\n",
       "      <td>train</td>\n",
       "      <td>bg</td>\n",
       "      <td>размерът на хоризонталната мрежа може да бъде ...</td>\n",
       "    </tr>\n",
       "    <tr>\n",
       "      <th>2</th>\n",
       "      <td>train</td>\n",
       "      <td>zh</td>\n",
       "      <td>很好，以前从不去评价，不知道浪费了多少积分，现在知道积分可以换钱，就要好好评价了，后来我就把...</td>\n",
       "    </tr>\n",
       "    <tr>\n",
       "      <th>3</th>\n",
       "      <td>train</td>\n",
       "      <td>th</td>\n",
       "      <td>สำหรับ ของเก่า ที่ จริงจัง ลอง   honeychurch  ...</td>\n",
       "    </tr>\n",
       "    <tr>\n",
       "      <th>4</th>\n",
       "      <td>train</td>\n",
       "      <td>ru</td>\n",
       "      <td>Он увеличил давление .</td>\n",
       "    </tr>\n",
       "    <tr>\n",
       "      <th>...</th>\n",
       "      <td>...</td>\n",
       "      <td>...</td>\n",
       "      <td>...</td>\n",
       "    </tr>\n",
       "    <tr>\n",
       "      <th>89995</th>\n",
       "      <td>test</td>\n",
       "      <td>zh</td>\n",
       "      <td>史料很充分，对岸的很多观点与大陆迥异啊。</td>\n",
       "    </tr>\n",
       "    <tr>\n",
       "      <th>89996</th>\n",
       "      <td>test</td>\n",
       "      <td>tr</td>\n",
       "      <td>Örneğin, teşhis Yunanca bir kelimeden alındı (...</td>\n",
       "    </tr>\n",
       "    <tr>\n",
       "      <th>89997</th>\n",
       "      <td>test</td>\n",
       "      <td>vi</td>\n",
       "      <td>Nếu lite/light chỉ đơn giản là mô tả một đặc t...</td>\n",
       "    </tr>\n",
       "    <tr>\n",
       "      <th>89998</th>\n",
       "      <td>test</td>\n",
       "      <td>bg</td>\n",
       "      <td>Например, една щатска столица, която посетихме...</td>\n",
       "    </tr>\n",
       "    <tr>\n",
       "      <th>89999</th>\n",
       "      <td>test</td>\n",
       "      <td>pl</td>\n",
       "      <td>Mam dla ciebie kilka propozycji:</td>\n",
       "    </tr>\n",
       "  </tbody>\n",
       "</table>\n",
       "<p>90000 rows × 3 columns</p>\n",
       "</div>"
      ],
      "text/plain": [
       "         set labels                                               text\n",
       "0      train     pt  os chefes de defesa da estónia, letónia, lituâ...\n",
       "1      train     bg  размерът на хоризонталната мрежа може да бъде ...\n",
       "2      train     zh  很好，以前从不去评价，不知道浪费了多少积分，现在知道积分可以换钱，就要好好评价了，后来我就把...\n",
       "3      train     th  สำหรับ ของเก่า ที่ จริงจัง ลอง   honeychurch  ...\n",
       "4      train     ru                             Он увеличил давление .\n",
       "...      ...    ...                                                ...\n",
       "89995   test     zh                               史料很充分，对岸的很多观点与大陆迥异啊。\n",
       "89996   test     tr  Örneğin, teşhis Yunanca bir kelimeden alındı (...\n",
       "89997   test     vi  Nếu lite/light chỉ đơn giản là mô tả một đặc t...\n",
       "89998   test     bg  Например, една щатска столица, която посетихме...\n",
       "89999   test     pl                   Mam dla ciebie kilka propozycji:\n",
       "\n",
       "[90000 rows x 3 columns]"
      ]
     },
     "execution_count": 6,
     "metadata": {},
     "output_type": "execute_result"
    }
   ],
   "source": [
    "gold1_df = dataset_to_pd(dataset_dict)\n",
    "gold1_df"
   ]
  },
  {
   "cell_type": "code",
   "execution_count": 7,
   "id": "b65d7720-bf89-4b94-8283-4544209ea5be",
   "metadata": {
    "tags": []
   },
   "outputs": [
    {
     "data": {
      "text/html": [
       "<div>\n",
       "<style scoped>\n",
       "    .dataframe tbody tr th:only-of-type {\n",
       "        vertical-align: middle;\n",
       "    }\n",
       "\n",
       "    .dataframe tbody tr th {\n",
       "        vertical-align: top;\n",
       "    }\n",
       "\n",
       "    .dataframe thead th {\n",
       "        text-align: right;\n",
       "    }\n",
       "</style>\n",
       "<table border=\"1\" class=\"dataframe\">\n",
       "  <thead>\n",
       "    <tr style=\"text-align: right;\">\n",
       "      <th></th>\n",
       "      <th>labels</th>\n",
       "      <th>text</th>\n",
       "    </tr>\n",
       "  </thead>\n",
       "  <tbody>\n",
       "    <tr>\n",
       "      <th>18</th>\n",
       "      <td>el</td>\n",
       "      <td>Παρά τον εαυτό μου , η γνώμη μου για τη σύνεση...</td>\n",
       "    </tr>\n",
       "    <tr>\n",
       "      <th>39</th>\n",
       "      <td>en</td>\n",
       "      <td>Didnt really seem to work much.</td>\n",
       "    </tr>\n",
       "    <tr>\n",
       "      <th>40</th>\n",
       "      <td>el</td>\n",
       "      <td>Ακόμα και το να ξέρεις ότι ήταν ένα άγαλμα που...</td>\n",
       "    </tr>\n",
       "    <tr>\n",
       "      <th>49</th>\n",
       "      <td>en</td>\n",
       "      <td>Highly recommend for those who don't like bein...</td>\n",
       "    </tr>\n",
       "    <tr>\n",
       "      <th>75</th>\n",
       "      <td>el</td>\n",
       "      <td>Έχω κάνει τέσσερις ή πέντε .</td>\n",
       "    </tr>\n",
       "    <tr>\n",
       "      <th>...</th>\n",
       "      <td>...</td>\n",
       "      <td>...</td>\n",
       "    </tr>\n",
       "    <tr>\n",
       "      <th>89961</th>\n",
       "      <td>en</td>\n",
       "      <td>It's super cute, really soft. Print is fine bu...</td>\n",
       "    </tr>\n",
       "    <tr>\n",
       "      <th>89965</th>\n",
       "      <td>en</td>\n",
       "      <td>One of them worked, the other one didn't. Ther...</td>\n",
       "    </tr>\n",
       "    <tr>\n",
       "      <th>89978</th>\n",
       "      <td>en</td>\n",
       "      <td>I only received one out of the three strikers :(</td>\n",
       "    </tr>\n",
       "    <tr>\n",
       "      <th>89982</th>\n",
       "      <td>el</td>\n",
       "      <td>Οι οργανισμοί πρέπει να είναι σε θέση να μετρή...</td>\n",
       "    </tr>\n",
       "    <tr>\n",
       "      <th>89986</th>\n",
       "      <td>el</td>\n",
       "      <td>Το Abeam με την Arabella, απέναντι από το λιμά...</td>\n",
       "    </tr>\n",
       "  </tbody>\n",
       "</table>\n",
       "<p>9000 rows × 2 columns</p>\n",
       "</div>"
      ],
      "text/plain": [
       "      labels                                               text\n",
       "18        el  Παρά τον εαυτό μου , η γνώμη μου για τη σύνεση...\n",
       "39        en                    Didnt really seem to work much.\n",
       "40        el  Ακόμα και το να ξέρεις ότι ήταν ένα άγαλμα που...\n",
       "49        en  Highly recommend for those who don't like bein...\n",
       "75        el                       Έχω κάνει τέσσερις ή πέντε .\n",
       "...      ...                                                ...\n",
       "89961     en  It's super cute, really soft. Print is fine bu...\n",
       "89965     en  One of them worked, the other one didn't. Ther...\n",
       "89978     en   I only received one out of the three strikers :(\n",
       "89982     el  Οι οργανισμοί πρέπει να είναι σε θέση να μετρή...\n",
       "89986     el  Το Abeam με την Arabella, απέναντι από το λιμά...\n",
       "\n",
       "[9000 rows x 2 columns]"
      ]
     },
     "execution_count": 7,
     "metadata": {},
     "output_type": "execute_result"
    }
   ],
   "source": [
    "gold1_df = gold1_df.loc[gold1_df.labels.eq(\"el\") | gold1_df.labels.eq(\"en\"), [\"labels\", \"text\"]]\n",
    "gold1_df"
   ]
  },
  {
   "cell_type": "markdown",
   "id": "c2697de5-d487-4603-8708-cc502034a3dd",
   "metadata": {},
   "source": [
    "### Greek-Greeklish identification dataset"
   ]
  },
  {
   "cell_type": "code",
   "execution_count": 8,
   "id": "fbf1b45a-9a2f-419e-b900-4c6e873349cc",
   "metadata": {},
   "outputs": [],
   "source": [
    "head_url = \"https://forum.warmane.com\"\n",
    "warmane_url = \"https://forum.warmane.com/forumdisplay.php?f=20\""
   ]
  },
  {
   "cell_type": "code",
   "execution_count": 9,
   "id": "03a32104-f828-44e2-b9e6-fb0a1d5bd71c",
   "metadata": {
    "tags": []
   },
   "outputs": [
    {
     "name": "stdout",
     "output_type": "stream",
     "text": [
      "Processing page 1 of 8...\n"
     ]
    },
    {
     "name": "stderr",
     "output_type": "stream",
     "text": [
      "100%|██████████████████████████████████████████████████████████████████████████████████| 20/20 [00:05<00:00,  3.84it/s]\n"
     ]
    },
    {
     "name": "stdout",
     "output_type": "stream",
     "text": [
      "Processing page 2 of 8...\n"
     ]
    },
    {
     "name": "stderr",
     "output_type": "stream",
     "text": [
      "100%|██████████████████████████████████████████████████████████████████████████████████| 20/20 [00:03<00:00,  5.57it/s]\n"
     ]
    },
    {
     "name": "stdout",
     "output_type": "stream",
     "text": [
      "Processing page 3 of 8...\n"
     ]
    },
    {
     "name": "stderr",
     "output_type": "stream",
     "text": [
      "100%|██████████████████████████████████████████████████████████████████████████████████| 20/20 [00:03<00:00,  5.62it/s]\n"
     ]
    },
    {
     "name": "stdout",
     "output_type": "stream",
     "text": [
      "Processing page 4 of 8...\n"
     ]
    },
    {
     "name": "stderr",
     "output_type": "stream",
     "text": [
      "100%|██████████████████████████████████████████████████████████████████████████████████| 20/20 [00:03<00:00,  5.20it/s]\n"
     ]
    },
    {
     "name": "stdout",
     "output_type": "stream",
     "text": [
      "Processing page 5 of 8...\n"
     ]
    },
    {
     "name": "stderr",
     "output_type": "stream",
     "text": [
      "100%|██████████████████████████████████████████████████████████████████████████████████| 20/20 [00:03<00:00,  5.22it/s]\n"
     ]
    },
    {
     "name": "stdout",
     "output_type": "stream",
     "text": [
      "Processing page 6 of 8...\n"
     ]
    },
    {
     "name": "stderr",
     "output_type": "stream",
     "text": [
      "100%|██████████████████████████████████████████████████████████████████████████████████| 20/20 [00:03<00:00,  5.57it/s]\n"
     ]
    },
    {
     "name": "stdout",
     "output_type": "stream",
     "text": [
      "Processing page 7 of 8...\n"
     ]
    },
    {
     "name": "stderr",
     "output_type": "stream",
     "text": [
      " 65%|█████████████████████████████████████████████████████▎                            | 13/20 [00:02<00:01,  5.24it/s]"
     ]
    },
    {
     "name": "stdout",
     "output_type": "stream",
     "text": [
      "ERROR: Failed to get information on post  https://forum.warmane.com/showthread.php?t=272585\n"
     ]
    },
    {
     "name": "stderr",
     "output_type": "stream",
     "text": [
      "100%|██████████████████████████████████████████████████████████████████████████████████| 20/20 [00:03<00:00,  5.53it/s]\n"
     ]
    },
    {
     "name": "stdout",
     "output_type": "stream",
     "text": [
      "Processing page 8 of 8...\n"
     ]
    },
    {
     "name": "stderr",
     "output_type": "stream",
     "text": [
      " 75%|███████████████████████████████████████████████████████████████                     | 6/8 [00:01<00:00,  5.51it/s]"
     ]
    },
    {
     "name": "stdout",
     "output_type": "stream",
     "text": [
      "ERROR: Failed to get information on post  https://forum.warmane.com/showthread.php?t=278731\n"
     ]
    },
    {
     "name": "stderr",
     "output_type": "stream",
     "text": [
      "100%|████████████████████████████████████████████████████████████████████████████████████| 8/8 [00:01<00:00,  5.76it/s]\n"
     ]
    }
   ],
   "source": [
    "from src.util import fetch_soup\n",
    "from tasks.warmane import parse_warmane_thread\n",
    "from tqdm import tqdm\n",
    "\n",
    "\n",
    "threads = []\n",
    "\n",
    "for page in range(1, 9):\n",
    "    url = warmane_url + f\"&page={page}\"\n",
    "    soup = fetch_soup(url)\n",
    "\n",
    "    print(f\"Processing page {page} of 8...\")\n",
    "    thread_tags = soup.find_all(\"li\", {\"class\": \"threadbit\"})\n",
    "    for thread_tag in tqdm(thread_tags):\n",
    "        thread = parse_warmane_thread(head_url, thread_tag)\n",
    "        threads.append(thread)"
   ]
  },
  {
   "cell_type": "code",
   "execution_count": 10,
   "id": "e0d9a523-1311-4960-ab66-1f9b98c03729",
   "metadata": {
    "tags": []
   },
   "outputs": [
    {
     "data": {
      "text/plain": [
       "414"
      ]
     },
     "execution_count": 10,
     "metadata": {},
     "output_type": "execute_result"
    }
   ],
   "source": [
    "import itertools\n",
    "\n",
    "# flatten nested lists \n",
    "posts = set(itertools.chain.from_iterable([thread.posts for thread in threads]))\n",
    "len(posts)"
   ]
  },
  {
   "cell_type": "code",
   "execution_count": 11,
   "id": "2425baf7-a694-4a49-98c0-11d565c2cb98",
   "metadata": {
    "tags": []
   },
   "outputs": [
    {
     "data": {
      "text/html": [
       "<div>\n",
       "<style scoped>\n",
       "    .dataframe tbody tr th:only-of-type {\n",
       "        vertical-align: middle;\n",
       "    }\n",
       "\n",
       "    .dataframe tbody tr th {\n",
       "        vertical-align: top;\n",
       "    }\n",
       "\n",
       "    .dataframe thead th {\n",
       "        text-align: right;\n",
       "    }\n",
       "</style>\n",
       "<table border=\"1\" class=\"dataframe\">\n",
       "  <thead>\n",
       "    <tr style=\"text-align: right;\">\n",
       "      <th></th>\n",
       "      <th>thread_id</th>\n",
       "      <th>author</th>\n",
       "      <th>contents</th>\n",
       "      <th>date</th>\n",
       "      <th>reply_to</th>\n",
       "    </tr>\n",
       "    <tr>\n",
       "      <th>id</th>\n",
       "      <th></th>\n",
       "      <th></th>\n",
       "      <th></th>\n",
       "      <th></th>\n",
       "      <th></th>\n",
       "    </tr>\n",
       "  </thead>\n",
       "  <tbody>\n",
       "    <tr>\n",
       "      <th>2926596</th>\n",
       "      <td>384475</td>\n",
       "      <td>Ripsin</td>\n",
       "      <td>Kalhspera paides,\\n\\r\\nEimai arketo kairo ston...</td>\n",
       "      <td>2018-05-22</td>\n",
       "      <td>-1</td>\n",
       "    </tr>\n",
       "    <tr>\n",
       "      <th>2473988</th>\n",
       "      <td>300013</td>\n",
       "      <td>v4gflo</td>\n",
       "      <td>geia sas.psaxnw ellhniko guild ston Deathwing ...</td>\n",
       "      <td>2015-06-17</td>\n",
       "      <td>-1</td>\n",
       "    </tr>\n",
       "    <tr>\n",
       "      <th>2420747</th>\n",
       "      <td>290921</td>\n",
       "      <td>AlexPan</td>\n",
       "      <td>Καλησπέρα παιδιά, το πρόβλημα είναι το εξής. \\...</td>\n",
       "      <td>2015-03-24</td>\n",
       "      <td>-1</td>\n",
       "    </tr>\n",
       "    <tr>\n",
       "      <th>2981903</th>\n",
       "      <td>399822</td>\n",
       "      <td>xAchillesGate4x</td>\n",
       "      <td>Καλησπέρα παίδες. Ψάχνω Ελληνικό active raidin...</td>\n",
       "      <td>2019-03-03</td>\n",
       "      <td>-1</td>\n",
       "    </tr>\n",
       "    <tr>\n",
       "      <th>2879517</th>\n",
       "      <td>371804</td>\n",
       "      <td>Csdas</td>\n",
       "      <td>Opoios gnwrizei kati as mou kanei /w Dremoria ...</td>\n",
       "      <td>2017-11-29</td>\n",
       "      <td>-1</td>\n",
       "    </tr>\n",
       "    <tr>\n",
       "      <th>...</th>\n",
       "      <td>...</td>\n",
       "      <td>...</td>\n",
       "      <td>...</td>\n",
       "      <td>...</td>\n",
       "      <td>...</td>\n",
       "    </tr>\n",
       "    <tr>\n",
       "      <th>2877428</th>\n",
       "      <td>353812</td>\n",
       "      <td>Shiverbro</td>\n",
       "      <td>kalos private aksizei na ksekiniseis paidia?</td>\n",
       "      <td>2017-11-21</td>\n",
       "      <td>2875915</td>\n",
       "    </tr>\n",
       "    <tr>\n",
       "      <th>3069941</th>\n",
       "      <td>423611</td>\n",
       "      <td>crystallenia898</td>\n",
       "      <td>Ε μεις αυξανόμαστε και θα αρχίσουμε να στήνουμ...</td>\n",
       "      <td>2020-07-26</td>\n",
       "      <td>3068345</td>\n",
       "    </tr>\n",
       "    <tr>\n",
       "      <th>2801654</th>\n",
       "      <td>350071</td>\n",
       "      <td>Draculation</td>\n",
       "      <td>Bump! ICC25 6/12</td>\n",
       "      <td>2017-05-07</td>\n",
       "      <td>2795443</td>\n",
       "    </tr>\n",
       "    <tr>\n",
       "      <th>2873339</th>\n",
       "      <td>370241</td>\n",
       "      <td>Ripsin</td>\n",
       "      <td>Kalhspera tha ithela na rwthsw an kapoios gnwr...</td>\n",
       "      <td>2017-11-07</td>\n",
       "      <td>-1</td>\n",
       "    </tr>\n",
       "    <tr>\n",
       "      <th>2410495</th>\n",
       "      <td>289030</td>\n",
       "      <td>boolouk</td>\n",
       "      <td>Εμπειρια εχω, αλλα δεν εχω χρονο...αυτο ειναι ...</td>\n",
       "      <td>2015-03-13</td>\n",
       "      <td>2409274</td>\n",
       "    </tr>\n",
       "  </tbody>\n",
       "</table>\n",
       "<p>414 rows × 5 columns</p>\n",
       "</div>"
      ],
      "text/plain": [
       "         thread_id           author  \\\n",
       "id                                    \n",
       "2926596     384475           Ripsin   \n",
       "2473988     300013           v4gflo   \n",
       "2420747     290921          AlexPan   \n",
       "2981903     399822  xAchillesGate4x   \n",
       "2879517     371804            Csdas   \n",
       "...            ...              ...   \n",
       "2877428     353812        Shiverbro   \n",
       "3069941     423611  crystallenia898   \n",
       "2801654     350071      Draculation   \n",
       "2873339     370241           Ripsin   \n",
       "2410495     289030          boolouk   \n",
       "\n",
       "                                                  contents       date  \\\n",
       "id                                                                      \n",
       "2926596  Kalhspera paides,\\n\\r\\nEimai arketo kairo ston... 2018-05-22   \n",
       "2473988  geia sas.psaxnw ellhniko guild ston Deathwing ... 2015-06-17   \n",
       "2420747  Καλησπέρα παιδιά, το πρόβλημα είναι το εξής. \\... 2015-03-24   \n",
       "2981903  Καλησπέρα παίδες. Ψάχνω Ελληνικό active raidin... 2019-03-03   \n",
       "2879517  Opoios gnwrizei kati as mou kanei /w Dremoria ... 2017-11-29   \n",
       "...                                                    ...        ...   \n",
       "2877428       kalos private aksizei na ksekiniseis paidia? 2017-11-21   \n",
       "3069941  Ε μεις αυξανόμαστε και θα αρχίσουμε να στήνουμ... 2020-07-26   \n",
       "2801654                                   Bump! ICC25 6/12 2017-05-07   \n",
       "2873339  Kalhspera tha ithela na rwthsw an kapoios gnwr... 2017-11-07   \n",
       "2410495  Εμπειρια εχω, αλλα δεν εχω χρονο...αυτο ειναι ... 2015-03-13   \n",
       "\n",
       "         reply_to  \n",
       "id                 \n",
       "2926596        -1  \n",
       "2473988        -1  \n",
       "2420747        -1  \n",
       "2981903        -1  \n",
       "2879517        -1  \n",
       "...           ...  \n",
       "2877428   2875915  \n",
       "3069941   3068345  \n",
       "2801654   2795443  \n",
       "2873339        -1  \n",
       "2410495   2409274  \n",
       "\n",
       "[414 rows x 5 columns]"
      ]
     },
     "execution_count": 11,
     "metadata": {},
     "output_type": "execute_result"
    }
   ],
   "source": [
    "import pandas as pd\n",
    "\n",
    "warmane_df = pd.DataFrame.from_records([post.__dict__ for post in posts], index=\"id\")\n",
    "warmane_df.reply_to = warmane_df.reply_to.fillna(-1).astype(int)\n",
    "warmane_df"
   ]
  },
  {
   "cell_type": "code",
   "execution_count": 12,
   "id": "dbffc615-c381-41d5-b39f-0d25f77a63e2",
   "metadata": {
    "tags": []
   },
   "outputs": [
    {
     "data": {
      "text/html": [
       "<div>\n",
       "<style scoped>\n",
       "    .dataframe tbody tr th:only-of-type {\n",
       "        vertical-align: middle;\n",
       "    }\n",
       "\n",
       "    .dataframe tbody tr th {\n",
       "        vertical-align: top;\n",
       "    }\n",
       "\n",
       "    .dataframe thead th {\n",
       "        text-align: right;\n",
       "    }\n",
       "</style>\n",
       "<table border=\"1\" class=\"dataframe\">\n",
       "  <thead>\n",
       "    <tr style=\"text-align: right;\">\n",
       "      <th></th>\n",
       "      <th>thread_id</th>\n",
       "      <th>author</th>\n",
       "      <th>contents</th>\n",
       "      <th>date</th>\n",
       "      <th>reply_to</th>\n",
       "    </tr>\n",
       "    <tr>\n",
       "      <th>id</th>\n",
       "      <th></th>\n",
       "      <th></th>\n",
       "      <th></th>\n",
       "      <th></th>\n",
       "      <th></th>\n",
       "    </tr>\n",
       "  </thead>\n",
       "  <tbody>\n",
       "    <tr>\n",
       "      <th>3082464</th>\n",
       "      <td>427259</td>\n",
       "      <td>malakas17</td>\n",
       "      <td></td>\n",
       "      <td>2020-10-20</td>\n",
       "      <td>3081822</td>\n",
       "    </tr>\n",
       "    <tr>\n",
       "      <th>3113236</th>\n",
       "      <td>427259</td>\n",
       "      <td>malakas17</td>\n",
       "      <td></td>\n",
       "      <td>2021-05-12</td>\n",
       "      <td>3113009</td>\n",
       "    </tr>\n",
       "    <tr>\n",
       "      <th>3099161</th>\n",
       "      <td>431660</td>\n",
       "      <td>malakas17</td>\n",
       "      <td></td>\n",
       "      <td>2021-02-10</td>\n",
       "      <td>3096432</td>\n",
       "    </tr>\n",
       "    <tr>\n",
       "      <th>3113819</th>\n",
       "      <td>427259</td>\n",
       "      <td>malakas17</td>\n",
       "      <td></td>\n",
       "      <td>2021-05-16</td>\n",
       "      <td>3113236</td>\n",
       "    </tr>\n",
       "    <tr>\n",
       "      <th>3099593</th>\n",
       "      <td>427259</td>\n",
       "      <td>boonick</td>\n",
       "      <td></td>\n",
       "      <td>2021-02-14</td>\n",
       "      <td>3093400</td>\n",
       "    </tr>\n",
       "    <tr>\n",
       "      <th>3081820</th>\n",
       "      <td>427259</td>\n",
       "      <td>malakas17</td>\n",
       "      <td></td>\n",
       "      <td>2020-10-16</td>\n",
       "      <td>3080427</td>\n",
       "    </tr>\n",
       "    <tr>\n",
       "      <th>3081822</th>\n",
       "      <td>427259</td>\n",
       "      <td>malakas17</td>\n",
       "      <td></td>\n",
       "      <td>2020-10-16</td>\n",
       "      <td>3081820</td>\n",
       "    </tr>\n",
       "  </tbody>\n",
       "</table>\n",
       "</div>"
      ],
      "text/plain": [
       "         thread_id     author contents       date  reply_to\n",
       "id                                                         \n",
       "3082464     427259  malakas17          2020-10-20   3081822\n",
       "3113236     427259  malakas17          2021-05-12   3113009\n",
       "3099161     431660  malakas17          2021-02-10   3096432\n",
       "3113819     427259  malakas17          2021-05-16   3113236\n",
       "3099593     427259    boonick          2021-02-14   3093400\n",
       "3081820     427259  malakas17          2020-10-16   3080427\n",
       "3081822     427259  malakas17          2020-10-16   3081820"
      ]
     },
     "execution_count": 12,
     "metadata": {},
     "output_type": "execute_result"
    }
   ],
   "source": [
    "empty_contents = warmane_df.contents.apply(lambda x: x.isspace() | len(x)==0)\n",
    "warmane_df[empty_contents]"
   ]
  },
  {
   "cell_type": "code",
   "execution_count": 13,
   "id": "29103c28-5579-41e8-b33e-a9fa7a49428d",
   "metadata": {
    "tags": []
   },
   "outputs": [],
   "source": [
    "warmane_df = warmane_df[~empty_contents]"
   ]
  },
  {
   "cell_type": "code",
   "execution_count": 14,
   "id": "3c6bc888-adf2-4c94-bddf-4af870e9a0f6",
   "metadata": {
    "tags": []
   },
   "outputs": [],
   "source": [
    "regex_model = RegexClassifier(include_greeklish=False)\n",
    "preds = regex_model.predict(warmane_df.contents)"
   ]
  },
  {
   "cell_type": "code",
   "execution_count": 15,
   "id": "46995910-7936-46c4-ac34-611a8fdaa307",
   "metadata": {
    "tags": []
   },
   "outputs": [
    {
     "data": {
      "text/plain": [
       "id\n",
       "2926596    Kalhspera paides,\\n\\r\\nEimai arketo kairo ston...\n",
       "2473988    geia sas.psaxnw ellhniko guild ston Deathwing ...\n",
       "2879517    Opoios gnwrizei kati as mou kanei /w Dremoria ...\n",
       "2959390               Bubblethesap Icecrown wotlk horde belf\n",
       "2947119    den se vrisko kane add evvi  .\\nmou leei den u...\n",
       "                                 ...                        \n",
       "2557881                          Paokara einai padou file :P\n",
       "2602989    Me to plevro ton Allience ayti ti fora Oi <<An...\n",
       "2877428         kalos private aksizei na ksekiniseis paidia?\n",
       "2801654                                     Bump! ICC25 6/12\n",
       "2873339    Kalhspera tha ithela na rwthsw an kapoios gnwr...\n",
       "Name: contents, Length: 227, dtype: object"
      ]
     },
     "execution_count": 15,
     "metadata": {},
     "output_type": "execute_result"
    }
   ],
   "source": [
    "warmane_df[preds==\"en\"].contents"
   ]
  },
  {
   "cell_type": "code",
   "execution_count": 16,
   "id": "e1e87acd-db99-4c72-b226-207e8d84e1f0",
   "metadata": {
    "tags": []
   },
   "outputs": [
    {
     "data": {
      "text/plain": [
       "Series([], Name: contents, dtype: object)"
      ]
     },
     "execution_count": 16,
     "metadata": {},
     "output_type": "execute_result"
    }
   ],
   "source": [
    "warmane_df[preds==\"greeklish\"].contents"
   ]
  },
  {
   "cell_type": "code",
   "execution_count": 17,
   "id": "17442e3b-93c7-4a53-82c2-bd26c63b0f16",
   "metadata": {
    "tags": []
   },
   "outputs": [
    {
     "data": {
      "text/plain": [
       "id\n",
       "2420747    Καλησπέρα παιδιά, το πρόβλημα είναι το εξής. \\...\n",
       "2981903    Καλησπέρα παίδες. Ψάχνω Ελληνικό active raidin...\n",
       "2959391    Καλησπερα θα πας στις ιδιότητες (properties) σ...\n",
       "2719776    Originally Posted by celphecil\\n\\nΚαλησπέρα Σω...\n",
       "2971700    Ελληνικο guild , ψαχνουμε ατομα για runs ICC10...\n",
       "                                 ...                        \n",
       "2609122    πώρωση με τα μισά Dung, Quests και Raids bugge...\n",
       "2707437    Λοιπόν μαγες,ξέρει κάποιος γιατί δεν γίνεται ν...\n",
       "2777071    INACTIVE\\n\\n\\n <Northern Defiance>  Καινούργια...\n",
       "3069941    Ε μεις αυξανόμαστε και θα αρχίσουμε να στήνουμ...\n",
       "2410495    Εμπειρια εχω, αλλα δεν εχω χρονο...αυτο ειναι ...\n",
       "Name: contents, Length: 180, dtype: object"
      ]
     },
     "execution_count": 17,
     "metadata": {},
     "output_type": "execute_result"
    }
   ],
   "source": [
    "warmane_df[preds==\"el\"].contents"
   ]
  },
  {
   "cell_type": "code",
   "execution_count": 18,
   "id": "bba2d5fd-9fb7-4fd7-b8f5-a9944d337c07",
   "metadata": {
    "tags": []
   },
   "outputs": [
    {
     "data": {
      "text/html": [
       "<div>\n",
       "<style scoped>\n",
       "    .dataframe tbody tr th:only-of-type {\n",
       "        vertical-align: middle;\n",
       "    }\n",
       "\n",
       "    .dataframe tbody tr th {\n",
       "        vertical-align: top;\n",
       "    }\n",
       "\n",
       "    .dataframe thead th {\n",
       "        text-align: right;\n",
       "    }\n",
       "</style>\n",
       "<table border=\"1\" class=\"dataframe\">\n",
       "  <thead>\n",
       "    <tr style=\"text-align: right;\">\n",
       "      <th></th>\n",
       "      <th>labels</th>\n",
       "      <th>text</th>\n",
       "    </tr>\n",
       "    <tr>\n",
       "      <th>id</th>\n",
       "      <th></th>\n",
       "      <th></th>\n",
       "    </tr>\n",
       "  </thead>\n",
       "  <tbody>\n",
       "    <tr>\n",
       "      <th>2926596</th>\n",
       "      <td>greeklish</td>\n",
       "      <td>Kalhspera paides,\\n\\r\\nEimai arketo kairo ston...</td>\n",
       "    </tr>\n",
       "    <tr>\n",
       "      <th>2473988</th>\n",
       "      <td>greeklish</td>\n",
       "      <td>geia sas.psaxnw ellhniko guild ston Deathwing ...</td>\n",
       "    </tr>\n",
       "    <tr>\n",
       "      <th>2420747</th>\n",
       "      <td>el</td>\n",
       "      <td>Καλησπέρα παιδιά, το πρόβλημα είναι το εξής. \\...</td>\n",
       "    </tr>\n",
       "    <tr>\n",
       "      <th>2981903</th>\n",
       "      <td>el</td>\n",
       "      <td>Καλησπέρα παίδες. Ψάχνω Ελληνικό active raidin...</td>\n",
       "    </tr>\n",
       "    <tr>\n",
       "      <th>2879517</th>\n",
       "      <td>greeklish</td>\n",
       "      <td>Opoios gnwrizei kati as mou kanei /w Dremoria ...</td>\n",
       "    </tr>\n",
       "    <tr>\n",
       "      <th>...</th>\n",
       "      <td>...</td>\n",
       "      <td>...</td>\n",
       "    </tr>\n",
       "    <tr>\n",
       "      <th>2877428</th>\n",
       "      <td>greeklish</td>\n",
       "      <td>kalos private aksizei na ksekiniseis paidia?</td>\n",
       "    </tr>\n",
       "    <tr>\n",
       "      <th>3069941</th>\n",
       "      <td>el</td>\n",
       "      <td>Ε μεις αυξανόμαστε και θα αρχίσουμε να στήνουμ...</td>\n",
       "    </tr>\n",
       "    <tr>\n",
       "      <th>2801654</th>\n",
       "      <td>greeklish</td>\n",
       "      <td>Bump! ICC25 6/12</td>\n",
       "    </tr>\n",
       "    <tr>\n",
       "      <th>2873339</th>\n",
       "      <td>greeklish</td>\n",
       "      <td>Kalhspera tha ithela na rwthsw an kapoios gnwr...</td>\n",
       "    </tr>\n",
       "    <tr>\n",
       "      <th>2410495</th>\n",
       "      <td>el</td>\n",
       "      <td>Εμπειρια εχω, αλλα δεν εχω χρονο...αυτο ειναι ...</td>\n",
       "    </tr>\n",
       "  </tbody>\n",
       "</table>\n",
       "<p>407 rows × 2 columns</p>\n",
       "</div>"
      ],
      "text/plain": [
       "            labels                                               text\n",
       "id                                                                   \n",
       "2926596  greeklish  Kalhspera paides,\\n\\r\\nEimai arketo kairo ston...\n",
       "2473988  greeklish  geia sas.psaxnw ellhniko guild ston Deathwing ...\n",
       "2420747         el  Καλησπέρα παιδιά, το πρόβλημα είναι το εξής. \\...\n",
       "2981903         el  Καλησπέρα παίδες. Ψάχνω Ελληνικό active raidin...\n",
       "2879517  greeklish  Opoios gnwrizei kati as mou kanei /w Dremoria ...\n",
       "...            ...                                                ...\n",
       "2877428  greeklish       kalos private aksizei na ksekiniseis paidia?\n",
       "3069941         el  Ε μεις αυξανόμαστε και θα αρχίσουμε να στήνουμ...\n",
       "2801654  greeklish                                   Bump! ICC25 6/12\n",
       "2873339  greeklish  Kalhspera tha ithela na rwthsw an kapoios gnwr...\n",
       "2410495         el  Εμπειρια εχω, αλλα δεν εχω χρονο...αυτο ειναι ...\n",
       "\n",
       "[407 rows x 2 columns]"
      ]
     },
     "execution_count": 18,
     "metadata": {},
     "output_type": "execute_result"
    }
   ],
   "source": [
    "labels = np.where(preds==\"en\", \"greeklish\", \"el\")\n",
    "gold2_df = pd.DataFrame({\"labels\": labels, \"text\": warmane_df.contents})\n",
    "gold2_df"
   ]
  },
  {
   "cell_type": "code",
   "execution_count": 19,
   "id": "ff7306dd-67e1-4bf6-be4b-6c8974964b61",
   "metadata": {},
   "outputs": [
    {
     "data": {
      "text/html": [
       "<div>\n",
       "<style scoped>\n",
       "    .dataframe tbody tr th:only-of-type {\n",
       "        vertical-align: middle;\n",
       "    }\n",
       "\n",
       "    .dataframe tbody tr th {\n",
       "        vertical-align: top;\n",
       "    }\n",
       "\n",
       "    .dataframe thead th {\n",
       "        text-align: right;\n",
       "    }\n",
       "</style>\n",
       "<table border=\"1\" class=\"dataframe\">\n",
       "  <thead>\n",
       "    <tr style=\"text-align: right;\">\n",
       "      <th></th>\n",
       "      <th>labels</th>\n",
       "      <th>text</th>\n",
       "    </tr>\n",
       "  </thead>\n",
       "  <tbody>\n",
       "    <tr>\n",
       "      <th>18</th>\n",
       "      <td>el</td>\n",
       "      <td>Παρά τον εαυτό μου , η γνώμη μου για τη σύνεση...</td>\n",
       "    </tr>\n",
       "    <tr>\n",
       "      <th>39</th>\n",
       "      <td>en</td>\n",
       "      <td>Didnt really seem to work much.</td>\n",
       "    </tr>\n",
       "    <tr>\n",
       "      <th>40</th>\n",
       "      <td>el</td>\n",
       "      <td>Ακόμα και το να ξέρεις ότι ήταν ένα άγαλμα που...</td>\n",
       "    </tr>\n",
       "    <tr>\n",
       "      <th>49</th>\n",
       "      <td>en</td>\n",
       "      <td>Highly recommend for those who don't like bein...</td>\n",
       "    </tr>\n",
       "    <tr>\n",
       "      <th>75</th>\n",
       "      <td>el</td>\n",
       "      <td>Έχω κάνει τέσσερις ή πέντε .</td>\n",
       "    </tr>\n",
       "    <tr>\n",
       "      <th>...</th>\n",
       "      <td>...</td>\n",
       "      <td>...</td>\n",
       "    </tr>\n",
       "    <tr>\n",
       "      <th>2877428</th>\n",
       "      <td>greeklish</td>\n",
       "      <td>kalos private aksizei na ksekiniseis paidia?</td>\n",
       "    </tr>\n",
       "    <tr>\n",
       "      <th>3069941</th>\n",
       "      <td>el</td>\n",
       "      <td>Ε μεις αυξανόμαστε και θα αρχίσουμε να στήνουμ...</td>\n",
       "    </tr>\n",
       "    <tr>\n",
       "      <th>2801654</th>\n",
       "      <td>greeklish</td>\n",
       "      <td>Bump! ICC25 6/12</td>\n",
       "    </tr>\n",
       "    <tr>\n",
       "      <th>2873339</th>\n",
       "      <td>greeklish</td>\n",
       "      <td>Kalhspera tha ithela na rwthsw an kapoios gnwr...</td>\n",
       "    </tr>\n",
       "    <tr>\n",
       "      <th>2410495</th>\n",
       "      <td>el</td>\n",
       "      <td>Εμπειρια εχω, αλλα δεν εχω χρονο...αυτο ειναι ...</td>\n",
       "    </tr>\n",
       "  </tbody>\n",
       "</table>\n",
       "<p>9407 rows × 2 columns</p>\n",
       "</div>"
      ],
      "text/plain": [
       "            labels                                               text\n",
       "18              el  Παρά τον εαυτό μου , η γνώμη μου για τη σύνεση...\n",
       "39              en                    Didnt really seem to work much.\n",
       "40              el  Ακόμα και το να ξέρεις ότι ήταν ένα άγαλμα που...\n",
       "49              en  Highly recommend for those who don't like bein...\n",
       "75              el                       Έχω κάνει τέσσερις ή πέντε .\n",
       "...            ...                                                ...\n",
       "2877428  greeklish       kalos private aksizei na ksekiniseis paidia?\n",
       "3069941         el  Ε μεις αυξανόμαστε και θα αρχίσουμε να στήνουμ...\n",
       "2801654  greeklish                                   Bump! ICC25 6/12\n",
       "2873339  greeklish  Kalhspera tha ithela na rwthsw an kapoios gnwr...\n",
       "2410495         el  Εμπειρια εχω, αλλα δεν εχω χρονο...αυτο ειναι ...\n",
       "\n",
       "[9407 rows x 2 columns]"
      ]
     },
     "execution_count": 19,
     "metadata": {},
     "output_type": "execute_result"
    }
   ],
   "source": [
    "gold_df = pd.concat([gold1_df, gold2_df])\n",
    "gold_df"
   ]
  },
  {
   "cell_type": "code",
   "execution_count": 20,
   "id": "be21cbf4-0e05-490c-b6a2-3c68b425c89b",
   "metadata": {},
   "outputs": [],
   "source": [
    "import os\n",
    "\n",
    "\n",
    "OUTPUT_DIR = \"output\"\n",
    "\n",
    "def csv_output(df: pd.DataFrame, filename: str) -> None:\n",
    "    file = os.path.join(OUTPUT_DIR, filename)\n",
    "    df.to_csv(file)\n",
    "    print(f\"File saved successfully as {file}\")"
   ]
  },
  {
   "cell_type": "code",
   "execution_count": 21,
   "id": "95c8b92b-4bde-4c06-b92f-86d31c24e1a0",
   "metadata": {
    "tags": []
   },
   "outputs": [
    {
     "name": "stdout",
     "output_type": "stream",
     "text": [
      "File saved successfully as output\\gold.csv\n"
     ]
    }
   ],
   "source": [
    "csv_output(gold_df, \"gold.csv\")"
   ]
  },
  {
   "cell_type": "markdown",
   "id": "9345fd42-2426-4b4d-b7f6-e4e17fecb622",
   "metadata": {},
   "source": [
    "## Youtube Crawling"
   ]
  },
  {
   "cell_type": "code",
   "execution_count": 22,
   "id": "923224eb-9f12-44c7-b463-8fb262165bbb",
   "metadata": {
    "tags": []
   },
   "outputs": [],
   "source": [
    "from selenium.webdriver.chrome.service import Service\n",
    "from webdriver_manager.chrome import ChromeDriverManager\n",
    "from selenium import webdriver\n",
    "\n",
    "\n",
    "def new_driver():\n",
    "    try:\n",
    "        service = Service()\n",
    "    except Exception:\n",
    "        service = Service(ChromeDriverManager().install())\n",
    "    \n",
    "    options = webdriver.ChromeOptions()\n",
    "    options.add_experimental_option('excludeSwitches', ['enable-logging'])\n",
    "    options.add_argument(\"--headless\")\n",
    "    options.add_argument('--lang=en')\n",
    "    options.add_argument(\"user-agent=Mozilla/5.0 (Windows NT 10.0; Win64; x64) AppleWebKit/537.36 (KHTML, like Gecko) Chrome/104.0.0.0 Safari/537.36\")\n",
    "    \n",
    "    return webdriver.Chrome(service=service, options=options)"
   ]
  },
  {
   "cell_type": "code",
   "execution_count": 23,
   "id": "fc364ba5-43ef-41dc-b47e-7b593ff4adcd",
   "metadata": {
    "tags": []
   },
   "outputs": [
    {
     "name": "stdout",
     "output_type": "stream",
     "text": [
      "Scrolling (0 out of max 5)...\n",
      "Scrolling (1 out of max 5)...\n",
      "Scrolling (2 out of max 5)...\n",
      "Scrolling (3 out of max 5)...\n",
      "Scrolling (4 out of max 5)...\n",
      "Scrolling (5 out of max 5)...\n"
     ]
    }
   ],
   "source": [
    "from tasks.youtube import scrape_youtube, extract_search_results, extract_comments\n",
    "\n",
    "\n",
    "# \"greek songs\" search in Greek\n",
    "search_url = \"https://www.youtube.com/results?search_query=%CE%B5%CE%BB%CE%BB%CE%B7%CE%BD%CE%B9%CE%BA%CE%B1+%CF%84%CF%81%CE%B1%CE%B3%CE%BF%CF%85%CE%B4%CE%B9%CE%B1\"\n",
    "driver = new_driver()\n",
    "search_soup = scrape_youtube(driver, search_url, max_scrolls=5, verbose=True)\n",
    "driver.quit()"
   ]
  },
  {
   "cell_type": "code",
   "execution_count": 24,
   "id": "cccbdab7-02e4-4d4d-979d-7dcda9723c54",
   "metadata": {
    "tags": []
   },
   "outputs": [
    {
     "data": {
      "text/html": [
       "<div>\n",
       "<style scoped>\n",
       "    .dataframe tbody tr th:only-of-type {\n",
       "        vertical-align: middle;\n",
       "    }\n",
       "\n",
       "    .dataframe tbody tr th {\n",
       "        vertical-align: top;\n",
       "    }\n",
       "\n",
       "    .dataframe thead th {\n",
       "        text-align: right;\n",
       "    }\n",
       "</style>\n",
       "<table border=\"1\" class=\"dataframe\">\n",
       "  <thead>\n",
       "    <tr style=\"text-align: right;\">\n",
       "      <th></th>\n",
       "      <th>title</th>\n",
       "      <th>link</th>\n",
       "    </tr>\n",
       "  </thead>\n",
       "  <tbody>\n",
       "    <tr>\n",
       "      <th>0</th>\n",
       "      <td>\\n\\nΠου 'ναι τα χρόνια ! - 40 αθάνατα, αγαπημέ...</td>\n",
       "      <td>/watch?v=OdX0y96UPEA&amp;pp=ygUjzrXOu867zrfOvc65zr...</td>\n",
       "    </tr>\n",
       "    <tr>\n",
       "      <th>1</th>\n",
       "      <td>\\n\\nGreek Hits 2023 | Non-Stop Mix by Elegant ...</td>\n",
       "      <td>/watch?v=RcSAggke-_U&amp;pp=ygUjzrXOu867zrfOvc65zr...</td>\n",
       "    </tr>\n",
       "    <tr>\n",
       "      <th>2</th>\n",
       "      <td>\\n\\n00's GREEK MIX | KAPSOURA EDITION\\n</td>\n",
       "      <td>/watch?v=isCeE38TrXA&amp;pp=ygUjzrXOu867zrfOvc65zr...</td>\n",
       "    </tr>\n",
       "    <tr>\n",
       "      <th>3</th>\n",
       "      <td>\\n\\nΜουσική ιστορία Νο.1 (μέρος πρώτο) - 100 χ...</td>\n",
       "      <td>/watch?v=p5g82ta4sTk&amp;pp=ygUjzrXOu867zrfOvc65zr...</td>\n",
       "    </tr>\n",
       "    <tr>\n",
       "      <th>4</th>\n",
       "      <td>\\n\\nGreek Ultra Hits Non Stop Mix By Nikos Hal...</td>\n",
       "      <td>/watch?v=KhCU68Eok9E&amp;pp=ygUjzrXOu867zrfOvc65zr...</td>\n",
       "    </tr>\n",
       "    <tr>\n",
       "      <th>...</th>\n",
       "      <td>...</td>\n",
       "      <td>...</td>\n",
       "    </tr>\n",
       "    <tr>\n",
       "      <th>134</th>\n",
       "      <td>\\n\\nΕλληνικό Έντεχνο | Οι Μπαλάντες της καρδιά...</td>\n",
       "      <td>/watch?v=ge1CmTitOrQ&amp;pp=ygUjzrXOu867zrfOvc65zr...</td>\n",
       "    </tr>\n",
       "    <tr>\n",
       "      <th>135</th>\n",
       "      <td>\\n\\nGREEK OLDSCHOOL NIGHTS | KONSTANTINOS SOT\\n</td>\n",
       "      <td>/watch?v=rLTk-ecdRUY&amp;pp=ygUjzrXOu867zrfOvc65zr...</td>\n",
       "    </tr>\n",
       "    <tr>\n",
       "      <th>136</th>\n",
       "      <td>\\n\\nNina Mazani - Άγχος (Από το “Ενκάντο: Ένας...</td>\n",
       "      <td>/watch?v=-hsjov_72W0&amp;pp=ygUjzrXOu867zrfOvc65zr...</td>\n",
       "    </tr>\n",
       "    <tr>\n",
       "      <th>137</th>\n",
       "      <td>\\n\\nΓιάννης Αρβανιτίδης &amp; Χρήστος Πάζης - Χαλα...</td>\n",
       "      <td>/watch?v=zUi9vb0YCNk&amp;pp=ygUjzrXOu867zrfOvc65zr...</td>\n",
       "    </tr>\n",
       "    <tr>\n",
       "      <th>138</th>\n",
       "      <td>\\n\\nΕλληνικές Μπαλάντες Mix | 2022 Νότες Αγάπη...</td>\n",
       "      <td>/watch?v=ciFyyRDzy-k&amp;pp=ygUjzrXOu867zrfOvc65zr...</td>\n",
       "    </tr>\n",
       "  </tbody>\n",
       "</table>\n",
       "<p>139 rows × 2 columns</p>\n",
       "</div>"
      ],
      "text/plain": [
       "                                                 title  \\\n",
       "0    \\n\\nΠου 'ναι τα χρόνια ! - 40 αθάνατα, αγαπημέ...   \n",
       "1    \\n\\nGreek Hits 2023 | Non-Stop Mix by Elegant ...   \n",
       "2              \\n\\n00's GREEK MIX | KAPSOURA EDITION\\n   \n",
       "3    \\n\\nΜουσική ιστορία Νο.1 (μέρος πρώτο) - 100 χ...   \n",
       "4    \\n\\nGreek Ultra Hits Non Stop Mix By Nikos Hal...   \n",
       "..                                                 ...   \n",
       "134  \\n\\nΕλληνικό Έντεχνο | Οι Μπαλάντες της καρδιά...   \n",
       "135    \\n\\nGREEK OLDSCHOOL NIGHTS | KONSTANTINOS SOT\\n   \n",
       "136  \\n\\nNina Mazani - Άγχος (Από το “Ενκάντο: Ένας...   \n",
       "137  \\n\\nΓιάννης Αρβανιτίδης & Χρήστος Πάζης - Χαλα...   \n",
       "138  \\n\\nΕλληνικές Μπαλάντες Mix | 2022 Νότες Αγάπη...   \n",
       "\n",
       "                                                  link  \n",
       "0    /watch?v=OdX0y96UPEA&pp=ygUjzrXOu867zrfOvc65zr...  \n",
       "1    /watch?v=RcSAggke-_U&pp=ygUjzrXOu867zrfOvc65zr...  \n",
       "2    /watch?v=isCeE38TrXA&pp=ygUjzrXOu867zrfOvc65zr...  \n",
       "3    /watch?v=p5g82ta4sTk&pp=ygUjzrXOu867zrfOvc65zr...  \n",
       "4    /watch?v=KhCU68Eok9E&pp=ygUjzrXOu867zrfOvc65zr...  \n",
       "..                                                 ...  \n",
       "134  /watch?v=ge1CmTitOrQ&pp=ygUjzrXOu867zrfOvc65zr...  \n",
       "135  /watch?v=rLTk-ecdRUY&pp=ygUjzrXOu867zrfOvc65zr...  \n",
       "136  /watch?v=-hsjov_72W0&pp=ygUjzrXOu867zrfOvc65zr...  \n",
       "137  /watch?v=zUi9vb0YCNk&pp=ygUjzrXOu867zrfOvc65zr...  \n",
       "138  /watch?v=ciFyyRDzy-k&pp=ygUjzrXOu867zrfOvc65zr...  \n",
       "\n",
       "[139 rows x 2 columns]"
      ]
     },
     "execution_count": 24,
     "metadata": {},
     "output_type": "execute_result"
    }
   ],
   "source": [
    "results = extract_search_results(search_soup)\n",
    "results_df = pd.DataFrame({\"title\": results[0], \"link\": results[1]})\n",
    "results_df"
   ]
  },
  {
   "cell_type": "code",
   "execution_count": 25,
   "id": "33ad8596-1462-41d4-a81f-2c00bf2d7e39",
   "metadata": {
    "tags": []
   },
   "outputs": [
    {
     "data": {
      "text/html": [
       "<div>\n",
       "<style scoped>\n",
       "    .dataframe tbody tr th:only-of-type {\n",
       "        vertical-align: middle;\n",
       "    }\n",
       "\n",
       "    .dataframe tbody tr th {\n",
       "        vertical-align: top;\n",
       "    }\n",
       "\n",
       "    .dataframe thead th {\n",
       "        text-align: right;\n",
       "    }\n",
       "</style>\n",
       "<table border=\"1\" class=\"dataframe\">\n",
       "  <thead>\n",
       "    <tr style=\"text-align: right;\">\n",
       "      <th></th>\n",
       "      <th>title</th>\n",
       "      <th>link</th>\n",
       "    </tr>\n",
       "  </thead>\n",
       "  <tbody>\n",
       "    <tr>\n",
       "      <th>0</th>\n",
       "      <td>Που 'ναι τα χρόνια ! - 40 αθάνατα, αγαπημένα, ...</td>\n",
       "      <td>https://www.youtube.com/watch?v=OdX0y96UPEA&amp;pp...</td>\n",
       "    </tr>\n",
       "    <tr>\n",
       "      <th>1</th>\n",
       "      <td>Greek Hits 2023 | Non-Stop Mix by Elegant Gree...</td>\n",
       "      <td>https://www.youtube.com/watch?v=RcSAggke-_U&amp;pp...</td>\n",
       "    </tr>\n",
       "    <tr>\n",
       "      <th>2</th>\n",
       "      <td>00's GREEK MIX | KAPSOURA EDITION</td>\n",
       "      <td>https://www.youtube.com/watch?v=isCeE38TrXA&amp;pp...</td>\n",
       "    </tr>\n",
       "    <tr>\n",
       "      <th>3</th>\n",
       "      <td>Μουσική ιστορία Νο.1 (μέρος πρώτο) - 100 χρυσά...</td>\n",
       "      <td>https://www.youtube.com/watch?v=p5g82ta4sTk&amp;pp...</td>\n",
       "    </tr>\n",
       "    <tr>\n",
       "      <th>4</th>\n",
       "      <td>Greek Ultra Hits Non Stop Mix By Nikos Halkous...</td>\n",
       "      <td>https://www.youtube.com/watch?v=KhCU68Eok9E&amp;pp...</td>\n",
       "    </tr>\n",
       "    <tr>\n",
       "      <th>...</th>\n",
       "      <td>...</td>\n",
       "      <td>...</td>\n",
       "    </tr>\n",
       "    <tr>\n",
       "      <th>134</th>\n",
       "      <td>Ελληνικό Έντεχνο | Οι Μπαλάντες της καρδιάς μα...</td>\n",
       "      <td>https://www.youtube.com/watch?v=ge1CmTitOrQ&amp;pp...</td>\n",
       "    </tr>\n",
       "    <tr>\n",
       "      <th>135</th>\n",
       "      <td>GREEK OLDSCHOOL NIGHTS | KONSTANTINOS SOT</td>\n",
       "      <td>https://www.youtube.com/watch?v=rLTk-ecdRUY&amp;pp...</td>\n",
       "    </tr>\n",
       "    <tr>\n",
       "      <th>136</th>\n",
       "      <td>Nina Mazani - Άγχος (Από το “Ενκάντο: Ένας Κόσ...</td>\n",
       "      <td>https://www.youtube.com/watch?v=-hsjov_72W0&amp;pp...</td>\n",
       "    </tr>\n",
       "    <tr>\n",
       "      <th>137</th>\n",
       "      <td>Γιάννης Αρβανιτίδης &amp; Χρήστος Πάζης - Χαλαρά -...</td>\n",
       "      <td>https://www.youtube.com/watch?v=zUi9vb0YCNk&amp;pp...</td>\n",
       "    </tr>\n",
       "    <tr>\n",
       "      <th>138</th>\n",
       "      <td>Ελληνικές Μπαλάντες Mix | 2022 Νότες Αγάπης  |...</td>\n",
       "      <td>https://www.youtube.com/watch?v=ciFyyRDzy-k&amp;pp...</td>\n",
       "    </tr>\n",
       "  </tbody>\n",
       "</table>\n",
       "<p>139 rows × 2 columns</p>\n",
       "</div>"
      ],
      "text/plain": [
       "                                                 title  \\\n",
       "0    Που 'ναι τα χρόνια ! - 40 αθάνατα, αγαπημένα, ...   \n",
       "1    Greek Hits 2023 | Non-Stop Mix by Elegant Gree...   \n",
       "2                    00's GREEK MIX | KAPSOURA EDITION   \n",
       "3    Μουσική ιστορία Νο.1 (μέρος πρώτο) - 100 χρυσά...   \n",
       "4    Greek Ultra Hits Non Stop Mix By Nikos Halkous...   \n",
       "..                                                 ...   \n",
       "134  Ελληνικό Έντεχνο | Οι Μπαλάντες της καρδιάς μα...   \n",
       "135          GREEK OLDSCHOOL NIGHTS | KONSTANTINOS SOT   \n",
       "136  Nina Mazani - Άγχος (Από το “Ενκάντο: Ένας Κόσ...   \n",
       "137  Γιάννης Αρβανιτίδης & Χρήστος Πάζης - Χαλαρά -...   \n",
       "138  Ελληνικές Μπαλάντες Mix | 2022 Νότες Αγάπης  |...   \n",
       "\n",
       "                                                  link  \n",
       "0    https://www.youtube.com/watch?v=OdX0y96UPEA&pp...  \n",
       "1    https://www.youtube.com/watch?v=RcSAggke-_U&pp...  \n",
       "2    https://www.youtube.com/watch?v=isCeE38TrXA&pp...  \n",
       "3    https://www.youtube.com/watch?v=p5g82ta4sTk&pp...  \n",
       "4    https://www.youtube.com/watch?v=KhCU68Eok9E&pp...  \n",
       "..                                                 ...  \n",
       "134  https://www.youtube.com/watch?v=ge1CmTitOrQ&pp...  \n",
       "135  https://www.youtube.com/watch?v=rLTk-ecdRUY&pp...  \n",
       "136  https://www.youtube.com/watch?v=-hsjov_72W0&pp...  \n",
       "137  https://www.youtube.com/watch?v=zUi9vb0YCNk&pp...  \n",
       "138  https://www.youtube.com/watch?v=ciFyyRDzy-k&pp...  \n",
       "\n",
       "[139 rows x 2 columns]"
      ]
     },
     "execution_count": 25,
     "metadata": {},
     "output_type": "execute_result"
    }
   ],
   "source": [
    "results_df.title = results_df.title.apply(lambda x: x.strip())\n",
    "results_df.link = results_df.link.apply(lambda x: \"https://www.youtube.com\" + x) \n",
    "results_df"
   ]
  },
  {
   "cell_type": "code",
   "execution_count": 26,
   "id": "1ef13a6a-2c51-419d-ba62-a58a7fd7e36a",
   "metadata": {
    "tags": []
   },
   "outputs": [
    {
     "data": {
      "text/html": [
       "<div>\n",
       "<style scoped>\n",
       "    .dataframe tbody tr th:only-of-type {\n",
       "        vertical-align: middle;\n",
       "    }\n",
       "\n",
       "    .dataframe tbody tr th {\n",
       "        vertical-align: top;\n",
       "    }\n",
       "\n",
       "    .dataframe thead th {\n",
       "        text-align: right;\n",
       "    }\n",
       "</style>\n",
       "<table border=\"1\" class=\"dataframe\">\n",
       "  <thead>\n",
       "    <tr style=\"text-align: right;\">\n",
       "      <th></th>\n",
       "      <th>title</th>\n",
       "      <th>link</th>\n",
       "    </tr>\n",
       "  </thead>\n",
       "  <tbody>\n",
       "    <tr>\n",
       "      <th>0</th>\n",
       "      <td>Που 'ναι τα χρόνια ! - 40 αθάνατα, αγαπημένα, ...</td>\n",
       "      <td>https://www.youtube.com/watch?v=OdX0y96UPEA&amp;pp...</td>\n",
       "    </tr>\n",
       "    <tr>\n",
       "      <th>3</th>\n",
       "      <td>Μουσική ιστορία Νο.1 (μέρος πρώτο) - 100 χρυσά...</td>\n",
       "      <td>https://www.youtube.com/watch?v=p5g82ta4sTk&amp;pp...</td>\n",
       "    </tr>\n",
       "    <tr>\n",
       "      <th>5</th>\n",
       "      <td>ΤΑ ΛΑΪΚΑ ΤΗΣ ΤΑΒΕΡΝΑΣ | NON STOP MIX - Πουλόπο...</td>\n",
       "      <td>https://www.youtube.com/watch?v=C4f3xcZzr3s&amp;pp...</td>\n",
       "    </tr>\n",
       "    <tr>\n",
       "      <th>9</th>\n",
       "      <td>Εντεχνα Mega Mix 2016 ~ 135 Λεπτα...Non Stop |...</td>\n",
       "      <td>https://www.youtube.com/watch?v=l3OZapGCq8c&amp;pp...</td>\n",
       "    </tr>\n",
       "    <tr>\n",
       "      <th>11</th>\n",
       "      <td>Πουλόπουλος, Μπάσης, Γλυκερία, Ανδρεάτος, Μπέλ...</td>\n",
       "      <td>https://www.youtube.com/watch?v=cOGip_clrKY&amp;pp...</td>\n",
       "    </tr>\n",
       "    <tr>\n",
       "      <th>...</th>\n",
       "      <td>...</td>\n",
       "      <td>...</td>\n",
       "    </tr>\n",
       "    <tr>\n",
       "      <th>133</th>\n",
       "      <td>Στο κουρείο της γειτονιάς ✂️ Το Κουρεμα | Παιδ...</td>\n",
       "      <td>https://www.youtube.com/watch?v=MI2hjcwG6FQ&amp;pp...</td>\n",
       "    </tr>\n",
       "    <tr>\n",
       "      <th>134</th>\n",
       "      <td>Ελληνικό Έντεχνο | Οι Μπαλάντες της καρδιάς μα...</td>\n",
       "      <td>https://www.youtube.com/watch?v=ge1CmTitOrQ&amp;pp...</td>\n",
       "    </tr>\n",
       "    <tr>\n",
       "      <th>136</th>\n",
       "      <td>Nina Mazani - Άγχος (Από το “Ενκάντο: Ένας Κόσ...</td>\n",
       "      <td>https://www.youtube.com/watch?v=-hsjov_72W0&amp;pp...</td>\n",
       "    </tr>\n",
       "    <tr>\n",
       "      <th>137</th>\n",
       "      <td>Γιάννης Αρβανιτίδης &amp; Χρήστος Πάζης - Χαλαρά -...</td>\n",
       "      <td>https://www.youtube.com/watch?v=zUi9vb0YCNk&amp;pp...</td>\n",
       "    </tr>\n",
       "    <tr>\n",
       "      <th>138</th>\n",
       "      <td>Ελληνικές Μπαλάντες Mix | 2022 Νότες Αγάπης  |...</td>\n",
       "      <td>https://www.youtube.com/watch?v=ciFyyRDzy-k&amp;pp...</td>\n",
       "    </tr>\n",
       "  </tbody>\n",
       "</table>\n",
       "<p>106 rows × 2 columns</p>\n",
       "</div>"
      ],
      "text/plain": [
       "                                                 title  \\\n",
       "0    Που 'ναι τα χρόνια ! - 40 αθάνατα, αγαπημένα, ...   \n",
       "3    Μουσική ιστορία Νο.1 (μέρος πρώτο) - 100 χρυσά...   \n",
       "5    ΤΑ ΛΑΪΚΑ ΤΗΣ ΤΑΒΕΡΝΑΣ | NON STOP MIX - Πουλόπο...   \n",
       "9    Εντεχνα Mega Mix 2016 ~ 135 Λεπτα...Non Stop |...   \n",
       "11   Πουλόπουλος, Μπάσης, Γλυκερία, Ανδρεάτος, Μπέλ...   \n",
       "..                                                 ...   \n",
       "133  Στο κουρείο της γειτονιάς ✂️ Το Κουρεμα | Παιδ...   \n",
       "134  Ελληνικό Έντεχνο | Οι Μπαλάντες της καρδιάς μα...   \n",
       "136  Nina Mazani - Άγχος (Από το “Ενκάντο: Ένας Κόσ...   \n",
       "137  Γιάννης Αρβανιτίδης & Χρήστος Πάζης - Χαλαρά -...   \n",
       "138  Ελληνικές Μπαλάντες Mix | 2022 Νότες Αγάπης  |...   \n",
       "\n",
       "                                                  link  \n",
       "0    https://www.youtube.com/watch?v=OdX0y96UPEA&pp...  \n",
       "3    https://www.youtube.com/watch?v=p5g82ta4sTk&pp...  \n",
       "5    https://www.youtube.com/watch?v=C4f3xcZzr3s&pp...  \n",
       "9    https://www.youtube.com/watch?v=l3OZapGCq8c&pp...  \n",
       "11   https://www.youtube.com/watch?v=cOGip_clrKY&pp...  \n",
       "..                                                 ...  \n",
       "133  https://www.youtube.com/watch?v=MI2hjcwG6FQ&pp...  \n",
       "134  https://www.youtube.com/watch?v=ge1CmTitOrQ&pp...  \n",
       "136  https://www.youtube.com/watch?v=-hsjov_72W0&pp...  \n",
       "137  https://www.youtube.com/watch?v=zUi9vb0YCNk&pp...  \n",
       "138  https://www.youtube.com/watch?v=ciFyyRDzy-k&pp...  \n",
       "\n",
       "[106 rows x 2 columns]"
      ]
     },
     "execution_count": 26,
     "metadata": {},
     "output_type": "execute_result"
    }
   ],
   "source": [
    "greeklish_model = RegexClassifier(include_greeklish=True)\n",
    "preds = greeklish_model.predict(results_df.title)\n",
    "gr_res_df = results_df[(preds != \"en\") & (preds != None)]\n",
    "gr_res_df"
   ]
  },
  {
   "cell_type": "code",
   "execution_count": 27,
   "id": "4846afa7-1d7f-4fc2-8b79-7b2eca3bc418",
   "metadata": {},
   "outputs": [],
   "source": [
    "import threading\n",
    "\n",
    "\n",
    "driver = new_driver()\n",
    "\n",
    "def get_driver():\n",
    "    return driver\n",
    "\n",
    "def scrape_job(yt_url):\n",
    "    driver = get_driver()\n",
    "    try:\n",
    "        result = scrape_youtube(driver, yt_url, scroll_wait_secs=2,\n",
    "                       max_scrolls=5, verbose=False)\n",
    "    except Exception:\n",
    "        result = None\n",
    "    return yt_url, result"
   ]
  },
  {
   "cell_type": "code",
   "execution_count": 28,
   "id": "e711006a-ca32-4d6b-8a38-250ad1c5df61",
   "metadata": {},
   "outputs": [
    {
     "name": "stdout",
     "output_type": "stream",
     "text": [
      "Scrapping comments...\n"
     ]
    },
    {
     "name": "stderr",
     "output_type": "stream",
     "text": [
      "100%|██████████████████████████████████████████████████████████████████████████████████| 60/60 [02:32<00:00,  2.55s/it]\n"
     ]
    }
   ],
   "source": [
    "import concurrent.futures\n",
    "\n",
    "jobs = 8\n",
    "urls = gr_res_df.link[0:60]\n",
    "\n",
    "print(\"Scrapping comments...\")\n",
    "with concurrent.futures.ThreadPoolExecutor(max_workers=jobs) as executor:\n",
    "    results = list(tqdm(executor.map(scrape_job, urls), total=len(urls)))\n",
    "driver.quit()"
   ]
  },
  {
   "cell_type": "code",
   "execution_count": 29,
   "id": "b4fc7b1f-3bcc-4af6-a39e-e6af2f4ab52e",
   "metadata": {},
   "outputs": [],
   "source": [
    "from tasks.youtube import extract_comments\n",
    "\n",
    "\n",
    "scraped_urls = []\n",
    "comments = []\n",
    "dates = []\n",
    "\n",
    "for url, result in results:\n",
    "    if result is not None:\n",
    "        new_comments, new_dates = extract_comments(result)\n",
    "        comments += new_comments\n",
    "        dates += new_dates\n",
    "        scraped_urls += ([url] * len(new_comments))"
   ]
  },
  {
   "cell_type": "code",
   "execution_count": 31,
   "id": "c476b479-9f93-408c-bb09-4b114a037c15",
   "metadata": {
    "tags": []
   },
   "outputs": [
    {
     "data": {
      "text/html": [
       "<div>\n",
       "<style scoped>\n",
       "    .dataframe tbody tr th:only-of-type {\n",
       "        vertical-align: middle;\n",
       "    }\n",
       "\n",
       "    .dataframe tbody tr th {\n",
       "        vertical-align: top;\n",
       "    }\n",
       "\n",
       "    .dataframe thead th {\n",
       "        text-align: right;\n",
       "    }\n",
       "</style>\n",
       "<table border=\"1\" class=\"dataframe\">\n",
       "  <thead>\n",
       "    <tr style=\"text-align: right;\">\n",
       "      <th></th>\n",
       "      <th>video</th>\n",
       "      <th>text</th>\n",
       "      <th>date</th>\n",
       "    </tr>\n",
       "  </thead>\n",
       "  <tbody>\n",
       "    <tr>\n",
       "      <th>0</th>\n",
       "      <td>https://www.youtube.com/watch?v=OdX0y96UPEA&amp;pp...</td>\n",
       "      <td>Πεφταστέρια Μουσικής....για πααααααααμε !!!!!</td>\n",
       "      <td>2022-11-24 17:31:45.986118</td>\n",
       "    </tr>\n",
       "    <tr>\n",
       "      <th>1</th>\n",
       "      <td>https://www.youtube.com/watch?v=OdX0y96UPEA&amp;pp...</td>\n",
       "      <td>Σωστά γράψατε πεφταστέρια, το ένα καλύτερο από...</td>\n",
       "      <td>2022-11-24 17:31:45.991160</td>\n",
       "    </tr>\n",
       "    <tr>\n",
       "      <th>2</th>\n",
       "      <td>https://www.youtube.com/watch?v=OdX0y96UPEA&amp;pp...</td>\n",
       "      <td>Αυτη ειναι ενεχνη κρητικη μουσικη ωρε !!!!!</td>\n",
       "      <td>2023-11-13 17:31:45.995161</td>\n",
       "    </tr>\n",
       "    <tr>\n",
       "      <th>3</th>\n",
       "      <td>https://www.youtube.com/watch?v=OdX0y96UPEA&amp;pp...</td>\n",
       "      <td>Τι λάθος κάνω κι όλο φτάνω πιο κονταααα\\r\\nκι ...</td>\n",
       "      <td>2022-11-24 17:31:45.998367</td>\n",
       "    </tr>\n",
       "    <tr>\n",
       "      <th>4</th>\n",
       "      <td>https://www.youtube.com/watch?v=OdX0y96UPEA&amp;pp...</td>\n",
       "      <td>Πρώτη φορά σε ακούω μπράβο! Να σε ακούω κάθε π...</td>\n",
       "      <td>2022-11-24 17:31:46.001400</td>\n",
       "    </tr>\n",
       "    <tr>\n",
       "      <th>...</th>\n",
       "      <td>...</td>\n",
       "      <td>...</td>\n",
       "      <td>...</td>\n",
       "    </tr>\n",
       "    <tr>\n",
       "      <th>882</th>\n",
       "      <td>https://www.youtube.com/watch?v=6cgeY5wk17c&amp;pp...</td>\n",
       "      <td>ωραια αλλα δεν ειναι ελαφρολαικα...</td>\n",
       "      <td>2022-11-24 17:31:50.850767</td>\n",
       "    </tr>\n",
       "    <tr>\n",
       "      <th>883</th>\n",
       "      <td>https://www.youtube.com/watch?v=6cgeY5wk17c&amp;pp...</td>\n",
       "      <td>Καλεςε</td>\n",
       "      <td>2022-11-24 17:31:50.852767</td>\n",
       "    </tr>\n",
       "    <tr>\n",
       "      <th>884</th>\n",
       "      <td>https://www.youtube.com/watch?v=6cgeY5wk17c&amp;pp...</td>\n",
       "      <td>Наверно казахская домбра произошла от греческо...</td>\n",
       "      <td>2022-11-24 17:31:50.855767</td>\n",
       "    </tr>\n",
       "    <tr>\n",
       "      <th>885</th>\n",
       "      <td>https://www.youtube.com/watch?v=6cgeY5wk17c&amp;pp...</td>\n",
       "      <td>1:09:35</td>\n",
       "      <td>2023-06-24 17:31:50.860894</td>\n",
       "    </tr>\n",
       "    <tr>\n",
       "      <th>886</th>\n",
       "      <td>https://www.youtube.com/watch?v=6cgeY5wk17c&amp;pp...</td>\n",
       "      <td>ЗА ПРИЯТЕЛИТЕ КОИТО ОБИЧАТ ГРЪЦКА МУЗИКА!</td>\n",
       "      <td>2023-05-24 17:31:50.865930</td>\n",
       "    </tr>\n",
       "  </tbody>\n",
       "</table>\n",
       "<p>887 rows × 3 columns</p>\n",
       "</div>"
      ],
      "text/plain": [
       "                                                 video  \\\n",
       "0    https://www.youtube.com/watch?v=OdX0y96UPEA&pp...   \n",
       "1    https://www.youtube.com/watch?v=OdX0y96UPEA&pp...   \n",
       "2    https://www.youtube.com/watch?v=OdX0y96UPEA&pp...   \n",
       "3    https://www.youtube.com/watch?v=OdX0y96UPEA&pp...   \n",
       "4    https://www.youtube.com/watch?v=OdX0y96UPEA&pp...   \n",
       "..                                                 ...   \n",
       "882  https://www.youtube.com/watch?v=6cgeY5wk17c&pp...   \n",
       "883  https://www.youtube.com/watch?v=6cgeY5wk17c&pp...   \n",
       "884  https://www.youtube.com/watch?v=6cgeY5wk17c&pp...   \n",
       "885  https://www.youtube.com/watch?v=6cgeY5wk17c&pp...   \n",
       "886  https://www.youtube.com/watch?v=6cgeY5wk17c&pp...   \n",
       "\n",
       "                                                  text  \\\n",
       "0       Πεφταστέρια Μουσικής....για πααααααααμε !!!!!    \n",
       "1    Σωστά γράψατε πεφταστέρια, το ένα καλύτερο από...   \n",
       "2          Αυτη ειναι ενεχνη κρητικη μουσικη ωρε !!!!!   \n",
       "3    Τι λάθος κάνω κι όλο φτάνω πιο κονταααα\\r\\nκι ...   \n",
       "4    Πρώτη φορά σε ακούω μπράβο! Να σε ακούω κάθε π...   \n",
       "..                                                 ...   \n",
       "882                ωραια αλλα δεν ειναι ελαφρολαικα...   \n",
       "883                                             Καλεςε   \n",
       "884  Наверно казахская домбра произошла от греческо...   \n",
       "885                                            1:09:35   \n",
       "886          ЗА ПРИЯТЕЛИТЕ КОИТО ОБИЧАТ ГРЪЦКА МУЗИКА!   \n",
       "\n",
       "                          date  \n",
       "0   2022-11-24 17:31:45.986118  \n",
       "1   2022-11-24 17:31:45.991160  \n",
       "2   2023-11-13 17:31:45.995161  \n",
       "3   2022-11-24 17:31:45.998367  \n",
       "4   2022-11-24 17:31:46.001400  \n",
       "..                         ...  \n",
       "882 2022-11-24 17:31:50.850767  \n",
       "883 2022-11-24 17:31:50.852767  \n",
       "884 2022-11-24 17:31:50.855767  \n",
       "885 2023-06-24 17:31:50.860894  \n",
       "886 2023-05-24 17:31:50.865930  \n",
       "\n",
       "[887 rows x 3 columns]"
      ]
     },
     "execution_count": 31,
     "metadata": {},
     "output_type": "execute_result"
    }
   ],
   "source": [
    "crawl_df = pd.DataFrame({\"video\": scraped_urls, \"text\": comments, \"date\": dates})\n",
    "crawl_df"
   ]
  },
  {
   "cell_type": "code",
   "execution_count": 32,
   "id": "3f4a3b8c-85b1-4e5f-993d-acdf84fcf92e",
   "metadata": {},
   "outputs": [
    {
     "data": {
      "text/plain": [
       "887"
      ]
     },
     "execution_count": 32,
     "metadata": {},
     "output_type": "execute_result"
    }
   ],
   "source": [
    "sum(crawl_df.date != None)"
   ]
  },
  {
   "cell_type": "code",
   "execution_count": 33,
   "id": "f37f9c73-a70f-48b2-a81c-f63252ae3d67",
   "metadata": {},
   "outputs": [
    {
     "data": {
      "text/html": [
       "<div>\n",
       "<style scoped>\n",
       "    .dataframe tbody tr th:only-of-type {\n",
       "        vertical-align: middle;\n",
       "    }\n",
       "\n",
       "    .dataframe tbody tr th {\n",
       "        vertical-align: top;\n",
       "    }\n",
       "\n",
       "    .dataframe thead th {\n",
       "        text-align: right;\n",
       "    }\n",
       "</style>\n",
       "<table border=\"1\" class=\"dataframe\">\n",
       "  <thead>\n",
       "    <tr style=\"text-align: right;\">\n",
       "      <th></th>\n",
       "      <th>video</th>\n",
       "      <th>text</th>\n",
       "      <th>date</th>\n",
       "    </tr>\n",
       "  </thead>\n",
       "  <tbody>\n",
       "  </tbody>\n",
       "</table>\n",
       "</div>"
      ],
      "text/plain": [
       "Empty DataFrame\n",
       "Columns: [video, text, date]\n",
       "Index: []"
      ]
     },
     "execution_count": 33,
     "metadata": {},
     "output_type": "execute_result"
    }
   ],
   "source": [
    "crawl_df[crawl_df.text.apply(lambda x: x.isspace())]"
   ]
  },
  {
   "cell_type": "code",
   "execution_count": 34,
   "id": "4de9d2e6-3d1a-4405-a09f-80f99cecbdbd",
   "metadata": {
    "tags": []
   },
   "outputs": [
    {
     "data": {
      "text/html": [
       "<div>\n",
       "<style scoped>\n",
       "    .dataframe tbody tr th:only-of-type {\n",
       "        vertical-align: middle;\n",
       "    }\n",
       "\n",
       "    .dataframe tbody tr th {\n",
       "        vertical-align: top;\n",
       "    }\n",
       "\n",
       "    .dataframe thead th {\n",
       "        text-align: right;\n",
       "    }\n",
       "</style>\n",
       "<table border=\"1\" class=\"dataframe\">\n",
       "  <thead>\n",
       "    <tr style=\"text-align: right;\">\n",
       "      <th></th>\n",
       "      <th>video</th>\n",
       "      <th>text</th>\n",
       "      <th>date</th>\n",
       "    </tr>\n",
       "  </thead>\n",
       "  <tbody>\n",
       "    <tr>\n",
       "      <th>152</th>\n",
       "      <td>https://www.youtube.com/watch?v=UIfND1RykJc&amp;pp...</td>\n",
       "      <td></td>\n",
       "      <td>2023-06-24 17:31:46.823955</td>\n",
       "    </tr>\n",
       "    <tr>\n",
       "      <th>153</th>\n",
       "      <td>https://www.youtube.com/watch?v=UIfND1RykJc&amp;pp...</td>\n",
       "      <td></td>\n",
       "      <td>2023-08-24 17:31:46.828989</td>\n",
       "    </tr>\n",
       "    <tr>\n",
       "      <th>154</th>\n",
       "      <td>https://www.youtube.com/watch?v=UIfND1RykJc&amp;pp...</td>\n",
       "      <td></td>\n",
       "      <td>2023-06-24 17:31:46.833028</td>\n",
       "    </tr>\n",
       "    <tr>\n",
       "      <th>165</th>\n",
       "      <td>https://www.youtube.com/watch?v=YEap8fi2fn4&amp;pp...</td>\n",
       "      <td></td>\n",
       "      <td>2023-06-24 17:31:46.913587</td>\n",
       "    </tr>\n",
       "    <tr>\n",
       "      <th>166</th>\n",
       "      <td>https://www.youtube.com/watch?v=YEap8fi2fn4&amp;pp...</td>\n",
       "      <td></td>\n",
       "      <td>2023-08-24 17:31:46.917583</td>\n",
       "    </tr>\n",
       "    <tr>\n",
       "      <th>...</th>\n",
       "      <td>...</td>\n",
       "      <td>...</td>\n",
       "      <td>...</td>\n",
       "    </tr>\n",
       "    <tr>\n",
       "      <th>880</th>\n",
       "      <td>https://www.youtube.com/watch?v=6cgeY5wk17c&amp;pp...</td>\n",
       "      <td>Spesial Tragoudares.</td>\n",
       "      <td>2022-11-24 17:31:50.843584</td>\n",
       "    </tr>\n",
       "    <tr>\n",
       "      <th>881</th>\n",
       "      <td>https://www.youtube.com/watch?v=6cgeY5wk17c&amp;pp...</td>\n",
       "      <td>Pola bravo</td>\n",
       "      <td>2022-11-24 17:31:50.846583</td>\n",
       "    </tr>\n",
       "    <tr>\n",
       "      <th>884</th>\n",
       "      <td>https://www.youtube.com/watch?v=6cgeY5wk17c&amp;pp...</td>\n",
       "      <td>Наверно казахская домбра произошла от греческо...</td>\n",
       "      <td>2022-11-24 17:31:50.855767</td>\n",
       "    </tr>\n",
       "    <tr>\n",
       "      <th>885</th>\n",
       "      <td>https://www.youtube.com/watch?v=6cgeY5wk17c&amp;pp...</td>\n",
       "      <td>1:09:35</td>\n",
       "      <td>2023-06-24 17:31:50.860894</td>\n",
       "    </tr>\n",
       "    <tr>\n",
       "      <th>886</th>\n",
       "      <td>https://www.youtube.com/watch?v=6cgeY5wk17c&amp;pp...</td>\n",
       "      <td>ЗА ПРИЯТЕЛИТЕ КОИТО ОБИЧАТ ГРЪЦКА МУЗИКА!</td>\n",
       "      <td>2023-05-24 17:31:50.865930</td>\n",
       "    </tr>\n",
       "  </tbody>\n",
       "</table>\n",
       "<p>107 rows × 3 columns</p>\n",
       "</div>"
      ],
      "text/plain": [
       "                                                 video  \\\n",
       "152  https://www.youtube.com/watch?v=UIfND1RykJc&pp...   \n",
       "153  https://www.youtube.com/watch?v=UIfND1RykJc&pp...   \n",
       "154  https://www.youtube.com/watch?v=UIfND1RykJc&pp...   \n",
       "165  https://www.youtube.com/watch?v=YEap8fi2fn4&pp...   \n",
       "166  https://www.youtube.com/watch?v=YEap8fi2fn4&pp...   \n",
       "..                                                 ...   \n",
       "880  https://www.youtube.com/watch?v=6cgeY5wk17c&pp...   \n",
       "881  https://www.youtube.com/watch?v=6cgeY5wk17c&pp...   \n",
       "884  https://www.youtube.com/watch?v=6cgeY5wk17c&pp...   \n",
       "885  https://www.youtube.com/watch?v=6cgeY5wk17c&pp...   \n",
       "886  https://www.youtube.com/watch?v=6cgeY5wk17c&pp...   \n",
       "\n",
       "                                                  text  \\\n",
       "152                                                      \n",
       "153                                                      \n",
       "154                                                      \n",
       "165                                                      \n",
       "166                                                      \n",
       "..                                                 ...   \n",
       "880                               Spesial Tragoudares.   \n",
       "881                                         Pola bravo   \n",
       "884  Наверно казахская домбра произошла от греческо...   \n",
       "885                                            1:09:35   \n",
       "886          ЗА ПРИЯТЕЛИТЕ КОИТО ОБИЧАТ ГРЪЦКА МУЗИКА!   \n",
       "\n",
       "                          date  \n",
       "152 2023-06-24 17:31:46.823955  \n",
       "153 2023-08-24 17:31:46.828989  \n",
       "154 2023-06-24 17:31:46.833028  \n",
       "165 2023-06-24 17:31:46.913587  \n",
       "166 2023-08-24 17:31:46.917583  \n",
       "..                         ...  \n",
       "880 2022-11-24 17:31:50.843584  \n",
       "881 2022-11-24 17:31:50.846583  \n",
       "884 2022-11-24 17:31:50.855767  \n",
       "885 2023-06-24 17:31:50.860894  \n",
       "886 2023-05-24 17:31:50.865930  \n",
       "\n",
       "[107 rows x 3 columns]"
      ]
     },
     "execution_count": 34,
     "metadata": {},
     "output_type": "execute_result"
    }
   ],
   "source": [
    "preds = greeklish_model.predict(crawl_df.text)\n",
    "crawl_df[~((preds != \"en\") & (preds != None))]"
   ]
  },
  {
   "cell_type": "code",
   "execution_count": 35,
   "id": "0f1dcc06-d6af-4a78-8ae0-8dcc464be344",
   "metadata": {
    "tags": []
   },
   "outputs": [
    {
     "data": {
      "text/html": [
       "<div>\n",
       "<style scoped>\n",
       "    .dataframe tbody tr th:only-of-type {\n",
       "        vertical-align: middle;\n",
       "    }\n",
       "\n",
       "    .dataframe tbody tr th {\n",
       "        vertical-align: top;\n",
       "    }\n",
       "\n",
       "    .dataframe thead th {\n",
       "        text-align: right;\n",
       "    }\n",
       "</style>\n",
       "<table border=\"1\" class=\"dataframe\">\n",
       "  <thead>\n",
       "    <tr style=\"text-align: right;\">\n",
       "      <th></th>\n",
       "      <th>video</th>\n",
       "      <th>text</th>\n",
       "      <th>date</th>\n",
       "    </tr>\n",
       "  </thead>\n",
       "  <tbody>\n",
       "    <tr>\n",
       "      <th>0</th>\n",
       "      <td>https://www.youtube.com/watch?v=OdX0y96UPEA&amp;pp...</td>\n",
       "      <td>Πεφταστέρια Μουσικής....για πααααααααμε !!!!!</td>\n",
       "      <td>2022-11-24 17:31:45.986118</td>\n",
       "    </tr>\n",
       "    <tr>\n",
       "      <th>1</th>\n",
       "      <td>https://www.youtube.com/watch?v=OdX0y96UPEA&amp;pp...</td>\n",
       "      <td>Σωστά γράψατε πεφταστέρια, το ένα καλύτερο από...</td>\n",
       "      <td>2022-11-24 17:31:45.991160</td>\n",
       "    </tr>\n",
       "    <tr>\n",
       "      <th>2</th>\n",
       "      <td>https://www.youtube.com/watch?v=OdX0y96UPEA&amp;pp...</td>\n",
       "      <td>Αυτη ειναι ενεχνη κρητικη μουσικη ωρε !!!!!</td>\n",
       "      <td>2023-11-13 17:31:45.995161</td>\n",
       "    </tr>\n",
       "    <tr>\n",
       "      <th>3</th>\n",
       "      <td>https://www.youtube.com/watch?v=OdX0y96UPEA&amp;pp...</td>\n",
       "      <td>Τι λάθος κάνω κι όλο φτάνω πιο κονταααα\\r\\nκι ...</td>\n",
       "      <td>2022-11-24 17:31:45.998367</td>\n",
       "    </tr>\n",
       "    <tr>\n",
       "      <th>4</th>\n",
       "      <td>https://www.youtube.com/watch?v=OdX0y96UPEA&amp;pp...</td>\n",
       "      <td>Πρώτη φορά σε ακούω μπράβο! Να σε ακούω κάθε π...</td>\n",
       "      <td>2022-11-24 17:31:46.001400</td>\n",
       "    </tr>\n",
       "    <tr>\n",
       "      <th>...</th>\n",
       "      <td>...</td>\n",
       "      <td>...</td>\n",
       "      <td>...</td>\n",
       "    </tr>\n",
       "    <tr>\n",
       "      <th>876</th>\n",
       "      <td>https://www.youtube.com/watch?v=6cgeY5wk17c&amp;pp...</td>\n",
       "      <td>Καλοταξηδο πολύ καλό</td>\n",
       "      <td>2022-11-24 17:31:50.829889</td>\n",
       "    </tr>\n",
       "    <tr>\n",
       "      <th>878</th>\n",
       "      <td>https://www.youtube.com/watch?v=6cgeY5wk17c&amp;pp...</td>\n",
       "      <td>Ώραια μου κρατάτε συντροφιά να κοιμηθώ ευχαρισ...</td>\n",
       "      <td>2023-10-24 17:31:50.835887</td>\n",
       "    </tr>\n",
       "    <tr>\n",
       "      <th>879</th>\n",
       "      <td>https://www.youtube.com/watch?v=6cgeY5wk17c&amp;pp...</td>\n",
       "      <td>Δεν μπορώ να σου γράψω γιατί βαζω τα κλαματα κ...</td>\n",
       "      <td>2023-06-24 17:31:50.840583</td>\n",
       "    </tr>\n",
       "    <tr>\n",
       "      <th>882</th>\n",
       "      <td>https://www.youtube.com/watch?v=6cgeY5wk17c&amp;pp...</td>\n",
       "      <td>ωραια αλλα δεν ειναι ελαφρολαικα...</td>\n",
       "      <td>2022-11-24 17:31:50.850767</td>\n",
       "    </tr>\n",
       "    <tr>\n",
       "      <th>883</th>\n",
       "      <td>https://www.youtube.com/watch?v=6cgeY5wk17c&amp;pp...</td>\n",
       "      <td>Καλεςε</td>\n",
       "      <td>2022-11-24 17:31:50.852767</td>\n",
       "    </tr>\n",
       "  </tbody>\n",
       "</table>\n",
       "<p>780 rows × 3 columns</p>\n",
       "</div>"
      ],
      "text/plain": [
       "                                                 video  \\\n",
       "0    https://www.youtube.com/watch?v=OdX0y96UPEA&pp...   \n",
       "1    https://www.youtube.com/watch?v=OdX0y96UPEA&pp...   \n",
       "2    https://www.youtube.com/watch?v=OdX0y96UPEA&pp...   \n",
       "3    https://www.youtube.com/watch?v=OdX0y96UPEA&pp...   \n",
       "4    https://www.youtube.com/watch?v=OdX0y96UPEA&pp...   \n",
       "..                                                 ...   \n",
       "876  https://www.youtube.com/watch?v=6cgeY5wk17c&pp...   \n",
       "878  https://www.youtube.com/watch?v=6cgeY5wk17c&pp...   \n",
       "879  https://www.youtube.com/watch?v=6cgeY5wk17c&pp...   \n",
       "882  https://www.youtube.com/watch?v=6cgeY5wk17c&pp...   \n",
       "883  https://www.youtube.com/watch?v=6cgeY5wk17c&pp...   \n",
       "\n",
       "                                                  text  \\\n",
       "0       Πεφταστέρια Μουσικής....για πααααααααμε !!!!!    \n",
       "1    Σωστά γράψατε πεφταστέρια, το ένα καλύτερο από...   \n",
       "2          Αυτη ειναι ενεχνη κρητικη μουσικη ωρε !!!!!   \n",
       "3    Τι λάθος κάνω κι όλο φτάνω πιο κονταααα\\r\\nκι ...   \n",
       "4    Πρώτη φορά σε ακούω μπράβο! Να σε ακούω κάθε π...   \n",
       "..                                                 ...   \n",
       "876                               Καλοταξηδο πολύ καλό   \n",
       "878  Ώραια μου κρατάτε συντροφιά να κοιμηθώ ευχαρισ...   \n",
       "879  Δεν μπορώ να σου γράψω γιατί βαζω τα κλαματα κ...   \n",
       "882                ωραια αλλα δεν ειναι ελαφρολαικα...   \n",
       "883                                             Καλεςε   \n",
       "\n",
       "                          date  \n",
       "0   2022-11-24 17:31:45.986118  \n",
       "1   2022-11-24 17:31:45.991160  \n",
       "2   2023-11-13 17:31:45.995161  \n",
       "3   2022-11-24 17:31:45.998367  \n",
       "4   2022-11-24 17:31:46.001400  \n",
       "..                         ...  \n",
       "876 2022-11-24 17:31:50.829889  \n",
       "878 2023-10-24 17:31:50.835887  \n",
       "879 2023-06-24 17:31:50.840583  \n",
       "882 2022-11-24 17:31:50.850767  \n",
       "883 2022-11-24 17:31:50.852767  \n",
       "\n",
       "[780 rows x 3 columns]"
      ]
     },
     "execution_count": 35,
     "metadata": {},
     "output_type": "execute_result"
    }
   ],
   "source": [
    "gr_crawl_df = crawl_df[(preds != \"en\") & (preds != None) & ~crawl_df.text.apply(lambda x: x.isspace())]\n",
    "gr_crawl_df"
   ]
  },
  {
   "cell_type": "code",
   "execution_count": 36,
   "id": "bb7f6e4c-9678-4ea3-9c4f-a0121eac910e",
   "metadata": {
    "tags": []
   },
   "outputs": [
    {
     "name": "stdout",
     "output_type": "stream",
     "text": [
      "File saved successfully as output\\crawl.csv\n"
     ]
    }
   ],
   "source": [
    "csv_output(crawl_df, \"crawl.csv\")"
   ]
  },
  {
   "cell_type": "markdown",
   "id": "cf0324f7-ccbc-4157-983b-441cbb1c83c6",
   "metadata": {},
   "source": [
    "## Language Identification"
   ]
  },
  {
   "cell_type": "code",
   "execution_count": 37,
   "id": "852afc7e-a026-4457-9cfe-a451da710b32",
   "metadata": {
    "tags": []
   },
   "outputs": [
    {
     "data": {
      "text/html": [
       "<div>\n",
       "<style scoped>\n",
       "    .dataframe tbody tr th:only-of-type {\n",
       "        vertical-align: middle;\n",
       "    }\n",
       "\n",
       "    .dataframe tbody tr th {\n",
       "        vertical-align: top;\n",
       "    }\n",
       "\n",
       "    .dataframe thead th {\n",
       "        text-align: right;\n",
       "    }\n",
       "</style>\n",
       "<table border=\"1\" class=\"dataframe\">\n",
       "  <thead>\n",
       "    <tr style=\"text-align: right;\">\n",
       "      <th></th>\n",
       "      <th>labels</th>\n",
       "      <th>text</th>\n",
       "    </tr>\n",
       "  </thead>\n",
       "  <tbody>\n",
       "    <tr>\n",
       "      <th>83478</th>\n",
       "      <td>en</td>\n",
       "      <td>Haven't used it yet, but can't wait to see the...</td>\n",
       "    </tr>\n",
       "    <tr>\n",
       "      <th>32675</th>\n",
       "      <td>el</td>\n",
       "      <td>Οι ομάδες αυτές αισθάνονται άβολα με τον Χριστ...</td>\n",
       "    </tr>\n",
       "    <tr>\n",
       "      <th>2937362</th>\n",
       "      <td>greeklish</td>\n",
       "      <td>sto lordaeron etsi?\\nallios den tha epsaxnes a...</td>\n",
       "    </tr>\n",
       "    <tr>\n",
       "      <th>73951</th>\n",
       "      <td>el</td>\n",
       "      <td>Είναι από την Ελλάδα και είναι από ένα μικρό χ...</td>\n",
       "    </tr>\n",
       "    <tr>\n",
       "      <th>57973</th>\n",
       "      <td>el</td>\n",
       "      <td>Η προσωπική αποταμίευση-Όπως μετρήθηκε στους ε...</td>\n",
       "    </tr>\n",
       "    <tr>\n",
       "      <th>...</th>\n",
       "      <td>...</td>\n",
       "      <td>...</td>\n",
       "    </tr>\n",
       "    <tr>\n",
       "      <th>6978</th>\n",
       "      <td>en</td>\n",
       "      <td>These robot fish do not work! They will float ...</td>\n",
       "    </tr>\n",
       "    <tr>\n",
       "      <th>48135</th>\n",
       "      <td>en</td>\n",
       "      <td>Cats got bored of these but they did play with...</td>\n",
       "    </tr>\n",
       "    <tr>\n",
       "      <th>12129</th>\n",
       "      <td>el</td>\n",
       "      <td>( κάντε κλικ εδώ για το site του Μουσείου και ...</td>\n",
       "    </tr>\n",
       "    <tr>\n",
       "      <th>60450</th>\n",
       "      <td>el</td>\n",
       "      <td>Και σε ένα σαν το α πώς το λες σαν πυρέξ ή κάτ...</td>\n",
       "    </tr>\n",
       "    <tr>\n",
       "      <th>49821</th>\n",
       "      <td>en</td>\n",
       "      <td>It took me 6 months of using these after weani...</td>\n",
       "    </tr>\n",
       "  </tbody>\n",
       "</table>\n",
       "<p>7525 rows × 2 columns</p>\n",
       "</div>"
      ],
      "text/plain": [
       "            labels                                               text\n",
       "83478           en  Haven't used it yet, but can't wait to see the...\n",
       "32675           el  Οι ομάδες αυτές αισθάνονται άβολα με τον Χριστ...\n",
       "2937362  greeklish  sto lordaeron etsi?\\nallios den tha epsaxnes a...\n",
       "73951           el  Είναι από την Ελλάδα και είναι από ένα μικρό χ...\n",
       "57973           el  Η προσωπική αποταμίευση-Όπως μετρήθηκε στους ε...\n",
       "...            ...                                                ...\n",
       "6978            en  These robot fish do not work! They will float ...\n",
       "48135           en  Cats got bored of these but they did play with...\n",
       "12129           el  ( κάντε κλικ εδώ για το site του Μουσείου και ...\n",
       "60450           el  Και σε ένα σαν το α πώς το λες σαν πυρέξ ή κάτ...\n",
       "49821           en  It took me 6 months of using these after weani...\n",
       "\n",
       "[7525 rows x 2 columns]"
      ]
     },
     "execution_count": 37,
     "metadata": {},
     "output_type": "execute_result"
    }
   ],
   "source": [
    "from sklearn.model_selection import train_test_split\n",
    "\n",
    "\n",
    "data_train, data_test = train_test_split(gold_df, test_size=0.2, \n",
    "                                         random_state=42, stratify=gold_df.labels)\n",
    "data_train"
   ]
  },
  {
   "cell_type": "code",
   "execution_count": 38,
   "id": "0a182208-c3db-4892-8617-2209629396fd",
   "metadata": {
    "tags": []
   },
   "outputs": [
    {
     "data": {
      "text/plain": [
       "((7525, 24738), (7525,), (1882, 24738), (1882,))"
      ]
     },
     "execution_count": 38,
     "metadata": {},
     "output_type": "execute_result"
    }
   ],
   "source": [
    "from sklearn.feature_extraction.text import CountVectorizer, TfidfVectorizer\n",
    "\n",
    "\n",
    "vectorizer = TfidfVectorizer().fit(data_train.text)\n",
    "x_train = vectorizer.transform(data_train.text)\n",
    "y_train = data_train.labels\n",
    "x_test = vectorizer.transform(data_test.text)\n",
    "y_test = data_test.labels\n",
    "\n",
    "x_train.shape, y_train.shape, x_test.shape, y_test.shape"
   ]
  },
  {
   "cell_type": "code",
   "execution_count": 39,
   "id": "586c604d-1467-498c-9b04-57b00bf5db71",
   "metadata": {
    "tags": []
   },
   "outputs": [],
   "source": [
    "from sklearn.model_selection import cross_val_score\n",
    "\n",
    "\n",
    "def cross_val_res(model, x, y, scoring=None, cv=10):\n",
    "    if scoring is None:\n",
    "        scoring = \"f1_macro\"\n",
    "    res = cross_val_score(model, x, y, cv=cv, scoring=scoring)\n",
    "    return res"
   ]
  },
  {
   "cell_type": "markdown",
   "id": "10e77140-ffb9-41d2-9984-5764179617b3",
   "metadata": {},
   "source": [
    "### Dummy Classifier"
   ]
  },
  {
   "cell_type": "code",
   "execution_count": 40,
   "id": "a52c1a13-bf6a-4de9-a281-c43996874a5b",
   "metadata": {
    "tags": []
   },
   "outputs": [],
   "source": [
    "from sklearn.metrics import f1_score\n",
    "from sklearn.metrics import classification_report\n",
    "from sklearn.metrics import ConfusionMatrixDisplay\n",
    "import matplotlib.pyplot as plt\n",
    "import warnings\n",
    "\n",
    "\n",
    "def get_statistics(y_test, y_pred):\n",
    "    with warnings.catch_warnings():\n",
    "        warnings.simplefilter(\"ignore\")\n",
    "\n",
    "        print(f\"Macro F1: {f1_score(y_test, y_pred, average='macro', zero_division=0)}\")\n",
    "        print(classification_report(y_test, y_pred, zero_division=0))\n",
    "        ConfusionMatrixDisplay.from_predictions(y_test, \n",
    "                                                y_pred, \n",
    "                                                colorbar=True)\n",
    "        plt.show()"
   ]
  },
  {
   "cell_type": "code",
   "execution_count": 41,
   "id": "fc35cfee-456b-4ebb-a6bb-f91d7b8aa0c2",
   "metadata": {
    "tags": []
   },
   "outputs": [
    {
     "name": "stdout",
     "output_type": "stream",
     "text": [
      "Macro F1: 0.2214336408800568\n",
      "              precision    recall  f1-score   support\n",
      "\n",
      "          el       0.50      1.00      0.66       936\n",
      "          en       0.00      0.00      0.00       900\n",
      "   greeklish       0.00      0.00      0.00        46\n",
      "\n",
      "    accuracy                           0.50      1882\n",
      "   macro avg       0.17      0.33      0.22      1882\n",
      "weighted avg       0.25      0.50      0.33      1882\n",
      "\n"
     ]
    },
    {
     "data": {
      "image/png": "[encoded data removed]",
      "text/plain": [
       "<Figure size 640x480 with 2 Axes>"
      ]
     },
     "metadata": {},
     "output_type": "display_data"
    }
   ],
   "source": [
    "from sklearn.dummy import DummyClassifier, DummyRegressor\n",
    "\n",
    "majority = DummyClassifier(strategy=\"most_frequent\")\n",
    "majority.fit(x_train, y_train)\n",
    "majority_res = majority.predict(x_test)\n",
    "\n",
    "get_statistics(y_test, majority_res)"
   ]
  },
  {
   "cell_type": "markdown",
   "id": "eb0b9c1a-4593-4890-9090-46b31dcc7866",
   "metadata": {},
   "source": [
    "### Regex Classification"
   ]
  },
  {
   "cell_type": "code",
   "execution_count": 42,
   "id": "0eb47656-a440-41c2-ae24-175969c76e06",
   "metadata": {
    "tags": []
   },
   "outputs": [
    {
     "name": "stdout",
     "output_type": "stream",
     "text": [
      "Regex Classifier mean macro F1: 0.6594, std: 0.6604\n"
     ]
    }
   ],
   "source": [
    "with warnings.catch_warnings():\n",
    "    warnings.simplefilter(\"ignore\")\n",
    "\n",
    "    regex_model = RegexClassifier()\n",
    "    res = cross_val_res(regex_model, data_train.text, y_train, scoring=\"f1_macro\")\n",
    "    print(f\"Regex Classifier mean macro F1: {res[0]:.4f}, std: {res[1]:.4f}\")"
   ]
  },
  {
   "cell_type": "code",
   "execution_count": 43,
   "id": "cdfa7f60-198c-4860-90a0-8f52e5b6151c",
   "metadata": {
    "tags": []
   },
   "outputs": [
    {
     "name": "stdout",
     "output_type": "stream",
     "text": [
      "Macro F1: 0.6583604189237992\n",
      "              precision    recall  f1-score   support\n",
      "\n",
      "          el       1.00      1.00      1.00       936\n",
      "          en       0.95      1.00      0.98       900\n",
      "   greeklish       0.00      0.00      0.00        46\n",
      "\n",
      "    accuracy                           0.98      1882\n",
      "   macro avg       0.65      0.67      0.66      1882\n",
      "weighted avg       0.95      0.98      0.96      1882\n",
      "\n"
     ]
    },
    {
     "data": {
      "image/png": "[encoded data removed]",
      "text/plain": [
       "<Figure size 640x480 with 2 Axes>"
      ]
     },
     "metadata": {},
     "output_type": "display_data"
    }
   ],
   "source": [
    "regex_model = RegexClassifier(include_greeklish=True).fit(data_train.text, y_train)\n",
    "regex_res = regex_model.predict(data_test.text)\n",
    "get_statistics(y_test, regex_res)"
   ]
  },
  {
   "cell_type": "markdown",
   "id": "059ecd9d-3525-4f86-a102-5117125ddf5f",
   "metadata": {},
   "source": [
    "### Logistic Regression"
   ]
  },
  {
   "cell_type": "code",
   "execution_count": 44,
   "id": "51d879dd-7534-4cb6-b887-17bc89d3cb4c",
   "metadata": {
    "tags": []
   },
   "outputs": [
    {
     "name": "stdout",
     "output_type": "stream",
     "text": [
      "Logistic Regression mean macro F1-score 0.8925, std: 0.9440\n"
     ]
    }
   ],
   "source": [
    "from sklearn.linear_model import LogisticRegression\n",
    "\n",
    "\n",
    "with warnings.catch_warnings():\n",
    "    warnings.simplefilter(\"ignore\")\n",
    "\n",
    "    lr = LogisticRegression(max_iter=1000)\n",
    "    res = cross_val_res(lr, x_train, y_train)\n",
    "    print(f\"Logistic Regression mean macro F1-score {res[0]:.4f}, std: {res[1]:.4f}\")"
   ]
  },
  {
   "cell_type": "code",
   "execution_count": 45,
   "id": "0fc257a8-a52f-4f5b-832d-2e6e8d57f112",
   "metadata": {
    "tags": []
   },
   "outputs": [
    {
     "name": "stdout",
     "output_type": "stream",
     "text": [
      "Macro F1: 0.9313338488630643\n",
      "              precision    recall  f1-score   support\n",
      "\n",
      "          el       0.98      1.00      0.99       936\n",
      "          en       1.00      1.00      1.00       900\n",
      "   greeklish       1.00      0.67      0.81        46\n",
      "\n",
      "    accuracy                           0.99      1882\n",
      "   macro avg       0.99      0.89      0.93      1882\n",
      "weighted avg       0.99      0.99      0.99      1882\n",
      "\n"
     ]
    },
    {
     "data": {
      "image/png": "[encoded data removed]",
      "text/plain": [
       "<Figure size 640x480 with 2 Axes>"
      ]
     },
     "metadata": {},
     "output_type": "display_data"
    }
   ],
   "source": [
    "with warnings.catch_warnings():\n",
    "    warnings.simplefilter(\"ignore\")\n",
    "    lr = LogisticRegression(max_iter=1000).fit(x_train, y_train)\n",
    "    lr_res = lr.predict(x_test)\n",
    "\n",
    "get_statistics(y_test, lr_res)"
   ]
  },
  {
   "cell_type": "code",
   "execution_count": 46,
   "id": "2e25433a-8668-415c-9f9c-744d4c2075cf",
   "metadata": {},
   "outputs": [
    {
     "name": "stdout",
     "output_type": "stream",
     "text": [
      "Random Forest mean macro F1: 0.9485, std: 0.9353\n"
     ]
    }
   ],
   "source": [
    "from sklearn.ensemble import RandomForestClassifier\n",
    "\n",
    "\n",
    "forest_model = RandomForestClassifier(n_estimators=100, criterion=\"entropy\")\n",
    "res = cross_val_res(forest_model, x_train, y_train, cv=5)\n",
    "print(f\"Random Forest mean macro F1: {res[0]:.4f}, std: {res[1]:.4f}\")"
   ]
  },
  {
   "cell_type": "code",
   "execution_count": 47,
   "id": "11adac17-016c-4c15-8f84-71818e662763",
   "metadata": {},
   "outputs": [
    {
     "name": "stderr",
     "output_type": "stream",
     "text": [
      "[Parallel(n_jobs=1)]: Using backend SequentialBackend with 1 concurrent workers.\n",
      "[Parallel(n_jobs=1)]: Done 100 out of 100 | elapsed:    7.5s finished\n",
      "[Parallel(n_jobs=1)]: Using backend SequentialBackend with 1 concurrent workers.\n",
      "[Parallel(n_jobs=1)]: Done 100 out of 100 | elapsed:    0.0s finished\n"
     ]
    },
    {
     "name": "stdout",
     "output_type": "stream",
     "text": [
      "Macro F1: 0.9419078693275632\n",
      "              precision    recall  f1-score   support\n",
      "\n",
      "          el       1.00      0.99      0.99       936\n",
      "          en       1.00      1.00      1.00       900\n",
      "   greeklish       0.75      0.93      0.83        46\n",
      "\n",
      "    accuracy                           0.99      1882\n",
      "   macro avg       0.92      0.97      0.94      1882\n",
      "weighted avg       0.99      0.99      0.99      1882\n",
      "\n"
     ]
    },
    {
     "data": {
      "image/png": "[encoded data removed]",
      "text/plain": [
       "<Figure size 640x480 with 2 Axes>"
      ]
     },
     "metadata": {},
     "output_type": "display_data"
    }
   ],
   "source": [
    "forest_model = RandomForestClassifier(n_estimators=100, criterion=\"entropy\", verbose=1).fit(x_train, y_train)\n",
    "forest_pred = forest_model.predict(x_test)\n",
    "get_statistics(y_test, forest_pred)"
   ]
  },
  {
   "cell_type": "markdown",
   "id": "bfc319b9-5825-43be-88d5-707ed906d325",
   "metadata": {},
   "source": [
    "### Adaboost"
   ]
  },
  {
   "cell_type": "code",
   "execution_count": 48,
   "id": "e6518279-b235-4598-aff5-6a7865c3a68b",
   "metadata": {},
   "outputs": [
    {
     "name": "stdout",
     "output_type": "stream",
     "text": [
      "AdaBoost mean macro F1: 0.9366, std: 0.9575\n"
     ]
    }
   ],
   "source": [
    "from sklearn.ensemble import AdaBoostClassifier\n",
    "\n",
    "\n",
    "ada_model = AdaBoostClassifier(n_estimators=50)\n",
    "res = cross_val_res(ada_model, x_train, y_train, cv=5)\n",
    "print(f\"AdaBoost mean macro F1: {res[0]:.4f}, std: {res[1]:.4f}\")"
   ]
  },
  {
   "cell_type": "code",
   "execution_count": 49,
   "id": "285ec6f1-717a-48a8-8a8b-3d9e93caa531",
   "metadata": {},
   "outputs": [
    {
     "name": "stdout",
     "output_type": "stream",
     "text": [
      "Macro F1: 0.9394076438769176\n",
      "              precision    recall  f1-score   support\n",
      "\n",
      "          el       0.98      1.00      0.99       936\n",
      "          en       1.00      0.99      0.99       900\n",
      "   greeklish       0.92      0.76      0.83        46\n",
      "\n",
      "    accuracy                           0.99      1882\n",
      "   macro avg       0.97      0.92      0.94      1882\n",
      "weighted avg       0.99      0.99      0.99      1882\n",
      "\n"
     ]
    },
    {
     "data": {
      "image/png": "[encoded data removed]",
      "text/plain": [
       "<Figure size 640x480 with 2 Axes>"
      ]
     },
     "metadata": {},
     "output_type": "display_data"
    }
   ],
   "source": [
    "ada_model = AdaBoostClassifier(n_estimators=200).fit(x_train, y_train)\n",
    "ada_pred = ada_model.predict(x_test)\n",
    "get_statistics(y_test, ada_pred)"
   ]
  },
  {
   "cell_type": "code",
   "execution_count": 50,
   "id": "e185b12c-828e-4d51-a4dd-e47183ddb0eb",
   "metadata": {},
   "outputs": [
    {
     "data": {
      "text/html": [
       "<div>\n",
       "<style scoped>\n",
       "    .dataframe tbody tr th:only-of-type {\n",
       "        vertical-align: middle;\n",
       "    }\n",
       "\n",
       "    .dataframe tbody tr th {\n",
       "        vertical-align: top;\n",
       "    }\n",
       "\n",
       "    .dataframe thead th {\n",
       "        text-align: right;\n",
       "    }\n",
       "</style>\n",
       "<table border=\"1\" class=\"dataframe\">\n",
       "  <thead>\n",
       "    <tr style=\"text-align: right;\">\n",
       "      <th></th>\n",
       "      <th>predicted</th>\n",
       "      <th>actual</th>\n",
       "      <th>text</th>\n",
       "    </tr>\n",
       "  </thead>\n",
       "  <tbody>\n",
       "    <tr>\n",
       "      <th>2558328</th>\n",
       "      <td>el</td>\n",
       "      <td>greeklish</td>\n",
       "      <td>ti 8a kanete kamia guild h mpa?</td>\n",
       "    </tr>\n",
       "    <tr>\n",
       "      <th>2936352</th>\n",
       "      <td>el</td>\n",
       "      <td>greeklish</td>\n",
       "      <td>Yparxei kapoio ellinko guild pou kanei recruit...</td>\n",
       "    </tr>\n",
       "    <tr>\n",
       "      <th>3185767</th>\n",
       "      <td>el</td>\n",
       "      <td>greeklish</td>\n",
       "      <td>????????? ??????, ????? ?? ??? alliance. /w Mitce</td>\n",
       "    </tr>\n",
       "    <tr>\n",
       "      <th>2866716</th>\n",
       "      <td>el</td>\n",
       "      <td>greeklish</td>\n",
       "      <td>Yparxei ellhniko guild ston outland??</td>\n",
       "    </tr>\n",
       "    <tr>\n",
       "      <th>3130093</th>\n",
       "      <td>el</td>\n",
       "      <td>greeklish</td>\n",
       "      <td>emeis paizoume icecrown alliance an 8elete, ei...</td>\n",
       "    </tr>\n",
       "    <tr>\n",
       "      <th>33971</th>\n",
       "      <td>el</td>\n",
       "      <td>en</td>\n",
       "      <td>Snap kept coming undone.</td>\n",
       "    </tr>\n",
       "    <tr>\n",
       "      <th>19331</th>\n",
       "      <td>el</td>\n",
       "      <td>en</td>\n",
       "      <td>FAULTY - All stopped functioning within 1 week</td>\n",
       "    </tr>\n",
       "    <tr>\n",
       "      <th>18710</th>\n",
       "      <td>el</td>\n",
       "      <td>en</td>\n",
       "      <td>WERE IMPROPERLY SEWEN</td>\n",
       "    </tr>\n",
       "    <tr>\n",
       "      <th>68903</th>\n",
       "      <td>greeklish</td>\n",
       "      <td>en</td>\n",
       "      <td>disappointed in lenght</td>\n",
       "    </tr>\n",
       "    <tr>\n",
       "      <th>2480452</th>\n",
       "      <td>el</td>\n",
       "      <td>greeklish</td>\n",
       "      <td>mlkia eimai horde :(</td>\n",
       "    </tr>\n",
       "    <tr>\n",
       "      <th>45160</th>\n",
       "      <td>greeklish</td>\n",
       "      <td>en</td>\n",
       "      <td>Similar to other books</td>\n",
       "    </tr>\n",
       "    <tr>\n",
       "      <th>82485</th>\n",
       "      <td>el</td>\n",
       "      <td>en</td>\n",
       "      <td>Doesn't stay put. Annoying.</td>\n",
       "    </tr>\n",
       "    <tr>\n",
       "      <th>29049</th>\n",
       "      <td>el</td>\n",
       "      <td>en</td>\n",
       "      <td>You will slip. Don't waste your time. Your foo...</td>\n",
       "    </tr>\n",
       "    <tr>\n",
       "      <th>35982</th>\n",
       "      <td>el</td>\n",
       "      <td>en</td>\n",
       "      <td>Nice clean storage piece. Fits into pantry eas...</td>\n",
       "    </tr>\n",
       "    <tr>\n",
       "      <th>70135</th>\n",
       "      <td>greeklish</td>\n",
       "      <td>en</td>\n",
       "      <td>Takes some getting use to</td>\n",
       "    </tr>\n",
       "    <tr>\n",
       "      <th>3199709</th>\n",
       "      <td>el</td>\n",
       "      <td>greeklish</td>\n",
       "      <td>geia sou eimai ston  lordaeron. character: Pat...</td>\n",
       "    </tr>\n",
       "    <tr>\n",
       "      <th>2823473</th>\n",
       "      <td>el</td>\n",
       "      <td>greeklish</td>\n",
       "      <td>ama eisai alliance mesa ego</td>\n",
       "    </tr>\n",
       "    <tr>\n",
       "      <th>2968333</th>\n",
       "      <td>el</td>\n",
       "      <td>greeklish</td>\n",
       "      <td>aoua aoua aoua</td>\n",
       "    </tr>\n",
       "    <tr>\n",
       "      <th>33626</th>\n",
       "      <td>el</td>\n",
       "      <td>en</td>\n",
       "      <td>I thought these were bigger.</td>\n",
       "    </tr>\n",
       "    <tr>\n",
       "      <th>2982486</th>\n",
       "      <td>el</td>\n",
       "      <td>greeklish</td>\n",
       "      <td>aceofjoker eimai kaneme add rogue</td>\n",
       "    </tr>\n",
       "    <tr>\n",
       "      <th>2843005</th>\n",
       "      <td>el</td>\n",
       "      <td>greeklish</td>\n",
       "      <td>Resto Shaman twra kanw gear up 3.1k gs Name:Je...</td>\n",
       "    </tr>\n",
       "  </tbody>\n",
       "</table>\n",
       "</div>"
      ],
      "text/plain": [
       "         predicted     actual  \\\n",
       "2558328         el  greeklish   \n",
       "2936352         el  greeklish   \n",
       "3185767         el  greeklish   \n",
       "2866716         el  greeklish   \n",
       "3130093         el  greeklish   \n",
       "33971           el         en   \n",
       "19331           el         en   \n",
       "18710           el         en   \n",
       "68903    greeklish         en   \n",
       "2480452         el  greeklish   \n",
       "45160    greeklish         en   \n",
       "82485           el         en   \n",
       "29049           el         en   \n",
       "35982           el         en   \n",
       "70135    greeklish         en   \n",
       "3199709         el  greeklish   \n",
       "2823473         el  greeklish   \n",
       "2968333         el  greeklish   \n",
       "33626           el         en   \n",
       "2982486         el  greeklish   \n",
       "2843005         el  greeklish   \n",
       "\n",
       "                                                      text  \n",
       "2558328                    ti 8a kanete kamia guild h mpa?  \n",
       "2936352  Yparxei kapoio ellinko guild pou kanei recruit...  \n",
       "3185767  ????????? ??????, ????? ?? ??? alliance. /w Mitce  \n",
       "2866716              Yparxei ellhniko guild ston outland??  \n",
       "3130093  emeis paizoume icecrown alliance an 8elete, ei...  \n",
       "33971                             Snap kept coming undone.  \n",
       "19331       FAULTY - All stopped functioning within 1 week  \n",
       "18710                                WERE IMPROPERLY SEWEN  \n",
       "68903                               disappointed in lenght  \n",
       "2480452                               mlkia eimai horde :(  \n",
       "45160                               Similar to other books  \n",
       "82485                          Doesn't stay put. Annoying.  \n",
       "29049    You will slip. Don't waste your time. Your foo...  \n",
       "35982    Nice clean storage piece. Fits into pantry eas...  \n",
       "70135                            Takes some getting use to  \n",
       "3199709  geia sou eimai ston  lordaeron. character: Pat...  \n",
       "2823473                        ama eisai alliance mesa ego  \n",
       "2968333                                     aoua aoua aoua  \n",
       "33626                         I thought these were bigger.  \n",
       "2982486                  aceofjoker eimai kaneme add rogue  \n",
       "2843005  Resto Shaman twra kanw gear up 3.1k gs Name:Je...  "
      ]
     },
     "execution_count": 50,
     "metadata": {},
     "output_type": "execute_result"
    }
   ],
   "source": [
    "missed = y_test != ada_pred\n",
    "pd.DataFrame({\"predicted\": ada_pred[missed], \"actual\": data_test[missed].labels, \"text\": data_test[missed].text})"
   ]
  },
  {
   "cell_type": "code",
   "execution_count": 51,
   "id": "36893bd6-9b9f-4aa1-b2d3-07ecdbb70f3a",
   "metadata": {},
   "outputs": [
    {
     "data": {
      "text/html": [
       "<div>\n",
       "<style scoped>\n",
       "    .dataframe tbody tr th:only-of-type {\n",
       "        vertical-align: middle;\n",
       "    }\n",
       "\n",
       "    .dataframe tbody tr th {\n",
       "        vertical-align: top;\n",
       "    }\n",
       "\n",
       "    .dataframe thead th {\n",
       "        text-align: right;\n",
       "    }\n",
       "</style>\n",
       "<table border=\"1\" class=\"dataframe\">\n",
       "  <thead>\n",
       "    <tr style=\"text-align: right;\">\n",
       "      <th></th>\n",
       "      <th>predicted</th>\n",
       "      <th>actual</th>\n",
       "      <th>text</th>\n",
       "    </tr>\n",
       "  </thead>\n",
       "  <tbody>\n",
       "    <tr>\n",
       "      <th>2697</th>\n",
       "      <td>greeklish</td>\n",
       "      <td>el</td>\n",
       "      <td>Εθνικό Ίδρυμα Επιστημών .</td>\n",
       "    </tr>\n",
       "    <tr>\n",
       "      <th>7628</th>\n",
       "      <td>greeklish</td>\n",
       "      <td>el</td>\n",
       "      <td>Προκάλεσε κάποια ζημιά .</td>\n",
       "    </tr>\n",
       "    <tr>\n",
       "      <th>2792275</th>\n",
       "      <td>en</td>\n",
       "      <td>greeklish</td>\n",
       "      <td>Meta to xtesino mas raid  ICC25  exume 8/12hc ...</td>\n",
       "    </tr>\n",
       "    <tr>\n",
       "      <th>55944</th>\n",
       "      <td>greeklish</td>\n",
       "      <td>el</td>\n",
       "      <td>Ο ' λφρεντ ίγκλθορπ , φυσικά !</td>\n",
       "    </tr>\n",
       "    <tr>\n",
       "      <th>54543</th>\n",
       "      <td>greeklish</td>\n",
       "      <td>el</td>\n",
       "      <td>Τέχνη πλασάρισμα</td>\n",
       "    </tr>\n",
       "    <tr>\n",
       "      <th>49388</th>\n",
       "      <td>greeklish</td>\n",
       "      <td>el</td>\n",
       "      <td>Διεξήχθη σιωπηλά .</td>\n",
       "    </tr>\n",
       "    <tr>\n",
       "      <th>33971</th>\n",
       "      <td>greeklish</td>\n",
       "      <td>en</td>\n",
       "      <td>Snap kept coming undone.</td>\n",
       "    </tr>\n",
       "    <tr>\n",
       "      <th>27499</th>\n",
       "      <td>greeklish</td>\n",
       "      <td>el</td>\n",
       "      <td>Σ ' ευχαριστώ .</td>\n",
       "    </tr>\n",
       "    <tr>\n",
       "      <th>26210</th>\n",
       "      <td>greeklish</td>\n",
       "      <td>el</td>\n",
       "      <td>Εντάξει , ηρέμησε .</td>\n",
       "    </tr>\n",
       "    <tr>\n",
       "      <th>84516</th>\n",
       "      <td>greeklish</td>\n",
       "      <td>el</td>\n",
       "      <td>Πρωτότυπα Μηχανολογικά πρωτότυπα  (εικονικά ή ...</td>\n",
       "    </tr>\n",
       "    <tr>\n",
       "      <th>18710</th>\n",
       "      <td>greeklish</td>\n",
       "      <td>en</td>\n",
       "      <td>WERE IMPROPERLY SEWEN</td>\n",
       "    </tr>\n",
       "    <tr>\n",
       "      <th>32284</th>\n",
       "      <td>greeklish</td>\n",
       "      <td>el</td>\n",
       "      <td>Απίθανο .</td>\n",
       "    </tr>\n",
       "    <tr>\n",
       "      <th>9248</th>\n",
       "      <td>greeklish</td>\n",
       "      <td>el</td>\n",
       "      <td>Αρκετά υπονοούμενα .</td>\n",
       "    </tr>\n",
       "    <tr>\n",
       "      <th>9691</th>\n",
       "      <td>greeklish</td>\n",
       "      <td>el</td>\n",
       "      <td>Γουλιά .</td>\n",
       "    </tr>\n",
       "    <tr>\n",
       "      <th>3100558</th>\n",
       "      <td>en</td>\n",
       "      <td>greeklish</td>\n",
       "      <td>80lvl Beast master Hunter pros to paron  3.5 G...</td>\n",
       "    </tr>\n",
       "    <tr>\n",
       "      <th>2843005</th>\n",
       "      <td>en</td>\n",
       "      <td>greeklish</td>\n",
       "      <td>Resto Shaman twra kanw gear up 3.1k gs Name:Je...</td>\n",
       "    </tr>\n",
       "    <tr>\n",
       "      <th>63775</th>\n",
       "      <td>greeklish</td>\n",
       "      <td>el</td>\n",
       "      <td>Άνετα , ασφαλή παιδικά χρόνια .</td>\n",
       "    </tr>\n",
       "  </tbody>\n",
       "</table>\n",
       "</div>"
      ],
      "text/plain": [
       "         predicted     actual  \\\n",
       "2697     greeklish         el   \n",
       "7628     greeklish         el   \n",
       "2792275         en  greeklish   \n",
       "55944    greeklish         el   \n",
       "54543    greeklish         el   \n",
       "49388    greeklish         el   \n",
       "33971    greeklish         en   \n",
       "27499    greeklish         el   \n",
       "26210    greeklish         el   \n",
       "84516    greeklish         el   \n",
       "18710    greeklish         en   \n",
       "32284    greeklish         el   \n",
       "9248     greeklish         el   \n",
       "9691     greeklish         el   \n",
       "3100558         en  greeklish   \n",
       "2843005         en  greeklish   \n",
       "63775    greeklish         el   \n",
       "\n",
       "                                                      text  \n",
       "2697                             Εθνικό Ίδρυμα Επιστημών .  \n",
       "7628                              Προκάλεσε κάποια ζημιά .  \n",
       "2792275  Meta to xtesino mas raid  ICC25  exume 8/12hc ...  \n",
       "55944                       Ο ' λφρεντ ίγκλθορπ , φυσικά !  \n",
       "54543                                     Τέχνη πλασάρισμα  \n",
       "49388                                   Διεξήχθη σιωπηλά .  \n",
       "33971                             Snap kept coming undone.  \n",
       "27499                                      Σ ' ευχαριστώ .  \n",
       "26210                                  Εντάξει , ηρέμησε .  \n",
       "84516    Πρωτότυπα Μηχανολογικά πρωτότυπα  (εικονικά ή ...  \n",
       "18710                                WERE IMPROPERLY SEWEN  \n",
       "32284                                            Απίθανο .  \n",
       "9248                                  Αρκετά υπονοούμενα .  \n",
       "9691                                              Γουλιά .  \n",
       "3100558  80lvl Beast master Hunter pros to paron  3.5 G...  \n",
       "2843005  Resto Shaman twra kanw gear up 3.1k gs Name:Je...  \n",
       "63775                      Άνετα , ασφαλή παιδικά χρόνια .  "
      ]
     },
     "execution_count": 51,
     "metadata": {},
     "output_type": "execute_result"
    }
   ],
   "source": [
    "missed = y_test != forest_pred\n",
    "pd.DataFrame({\"predicted\": forest_pred[missed], \"actual\": data_test[missed].labels, \"text\": data_test[missed].text})"
   ]
  },
  {
   "cell_type": "code",
   "execution_count": 52,
   "id": "bbd4fa74-04f1-48e0-9954-8d77e9f5685c",
   "metadata": {
    "tags": []
   },
   "outputs": [
    {
     "name": "stdout",
     "output_type": "stream",
     "text": [
      "Notebook executed in 7 minutes and 4.6 seconds\n"
     ]
    }
   ],
   "source": [
    "print(f\"Notebook executed in {int((time()-start)// 60)} minutes and {(time()-start) % 60:.1f} seconds\")"
   ]
  }
 ],
 "metadata": {
  "kernelspec": {
   "display_name": "Python 3 (ipykernel)",
   "language": "python",
   "name": "python3"
  },
  "language_info": {
   "codemirror_mode": {
    "name": "ipython",
    "version": 3
   },
   "file_extension": ".py",
   "mimetype": "text/x-python",
   "name": "python",
   "nbconvert_exporter": "python",
   "pygments_lexer": "ipython3",
   "version": "3.11.5"
  }
 },
 "nbformat": 4,
 "nbformat_minor": 5
}
