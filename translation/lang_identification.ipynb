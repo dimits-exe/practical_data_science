{
 "cells": [
  {
   "cell_type": "code",
   "execution_count": 1,
   "id": "61c64785-61ad-4212-a91e-141f1cfd19b5",
   "metadata": {},
   "outputs": [],
   "source": [
    "from time import time\n",
    "\n",
    "start = time()"
   ]
  },
  {
   "cell_type": "markdown",
   "id": "26f6978d-5009-4a94-89e1-ee8ccb01d081",
   "metadata": {},
   "source": [
    "## Regex classifier"
   ]
  },
  {
   "cell_type": "code",
   "execution_count": 2,
   "id": "59b239c8-6826-4835-8b63-5874804b468a",
   "metadata": {
    "tags": []
   },
   "outputs": [],
   "source": [
    "from sklearn.base import BaseEstimator, RegressorMixin\n",
    "import numpy as np\n",
    "import re\n",
    "\n",
    "\n",
    "#idea credit https://www.linkedin.com/pulse/regex-one-pattern-rule-them-all-find-bring-darkness-bind-carranza/\n",
    "class RegexClassifier(BaseEstimator, RegressorMixin):\n",
    "    \"\"\"\n",
    "    Language Classifier using Regular Expressions\n",
    "    \"\"\"\n",
    "\n",
    "    language_regex_dict = {\n",
    "        'el': r'([\\u0370-\\u03ff\\u1f00-\\u1fff]+)\\s?',  # Greek\n",
    "        'en': r'([a-zA-Z]+)\\s?',  # English\n",
    "    }\n",
    "\n",
    "    # STATIC INITALIZATION BLOCK\n",
    "    # pre-compie all expressions to save execution time\n",
    "    for lang in language_regex_dict.keys():\n",
    "        language_regex_dict[lang] = re.compile(language_regex_dict[lang])\n",
    "\n",
    "\n",
    "    def __init__(self, include_greeklish=True):\n",
    "        \"\"\"\n",
    "        Initialize a new :class:`RegexClassifier` instance.\n",
    "\n",
    "        :param include_greeklish: Optional. If True, include Greeklish in the language identification process.\n",
    "        \"\"\"\n",
    "        self.include_greeklish = include_greeklish\n",
    "\n",
    "    def predict(self, x):\n",
    "        preds = []\n",
    "\n",
    "        for text in x:\n",
    "            pred = \"other\"\n",
    "\n",
    "            if self.include_greeklish and \\\n",
    "                re.search(RegexClassifier.language_regex_dict[\"el\"], text) and \\\n",
    "                re.search(RegexClassifier.language_regex_dict[\"en\"], text):\n",
    "                    pred = \"greeklish\"\n",
    "            else:\n",
    "                for lang_code, regex_pattern in RegexClassifier.language_regex_dict.items():\n",
    "                    match = re.search(regex_pattern, text)\n",
    "                    if match:\n",
    "                        pred = lang_code\n",
    "                        break\n",
    "            preds.append(pred)\n",
    "        return np.array(preds)\n",
    "    \n",
    "    def fit(self, x, y):\n",
    "        return self"
   ]
  },
  {
   "cell_type": "code",
   "execution_count": 3,
   "id": "96a77733-0bfa-45e0-a5a7-4432baab8455",
   "metadata": {
    "tags": []
   },
   "outputs": [
    {
     "name": "stdout",
     "output_type": "stream",
     "text": [
      "Detected Language Code: ['other' 'en' 'el']\n"
     ]
    }
   ],
   "source": [
    "# Example usage\n",
    "user_input_text = [\"你好，これはサンプルです。안녕하세요\", \"this is an english sentence\", \"δεν αντεχω αλλο\"]\n",
    "detected_language = RegexClassifier().predict(user_input_text)\n",
    "print(f\"Detected Language Code: {detected_language}\")"
   ]
  },
  {
   "cell_type": "markdown",
   "id": "2e6a8254-d567-492c-9a98-c944e7ca5199",
   "metadata": {},
   "source": [
    "## Defining the Gold Standard\n"
   ]
  },
  {
   "cell_type": "markdown",
   "id": "a77d5818-afe2-4c09-9a29-6f615dd492ec",
   "metadata": {},
   "source": [
    "### Greek-English identification dataset"
   ]
  },
  {
   "cell_type": "markdown",
   "id": "35fbce76-e950-4efc-9b38-09da72af29c8",
   "metadata": {},
   "source": [
    "https://aclanthology.org/L06-1229/\n",
    "https://aclanthology.org/L04-1369/\n",
    "https://huggingface.co/datasets/papluca/language-identification"
   ]
  },
  {
   "cell_type": "code",
   "execution_count": 4,
   "id": "7884d336-7550-4a37-9125-fd31d52561e3",
   "metadata": {},
   "outputs": [],
   "source": [
    "import pandas as pd\n",
    "\n",
    "\n",
    "def dataset_to_pd(dataset_dict: dict) -> pd.DataFrame:\n",
    "    df_ls = []\n",
    "    label_array = np.empty(shape=(sum([len(dataset) for dataset in dataset_dict.values()])), dtype=object)\n",
    "    last_idx = -1\n",
    "\n",
    "    for label, dataset in dataset_dict.items():\n",
    "        new_last_idx = len(dataset) + last_idx\n",
    "        label_array.put(np.arange(last_idx+1, new_last_idx+1, 1), label)\n",
    "        last_idx = new_last_idx\n",
    "\n",
    "        df_ls.append(pd.DataFrame(dataset))\n",
    "\n",
    "    full_df = pd.concat(df_ls, ignore_index=True)\n",
    "    full_df[\"set\"] = label_array\n",
    "    full_df.insert(0, \"set\", full_df.pop(\"set\"))\n",
    "\n",
    "    return full_df"
   ]
  },
  {
   "cell_type": "code",
   "execution_count": 5,
   "id": "321846d4-f30f-46f6-b67d-cae6566f7ea0",
   "metadata": {},
   "outputs": [
    {
     "data": {
      "text/plain": [
       "DatasetDict({\n",
       "    train: Dataset({\n",
       "        features: ['labels', 'text'],\n",
       "        num_rows: 70000\n",
       "    })\n",
       "    validation: Dataset({\n",
       "        features: ['labels', 'text'],\n",
       "        num_rows: 10000\n",
       "    })\n",
       "    test: Dataset({\n",
       "        features: ['labels', 'text'],\n",
       "        num_rows: 10000\n",
       "    })\n",
       "})"
      ]
     },
     "execution_count": 5,
     "metadata": {},
     "output_type": "execute_result"
    }
   ],
   "source": [
    "from datasets import load_dataset\n",
    "\n",
    "\n",
    "dataset_dict = load_dataset(\"papluca/language-identification\")\n",
    "dataset_dict"
   ]
  },
  {
   "cell_type": "code",
   "execution_count": 6,
   "id": "fd8bd535-bb09-413a-b30b-cc3c978f93fd",
   "metadata": {},
   "outputs": [
    {
     "data": {
      "text/html": [
       "<div>\n",
       "<style scoped>\n",
       "    .dataframe tbody tr th:only-of-type {\n",
       "        vertical-align: middle;\n",
       "    }\n",
       "\n",
       "    .dataframe tbody tr th {\n",
       "        vertical-align: top;\n",
       "    }\n",
       "\n",
       "    .dataframe thead th {\n",
       "        text-align: right;\n",
       "    }\n",
       "</style>\n",
       "<table border=\"1\" class=\"dataframe\">\n",
       "  <thead>\n",
       "    <tr style=\"text-align: right;\">\n",
       "      <th></th>\n",
       "      <th>set</th>\n",
       "      <th>labels</th>\n",
       "      <th>text</th>\n",
       "    </tr>\n",
       "  </thead>\n",
       "  <tbody>\n",
       "    <tr>\n",
       "      <th>0</th>\n",
       "      <td>train</td>\n",
       "      <td>pt</td>\n",
       "      <td>os chefes de defesa da estónia, letónia, lituâ...</td>\n",
       "    </tr>\n",
       "    <tr>\n",
       "      <th>1</th>\n",
       "      <td>train</td>\n",
       "      <td>bg</td>\n",
       "      <td>размерът на хоризонталната мрежа може да бъде ...</td>\n",
       "    </tr>\n",
       "    <tr>\n",
       "      <th>2</th>\n",
       "      <td>train</td>\n",
       "      <td>zh</td>\n",
       "      <td>很好，以前从不去评价，不知道浪费了多少积分，现在知道积分可以换钱，就要好好评价了，后来我就把...</td>\n",
       "    </tr>\n",
       "    <tr>\n",
       "      <th>3</th>\n",
       "      <td>train</td>\n",
       "      <td>th</td>\n",
       "      <td>สำหรับ ของเก่า ที่ จริงจัง ลอง   honeychurch  ...</td>\n",
       "    </tr>\n",
       "    <tr>\n",
       "      <th>4</th>\n",
       "      <td>train</td>\n",
       "      <td>ru</td>\n",
       "      <td>Он увеличил давление .</td>\n",
       "    </tr>\n",
       "    <tr>\n",
       "      <th>...</th>\n",
       "      <td>...</td>\n",
       "      <td>...</td>\n",
       "      <td>...</td>\n",
       "    </tr>\n",
       "    <tr>\n",
       "      <th>89995</th>\n",
       "      <td>test</td>\n",
       "      <td>zh</td>\n",
       "      <td>史料很充分，对岸的很多观点与大陆迥异啊。</td>\n",
       "    </tr>\n",
       "    <tr>\n",
       "      <th>89996</th>\n",
       "      <td>test</td>\n",
       "      <td>tr</td>\n",
       "      <td>Örneğin, teşhis Yunanca bir kelimeden alındı (...</td>\n",
       "    </tr>\n",
       "    <tr>\n",
       "      <th>89997</th>\n",
       "      <td>test</td>\n",
       "      <td>vi</td>\n",
       "      <td>Nếu lite/light chỉ đơn giản là mô tả một đặc t...</td>\n",
       "    </tr>\n",
       "    <tr>\n",
       "      <th>89998</th>\n",
       "      <td>test</td>\n",
       "      <td>bg</td>\n",
       "      <td>Например, една щатска столица, която посетихме...</td>\n",
       "    </tr>\n",
       "    <tr>\n",
       "      <th>89999</th>\n",
       "      <td>test</td>\n",
       "      <td>pl</td>\n",
       "      <td>Mam dla ciebie kilka propozycji:</td>\n",
       "    </tr>\n",
       "  </tbody>\n",
       "</table>\n",
       "<p>90000 rows × 3 columns</p>\n",
       "</div>"
      ],
      "text/plain": [
       "         set labels                                               text\n",
       "0      train     pt  os chefes de defesa da estónia, letónia, lituâ...\n",
       "1      train     bg  размерът на хоризонталната мрежа може да бъде ...\n",
       "2      train     zh  很好，以前从不去评价，不知道浪费了多少积分，现在知道积分可以换钱，就要好好评价了，后来我就把...\n",
       "3      train     th  สำหรับ ของเก่า ที่ จริงจัง ลอง   honeychurch  ...\n",
       "4      train     ru                             Он увеличил давление .\n",
       "...      ...    ...                                                ...\n",
       "89995   test     zh                               史料很充分，对岸的很多观点与大陆迥异啊。\n",
       "89996   test     tr  Örneğin, teşhis Yunanca bir kelimeden alındı (...\n",
       "89997   test     vi  Nếu lite/light chỉ đơn giản là mô tả một đặc t...\n",
       "89998   test     bg  Например, една щатска столица, която посетихме...\n",
       "89999   test     pl                   Mam dla ciebie kilka propozycji:\n",
       "\n",
       "[90000 rows x 3 columns]"
      ]
     },
     "execution_count": 6,
     "metadata": {},
     "output_type": "execute_result"
    }
   ],
   "source": [
    "lang_df = dataset_to_pd(dataset_dict)\n",
    "lang_df"
   ]
  },
  {
   "cell_type": "code",
   "execution_count": 7,
   "id": "b65d7720-bf89-4b94-8283-4544209ea5be",
   "metadata": {
    "tags": []
   },
   "outputs": [
    {
     "data": {
      "text/html": [
       "<div>\n",
       "<style scoped>\n",
       "    .dataframe tbody tr th:only-of-type {\n",
       "        vertical-align: middle;\n",
       "    }\n",
       "\n",
       "    .dataframe tbody tr th {\n",
       "        vertical-align: top;\n",
       "    }\n",
       "\n",
       "    .dataframe thead th {\n",
       "        text-align: right;\n",
       "    }\n",
       "</style>\n",
       "<table border=\"1\" class=\"dataframe\">\n",
       "  <thead>\n",
       "    <tr style=\"text-align: right;\">\n",
       "      <th></th>\n",
       "      <th>labels</th>\n",
       "      <th>text</th>\n",
       "    </tr>\n",
       "  </thead>\n",
       "  <tbody>\n",
       "    <tr>\n",
       "      <th>18</th>\n",
       "      <td>el</td>\n",
       "      <td>Παρά τον εαυτό μου , η γνώμη μου για τη σύνεση...</td>\n",
       "    </tr>\n",
       "    <tr>\n",
       "      <th>39</th>\n",
       "      <td>en</td>\n",
       "      <td>Didnt really seem to work much.</td>\n",
       "    </tr>\n",
       "    <tr>\n",
       "      <th>40</th>\n",
       "      <td>el</td>\n",
       "      <td>Ακόμα και το να ξέρεις ότι ήταν ένα άγαλμα που...</td>\n",
       "    </tr>\n",
       "    <tr>\n",
       "      <th>49</th>\n",
       "      <td>en</td>\n",
       "      <td>Highly recommend for those who don't like bein...</td>\n",
       "    </tr>\n",
       "    <tr>\n",
       "      <th>75</th>\n",
       "      <td>el</td>\n",
       "      <td>Έχω κάνει τέσσερις ή πέντε .</td>\n",
       "    </tr>\n",
       "    <tr>\n",
       "      <th>...</th>\n",
       "      <td>...</td>\n",
       "      <td>...</td>\n",
       "    </tr>\n",
       "    <tr>\n",
       "      <th>89961</th>\n",
       "      <td>en</td>\n",
       "      <td>It's super cute, really soft. Print is fine bu...</td>\n",
       "    </tr>\n",
       "    <tr>\n",
       "      <th>89965</th>\n",
       "      <td>en</td>\n",
       "      <td>One of them worked, the other one didn't. Ther...</td>\n",
       "    </tr>\n",
       "    <tr>\n",
       "      <th>89978</th>\n",
       "      <td>en</td>\n",
       "      <td>I only received one out of the three strikers :(</td>\n",
       "    </tr>\n",
       "    <tr>\n",
       "      <th>89982</th>\n",
       "      <td>el</td>\n",
       "      <td>Οι οργανισμοί πρέπει να είναι σε θέση να μετρή...</td>\n",
       "    </tr>\n",
       "    <tr>\n",
       "      <th>89986</th>\n",
       "      <td>el</td>\n",
       "      <td>Το Abeam με την Arabella, απέναντι από το λιμά...</td>\n",
       "    </tr>\n",
       "  </tbody>\n",
       "</table>\n",
       "<p>9000 rows × 2 columns</p>\n",
       "</div>"
      ],
      "text/plain": [
       "      labels                                               text\n",
       "18        el  Παρά τον εαυτό μου , η γνώμη μου για τη σύνεση...\n",
       "39        en                    Didnt really seem to work much.\n",
       "40        el  Ακόμα και το να ξέρεις ότι ήταν ένα άγαλμα που...\n",
       "49        en  Highly recommend for those who don't like bein...\n",
       "75        el                       Έχω κάνει τέσσερις ή πέντε .\n",
       "...      ...                                                ...\n",
       "89961     en  It's super cute, really soft. Print is fine bu...\n",
       "89965     en  One of them worked, the other one didn't. Ther...\n",
       "89978     en   I only received one out of the three strikers :(\n",
       "89982     el  Οι οργανισμοί πρέπει να είναι σε θέση να μετρή...\n",
       "89986     el  Το Abeam με την Arabella, απέναντι από το λιμά...\n",
       "\n",
       "[9000 rows x 2 columns]"
      ]
     },
     "execution_count": 7,
     "metadata": {},
     "output_type": "execute_result"
    }
   ],
   "source": [
    "en_gr_cond = lang_df.labels.eq(\"el\") | lang_df.labels.eq(\"en\")\n",
    "en_gr_df = lang_df.loc[en_gr_cond, [\"labels\", \"text\"]]\n",
    "en_gr_df"
   ]
  },
  {
   "cell_type": "code",
   "execution_count": 8,
   "id": "68aa37a0-6802-471a-a55a-40636d718f12",
   "metadata": {},
   "outputs": [
    {
     "data": {
      "text/html": [
       "<div>\n",
       "<style scoped>\n",
       "    .dataframe tbody tr th:only-of-type {\n",
       "        vertical-align: middle;\n",
       "    }\n",
       "\n",
       "    .dataframe tbody tr th {\n",
       "        vertical-align: top;\n",
       "    }\n",
       "\n",
       "    .dataframe thead th {\n",
       "        text-align: right;\n",
       "    }\n",
       "</style>\n",
       "<table border=\"1\" class=\"dataframe\">\n",
       "  <thead>\n",
       "    <tr style=\"text-align: right;\">\n",
       "      <th></th>\n",
       "      <th>labels</th>\n",
       "      <th>text</th>\n",
       "    </tr>\n",
       "  </thead>\n",
       "  <tbody>\n",
       "    <tr>\n",
       "      <th>42998</th>\n",
       "      <td>other</td>\n",
       "      <td>ओह , हाँ .</td>\n",
       "    </tr>\n",
       "    <tr>\n",
       "      <th>81708</th>\n",
       "      <td>other</td>\n",
       "      <td>Sisi sio wahalisi ama kitu ingine lakini</td>\n",
       "    </tr>\n",
       "    <tr>\n",
       "      <th>32407</th>\n",
       "      <td>other</td>\n",
       "      <td>St. Catherine đã từng là một tu viện rất giàu ...</td>\n",
       "    </tr>\n",
       "    <tr>\n",
       "      <th>19250</th>\n",
       "      <td>other</td>\n",
       "      <td>ให้ สภาพแวดล้อม การ จัดการ การเปลี่ยนแปลง สำหร...</td>\n",
       "    </tr>\n",
       "    <tr>\n",
       "      <th>76166</th>\n",
       "      <td>other</td>\n",
       "      <td>Msaada wa kiikolojia hutofautiana na msaada wa...</td>\n",
       "    </tr>\n",
       "    <tr>\n",
       "      <th>...</th>\n",
       "      <td>...</td>\n",
       "      <td>...</td>\n",
       "    </tr>\n",
       "    <tr>\n",
       "      <th>89959</th>\n",
       "      <td>other</td>\n",
       "      <td>Bây giờ, đây không phải là vấn đề mà những ngư...</td>\n",
       "    </tr>\n",
       "    <tr>\n",
       "      <th>56687</th>\n",
       "      <td>other</td>\n",
       "      <td>انه رجل جيد .</td>\n",
       "    </tr>\n",
       "    <tr>\n",
       "      <th>59087</th>\n",
       "      <td>other</td>\n",
       "      <td>Fortes novos abalos sísmicos abalaram a região...</td>\n",
       "    </tr>\n",
       "    <tr>\n",
       "      <th>30994</th>\n",
       "      <td>other</td>\n",
       "      <td>Và rồi sao ?</td>\n",
       "    </tr>\n",
       "    <tr>\n",
       "      <th>80146</th>\n",
       "      <td>other</td>\n",
       "      <td>لدي ابنة اصغر الان و أنه من الصعب آتي بها إلى ...</td>\n",
       "    </tr>\n",
       "  </tbody>\n",
       "</table>\n",
       "<p>15000 rows × 2 columns</p>\n",
       "</div>"
      ],
      "text/plain": [
       "      labels                                               text\n",
       "42998  other                                         ओह , हाँ .\n",
       "81708  other           Sisi sio wahalisi ama kitu ingine lakini\n",
       "32407  other  St. Catherine đã từng là một tu viện rất giàu ...\n",
       "19250  other  ให้ สภาพแวดล้อม การ จัดการ การเปลี่ยนแปลง สำหร...\n",
       "76166  other  Msaada wa kiikolojia hutofautiana na msaada wa...\n",
       "...      ...                                                ...\n",
       "89959  other  Bây giờ, đây không phải là vấn đề mà những ngư...\n",
       "56687  other                                      انه رجل جيد .\n",
       "59087  other  Fortes novos abalos sísmicos abalaram a região...\n",
       "30994  other                                       Và rồi sao ?\n",
       "80146  other  لدي ابنة اصغر الان و أنه من الصعب آتي بها إلى ...\n",
       "\n",
       "[15000 rows x 2 columns]"
      ]
     },
     "execution_count": 8,
     "metadata": {},
     "output_type": "execute_result"
    }
   ],
   "source": [
    "others_df = lang_df.loc[~en_gr_cond, [\"labels\", \"text\"]]\n",
    "others_df = others_df.sample(15000)\n",
    "others_df.labels = \"other\"\n",
    "others_df"
   ]
  },
  {
   "cell_type": "code",
   "execution_count": 9,
   "id": "6b3b00e0-ad10-471d-bf7b-6ec73579d69a",
   "metadata": {},
   "outputs": [
    {
     "data": {
      "text/html": [
       "<div>\n",
       "<style scoped>\n",
       "    .dataframe tbody tr th:only-of-type {\n",
       "        vertical-align: middle;\n",
       "    }\n",
       "\n",
       "    .dataframe tbody tr th {\n",
       "        vertical-align: top;\n",
       "    }\n",
       "\n",
       "    .dataframe thead th {\n",
       "        text-align: right;\n",
       "    }\n",
       "</style>\n",
       "<table border=\"1\" class=\"dataframe\">\n",
       "  <thead>\n",
       "    <tr style=\"text-align: right;\">\n",
       "      <th></th>\n",
       "      <th>labels</th>\n",
       "      <th>text</th>\n",
       "    </tr>\n",
       "  </thead>\n",
       "  <tbody>\n",
       "    <tr>\n",
       "      <th>0</th>\n",
       "      <td>el</td>\n",
       "      <td>Παρά τον εαυτό μου , η γνώμη μου για τη σύνεση...</td>\n",
       "    </tr>\n",
       "    <tr>\n",
       "      <th>1</th>\n",
       "      <td>en</td>\n",
       "      <td>Didnt really seem to work much.</td>\n",
       "    </tr>\n",
       "    <tr>\n",
       "      <th>2</th>\n",
       "      <td>el</td>\n",
       "      <td>Ακόμα και το να ξέρεις ότι ήταν ένα άγαλμα που...</td>\n",
       "    </tr>\n",
       "    <tr>\n",
       "      <th>3</th>\n",
       "      <td>en</td>\n",
       "      <td>Highly recommend for those who don't like bein...</td>\n",
       "    </tr>\n",
       "    <tr>\n",
       "      <th>4</th>\n",
       "      <td>el</td>\n",
       "      <td>Έχω κάνει τέσσερις ή πέντε .</td>\n",
       "    </tr>\n",
       "    <tr>\n",
       "      <th>...</th>\n",
       "      <td>...</td>\n",
       "      <td>...</td>\n",
       "    </tr>\n",
       "    <tr>\n",
       "      <th>23995</th>\n",
       "      <td>other</td>\n",
       "      <td>Bây giờ, đây không phải là vấn đề mà những ngư...</td>\n",
       "    </tr>\n",
       "    <tr>\n",
       "      <th>23996</th>\n",
       "      <td>other</td>\n",
       "      <td>انه رجل جيد .</td>\n",
       "    </tr>\n",
       "    <tr>\n",
       "      <th>23997</th>\n",
       "      <td>other</td>\n",
       "      <td>Fortes novos abalos sísmicos abalaram a região...</td>\n",
       "    </tr>\n",
       "    <tr>\n",
       "      <th>23998</th>\n",
       "      <td>other</td>\n",
       "      <td>Và rồi sao ?</td>\n",
       "    </tr>\n",
       "    <tr>\n",
       "      <th>23999</th>\n",
       "      <td>other</td>\n",
       "      <td>لدي ابنة اصغر الان و أنه من الصعب آتي بها إلى ...</td>\n",
       "    </tr>\n",
       "  </tbody>\n",
       "</table>\n",
       "<p>24000 rows × 2 columns</p>\n",
       "</div>"
      ],
      "text/plain": [
       "      labels                                               text\n",
       "0         el  Παρά τον εαυτό μου , η γνώμη μου για τη σύνεση...\n",
       "1         en                    Didnt really seem to work much.\n",
       "2         el  Ακόμα και το να ξέρεις ότι ήταν ένα άγαλμα που...\n",
       "3         en  Highly recommend for those who don't like bein...\n",
       "4         el                       Έχω κάνει τέσσερις ή πέντε .\n",
       "...      ...                                                ...\n",
       "23995  other  Bây giờ, đây không phải là vấn đề mà những ngư...\n",
       "23996  other                                      انه رجل جيد .\n",
       "23997  other  Fortes novos abalos sísmicos abalaram a região...\n",
       "23998  other                                       Và rồi sao ?\n",
       "23999  other  لدي ابنة اصغر الان و أنه من الصعب آتي بها إلى ...\n",
       "\n",
       "[24000 rows x 2 columns]"
      ]
     },
     "execution_count": 9,
     "metadata": {},
     "output_type": "execute_result"
    }
   ],
   "source": [
    "gold1_df = pd.concat([en_gr_df, others_df], axis=0, ignore_index=True, copy=False)\n",
    "gold1_df"
   ]
  },
  {
   "cell_type": "markdown",
   "id": "c2697de5-d487-4603-8708-cc502034a3dd",
   "metadata": {},
   "source": [
    "### Greek-Greeklish identification dataset"
   ]
  },
  {
   "cell_type": "code",
   "execution_count": 10,
   "id": "fbf1b45a-9a2f-419e-b900-4c6e873349cc",
   "metadata": {},
   "outputs": [],
   "source": [
    "head_url = \"https://forum.warmane.com\"\n",
    "warmane_url = \"https://forum.warmane.com/forumdisplay.php?f=20\""
   ]
  },
  {
   "cell_type": "code",
   "execution_count": 11,
   "id": "03a32104-f828-44e2-b9e6-fb0a1d5bd71c",
   "metadata": {
    "tags": []
   },
   "outputs": [
    {
     "name": "stdout",
     "output_type": "stream",
     "text": [
      "Processing page 1 of 8...\n"
     ]
    },
    {
     "name": "stderr",
     "output_type": "stream",
     "text": [
      "100%|██████████████████████████████████████████████████████████████████████████████████| 20/20 [00:04<00:00,  4.30it/s]\n"
     ]
    },
    {
     "name": "stdout",
     "output_type": "stream",
     "text": [
      "Processing page 2 of 8...\n"
     ]
    },
    {
     "name": "stderr",
     "output_type": "stream",
     "text": [
      "100%|██████████████████████████████████████████████████████████████████████████████████| 20/20 [00:03<00:00,  5.69it/s]\n"
     ]
    },
    {
     "name": "stdout",
     "output_type": "stream",
     "text": [
      "Processing page 3 of 8...\n"
     ]
    },
    {
     "name": "stderr",
     "output_type": "stream",
     "text": [
      "100%|██████████████████████████████████████████████████████████████████████████████████| 20/20 [00:03<00:00,  5.84it/s]\n"
     ]
    },
    {
     "name": "stdout",
     "output_type": "stream",
     "text": [
      "Processing page 4 of 8...\n"
     ]
    },
    {
     "name": "stderr",
     "output_type": "stream",
     "text": [
      "100%|██████████████████████████████████████████████████████████████████████████████████| 20/20 [00:03<00:00,  5.09it/s]\n"
     ]
    },
    {
     "name": "stdout",
     "output_type": "stream",
     "text": [
      "Processing page 5 of 8...\n"
     ]
    },
    {
     "name": "stderr",
     "output_type": "stream",
     "text": [
      "100%|██████████████████████████████████████████████████████████████████████████████████| 20/20 [00:03<00:00,  5.32it/s]\n"
     ]
    },
    {
     "name": "stdout",
     "output_type": "stream",
     "text": [
      "Processing page 6 of 8...\n"
     ]
    },
    {
     "name": "stderr",
     "output_type": "stream",
     "text": [
      "100%|██████████████████████████████████████████████████████████████████████████████████| 20/20 [00:03<00:00,  5.57it/s]\n"
     ]
    },
    {
     "name": "stdout",
     "output_type": "stream",
     "text": [
      "Processing page 7 of 8...\n"
     ]
    },
    {
     "name": "stderr",
     "output_type": "stream",
     "text": [
      " 65%|█████████████████████████████████████████████████████▎                            | 13/20 [00:02<00:01,  5.33it/s]"
     ]
    },
    {
     "name": "stdout",
     "output_type": "stream",
     "text": [
      "ERROR: Failed to get information on post  https://forum.warmane.com/showthread.php?t=272585\n"
     ]
    },
    {
     "name": "stderr",
     "output_type": "stream",
     "text": [
      "100%|██████████████████████████████████████████████████████████████████████████████████| 20/20 [00:03<00:00,  5.55it/s]\n"
     ]
    },
    {
     "name": "stdout",
     "output_type": "stream",
     "text": [
      "Processing page 8 of 8...\n"
     ]
    },
    {
     "name": "stderr",
     "output_type": "stream",
     "text": [
      " 78%|█████████████████████████████████████████████████████████████████▎                  | 7/9 [00:01<00:00,  5.57it/s]"
     ]
    },
    {
     "name": "stdout",
     "output_type": "stream",
     "text": [
      "ERROR: Failed to get information on post  https://forum.warmane.com/showthread.php?t=278731\n"
     ]
    },
    {
     "name": "stderr",
     "output_type": "stream",
     "text": [
      "100%|████████████████████████████████████████████████████████████████████████████████████| 9/9 [00:01<00:00,  5.87it/s]\n"
     ]
    }
   ],
   "source": [
    "from src.crawling import fetch_soup\n",
    "from tasks.warmane import parse_warmane_thread\n",
    "from tqdm import tqdm\n",
    "\n",
    "\n",
    "threads = []\n",
    "\n",
    "for page in range(1, 9):\n",
    "    url = warmane_url + f\"&page={page}\"\n",
    "    soup = fetch_soup(url)\n",
    "\n",
    "    print(f\"Processing page {page} of 8...\")\n",
    "    thread_tags = soup.find_all(\"li\", {\"class\": \"threadbit\"})\n",
    "    for thread_tag in tqdm(thread_tags):\n",
    "        thread = parse_warmane_thread(head_url, thread_tag)\n",
    "        threads.append(thread)"
   ]
  },
  {
   "cell_type": "code",
   "execution_count": 12,
   "id": "e0d9a523-1311-4960-ab66-1f9b98c03729",
   "metadata": {
    "tags": []
   },
   "outputs": [
    {
     "data": {
      "text/plain": [
       "415"
      ]
     },
     "execution_count": 12,
     "metadata": {},
     "output_type": "execute_result"
    }
   ],
   "source": [
    "import itertools\n",
    "\n",
    "# flatten nested lists \n",
    "posts = set(itertools.chain.from_iterable([thread.posts for thread in threads]))\n",
    "len(posts)"
   ]
  },
  {
   "cell_type": "code",
   "execution_count": 13,
   "id": "2425baf7-a694-4a49-98c0-11d565c2cb98",
   "metadata": {
    "tags": []
   },
   "outputs": [
    {
     "data": {
      "text/html": [
       "<div>\n",
       "<style scoped>\n",
       "    .dataframe tbody tr th:only-of-type {\n",
       "        vertical-align: middle;\n",
       "    }\n",
       "\n",
       "    .dataframe tbody tr th {\n",
       "        vertical-align: top;\n",
       "    }\n",
       "\n",
       "    .dataframe thead th {\n",
       "        text-align: right;\n",
       "    }\n",
       "</style>\n",
       "<table border=\"1\" class=\"dataframe\">\n",
       "  <thead>\n",
       "    <tr style=\"text-align: right;\">\n",
       "      <th></th>\n",
       "      <th>thread_id</th>\n",
       "      <th>author</th>\n",
       "      <th>contents</th>\n",
       "      <th>date</th>\n",
       "      <th>reply_to</th>\n",
       "    </tr>\n",
       "    <tr>\n",
       "      <th>id</th>\n",
       "      <th></th>\n",
       "      <th></th>\n",
       "      <th></th>\n",
       "      <th></th>\n",
       "      <th></th>\n",
       "    </tr>\n",
       "  </thead>\n",
       "  <tbody>\n",
       "    <tr>\n",
       "      <th>2926596</th>\n",
       "      <td>384475</td>\n",
       "      <td>Ripsin</td>\n",
       "      <td>Kalhspera paides,\\n\\r\\nEimai arketo kairo ston...</td>\n",
       "      <td>2018-05-22</td>\n",
       "      <td>-1</td>\n",
       "    </tr>\n",
       "    <tr>\n",
       "      <th>2473988</th>\n",
       "      <td>300013</td>\n",
       "      <td>v4gflo</td>\n",
       "      <td>geia sas.psaxnw ellhniko guild ston Deathwing ...</td>\n",
       "      <td>2015-06-17</td>\n",
       "      <td>-1</td>\n",
       "    </tr>\n",
       "    <tr>\n",
       "      <th>2420747</th>\n",
       "      <td>290921</td>\n",
       "      <td>AlexPan</td>\n",
       "      <td>Καλησπέρα παιδιά, το πρόβλημα είναι το εξής. \\...</td>\n",
       "      <td>2015-03-24</td>\n",
       "      <td>-1</td>\n",
       "    </tr>\n",
       "    <tr>\n",
       "      <th>2981903</th>\n",
       "      <td>399822</td>\n",
       "      <td>xAchillesGate4x</td>\n",
       "      <td>Καλησπέρα παίδες. Ψάχνω Ελληνικό active raidin...</td>\n",
       "      <td>2019-03-03</td>\n",
       "      <td>-1</td>\n",
       "    </tr>\n",
       "    <tr>\n",
       "      <th>2879517</th>\n",
       "      <td>371804</td>\n",
       "      <td>Csdas</td>\n",
       "      <td>Opoios gnwrizei kati as mou kanei /w Dremoria ...</td>\n",
       "      <td>2017-11-29</td>\n",
       "      <td>-1</td>\n",
       "    </tr>\n",
       "    <tr>\n",
       "      <th>...</th>\n",
       "      <td>...</td>\n",
       "      <td>...</td>\n",
       "      <td>...</td>\n",
       "      <td>...</td>\n",
       "      <td>...</td>\n",
       "    </tr>\n",
       "    <tr>\n",
       "      <th>2877428</th>\n",
       "      <td>353812</td>\n",
       "      <td>Shiverbro</td>\n",
       "      <td>kalos private aksizei na ksekiniseis paidia?</td>\n",
       "      <td>2017-11-21</td>\n",
       "      <td>2875915</td>\n",
       "    </tr>\n",
       "    <tr>\n",
       "      <th>3069941</th>\n",
       "      <td>423611</td>\n",
       "      <td>crystallenia898</td>\n",
       "      <td>Ε μεις αυξανόμαστε και θα αρχίσουμε να στήνουμ...</td>\n",
       "      <td>2020-07-26</td>\n",
       "      <td>3068345</td>\n",
       "    </tr>\n",
       "    <tr>\n",
       "      <th>2801654</th>\n",
       "      <td>350071</td>\n",
       "      <td>Draculation</td>\n",
       "      <td>Bump! ICC25 6/12</td>\n",
       "      <td>2017-05-07</td>\n",
       "      <td>2795443</td>\n",
       "    </tr>\n",
       "    <tr>\n",
       "      <th>2873339</th>\n",
       "      <td>370241</td>\n",
       "      <td>Ripsin</td>\n",
       "      <td>Kalhspera tha ithela na rwthsw an kapoios gnwr...</td>\n",
       "      <td>2017-11-07</td>\n",
       "      <td>-1</td>\n",
       "    </tr>\n",
       "    <tr>\n",
       "      <th>2410495</th>\n",
       "      <td>289030</td>\n",
       "      <td>boolouk</td>\n",
       "      <td>Εμπειρια εχω, αλλα δεν εχω χρονο...αυτο ειναι ...</td>\n",
       "      <td>2015-03-13</td>\n",
       "      <td>2409274</td>\n",
       "    </tr>\n",
       "  </tbody>\n",
       "</table>\n",
       "<p>415 rows × 5 columns</p>\n",
       "</div>"
      ],
      "text/plain": [
       "         thread_id           author  \\\n",
       "id                                    \n",
       "2926596     384475           Ripsin   \n",
       "2473988     300013           v4gflo   \n",
       "2420747     290921          AlexPan   \n",
       "2981903     399822  xAchillesGate4x   \n",
       "2879517     371804            Csdas   \n",
       "...            ...              ...   \n",
       "2877428     353812        Shiverbro   \n",
       "3069941     423611  crystallenia898   \n",
       "2801654     350071      Draculation   \n",
       "2873339     370241           Ripsin   \n",
       "2410495     289030          boolouk   \n",
       "\n",
       "                                                  contents       date  \\\n",
       "id                                                                      \n",
       "2926596  Kalhspera paides,\\n\\r\\nEimai arketo kairo ston... 2018-05-22   \n",
       "2473988  geia sas.psaxnw ellhniko guild ston Deathwing ... 2015-06-17   \n",
       "2420747  Καλησπέρα παιδιά, το πρόβλημα είναι το εξής. \\... 2015-03-24   \n",
       "2981903  Καλησπέρα παίδες. Ψάχνω Ελληνικό active raidin... 2019-03-03   \n",
       "2879517  Opoios gnwrizei kati as mou kanei /w Dremoria ... 2017-11-29   \n",
       "...                                                    ...        ...   \n",
       "2877428       kalos private aksizei na ksekiniseis paidia? 2017-11-21   \n",
       "3069941  Ε μεις αυξανόμαστε και θα αρχίσουμε να στήνουμ... 2020-07-26   \n",
       "2801654                                   Bump! ICC25 6/12 2017-05-07   \n",
       "2873339  Kalhspera tha ithela na rwthsw an kapoios gnwr... 2017-11-07   \n",
       "2410495  Εμπειρια εχω, αλλα δεν εχω χρονο...αυτο ειναι ... 2015-03-13   \n",
       "\n",
       "         reply_to  \n",
       "id                 \n",
       "2926596        -1  \n",
       "2473988        -1  \n",
       "2420747        -1  \n",
       "2981903        -1  \n",
       "2879517        -1  \n",
       "...           ...  \n",
       "2877428   2875915  \n",
       "3069941   3068345  \n",
       "2801654   2795443  \n",
       "2873339        -1  \n",
       "2410495   2409274  \n",
       "\n",
       "[415 rows x 5 columns]"
      ]
     },
     "execution_count": 13,
     "metadata": {},
     "output_type": "execute_result"
    }
   ],
   "source": [
    "import pandas as pd\n",
    "\n",
    "warmane_df = pd.DataFrame.from_records([post.__dict__ for post in posts], index=\"id\")\n",
    "warmane_df.reply_to = warmane_df.reply_to.fillna(-1).astype(int)\n",
    "warmane_df"
   ]
  },
  {
   "cell_type": "code",
   "execution_count": 14,
   "id": "dbffc615-c381-41d5-b39f-0d25f77a63e2",
   "metadata": {
    "tags": []
   },
   "outputs": [
    {
     "data": {
      "text/html": [
       "<div>\n",
       "<style scoped>\n",
       "    .dataframe tbody tr th:only-of-type {\n",
       "        vertical-align: middle;\n",
       "    }\n",
       "\n",
       "    .dataframe tbody tr th {\n",
       "        vertical-align: top;\n",
       "    }\n",
       "\n",
       "    .dataframe thead th {\n",
       "        text-align: right;\n",
       "    }\n",
       "</style>\n",
       "<table border=\"1\" class=\"dataframe\">\n",
       "  <thead>\n",
       "    <tr style=\"text-align: right;\">\n",
       "      <th></th>\n",
       "      <th>thread_id</th>\n",
       "      <th>author</th>\n",
       "      <th>contents</th>\n",
       "      <th>date</th>\n",
       "      <th>reply_to</th>\n",
       "    </tr>\n",
       "    <tr>\n",
       "      <th>id</th>\n",
       "      <th></th>\n",
       "      <th></th>\n",
       "      <th></th>\n",
       "      <th></th>\n",
       "      <th></th>\n",
       "    </tr>\n",
       "  </thead>\n",
       "  <tbody>\n",
       "    <tr>\n",
       "      <th>3082464</th>\n",
       "      <td>427259</td>\n",
       "      <td>malakas17</td>\n",
       "      <td></td>\n",
       "      <td>2020-10-20</td>\n",
       "      <td>3081822</td>\n",
       "    </tr>\n",
       "    <tr>\n",
       "      <th>3113236</th>\n",
       "      <td>427259</td>\n",
       "      <td>malakas17</td>\n",
       "      <td></td>\n",
       "      <td>2021-05-12</td>\n",
       "      <td>3113009</td>\n",
       "    </tr>\n",
       "    <tr>\n",
       "      <th>3099161</th>\n",
       "      <td>431660</td>\n",
       "      <td>malakas17</td>\n",
       "      <td></td>\n",
       "      <td>2021-02-10</td>\n",
       "      <td>3096432</td>\n",
       "    </tr>\n",
       "    <tr>\n",
       "      <th>3113819</th>\n",
       "      <td>427259</td>\n",
       "      <td>malakas17</td>\n",
       "      <td></td>\n",
       "      <td>2021-05-16</td>\n",
       "      <td>3113236</td>\n",
       "    </tr>\n",
       "    <tr>\n",
       "      <th>3099593</th>\n",
       "      <td>427259</td>\n",
       "      <td>boonick</td>\n",
       "      <td></td>\n",
       "      <td>2021-02-14</td>\n",
       "      <td>3093400</td>\n",
       "    </tr>\n",
       "    <tr>\n",
       "      <th>3081820</th>\n",
       "      <td>427259</td>\n",
       "      <td>malakas17</td>\n",
       "      <td></td>\n",
       "      <td>2020-10-16</td>\n",
       "      <td>3080427</td>\n",
       "    </tr>\n",
       "    <tr>\n",
       "      <th>3081822</th>\n",
       "      <td>427259</td>\n",
       "      <td>malakas17</td>\n",
       "      <td></td>\n",
       "      <td>2020-10-16</td>\n",
       "      <td>3081820</td>\n",
       "    </tr>\n",
       "  </tbody>\n",
       "</table>\n",
       "</div>"
      ],
      "text/plain": [
       "         thread_id     author contents       date  reply_to\n",
       "id                                                         \n",
       "3082464     427259  malakas17          2020-10-20   3081822\n",
       "3113236     427259  malakas17          2021-05-12   3113009\n",
       "3099161     431660  malakas17          2021-02-10   3096432\n",
       "3113819     427259  malakas17          2021-05-16   3113236\n",
       "3099593     427259    boonick          2021-02-14   3093400\n",
       "3081820     427259  malakas17          2020-10-16   3080427\n",
       "3081822     427259  malakas17          2020-10-16   3081820"
      ]
     },
     "execution_count": 14,
     "metadata": {},
     "output_type": "execute_result"
    }
   ],
   "source": [
    "empty_contents = warmane_df.contents.apply(lambda x: x.isspace() | len(x)==0)\n",
    "warmane_df[empty_contents]"
   ]
  },
  {
   "cell_type": "code",
   "execution_count": 15,
   "id": "29103c28-5579-41e8-b33e-a9fa7a49428d",
   "metadata": {
    "tags": []
   },
   "outputs": [],
   "source": [
    "warmane_df = warmane_df[~empty_contents]"
   ]
  },
  {
   "cell_type": "code",
   "execution_count": 16,
   "id": "923224eb-9f12-44c7-b463-8fb262165bbb",
   "metadata": {
    "tags": []
   },
   "outputs": [],
   "source": [
    "from src.crawling import ChromeDriverManager, jupyter_options\n",
    "\n",
    "\n",
    "ChromeDriverManager.set_options(jupyter_options())"
   ]
  },
  {
   "cell_type": "code",
   "execution_count": 17,
   "id": "a77b074e-1271-421b-aabb-141681485e82",
   "metadata": {},
   "outputs": [
    {
     "name": "stderr",
     "output_type": "stream",
     "text": [
      "  0%|                                                                                            | 0/5 [00:00<?, ?it/s]"
     ]
    },
    {
     "name": "stdout",
     "output_type": "stream",
     "text": [
      "Creating new driver...\n",
      "New driver online.\n"
     ]
    },
    {
     "name": "stderr",
     "output_type": "stream",
     "text": [
      "100%|████████████████████████████████████████████████████████████████████████████████████| 5/5 [01:25<00:00, 17.14s/it]\n"
     ]
    }
   ],
   "source": [
    "from tasks.youtube import extract_search_results, extract_comments, scrape_youtube\n",
    "\n",
    "\n",
    "greek_yt_urls = [\"https://www.youtube.com/watch?v=4Y2gxkqbsbA\", \n",
    "       \"https://www.youtube.com/watch?v=31LcJ9gqQvA\",\n",
    "       \"https://www.youtube.com/watch?v=1cZXAQ1JEJo\",\n",
    "       \"https://www.youtube.com/watch?v=x7lnS6jMS64\",\n",
    "       \"https://www.youtube.com/watch?v=ImilczGN-00\"]\n",
    "scrape_results = []\n",
    "\n",
    "for url in tqdm(greek_yt_urls):\n",
    "    scrape_results.append(scrape_youtube(ChromeDriverManager.get(), url, max_scrolls=10, verbose=False))"
   ]
  },
  {
   "cell_type": "code",
   "execution_count": 18,
   "id": "7f61a6d4-3a7f-4f66-b990-fe070c7b1527",
   "metadata": {},
   "outputs": [],
   "source": [
    "from tasks.youtube import extract_comments\n",
    "\n",
    "\n",
    "all_comments = []\n",
    "for result in scrape_results:\n",
    "    comments, _ = extract_comments(result)\n",
    "    all_comments += comments\n",
    "\n",
    "all_comments = pd.Series(all_comments)"
   ]
  },
  {
   "cell_type": "code",
   "execution_count": 19,
   "id": "7c965cdf-969f-4385-939f-21a7c20b4e7e",
   "metadata": {},
   "outputs": [
    {
     "data": {
      "text/plain": [
       "2926596    Kalhspera paides,\\n\\r\\nEimai arketo kairo ston...\n",
       "2473988    geia sas.psaxnw ellhniko guild ston Deathwing ...\n",
       "2420747    Καλησπέρα παιδιά, το πρόβλημα είναι το εξής. \\...\n",
       "2981903    Καλησπέρα παίδες. Ψάχνω Ελληνικό active raidin...\n",
       "2879517    Opoios gnwrizei kati as mou kanei /w Dremoria ...\n",
       "                                 ...                        \n",
       "772                                        Gianni παίξε Pubg\n",
       "773                                                    Πρώτη\n",
       "774                                                    First\n",
       "775                                             First of all\n",
       "776                                                   Πρώτος\n",
       "Length: 1185, dtype: object"
      ]
     },
     "execution_count": 19,
     "metadata": {},
     "output_type": "execute_result"
    }
   ],
   "source": [
    "greeklish_series = pd.concat([warmane_df.contents, all_comments])\n",
    "greeklish_series"
   ]
  },
  {
   "cell_type": "code",
   "execution_count": 20,
   "id": "bcdd8c12-f28c-4ddb-83dc-0eb90a839d04",
   "metadata": {},
   "outputs": [
    {
     "data": {
      "text/plain": [
       "2926596    Kalhspera paides,\\n\\r\\nEimai arketo kairo ston...\n",
       "2473988    geia sas.psaxnw ellhniko guild ston Deathwing ...\n",
       "2420747    Καλησπέρα παιδιά, το πρόβλημα είναι το εξής. \\...\n",
       "2981903    Καλησπέρα παίδες. Ψάχνω Ελληνικό active raidin...\n",
       "2879517    Opoios gnwrizei kati as mou kanei /w Dremoria ...\n",
       "                                 ...                        \n",
       "770                                               Πρώτο like\n",
       "771                                                   Πρώτος\n",
       "772                                        Gianni παίξε Pubg\n",
       "773                                                    Πρώτη\n",
       "776                                                   Πρώτος\n",
       "Length: 1165, dtype: object"
      ]
     },
     "execution_count": 20,
     "metadata": {},
     "output_type": "execute_result"
    }
   ],
   "source": [
    "conditions = (greeklish_series.apply(lambda x: len(x) != 0)) & \\\n",
    "                (greeklish_series.apply(lambda x: \"RRR\" not in x)) & \\\n",
    "                (greeklish_series.apply(lambda x: \"PPP\" not in x)) & \\\n",
    "                (greeklish_series.apply(lambda x: \"First\" not in x))\n",
    "cleared_greeklish_series = greeklish_series[conditions]\n",
    "cleared_greeklish_series"
   ]
  },
  {
   "cell_type": "code",
   "execution_count": 21,
   "id": "3c6bc888-adf2-4c94-bddf-4af870e9a0f6",
   "metadata": {
    "tags": []
   },
   "outputs": [],
   "source": [
    "regex_model = RegexClassifier(include_greeklish=False)\n",
    "preds = regex_model.predict(cleared_greeklish_series)"
   ]
  },
  {
   "cell_type": "code",
   "execution_count": 22,
   "id": "e1e87acd-db99-4c72-b226-207e8d84e1f0",
   "metadata": {
    "tags": []
   },
   "outputs": [
    {
     "data": {
      "text/plain": [
       "Series([], dtype: object)"
      ]
     },
     "execution_count": 22,
     "metadata": {},
     "output_type": "execute_result"
    }
   ],
   "source": [
    "cleared_greeklish_series[preds==\"greeklish\"]"
   ]
  },
  {
   "cell_type": "code",
   "execution_count": 23,
   "id": "46995910-7936-46c4-ac34-611a8fdaa307",
   "metadata": {
    "tags": []
   },
   "outputs": [
    {
     "data": {
      "text/plain": [
       "2926596    Kalhspera paides,\\n\\r\\nEimai arketo kairo ston...\n",
       "2473988    geia sas.psaxnw ellhniko guild ston Deathwing ...\n",
       "2879517    Opoios gnwrizei kati as mou kanei /w Dremoria ...\n",
       "2959390               Bubblethesap Icecrown wotlk horde belf\n",
       "2947119    den se vrisko kane add evvi  .\\nmou leei den u...\n",
       "                                 ...                        \n",
       "756                                         Epitelous amogus\n",
       "761        Ante Pali me ta atoma pou einai first.... Mhn ...\n",
       "763                                                      Lol\n",
       "764                                             na xanapexis\n",
       "769                                                     Hafa\n",
       "Length: 461, dtype: object"
      ]
     },
     "execution_count": 23,
     "metadata": {},
     "output_type": "execute_result"
    }
   ],
   "source": [
    "cleared_greeklish_series[preds==\"en\"]"
   ]
  },
  {
   "cell_type": "code",
   "execution_count": 24,
   "id": "17442e3b-93c7-4a53-82c2-bd26c63b0f16",
   "metadata": {
    "tags": []
   },
   "outputs": [
    {
     "data": {
      "text/plain": [
       "2420747    Καλησπέρα παιδιά, το πρόβλημα είναι το εξής. \\...\n",
       "2981903    Καλησπέρα παίδες. Ψάχνω Ελληνικό active raidin...\n",
       "2959391    Καλησπερα θα πας στις ιδιότητες (properties) σ...\n",
       "2719776    Originally Posted by celphecil\\n\\nΚαλησπέρα Σω...\n",
       "2971700    Ελληνικο guild , ψαχνουμε ατομα για runs ICC10...\n",
       "                                 ...                        \n",
       "770                                               Πρώτο like\n",
       "771                                                   Πρώτος\n",
       "772                                        Gianni παίξε Pubg\n",
       "773                                                    Πρώτη\n",
       "776                                                   Πρώτος\n",
       "Length: 697, dtype: object"
      ]
     },
     "execution_count": 24,
     "metadata": {},
     "output_type": "execute_result"
    }
   ],
   "source": [
    "cleared_greeklish_series[preds==\"el\"]"
   ]
  },
  {
   "cell_type": "code",
   "execution_count": 25,
   "id": "bba2d5fd-9fb7-4fd7-b8f5-a9944d337c07",
   "metadata": {
    "tags": []
   },
   "outputs": [
    {
     "data": {
      "text/html": [
       "<div>\n",
       "<style scoped>\n",
       "    .dataframe tbody tr th:only-of-type {\n",
       "        vertical-align: middle;\n",
       "    }\n",
       "\n",
       "    .dataframe tbody tr th {\n",
       "        vertical-align: top;\n",
       "    }\n",
       "\n",
       "    .dataframe thead th {\n",
       "        text-align: right;\n",
       "    }\n",
       "</style>\n",
       "<table border=\"1\" class=\"dataframe\">\n",
       "  <thead>\n",
       "    <tr style=\"text-align: right;\">\n",
       "      <th></th>\n",
       "      <th>labels</th>\n",
       "      <th>text</th>\n",
       "    </tr>\n",
       "  </thead>\n",
       "  <tbody>\n",
       "    <tr>\n",
       "      <th>2926596</th>\n",
       "      <td>greeklish</td>\n",
       "      <td>Kalhspera paides,\\n\\r\\nEimai arketo kairo ston...</td>\n",
       "    </tr>\n",
       "    <tr>\n",
       "      <th>2473988</th>\n",
       "      <td>greeklish</td>\n",
       "      <td>geia sas.psaxnw ellhniko guild ston Deathwing ...</td>\n",
       "    </tr>\n",
       "    <tr>\n",
       "      <th>2420747</th>\n",
       "      <td>el</td>\n",
       "      <td>Καλησπέρα παιδιά, το πρόβλημα είναι το εξής. \\...</td>\n",
       "    </tr>\n",
       "    <tr>\n",
       "      <th>2981903</th>\n",
       "      <td>el</td>\n",
       "      <td>Καλησπέρα παίδες. Ψάχνω Ελληνικό active raidin...</td>\n",
       "    </tr>\n",
       "    <tr>\n",
       "      <th>2879517</th>\n",
       "      <td>greeklish</td>\n",
       "      <td>Opoios gnwrizei kati as mou kanei /w Dremoria ...</td>\n",
       "    </tr>\n",
       "    <tr>\n",
       "      <th>...</th>\n",
       "      <td>...</td>\n",
       "      <td>...</td>\n",
       "    </tr>\n",
       "    <tr>\n",
       "      <th>770</th>\n",
       "      <td>el</td>\n",
       "      <td>Πρώτο like</td>\n",
       "    </tr>\n",
       "    <tr>\n",
       "      <th>771</th>\n",
       "      <td>el</td>\n",
       "      <td>Πρώτος</td>\n",
       "    </tr>\n",
       "    <tr>\n",
       "      <th>772</th>\n",
       "      <td>el</td>\n",
       "      <td>Gianni παίξε Pubg</td>\n",
       "    </tr>\n",
       "    <tr>\n",
       "      <th>773</th>\n",
       "      <td>el</td>\n",
       "      <td>Πρώτη</td>\n",
       "    </tr>\n",
       "    <tr>\n",
       "      <th>776</th>\n",
       "      <td>el</td>\n",
       "      <td>Πρώτος</td>\n",
       "    </tr>\n",
       "  </tbody>\n",
       "</table>\n",
       "<p>1165 rows × 2 columns</p>\n",
       "</div>"
      ],
      "text/plain": [
       "            labels                                               text\n",
       "2926596  greeklish  Kalhspera paides,\\n\\r\\nEimai arketo kairo ston...\n",
       "2473988  greeklish  geia sas.psaxnw ellhniko guild ston Deathwing ...\n",
       "2420747         el  Καλησπέρα παιδιά, το πρόβλημα είναι το εξής. \\...\n",
       "2981903         el  Καλησπέρα παίδες. Ψάχνω Ελληνικό active raidin...\n",
       "2879517  greeklish  Opoios gnwrizei kati as mou kanei /w Dremoria ...\n",
       "...            ...                                                ...\n",
       "770             el                                         Πρώτο like\n",
       "771             el                                             Πρώτος\n",
       "772             el                                  Gianni παίξε Pubg\n",
       "773             el                                              Πρώτη\n",
       "776             el                                             Πρώτος\n",
       "\n",
       "[1165 rows x 2 columns]"
      ]
     },
     "execution_count": 25,
     "metadata": {},
     "output_type": "execute_result"
    }
   ],
   "source": [
    "labels = np.where(preds==\"en\", \"greeklish\", \"el\")\n",
    "gold2_df = pd.DataFrame({\"labels\": labels, \"text\": cleared_greeklish_series})\n",
    "gold2_df"
   ]
  },
  {
   "cell_type": "code",
   "execution_count": 26,
   "id": "ff7306dd-67e1-4bf6-be4b-6c8974964b61",
   "metadata": {},
   "outputs": [
    {
     "data": {
      "text/html": [
       "<div>\n",
       "<style scoped>\n",
       "    .dataframe tbody tr th:only-of-type {\n",
       "        vertical-align: middle;\n",
       "    }\n",
       "\n",
       "    .dataframe tbody tr th {\n",
       "        vertical-align: top;\n",
       "    }\n",
       "\n",
       "    .dataframe thead th {\n",
       "        text-align: right;\n",
       "    }\n",
       "</style>\n",
       "<table border=\"1\" class=\"dataframe\">\n",
       "  <thead>\n",
       "    <tr style=\"text-align: right;\">\n",
       "      <th></th>\n",
       "      <th>labels</th>\n",
       "      <th>text</th>\n",
       "    </tr>\n",
       "  </thead>\n",
       "  <tbody>\n",
       "    <tr>\n",
       "      <th>0</th>\n",
       "      <td>el</td>\n",
       "      <td>Παρά τον εαυτό μου , η γνώμη μου για τη σύνεση...</td>\n",
       "    </tr>\n",
       "    <tr>\n",
       "      <th>1</th>\n",
       "      <td>en</td>\n",
       "      <td>Didnt really seem to work much.</td>\n",
       "    </tr>\n",
       "    <tr>\n",
       "      <th>2</th>\n",
       "      <td>el</td>\n",
       "      <td>Ακόμα και το να ξέρεις ότι ήταν ένα άγαλμα που...</td>\n",
       "    </tr>\n",
       "    <tr>\n",
       "      <th>3</th>\n",
       "      <td>en</td>\n",
       "      <td>Highly recommend for those who don't like bein...</td>\n",
       "    </tr>\n",
       "    <tr>\n",
       "      <th>4</th>\n",
       "      <td>el</td>\n",
       "      <td>Έχω κάνει τέσσερις ή πέντε .</td>\n",
       "    </tr>\n",
       "    <tr>\n",
       "      <th>...</th>\n",
       "      <td>...</td>\n",
       "      <td>...</td>\n",
       "    </tr>\n",
       "    <tr>\n",
       "      <th>770</th>\n",
       "      <td>el</td>\n",
       "      <td>Πρώτο like</td>\n",
       "    </tr>\n",
       "    <tr>\n",
       "      <th>771</th>\n",
       "      <td>el</td>\n",
       "      <td>Πρώτος</td>\n",
       "    </tr>\n",
       "    <tr>\n",
       "      <th>772</th>\n",
       "      <td>el</td>\n",
       "      <td>Gianni παίξε Pubg</td>\n",
       "    </tr>\n",
       "    <tr>\n",
       "      <th>773</th>\n",
       "      <td>el</td>\n",
       "      <td>Πρώτη</td>\n",
       "    </tr>\n",
       "    <tr>\n",
       "      <th>776</th>\n",
       "      <td>el</td>\n",
       "      <td>Πρώτος</td>\n",
       "    </tr>\n",
       "  </tbody>\n",
       "</table>\n",
       "<p>25165 rows × 2 columns</p>\n",
       "</div>"
      ],
      "text/plain": [
       "    labels                                               text\n",
       "0       el  Παρά τον εαυτό μου , η γνώμη μου για τη σύνεση...\n",
       "1       en                    Didnt really seem to work much.\n",
       "2       el  Ακόμα και το να ξέρεις ότι ήταν ένα άγαλμα που...\n",
       "3       en  Highly recommend for those who don't like bein...\n",
       "4       el                       Έχω κάνει τέσσερις ή πέντε .\n",
       "..     ...                                                ...\n",
       "770     el                                         Πρώτο like\n",
       "771     el                                             Πρώτος\n",
       "772     el                                  Gianni παίξε Pubg\n",
       "773     el                                              Πρώτη\n",
       "776     el                                             Πρώτος\n",
       "\n",
       "[25165 rows x 2 columns]"
      ]
     },
     "execution_count": 26,
     "metadata": {},
     "output_type": "execute_result"
    }
   ],
   "source": [
    "gold_df = pd.concat([gold1_df, gold2_df])\n",
    "gold_df"
   ]
  },
  {
   "cell_type": "code",
   "execution_count": 27,
   "id": "be21cbf4-0e05-490c-b6a2-3c68b425c89b",
   "metadata": {},
   "outputs": [],
   "source": [
    "import os\n",
    "\n",
    "\n",
    "OUTPUT_DIR = \"output\"\n",
    "\n",
    "def csv_output(df: pd.DataFrame, filename: str) -> None:\n",
    "    file = os.path.join(OUTPUT_DIR, filename)\n",
    "    df.to_csv(file, encoding = 'utf8')\n",
    "    print(f\"File saved successfully as {file}\")"
   ]
  },
  {
   "cell_type": "code",
   "execution_count": 28,
   "id": "95c8b92b-4bde-4c06-b92f-86d31c24e1a0",
   "metadata": {
    "tags": []
   },
   "outputs": [
    {
     "name": "stdout",
     "output_type": "stream",
     "text": [
      "File saved successfully as output\\gold.csv\n"
     ]
    }
   ],
   "source": [
    "csv_output(gold_df, \"gold.csv\")"
   ]
  },
  {
   "cell_type": "markdown",
   "id": "9345fd42-2426-4b4d-b7f6-e4e17fecb622",
   "metadata": {},
   "source": [
    "## Youtube Crawling"
   ]
  },
  {
   "cell_type": "code",
   "execution_count": 29,
   "id": "fc364ba5-43ef-41dc-b47e-7b593ff4adcd",
   "metadata": {
    "tags": []
   },
   "outputs": [
    {
     "name": "stdout",
     "output_type": "stream",
     "text": [
      "Scrolling (0 out of max 5)...\n",
      "Scrolling (1 out of max 5)...\n",
      "Scrolling (2 out of max 5)...\n",
      "Scrolling (3 out of max 5)...\n",
      "Scrolling (4 out of max 5)...\n",
      "Scrolling (5 out of max 5)...\n"
     ]
    }
   ],
   "source": [
    "from tasks.youtube import extract_search_results, extract_comments\n",
    "\n",
    "\n",
    "# \"greek songs\" search in Greek\n",
    "song_search_url = \"https://www.youtube.com/results?search_query=%CE%B5%CE%BB%CE%BB%CE%B7%CE%BD%CE%B9%CE%BA%CE%B1+%CF%84%CF%81%CE%B1%CE%B3%CE%BF%CF%85%CE%B4%CE%B9%CE%B1\"\n",
    "search_soup = scrape_youtube(ChromeDriverManager.get(), song_search_url, max_scrolls=5, verbose=True)\n",
    "results_search_song = extract_search_results(search_soup)"
   ]
  },
  {
   "cell_type": "code",
   "execution_count": 30,
   "id": "785dc0b6-77a8-4e32-b4f7-1cba15f70db5",
   "metadata": {},
   "outputs": [
    {
     "name": "stdout",
     "output_type": "stream",
     "text": [
      "Scrolling (0 out of max 5)...\n",
      "Scrolling (1 out of max 5)...\n",
      "Scrolling (2 out of max 5)...\n",
      "Scrolling (3 out of max 5)...\n",
      "Scrolling (4 out of max 5)...\n",
      "Scrolling (5 out of max 5)...\n"
     ]
    }
   ],
   "source": [
    "gaming_search_url = \"https://www.youtube.com/results?search_query=greek+fortnite\"\n",
    "gaming_soup = scrape_youtube(ChromeDriverManager.get(), gaming_search_url, max_scrolls=5, verbose=True)\n",
    "results_search_gaming = extract_search_results(gaming_soup)"
   ]
  },
  {
   "cell_type": "code",
   "execution_count": 31,
   "id": "cccbdab7-02e4-4d4d-979d-7dcda9723c54",
   "metadata": {
    "tags": []
   },
   "outputs": [
    {
     "data": {
      "text/html": [
       "<div>\n",
       "<style scoped>\n",
       "    .dataframe tbody tr th:only-of-type {\n",
       "        vertical-align: middle;\n",
       "    }\n",
       "\n",
       "    .dataframe tbody tr th {\n",
       "        vertical-align: top;\n",
       "    }\n",
       "\n",
       "    .dataframe thead th {\n",
       "        text-align: right;\n",
       "    }\n",
       "</style>\n",
       "<table border=\"1\" class=\"dataframe\">\n",
       "  <thead>\n",
       "    <tr style=\"text-align: right;\">\n",
       "      <th></th>\n",
       "      <th>title</th>\n",
       "      <th>link</th>\n",
       "      <th>source</th>\n",
       "    </tr>\n",
       "  </thead>\n",
       "  <tbody>\n",
       "    <tr>\n",
       "      <th>0</th>\n",
       "      <td>\\n\\nΠου 'ναι τα χρόνια ! - 40 αθάνατα, αγαπημέ...</td>\n",
       "      <td>/watch?v=OdX0y96UPEA&amp;pp=ygUjzrXOu867zrfOvc65zr...</td>\n",
       "      <td>song</td>\n",
       "    </tr>\n",
       "    <tr>\n",
       "      <th>1</th>\n",
       "      <td>\\n\\nGreek Hits 2023 | Non-Stop Mix by Elegant ...</td>\n",
       "      <td>/watch?v=RcSAggke-_U&amp;pp=ygUjzrXOu867zrfOvc65zr...</td>\n",
       "      <td>song</td>\n",
       "    </tr>\n",
       "    <tr>\n",
       "      <th>2</th>\n",
       "      <td>\\n\\nΜουσική ιστορία Νο.1 (μέρος πρώτο) - 100 χ...</td>\n",
       "      <td>/watch?v=p5g82ta4sTk&amp;pp=ygUjzrXOu867zrfOvc65zr...</td>\n",
       "      <td>song</td>\n",
       "    </tr>\n",
       "    <tr>\n",
       "      <th>3</th>\n",
       "      <td>\\n\\n00's GREEK MIX | KAPSOURA EDITION\\n</td>\n",
       "      <td>/watch?v=isCeE38TrXA&amp;pp=ygUjzrXOu867zrfOvc65zr...</td>\n",
       "      <td>song</td>\n",
       "    </tr>\n",
       "    <tr>\n",
       "      <th>4</th>\n",
       "      <td>\\n\\n40 ελληνικά τραγούδια από τα 60's (by Elia...</td>\n",
       "      <td>/watch?v=WIiJc6_4khQ&amp;pp=ygUjzrXOu867zrfOvc65zr...</td>\n",
       "      <td>song</td>\n",
       "    </tr>\n",
       "    <tr>\n",
       "      <th>...</th>\n",
       "      <td>...</td>\n",
       "      <td>...</td>\n",
       "      <td>...</td>\n",
       "    </tr>\n",
       "    <tr>\n",
       "      <th>257</th>\n",
       "      <td>\\n\\nΜΕ SCAMMARE ΚΟΡΙΤΣΙ🤭😂(SCAMMER GETS SCAMMED...</td>\n",
       "      <td>/watch?v=ExbSJygJtTE&amp;pp=ygUOZ3JlZWsgZm9ydG5pdG...</td>\n",
       "      <td>gaming</td>\n",
       "    </tr>\n",
       "    <tr>\n",
       "      <th>258</th>\n",
       "      <td>\\n\\nWINS ΜΟΝΟ ΜΕ SKYBASE ΣΤΟ NEW SEASON! (Fort...</td>\n",
       "      <td>/watch?v=Ftj64tji0ao&amp;pp=ygUOZ3JlZWsgZm9ydG5pdG...</td>\n",
       "      <td>gaming</td>\n",
       "    </tr>\n",
       "    <tr>\n",
       "      <th>259</th>\n",
       "      <td>\\n\\n1 VS 1 CHALLENGE ΜΕ ΤΗΝ ΚΩΝΣΤΑΝΤΙΝΑ ΑΠΟ Pl...</td>\n",
       "      <td>/watch?v=64NObRZWREA&amp;pp=ygUOZ3JlZWsgZm9ydG5pdG...</td>\n",
       "      <td>gaming</td>\n",
       "    </tr>\n",
       "    <tr>\n",
       "      <th>260</th>\n",
       "      <td>\\n\\nΈγινα Καλύτερος ή Μπα? (Fortnite: Battle R...</td>\n",
       "      <td>/watch?v=s3gVQ10aJoQ&amp;pp=ygUOZ3JlZWsgZm9ydG5pdG...</td>\n",
       "      <td>gaming</td>\n",
       "    </tr>\n",
       "    <tr>\n",
       "      <th>261</th>\n",
       "      <td>\\n\\nΘα Χωρίσω Εξαιτίας Του Fortnite…\\n</td>\n",
       "      <td>/watch?v=jla9IrQAIkk&amp;pp=ygUOZ3JlZWsgZm9ydG5pdG...</td>\n",
       "      <td>gaming</td>\n",
       "    </tr>\n",
       "  </tbody>\n",
       "</table>\n",
       "<p>262 rows × 3 columns</p>\n",
       "</div>"
      ],
      "text/plain": [
       "                                                 title  \\\n",
       "0    \\n\\nΠου 'ναι τα χρόνια ! - 40 αθάνατα, αγαπημέ...   \n",
       "1    \\n\\nGreek Hits 2023 | Non-Stop Mix by Elegant ...   \n",
       "2    \\n\\nΜουσική ιστορία Νο.1 (μέρος πρώτο) - 100 χ...   \n",
       "3              \\n\\n00's GREEK MIX | KAPSOURA EDITION\\n   \n",
       "4    \\n\\n40 ελληνικά τραγούδια από τα 60's (by Elia...   \n",
       "..                                                 ...   \n",
       "257  \\n\\nΜΕ SCAMMARE ΚΟΡΙΤΣΙ🤭😂(SCAMMER GETS SCAMMED...   \n",
       "258  \\n\\nWINS ΜΟΝΟ ΜΕ SKYBASE ΣΤΟ NEW SEASON! (Fort...   \n",
       "259  \\n\\n1 VS 1 CHALLENGE ΜΕ ΤΗΝ ΚΩΝΣΤΑΝΤΙΝΑ ΑΠΟ Pl...   \n",
       "260  \\n\\nΈγινα Καλύτερος ή Μπα? (Fortnite: Battle R...   \n",
       "261             \\n\\nΘα Χωρίσω Εξαιτίας Του Fortnite…\\n   \n",
       "\n",
       "                                                  link  source  \n",
       "0    /watch?v=OdX0y96UPEA&pp=ygUjzrXOu867zrfOvc65zr...    song  \n",
       "1    /watch?v=RcSAggke-_U&pp=ygUjzrXOu867zrfOvc65zr...    song  \n",
       "2    /watch?v=p5g82ta4sTk&pp=ygUjzrXOu867zrfOvc65zr...    song  \n",
       "3    /watch?v=isCeE38TrXA&pp=ygUjzrXOu867zrfOvc65zr...    song  \n",
       "4    /watch?v=WIiJc6_4khQ&pp=ygUjzrXOu867zrfOvc65zr...    song  \n",
       "..                                                 ...     ...  \n",
       "257  /watch?v=ExbSJygJtTE&pp=ygUOZ3JlZWsgZm9ydG5pdG...  gaming  \n",
       "258  /watch?v=Ftj64tji0ao&pp=ygUOZ3JlZWsgZm9ydG5pdG...  gaming  \n",
       "259  /watch?v=64NObRZWREA&pp=ygUOZ3JlZWsgZm9ydG5pdG...  gaming  \n",
       "260  /watch?v=s3gVQ10aJoQ&pp=ygUOZ3JlZWsgZm9ydG5pdG...  gaming  \n",
       "261  /watch?v=jla9IrQAIkk&pp=ygUOZ3JlZWsgZm9ydG5pdG...  gaming  \n",
       "\n",
       "[262 rows x 3 columns]"
      ]
     },
     "execution_count": 31,
     "metadata": {},
     "output_type": "execute_result"
    }
   ],
   "source": [
    "results_df = pd.DataFrame({\"title\": results_search_song[0] + results_search_gaming[0],\n",
    "                           \"link\":  results_search_song[1] + results_search_gaming[1],\n",
    "                          \"source\": np.array(len(results_search_song[0])*[\"song\"] + len(results_search_gaming[0])*[\"gaming\"]) })\n",
    "results_df"
   ]
  },
  {
   "cell_type": "code",
   "execution_count": 32,
   "id": "33ad8596-1462-41d4-a81f-2c00bf2d7e39",
   "metadata": {
    "tags": []
   },
   "outputs": [
    {
     "data": {
      "text/html": [
       "<div>\n",
       "<style scoped>\n",
       "    .dataframe tbody tr th:only-of-type {\n",
       "        vertical-align: middle;\n",
       "    }\n",
       "\n",
       "    .dataframe tbody tr th {\n",
       "        vertical-align: top;\n",
       "    }\n",
       "\n",
       "    .dataframe thead th {\n",
       "        text-align: right;\n",
       "    }\n",
       "</style>\n",
       "<table border=\"1\" class=\"dataframe\">\n",
       "  <thead>\n",
       "    <tr style=\"text-align: right;\">\n",
       "      <th></th>\n",
       "      <th>title</th>\n",
       "      <th>link</th>\n",
       "      <th>source</th>\n",
       "    </tr>\n",
       "  </thead>\n",
       "  <tbody>\n",
       "    <tr>\n",
       "      <th>0</th>\n",
       "      <td>Που 'ναι τα χρόνια ! - 40 αθάνατα, αγαπημένα, ...</td>\n",
       "      <td>https://www.youtube.com/watch?v=OdX0y96UPEA&amp;pp...</td>\n",
       "      <td>song</td>\n",
       "    </tr>\n",
       "    <tr>\n",
       "      <th>1</th>\n",
       "      <td>Greek Hits 2023 | Non-Stop Mix by Elegant Gree...</td>\n",
       "      <td>https://www.youtube.com/watch?v=RcSAggke-_U&amp;pp...</td>\n",
       "      <td>song</td>\n",
       "    </tr>\n",
       "    <tr>\n",
       "      <th>2</th>\n",
       "      <td>Μουσική ιστορία Νο.1 (μέρος πρώτο) - 100 χρυσά...</td>\n",
       "      <td>https://www.youtube.com/watch?v=p5g82ta4sTk&amp;pp...</td>\n",
       "      <td>song</td>\n",
       "    </tr>\n",
       "    <tr>\n",
       "      <th>3</th>\n",
       "      <td>00's GREEK MIX | KAPSOURA EDITION</td>\n",
       "      <td>https://www.youtube.com/watch?v=isCeE38TrXA&amp;pp...</td>\n",
       "      <td>song</td>\n",
       "    </tr>\n",
       "    <tr>\n",
       "      <th>4</th>\n",
       "      <td>40 ελληνικά τραγούδια από τα 60's (by Elias)</td>\n",
       "      <td>https://www.youtube.com/watch?v=WIiJc6_4khQ&amp;pp...</td>\n",
       "      <td>song</td>\n",
       "    </tr>\n",
       "    <tr>\n",
       "      <th>...</th>\n",
       "      <td>...</td>\n",
       "      <td>...</td>\n",
       "      <td>...</td>\n",
       "    </tr>\n",
       "    <tr>\n",
       "      <th>257</th>\n",
       "      <td>ΜΕ SCAMMARE ΚΟΡΙΤΣΙ🤭😂(SCAMMER GETS SCAMMED){GR...</td>\n",
       "      <td>https://www.youtube.com/watch?v=ExbSJygJtTE&amp;pp...</td>\n",
       "      <td>gaming</td>\n",
       "    </tr>\n",
       "    <tr>\n",
       "      <th>258</th>\n",
       "      <td>WINS ΜΟΝΟ ΜΕ SKYBASE ΣΤΟ NEW SEASON! (Fortnite...</td>\n",
       "      <td>https://www.youtube.com/watch?v=Ftj64tji0ao&amp;pp...</td>\n",
       "      <td>gaming</td>\n",
       "    </tr>\n",
       "    <tr>\n",
       "      <th>259</th>\n",
       "      <td>1 VS 1 CHALLENGE ΜΕ ΤΗΝ ΚΩΝΣΤΑΝΤΙΝΑ ΑΠΟ PlaySt...</td>\n",
       "      <td>https://www.youtube.com/watch?v=64NObRZWREA&amp;pp...</td>\n",
       "      <td>gaming</td>\n",
       "    </tr>\n",
       "    <tr>\n",
       "      <th>260</th>\n",
       "      <td>Έγινα Καλύτερος ή Μπα? (Fortnite: Battle Royal...</td>\n",
       "      <td>https://www.youtube.com/watch?v=s3gVQ10aJoQ&amp;pp...</td>\n",
       "      <td>gaming</td>\n",
       "    </tr>\n",
       "    <tr>\n",
       "      <th>261</th>\n",
       "      <td>Θα Χωρίσω Εξαιτίας Του Fortnite…</td>\n",
       "      <td>https://www.youtube.com/watch?v=jla9IrQAIkk&amp;pp...</td>\n",
       "      <td>gaming</td>\n",
       "    </tr>\n",
       "  </tbody>\n",
       "</table>\n",
       "<p>262 rows × 3 columns</p>\n",
       "</div>"
      ],
      "text/plain": [
       "                                                 title  \\\n",
       "0    Που 'ναι τα χρόνια ! - 40 αθάνατα, αγαπημένα, ...   \n",
       "1    Greek Hits 2023 | Non-Stop Mix by Elegant Gree...   \n",
       "2    Μουσική ιστορία Νο.1 (μέρος πρώτο) - 100 χρυσά...   \n",
       "3                    00's GREEK MIX | KAPSOURA EDITION   \n",
       "4         40 ελληνικά τραγούδια από τα 60's (by Elias)   \n",
       "..                                                 ...   \n",
       "257  ΜΕ SCAMMARE ΚΟΡΙΤΣΙ🤭😂(SCAMMER GETS SCAMMED){GR...   \n",
       "258  WINS ΜΟΝΟ ΜΕ SKYBASE ΣΤΟ NEW SEASON! (Fortnite...   \n",
       "259  1 VS 1 CHALLENGE ΜΕ ΤΗΝ ΚΩΝΣΤΑΝΤΙΝΑ ΑΠΟ PlaySt...   \n",
       "260  Έγινα Καλύτερος ή Μπα? (Fortnite: Battle Royal...   \n",
       "261                   Θα Χωρίσω Εξαιτίας Του Fortnite…   \n",
       "\n",
       "                                                  link  source  \n",
       "0    https://www.youtube.com/watch?v=OdX0y96UPEA&pp...    song  \n",
       "1    https://www.youtube.com/watch?v=RcSAggke-_U&pp...    song  \n",
       "2    https://www.youtube.com/watch?v=p5g82ta4sTk&pp...    song  \n",
       "3    https://www.youtube.com/watch?v=isCeE38TrXA&pp...    song  \n",
       "4    https://www.youtube.com/watch?v=WIiJc6_4khQ&pp...    song  \n",
       "..                                                 ...     ...  \n",
       "257  https://www.youtube.com/watch?v=ExbSJygJtTE&pp...  gaming  \n",
       "258  https://www.youtube.com/watch?v=Ftj64tji0ao&pp...  gaming  \n",
       "259  https://www.youtube.com/watch?v=64NObRZWREA&pp...  gaming  \n",
       "260  https://www.youtube.com/watch?v=s3gVQ10aJoQ&pp...  gaming  \n",
       "261  https://www.youtube.com/watch?v=jla9IrQAIkk&pp...  gaming  \n",
       "\n",
       "[262 rows x 3 columns]"
      ]
     },
     "execution_count": 32,
     "metadata": {},
     "output_type": "execute_result"
    }
   ],
   "source": [
    "results_df.title = results_df.title.apply(lambda x: x.strip())\n",
    "results_df.link = results_df.link.apply(lambda x: \"https://www.youtube.com\" + x) \n",
    "results_df"
   ]
  },
  {
   "cell_type": "code",
   "execution_count": 33,
   "id": "1ef13a6a-2c51-419d-ba62-a58a7fd7e36a",
   "metadata": {
    "tags": []
   },
   "outputs": [
    {
     "data": {
      "text/html": [
       "<div>\n",
       "<style scoped>\n",
       "    .dataframe tbody tr th:only-of-type {\n",
       "        vertical-align: middle;\n",
       "    }\n",
       "\n",
       "    .dataframe tbody tr th {\n",
       "        vertical-align: top;\n",
       "    }\n",
       "\n",
       "    .dataframe thead th {\n",
       "        text-align: right;\n",
       "    }\n",
       "</style>\n",
       "<table border=\"1\" class=\"dataframe\">\n",
       "  <thead>\n",
       "    <tr style=\"text-align: right;\">\n",
       "      <th></th>\n",
       "      <th>title</th>\n",
       "      <th>link</th>\n",
       "      <th>source</th>\n",
       "    </tr>\n",
       "  </thead>\n",
       "  <tbody>\n",
       "    <tr>\n",
       "      <th>0</th>\n",
       "      <td>Που 'ναι τα χρόνια ! - 40 αθάνατα, αγαπημένα, ...</td>\n",
       "      <td>https://www.youtube.com/watch?v=OdX0y96UPEA&amp;pp...</td>\n",
       "      <td>song</td>\n",
       "    </tr>\n",
       "    <tr>\n",
       "      <th>2</th>\n",
       "      <td>Μουσική ιστορία Νο.1 (μέρος πρώτο) - 100 χρυσά...</td>\n",
       "      <td>https://www.youtube.com/watch?v=p5g82ta4sTk&amp;pp...</td>\n",
       "      <td>song</td>\n",
       "    </tr>\n",
       "    <tr>\n",
       "      <th>4</th>\n",
       "      <td>40 ελληνικά τραγούδια από τα 60's (by Elias)</td>\n",
       "      <td>https://www.youtube.com/watch?v=WIiJc6_4khQ&amp;pp...</td>\n",
       "      <td>song</td>\n",
       "    </tr>\n",
       "    <tr>\n",
       "      <th>7</th>\n",
       "      <td>Όμορφα ελληνικά τραγούδια</td>\n",
       "      <td>https://www.youtube.com/watch?v=UIfND1RykJc&amp;pp...</td>\n",
       "      <td>song</td>\n",
       "    </tr>\n",
       "    <tr>\n",
       "      <th>9</th>\n",
       "      <td>Τα λαϊκά που αγαπήσαμε - 100 ιστορικά τραγούδι...</td>\n",
       "      <td>https://www.youtube.com/watch?v=OuY-cviIIqM&amp;pp...</td>\n",
       "      <td>song</td>\n",
       "    </tr>\n",
       "    <tr>\n",
       "      <th>...</th>\n",
       "      <td>...</td>\n",
       "      <td>...</td>\n",
       "      <td>...</td>\n",
       "    </tr>\n",
       "    <tr>\n",
       "      <th>257</th>\n",
       "      <td>ΜΕ SCAMMARE ΚΟΡΙΤΣΙ🤭😂(SCAMMER GETS SCAMMED){GR...</td>\n",
       "      <td>https://www.youtube.com/watch?v=ExbSJygJtTE&amp;pp...</td>\n",
       "      <td>gaming</td>\n",
       "    </tr>\n",
       "    <tr>\n",
       "      <th>258</th>\n",
       "      <td>WINS ΜΟΝΟ ΜΕ SKYBASE ΣΤΟ NEW SEASON! (Fortnite...</td>\n",
       "      <td>https://www.youtube.com/watch?v=Ftj64tji0ao&amp;pp...</td>\n",
       "      <td>gaming</td>\n",
       "    </tr>\n",
       "    <tr>\n",
       "      <th>259</th>\n",
       "      <td>1 VS 1 CHALLENGE ΜΕ ΤΗΝ ΚΩΝΣΤΑΝΤΙΝΑ ΑΠΟ PlaySt...</td>\n",
       "      <td>https://www.youtube.com/watch?v=64NObRZWREA&amp;pp...</td>\n",
       "      <td>gaming</td>\n",
       "    </tr>\n",
       "    <tr>\n",
       "      <th>260</th>\n",
       "      <td>Έγινα Καλύτερος ή Μπα? (Fortnite: Battle Royal...</td>\n",
       "      <td>https://www.youtube.com/watch?v=s3gVQ10aJoQ&amp;pp...</td>\n",
       "      <td>gaming</td>\n",
       "    </tr>\n",
       "    <tr>\n",
       "      <th>261</th>\n",
       "      <td>Θα Χωρίσω Εξαιτίας Του Fortnite…</td>\n",
       "      <td>https://www.youtube.com/watch?v=jla9IrQAIkk&amp;pp...</td>\n",
       "      <td>gaming</td>\n",
       "    </tr>\n",
       "  </tbody>\n",
       "</table>\n",
       "<p>231 rows × 3 columns</p>\n",
       "</div>"
      ],
      "text/plain": [
       "                                                 title  \\\n",
       "0    Που 'ναι τα χρόνια ! - 40 αθάνατα, αγαπημένα, ...   \n",
       "2    Μουσική ιστορία Νο.1 (μέρος πρώτο) - 100 χρυσά...   \n",
       "4         40 ελληνικά τραγούδια από τα 60's (by Elias)   \n",
       "7                            Όμορφα ελληνικά τραγούδια   \n",
       "9    Τα λαϊκά που αγαπήσαμε - 100 ιστορικά τραγούδι...   \n",
       "..                                                 ...   \n",
       "257  ΜΕ SCAMMARE ΚΟΡΙΤΣΙ🤭😂(SCAMMER GETS SCAMMED){GR...   \n",
       "258  WINS ΜΟΝΟ ΜΕ SKYBASE ΣΤΟ NEW SEASON! (Fortnite...   \n",
       "259  1 VS 1 CHALLENGE ΜΕ ΤΗΝ ΚΩΝΣΤΑΝΤΙΝΑ ΑΠΟ PlaySt...   \n",
       "260  Έγινα Καλύτερος ή Μπα? (Fortnite: Battle Royal...   \n",
       "261                   Θα Χωρίσω Εξαιτίας Του Fortnite…   \n",
       "\n",
       "                                                  link  source  \n",
       "0    https://www.youtube.com/watch?v=OdX0y96UPEA&pp...    song  \n",
       "2    https://www.youtube.com/watch?v=p5g82ta4sTk&pp...    song  \n",
       "4    https://www.youtube.com/watch?v=WIiJc6_4khQ&pp...    song  \n",
       "7    https://www.youtube.com/watch?v=UIfND1RykJc&pp...    song  \n",
       "9    https://www.youtube.com/watch?v=OuY-cviIIqM&pp...    song  \n",
       "..                                                 ...     ...  \n",
       "257  https://www.youtube.com/watch?v=ExbSJygJtTE&pp...  gaming  \n",
       "258  https://www.youtube.com/watch?v=Ftj64tji0ao&pp...  gaming  \n",
       "259  https://www.youtube.com/watch?v=64NObRZWREA&pp...  gaming  \n",
       "260  https://www.youtube.com/watch?v=s3gVQ10aJoQ&pp...  gaming  \n",
       "261  https://www.youtube.com/watch?v=jla9IrQAIkk&pp...  gaming  \n",
       "\n",
       "[231 rows x 3 columns]"
      ]
     },
     "execution_count": 33,
     "metadata": {},
     "output_type": "execute_result"
    }
   ],
   "source": [
    "greeklish_model = RegexClassifier(include_greeklish=True)\n",
    "preds = greeklish_model.predict(results_df.title)\n",
    "gr_res_df = results_df[(preds != \"en\") & (preds != None)]\n",
    "gr_res_df"
   ]
  },
  {
   "cell_type": "code",
   "execution_count": 34,
   "id": "a24623c0-ce6d-4e3d-bf26-87b79cd2c390",
   "metadata": {},
   "outputs": [],
   "source": [
    "from selenium.common.exceptions import JavascriptException\n",
    "import bs4\n",
    "\n",
    "\n",
    "def scrape(urls: list[str]) -> list[tuple[str, bs4.BeautifulSoup]]:\n",
    "    scrape_results = []\n",
    "    \n",
    "    print(\"Scraping videos...\")\n",
    "    for url in tqdm(urls):\n",
    "        try:\n",
    "            scrape_results.append((url, scrape_youtube(ChromeDriverManager.get(), url, max_scrolls=10, scroll_wait_secs=1.3, verbose=False)))\n",
    "        except JavascriptException:\n",
    "            continue\n",
    "        except Exception as e:\n",
    "            print(e)\n",
    "            continue  \n",
    "    return scrape_results\n",
    "\n",
    "\n",
    "def process_scraped(scrape_results: list[tuple[str, bs4.BeautifulSoup]]) -> pd.DataFrame:\n",
    "    scraped_urls = []\n",
    "    comments = []\n",
    "    dates = []\n",
    "    \n",
    "    print(\"Processing comments...\")\n",
    "    print(type(scrape_results[0]))\n",
    "    for url, result in tqdm(scrape_results):\n",
    "        if result is not None:\n",
    "            new_comments, new_dates = extract_comments(result)\n",
    "            comments += new_comments\n",
    "            dates += new_dates\n",
    "            scraped_urls += ([url] * len(new_comments))\n",
    "    return pd.DataFrame({\"link\": scraped_urls, \"text\": comments, \"date\": dates})\n",
    "\n",
    "\n",
    "def filter_comments(df: pd.DataFrame) -> pd.DataFrame:\n",
    "    preds = greeklish_model.predict(df.text)\n",
    "    mask = ((preds != \"el\") & (preds != \"greeklish\"))\n",
    "    return comments_df[mask]"
   ]
  },
  {
   "cell_type": "code",
   "execution_count": null,
   "id": "5d92a0ef-e360-4bb4-a96a-97dd1f8615da",
   "metadata": {},
   "outputs": [
    {
     "name": "stdout",
     "output_type": "stream",
     "text": [
      "Scraping videos...\n"
     ]
    },
    {
     "name": "stderr",
     "output_type": "stream",
     "text": [
      " 28%|██████████████████████▋                                                          | 42/150 [08:03<29:42, 16.51s/it]"
     ]
    }
   ],
   "source": [
    "max_videos = 150\n",
    "urls = gr_res_df.link.sample(max_videos) if len(gr_res_df.link) > max_videos else gr_res_df.link\n",
    "\n",
    "scraped = scrape(urls)\n",
    "comments_df = process_scraped(scraped)\n",
    "\n",
    "comments_df.date = comments_df.date.apply(lambda x: x.date() if x is not None else None)\n",
    "comments_df = filter_comments(comments_df)\n",
    "crawl_df = pd.merge(gr_res_df, comments_df, how=\"inner\", on=\"link\")"
   ]
  },
  {
   "cell_type": "code",
   "execution_count": null,
   "id": "a10c703c-74d6-4d27-a22f-58a7d3d0a04b",
   "metadata": {},
   "outputs": [],
   "source": [
    "ChromeDriverManager.quit()"
   ]
  },
  {
   "cell_type": "code",
   "execution_count": null,
   "id": "48d923d1-685f-448e-b145-118ab639a11e",
   "metadata": {},
   "outputs": [],
   "source": [
    "csv_output(crawl_df, \"temp.csv\")"
   ]
  },
  {
   "cell_type": "markdown",
   "id": "cf0324f7-ccbc-4157-983b-441cbb1c83c6",
   "metadata": {},
   "source": [
    "## Language Identification"
   ]
  },
  {
   "cell_type": "markdown",
   "id": "b89fb06d-4f15-4c68-9ab6-5e068153049f",
   "metadata": {},
   "source": [
    "https://stats.stackexchange.com/questions/357466/are-unbalanced-datasets-problematic-and-how-does-oversampling-purport-to-he\n",
    "https://gking.harvard.edu/files/abs/0s-abs.shtml\n",
    "https://www.kaggle.com/code/residentmario/undersampling-and-oversampling-imbalanced-data\n"
   ]
  },
  {
   "cell_type": "code",
   "execution_count": null,
   "id": "852afc7e-a026-4457-9cfe-a451da710b32",
   "metadata": {
    "tags": []
   },
   "outputs": [],
   "source": [
    "from src.ml import train_test_val_split\n",
    "import matplotlib.pyplot as plt\n",
    "\n",
    "\n",
    "data_train, data_val, data_test = train_test_val_split(gold_df, train_ratio=0.7, val_ratio=0.1, test_ratio=0.2,\n",
    "                                                        random_state=42, stratify_col=\"labels\")\n",
    "# code block from Ioannis Pavlopoulos\n",
    "axes = pd.DataFrame({\"train\": data_train.labels.value_counts(),\n",
    "              \"validation\": data_val.labels.value_counts(),\n",
    "              \"test\": data_test.labels.value_counts()}\n",
    "            ).plot.pie(subplots=True, \n",
    "                       textprops={'fontsize': 8},\n",
    "                       autopct=f'%1.1f%%', # print percent% results \n",
    "                       legend=False)\n",
    "\n",
    "axes[0].set_xlabel(data_train.shape[0])\n",
    "axes[1].set_xlabel(data_val.shape[0])\n",
    "axes[2].set_xlabel(data_test.shape[0])\n",
    "\n",
    "axes[1].text(0, -2, 'Number of records', ha='center')\n",
    "\n",
    "plt.tight_layout(pad=2.0)\n",
    "plt.show()"
   ]
  },
  {
   "cell_type": "code",
   "execution_count": null,
   "id": "0a182208-c3db-4892-8617-2209629396fd",
   "metadata": {
    "tags": []
   },
   "outputs": [],
   "source": [
    "from sklearn.feature_extraction.text import CountVectorizer, TfidfVectorizer\n",
    "\n",
    "\n",
    "vectorizer = TfidfVectorizer().fit(data_train.text)\n",
    "x_train = vectorizer.transform(data_train.text)\n",
    "y_train = data_train.labels\n",
    "x_val = vectorizer.transform(data_val.text)\n",
    "y_val = data_val.labels\n",
    "x_test = vectorizer.transform(data_test.text)\n",
    "y_test = data_test.labels"
   ]
  },
  {
   "cell_type": "code",
   "execution_count": null,
   "id": "586c604d-1467-498c-9b04-57b00bf5db71",
   "metadata": {
    "tags": []
   },
   "outputs": [],
   "source": [
    "from sklearn.model_selection import cross_val_score\n",
    "\n",
    "\n",
    "def cross_val_res(model, x, y, scoring=None, cv=10):\n",
    "    if scoring is None:\n",
    "        scoring = \"f1_macro\"\n",
    "    res = cross_val_score(model, x, y, cv=cv, scoring=scoring)\n",
    "    return res"
   ]
  },
  {
   "cell_type": "markdown",
   "id": "10e77140-ffb9-41d2-9984-5764179617b3",
   "metadata": {},
   "source": [
    "### Dummy Classifier"
   ]
  },
  {
   "cell_type": "code",
   "execution_count": null,
   "id": "a52c1a13-bf6a-4de9-a281-c43996874a5b",
   "metadata": {
    "tags": []
   },
   "outputs": [],
   "source": [
    "from sklearn.metrics import f1_score\n",
    "from sklearn.metrics import classification_report\n",
    "from sklearn.metrics import ConfusionMatrixDisplay\n",
    "import matplotlib.pyplot as plt\n",
    "import warnings\n",
    "\n",
    "\n",
    "def get_statistics(y_test, y_pred):\n",
    "    with warnings.catch_warnings():\n",
    "        warnings.simplefilter(\"ignore\")\n",
    "\n",
    "        print(f\"Macro F1: {f1_score(y_test, y_pred, average='macro', zero_division=0)}\")\n",
    "        print(classification_report(y_test, y_pred, zero_division=0))\n",
    "        ConfusionMatrixDisplay.from_predictions(y_test, \n",
    "                                                y_pred, \n",
    "                                                colorbar=True)\n",
    "        plt.show()"
   ]
  },
  {
   "cell_type": "code",
   "execution_count": null,
   "id": "fc35cfee-456b-4ebb-a6bb-f91d7b8aa0c2",
   "metadata": {
    "tags": []
   },
   "outputs": [],
   "source": [
    "from sklearn.dummy import DummyClassifier, DummyRegressor\n",
    "\n",
    "\n",
    "majority = DummyClassifier(strategy=\"most_frequent\")\n",
    "majority.fit(x_train, y_train)\n",
    "majority_res = majority.predict(x_test)\n",
    "\n",
    "get_statistics(y_test, majority_res)"
   ]
  },
  {
   "cell_type": "markdown",
   "id": "eb0b9c1a-4593-4890-9090-46b31dcc7866",
   "metadata": {},
   "source": [
    "### Regex Classification"
   ]
  },
  {
   "cell_type": "code",
   "execution_count": null,
   "id": "0eb47656-a440-41c2-ae24-175969c76e06",
   "metadata": {
    "tags": []
   },
   "outputs": [],
   "source": [
    "with warnings.catch_warnings():\n",
    "    warnings.simplefilter(\"ignore\")\n",
    "\n",
    "    regex_model = RegexClassifier()\n",
    "    res = cross_val_res(regex_model, data_train.text, y_train, scoring=\"f1_macro\")\n",
    "    print(f\"Regex Classifier mean macro F1: {res[0]:.4f}, std: {res[1]:.4f}\")"
   ]
  },
  {
   "cell_type": "code",
   "execution_count": null,
   "id": "cdfa7f60-198c-4860-90a0-8f52e5b6151c",
   "metadata": {
    "tags": []
   },
   "outputs": [],
   "source": [
    "regex_model = RegexClassifier(include_greeklish=True).fit(data_train.text, y_train)\n",
    "regex_res = regex_model.predict(data_test.text)\n",
    "get_statistics(y_test, regex_res)"
   ]
  },
  {
   "cell_type": "markdown",
   "id": "d85fd2ac-c5de-4721-baf7-c52a5c286364",
   "metadata": {},
   "source": [
    "### Naive Bayes"
   ]
  },
  {
   "cell_type": "markdown",
   "id": "a855d45e-e89c-4a8a-acf4-caa6c72b6438",
   "metadata": {},
   "source": [
    "https://towardsdatascience.com/naive-bayes-classifiers-for-text-classification-be0d133d35ba"
   ]
  },
  {
   "cell_type": "code",
   "execution_count": null,
   "id": "833bff3c-0a75-4f58-bafb-3cd28cdb4e1c",
   "metadata": {},
   "outputs": [],
   "source": [
    "from sklearn.naive_bayes import MultinomialNB\n",
    "\n",
    "\n",
    "naive_x_train = x_train.toarray()\n",
    "naive_x_test = x_test.toarray()\n",
    "\n",
    "naive_model = MultinomialNB()\n",
    "res = cross_val_res(naive_model, naive_x_train, y_train, cv=5)\n",
    "print(f\"Naive Bayes mean macro F1-score {res[0]:.4f}, std: {res[1]:.4f}\")"
   ]
  },
  {
   "cell_type": "code",
   "execution_count": null,
   "id": "f1f56e9a-1573-4229-8746-5eb7aed053b3",
   "metadata": {},
   "outputs": [],
   "source": [
    "from sklearn.naive_bayes import MultinomialNB\n",
    "\n",
    "\n",
    "naive_model = MultinomialNB().fit(naive_x_train, y_train)\n",
    "naive_res = naive_model.predict(naive_x_test)\n",
    "\n",
    "get_statistics(y_test, naive_res)"
   ]
  },
  {
   "cell_type": "markdown",
   "id": "059ecd9d-3525-4f86-a102-5117125ddf5f",
   "metadata": {},
   "source": [
    "### Logistic Regression"
   ]
  },
  {
   "cell_type": "code",
   "execution_count": null,
   "id": "51d879dd-7534-4cb6-b887-17bc89d3cb4c",
   "metadata": {
    "tags": []
   },
   "outputs": [],
   "source": [
    "from sklearn.linear_model import LogisticRegression\n",
    "\n",
    "\n",
    "with warnings.catch_warnings():\n",
    "    # ignore warnings about deprecated methods in libraries\n",
    "    warnings.simplefilter(\"ignore\")\n",
    "\n",
    "    lr = LogisticRegression(max_iter=1000)\n",
    "    res = cross_val_res(lr, x_train, y_train)\n",
    "    print(f\"Logistic Regression mean macro F1-score {res[0]:.4f}, std: {res[1]:.4f}\")"
   ]
  },
  {
   "cell_type": "code",
   "execution_count": null,
   "id": "0fc257a8-a52f-4f5b-832d-2e6e8d57f112",
   "metadata": {
    "tags": []
   },
   "outputs": [],
   "source": [
    "with warnings.catch_warnings():\n",
    "    warnings.simplefilter(\"ignore\")\n",
    "    lr = LogisticRegression(max_iter=1000).fit(x_train, y_train)\n",
    "    lr_res = lr.predict(x_test)\n",
    "\n",
    "get_statistics(y_test, lr_res)"
   ]
  },
  {
   "cell_type": "markdown",
   "id": "b0ce1d27-89b9-4ca1-9063-79e677fe64ec",
   "metadata": {},
   "source": [
    "### Random Forest"
   ]
  },
  {
   "cell_type": "raw",
   "id": "27193fef-dbcd-44e3-8a77-3dfdd78f638c",
   "metadata": {},
   "source": [
    "from sklearn.ensemble import RandomForestClassifier\n",
    "\n",
    "\n",
    "forest_model = RandomForestClassifier(n_estimators=50, \n",
    "                                      n_jobs=-1, \n",
    "                                      criterion=\"entropy\")\n",
    "res = cross_val_res(forest_model, x_train, y_train, cv=3)\n",
    "print(f\"Random Forest mean macro F1: {res[0]:.4f}, std: {res[1]:.4f}\")"
   ]
  },
  {
   "cell_type": "code",
   "execution_count": null,
   "id": "11adac17-016c-4c15-8f84-71818e662763",
   "metadata": {},
   "outputs": [],
   "source": [
    "from sklearn.ensemble import RandomForestClassifier\n",
    "\n",
    "\n",
    "forest_model = RandomForestClassifier(n_estimators=100, \n",
    "                                      n_jobs=-1, \n",
    "                                      criterion=\"entropy\", \n",
    "                                      verbose=1).fit(x_train, y_train)\n",
    "forest_pred = forest_model.predict(x_test)\n",
    "get_statistics(y_test, forest_pred)"
   ]
  },
  {
   "cell_type": "markdown",
   "id": "bfc319b9-5825-43be-88d5-707ed906d325",
   "metadata": {},
   "source": [
    "### Adaboost"
   ]
  },
  {
   "cell_type": "raw",
   "id": "545ef9b2-7429-4701-aea3-97f295ec1672",
   "metadata": {},
   "source": [
    "from sklearn.ensemble import AdaBoostClassifier\n",
    "\n",
    "\n",
    "ada_model = AdaBoostClassifier(n_estimators=50)\n",
    "res = cross_val_res(ada_model, x_train, y_train, cv=3)\n",
    "print(f\"AdaBoost mean macro F1: {res[0]:.4f}, std: {res[1]:.4f}\")"
   ]
  },
  {
   "cell_type": "code",
   "execution_count": null,
   "id": "285ec6f1-717a-48a8-8a8b-3d9e93caa531",
   "metadata": {},
   "outputs": [],
   "source": [
    "from sklearn.ensemble import AdaBoostClassifier\n",
    "\n",
    "\n",
    "ada_model = AdaBoostClassifier(n_estimators=100).fit(x_train, y_train)\n",
    "ada_pred = ada_model.predict(x_test)\n",
    "get_statistics(y_test, ada_pred)"
   ]
  },
  {
   "cell_type": "code",
   "execution_count": null,
   "id": "e185b12c-828e-4d51-a4dd-e47183ddb0eb",
   "metadata": {},
   "outputs": [],
   "source": [
    "missed = y_test != ada_pred\n",
    "pd.DataFrame({\"predicted\": ada_pred[missed], \"actual\": data_test[missed].labels, \"text\": data_test[missed].text})"
   ]
  },
  {
   "cell_type": "code",
   "execution_count": null,
   "id": "36893bd6-9b9f-4aa1-b2d3-07ecdbb70f3a",
   "metadata": {},
   "outputs": [],
   "source": [
    "missed = y_test != forest_pred\n",
    "pd.DataFrame({\"predicted\": forest_pred[missed], \"actual\": data_test[missed].labels, \"text\": data_test[missed].text})"
   ]
  },
  {
   "cell_type": "markdown",
   "id": "389cc971-8bb2-4ecb-ab23-99239ac71308",
   "metadata": {},
   "source": [
    "### Hyperparameter tuning"
   ]
  },
  {
   "cell_type": "code",
   "execution_count": null,
   "id": "ce091a09-186f-4906-90fc-d1a5e0ead56a",
   "metadata": {},
   "outputs": [],
   "source": [
    "estimators = []\n",
    "scores = []\n",
    "\n",
    "for n_estimators in tqdm([int(x) for x in np.linspace(start = 100, stop = 1000, num = 5)]):\n",
    "    estim = RandomForestClassifier(n_estimators=n_estimators, \n",
    "                                  n_jobs=-1, \n",
    "                                  criterion=\"entropy\").fit(x_train, y_train)\n",
    "    score = f1_score(y_val, estim.predict(x_val), average='macro', zero_division=0)\n",
    "\n",
    "    estimators.append(estim)\n",
    "    scores.append(score)"
   ]
  },
  {
   "cell_type": "code",
   "execution_count": null,
   "id": "3ae6d6a4-2a6b-4bc8-8374-f20fc49ebd69",
   "metadata": {},
   "outputs": [],
   "source": [
    "best_model = estimators[np.argmax(scores)]\n",
    "print(f\"Best model {best_model} with macro F1 score of {max(scores)}\")"
   ]
  },
  {
   "cell_type": "markdown",
   "id": "de1fcfcc-e684-4e53-9253-0069aa838e77",
   "metadata": {},
   "source": [
    "### Annotating the operational dataset"
   ]
  },
  {
   "cell_type": "code",
   "execution_count": null,
   "id": "36f59042-4429-4486-9a70-ea6af98c8c76",
   "metadata": {},
   "outputs": [],
   "source": [
    "x_oper = vectorizer.transform(crawl_df.text)\n",
    "crawl_df[\"language\"] = best_model.predict(x_oper)"
   ]
  },
  {
   "cell_type": "code",
   "execution_count": null,
   "id": "05a33cc1-b34d-476f-87bf-ff2ba65c0a1e",
   "metadata": {},
   "outputs": [],
   "source": [
    "crawl_df"
   ]
  },
  {
   "cell_type": "code",
   "execution_count": null,
   "id": "bb7f6e4c-9678-4ea3-9c4f-a0121eac910e",
   "metadata": {
    "tags": []
   },
   "outputs": [],
   "source": [
    "csv_output(crawl_df, \"crawl.csv\")"
   ]
  },
  {
   "cell_type": "markdown",
   "id": "b1353ecc-5d5f-4447-a92b-543a227c3d52",
   "metadata": {},
   "source": [
    "### Exploring the operational dataset"
   ]
  },
  {
   "cell_type": "code",
   "execution_count": null,
   "id": "b80cf5e2-fefe-4fa8-93f1-692b1bd45ced",
   "metadata": {},
   "outputs": [],
   "source": [
    "RESOURCE_OUTPUT = \"results\"\n",
    "\n",
    "def save_plot(filename):\n",
    "    path = os.path.join(RESOURCE_OUTPUT, filename)\n",
    "    plt.savefig(path, bbox_inches=\"tight\")\n",
    "    print(f\"Figured saved to \" + path)"
   ]
  },
  {
   "cell_type": "code",
   "execution_count": null,
   "id": "7e0777af-dc21-4f23-a6e7-c1078af74c78",
   "metadata": {},
   "outputs": [],
   "source": [
    "import seaborn as sns\n",
    "\n",
    "\n",
    "sns.displot(crawl_df.language)\n",
    "save_plot(\"lang_dis.png\")\n",
    "plt.title(\"Post languages\")\n",
    "plt.show()"
   ]
  },
  {
   "cell_type": "code",
   "execution_count": null,
   "id": "d7036f2c-bfdb-4d71-b049-8fbbf8ef375b",
   "metadata": {},
   "outputs": [],
   "source": [
    "languages = np.unique(crawl_df.language)\n",
    "\n",
    "lang_col = []\n",
    "len_col = []\n",
    "\n",
    "for language in languages:\n",
    "    comments_text = crawl_df.loc[crawl_df.language == language, \"text\"]\n",
    "    comments_length = comments_text.apply(lambda x: len(x))\n",
    "    \n",
    "    lang_col += [language] * len(comments_length)\n",
    "    len_col += list(comments_length)\n",
    "\n",
    "len_df = pd.DataFrame({\"language\": lang_col, \"comment_length\": len_col})"
   ]
  },
  {
   "cell_type": "code",
   "execution_count": null,
   "id": "df6b95b4-0e0f-44ac-bd39-add2a9067390",
   "metadata": {},
   "outputs": [],
   "source": [
    "sns.displot(len_df, x=\"comment_length\", hue=\"language\", multiple=\"stack\")\n",
    "plt.title(\"Stacked plot of comment length (characters) by language\")\n",
    "plt.xlabel(\"Length of comment (characters)\")\n",
    "plt.show()"
   ]
  },
  {
   "cell_type": "code",
   "execution_count": null,
   "id": "f541276f-6d2d-4400-a8bd-518bae837223",
   "metadata": {},
   "outputs": [],
   "source": [
    "fig, (ax1, ax2) = plt.subplots(1,2)\n",
    "sns.histplot(len_df[len_df.comment_length<=250] , x=\"comment_length\", hue=\"language\", multiple=\"stack\", ax=ax1)\n",
    "ax1.set_xlabel(\"Length of comment (characters < 250)\")\n",
    "ax1.set_ylabel(\"Number of comments\")\n",
    "\n",
    "sns.histplot(len_df[len_df.comment_length>250] , x=\"comment_length\", hue=\"language\", multiple=\"stack\", ax=ax2)\n",
    "ax2.set_xlabel(\"Length of comment (characters)\")\n",
    "ax2.set_ylabel(\"Number of comments\")\n",
    "\n",
    "fig.suptitle(\"Stacked plot of long and short comments length by language\")\n",
    "save_plot(\"length_dis.png\")\n",
    "plt.show()"
   ]
  },
  {
   "cell_type": "code",
   "execution_count": null,
   "id": "49f6e9b3-df9d-47fd-8ac7-d25d17488383",
   "metadata": {},
   "outputs": [],
   "source": [
    "len_df.iloc[np.argmax(len_df.comment_length)]"
   ]
  },
  {
   "cell_type": "code",
   "execution_count": null,
   "id": "8d0046d1-6546-4678-9a37-7fd5f9539658",
   "metadata": {},
   "outputs": [],
   "source": [
    "emoji_pattern = re.compile(\n",
    "    r'[\\U0001F600-\\U0001F64F\\U0001F300-\\U0001F5FF\\U0001F680-\\U0001F6FF'\n",
    "    r'\\U0001F700-\\U0001F77F\\U0001F780-\\U0001F7FF\\U0001F800-\\U0001F8FF'\n",
    "    r'\\U0001F900-\\U0001F9FF\\U0001FA00-\\U0001FA6F\\u2600-\\u26FF\\u2700-\\u27BF'\n",
    "    r'\\u2B50\\u2B06\\u2934\\u2935\\u2B05\\u2194-\\u2199\\u21A9\\u21AA\\u2139\\u2328'\n",
    "    r'\\u23CF\\u23E9-\\u23F3\\u231A\\u23F8-\\u23FA\\u231B\\u23F0\\u231A\\u1F004'\n",
    "    r'\\u1F0CF\\u1F18E\\u3030\\u303D]'\n",
    ")\n",
    "\n",
    "emojis_col = []\n",
    "\n",
    "for language in languages:\n",
    "    comments_text = crawl_df.loc[crawl_df.language == language, \"text\"]\n",
    "    comments_length = comments_text.apply(lambda x: len(emoji_pattern.findall(x)))\n",
    "\n",
    "    emojis_col += list(comments_length)\n",
    "\n",
    "emoji_df = pd.DataFrame({\"language\": lang_col, \"emojis\": emojis_col})"
   ]
  },
  {
   "cell_type": "code",
   "execution_count": null,
   "id": "cda75427-7fc2-4580-8044-1de1c5bdf218",
   "metadata": {},
   "outputs": [],
   "source": [
    "sns.displot(emoji_df[emoji_df.emojis > 0] , x=\"emojis\", hue=\"language\", multiple=\"stack\")\n",
    "plt.title(\"Stacked plot of emojis used in comments by language\")\n",
    "plt.xlabel(\"Number of emojis\")\n",
    "plt.show()"
   ]
  },
  {
   "cell_type": "code",
   "execution_count": null,
   "id": "aa5b1104-b84b-4cf5-8ec2-06a7532618c3",
   "metadata": {},
   "outputs": [],
   "source": [
    "fig, (ax1, ax2) = plt.subplots(1, 2)\n",
    "sns.histplot(emoji_df[(emoji_df.emojis > 0) & (emoji_df.emojis < 10)] , x=\"emojis\", hue=\"language\", multiple=\"stack\", ax=ax1)\n",
    "ax1.set_xlabel(\"Number of emojis (<10)\")\n",
    "ax1.set_ylabel(\"Number of comments\")\n",
    "\n",
    "sns.histplot(emoji_df[emoji_df.emojis > 10] , x=\"emojis\", hue=\"language\", multiple=\"stack\", ax=ax2)\n",
    "ax2.set_xlabel(\"Number of emojis (>10)\")\n",
    "ax2.set_ylabel(\"Number of comments\")\n",
    "\n",
    "fig.suptitle(\"Stacked plot of long and short comments length by language\")\n",
    "save_plot(\"length_dis.png\")\n",
    "plt.show()"
   ]
  },
  {
   "cell_type": "code",
   "execution_count": null,
   "id": "f1fb70c8-acd3-47af-aa91-23dcc4b5f874",
   "metadata": {},
   "outputs": [],
   "source": [
    "sns.lineplot(x=\"date\", y=\"text\", hue=\"language\", data=date_df)\n",
    "plt.title(\"Dates of submitted comments by language\")\n",
    "plt.xlabel(\"Date of comment\")\n",
    "plt.ylabel(\"Number of comments\")\n",
    "\n",
    "save_plot(\"time_plot.png\")\n",
    "plt.show()"
   ]
  },
  {
   "cell_type": "code",
   "execution_count": null,
   "id": "bbd4fa74-04f1-48e0-9954-8d77e9f5685c",
   "metadata": {
    "tags": []
   },
   "outputs": [],
   "source": [
    "print(f\"Notebook executed in {int((time()-start)// 60)} minutes and {(time()-start) % 60:.1f} seconds\")"
   ]
  }
 ],
 "metadata": {
  "kernelspec": {
   "display_name": "Python 3 (ipykernel)",
   "language": "python",
   "name": "python3"
  },
  "language_info": {
   "codemirror_mode": {
    "name": "ipython",
    "version": 3
   },
   "file_extension": ".py",
   "mimetype": "text/x-python",
   "name": "python",
   "nbconvert_exporter": "python",
   "pygments_lexer": "ipython3",
   "version": "3.11.5"
  }
 },
 "nbformat": 4,
 "nbformat_minor": 5
}
