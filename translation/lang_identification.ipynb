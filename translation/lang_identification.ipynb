{
 "cells": [
  {
   "cell_type": "markdown",
   "id": "2e6a8254-d567-492c-9a98-c944e7ca5199",
   "metadata": {},
   "source": [
    "## Defining the Gold Standard\n",
    "\n",
    "https://huggingface.co/datasets/papluca/language-identification"
   ]
  },
  {
   "cell_type": "code",
   "execution_count": 29,
   "id": "7884d336-7550-4a37-9125-fd31d52561e3",
   "metadata": {
    "tags": []
   },
   "outputs": [],
   "source": [
    "import pandas as pd\n",
    "import numpy as np\n",
    "\n",
    "\n",
    "def dataset_to_pd(dataset_dict: dict) -> pd.DataFrame:\n",
    "    df_ls = []\n",
    "    label_array = np.empty(shape=(sum([len(dataset) for dataset in dataset_dict.values()])), dtype=object)\n",
    "    last_idx = -1\n",
    "\n",
    "    for label, dataset in dataset_dict.items():\n",
    "        new_last_idx = len(dataset) + last_idx\n",
    "        label_array.put(np.arange(last_idx+1, new_last_idx+1, 1), label)\n",
    "        last_idx = new_last_idx\n",
    "\n",
    "        df_ls.append(pd.DataFrame(dataset))\n",
    "\n",
    "    full_df = pd.concat(df_ls, ignore_index=True)\n",
    "    full_df[\"set\"]= label_array\n",
    "    full_df.insert(0, \"set\", full_df.pop(\"set\"))\n",
    "\n",
    "    return full_df"
   ]
  },
  {
   "cell_type": "code",
   "execution_count": 9,
   "id": "321846d4-f30f-46f6-b67d-cae6566f7ea0",
   "metadata": {},
   "outputs": [
    {
     "data": {
      "text/plain": [
       "DatasetDict({\n",
       "    train: Dataset({\n",
       "        features: ['labels', 'text'],\n",
       "        num_rows: 70000\n",
       "    })\n",
       "    validation: Dataset({\n",
       "        features: ['labels', 'text'],\n",
       "        num_rows: 10000\n",
       "    })\n",
       "    test: Dataset({\n",
       "        features: ['labels', 'text'],\n",
       "        num_rows: 10000\n",
       "    })\n",
       "})"
      ]
     },
     "execution_count": 9,
     "metadata": {},
     "output_type": "execute_result"
    }
   ],
   "source": [
    "from datasets import load_dataset\n",
    "\n",
    "\n",
    "dataset_dict = load_dataset(\"papluca/language-identification\")\n",
    "dataset_dict"
   ]
  },
  {
   "cell_type": "code",
   "execution_count": 31,
   "id": "fd8bd535-bb09-413a-b30b-cc3c978f93fd",
   "metadata": {
    "tags": []
   },
   "outputs": [
    {
     "data": {
      "text/html": [
       "<div>\n",
       "<style scoped>\n",
       "    .dataframe tbody tr th:only-of-type {\n",
       "        vertical-align: middle;\n",
       "    }\n",
       "\n",
       "    .dataframe tbody tr th {\n",
       "        vertical-align: top;\n",
       "    }\n",
       "\n",
       "    .dataframe thead th {\n",
       "        text-align: right;\n",
       "    }\n",
       "</style>\n",
       "<table border=\"1\" class=\"dataframe\">\n",
       "  <thead>\n",
       "    <tr style=\"text-align: right;\">\n",
       "      <th></th>\n",
       "      <th>set</th>\n",
       "      <th>labels</th>\n",
       "      <th>text</th>\n",
       "    </tr>\n",
       "  </thead>\n",
       "  <tbody>\n",
       "    <tr>\n",
       "      <th>0</th>\n",
       "      <td>train</td>\n",
       "      <td>pt</td>\n",
       "      <td>os chefes de defesa da estónia, letónia, lituâ...</td>\n",
       "    </tr>\n",
       "    <tr>\n",
       "      <th>1</th>\n",
       "      <td>train</td>\n",
       "      <td>bg</td>\n",
       "      <td>размерът на хоризонталната мрежа може да бъде ...</td>\n",
       "    </tr>\n",
       "    <tr>\n",
       "      <th>2</th>\n",
       "      <td>train</td>\n",
       "      <td>zh</td>\n",
       "      <td>很好，以前从不去评价，不知道浪费了多少积分，现在知道积分可以换钱，就要好好评价了，后来我就把...</td>\n",
       "    </tr>\n",
       "    <tr>\n",
       "      <th>3</th>\n",
       "      <td>train</td>\n",
       "      <td>th</td>\n",
       "      <td>สำหรับ ของเก่า ที่ จริงจัง ลอง   honeychurch  ...</td>\n",
       "    </tr>\n",
       "    <tr>\n",
       "      <th>4</th>\n",
       "      <td>train</td>\n",
       "      <td>ru</td>\n",
       "      <td>Он увеличил давление .</td>\n",
       "    </tr>\n",
       "    <tr>\n",
       "      <th>...</th>\n",
       "      <td>...</td>\n",
       "      <td>...</td>\n",
       "      <td>...</td>\n",
       "    </tr>\n",
       "    <tr>\n",
       "      <th>89995</th>\n",
       "      <td>test</td>\n",
       "      <td>zh</td>\n",
       "      <td>史料很充分，对岸的很多观点与大陆迥异啊。</td>\n",
       "    </tr>\n",
       "    <tr>\n",
       "      <th>89996</th>\n",
       "      <td>test</td>\n",
       "      <td>tr</td>\n",
       "      <td>Örneğin, teşhis Yunanca bir kelimeden alındı (...</td>\n",
       "    </tr>\n",
       "    <tr>\n",
       "      <th>89997</th>\n",
       "      <td>test</td>\n",
       "      <td>vi</td>\n",
       "      <td>Nếu lite/light chỉ đơn giản là mô tả một đặc t...</td>\n",
       "    </tr>\n",
       "    <tr>\n",
       "      <th>89998</th>\n",
       "      <td>test</td>\n",
       "      <td>bg</td>\n",
       "      <td>Например, една щатска столица, която посетихме...</td>\n",
       "    </tr>\n",
       "    <tr>\n",
       "      <th>89999</th>\n",
       "      <td>test</td>\n",
       "      <td>pl</td>\n",
       "      <td>Mam dla ciebie kilka propozycji:</td>\n",
       "    </tr>\n",
       "  </tbody>\n",
       "</table>\n",
       "<p>90000 rows × 3 columns</p>\n",
       "</div>"
      ],
      "text/plain": [
       "         set labels                                               text\n",
       "0      train     pt  os chefes de defesa da estónia, letónia, lituâ...\n",
       "1      train     bg  размерът на хоризонталната мрежа може да бъде ...\n",
       "2      train     zh  很好，以前从不去评价，不知道浪费了多少积分，现在知道积分可以换钱，就要好好评价了，后来我就把...\n",
       "3      train     th  สำหรับ ของเก่า ที่ จริงจัง ลอง   honeychurch  ...\n",
       "4      train     ru                             Он увеличил давление .\n",
       "...      ...    ...                                                ...\n",
       "89995   test     zh                               史料很充分，对岸的很多观点与大陆迥异啊。\n",
       "89996   test     tr  Örneğin, teşhis Yunanca bir kelimeden alındı (...\n",
       "89997   test     vi  Nếu lite/light chỉ đơn giản là mô tả một đặc t...\n",
       "89998   test     bg  Например, една щатска столица, която посетихме...\n",
       "89999   test     pl                   Mam dla ciebie kilka propozycji:\n",
       "\n",
       "[90000 rows x 3 columns]"
      ]
     },
     "execution_count": 31,
     "metadata": {},
     "output_type": "execute_result"
    }
   ],
   "source": [
    "gold_df = dataset_to_pd(dataset_dict)\n",
    "gold_df"
   ]
  },
  {
   "cell_type": "code",
   "execution_count": 33,
   "id": "95c8b92b-4bde-4c06-b92f-86d31c24e1a0",
   "metadata": {
    "tags": []
   },
   "outputs": [
    {
     "name": "stdout",
     "output_type": "stream",
     "text": [
      "Gold already exists.\n"
     ]
    }
   ],
   "source": [
    "import os\n",
    "\n",
    "\n",
    "gold_file = os.path.join(\"data\", \"gold.csv\")\n",
    "if not os.path.exists(gold_file):\n",
    "    with open(gold_file, \"w\") as f:\n",
    "        gold_df.to_csv(gold_file)\n",
    "        print(\"Gold saved successfully!\")\n",
    "else:\n",
    "    print(\"Gold already exists.\")"
   ]
  }
 ],
 "metadata": {
  "kernelspec": {
   "display_name": "Python 3.11 (XPython)",
   "language": "python",
   "name": "xpython"
  },
  "language_info": {
   "file_extension": ".py",
   "mimetype": "text/x-python",
   "name": "python",
   "version": "3.11.5"
  }
 },
 "nbformat": 4,
 "nbformat_minor": 5
}
