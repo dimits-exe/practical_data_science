{
 "cells": [
  {
   "cell_type": "code",
   "execution_count": 120,
   "id": "61c64785-61ad-4212-a91e-141f1cfd19b5",
   "metadata": {},
   "outputs": [],
   "source": [
    "from time import time\n",
    "\n",
    "start = time()"
   ]
  },
  {
   "cell_type": "markdown",
   "id": "26f6978d-5009-4a94-89e1-ee8ccb01d081",
   "metadata": {},
   "source": [
    "## Regex classifier"
   ]
  },
  {
   "cell_type": "code",
   "execution_count": 121,
   "id": "59b239c8-6826-4835-8b63-5874804b468a",
   "metadata": {
    "tags": []
   },
   "outputs": [],
   "source": [
    "from sklearn.base import BaseEstimator, RegressorMixin\n",
    "import numpy as np\n",
    "import re\n",
    "\n",
    "\n",
    "#idea credit https://www.linkedin.com/pulse/regex-one-pattern-rule-them-all-find-bring-darkness-bind-carranza/\n",
    "class RegexClassifier(BaseEstimator, RegressorMixin):\n",
    "    \"\"\"\n",
    "    Language Classifier using Regular Expressions\n",
    "    \"\"\"\n",
    "\n",
    "    language_regex_dict = {\n",
    "        'el': r'([\\u0370-\\u03FF]+)\\s?',  # Greek\n",
    "        'en': r'([a-zA-Z]+)\\s?',  # English\n",
    "    }\n",
    "\n",
    "    # STATIC INITALIZATION BLOCK\n",
    "    # pre-compie all expressions to save execution time\n",
    "    for lang in language_regex_dict.keys():\n",
    "        language_regex_dict[lang] = re.compile(language_regex_dict[lang])\n",
    "\n",
    "\n",
    "    def __init__(self, include_greeklish=True):\n",
    "        \"\"\"\n",
    "        Initialize a new :class:`RegexClassifier` instance.\n",
    "\n",
    "        :param include_greeklish: Optional. If True, include Greeklish in the language identification process.\n",
    "        \"\"\"\n",
    "        self.include_greeklish = include_greeklish\n",
    "\n",
    "    def predict(self, x):\n",
    "        preds = []\n",
    "\n",
    "        for text in x:\n",
    "            pred = \"other\"\n",
    "\n",
    "            if self.include_greeklish and \\\n",
    "                re.search(RegexClassifier.language_regex_dict[\"el\"], text) and \\\n",
    "                re.search(RegexClassifier.language_regex_dict[\"en\"], text):\n",
    "                    pred = \"greeklish\"\n",
    "\n",
    "            for lang_code, regex_pattern in RegexClassifier.language_regex_dict.items():\n",
    "                match = re.search(regex_pattern, text)\n",
    "                if match:\n",
    "                    pred = lang_code\n",
    "                    break\n",
    "            preds.append(pred)\n",
    "        return np.array(preds)\n",
    "    \n",
    "    def fit(self, x, y):\n",
    "        return self"
   ]
  },
  {
   "cell_type": "code",
   "execution_count": 122,
   "id": "96a77733-0bfa-45e0-a5a7-4432baab8455",
   "metadata": {
    "tags": []
   },
   "outputs": [
    {
     "name": "stdout",
     "output_type": "stream",
     "text": [
      "Detected Language Code: ['other' 'en' 'el']\n"
     ]
    }
   ],
   "source": [
    "# Example usage\n",
    "user_input_text = [\"你好，これはサンプルです。안녕하세요\", \"this is an english sentence\", \"δεν αντεχω αλλο\"]\n",
    "detected_language = RegexClassifier().predict(user_input_text)\n",
    "print(f\"Detected Language Code: {detected_language}\")"
   ]
  },
  {
   "cell_type": "markdown",
   "id": "2e6a8254-d567-492c-9a98-c944e7ca5199",
   "metadata": {},
   "source": [
    "## Defining the Gold Standard\n"
   ]
  },
  {
   "cell_type": "markdown",
   "id": "a77d5818-afe2-4c09-9a29-6f615dd492ec",
   "metadata": {},
   "source": [
    "### Greek-English identification dataset"
   ]
  },
  {
   "cell_type": "markdown",
   "id": "35fbce76-e950-4efc-9b38-09da72af29c8",
   "metadata": {},
   "source": [
    "https://aclanthology.org/L06-1229/\n",
    "https://aclanthology.org/L04-1369/\n",
    "https://huggingface.co/datasets/papluca/language-identification"
   ]
  },
  {
   "cell_type": "code",
   "execution_count": 123,
   "id": "7884d336-7550-4a37-9125-fd31d52561e3",
   "metadata": {},
   "outputs": [],
   "source": [
    "import pandas as pd\n",
    "\n",
    "\n",
    "def dataset_to_pd(dataset_dict: dict) -> pd.DataFrame:\n",
    "    df_ls = []\n",
    "    label_array = np.empty(shape=(sum([len(dataset) for dataset in dataset_dict.values()])), dtype=object)\n",
    "    last_idx = -1\n",
    "\n",
    "    for label, dataset in dataset_dict.items():\n",
    "        new_last_idx = len(dataset) + last_idx\n",
    "        label_array.put(np.arange(last_idx+1, new_last_idx+1, 1), label)\n",
    "        last_idx = new_last_idx\n",
    "\n",
    "        df_ls.append(pd.DataFrame(dataset))\n",
    "\n",
    "    full_df = pd.concat(df_ls, ignore_index=True)\n",
    "    full_df[\"set\"] = label_array\n",
    "    full_df.insert(0, \"set\", full_df.pop(\"set\"))\n",
    "\n",
    "    return full_df"
   ]
  },
  {
   "cell_type": "code",
   "execution_count": 124,
   "id": "321846d4-f30f-46f6-b67d-cae6566f7ea0",
   "metadata": {},
   "outputs": [
    {
     "data": {
      "text/plain": [
       "DatasetDict({\n",
       "    train: Dataset({\n",
       "        features: ['labels', 'text'],\n",
       "        num_rows: 70000\n",
       "    })\n",
       "    validation: Dataset({\n",
       "        features: ['labels', 'text'],\n",
       "        num_rows: 10000\n",
       "    })\n",
       "    test: Dataset({\n",
       "        features: ['labels', 'text'],\n",
       "        num_rows: 10000\n",
       "    })\n",
       "})"
      ]
     },
     "execution_count": 124,
     "metadata": {},
     "output_type": "execute_result"
    }
   ],
   "source": [
    "from datasets import load_dataset\n",
    "\n",
    "\n",
    "dataset_dict = load_dataset(\"papluca/language-identification\")\n",
    "dataset_dict"
   ]
  },
  {
   "cell_type": "code",
   "execution_count": 125,
   "id": "fd8bd535-bb09-413a-b30b-cc3c978f93fd",
   "metadata": {},
   "outputs": [
    {
     "data": {
      "text/html": [
       "<div>\n",
       "<style scoped>\n",
       "    .dataframe tbody tr th:only-of-type {\n",
       "        vertical-align: middle;\n",
       "    }\n",
       "\n",
       "    .dataframe tbody tr th {\n",
       "        vertical-align: top;\n",
       "    }\n",
       "\n",
       "    .dataframe thead th {\n",
       "        text-align: right;\n",
       "    }\n",
       "</style>\n",
       "<table border=\"1\" class=\"dataframe\">\n",
       "  <thead>\n",
       "    <tr style=\"text-align: right;\">\n",
       "      <th></th>\n",
       "      <th>set</th>\n",
       "      <th>labels</th>\n",
       "      <th>text</th>\n",
       "    </tr>\n",
       "  </thead>\n",
       "  <tbody>\n",
       "    <tr>\n",
       "      <th>0</th>\n",
       "      <td>train</td>\n",
       "      <td>pt</td>\n",
       "      <td>os chefes de defesa da estónia, letónia, lituâ...</td>\n",
       "    </tr>\n",
       "    <tr>\n",
       "      <th>1</th>\n",
       "      <td>train</td>\n",
       "      <td>bg</td>\n",
       "      <td>размерът на хоризонталната мрежа може да бъде ...</td>\n",
       "    </tr>\n",
       "    <tr>\n",
       "      <th>2</th>\n",
       "      <td>train</td>\n",
       "      <td>zh</td>\n",
       "      <td>很好，以前从不去评价，不知道浪费了多少积分，现在知道积分可以换钱，就要好好评价了，后来我就把...</td>\n",
       "    </tr>\n",
       "    <tr>\n",
       "      <th>3</th>\n",
       "      <td>train</td>\n",
       "      <td>th</td>\n",
       "      <td>สำหรับ ของเก่า ที่ จริงจัง ลอง   honeychurch  ...</td>\n",
       "    </tr>\n",
       "    <tr>\n",
       "      <th>4</th>\n",
       "      <td>train</td>\n",
       "      <td>ru</td>\n",
       "      <td>Он увеличил давление .</td>\n",
       "    </tr>\n",
       "    <tr>\n",
       "      <th>...</th>\n",
       "      <td>...</td>\n",
       "      <td>...</td>\n",
       "      <td>...</td>\n",
       "    </tr>\n",
       "    <tr>\n",
       "      <th>89995</th>\n",
       "      <td>test</td>\n",
       "      <td>zh</td>\n",
       "      <td>史料很充分，对岸的很多观点与大陆迥异啊。</td>\n",
       "    </tr>\n",
       "    <tr>\n",
       "      <th>89996</th>\n",
       "      <td>test</td>\n",
       "      <td>tr</td>\n",
       "      <td>Örneğin, teşhis Yunanca bir kelimeden alındı (...</td>\n",
       "    </tr>\n",
       "    <tr>\n",
       "      <th>89997</th>\n",
       "      <td>test</td>\n",
       "      <td>vi</td>\n",
       "      <td>Nếu lite/light chỉ đơn giản là mô tả một đặc t...</td>\n",
       "    </tr>\n",
       "    <tr>\n",
       "      <th>89998</th>\n",
       "      <td>test</td>\n",
       "      <td>bg</td>\n",
       "      <td>Например, една щатска столица, която посетихме...</td>\n",
       "    </tr>\n",
       "    <tr>\n",
       "      <th>89999</th>\n",
       "      <td>test</td>\n",
       "      <td>pl</td>\n",
       "      <td>Mam dla ciebie kilka propozycji:</td>\n",
       "    </tr>\n",
       "  </tbody>\n",
       "</table>\n",
       "<p>90000 rows × 3 columns</p>\n",
       "</div>"
      ],
      "text/plain": [
       "         set labels                                               text\n",
       "0      train     pt  os chefes de defesa da estónia, letónia, lituâ...\n",
       "1      train     bg  размерът на хоризонталната мрежа може да бъде ...\n",
       "2      train     zh  很好，以前从不去评价，不知道浪费了多少积分，现在知道积分可以换钱，就要好好评价了，后来我就把...\n",
       "3      train     th  สำหรับ ของเก่า ที่ จริงจัง ลอง   honeychurch  ...\n",
       "4      train     ru                             Он увеличил давление .\n",
       "...      ...    ...                                                ...\n",
       "89995   test     zh                               史料很充分，对岸的很多观点与大陆迥异啊。\n",
       "89996   test     tr  Örneğin, teşhis Yunanca bir kelimeden alındı (...\n",
       "89997   test     vi  Nếu lite/light chỉ đơn giản là mô tả một đặc t...\n",
       "89998   test     bg  Например, една щатска столица, която посетихме...\n",
       "89999   test     pl                   Mam dla ciebie kilka propozycji:\n",
       "\n",
       "[90000 rows x 3 columns]"
      ]
     },
     "execution_count": 125,
     "metadata": {},
     "output_type": "execute_result"
    }
   ],
   "source": [
    "lang_df = dataset_to_pd(dataset_dict)\n",
    "lang_df"
   ]
  },
  {
   "cell_type": "code",
   "execution_count": 126,
   "id": "b65d7720-bf89-4b94-8283-4544209ea5be",
   "metadata": {
    "tags": []
   },
   "outputs": [
    {
     "data": {
      "text/html": [
       "<div>\n",
       "<style scoped>\n",
       "    .dataframe tbody tr th:only-of-type {\n",
       "        vertical-align: middle;\n",
       "    }\n",
       "\n",
       "    .dataframe tbody tr th {\n",
       "        vertical-align: top;\n",
       "    }\n",
       "\n",
       "    .dataframe thead th {\n",
       "        text-align: right;\n",
       "    }\n",
       "</style>\n",
       "<table border=\"1\" class=\"dataframe\">\n",
       "  <thead>\n",
       "    <tr style=\"text-align: right;\">\n",
       "      <th></th>\n",
       "      <th>labels</th>\n",
       "      <th>text</th>\n",
       "    </tr>\n",
       "  </thead>\n",
       "  <tbody>\n",
       "    <tr>\n",
       "      <th>18</th>\n",
       "      <td>el</td>\n",
       "      <td>Παρά τον εαυτό μου , η γνώμη μου για τη σύνεση...</td>\n",
       "    </tr>\n",
       "    <tr>\n",
       "      <th>39</th>\n",
       "      <td>en</td>\n",
       "      <td>Didnt really seem to work much.</td>\n",
       "    </tr>\n",
       "    <tr>\n",
       "      <th>40</th>\n",
       "      <td>el</td>\n",
       "      <td>Ακόμα και το να ξέρεις ότι ήταν ένα άγαλμα που...</td>\n",
       "    </tr>\n",
       "    <tr>\n",
       "      <th>49</th>\n",
       "      <td>en</td>\n",
       "      <td>Highly recommend for those who don't like bein...</td>\n",
       "    </tr>\n",
       "    <tr>\n",
       "      <th>75</th>\n",
       "      <td>el</td>\n",
       "      <td>Έχω κάνει τέσσερις ή πέντε .</td>\n",
       "    </tr>\n",
       "    <tr>\n",
       "      <th>...</th>\n",
       "      <td>...</td>\n",
       "      <td>...</td>\n",
       "    </tr>\n",
       "    <tr>\n",
       "      <th>89961</th>\n",
       "      <td>en</td>\n",
       "      <td>It's super cute, really soft. Print is fine bu...</td>\n",
       "    </tr>\n",
       "    <tr>\n",
       "      <th>89965</th>\n",
       "      <td>en</td>\n",
       "      <td>One of them worked, the other one didn't. Ther...</td>\n",
       "    </tr>\n",
       "    <tr>\n",
       "      <th>89978</th>\n",
       "      <td>en</td>\n",
       "      <td>I only received one out of the three strikers :(</td>\n",
       "    </tr>\n",
       "    <tr>\n",
       "      <th>89982</th>\n",
       "      <td>el</td>\n",
       "      <td>Οι οργανισμοί πρέπει να είναι σε θέση να μετρή...</td>\n",
       "    </tr>\n",
       "    <tr>\n",
       "      <th>89986</th>\n",
       "      <td>el</td>\n",
       "      <td>Το Abeam με την Arabella, απέναντι από το λιμά...</td>\n",
       "    </tr>\n",
       "  </tbody>\n",
       "</table>\n",
       "<p>9000 rows × 2 columns</p>\n",
       "</div>"
      ],
      "text/plain": [
       "      labels                                               text\n",
       "18        el  Παρά τον εαυτό μου , η γνώμη μου για τη σύνεση...\n",
       "39        en                    Didnt really seem to work much.\n",
       "40        el  Ακόμα και το να ξέρεις ότι ήταν ένα άγαλμα που...\n",
       "49        en  Highly recommend for those who don't like bein...\n",
       "75        el                       Έχω κάνει τέσσερις ή πέντε .\n",
       "...      ...                                                ...\n",
       "89961     en  It's super cute, really soft. Print is fine bu...\n",
       "89965     en  One of them worked, the other one didn't. Ther...\n",
       "89978     en   I only received one out of the three strikers :(\n",
       "89982     el  Οι οργανισμοί πρέπει να είναι σε θέση να μετρή...\n",
       "89986     el  Το Abeam με την Arabella, απέναντι από το λιμά...\n",
       "\n",
       "[9000 rows x 2 columns]"
      ]
     },
     "execution_count": 126,
     "metadata": {},
     "output_type": "execute_result"
    }
   ],
   "source": [
    "en_gr_cond = lang_df.labels.eq(\"el\") | lang_df.labels.eq(\"en\")\n",
    "en_gr_df = lang_df.loc[en_gr_cond, [\"labels\", \"text\"]]\n",
    "en_gr_df"
   ]
  },
  {
   "cell_type": "code",
   "execution_count": 127,
   "id": "68aa37a0-6802-471a-a55a-40636d718f12",
   "metadata": {},
   "outputs": [
    {
     "data": {
      "text/html": [
       "<div>\n",
       "<style scoped>\n",
       "    .dataframe tbody tr th:only-of-type {\n",
       "        vertical-align: middle;\n",
       "    }\n",
       "\n",
       "    .dataframe tbody tr th {\n",
       "        vertical-align: top;\n",
       "    }\n",
       "\n",
       "    .dataframe thead th {\n",
       "        text-align: right;\n",
       "    }\n",
       "</style>\n",
       "<table border=\"1\" class=\"dataframe\">\n",
       "  <thead>\n",
       "    <tr style=\"text-align: right;\">\n",
       "      <th></th>\n",
       "      <th>labels</th>\n",
       "      <th>text</th>\n",
       "    </tr>\n",
       "  </thead>\n",
       "  <tbody>\n",
       "    <tr>\n",
       "      <th>18812</th>\n",
       "      <td>other</td>\n",
       "      <td>Kwa miadi maalum tu unaweza kutembelea palazzo...</td>\n",
       "    </tr>\n",
       "    <tr>\n",
       "      <th>81669</th>\n",
       "      <td>other</td>\n",
       "      <td>Forças sírias invadiram o bastião rebelde</td>\n",
       "    </tr>\n",
       "    <tr>\n",
       "      <th>24995</th>\n",
       "      <td>other</td>\n",
       "      <td>Pas de très grande qualité, mais vu le prix on...</td>\n",
       "    </tr>\n",
       "    <tr>\n",
       "      <th>58555</th>\n",
       "      <td>other</td>\n",
       "      <td>33 bu büyüklükte ekipman , büyük bir kısmı , b...</td>\n",
       "    </tr>\n",
       "    <tr>\n",
       "      <th>61855</th>\n",
       "      <td>other</td>\n",
       "      <td>1865 . Haziran 1865 . ' de savaş esiri olarak ...</td>\n",
       "    </tr>\n",
       "    <tr>\n",
       "      <th>...</th>\n",
       "      <td>...</td>\n",
       "      <td>...</td>\n",
       "    </tr>\n",
       "    <tr>\n",
       "      <th>50926</th>\n",
       "      <td>other</td>\n",
       "      <td>Papież Franciszek potępia globalną obojętność ...</td>\n",
       "    </tr>\n",
       "    <tr>\n",
       "      <th>32238</th>\n",
       "      <td>other</td>\n",
       "      <td>\"Zeker wat we weten suggereert dat we wat ze z...</td>\n",
       "    </tr>\n",
       "    <tr>\n",
       "      <th>83216</th>\n",
       "      <td>other</td>\n",
       "      <td>Haznawi (Uçuş 93) ve Wail al Shehri (Uçuş 11) ...</td>\n",
       "    </tr>\n",
       "    <tr>\n",
       "      <th>24994</th>\n",
       "      <td>other</td>\n",
       "      <td>Obama renova oferta para cortar rede de segura...</td>\n",
       "    </tr>\n",
       "    <tr>\n",
       "      <th>9203</th>\n",
       "      <td>other</td>\n",
       "      <td>اوہ ، یہ ایک اچھا کام تھا کہ میں نے ایک طویل و...</td>\n",
       "    </tr>\n",
       "  </tbody>\n",
       "</table>\n",
       "<p>15000 rows × 2 columns</p>\n",
       "</div>"
      ],
      "text/plain": [
       "      labels                                               text\n",
       "18812  other  Kwa miadi maalum tu unaweza kutembelea palazzo...\n",
       "81669  other          Forças sírias invadiram o bastião rebelde\n",
       "24995  other  Pas de très grande qualité, mais vu le prix on...\n",
       "58555  other  33 bu büyüklükte ekipman , büyük bir kısmı , b...\n",
       "61855  other  1865 . Haziran 1865 . ' de savaş esiri olarak ...\n",
       "...      ...                                                ...\n",
       "50926  other  Papież Franciszek potępia globalną obojętność ...\n",
       "32238  other  \"Zeker wat we weten suggereert dat we wat ze z...\n",
       "83216  other  Haznawi (Uçuş 93) ve Wail al Shehri (Uçuş 11) ...\n",
       "24994  other  Obama renova oferta para cortar rede de segura...\n",
       "9203   other  اوہ ، یہ ایک اچھا کام تھا کہ میں نے ایک طویل و...\n",
       "\n",
       "[15000 rows x 2 columns]"
      ]
     },
     "execution_count": 127,
     "metadata": {},
     "output_type": "execute_result"
    }
   ],
   "source": [
    "others_df = lang_df.loc[~en_gr_cond, [\"labels\", \"text\"]]\n",
    "others_df = others_df.sample(15000)\n",
    "others_df.labels = \"other\"\n",
    "others_df"
   ]
  },
  {
   "cell_type": "code",
   "execution_count": 128,
   "id": "6b3b00e0-ad10-471d-bf7b-6ec73579d69a",
   "metadata": {},
   "outputs": [
    {
     "data": {
      "text/html": [
       "<div>\n",
       "<style scoped>\n",
       "    .dataframe tbody tr th:only-of-type {\n",
       "        vertical-align: middle;\n",
       "    }\n",
       "\n",
       "    .dataframe tbody tr th {\n",
       "        vertical-align: top;\n",
       "    }\n",
       "\n",
       "    .dataframe thead th {\n",
       "        text-align: right;\n",
       "    }\n",
       "</style>\n",
       "<table border=\"1\" class=\"dataframe\">\n",
       "  <thead>\n",
       "    <tr style=\"text-align: right;\">\n",
       "      <th></th>\n",
       "      <th>labels</th>\n",
       "      <th>text</th>\n",
       "    </tr>\n",
       "  </thead>\n",
       "  <tbody>\n",
       "    <tr>\n",
       "      <th>0</th>\n",
       "      <td>el</td>\n",
       "      <td>Παρά τον εαυτό μου , η γνώμη μου για τη σύνεση...</td>\n",
       "    </tr>\n",
       "    <tr>\n",
       "      <th>1</th>\n",
       "      <td>en</td>\n",
       "      <td>Didnt really seem to work much.</td>\n",
       "    </tr>\n",
       "    <tr>\n",
       "      <th>2</th>\n",
       "      <td>el</td>\n",
       "      <td>Ακόμα και το να ξέρεις ότι ήταν ένα άγαλμα που...</td>\n",
       "    </tr>\n",
       "    <tr>\n",
       "      <th>3</th>\n",
       "      <td>en</td>\n",
       "      <td>Highly recommend for those who don't like bein...</td>\n",
       "    </tr>\n",
       "    <tr>\n",
       "      <th>4</th>\n",
       "      <td>el</td>\n",
       "      <td>Έχω κάνει τέσσερις ή πέντε .</td>\n",
       "    </tr>\n",
       "    <tr>\n",
       "      <th>...</th>\n",
       "      <td>...</td>\n",
       "      <td>...</td>\n",
       "    </tr>\n",
       "    <tr>\n",
       "      <th>23995</th>\n",
       "      <td>other</td>\n",
       "      <td>Papież Franciszek potępia globalną obojętność ...</td>\n",
       "    </tr>\n",
       "    <tr>\n",
       "      <th>23996</th>\n",
       "      <td>other</td>\n",
       "      <td>\"Zeker wat we weten suggereert dat we wat ze z...</td>\n",
       "    </tr>\n",
       "    <tr>\n",
       "      <th>23997</th>\n",
       "      <td>other</td>\n",
       "      <td>Haznawi (Uçuş 93) ve Wail al Shehri (Uçuş 11) ...</td>\n",
       "    </tr>\n",
       "    <tr>\n",
       "      <th>23998</th>\n",
       "      <td>other</td>\n",
       "      <td>Obama renova oferta para cortar rede de segura...</td>\n",
       "    </tr>\n",
       "    <tr>\n",
       "      <th>23999</th>\n",
       "      <td>other</td>\n",
       "      <td>اوہ ، یہ ایک اچھا کام تھا کہ میں نے ایک طویل و...</td>\n",
       "    </tr>\n",
       "  </tbody>\n",
       "</table>\n",
       "<p>24000 rows × 2 columns</p>\n",
       "</div>"
      ],
      "text/plain": [
       "      labels                                               text\n",
       "0         el  Παρά τον εαυτό μου , η γνώμη μου για τη σύνεση...\n",
       "1         en                    Didnt really seem to work much.\n",
       "2         el  Ακόμα και το να ξέρεις ότι ήταν ένα άγαλμα που...\n",
       "3         en  Highly recommend for those who don't like bein...\n",
       "4         el                       Έχω κάνει τέσσερις ή πέντε .\n",
       "...      ...                                                ...\n",
       "23995  other  Papież Franciszek potępia globalną obojętność ...\n",
       "23996  other  \"Zeker wat we weten suggereert dat we wat ze z...\n",
       "23997  other  Haznawi (Uçuş 93) ve Wail al Shehri (Uçuş 11) ...\n",
       "23998  other  Obama renova oferta para cortar rede de segura...\n",
       "23999  other  اوہ ، یہ ایک اچھا کام تھا کہ میں نے ایک طویل و...\n",
       "\n",
       "[24000 rows x 2 columns]"
      ]
     },
     "execution_count": 128,
     "metadata": {},
     "output_type": "execute_result"
    }
   ],
   "source": [
    "gold1_df = pd.concat([en_gr_df, others_df], axis=0, ignore_index=True, copy=False)\n",
    "gold1_df"
   ]
  },
  {
   "cell_type": "markdown",
   "id": "c2697de5-d487-4603-8708-cc502034a3dd",
   "metadata": {},
   "source": [
    "### Greek-Greeklish identification dataset"
   ]
  },
  {
   "cell_type": "code",
   "execution_count": 129,
   "id": "fbf1b45a-9a2f-419e-b900-4c6e873349cc",
   "metadata": {},
   "outputs": [],
   "source": [
    "head_url = \"https://forum.warmane.com\"\n",
    "warmane_url = \"https://forum.warmane.com/forumdisplay.php?f=20\""
   ]
  },
  {
   "cell_type": "code",
   "execution_count": 130,
   "id": "03a32104-f828-44e2-b9e6-fb0a1d5bd71c",
   "metadata": {
    "tags": []
   },
   "outputs": [
    {
     "name": "stdout",
     "output_type": "stream",
     "text": [
      "Processing page 1 of 8...\n"
     ]
    },
    {
     "name": "stderr",
     "output_type": "stream",
     "text": [
      "100%|██████████████████████████████████████████████████████████████████████████████████| 20/20 [00:04<00:00,  4.72it/s]\n"
     ]
    },
    {
     "name": "stdout",
     "output_type": "stream",
     "text": [
      "Processing page 2 of 8...\n"
     ]
    },
    {
     "name": "stderr",
     "output_type": "stream",
     "text": [
      "100%|██████████████████████████████████████████████████████████████████████████████████| 20/20 [00:03<00:00,  5.64it/s]\n"
     ]
    },
    {
     "name": "stdout",
     "output_type": "stream",
     "text": [
      "Processing page 3 of 8...\n"
     ]
    },
    {
     "name": "stderr",
     "output_type": "stream",
     "text": [
      "100%|██████████████████████████████████████████████████████████████████████████████████| 20/20 [00:03<00:00,  5.45it/s]\n"
     ]
    },
    {
     "name": "stdout",
     "output_type": "stream",
     "text": [
      "Processing page 4 of 8...\n"
     ]
    },
    {
     "name": "stderr",
     "output_type": "stream",
     "text": [
      "100%|██████████████████████████████████████████████████████████████████████████████████| 20/20 [00:03<00:00,  5.04it/s]\n"
     ]
    },
    {
     "name": "stdout",
     "output_type": "stream",
     "text": [
      "Processing page 5 of 8...\n"
     ]
    },
    {
     "name": "stderr",
     "output_type": "stream",
     "text": [
      "100%|██████████████████████████████████████████████████████████████████████████████████| 20/20 [00:03<00:00,  5.29it/s]\n"
     ]
    },
    {
     "name": "stdout",
     "output_type": "stream",
     "text": [
      "Processing page 6 of 8...\n"
     ]
    },
    {
     "name": "stderr",
     "output_type": "stream",
     "text": [
      "100%|██████████████████████████████████████████████████████████████████████████████████| 20/20 [00:03<00:00,  5.59it/s]\n"
     ]
    },
    {
     "name": "stdout",
     "output_type": "stream",
     "text": [
      "Processing page 7 of 8...\n"
     ]
    },
    {
     "name": "stderr",
     "output_type": "stream",
     "text": [
      " 60%|█████████████████████████████████████████████████▏                                | 12/20 [00:02<00:01,  5.18it/s]"
     ]
    },
    {
     "name": "stdout",
     "output_type": "stream",
     "text": [
      "ERROR: Failed to get information on post  https://forum.warmane.com/showthread.php?t=272585\n"
     ]
    },
    {
     "name": "stderr",
     "output_type": "stream",
     "text": [
      "100%|██████████████████████████████████████████████████████████████████████████████████| 20/20 [00:03<00:00,  5.42it/s]\n"
     ]
    },
    {
     "name": "stdout",
     "output_type": "stream",
     "text": [
      "Processing page 8 of 8...\n"
     ]
    },
    {
     "name": "stderr",
     "output_type": "stream",
     "text": [
      " 75%|███████████████████████████████████████████████████████████████                     | 6/8 [00:01<00:00,  5.23it/s]"
     ]
    },
    {
     "name": "stdout",
     "output_type": "stream",
     "text": [
      "ERROR: Failed to get information on post  https://forum.warmane.com/showthread.php?t=278731\n"
     ]
    },
    {
     "name": "stderr",
     "output_type": "stream",
     "text": [
      "100%|████████████████████████████████████████████████████████████████████████████████████| 8/8 [00:01<00:00,  5.37it/s]\n"
     ]
    }
   ],
   "source": [
    "from src.util import fetch_soup\n",
    "from tasks.warmane import parse_warmane_thread\n",
    "from tqdm import tqdm\n",
    "\n",
    "\n",
    "threads = []\n",
    "\n",
    "for page in range(1, 9):\n",
    "    url = warmane_url + f\"&page={page}\"\n",
    "    soup = fetch_soup(url)\n",
    "\n",
    "    print(f\"Processing page {page} of 8...\")\n",
    "    thread_tags = soup.find_all(\"li\", {\"class\": \"threadbit\"})\n",
    "    for thread_tag in tqdm(thread_tags):\n",
    "        thread = parse_warmane_thread(head_url, thread_tag)\n",
    "        threads.append(thread)"
   ]
  },
  {
   "cell_type": "code",
   "execution_count": 131,
   "id": "e0d9a523-1311-4960-ab66-1f9b98c03729",
   "metadata": {
    "tags": []
   },
   "outputs": [
    {
     "data": {
      "text/plain": [
       "414"
      ]
     },
     "execution_count": 131,
     "metadata": {},
     "output_type": "execute_result"
    }
   ],
   "source": [
    "import itertools\n",
    "\n",
    "# flatten nested lists \n",
    "posts = set(itertools.chain.from_iterable([thread.posts for thread in threads]))\n",
    "len(posts)"
   ]
  },
  {
   "cell_type": "code",
   "execution_count": 132,
   "id": "2425baf7-a694-4a49-98c0-11d565c2cb98",
   "metadata": {
    "tags": []
   },
   "outputs": [
    {
     "data": {
      "text/html": [
       "<div>\n",
       "<style scoped>\n",
       "    .dataframe tbody tr th:only-of-type {\n",
       "        vertical-align: middle;\n",
       "    }\n",
       "\n",
       "    .dataframe tbody tr th {\n",
       "        vertical-align: top;\n",
       "    }\n",
       "\n",
       "    .dataframe thead th {\n",
       "        text-align: right;\n",
       "    }\n",
       "</style>\n",
       "<table border=\"1\" class=\"dataframe\">\n",
       "  <thead>\n",
       "    <tr style=\"text-align: right;\">\n",
       "      <th></th>\n",
       "      <th>thread_id</th>\n",
       "      <th>author</th>\n",
       "      <th>contents</th>\n",
       "      <th>date</th>\n",
       "      <th>reply_to</th>\n",
       "    </tr>\n",
       "    <tr>\n",
       "      <th>id</th>\n",
       "      <th></th>\n",
       "      <th></th>\n",
       "      <th></th>\n",
       "      <th></th>\n",
       "      <th></th>\n",
       "    </tr>\n",
       "  </thead>\n",
       "  <tbody>\n",
       "    <tr>\n",
       "      <th>2926596</th>\n",
       "      <td>384475</td>\n",
       "      <td>Ripsin</td>\n",
       "      <td>Kalhspera paides,\\n\\r\\nEimai arketo kairo ston...</td>\n",
       "      <td>2018-05-22</td>\n",
       "      <td>-1</td>\n",
       "    </tr>\n",
       "    <tr>\n",
       "      <th>2473988</th>\n",
       "      <td>300013</td>\n",
       "      <td>v4gflo</td>\n",
       "      <td>geia sas.psaxnw ellhniko guild ston Deathwing ...</td>\n",
       "      <td>2015-06-17</td>\n",
       "      <td>-1</td>\n",
       "    </tr>\n",
       "    <tr>\n",
       "      <th>2420747</th>\n",
       "      <td>290921</td>\n",
       "      <td>AlexPan</td>\n",
       "      <td>Καλησπέρα παιδιά, το πρόβλημα είναι το εξής. \\...</td>\n",
       "      <td>2015-03-24</td>\n",
       "      <td>-1</td>\n",
       "    </tr>\n",
       "    <tr>\n",
       "      <th>2981903</th>\n",
       "      <td>399822</td>\n",
       "      <td>xAchillesGate4x</td>\n",
       "      <td>Καλησπέρα παίδες. Ψάχνω Ελληνικό active raidin...</td>\n",
       "      <td>2019-03-03</td>\n",
       "      <td>-1</td>\n",
       "    </tr>\n",
       "    <tr>\n",
       "      <th>2879517</th>\n",
       "      <td>371804</td>\n",
       "      <td>Csdas</td>\n",
       "      <td>Opoios gnwrizei kati as mou kanei /w Dremoria ...</td>\n",
       "      <td>2017-11-29</td>\n",
       "      <td>-1</td>\n",
       "    </tr>\n",
       "    <tr>\n",
       "      <th>...</th>\n",
       "      <td>...</td>\n",
       "      <td>...</td>\n",
       "      <td>...</td>\n",
       "      <td>...</td>\n",
       "      <td>...</td>\n",
       "    </tr>\n",
       "    <tr>\n",
       "      <th>2877428</th>\n",
       "      <td>353812</td>\n",
       "      <td>Shiverbro</td>\n",
       "      <td>kalos private aksizei na ksekiniseis paidia?</td>\n",
       "      <td>2017-11-21</td>\n",
       "      <td>2875915</td>\n",
       "    </tr>\n",
       "    <tr>\n",
       "      <th>3069941</th>\n",
       "      <td>423611</td>\n",
       "      <td>crystallenia898</td>\n",
       "      <td>Ε μεις αυξανόμαστε και θα αρχίσουμε να στήνουμ...</td>\n",
       "      <td>2020-07-26</td>\n",
       "      <td>3068345</td>\n",
       "    </tr>\n",
       "    <tr>\n",
       "      <th>2801654</th>\n",
       "      <td>350071</td>\n",
       "      <td>Draculation</td>\n",
       "      <td>Bump! ICC25 6/12</td>\n",
       "      <td>2017-05-07</td>\n",
       "      <td>2795443</td>\n",
       "    </tr>\n",
       "    <tr>\n",
       "      <th>2873339</th>\n",
       "      <td>370241</td>\n",
       "      <td>Ripsin</td>\n",
       "      <td>Kalhspera tha ithela na rwthsw an kapoios gnwr...</td>\n",
       "      <td>2017-11-07</td>\n",
       "      <td>-1</td>\n",
       "    </tr>\n",
       "    <tr>\n",
       "      <th>2410495</th>\n",
       "      <td>289030</td>\n",
       "      <td>boolouk</td>\n",
       "      <td>Εμπειρια εχω, αλλα δεν εχω χρονο...αυτο ειναι ...</td>\n",
       "      <td>2015-03-13</td>\n",
       "      <td>2409274</td>\n",
       "    </tr>\n",
       "  </tbody>\n",
       "</table>\n",
       "<p>414 rows × 5 columns</p>\n",
       "</div>"
      ],
      "text/plain": [
       "         thread_id           author  \\\n",
       "id                                    \n",
       "2926596     384475           Ripsin   \n",
       "2473988     300013           v4gflo   \n",
       "2420747     290921          AlexPan   \n",
       "2981903     399822  xAchillesGate4x   \n",
       "2879517     371804            Csdas   \n",
       "...            ...              ...   \n",
       "2877428     353812        Shiverbro   \n",
       "3069941     423611  crystallenia898   \n",
       "2801654     350071      Draculation   \n",
       "2873339     370241           Ripsin   \n",
       "2410495     289030          boolouk   \n",
       "\n",
       "                                                  contents       date  \\\n",
       "id                                                                      \n",
       "2926596  Kalhspera paides,\\n\\r\\nEimai arketo kairo ston... 2018-05-22   \n",
       "2473988  geia sas.psaxnw ellhniko guild ston Deathwing ... 2015-06-17   \n",
       "2420747  Καλησπέρα παιδιά, το πρόβλημα είναι το εξής. \\... 2015-03-24   \n",
       "2981903  Καλησπέρα παίδες. Ψάχνω Ελληνικό active raidin... 2019-03-03   \n",
       "2879517  Opoios gnwrizei kati as mou kanei /w Dremoria ... 2017-11-29   \n",
       "...                                                    ...        ...   \n",
       "2877428       kalos private aksizei na ksekiniseis paidia? 2017-11-21   \n",
       "3069941  Ε μεις αυξανόμαστε και θα αρχίσουμε να στήνουμ... 2020-07-26   \n",
       "2801654                                   Bump! ICC25 6/12 2017-05-07   \n",
       "2873339  Kalhspera tha ithela na rwthsw an kapoios gnwr... 2017-11-07   \n",
       "2410495  Εμπειρια εχω, αλλα δεν εχω χρονο...αυτο ειναι ... 2015-03-13   \n",
       "\n",
       "         reply_to  \n",
       "id                 \n",
       "2926596        -1  \n",
       "2473988        -1  \n",
       "2420747        -1  \n",
       "2981903        -1  \n",
       "2879517        -1  \n",
       "...           ...  \n",
       "2877428   2875915  \n",
       "3069941   3068345  \n",
       "2801654   2795443  \n",
       "2873339        -1  \n",
       "2410495   2409274  \n",
       "\n",
       "[414 rows x 5 columns]"
      ]
     },
     "execution_count": 132,
     "metadata": {},
     "output_type": "execute_result"
    }
   ],
   "source": [
    "import pandas as pd\n",
    "\n",
    "warmane_df = pd.DataFrame.from_records([post.__dict__ for post in posts], index=\"id\")\n",
    "warmane_df.reply_to = warmane_df.reply_to.fillna(-1).astype(int)\n",
    "warmane_df"
   ]
  },
  {
   "cell_type": "code",
   "execution_count": 133,
   "id": "dbffc615-c381-41d5-b39f-0d25f77a63e2",
   "metadata": {
    "tags": []
   },
   "outputs": [
    {
     "data": {
      "text/html": [
       "<div>\n",
       "<style scoped>\n",
       "    .dataframe tbody tr th:only-of-type {\n",
       "        vertical-align: middle;\n",
       "    }\n",
       "\n",
       "    .dataframe tbody tr th {\n",
       "        vertical-align: top;\n",
       "    }\n",
       "\n",
       "    .dataframe thead th {\n",
       "        text-align: right;\n",
       "    }\n",
       "</style>\n",
       "<table border=\"1\" class=\"dataframe\">\n",
       "  <thead>\n",
       "    <tr style=\"text-align: right;\">\n",
       "      <th></th>\n",
       "      <th>thread_id</th>\n",
       "      <th>author</th>\n",
       "      <th>contents</th>\n",
       "      <th>date</th>\n",
       "      <th>reply_to</th>\n",
       "    </tr>\n",
       "    <tr>\n",
       "      <th>id</th>\n",
       "      <th></th>\n",
       "      <th></th>\n",
       "      <th></th>\n",
       "      <th></th>\n",
       "      <th></th>\n",
       "    </tr>\n",
       "  </thead>\n",
       "  <tbody>\n",
       "    <tr>\n",
       "      <th>3082464</th>\n",
       "      <td>427259</td>\n",
       "      <td>malakas17</td>\n",
       "      <td></td>\n",
       "      <td>2020-10-20</td>\n",
       "      <td>3081822</td>\n",
       "    </tr>\n",
       "    <tr>\n",
       "      <th>3113236</th>\n",
       "      <td>427259</td>\n",
       "      <td>malakas17</td>\n",
       "      <td></td>\n",
       "      <td>2021-05-12</td>\n",
       "      <td>3113009</td>\n",
       "    </tr>\n",
       "    <tr>\n",
       "      <th>3099161</th>\n",
       "      <td>431660</td>\n",
       "      <td>malakas17</td>\n",
       "      <td></td>\n",
       "      <td>2021-02-10</td>\n",
       "      <td>3096432</td>\n",
       "    </tr>\n",
       "    <tr>\n",
       "      <th>3113819</th>\n",
       "      <td>427259</td>\n",
       "      <td>malakas17</td>\n",
       "      <td></td>\n",
       "      <td>2021-05-16</td>\n",
       "      <td>3113236</td>\n",
       "    </tr>\n",
       "    <tr>\n",
       "      <th>3099593</th>\n",
       "      <td>427259</td>\n",
       "      <td>boonick</td>\n",
       "      <td></td>\n",
       "      <td>2021-02-14</td>\n",
       "      <td>3093400</td>\n",
       "    </tr>\n",
       "    <tr>\n",
       "      <th>3081820</th>\n",
       "      <td>427259</td>\n",
       "      <td>malakas17</td>\n",
       "      <td></td>\n",
       "      <td>2020-10-16</td>\n",
       "      <td>3080427</td>\n",
       "    </tr>\n",
       "    <tr>\n",
       "      <th>3081822</th>\n",
       "      <td>427259</td>\n",
       "      <td>malakas17</td>\n",
       "      <td></td>\n",
       "      <td>2020-10-16</td>\n",
       "      <td>3081820</td>\n",
       "    </tr>\n",
       "  </tbody>\n",
       "</table>\n",
       "</div>"
      ],
      "text/plain": [
       "         thread_id     author contents       date  reply_to\n",
       "id                                                         \n",
       "3082464     427259  malakas17          2020-10-20   3081822\n",
       "3113236     427259  malakas17          2021-05-12   3113009\n",
       "3099161     431660  malakas17          2021-02-10   3096432\n",
       "3113819     427259  malakas17          2021-05-16   3113236\n",
       "3099593     427259    boonick          2021-02-14   3093400\n",
       "3081820     427259  malakas17          2020-10-16   3080427\n",
       "3081822     427259  malakas17          2020-10-16   3081820"
      ]
     },
     "execution_count": 133,
     "metadata": {},
     "output_type": "execute_result"
    }
   ],
   "source": [
    "empty_contents = warmane_df.contents.apply(lambda x: x.isspace() | len(x)==0)\n",
    "warmane_df[empty_contents]"
   ]
  },
  {
   "cell_type": "code",
   "execution_count": 134,
   "id": "29103c28-5579-41e8-b33e-a9fa7a49428d",
   "metadata": {
    "tags": []
   },
   "outputs": [],
   "source": [
    "warmane_df = warmane_df[~empty_contents]"
   ]
  },
  {
   "cell_type": "code",
   "execution_count": 135,
   "id": "3c6bc888-adf2-4c94-bddf-4af870e9a0f6",
   "metadata": {
    "tags": []
   },
   "outputs": [],
   "source": [
    "regex_model = RegexClassifier(include_greeklish=False)\n",
    "preds = regex_model.predict(warmane_df.contents)"
   ]
  },
  {
   "cell_type": "code",
   "execution_count": 136,
   "id": "46995910-7936-46c4-ac34-611a8fdaa307",
   "metadata": {
    "tags": []
   },
   "outputs": [
    {
     "data": {
      "text/plain": [
       "id\n",
       "2926596    Kalhspera paides,\\n\\r\\nEimai arketo kairo ston...\n",
       "2473988    geia sas.psaxnw ellhniko guild ston Deathwing ...\n",
       "2879517    Opoios gnwrizei kati as mou kanei /w Dremoria ...\n",
       "2959390               Bubblethesap Icecrown wotlk horde belf\n",
       "2947119    den se vrisko kane add evvi  .\\nmou leei den u...\n",
       "                                 ...                        \n",
       "2557881                          Paokara einai padou file :P\n",
       "2602989    Me to plevro ton Allience ayti ti fora Oi <<An...\n",
       "2877428         kalos private aksizei na ksekiniseis paidia?\n",
       "2801654                                     Bump! ICC25 6/12\n",
       "2873339    Kalhspera tha ithela na rwthsw an kapoios gnwr...\n",
       "Name: contents, Length: 227, dtype: object"
      ]
     },
     "execution_count": 136,
     "metadata": {},
     "output_type": "execute_result"
    }
   ],
   "source": [
    "warmane_df[preds==\"en\"].contents"
   ]
  },
  {
   "cell_type": "code",
   "execution_count": 137,
   "id": "e1e87acd-db99-4c72-b226-207e8d84e1f0",
   "metadata": {
    "tags": []
   },
   "outputs": [
    {
     "data": {
      "text/plain": [
       "Series([], Name: contents, dtype: object)"
      ]
     },
     "execution_count": 137,
     "metadata": {},
     "output_type": "execute_result"
    }
   ],
   "source": [
    "warmane_df[preds==\"greeklish\"].contents"
   ]
  },
  {
   "cell_type": "code",
   "execution_count": 138,
   "id": "17442e3b-93c7-4a53-82c2-bd26c63b0f16",
   "metadata": {
    "tags": []
   },
   "outputs": [
    {
     "data": {
      "text/plain": [
       "id\n",
       "2420747    Καλησπέρα παιδιά, το πρόβλημα είναι το εξής. \\...\n",
       "2981903    Καλησπέρα παίδες. Ψάχνω Ελληνικό active raidin...\n",
       "2959391    Καλησπερα θα πας στις ιδιότητες (properties) σ...\n",
       "2719776    Originally Posted by celphecil\\n\\nΚαλησπέρα Σω...\n",
       "2971700    Ελληνικο guild , ψαχνουμε ατομα για runs ICC10...\n",
       "                                 ...                        \n",
       "2609122    πώρωση με τα μισά Dung, Quests και Raids bugge...\n",
       "2707437    Λοιπόν μαγες,ξέρει κάποιος γιατί δεν γίνεται ν...\n",
       "2777071    INACTIVE\\n\\n\\n <Northern Defiance>  Καινούργια...\n",
       "3069941    Ε μεις αυξανόμαστε και θα αρχίσουμε να στήνουμ...\n",
       "2410495    Εμπειρια εχω, αλλα δεν εχω χρονο...αυτο ειναι ...\n",
       "Name: contents, Length: 180, dtype: object"
      ]
     },
     "execution_count": 138,
     "metadata": {},
     "output_type": "execute_result"
    }
   ],
   "source": [
    "warmane_df[preds==\"el\"].contents"
   ]
  },
  {
   "cell_type": "code",
   "execution_count": 139,
   "id": "bba2d5fd-9fb7-4fd7-b8f5-a9944d337c07",
   "metadata": {
    "tags": []
   },
   "outputs": [
    {
     "data": {
      "text/html": [
       "<div>\n",
       "<style scoped>\n",
       "    .dataframe tbody tr th:only-of-type {\n",
       "        vertical-align: middle;\n",
       "    }\n",
       "\n",
       "    .dataframe tbody tr th {\n",
       "        vertical-align: top;\n",
       "    }\n",
       "\n",
       "    .dataframe thead th {\n",
       "        text-align: right;\n",
       "    }\n",
       "</style>\n",
       "<table border=\"1\" class=\"dataframe\">\n",
       "  <thead>\n",
       "    <tr style=\"text-align: right;\">\n",
       "      <th></th>\n",
       "      <th>labels</th>\n",
       "      <th>text</th>\n",
       "    </tr>\n",
       "    <tr>\n",
       "      <th>id</th>\n",
       "      <th></th>\n",
       "      <th></th>\n",
       "    </tr>\n",
       "  </thead>\n",
       "  <tbody>\n",
       "    <tr>\n",
       "      <th>2926596</th>\n",
       "      <td>greeklish</td>\n",
       "      <td>Kalhspera paides,\\n\\r\\nEimai arketo kairo ston...</td>\n",
       "    </tr>\n",
       "    <tr>\n",
       "      <th>2473988</th>\n",
       "      <td>greeklish</td>\n",
       "      <td>geia sas.psaxnw ellhniko guild ston Deathwing ...</td>\n",
       "    </tr>\n",
       "    <tr>\n",
       "      <th>2420747</th>\n",
       "      <td>el</td>\n",
       "      <td>Καλησπέρα παιδιά, το πρόβλημα είναι το εξής. \\...</td>\n",
       "    </tr>\n",
       "    <tr>\n",
       "      <th>2981903</th>\n",
       "      <td>el</td>\n",
       "      <td>Καλησπέρα παίδες. Ψάχνω Ελληνικό active raidin...</td>\n",
       "    </tr>\n",
       "    <tr>\n",
       "      <th>2879517</th>\n",
       "      <td>greeklish</td>\n",
       "      <td>Opoios gnwrizei kati as mou kanei /w Dremoria ...</td>\n",
       "    </tr>\n",
       "    <tr>\n",
       "      <th>...</th>\n",
       "      <td>...</td>\n",
       "      <td>...</td>\n",
       "    </tr>\n",
       "    <tr>\n",
       "      <th>2877428</th>\n",
       "      <td>greeklish</td>\n",
       "      <td>kalos private aksizei na ksekiniseis paidia?</td>\n",
       "    </tr>\n",
       "    <tr>\n",
       "      <th>3069941</th>\n",
       "      <td>el</td>\n",
       "      <td>Ε μεις αυξανόμαστε και θα αρχίσουμε να στήνουμ...</td>\n",
       "    </tr>\n",
       "    <tr>\n",
       "      <th>2801654</th>\n",
       "      <td>greeklish</td>\n",
       "      <td>Bump! ICC25 6/12</td>\n",
       "    </tr>\n",
       "    <tr>\n",
       "      <th>2873339</th>\n",
       "      <td>greeklish</td>\n",
       "      <td>Kalhspera tha ithela na rwthsw an kapoios gnwr...</td>\n",
       "    </tr>\n",
       "    <tr>\n",
       "      <th>2410495</th>\n",
       "      <td>el</td>\n",
       "      <td>Εμπειρια εχω, αλλα δεν εχω χρονο...αυτο ειναι ...</td>\n",
       "    </tr>\n",
       "  </tbody>\n",
       "</table>\n",
       "<p>407 rows × 2 columns</p>\n",
       "</div>"
      ],
      "text/plain": [
       "            labels                                               text\n",
       "id                                                                   \n",
       "2926596  greeklish  Kalhspera paides,\\n\\r\\nEimai arketo kairo ston...\n",
       "2473988  greeklish  geia sas.psaxnw ellhniko guild ston Deathwing ...\n",
       "2420747         el  Καλησπέρα παιδιά, το πρόβλημα είναι το εξής. \\...\n",
       "2981903         el  Καλησπέρα παίδες. Ψάχνω Ελληνικό active raidin...\n",
       "2879517  greeklish  Opoios gnwrizei kati as mou kanei /w Dremoria ...\n",
       "...            ...                                                ...\n",
       "2877428  greeklish       kalos private aksizei na ksekiniseis paidia?\n",
       "3069941         el  Ε μεις αυξανόμαστε και θα αρχίσουμε να στήνουμ...\n",
       "2801654  greeklish                                   Bump! ICC25 6/12\n",
       "2873339  greeklish  Kalhspera tha ithela na rwthsw an kapoios gnwr...\n",
       "2410495         el  Εμπειρια εχω, αλλα δεν εχω χρονο...αυτο ειναι ...\n",
       "\n",
       "[407 rows x 2 columns]"
      ]
     },
     "execution_count": 139,
     "metadata": {},
     "output_type": "execute_result"
    }
   ],
   "source": [
    "labels = np.where(preds==\"en\", \"greeklish\", \"el\")\n",
    "gold2_df = pd.DataFrame({\"labels\": labels, \"text\": warmane_df.contents})\n",
    "gold2_df"
   ]
  },
  {
   "cell_type": "code",
   "execution_count": 140,
   "id": "ff7306dd-67e1-4bf6-be4b-6c8974964b61",
   "metadata": {},
   "outputs": [
    {
     "data": {
      "text/html": [
       "<div>\n",
       "<style scoped>\n",
       "    .dataframe tbody tr th:only-of-type {\n",
       "        vertical-align: middle;\n",
       "    }\n",
       "\n",
       "    .dataframe tbody tr th {\n",
       "        vertical-align: top;\n",
       "    }\n",
       "\n",
       "    .dataframe thead th {\n",
       "        text-align: right;\n",
       "    }\n",
       "</style>\n",
       "<table border=\"1\" class=\"dataframe\">\n",
       "  <thead>\n",
       "    <tr style=\"text-align: right;\">\n",
       "      <th></th>\n",
       "      <th>labels</th>\n",
       "      <th>text</th>\n",
       "    </tr>\n",
       "  </thead>\n",
       "  <tbody>\n",
       "    <tr>\n",
       "      <th>0</th>\n",
       "      <td>el</td>\n",
       "      <td>Παρά τον εαυτό μου , η γνώμη μου για τη σύνεση...</td>\n",
       "    </tr>\n",
       "    <tr>\n",
       "      <th>1</th>\n",
       "      <td>en</td>\n",
       "      <td>Didnt really seem to work much.</td>\n",
       "    </tr>\n",
       "    <tr>\n",
       "      <th>2</th>\n",
       "      <td>el</td>\n",
       "      <td>Ακόμα και το να ξέρεις ότι ήταν ένα άγαλμα που...</td>\n",
       "    </tr>\n",
       "    <tr>\n",
       "      <th>3</th>\n",
       "      <td>en</td>\n",
       "      <td>Highly recommend for those who don't like bein...</td>\n",
       "    </tr>\n",
       "    <tr>\n",
       "      <th>4</th>\n",
       "      <td>el</td>\n",
       "      <td>Έχω κάνει τέσσερις ή πέντε .</td>\n",
       "    </tr>\n",
       "    <tr>\n",
       "      <th>...</th>\n",
       "      <td>...</td>\n",
       "      <td>...</td>\n",
       "    </tr>\n",
       "    <tr>\n",
       "      <th>2877428</th>\n",
       "      <td>greeklish</td>\n",
       "      <td>kalos private aksizei na ksekiniseis paidia?</td>\n",
       "    </tr>\n",
       "    <tr>\n",
       "      <th>3069941</th>\n",
       "      <td>el</td>\n",
       "      <td>Ε μεις αυξανόμαστε και θα αρχίσουμε να στήνουμ...</td>\n",
       "    </tr>\n",
       "    <tr>\n",
       "      <th>2801654</th>\n",
       "      <td>greeklish</td>\n",
       "      <td>Bump! ICC25 6/12</td>\n",
       "    </tr>\n",
       "    <tr>\n",
       "      <th>2873339</th>\n",
       "      <td>greeklish</td>\n",
       "      <td>Kalhspera tha ithela na rwthsw an kapoios gnwr...</td>\n",
       "    </tr>\n",
       "    <tr>\n",
       "      <th>2410495</th>\n",
       "      <td>el</td>\n",
       "      <td>Εμπειρια εχω, αλλα δεν εχω χρονο...αυτο ειναι ...</td>\n",
       "    </tr>\n",
       "  </tbody>\n",
       "</table>\n",
       "<p>24407 rows × 2 columns</p>\n",
       "</div>"
      ],
      "text/plain": [
       "            labels                                               text\n",
       "0               el  Παρά τον εαυτό μου , η γνώμη μου για τη σύνεση...\n",
       "1               en                    Didnt really seem to work much.\n",
       "2               el  Ακόμα και το να ξέρεις ότι ήταν ένα άγαλμα που...\n",
       "3               en  Highly recommend for those who don't like bein...\n",
       "4               el                       Έχω κάνει τέσσερις ή πέντε .\n",
       "...            ...                                                ...\n",
       "2877428  greeklish       kalos private aksizei na ksekiniseis paidia?\n",
       "3069941         el  Ε μεις αυξανόμαστε και θα αρχίσουμε να στήνουμ...\n",
       "2801654  greeklish                                   Bump! ICC25 6/12\n",
       "2873339  greeklish  Kalhspera tha ithela na rwthsw an kapoios gnwr...\n",
       "2410495         el  Εμπειρια εχω, αλλα δεν εχω χρονο...αυτο ειναι ...\n",
       "\n",
       "[24407 rows x 2 columns]"
      ]
     },
     "execution_count": 140,
     "metadata": {},
     "output_type": "execute_result"
    }
   ],
   "source": [
    "gold_df = pd.concat([gold1_df, gold2_df])\n",
    "gold_df"
   ]
  },
  {
   "cell_type": "code",
   "execution_count": 141,
   "id": "be21cbf4-0e05-490c-b6a2-3c68b425c89b",
   "metadata": {},
   "outputs": [],
   "source": [
    "import os\n",
    "\n",
    "\n",
    "OUTPUT_DIR = \"output\"\n",
    "\n",
    "def csv_output(df: pd.DataFrame, filename: str) -> None:\n",
    "    file = os.path.join(OUTPUT_DIR, filename)\n",
    "    df.to_csv(file)\n",
    "    print(f\"File saved successfully as {file}\")"
   ]
  },
  {
   "cell_type": "code",
   "execution_count": 142,
   "id": "95c8b92b-4bde-4c06-b92f-86d31c24e1a0",
   "metadata": {
    "tags": []
   },
   "outputs": [
    {
     "name": "stdout",
     "output_type": "stream",
     "text": [
      "File saved successfully as output\\gold.csv\n"
     ]
    }
   ],
   "source": [
    "csv_output(gold_df, \"gold.csv\")"
   ]
  },
  {
   "cell_type": "markdown",
   "id": "9345fd42-2426-4b4d-b7f6-e4e17fecb622",
   "metadata": {},
   "source": [
    "## Youtube Crawling"
   ]
  },
  {
   "cell_type": "code",
   "execution_count": 22,
   "id": "923224eb-9f12-44c7-b463-8fb262165bbb",
   "metadata": {
    "tags": []
   },
   "outputs": [],
   "source": [
    "from selenium.webdriver.chrome.service import Service\n",
    "from webdriver_manager.chrome import ChromeDriverManager\n",
    "from selenium import webdriver\n",
    "\n",
    "\n",
    "def new_driver():\n",
    "    try:\n",
    "        service = Service()\n",
    "    except Exception:\n",
    "        service = Service(ChromeDriverManager().install())\n",
    "    \n",
    "    options = webdriver.ChromeOptions()\n",
    "    options.add_experimental_option('excludeSwitches', ['enable-logging'])\n",
    "    options.add_argument(\"--headless\")\n",
    "    options.add_argument('--lang=en')\n",
    "    options.add_argument(\"user-agent=Mozilla/5.0 (Windows NT 10.0; Win64; x64) AppleWebKit/537.36 (KHTML, like Gecko) Chrome/104.0.0.0 Safari/537.36\")\n",
    "    \n",
    "    return webdriver.Chrome(service=service, options=options)"
   ]
  },
  {
   "cell_type": "code",
   "execution_count": 23,
   "id": "fc364ba5-43ef-41dc-b47e-7b593ff4adcd",
   "metadata": {
    "tags": []
   },
   "outputs": [
    {
     "name": "stdout",
     "output_type": "stream",
     "text": [
      "Scrolling (0 out of max 5)...\n",
      "Scrolling (1 out of max 5)...\n",
      "Scrolling (2 out of max 5)...\n",
      "Scrolling (3 out of max 5)...\n",
      "Scrolling (4 out of max 5)...\n",
      "Scrolling (5 out of max 5)...\n"
     ]
    }
   ],
   "source": [
    "from tasks.youtube import scrape_youtube, extract_search_results, extract_comments\n",
    "\n",
    "\n",
    "# \"greek songs\" search in Greek\n",
    "search_url = \"https://www.youtube.com/results?search_query=%CE%B5%CE%BB%CE%BB%CE%B7%CE%BD%CE%B9%CE%BA%CE%B1+%CF%84%CF%81%CE%B1%CE%B3%CE%BF%CF%85%CE%B4%CE%B9%CE%B1\"\n",
    "driver = new_driver()\n",
    "search_soup = scrape_youtube(driver, search_url, max_scrolls=5, verbose=True)\n",
    "driver.quit()"
   ]
  },
  {
   "cell_type": "code",
   "execution_count": 24,
   "id": "cccbdab7-02e4-4d4d-979d-7dcda9723c54",
   "metadata": {
    "tags": []
   },
   "outputs": [
    {
     "data": {
      "text/html": [
       "<div>\n",
       "<style scoped>\n",
       "    .dataframe tbody tr th:only-of-type {\n",
       "        vertical-align: middle;\n",
       "    }\n",
       "\n",
       "    .dataframe tbody tr th {\n",
       "        vertical-align: top;\n",
       "    }\n",
       "\n",
       "    .dataframe thead th {\n",
       "        text-align: right;\n",
       "    }\n",
       "</style>\n",
       "<table border=\"1\" class=\"dataframe\">\n",
       "  <thead>\n",
       "    <tr style=\"text-align: right;\">\n",
       "      <th></th>\n",
       "      <th>title</th>\n",
       "      <th>link</th>\n",
       "    </tr>\n",
       "  </thead>\n",
       "  <tbody>\n",
       "    <tr>\n",
       "      <th>0</th>\n",
       "      <td>\\n\\nΠου 'ναι τα χρόνια ! - 40 αθάνατα, αγαπημέ...</td>\n",
       "      <td>/watch?v=OdX0y96UPEA&amp;pp=ygUjzrXOu867zrfOvc65zr...</td>\n",
       "    </tr>\n",
       "    <tr>\n",
       "      <th>1</th>\n",
       "      <td>\\n\\nGreek Hits 2023 | Non-Stop Mix by Elegant ...</td>\n",
       "      <td>/watch?v=RcSAggke-_U&amp;pp=ygUjzrXOu867zrfOvc65zr...</td>\n",
       "    </tr>\n",
       "    <tr>\n",
       "      <th>2</th>\n",
       "      <td>\\n\\nAnastasia - Omorfi | Αναστασία - Όμορφη (O...</td>\n",
       "      <td>/watch?v=f8wpmLCmbas&amp;pp=ygUjzrXOu867zrfOvc65zr...</td>\n",
       "    </tr>\n",
       "    <tr>\n",
       "      <th>3</th>\n",
       "      <td>\\n\\nΜουσική ιστορία Νο.1 (μέρος πρώτο) - 100 χ...</td>\n",
       "      <td>/watch?v=p5g82ta4sTk&amp;pp=ygUjzrXOu867zrfOvc65zr...</td>\n",
       "    </tr>\n",
       "    <tr>\n",
       "      <th>4</th>\n",
       "      <td>\\n\\nGreek Ultra Hits Non Stop Mix By Nikos Hal...</td>\n",
       "      <td>/watch?v=KhCU68Eok9E&amp;pp=ygUjzrXOu867zrfOvc65zr...</td>\n",
       "    </tr>\n",
       "    <tr>\n",
       "      <th>...</th>\n",
       "      <td>...</td>\n",
       "      <td>...</td>\n",
       "    </tr>\n",
       "    <tr>\n",
       "      <th>125</th>\n",
       "      <td>\\n\\nΤΟ ΑΛΗΘΙΝΟ ΔΙΑΧΡΟΝΙΚΟ ΕΛΛΗΝΙΚΟ ΤΡΑΓΟΥΔΙ\\n</td>\n",
       "      <td>/watch?v=OtMFMWuQgCo&amp;pp=ygUjzrXOu867zrfOvc65zr...</td>\n",
       "    </tr>\n",
       "    <tr>\n",
       "      <th>126</th>\n",
       "      <td>\\n\\nΠάμε Τσάρκα και άλλα Χορευτικά Ρεμπέτικα -...</td>\n",
       "      <td>/watch?v=6pLSHcZbmEo&amp;pp=ygUjzrXOu867zrfOvc65zr...</td>\n",
       "    </tr>\n",
       "    <tr>\n",
       "      <th>127</th>\n",
       "      <td>\\n\\nNina Mazani - Άγχος (Από το “Ενκάντο: Ένας...</td>\n",
       "      <td>/watch?v=-hsjov_72W0&amp;pp=ygUjzrXOu867zrfOvc65zr...</td>\n",
       "    </tr>\n",
       "    <tr>\n",
       "      <th>128</th>\n",
       "      <td>\\n\\nΟ μεγάλος αδερφός και η μεγάλη αδερφή 👶 Πα...</td>\n",
       "      <td>/watch?v=6WsmRoBi_d8&amp;pp=ygUjzrXOu867zrfOvc65zr...</td>\n",
       "    </tr>\n",
       "    <tr>\n",
       "      <th>129</th>\n",
       "      <td>\\n\\nGreek PoP Summer Mix  ( Kohyli Beach Bar S...</td>\n",
       "      <td>/watch?v=Q6h_BrJGWDY&amp;pp=ygUjzrXOu867zrfOvc65zr...</td>\n",
       "    </tr>\n",
       "  </tbody>\n",
       "</table>\n",
       "<p>130 rows × 2 columns</p>\n",
       "</div>"
      ],
      "text/plain": [
       "                                                 title  \\\n",
       "0    \\n\\nΠου 'ναι τα χρόνια ! - 40 αθάνατα, αγαπημέ...   \n",
       "1    \\n\\nGreek Hits 2023 | Non-Stop Mix by Elegant ...   \n",
       "2    \\n\\nAnastasia - Omorfi | Αναστασία - Όμορφη (O...   \n",
       "3    \\n\\nΜουσική ιστορία Νο.1 (μέρος πρώτο) - 100 χ...   \n",
       "4    \\n\\nGreek Ultra Hits Non Stop Mix By Nikos Hal...   \n",
       "..                                                 ...   \n",
       "125      \\n\\nΤΟ ΑΛΗΘΙΝΟ ΔΙΑΧΡΟΝΙΚΟ ΕΛΛΗΝΙΚΟ ΤΡΑΓΟΥΔΙ\\n   \n",
       "126  \\n\\nΠάμε Τσάρκα και άλλα Χορευτικά Ρεμπέτικα -...   \n",
       "127  \\n\\nNina Mazani - Άγχος (Από το “Ενκάντο: Ένας...   \n",
       "128  \\n\\nΟ μεγάλος αδερφός και η μεγάλη αδερφή 👶 Πα...   \n",
       "129  \\n\\nGreek PoP Summer Mix  ( Kohyli Beach Bar S...   \n",
       "\n",
       "                                                  link  \n",
       "0    /watch?v=OdX0y96UPEA&pp=ygUjzrXOu867zrfOvc65zr...  \n",
       "1    /watch?v=RcSAggke-_U&pp=ygUjzrXOu867zrfOvc65zr...  \n",
       "2    /watch?v=f8wpmLCmbas&pp=ygUjzrXOu867zrfOvc65zr...  \n",
       "3    /watch?v=p5g82ta4sTk&pp=ygUjzrXOu867zrfOvc65zr...  \n",
       "4    /watch?v=KhCU68Eok9E&pp=ygUjzrXOu867zrfOvc65zr...  \n",
       "..                                                 ...  \n",
       "125  /watch?v=OtMFMWuQgCo&pp=ygUjzrXOu867zrfOvc65zr...  \n",
       "126  /watch?v=6pLSHcZbmEo&pp=ygUjzrXOu867zrfOvc65zr...  \n",
       "127  /watch?v=-hsjov_72W0&pp=ygUjzrXOu867zrfOvc65zr...  \n",
       "128  /watch?v=6WsmRoBi_d8&pp=ygUjzrXOu867zrfOvc65zr...  \n",
       "129  /watch?v=Q6h_BrJGWDY&pp=ygUjzrXOu867zrfOvc65zr...  \n",
       "\n",
       "[130 rows x 2 columns]"
      ]
     },
     "execution_count": 24,
     "metadata": {},
     "output_type": "execute_result"
    }
   ],
   "source": [
    "results = extract_search_results(search_soup)\n",
    "results_df = pd.DataFrame({\"title\": results[0], \"link\": results[1]})\n",
    "results_df"
   ]
  },
  {
   "cell_type": "code",
   "execution_count": 25,
   "id": "33ad8596-1462-41d4-a81f-2c00bf2d7e39",
   "metadata": {
    "tags": []
   },
   "outputs": [
    {
     "data": {
      "text/html": [
       "<div>\n",
       "<style scoped>\n",
       "    .dataframe tbody tr th:only-of-type {\n",
       "        vertical-align: middle;\n",
       "    }\n",
       "\n",
       "    .dataframe tbody tr th {\n",
       "        vertical-align: top;\n",
       "    }\n",
       "\n",
       "    .dataframe thead th {\n",
       "        text-align: right;\n",
       "    }\n",
       "</style>\n",
       "<table border=\"1\" class=\"dataframe\">\n",
       "  <thead>\n",
       "    <tr style=\"text-align: right;\">\n",
       "      <th></th>\n",
       "      <th>title</th>\n",
       "      <th>link</th>\n",
       "    </tr>\n",
       "  </thead>\n",
       "  <tbody>\n",
       "    <tr>\n",
       "      <th>0</th>\n",
       "      <td>Που 'ναι τα χρόνια ! - 40 αθάνατα, αγαπημένα, ...</td>\n",
       "      <td>https://www.youtube.com/watch?v=OdX0y96UPEA&amp;pp...</td>\n",
       "    </tr>\n",
       "    <tr>\n",
       "      <th>1</th>\n",
       "      <td>Greek Hits 2023 | Non-Stop Mix by Elegant Gree...</td>\n",
       "      <td>https://www.youtube.com/watch?v=RcSAggke-_U&amp;pp...</td>\n",
       "    </tr>\n",
       "    <tr>\n",
       "      <th>2</th>\n",
       "      <td>Anastasia - Omorfi | Αναστασία - Όμορφη (Offic...</td>\n",
       "      <td>https://www.youtube.com/watch?v=f8wpmLCmbas&amp;pp...</td>\n",
       "    </tr>\n",
       "    <tr>\n",
       "      <th>3</th>\n",
       "      <td>Μουσική ιστορία Νο.1 (μέρος πρώτο) - 100 χρυσά...</td>\n",
       "      <td>https://www.youtube.com/watch?v=p5g82ta4sTk&amp;pp...</td>\n",
       "    </tr>\n",
       "    <tr>\n",
       "      <th>4</th>\n",
       "      <td>Greek Ultra Hits Non Stop Mix By Nikos Halkous...</td>\n",
       "      <td>https://www.youtube.com/watch?v=KhCU68Eok9E&amp;pp...</td>\n",
       "    </tr>\n",
       "    <tr>\n",
       "      <th>...</th>\n",
       "      <td>...</td>\n",
       "      <td>...</td>\n",
       "    </tr>\n",
       "    <tr>\n",
       "      <th>125</th>\n",
       "      <td>ΤΟ ΑΛΗΘΙΝΟ ΔΙΑΧΡΟΝΙΚΟ ΕΛΛΗΝΙΚΟ ΤΡΑΓΟΥΔΙ</td>\n",
       "      <td>https://www.youtube.com/watch?v=OtMFMWuQgCo&amp;pp...</td>\n",
       "    </tr>\n",
       "    <tr>\n",
       "      <th>126</th>\n",
       "      <td>Πάμε Τσάρκα και άλλα Χορευτικά Ρεμπέτικα - Pam...</td>\n",
       "      <td>https://www.youtube.com/watch?v=6pLSHcZbmEo&amp;pp...</td>\n",
       "    </tr>\n",
       "    <tr>\n",
       "      <th>127</th>\n",
       "      <td>Nina Mazani - Άγχος (Από το “Ενκάντο: Ένας Κόσ...</td>\n",
       "      <td>https://www.youtube.com/watch?v=-hsjov_72W0&amp;pp...</td>\n",
       "    </tr>\n",
       "    <tr>\n",
       "      <th>128</th>\n",
       "      <td>Ο μεγάλος αδερφός και η μεγάλη αδερφή 👶 Παιδικ...</td>\n",
       "      <td>https://www.youtube.com/watch?v=6WsmRoBi_d8&amp;pp...</td>\n",
       "    </tr>\n",
       "    <tr>\n",
       "      <th>129</th>\n",
       "      <td>Greek PoP Summer Mix  ( Kohyli Beach Bar Sunda...</td>\n",
       "      <td>https://www.youtube.com/watch?v=Q6h_BrJGWDY&amp;pp...</td>\n",
       "    </tr>\n",
       "  </tbody>\n",
       "</table>\n",
       "<p>130 rows × 2 columns</p>\n",
       "</div>"
      ],
      "text/plain": [
       "                                                 title  \\\n",
       "0    Που 'ναι τα χρόνια ! - 40 αθάνατα, αγαπημένα, ...   \n",
       "1    Greek Hits 2023 | Non-Stop Mix by Elegant Gree...   \n",
       "2    Anastasia - Omorfi | Αναστασία - Όμορφη (Offic...   \n",
       "3    Μουσική ιστορία Νο.1 (μέρος πρώτο) - 100 χρυσά...   \n",
       "4    Greek Ultra Hits Non Stop Mix By Nikos Halkous...   \n",
       "..                                                 ...   \n",
       "125            ΤΟ ΑΛΗΘΙΝΟ ΔΙΑΧΡΟΝΙΚΟ ΕΛΛΗΝΙΚΟ ΤΡΑΓΟΥΔΙ   \n",
       "126  Πάμε Τσάρκα και άλλα Χορευτικά Ρεμπέτικα - Pam...   \n",
       "127  Nina Mazani - Άγχος (Από το “Ενκάντο: Ένας Κόσ...   \n",
       "128  Ο μεγάλος αδερφός και η μεγάλη αδερφή 👶 Παιδικ...   \n",
       "129  Greek PoP Summer Mix  ( Kohyli Beach Bar Sunda...   \n",
       "\n",
       "                                                  link  \n",
       "0    https://www.youtube.com/watch?v=OdX0y96UPEA&pp...  \n",
       "1    https://www.youtube.com/watch?v=RcSAggke-_U&pp...  \n",
       "2    https://www.youtube.com/watch?v=f8wpmLCmbas&pp...  \n",
       "3    https://www.youtube.com/watch?v=p5g82ta4sTk&pp...  \n",
       "4    https://www.youtube.com/watch?v=KhCU68Eok9E&pp...  \n",
       "..                                                 ...  \n",
       "125  https://www.youtube.com/watch?v=OtMFMWuQgCo&pp...  \n",
       "126  https://www.youtube.com/watch?v=6pLSHcZbmEo&pp...  \n",
       "127  https://www.youtube.com/watch?v=-hsjov_72W0&pp...  \n",
       "128  https://www.youtube.com/watch?v=6WsmRoBi_d8&pp...  \n",
       "129  https://www.youtube.com/watch?v=Q6h_BrJGWDY&pp...  \n",
       "\n",
       "[130 rows x 2 columns]"
      ]
     },
     "execution_count": 25,
     "metadata": {},
     "output_type": "execute_result"
    }
   ],
   "source": [
    "results_df.title = results_df.title.apply(lambda x: x.strip())\n",
    "results_df.link = results_df.link.apply(lambda x: \"https://www.youtube.com\" + x) \n",
    "results_df"
   ]
  },
  {
   "cell_type": "code",
   "execution_count": 26,
   "id": "1ef13a6a-2c51-419d-ba62-a58a7fd7e36a",
   "metadata": {
    "tags": []
   },
   "outputs": [
    {
     "data": {
      "text/html": [
       "<div>\n",
       "<style scoped>\n",
       "    .dataframe tbody tr th:only-of-type {\n",
       "        vertical-align: middle;\n",
       "    }\n",
       "\n",
       "    .dataframe tbody tr th {\n",
       "        vertical-align: top;\n",
       "    }\n",
       "\n",
       "    .dataframe thead th {\n",
       "        text-align: right;\n",
       "    }\n",
       "</style>\n",
       "<table border=\"1\" class=\"dataframe\">\n",
       "  <thead>\n",
       "    <tr style=\"text-align: right;\">\n",
       "      <th></th>\n",
       "      <th>title</th>\n",
       "      <th>link</th>\n",
       "    </tr>\n",
       "  </thead>\n",
       "  <tbody>\n",
       "    <tr>\n",
       "      <th>0</th>\n",
       "      <td>Που 'ναι τα χρόνια ! - 40 αθάνατα, αγαπημένα, ...</td>\n",
       "      <td>https://www.youtube.com/watch?v=OdX0y96UPEA&amp;pp...</td>\n",
       "    </tr>\n",
       "    <tr>\n",
       "      <th>2</th>\n",
       "      <td>Anastasia - Omorfi | Αναστασία - Όμορφη (Offic...</td>\n",
       "      <td>https://www.youtube.com/watch?v=f8wpmLCmbas&amp;pp...</td>\n",
       "    </tr>\n",
       "    <tr>\n",
       "      <th>3</th>\n",
       "      <td>Μουσική ιστορία Νο.1 (μέρος πρώτο) - 100 χρυσά...</td>\n",
       "      <td>https://www.youtube.com/watch?v=p5g82ta4sTk&amp;pp...</td>\n",
       "    </tr>\n",
       "    <tr>\n",
       "      <th>6</th>\n",
       "      <td>Αντώνης Ρέμος - Χίλια Σπίρτα - Official Music ...</td>\n",
       "      <td>https://www.youtube.com/watch?v=sTyGh6edBRQ&amp;pp...</td>\n",
       "    </tr>\n",
       "    <tr>\n",
       "      <th>8</th>\n",
       "      <td>40 ελληνικά τραγούδια από τα 60's (by Elias)</td>\n",
       "      <td>https://www.youtube.com/watch?v=WIiJc6_4khQ&amp;pp...</td>\n",
       "    </tr>\n",
       "    <tr>\n",
       "      <th>...</th>\n",
       "      <td>...</td>\n",
       "      <td>...</td>\n",
       "    </tr>\n",
       "    <tr>\n",
       "      <th>124</th>\n",
       "      <td>Greek Mix 2023 | Ελληνικά Remix | Galaxy Music</td>\n",
       "      <td>https://www.youtube.com/watch?v=NXFXiKjKgQg&amp;pp...</td>\n",
       "    </tr>\n",
       "    <tr>\n",
       "      <th>125</th>\n",
       "      <td>ΤΟ ΑΛΗΘΙΝΟ ΔΙΑΧΡΟΝΙΚΟ ΕΛΛΗΝΙΚΟ ΤΡΑΓΟΥΔΙ</td>\n",
       "      <td>https://www.youtube.com/watch?v=OtMFMWuQgCo&amp;pp...</td>\n",
       "    </tr>\n",
       "    <tr>\n",
       "      <th>126</th>\n",
       "      <td>Πάμε Τσάρκα και άλλα Χορευτικά Ρεμπέτικα - Pam...</td>\n",
       "      <td>https://www.youtube.com/watch?v=6pLSHcZbmEo&amp;pp...</td>\n",
       "    </tr>\n",
       "    <tr>\n",
       "      <th>127</th>\n",
       "      <td>Nina Mazani - Άγχος (Από το “Ενκάντο: Ένας Κόσ...</td>\n",
       "      <td>https://www.youtube.com/watch?v=-hsjov_72W0&amp;pp...</td>\n",
       "    </tr>\n",
       "    <tr>\n",
       "      <th>128</th>\n",
       "      <td>Ο μεγάλος αδερφός και η μεγάλη αδερφή 👶 Παιδικ...</td>\n",
       "      <td>https://www.youtube.com/watch?v=6WsmRoBi_d8&amp;pp...</td>\n",
       "    </tr>\n",
       "  </tbody>\n",
       "</table>\n",
       "<p>103 rows × 2 columns</p>\n",
       "</div>"
      ],
      "text/plain": [
       "                                                 title  \\\n",
       "0    Που 'ναι τα χρόνια ! - 40 αθάνατα, αγαπημένα, ...   \n",
       "2    Anastasia - Omorfi | Αναστασία - Όμορφη (Offic...   \n",
       "3    Μουσική ιστορία Νο.1 (μέρος πρώτο) - 100 χρυσά...   \n",
       "6    Αντώνης Ρέμος - Χίλια Σπίρτα - Official Music ...   \n",
       "8         40 ελληνικά τραγούδια από τα 60's (by Elias)   \n",
       "..                                                 ...   \n",
       "124     Greek Mix 2023 | Ελληνικά Remix | Galaxy Music   \n",
       "125            ΤΟ ΑΛΗΘΙΝΟ ΔΙΑΧΡΟΝΙΚΟ ΕΛΛΗΝΙΚΟ ΤΡΑΓΟΥΔΙ   \n",
       "126  Πάμε Τσάρκα και άλλα Χορευτικά Ρεμπέτικα - Pam...   \n",
       "127  Nina Mazani - Άγχος (Από το “Ενκάντο: Ένας Κόσ...   \n",
       "128  Ο μεγάλος αδερφός και η μεγάλη αδερφή 👶 Παιδικ...   \n",
       "\n",
       "                                                  link  \n",
       "0    https://www.youtube.com/watch?v=OdX0y96UPEA&pp...  \n",
       "2    https://www.youtube.com/watch?v=f8wpmLCmbas&pp...  \n",
       "3    https://www.youtube.com/watch?v=p5g82ta4sTk&pp...  \n",
       "6    https://www.youtube.com/watch?v=sTyGh6edBRQ&pp...  \n",
       "8    https://www.youtube.com/watch?v=WIiJc6_4khQ&pp...  \n",
       "..                                                 ...  \n",
       "124  https://www.youtube.com/watch?v=NXFXiKjKgQg&pp...  \n",
       "125  https://www.youtube.com/watch?v=OtMFMWuQgCo&pp...  \n",
       "126  https://www.youtube.com/watch?v=6pLSHcZbmEo&pp...  \n",
       "127  https://www.youtube.com/watch?v=-hsjov_72W0&pp...  \n",
       "128  https://www.youtube.com/watch?v=6WsmRoBi_d8&pp...  \n",
       "\n",
       "[103 rows x 2 columns]"
      ]
     },
     "execution_count": 26,
     "metadata": {},
     "output_type": "execute_result"
    }
   ],
   "source": [
    "greeklish_model = RegexClassifier(include_greeklish=True)\n",
    "preds = greeklish_model.predict(results_df.title)\n",
    "gr_res_df = results_df[(preds != \"en\") & (preds != None)]\n",
    "gr_res_df"
   ]
  },
  {
   "cell_type": "code",
   "execution_count": 27,
   "id": "4846afa7-1d7f-4fc2-8b79-7b2eca3bc418",
   "metadata": {},
   "outputs": [],
   "source": [
    "import threading\n",
    "\n",
    "\n",
    "driver = new_driver()\n",
    "\n",
    "def get_driver():\n",
    "    return driver\n",
    "\n",
    "def scrape_job(yt_url):\n",
    "    driver = get_driver()\n",
    "    try:\n",
    "        result = scrape_youtube(driver, yt_url, scroll_wait_secs=2,\n",
    "                       max_scrolls=5, verbose=False)\n",
    "    except Exception:\n",
    "        result = None\n",
    "    return yt_url, result"
   ]
  },
  {
   "cell_type": "code",
   "execution_count": 28,
   "id": "e711006a-ca32-4d6b-8a38-250ad1c5df61",
   "metadata": {},
   "outputs": [
    {
     "name": "stdout",
     "output_type": "stream",
     "text": [
      "Scrapping comments...\n"
     ]
    },
    {
     "name": "stderr",
     "output_type": "stream",
     "text": [
      "100%|██████████████████████████████████████████████████████████████████████████████████| 60/60 [02:18<00:00,  2.31s/it]\n"
     ]
    }
   ],
   "source": [
    "import concurrent.futures\n",
    "\n",
    "jobs = 8\n",
    "urls = gr_res_df.link[0:60]\n",
    "\n",
    "print(\"Scrapping comments...\")\n",
    "with concurrent.futures.ThreadPoolExecutor(max_workers=jobs) as executor:\n",
    "    results = list(tqdm(executor.map(scrape_job, urls), total=len(urls)))\n",
    "driver.quit()"
   ]
  },
  {
   "cell_type": "code",
   "execution_count": 29,
   "id": "b4fc7b1f-3bcc-4af6-a39e-e6af2f4ab52e",
   "metadata": {},
   "outputs": [],
   "source": [
    "from tasks.youtube import extract_comments\n",
    "\n",
    "\n",
    "scraped_urls = []\n",
    "comments = []\n",
    "dates = []\n",
    "\n",
    "for url, result in results:\n",
    "    if result is not None:\n",
    "        new_comments, new_dates = extract_comments(result)\n",
    "        comments += new_comments\n",
    "        dates += new_dates\n",
    "        scraped_urls += ([url] * len(new_comments))"
   ]
  },
  {
   "cell_type": "code",
   "execution_count": 30,
   "id": "c476b479-9f93-408c-bb09-4b114a037c15",
   "metadata": {
    "tags": []
   },
   "outputs": [
    {
     "data": {
      "text/html": [
       "<div>\n",
       "<style scoped>\n",
       "    .dataframe tbody tr th:only-of-type {\n",
       "        vertical-align: middle;\n",
       "    }\n",
       "\n",
       "    .dataframe tbody tr th {\n",
       "        vertical-align: top;\n",
       "    }\n",
       "\n",
       "    .dataframe thead th {\n",
       "        text-align: right;\n",
       "    }\n",
       "</style>\n",
       "<table border=\"1\" class=\"dataframe\">\n",
       "  <thead>\n",
       "    <tr style=\"text-align: right;\">\n",
       "      <th></th>\n",
       "      <th>video</th>\n",
       "      <th>text</th>\n",
       "      <th>date</th>\n",
       "    </tr>\n",
       "  </thead>\n",
       "  <tbody>\n",
       "    <tr>\n",
       "      <th>0</th>\n",
       "      <td>https://www.youtube.com/watch?v=OdX0y96UPEA&amp;pp...</td>\n",
       "      <td>Great songs of an amazing singer.  I had the o...</td>\n",
       "      <td>2022-11-25 10:14:43.874005</td>\n",
       "    </tr>\n",
       "    <tr>\n",
       "      <th>1</th>\n",
       "      <td>https://www.youtube.com/watch?v=OdX0y96UPEA&amp;pp...</td>\n",
       "      <td>τεράστιος και σε φωνή , και σε ψυχή .</td>\n",
       "      <td>2021-11-25 10:14:43.880144</td>\n",
       "    </tr>\n",
       "    <tr>\n",
       "      <th>2</th>\n",
       "      <td>https://www.youtube.com/watch?v=OdX0y96UPEA&amp;pp...</td>\n",
       "      <td>Ότι αρχίζει με χαρά τελειώνει με κάρα</td>\n",
       "      <td>2023-02-25 10:14:43.886325</td>\n",
       "    </tr>\n",
       "    <tr>\n",
       "      <th>3</th>\n",
       "      <td>https://www.youtube.com/watch?v=OdX0y96UPEA&amp;pp...</td>\n",
       "      <td>Ελληνικά τραγούδια , ελληνική ψυχή, ελληνικό μ...</td>\n",
       "      <td>2023-02-25 10:14:43.894323</td>\n",
       "    </tr>\n",
       "    <tr>\n",
       "      <th>4</th>\n",
       "      <td>https://www.youtube.com/watch?v=OdX0y96UPEA&amp;pp...</td>\n",
       "      <td>Η ωραιοτερη γνησια λαικη φωνη που υπαρχει τωρα...</td>\n",
       "      <td>2023-10-25 10:14:43.900553</td>\n",
       "    </tr>\n",
       "    <tr>\n",
       "      <th>...</th>\n",
       "      <td>...</td>\n",
       "      <td>...</td>\n",
       "      <td>...</td>\n",
       "    </tr>\n",
       "    <tr>\n",
       "      <th>861</th>\n",
       "      <td>https://www.youtube.com/watch?v=XvjZj1Ypcl8&amp;pp...</td>\n",
       "      <td>️️</td>\n",
       "      <td>2021-11-25 10:14:48.478917</td>\n",
       "    </tr>\n",
       "    <tr>\n",
       "      <th>862</th>\n",
       "      <td>https://www.youtube.com/watch?v=XvjZj1Ypcl8&amp;pp...</td>\n",
       "      <td>Ειμαι εδω και εισαι εκει</td>\n",
       "      <td>2021-11-25 10:14:48.481917</td>\n",
       "    </tr>\n",
       "    <tr>\n",
       "      <th>863</th>\n",
       "      <td>https://www.youtube.com/watch?v=XvjZj1Ypcl8&amp;pp...</td>\n",
       "      <td>️</td>\n",
       "      <td>2021-11-25 10:14:48.486157</td>\n",
       "    </tr>\n",
       "    <tr>\n",
       "      <th>864</th>\n",
       "      <td>https://www.youtube.com/watch?v=XvjZj1Ypcl8&amp;pp...</td>\n",
       "      <td>!</td>\n",
       "      <td>2022-11-25 10:14:48.490160</td>\n",
       "    </tr>\n",
       "    <tr>\n",
       "      <th>865</th>\n",
       "      <td>https://www.youtube.com/watch?v=XvjZj1Ypcl8&amp;pp...</td>\n",
       "      <td>X</td>\n",
       "      <td>2022-11-25 10:14:48.493158</td>\n",
       "    </tr>\n",
       "  </tbody>\n",
       "</table>\n",
       "<p>866 rows × 3 columns</p>\n",
       "</div>"
      ],
      "text/plain": [
       "                                                 video  \\\n",
       "0    https://www.youtube.com/watch?v=OdX0y96UPEA&pp...   \n",
       "1    https://www.youtube.com/watch?v=OdX0y96UPEA&pp...   \n",
       "2    https://www.youtube.com/watch?v=OdX0y96UPEA&pp...   \n",
       "3    https://www.youtube.com/watch?v=OdX0y96UPEA&pp...   \n",
       "4    https://www.youtube.com/watch?v=OdX0y96UPEA&pp...   \n",
       "..                                                 ...   \n",
       "861  https://www.youtube.com/watch?v=XvjZj1Ypcl8&pp...   \n",
       "862  https://www.youtube.com/watch?v=XvjZj1Ypcl8&pp...   \n",
       "863  https://www.youtube.com/watch?v=XvjZj1Ypcl8&pp...   \n",
       "864  https://www.youtube.com/watch?v=XvjZj1Ypcl8&pp...   \n",
       "865  https://www.youtube.com/watch?v=XvjZj1Ypcl8&pp...   \n",
       "\n",
       "                                                  text  \\\n",
       "0    Great songs of an amazing singer.  I had the o...   \n",
       "1                τεράστιος και σε φωνή , και σε ψυχή .   \n",
       "2               Ότι αρχίζει με χαρά τελειώνει με κάρα    \n",
       "3    Ελληνικά τραγούδια , ελληνική ψυχή, ελληνικό μ...   \n",
       "4    Η ωραιοτερη γνησια λαικη φωνη που υπαρχει τωρα...   \n",
       "..                                                 ...   \n",
       "861                                                 ️️   \n",
       "862                           Ειμαι εδω και εισαι εκει   \n",
       "863                                                  ️   \n",
       "864                                                  !   \n",
       "865                                                  X   \n",
       "\n",
       "                          date  \n",
       "0   2022-11-25 10:14:43.874005  \n",
       "1   2021-11-25 10:14:43.880144  \n",
       "2   2023-02-25 10:14:43.886325  \n",
       "3   2023-02-25 10:14:43.894323  \n",
       "4   2023-10-25 10:14:43.900553  \n",
       "..                         ...  \n",
       "861 2021-11-25 10:14:48.478917  \n",
       "862 2021-11-25 10:14:48.481917  \n",
       "863 2021-11-25 10:14:48.486157  \n",
       "864 2022-11-25 10:14:48.490160  \n",
       "865 2022-11-25 10:14:48.493158  \n",
       "\n",
       "[866 rows x 3 columns]"
      ]
     },
     "execution_count": 30,
     "metadata": {},
     "output_type": "execute_result"
    }
   ],
   "source": [
    "crawl_df = pd.DataFrame({\"video\": scraped_urls, \"text\": comments, \"date\": dates})\n",
    "crawl_df"
   ]
  },
  {
   "cell_type": "code",
   "execution_count": 31,
   "id": "3f4a3b8c-85b1-4e5f-993d-acdf84fcf92e",
   "metadata": {},
   "outputs": [
    {
     "data": {
      "text/plain": [
       "866"
      ]
     },
     "execution_count": 31,
     "metadata": {},
     "output_type": "execute_result"
    }
   ],
   "source": [
    "sum(crawl_df.date != None)"
   ]
  },
  {
   "cell_type": "code",
   "execution_count": 32,
   "id": "f37f9c73-a70f-48b2-a81c-f63252ae3d67",
   "metadata": {},
   "outputs": [
    {
     "data": {
      "text/html": [
       "<div>\n",
       "<style scoped>\n",
       "    .dataframe tbody tr th:only-of-type {\n",
       "        vertical-align: middle;\n",
       "    }\n",
       "\n",
       "    .dataframe tbody tr th {\n",
       "        vertical-align: top;\n",
       "    }\n",
       "\n",
       "    .dataframe thead th {\n",
       "        text-align: right;\n",
       "    }\n",
       "</style>\n",
       "<table border=\"1\" class=\"dataframe\">\n",
       "  <thead>\n",
       "    <tr style=\"text-align: right;\">\n",
       "      <th></th>\n",
       "      <th>video</th>\n",
       "      <th>text</th>\n",
       "      <th>date</th>\n",
       "    </tr>\n",
       "  </thead>\n",
       "  <tbody>\n",
       "  </tbody>\n",
       "</table>\n",
       "</div>"
      ],
      "text/plain": [
       "Empty DataFrame\n",
       "Columns: [video, text, date]\n",
       "Index: []"
      ]
     },
     "execution_count": 32,
     "metadata": {},
     "output_type": "execute_result"
    }
   ],
   "source": [
    "crawl_df[crawl_df.text.apply(lambda x: x.isspace())]"
   ]
  },
  {
   "cell_type": "code",
   "execution_count": 145,
   "id": "4de9d2e6-3d1a-4405-a09f-80f99cecbdbd",
   "metadata": {
    "tags": []
   },
   "outputs": [
    {
     "data": {
      "text/html": [
       "<div>\n",
       "<style scoped>\n",
       "    .dataframe tbody tr th:only-of-type {\n",
       "        vertical-align: middle;\n",
       "    }\n",
       "\n",
       "    .dataframe tbody tr th {\n",
       "        vertical-align: top;\n",
       "    }\n",
       "\n",
       "    .dataframe thead th {\n",
       "        text-align: right;\n",
       "    }\n",
       "</style>\n",
       "<table border=\"1\" class=\"dataframe\">\n",
       "  <thead>\n",
       "    <tr style=\"text-align: right;\">\n",
       "      <th></th>\n",
       "      <th>video</th>\n",
       "      <th>text</th>\n",
       "      <th>date</th>\n",
       "    </tr>\n",
       "  </thead>\n",
       "  <tbody>\n",
       "    <tr>\n",
       "      <th>0</th>\n",
       "      <td>https://www.youtube.com/watch?v=OdX0y96UPEA&amp;pp...</td>\n",
       "      <td>Great songs of an amazing singer.  I had the o...</td>\n",
       "      <td>2022-11-25 10:14:43.874005</td>\n",
       "    </tr>\n",
       "    <tr>\n",
       "      <th>5</th>\n",
       "      <td>https://www.youtube.com/watch?v=OdX0y96UPEA&amp;pp...</td>\n",
       "      <td>Очень красиво, влюбилась в голос ,песни и музы...</td>\n",
       "      <td>2021-11-25 10:14:43.904534</td>\n",
       "    </tr>\n",
       "    <tr>\n",
       "      <th>8</th>\n",
       "      <td>https://www.youtube.com/watch?v=OdX0y96UPEA&amp;pp...</td>\n",
       "      <td>Ela re Vasilis...love him from an Albanian in ...</td>\n",
       "      <td>2021-11-25 10:14:43.918941</td>\n",
       "    </tr>\n",
       "    <tr>\n",
       "      <th>10</th>\n",
       "      <td>https://www.youtube.com/watch?v=OdX0y96UPEA&amp;pp...</td>\n",
       "      <td>Can't believe his voice !!! incredible!!!</td>\n",
       "      <td>2023-10-25 10:14:43.928145</td>\n",
       "    </tr>\n",
       "    <tr>\n",
       "      <th>13</th>\n",
       "      <td>https://www.youtube.com/watch?v=OdX0y96UPEA&amp;pp...</td>\n",
       "      <td>Karras..the King of the night!!!! Love from Se...</td>\n",
       "      <td>2023-10-25 10:14:43.938331</td>\n",
       "    </tr>\n",
       "    <tr>\n",
       "      <th>...</th>\n",
       "      <td>...</td>\n",
       "      <td>...</td>\n",
       "      <td>...</td>\n",
       "    </tr>\n",
       "    <tr>\n",
       "      <th>843</th>\n",
       "      <td>https://www.youtube.com/watch?v=NnJYfR6aQ3s&amp;pp...</td>\n",
       "      <td>X</td>\n",
       "      <td>2022-11-25 10:14:48.367503</td>\n",
       "    </tr>\n",
       "    <tr>\n",
       "      <th>861</th>\n",
       "      <td>https://www.youtube.com/watch?v=XvjZj1Ypcl8&amp;pp...</td>\n",
       "      <td>️️</td>\n",
       "      <td>2021-11-25 10:14:48.478917</td>\n",
       "    </tr>\n",
       "    <tr>\n",
       "      <th>863</th>\n",
       "      <td>https://www.youtube.com/watch?v=XvjZj1Ypcl8&amp;pp...</td>\n",
       "      <td>️</td>\n",
       "      <td>2021-11-25 10:14:48.486157</td>\n",
       "    </tr>\n",
       "    <tr>\n",
       "      <th>864</th>\n",
       "      <td>https://www.youtube.com/watch?v=XvjZj1Ypcl8&amp;pp...</td>\n",
       "      <td>!</td>\n",
       "      <td>2022-11-25 10:14:48.490160</td>\n",
       "    </tr>\n",
       "    <tr>\n",
       "      <th>865</th>\n",
       "      <td>https://www.youtube.com/watch?v=XvjZj1Ypcl8&amp;pp...</td>\n",
       "      <td>X</td>\n",
       "      <td>2022-11-25 10:14:48.493158</td>\n",
       "    </tr>\n",
       "  </tbody>\n",
       "</table>\n",
       "<p>220 rows × 3 columns</p>\n",
       "</div>"
      ],
      "text/plain": [
       "                                                 video  \\\n",
       "0    https://www.youtube.com/watch?v=OdX0y96UPEA&pp...   \n",
       "5    https://www.youtube.com/watch?v=OdX0y96UPEA&pp...   \n",
       "8    https://www.youtube.com/watch?v=OdX0y96UPEA&pp...   \n",
       "10   https://www.youtube.com/watch?v=OdX0y96UPEA&pp...   \n",
       "13   https://www.youtube.com/watch?v=OdX0y96UPEA&pp...   \n",
       "..                                                 ...   \n",
       "843  https://www.youtube.com/watch?v=NnJYfR6aQ3s&pp...   \n",
       "861  https://www.youtube.com/watch?v=XvjZj1Ypcl8&pp...   \n",
       "863  https://www.youtube.com/watch?v=XvjZj1Ypcl8&pp...   \n",
       "864  https://www.youtube.com/watch?v=XvjZj1Ypcl8&pp...   \n",
       "865  https://www.youtube.com/watch?v=XvjZj1Ypcl8&pp...   \n",
       "\n",
       "                                                  text  \\\n",
       "0    Great songs of an amazing singer.  I had the o...   \n",
       "5    Очень красиво, влюбилась в голос ,песни и музы...   \n",
       "8    Ela re Vasilis...love him from an Albanian in ...   \n",
       "10           Can't believe his voice !!! incredible!!!   \n",
       "13   Karras..the King of the night!!!! Love from Se...   \n",
       "..                                                 ...   \n",
       "843                                                  X   \n",
       "861                                                 ️️   \n",
       "863                                                  ️   \n",
       "864                                                  !   \n",
       "865                                                  X   \n",
       "\n",
       "                          date  \n",
       "0   2022-11-25 10:14:43.874005  \n",
       "5   2021-11-25 10:14:43.904534  \n",
       "8   2021-11-25 10:14:43.918941  \n",
       "10  2023-10-25 10:14:43.928145  \n",
       "13  2023-10-25 10:14:43.938331  \n",
       "..                         ...  \n",
       "843 2022-11-25 10:14:48.367503  \n",
       "861 2021-11-25 10:14:48.478917  \n",
       "863 2021-11-25 10:14:48.486157  \n",
       "864 2022-11-25 10:14:48.490160  \n",
       "865 2022-11-25 10:14:48.493158  \n",
       "\n",
       "[220 rows x 3 columns]"
      ]
     },
     "execution_count": 145,
     "metadata": {},
     "output_type": "execute_result"
    }
   ],
   "source": [
    "preds = greeklish_model.predict(crawl_df.text)\n",
    "mask = (preds != \"el\") & (preds != \"greeklish\")\n",
    "crawl_df[mask]"
   ]
  },
  {
   "cell_type": "code",
   "execution_count": 35,
   "id": "bb7f6e4c-9678-4ea3-9c4f-a0121eac910e",
   "metadata": {
    "tags": []
   },
   "outputs": [
    {
     "name": "stdout",
     "output_type": "stream",
     "text": [
      "File saved successfully as output\\crawl.csv\n"
     ]
    }
   ],
   "source": [
    "csv_output(crawl_df, \"crawl.csv\")"
   ]
  },
  {
   "cell_type": "markdown",
   "id": "cf0324f7-ccbc-4157-983b-441cbb1c83c6",
   "metadata": {},
   "source": [
    "## Language Identification"
   ]
  },
  {
   "cell_type": "code",
   "execution_count": 154,
   "id": "852afc7e-a026-4457-9cfe-a451da710b32",
   "metadata": {
    "tags": []
   },
   "outputs": [
    {
     "data": {
      "text/html": [
       "<div>\n",
       "<style scoped>\n",
       "    .dataframe tbody tr th:only-of-type {\n",
       "        vertical-align: middle;\n",
       "    }\n",
       "\n",
       "    .dataframe tbody tr th {\n",
       "        vertical-align: top;\n",
       "    }\n",
       "\n",
       "    .dataframe thead th {\n",
       "        text-align: right;\n",
       "    }\n",
       "</style>\n",
       "<table border=\"1\" class=\"dataframe\">\n",
       "  <thead>\n",
       "    <tr style=\"text-align: right;\">\n",
       "      <th></th>\n",
       "      <th>labels</th>\n",
       "      <th>text</th>\n",
       "    </tr>\n",
       "  </thead>\n",
       "  <tbody>\n",
       "    <tr>\n",
       "      <th>23046</th>\n",
       "      <td>other</td>\n",
       "      <td>Hakuna kitu. tuppence nodded gloomily .</td>\n",
       "    </tr>\n",
       "    <tr>\n",
       "      <th>23212</th>\n",
       "      <td>other</td>\n",
       "      <td>Pense que era todo rosa pero solo son los bord...</td>\n",
       "    </tr>\n",
       "    <tr>\n",
       "      <th>18110</th>\n",
       "      <td>other</td>\n",
       "      <td>4人家族ですが、一食分に食器や調理器具まで含めて丁度良いサイズです。</td>\n",
       "    </tr>\n",
       "    <tr>\n",
       "      <th>22530</th>\n",
       "      <td>other</td>\n",
       "      <td>il fisico Danilov è stato condannato per aver ...</td>\n",
       "    </tr>\n",
       "    <tr>\n",
       "      <th>10563</th>\n",
       "      <td>other</td>\n",
       "      <td>उद ् देशिका राज ् य के लिए उद ् देशिका में विश...</td>\n",
       "    </tr>\n",
       "    <tr>\n",
       "      <th>...</th>\n",
       "      <td>...</td>\n",
       "      <td>...</td>\n",
       "    </tr>\n",
       "    <tr>\n",
       "      <th>23007</th>\n",
       "      <td>other</td>\n",
       "      <td>अल ् बानी में अल ् बेनी ने अल ् बेनी के कानूनी...</td>\n",
       "    </tr>\n",
       "    <tr>\n",
       "      <th>23607</th>\n",
       "      <td>other</td>\n",
       "      <td>หาก คุณ กำลัง เดินทาง ทางรถไฟ ยาว อย่า พึ่งพา ...</td>\n",
       "    </tr>\n",
       "    <tr>\n",
       "      <th>17279</th>\n",
       "      <td>other</td>\n",
       "      <td>げんこつの部分がプロテクターのせいで痛くなります。 通勤やちょっとお買い物に行く程度で使って...</td>\n",
       "    </tr>\n",
       "    <tr>\n",
       "      <th>5066</th>\n",
       "      <td>en</td>\n",
       "      <td>This product was not for dogs. Definitely for ...</td>\n",
       "    </tr>\n",
       "    <tr>\n",
       "      <th>534</th>\n",
       "      <td>el</td>\n",
       "      <td>Έχετε ένα χρηματοκιβώτιο εδώ ; τα φρύδια του τ...</td>\n",
       "    </tr>\n",
       "  </tbody>\n",
       "</table>\n",
       "<p>19525 rows × 2 columns</p>\n",
       "</div>"
      ],
      "text/plain": [
       "      labels                                               text\n",
       "23046  other            Hakuna kitu. tuppence nodded gloomily .\n",
       "23212  other  Pense que era todo rosa pero solo son los bord...\n",
       "18110  other                 4人家族ですが、一食分に食器や調理器具まで含めて丁度良いサイズです。\n",
       "22530  other  il fisico Danilov è stato condannato per aver ...\n",
       "10563  other  उद ् देशिका राज ् य के लिए उद ् देशिका में विश...\n",
       "...      ...                                                ...\n",
       "23007  other  अल ् बानी में अल ् बेनी ने अल ् बेनी के कानूनी...\n",
       "23607  other  หาก คุณ กำลัง เดินทาง ทางรถไฟ ยาว อย่า พึ่งพา ...\n",
       "17279  other  げんこつの部分がプロテクターのせいで痛くなります。 通勤やちょっとお買い物に行く程度で使って...\n",
       "5066      en  This product was not for dogs. Definitely for ...\n",
       "534       el  Έχετε ένα χρηματοκιβώτιο εδώ ; τα φρύδια του τ...\n",
       "\n",
       "[19525 rows x 2 columns]"
      ]
     },
     "execution_count": 154,
     "metadata": {},
     "output_type": "execute_result"
    }
   ],
   "source": [
    "from sklearn.model_selection import train_test_split\n",
    "\n",
    "\n",
    "data_train, data_test = train_test_split(gold_df, test_size=0.2, \n",
    "                                         random_state=42, stratify=gold_df.labels)\n",
    "data_train"
   ]
  },
  {
   "cell_type": "code",
   "execution_count": 155,
   "id": "0a182208-c3db-4892-8617-2209629396fd",
   "metadata": {
    "tags": []
   },
   "outputs": [
    {
     "data": {
      "text/plain": [
       "((19525, 79572), (19525,), (4882, 79572), (4882,))"
      ]
     },
     "execution_count": 155,
     "metadata": {},
     "output_type": "execute_result"
    }
   ],
   "source": [
    "from sklearn.feature_extraction.text import CountVectorizer, TfidfVectorizer\n",
    "\n",
    "\n",
    "vectorizer = TfidfVectorizer().fit(data_train.text)\n",
    "x_train = vectorizer.transform(data_train.text)\n",
    "y_train = data_train.labels\n",
    "x_test = vectorizer.transform(data_test.text)\n",
    "y_test = data_test.labels\n",
    "\n",
    "x_train.shape, y_train.shape, x_test.shape, y_test.shape"
   ]
  },
  {
   "cell_type": "code",
   "execution_count": 156,
   "id": "586c604d-1467-498c-9b04-57b00bf5db71",
   "metadata": {
    "tags": []
   },
   "outputs": [],
   "source": [
    "from sklearn.model_selection import cross_val_score\n",
    "\n",
    "\n",
    "def cross_val_res(model, x, y, scoring=None, cv=10):\n",
    "    if scoring is None:\n",
    "        scoring = \"f1_macro\"\n",
    "    res = cross_val_score(model, x, y, cv=cv, scoring=scoring)\n",
    "    return res"
   ]
  },
  {
   "cell_type": "markdown",
   "id": "10e77140-ffb9-41d2-9984-5764179617b3",
   "metadata": {},
   "source": [
    "### Dummy Classifier"
   ]
  },
  {
   "cell_type": "code",
   "execution_count": 157,
   "id": "a52c1a13-bf6a-4de9-a281-c43996874a5b",
   "metadata": {
    "tags": []
   },
   "outputs": [],
   "source": [
    "from sklearn.metrics import f1_score\n",
    "from sklearn.metrics import classification_report\n",
    "from sklearn.metrics import ConfusionMatrixDisplay\n",
    "import matplotlib.pyplot as plt\n",
    "import warnings\n",
    "\n",
    "\n",
    "def get_statistics(y_test, y_pred):\n",
    "    with warnings.catch_warnings():\n",
    "        warnings.simplefilter(\"ignore\")\n",
    "\n",
    "        print(f\"Macro F1: {f1_score(y_test, y_pred, average='macro', zero_division=0)}\")\n",
    "        print(classification_report(y_test, y_pred, zero_division=0))\n",
    "        ConfusionMatrixDisplay.from_predictions(y_test, \n",
    "                                                y_pred, \n",
    "                                                colorbar=True)\n",
    "        plt.show()"
   ]
  },
  {
   "cell_type": "code",
   "execution_count": 158,
   "id": "fc35cfee-456b-4ebb-a6bb-f91d7b8aa0c2",
   "metadata": {
    "tags": []
   },
   "outputs": [
    {
     "name": "stdout",
     "output_type": "stream",
     "text": [
      "Macro F1: 0.19030702867292565\n",
      "              precision    recall  f1-score   support\n",
      "\n",
      "          el       0.00      0.00      0.00       936\n",
      "          en       0.00      0.00      0.00       900\n",
      "   greeklish       0.00      0.00      0.00        46\n",
      "       other       0.61      1.00      0.76      3000\n",
      "\n",
      "    accuracy                           0.61      4882\n",
      "   macro avg       0.15      0.25      0.19      4882\n",
      "weighted avg       0.38      0.61      0.47      4882\n",
      "\n"
     ]
    },
    {
     "data": {
      "image/png": "[encoded data removed]",
      "text/plain": [
       "<Figure size 640x480 with 2 Axes>"
      ]
     },
     "metadata": {},
     "output_type": "display_data"
    }
   ],
   "source": [
    "from sklearn.dummy import DummyClassifier, DummyRegressor\n",
    "\n",
    "\n",
    "majority = DummyClassifier(strategy=\"most_frequent\")\n",
    "majority.fit(x_train, y_train)\n",
    "majority_res = majority.predict(x_test)\n",
    "\n",
    "get_statistics(y_test, majority_res)"
   ]
  },
  {
   "cell_type": "markdown",
   "id": "eb0b9c1a-4593-4890-9090-46b31dcc7866",
   "metadata": {},
   "source": [
    "### Regex Classification"
   ]
  },
  {
   "cell_type": "code",
   "execution_count": 159,
   "id": "0eb47656-a440-41c2-ae24-175969c76e06",
   "metadata": {
    "tags": []
   },
   "outputs": [
    {
     "name": "stdout",
     "output_type": "stream",
     "text": [
      "Regex Classifier mean macro F1: 0.5117, std: 0.5053\n"
     ]
    }
   ],
   "source": [
    "with warnings.catch_warnings():\n",
    "    warnings.simplefilter(\"ignore\")\n",
    "\n",
    "    regex_model = RegexClassifier()\n",
    "    res = cross_val_res(regex_model, data_train.text, y_train, scoring=\"f1_macro\")\n",
    "    print(f\"Regex Classifier mean macro F1: {res[0]:.4f}, std: {res[1]:.4f}\")"
   ]
  },
  {
   "cell_type": "code",
   "execution_count": 160,
   "id": "cdfa7f60-198c-4860-90a0-8f52e5b6151c",
   "metadata": {
    "tags": []
   },
   "outputs": [
    {
     "name": "stdout",
     "output_type": "stream",
     "text": [
      "Macro F1: 0.5148711759461488\n",
      "              precision    recall  f1-score   support\n",
      "\n",
      "          el       1.00      1.00      1.00       936\n",
      "          en       0.33      1.00      0.49       900\n",
      "   greeklish       0.00      0.00      0.00        46\n",
      "       other       1.00      0.40      0.57      3000\n",
      "\n",
      "    accuracy                           0.62      4882\n",
      "   macro avg       0.58      0.60      0.51      4882\n",
      "weighted avg       0.87      0.62      0.63      4882\n",
      "\n"
     ]
    },
    {
     "data": {
      "image/png": "[encoded data removed]",
      "text/plain": [
       "<Figure size 640x480 with 2 Axes>"
      ]
     },
     "metadata": {},
     "output_type": "display_data"
    }
   ],
   "source": [
    "regex_model = RegexClassifier(include_greeklish=True).fit(data_train.text, y_train)\n",
    "regex_res = regex_model.predict(data_test.text)\n",
    "get_statistics(y_test, regex_res)"
   ]
  },
  {
   "cell_type": "markdown",
   "id": "059ecd9d-3525-4f86-a102-5117125ddf5f",
   "metadata": {},
   "source": [
    "### Logistic Regression"
   ]
  },
  {
   "cell_type": "code",
   "execution_count": 161,
   "id": "51d879dd-7534-4cb6-b887-17bc89d3cb4c",
   "metadata": {
    "tags": []
   },
   "outputs": [
    {
     "name": "stdout",
     "output_type": "stream",
     "text": [
      "Logistic Regression mean macro F1-score 0.8149, std: 0.8535\n"
     ]
    }
   ],
   "source": [
    "from sklearn.linear_model import LogisticRegression\n",
    "\n",
    "\n",
    "with warnings.catch_warnings():\n",
    "    # ignore warnings about deprecated methods in libraries\n",
    "    warnings.simplefilter(\"ignore\")\n",
    "\n",
    "    lr = LogisticRegression(max_iter=1000)\n",
    "    res = cross_val_res(lr, x_train, y_train)\n",
    "    print(f\"Logistic Regression mean macro F1-score {res[0]:.4f}, std: {res[1]:.4f}\")"
   ]
  },
  {
   "cell_type": "code",
   "execution_count": 162,
   "id": "0fc257a8-a52f-4f5b-832d-2e6e8d57f112",
   "metadata": {
    "tags": []
   },
   "outputs": [
    {
     "name": "stdout",
     "output_type": "stream",
     "text": [
      "Macro F1: 0.894780192672954\n",
      "              precision    recall  f1-score   support\n",
      "\n",
      "          el       1.00      0.94      0.97       936\n",
      "          en       0.99      0.97      0.98       900\n",
      "   greeklish       1.00      0.48      0.65        46\n",
      "       other       0.97      1.00      0.98      3000\n",
      "\n",
      "    accuracy                           0.98      4882\n",
      "   macro avg       0.99      0.85      0.89      4882\n",
      "weighted avg       0.98      0.98      0.98      4882\n",
      "\n"
     ]
    },
    {
     "data": {
      "image/png": "[encoded data removed]",
      "text/plain": [
       "<Figure size 640x480 with 2 Axes>"
      ]
     },
     "metadata": {},
     "output_type": "display_data"
    }
   ],
   "source": [
    "with warnings.catch_warnings():\n",
    "    warnings.simplefilter(\"ignore\")\n",
    "    lr = LogisticRegression(max_iter=1000).fit(x_train, y_train)\n",
    "    lr_res = lr.predict(x_test)\n",
    "\n",
    "get_statistics(y_test, lr_res)"
   ]
  },
  {
   "cell_type": "code",
   "execution_count": 175,
   "id": "2e25433a-8668-415c-9f9c-744d4c2075cf",
   "metadata": {},
   "outputs": [
    {
     "name": "stdout",
     "output_type": "stream",
     "text": [
      "Random Forest mean macro F1: 0.9204, std: 0.9572\n"
     ]
    }
   ],
   "source": [
    "from sklearn.ensemble import RandomForestClassifier\n",
    "\n",
    "\n",
    "forest_model = RandomForestClassifier(n_estimators=50, \n",
    "                                      n_jobs=-1, \n",
    "                                      criterion=\"entropy\")\n",
    "res = cross_val_res(forest_model, x_train, y_train, cv=3)\n",
    "print(f\"Random Forest mean macro F1: {res[0]:.4f}, std: {res[1]:.4f}\")"
   ]
  },
  {
   "cell_type": "code",
   "execution_count": 176,
   "id": "11adac17-016c-4c15-8f84-71818e662763",
   "metadata": {},
   "outputs": [
    {
     "name": "stderr",
     "output_type": "stream",
     "text": [
      "[Parallel(n_jobs=-1)]: Using backend ThreadingBackend with 8 concurrent workers.\n",
      "[Parallel(n_jobs=-1)]: Done  34 tasks      | elapsed:    7.4s\n",
      "[Parallel(n_jobs=-1)]: Done 100 out of 100 | elapsed:   19.4s finished\n",
      "[Parallel(n_jobs=8)]: Using backend ThreadingBackend with 8 concurrent workers.\n",
      "[Parallel(n_jobs=8)]: Done  34 tasks      | elapsed:    0.0s\n",
      "[Parallel(n_jobs=8)]: Done 100 out of 100 | elapsed:    0.1s finished\n"
     ]
    },
    {
     "name": "stdout",
     "output_type": "stream",
     "text": [
      "Macro F1: 0.9671805092315233\n",
      "              precision    recall  f1-score   support\n",
      "\n",
      "          el       1.00      0.99      0.99       936\n",
      "          en       0.98      1.00      0.99       900\n",
      "   greeklish       0.97      0.83      0.89        46\n",
      "       other       0.99      0.99      0.99      3000\n",
      "\n",
      "    accuracy                           0.99      4882\n",
      "   macro avg       0.99      0.95      0.97      4882\n",
      "weighted avg       0.99      0.99      0.99      4882\n",
      "\n"
     ]
    },
    {
     "data": {
      "image/png": "[encoded data removed]",
      "text/plain": [
       "<Figure size 640x480 with 2 Axes>"
      ]
     },
     "metadata": {},
     "output_type": "display_data"
    }
   ],
   "source": [
    "from sklearn.ensemble import RandomForestClassifier\n",
    "\n",
    "\n",
    "forest_model = RandomForestClassifier(n_estimators=100, \n",
    "                                      n_jobs=-1, \n",
    "                                      criterion=\"entropy\", \n",
    "                                      verbose=1).fit(x_train, y_train)\n",
    "forest_pred = forest_model.predict(x_test)\n",
    "get_statistics(y_test, forest_pred)"
   ]
  },
  {
   "cell_type": "markdown",
   "id": "bfc319b9-5825-43be-88d5-707ed906d325",
   "metadata": {},
   "source": [
    "### Adaboost"
   ]
  },
  {
   "cell_type": "code",
   "execution_count": 178,
   "id": "e6518279-b235-4598-aff5-6a7865c3a68b",
   "metadata": {},
   "outputs": [
    {
     "name": "stdout",
     "output_type": "stream",
     "text": [
      "AdaBoost mean macro F1: 0.8448, std: 0.8997\n"
     ]
    }
   ],
   "source": [
    "from sklearn.ensemble import AdaBoostClassifier\n",
    "\n",
    "\n",
    "ada_model = AdaBoostClassifier(n_estimators=50)\n",
    "res = cross_val_res(ada_model, x_train, y_train, cv=3)\n",
    "print(f\"AdaBoost mean macro F1: {res[0]:.4f}, std: {res[1]:.4f}\")"
   ]
  },
  {
   "cell_type": "code",
   "execution_count": 179,
   "id": "285ec6f1-717a-48a8-8a8b-3d9e93caa531",
   "metadata": {},
   "outputs": [
    {
     "name": "stdout",
     "output_type": "stream",
     "text": [
      "Macro F1: 0.9076711010956788\n",
      "              precision    recall  f1-score   support\n",
      "\n",
      "          el       0.99      0.93      0.96       936\n",
      "          en       0.99      0.94      0.96       900\n",
      "   greeklish       0.96      0.59      0.73        46\n",
      "       other       0.96      1.00      0.98      3000\n",
      "\n",
      "    accuracy                           0.97      4882\n",
      "   macro avg       0.98      0.86      0.91      4882\n",
      "weighted avg       0.97      0.97      0.97      4882\n",
      "\n"
     ]
    },
    {
     "data": {
      "image/png": "[encoded data removed]",
      "text/plain": [
       "<Figure size 640x480 with 2 Axes>"
      ]
     },
     "metadata": {},
     "output_type": "display_data"
    }
   ],
   "source": [
    "ada_model = AdaBoostClassifier(n_estimators=100).fit(x_train, y_train)\n",
    "ada_pred = ada_model.predict(x_test)\n",
    "get_statistics(y_test, ada_pred)"
   ]
  },
  {
   "cell_type": "code",
   "execution_count": 180,
   "id": "e185b12c-828e-4d51-a4dd-e47183ddb0eb",
   "metadata": {},
   "outputs": [
    {
     "data": {
      "text/html": [
       "<div>\n",
       "<style scoped>\n",
       "    .dataframe tbody tr th:only-of-type {\n",
       "        vertical-align: middle;\n",
       "    }\n",
       "\n",
       "    .dataframe tbody tr th {\n",
       "        vertical-align: top;\n",
       "    }\n",
       "\n",
       "    .dataframe thead th {\n",
       "        text-align: right;\n",
       "    }\n",
       "</style>\n",
       "<table border=\"1\" class=\"dataframe\">\n",
       "  <thead>\n",
       "    <tr style=\"text-align: right;\">\n",
       "      <th></th>\n",
       "      <th>predicted</th>\n",
       "      <th>actual</th>\n",
       "      <th>text</th>\n",
       "    </tr>\n",
       "  </thead>\n",
       "  <tbody>\n",
       "    <tr>\n",
       "      <th>3598</th>\n",
       "      <td>other</td>\n",
       "      <td>el</td>\n",
       "      <td>Ο Γ. Πιτ έχει εκατοντάδες παραλίες , από μικρο...</td>\n",
       "    </tr>\n",
       "    <tr>\n",
       "      <th>3279</th>\n",
       "      <td>other</td>\n",
       "      <td>en</td>\n",
       "      <td>Didn't last a week after using.</td>\n",
       "    </tr>\n",
       "    <tr>\n",
       "      <th>6494</th>\n",
       "      <td>other</td>\n",
       "      <td>el</td>\n",
       "      <td>Εις βάρος της μεσαίας τάξης .</td>\n",
       "    </tr>\n",
       "    <tr>\n",
       "      <th>8423</th>\n",
       "      <td>other</td>\n",
       "      <td>en</td>\n",
       "      <td>It already stopped working. It no longer charges.</td>\n",
       "    </tr>\n",
       "    <tr>\n",
       "      <th>5526</th>\n",
       "      <td>other</td>\n",
       "      <td>el</td>\n",
       "      <td>Ο ' λφρεντ ίγκλθορπ , φυσικά !</td>\n",
       "    </tr>\n",
       "    <tr>\n",
       "      <th>...</th>\n",
       "      <td>...</td>\n",
       "      <td>...</td>\n",
       "      <td>...</td>\n",
       "    </tr>\n",
       "    <tr>\n",
       "      <th>6290</th>\n",
       "      <td>other</td>\n",
       "      <td>el</td>\n",
       "      <td>Κύριε , μου χάλασες τη μέρα .</td>\n",
       "    </tr>\n",
       "    <tr>\n",
       "      <th>2010</th>\n",
       "      <td>other</td>\n",
       "      <td>en</td>\n",
       "      <td>if something spills inside it will leak if you...</td>\n",
       "    </tr>\n",
       "    <tr>\n",
       "      <th>4468</th>\n",
       "      <td>other</td>\n",
       "      <td>en</td>\n",
       "      <td>Similar to other books</td>\n",
       "    </tr>\n",
       "    <tr>\n",
       "      <th>2558328</th>\n",
       "      <td>el</td>\n",
       "      <td>greeklish</td>\n",
       "      <td>ti 8a kanete kamia guild h mpa?</td>\n",
       "    </tr>\n",
       "    <tr>\n",
       "      <th>6382</th>\n",
       "      <td>other</td>\n",
       "      <td>en</td>\n",
       "      <td>Very little but it looks nice</td>\n",
       "    </tr>\n",
       "  </tbody>\n",
       "</table>\n",
       "<p>149 rows × 3 columns</p>\n",
       "</div>"
      ],
      "text/plain": [
       "        predicted     actual  \\\n",
       "3598        other         el   \n",
       "3279        other         en   \n",
       "6494        other         el   \n",
       "8423        other         en   \n",
       "5526        other         el   \n",
       "...           ...        ...   \n",
       "6290        other         el   \n",
       "2010        other         en   \n",
       "4468        other         en   \n",
       "2558328        el  greeklish   \n",
       "6382        other         en   \n",
       "\n",
       "                                                      text  \n",
       "3598     Ο Γ. Πιτ έχει εκατοντάδες παραλίες , από μικρο...  \n",
       "3279                       Didn't last a week after using.  \n",
       "6494                         Εις βάρος της μεσαίας τάξης .  \n",
       "8423     It already stopped working. It no longer charges.  \n",
       "5526                        Ο ' λφρεντ ίγκλθορπ , φυσικά !  \n",
       "...                                                    ...  \n",
       "6290                         Κύριε , μου χάλασες τη μέρα .  \n",
       "2010     if something spills inside it will leak if you...  \n",
       "4468                                Similar to other books  \n",
       "2558328                    ti 8a kanete kamia guild h mpa?  \n",
       "6382                         Very little but it looks nice  \n",
       "\n",
       "[149 rows x 3 columns]"
      ]
     },
     "execution_count": 180,
     "metadata": {},
     "output_type": "execute_result"
    }
   ],
   "source": [
    "missed = y_test != ada_pred\n",
    "pd.DataFrame({\"predicted\": ada_pred[missed], \"actual\": data_test[missed].labels, \"text\": data_test[missed].text})"
   ]
  },
  {
   "cell_type": "code",
   "execution_count": 181,
   "id": "36893bd6-9b9f-4aa1-b2d3-07ecdbb70f3a",
   "metadata": {},
   "outputs": [
    {
     "data": {
      "text/html": [
       "<div>\n",
       "<style scoped>\n",
       "    .dataframe tbody tr th:only-of-type {\n",
       "        vertical-align: middle;\n",
       "    }\n",
       "\n",
       "    .dataframe tbody tr th {\n",
       "        vertical-align: top;\n",
       "    }\n",
       "\n",
       "    .dataframe thead th {\n",
       "        text-align: right;\n",
       "    }\n",
       "</style>\n",
       "<table border=\"1\" class=\"dataframe\">\n",
       "  <thead>\n",
       "    <tr style=\"text-align: right;\">\n",
       "      <th></th>\n",
       "      <th>predicted</th>\n",
       "      <th>actual</th>\n",
       "      <th>text</th>\n",
       "    </tr>\n",
       "  </thead>\n",
       "  <tbody>\n",
       "    <tr>\n",
       "      <th>5526</th>\n",
       "      <td>other</td>\n",
       "      <td>el</td>\n",
       "      <td>Ο ' λφρεντ ίγκλθορπ , φυσικά !</td>\n",
       "    </tr>\n",
       "    <tr>\n",
       "      <th>2954</th>\n",
       "      <td>other</td>\n",
       "      <td>el</td>\n",
       "      <td>Ακόμα οδηγεί .</td>\n",
       "    </tr>\n",
       "    <tr>\n",
       "      <th>259</th>\n",
       "      <td>other</td>\n",
       "      <td>el</td>\n",
       "      <td>Εθνικό Ίδρυμα Επιστημών .</td>\n",
       "    </tr>\n",
       "    <tr>\n",
       "      <th>3146630</th>\n",
       "      <td>other</td>\n",
       "      <td>greeklish</td>\n",
       "      <td>tha pexete season 3 gt endiaferome na mpo</td>\n",
       "    </tr>\n",
       "    <tr>\n",
       "      <th>2486513</th>\n",
       "      <td>other</td>\n",
       "      <td>greeklish</td>\n",
       "      <td>8a apanthsei kaneis ti fasi?</td>\n",
       "    </tr>\n",
       "    <tr>\n",
       "      <th>2454693</th>\n",
       "      <td>other</td>\n",
       "      <td>greeklish</td>\n",
       "      <td>aloha mages tha borouse kaneis na me helparei ...</td>\n",
       "    </tr>\n",
       "    <tr>\n",
       "      <th>765</th>\n",
       "      <td>other</td>\n",
       "      <td>el</td>\n",
       "      <td>Προκάλεσε κάποια ζημιά .</td>\n",
       "    </tr>\n",
       "    <tr>\n",
       "      <th>2968333</th>\n",
       "      <td>other</td>\n",
       "      <td>greeklish</td>\n",
       "      <td>aoua aoua aoua</td>\n",
       "    </tr>\n",
       "    <tr>\n",
       "      <th>2843005</th>\n",
       "      <td>other</td>\n",
       "      <td>greeklish</td>\n",
       "      <td>Resto Shaman twra kanw gear up 3.1k gs Name:Je...</td>\n",
       "    </tr>\n",
       "    <tr>\n",
       "      <th>2877428</th>\n",
       "      <td>other</td>\n",
       "      <td>greeklish</td>\n",
       "      <td>kalos private aksizei na ksekiniseis paidia?</td>\n",
       "    </tr>\n",
       "    <tr>\n",
       "      <th>10673</th>\n",
       "      <td>en</td>\n",
       "      <td>other</td>\n",
       "      <td>Snowden Hits Hurdles in Search for Asylum</td>\n",
       "    </tr>\n",
       "    <tr>\n",
       "      <th>6894</th>\n",
       "      <td>other</td>\n",
       "      <td>en</td>\n",
       "      <td>disappointed in lenght</td>\n",
       "    </tr>\n",
       "    <tr>\n",
       "      <th>916</th>\n",
       "      <td>other</td>\n",
       "      <td>el</td>\n",
       "      <td>Αρκετά υπονοούμενα .</td>\n",
       "    </tr>\n",
       "    <tr>\n",
       "      <th>21504</th>\n",
       "      <td>en</td>\n",
       "      <td>other</td>\n",
       "      <td>Grim family yeah and they have some some succe...</td>\n",
       "    </tr>\n",
       "    <tr>\n",
       "      <th>2617</th>\n",
       "      <td>other</td>\n",
       "      <td>el</td>\n",
       "      <td>Εντάξει , ηρέμησε .</td>\n",
       "    </tr>\n",
       "    <tr>\n",
       "      <th>19972</th>\n",
       "      <td>en</td>\n",
       "      <td>other</td>\n",
       "      <td>Portugal Drownings: UK Girl And Grandad Named</td>\n",
       "    </tr>\n",
       "    <tr>\n",
       "      <th>15516</th>\n",
       "      <td>en</td>\n",
       "      <td>other</td>\n",
       "      <td>Naam , mtu alisema kwamba , lazima kuna aina f...</td>\n",
       "    </tr>\n",
       "    <tr>\n",
       "      <th>12092</th>\n",
       "      <td>en</td>\n",
       "      <td>other</td>\n",
       "      <td>एमिली डिकिंसन की कविता All I Really Need to Kn...</td>\n",
       "    </tr>\n",
       "    <tr>\n",
       "      <th>18011</th>\n",
       "      <td>en</td>\n",
       "      <td>other</td>\n",
       "      <td>Yeah it ' s maybe if she doesn ' t she kwa ura...</td>\n",
       "    </tr>\n",
       "    <tr>\n",
       "      <th>2792275</th>\n",
       "      <td>other</td>\n",
       "      <td>greeklish</td>\n",
       "      <td>Meta to xtesino mas raid  ICC25  exume 8/12hc ...</td>\n",
       "    </tr>\n",
       "    <tr>\n",
       "      <th>13038</th>\n",
       "      <td>en</td>\n",
       "      <td>other</td>\n",
       "      <td>Well i hate to cut this short but i think afad...</td>\n",
       "    </tr>\n",
       "    <tr>\n",
       "      <th>21399</th>\n",
       "      <td>en</td>\n",
       "      <td>other</td>\n",
       "      <td>Not all fat is a paunch ni hatari zaidi kuliko...</td>\n",
       "    </tr>\n",
       "    <tr>\n",
       "      <th>3200</th>\n",
       "      <td>other</td>\n",
       "      <td>el</td>\n",
       "      <td>Απίθανο .</td>\n",
       "    </tr>\n",
       "    <tr>\n",
       "      <th>5380</th>\n",
       "      <td>other</td>\n",
       "      <td>el</td>\n",
       "      <td>Τέχνη πλασάρισμα</td>\n",
       "    </tr>\n",
       "    <tr>\n",
       "      <th>3100558</th>\n",
       "      <td>other</td>\n",
       "      <td>greeklish</td>\n",
       "      <td>80lvl Beast master Hunter pros to paron  3.5 G...</td>\n",
       "    </tr>\n",
       "    <tr>\n",
       "      <th>19184</th>\n",
       "      <td>en</td>\n",
       "      <td>other</td>\n",
       "      <td>Oh really well nikiwa england years ago na nik...</td>\n",
       "    </tr>\n",
       "    <tr>\n",
       "      <th>10909</th>\n",
       "      <td>en</td>\n",
       "      <td>other</td>\n",
       "      <td>Oba dokumenty są dziś publikowane w New Englan...</td>\n",
       "    </tr>\n",
       "    <tr>\n",
       "      <th>3361</th>\n",
       "      <td>other</td>\n",
       "      <td>en</td>\n",
       "      <td>Snap kept coming undone.</td>\n",
       "    </tr>\n",
       "    <tr>\n",
       "      <th>964</th>\n",
       "      <td>other</td>\n",
       "      <td>el</td>\n",
       "      <td>Γουλιά .</td>\n",
       "    </tr>\n",
       "    <tr>\n",
       "      <th>2733</th>\n",
       "      <td>other</td>\n",
       "      <td>el</td>\n",
       "      <td>Σ ' ευχαριστώ .</td>\n",
       "    </tr>\n",
       "    <tr>\n",
       "      <th>4903</th>\n",
       "      <td>other</td>\n",
       "      <td>el</td>\n",
       "      <td>Διεξήχθη σιωπηλά .</td>\n",
       "    </tr>\n",
       "    <tr>\n",
       "      <th>2980187</th>\n",
       "      <td>greeklish</td>\n",
       "      <td>el</td>\n",
       "      <td>Olympian Heroes ελληνικό guild ψάχνει κόσμο γι...</td>\n",
       "    </tr>\n",
       "    <tr>\n",
       "      <th>14691</th>\n",
       "      <td>en</td>\n",
       "      <td>other</td>\n",
       "      <td>Um that ' s what i like that ' s what i like t...</td>\n",
       "    </tr>\n",
       "    <tr>\n",
       "      <th>21359</th>\n",
       "      <td>en</td>\n",
       "      <td>other</td>\n",
       "      <td>Right and he always and uh alikuwa na shida sa...</td>\n",
       "    </tr>\n",
       "    <tr>\n",
       "      <th>23617</th>\n",
       "      <td>en</td>\n",
       "      <td>other</td>\n",
       "      <td>The highlands of the highlands of the. of the ...</td>\n",
       "    </tr>\n",
       "    <tr>\n",
       "      <th>15772</th>\n",
       "      <td>en</td>\n",
       "      <td>other</td>\n",
       "      <td>Nimependa the man</td>\n",
       "    </tr>\n",
       "    <tr>\n",
       "      <th>11888</th>\n",
       "      <td>en</td>\n",
       "      <td>other</td>\n",
       "      <td>We were just kunywea all the time finally what...</td>\n",
       "    </tr>\n",
       "    <tr>\n",
       "      <th>9076</th>\n",
       "      <td>en</td>\n",
       "      <td>other</td>\n",
       "      <td>Ati wamama that ' s what they say that ' s true</td>\n",
       "    </tr>\n",
       "    <tr>\n",
       "      <th>6345</th>\n",
       "      <td>other</td>\n",
       "      <td>el</td>\n",
       "      <td>Άνετα , ασφαλή παιδικά χρόνια .</td>\n",
       "    </tr>\n",
       "    <tr>\n",
       "      <th>1865</th>\n",
       "      <td>other</td>\n",
       "      <td>en</td>\n",
       "      <td>WERE IMPROPERLY SEWEN</td>\n",
       "    </tr>\n",
       "    <tr>\n",
       "      <th>8450</th>\n",
       "      <td>other</td>\n",
       "      <td>el</td>\n",
       "      <td>Πρωτότυπα Μηχανολογικά πρωτότυπα  (εικονικά ή ...</td>\n",
       "    </tr>\n",
       "    <tr>\n",
       "      <th>4468</th>\n",
       "      <td>other</td>\n",
       "      <td>en</td>\n",
       "      <td>Similar to other books</td>\n",
       "    </tr>\n",
       "  </tbody>\n",
       "</table>\n",
       "</div>"
      ],
      "text/plain": [
       "         predicted     actual  \\\n",
       "5526         other         el   \n",
       "2954         other         el   \n",
       "259          other         el   \n",
       "3146630      other  greeklish   \n",
       "2486513      other  greeklish   \n",
       "2454693      other  greeklish   \n",
       "765          other         el   \n",
       "2968333      other  greeklish   \n",
       "2843005      other  greeklish   \n",
       "2877428      other  greeklish   \n",
       "10673           en      other   \n",
       "6894         other         en   \n",
       "916          other         el   \n",
       "21504           en      other   \n",
       "2617         other         el   \n",
       "19972           en      other   \n",
       "15516           en      other   \n",
       "12092           en      other   \n",
       "18011           en      other   \n",
       "2792275      other  greeklish   \n",
       "13038           en      other   \n",
       "21399           en      other   \n",
       "3200         other         el   \n",
       "5380         other         el   \n",
       "3100558      other  greeklish   \n",
       "19184           en      other   \n",
       "10909           en      other   \n",
       "3361         other         en   \n",
       "964          other         el   \n",
       "2733         other         el   \n",
       "4903         other         el   \n",
       "2980187  greeklish         el   \n",
       "14691           en      other   \n",
       "21359           en      other   \n",
       "23617           en      other   \n",
       "15772           en      other   \n",
       "11888           en      other   \n",
       "9076            en      other   \n",
       "6345         other         el   \n",
       "1865         other         en   \n",
       "8450         other         el   \n",
       "4468         other         en   \n",
       "\n",
       "                                                      text  \n",
       "5526                        Ο ' λφρεντ ίγκλθορπ , φυσικά !  \n",
       "2954                                        Ακόμα οδηγεί .  \n",
       "259                              Εθνικό Ίδρυμα Επιστημών .  \n",
       "3146630          tha pexete season 3 gt endiaferome na mpo  \n",
       "2486513                       8a apanthsei kaneis ti fasi?  \n",
       "2454693  aloha mages tha borouse kaneis na me helparei ...  \n",
       "765                               Προκάλεσε κάποια ζημιά .  \n",
       "2968333                                     aoua aoua aoua  \n",
       "2843005  Resto Shaman twra kanw gear up 3.1k gs Name:Je...  \n",
       "2877428       kalos private aksizei na ksekiniseis paidia?  \n",
       "10673            Snowden Hits Hurdles in Search for Asylum  \n",
       "6894                                disappointed in lenght  \n",
       "916                                   Αρκετά υπονοούμενα .  \n",
       "21504    Grim family yeah and they have some some succe...  \n",
       "2617                                   Εντάξει , ηρέμησε .  \n",
       "19972        Portugal Drownings: UK Girl And Grandad Named  \n",
       "15516    Naam , mtu alisema kwamba , lazima kuna aina f...  \n",
       "12092    एमिली डिकिंसन की कविता All I Really Need to Kn...  \n",
       "18011    Yeah it ' s maybe if she doesn ' t she kwa ura...  \n",
       "2792275  Meta to xtesino mas raid  ICC25  exume 8/12hc ...  \n",
       "13038    Well i hate to cut this short but i think afad...  \n",
       "21399    Not all fat is a paunch ni hatari zaidi kuliko...  \n",
       "3200                                             Απίθανο .  \n",
       "5380                                      Τέχνη πλασάρισμα  \n",
       "3100558  80lvl Beast master Hunter pros to paron  3.5 G...  \n",
       "19184    Oh really well nikiwa england years ago na nik...  \n",
       "10909    Oba dokumenty są dziś publikowane w New Englan...  \n",
       "3361                              Snap kept coming undone.  \n",
       "964                                               Γουλιά .  \n",
       "2733                                       Σ ' ευχαριστώ .  \n",
       "4903                                    Διεξήχθη σιωπηλά .  \n",
       "2980187  Olympian Heroes ελληνικό guild ψάχνει κόσμο γι...  \n",
       "14691    Um that ' s what i like that ' s what i like t...  \n",
       "21359    Right and he always and uh alikuwa na shida sa...  \n",
       "23617    The highlands of the highlands of the. of the ...  \n",
       "15772                                    Nimependa the man  \n",
       "11888    We were just kunywea all the time finally what...  \n",
       "9076       Ati wamama that ' s what they say that ' s true  \n",
       "6345                       Άνετα , ασφαλή παιδικά χρόνια .  \n",
       "1865                                 WERE IMPROPERLY SEWEN  \n",
       "8450     Πρωτότυπα Μηχανολογικά πρωτότυπα  (εικονικά ή ...  \n",
       "4468                                Similar to other books  "
      ]
     },
     "execution_count": 181,
     "metadata": {},
     "output_type": "execute_result"
    }
   ],
   "source": [
    "missed = y_test != forest_pred\n",
    "pd.DataFrame({\"predicted\": forest_pred[missed], \"actual\": data_test[missed].labels, \"text\": data_test[missed].text})"
   ]
  },
  {
   "cell_type": "code",
   "execution_count": 182,
   "id": "bbd4fa74-04f1-48e0-9954-8d77e9f5685c",
   "metadata": {
    "tags": []
   },
   "outputs": [
    {
     "name": "stdout",
     "output_type": "stream",
     "text": [
      "Notebook executed in 23 minutes and 31.3 seconds\n"
     ]
    }
   ],
   "source": [
    "print(f\"Notebook executed in {int((time()-start)// 60)} minutes and {(time()-start) % 60:.1f} seconds\")"
   ]
  }
 ],
 "metadata": {
  "kernelspec": {
   "display_name": "Python 3 (ipykernel)",
   "language": "python",
   "name": "python3"
  },
  "language_info": {
   "codemirror_mode": {
    "name": "ipython",
    "version": 3
   },
   "file_extension": ".py",
   "mimetype": "text/x-python",
   "name": "python",
   "nbconvert_exporter": "python",
   "pygments_lexer": "ipython3",
   "version": "3.11.5"
  }
 },
 "nbformat": 4,
 "nbformat_minor": 5
}
