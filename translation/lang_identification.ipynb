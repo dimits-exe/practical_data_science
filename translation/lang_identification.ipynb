{
 "cells": [
  {
   "cell_type": "code",
   "execution_count": 1,
   "id": "61c64785-61ad-4212-a91e-141f1cfd19b5",
   "metadata": {},
   "outputs": [],
   "source": [
    "from time import time\n",
    "\n",
    "start = time()"
   ]
  },
  {
   "cell_type": "markdown",
   "id": "26f6978d-5009-4a94-89e1-ee8ccb01d081",
   "metadata": {},
   "source": [
    "## Regex classifier"
   ]
  },
  {
   "cell_type": "code",
   "execution_count": 2,
   "id": "59b239c8-6826-4835-8b63-5874804b468a",
   "metadata": {
    "tags": []
   },
   "outputs": [],
   "source": [
    "from sklearn.base import BaseEstimator, RegressorMixin\n",
    "import numpy as np\n",
    "import re\n",
    "\n",
    "\n",
    "#idea credit https://www.linkedin.com/pulse/regex-one-pattern-rule-them-all-find-bring-darkness-bind-carranza/\n",
    "class RegexClassifier(BaseEstimator, RegressorMixin):\n",
    "    \"\"\"\n",
    "    Language Classifier using Regular Expressions\n",
    "    \"\"\"\n",
    "\n",
    "    language_regex_dict = {\n",
    "        'el': r'([\\u0370-\\u03FF]+)\\s?',  # Greek\n",
    "        'en': r'([a-zA-Z]+)\\s?',  # English\n",
    "    }\n",
    "\n",
    "    # STATIC INITALIZATION BLOCK\n",
    "    # pre-compie all expressions to save execution time\n",
    "    for lang in language_regex_dict.keys():\n",
    "        language_regex_dict[lang] = re.compile(language_regex_dict[lang])\n",
    "\n",
    "\n",
    "    def __init__(self, include_greeklish=True):\n",
    "        \"\"\"\n",
    "        Initialize a new :class:`RegexClassifier` instance.\n",
    "\n",
    "        :param include_greeklish: Optional. If True, include Greeklish in the language identification process.\n",
    "        \"\"\"\n",
    "        self.include_greeklish = include_greeklish\n",
    "\n",
    "    def predict(self, x):\n",
    "        preds = []\n",
    "\n",
    "        for text in x:\n",
    "            pred = \"other\"\n",
    "\n",
    "            if self.include_greeklish and \\\n",
    "                re.search(RegexClassifier.language_regex_dict[\"el\"], text) and \\\n",
    "                re.search(RegexClassifier.language_regex_dict[\"en\"], text):\n",
    "                    pred = \"greeklish\"\n",
    "\n",
    "            for lang_code, regex_pattern in RegexClassifier.language_regex_dict.items():\n",
    "                match = re.search(regex_pattern, text)\n",
    "                if match:\n",
    "                    pred = lang_code\n",
    "                    break\n",
    "            preds.append(pred)\n",
    "        return np.array(preds)\n",
    "    \n",
    "    def fit(self, x, y):\n",
    "        return self"
   ]
  },
  {
   "cell_type": "code",
   "execution_count": 3,
   "id": "96a77733-0bfa-45e0-a5a7-4432baab8455",
   "metadata": {
    "tags": []
   },
   "outputs": [
    {
     "name": "stdout",
     "output_type": "stream",
     "text": [
      "Detected Language Code: ['other' 'en' 'el']\n"
     ]
    }
   ],
   "source": [
    "# Example usage\n",
    "user_input_text = [\"你好，これはサンプルです。안녕하세요\", \"this is an english sentence\", \"δεν αντεχω αλλο\"]\n",
    "detected_language = RegexClassifier().predict(user_input_text)\n",
    "print(f\"Detected Language Code: {detected_language}\")"
   ]
  },
  {
   "cell_type": "markdown",
   "id": "2e6a8254-d567-492c-9a98-c944e7ca5199",
   "metadata": {},
   "source": [
    "## Defining the Gold Standard\n"
   ]
  },
  {
   "cell_type": "markdown",
   "id": "a77d5818-afe2-4c09-9a29-6f615dd492ec",
   "metadata": {},
   "source": [
    "### Greek-English identification dataset"
   ]
  },
  {
   "cell_type": "markdown",
   "id": "35fbce76-e950-4efc-9b38-09da72af29c8",
   "metadata": {},
   "source": [
    "https://aclanthology.org/L06-1229/\n",
    "https://aclanthology.org/L04-1369/\n",
    "https://huggingface.co/datasets/papluca/language-identification"
   ]
  },
  {
   "cell_type": "code",
   "execution_count": 4,
   "id": "7884d336-7550-4a37-9125-fd31d52561e3",
   "metadata": {},
   "outputs": [],
   "source": [
    "import pandas as pd\n",
    "\n",
    "\n",
    "def dataset_to_pd(dataset_dict: dict) -> pd.DataFrame:\n",
    "    df_ls = []\n",
    "    label_array = np.empty(shape=(sum([len(dataset) for dataset in dataset_dict.values()])), dtype=object)\n",
    "    last_idx = -1\n",
    "\n",
    "    for label, dataset in dataset_dict.items():\n",
    "        new_last_idx = len(dataset) + last_idx\n",
    "        label_array.put(np.arange(last_idx+1, new_last_idx+1, 1), label)\n",
    "        last_idx = new_last_idx\n",
    "\n",
    "        df_ls.append(pd.DataFrame(dataset))\n",
    "\n",
    "    full_df = pd.concat(df_ls, ignore_index=True)\n",
    "    full_df[\"set\"] = label_array\n",
    "    full_df.insert(0, \"set\", full_df.pop(\"set\"))\n",
    "\n",
    "    return full_df"
   ]
  },
  {
   "cell_type": "code",
   "execution_count": 5,
   "id": "321846d4-f30f-46f6-b67d-cae6566f7ea0",
   "metadata": {},
   "outputs": [
    {
     "data": {
      "text/plain": [
       "DatasetDict({\n",
       "    train: Dataset({\n",
       "        features: ['labels', 'text'],\n",
       "        num_rows: 70000\n",
       "    })\n",
       "    validation: Dataset({\n",
       "        features: ['labels', 'text'],\n",
       "        num_rows: 10000\n",
       "    })\n",
       "    test: Dataset({\n",
       "        features: ['labels', 'text'],\n",
       "        num_rows: 10000\n",
       "    })\n",
       "})"
      ]
     },
     "execution_count": 5,
     "metadata": {},
     "output_type": "execute_result"
    }
   ],
   "source": [
    "from datasets import load_dataset\n",
    "\n",
    "\n",
    "dataset_dict = load_dataset(\"papluca/language-identification\")\n",
    "dataset_dict"
   ]
  },
  {
   "cell_type": "code",
   "execution_count": 6,
   "id": "fd8bd535-bb09-413a-b30b-cc3c978f93fd",
   "metadata": {},
   "outputs": [
    {
     "data": {
      "text/html": [
       "<div>\n",
       "<style scoped>\n",
       "    .dataframe tbody tr th:only-of-type {\n",
       "        vertical-align: middle;\n",
       "    }\n",
       "\n",
       "    .dataframe tbody tr th {\n",
       "        vertical-align: top;\n",
       "    }\n",
       "\n",
       "    .dataframe thead th {\n",
       "        text-align: right;\n",
       "    }\n",
       "</style>\n",
       "<table border=\"1\" class=\"dataframe\">\n",
       "  <thead>\n",
       "    <tr style=\"text-align: right;\">\n",
       "      <th></th>\n",
       "      <th>set</th>\n",
       "      <th>labels</th>\n",
       "      <th>text</th>\n",
       "    </tr>\n",
       "  </thead>\n",
       "  <tbody>\n",
       "    <tr>\n",
       "      <th>0</th>\n",
       "      <td>train</td>\n",
       "      <td>pt</td>\n",
       "      <td>os chefes de defesa da estónia, letónia, lituâ...</td>\n",
       "    </tr>\n",
       "    <tr>\n",
       "      <th>1</th>\n",
       "      <td>train</td>\n",
       "      <td>bg</td>\n",
       "      <td>размерът на хоризонталната мрежа може да бъде ...</td>\n",
       "    </tr>\n",
       "    <tr>\n",
       "      <th>2</th>\n",
       "      <td>train</td>\n",
       "      <td>zh</td>\n",
       "      <td>很好，以前从不去评价，不知道浪费了多少积分，现在知道积分可以换钱，就要好好评价了，后来我就把...</td>\n",
       "    </tr>\n",
       "    <tr>\n",
       "      <th>3</th>\n",
       "      <td>train</td>\n",
       "      <td>th</td>\n",
       "      <td>สำหรับ ของเก่า ที่ จริงจัง ลอง   honeychurch  ...</td>\n",
       "    </tr>\n",
       "    <tr>\n",
       "      <th>4</th>\n",
       "      <td>train</td>\n",
       "      <td>ru</td>\n",
       "      <td>Он увеличил давление .</td>\n",
       "    </tr>\n",
       "    <tr>\n",
       "      <th>...</th>\n",
       "      <td>...</td>\n",
       "      <td>...</td>\n",
       "      <td>...</td>\n",
       "    </tr>\n",
       "    <tr>\n",
       "      <th>89995</th>\n",
       "      <td>test</td>\n",
       "      <td>zh</td>\n",
       "      <td>史料很充分，对岸的很多观点与大陆迥异啊。</td>\n",
       "    </tr>\n",
       "    <tr>\n",
       "      <th>89996</th>\n",
       "      <td>test</td>\n",
       "      <td>tr</td>\n",
       "      <td>Örneğin, teşhis Yunanca bir kelimeden alındı (...</td>\n",
       "    </tr>\n",
       "    <tr>\n",
       "      <th>89997</th>\n",
       "      <td>test</td>\n",
       "      <td>vi</td>\n",
       "      <td>Nếu lite/light chỉ đơn giản là mô tả một đặc t...</td>\n",
       "    </tr>\n",
       "    <tr>\n",
       "      <th>89998</th>\n",
       "      <td>test</td>\n",
       "      <td>bg</td>\n",
       "      <td>Например, една щатска столица, която посетихме...</td>\n",
       "    </tr>\n",
       "    <tr>\n",
       "      <th>89999</th>\n",
       "      <td>test</td>\n",
       "      <td>pl</td>\n",
       "      <td>Mam dla ciebie kilka propozycji:</td>\n",
       "    </tr>\n",
       "  </tbody>\n",
       "</table>\n",
       "<p>90000 rows × 3 columns</p>\n",
       "</div>"
      ],
      "text/plain": [
       "         set labels                                               text\n",
       "0      train     pt  os chefes de defesa da estónia, letónia, lituâ...\n",
       "1      train     bg  размерът на хоризонталната мрежа може да бъде ...\n",
       "2      train     zh  很好，以前从不去评价，不知道浪费了多少积分，现在知道积分可以换钱，就要好好评价了，后来我就把...\n",
       "3      train     th  สำหรับ ของเก่า ที่ จริงจัง ลอง   honeychurch  ...\n",
       "4      train     ru                             Он увеличил давление .\n",
       "...      ...    ...                                                ...\n",
       "89995   test     zh                               史料很充分，对岸的很多观点与大陆迥异啊。\n",
       "89996   test     tr  Örneğin, teşhis Yunanca bir kelimeden alındı (...\n",
       "89997   test     vi  Nếu lite/light chỉ đơn giản là mô tả một đặc t...\n",
       "89998   test     bg  Например, една щатска столица, която посетихме...\n",
       "89999   test     pl                   Mam dla ciebie kilka propozycji:\n",
       "\n",
       "[90000 rows x 3 columns]"
      ]
     },
     "execution_count": 6,
     "metadata": {},
     "output_type": "execute_result"
    }
   ],
   "source": [
    "lang_df = dataset_to_pd(dataset_dict)\n",
    "lang_df"
   ]
  },
  {
   "cell_type": "code",
   "execution_count": 7,
   "id": "b65d7720-bf89-4b94-8283-4544209ea5be",
   "metadata": {
    "tags": []
   },
   "outputs": [
    {
     "data": {
      "text/html": [
       "<div>\n",
       "<style scoped>\n",
       "    .dataframe tbody tr th:only-of-type {\n",
       "        vertical-align: middle;\n",
       "    }\n",
       "\n",
       "    .dataframe tbody tr th {\n",
       "        vertical-align: top;\n",
       "    }\n",
       "\n",
       "    .dataframe thead th {\n",
       "        text-align: right;\n",
       "    }\n",
       "</style>\n",
       "<table border=\"1\" class=\"dataframe\">\n",
       "  <thead>\n",
       "    <tr style=\"text-align: right;\">\n",
       "      <th></th>\n",
       "      <th>labels</th>\n",
       "      <th>text</th>\n",
       "    </tr>\n",
       "  </thead>\n",
       "  <tbody>\n",
       "    <tr>\n",
       "      <th>18</th>\n",
       "      <td>el</td>\n",
       "      <td>Παρά τον εαυτό μου , η γνώμη μου για τη σύνεση...</td>\n",
       "    </tr>\n",
       "    <tr>\n",
       "      <th>39</th>\n",
       "      <td>en</td>\n",
       "      <td>Didnt really seem to work much.</td>\n",
       "    </tr>\n",
       "    <tr>\n",
       "      <th>40</th>\n",
       "      <td>el</td>\n",
       "      <td>Ακόμα και το να ξέρεις ότι ήταν ένα άγαλμα που...</td>\n",
       "    </tr>\n",
       "    <tr>\n",
       "      <th>49</th>\n",
       "      <td>en</td>\n",
       "      <td>Highly recommend for those who don't like bein...</td>\n",
       "    </tr>\n",
       "    <tr>\n",
       "      <th>75</th>\n",
       "      <td>el</td>\n",
       "      <td>Έχω κάνει τέσσερις ή πέντε .</td>\n",
       "    </tr>\n",
       "    <tr>\n",
       "      <th>...</th>\n",
       "      <td>...</td>\n",
       "      <td>...</td>\n",
       "    </tr>\n",
       "    <tr>\n",
       "      <th>89961</th>\n",
       "      <td>en</td>\n",
       "      <td>It's super cute, really soft. Print is fine bu...</td>\n",
       "    </tr>\n",
       "    <tr>\n",
       "      <th>89965</th>\n",
       "      <td>en</td>\n",
       "      <td>One of them worked, the other one didn't. Ther...</td>\n",
       "    </tr>\n",
       "    <tr>\n",
       "      <th>89978</th>\n",
       "      <td>en</td>\n",
       "      <td>I only received one out of the three strikers :(</td>\n",
       "    </tr>\n",
       "    <tr>\n",
       "      <th>89982</th>\n",
       "      <td>el</td>\n",
       "      <td>Οι οργανισμοί πρέπει να είναι σε θέση να μετρή...</td>\n",
       "    </tr>\n",
       "    <tr>\n",
       "      <th>89986</th>\n",
       "      <td>el</td>\n",
       "      <td>Το Abeam με την Arabella, απέναντι από το λιμά...</td>\n",
       "    </tr>\n",
       "  </tbody>\n",
       "</table>\n",
       "<p>9000 rows × 2 columns</p>\n",
       "</div>"
      ],
      "text/plain": [
       "      labels                                               text\n",
       "18        el  Παρά τον εαυτό μου , η γνώμη μου για τη σύνεση...\n",
       "39        en                    Didnt really seem to work much.\n",
       "40        el  Ακόμα και το να ξέρεις ότι ήταν ένα άγαλμα που...\n",
       "49        en  Highly recommend for those who don't like bein...\n",
       "75        el                       Έχω κάνει τέσσερις ή πέντε .\n",
       "...      ...                                                ...\n",
       "89961     en  It's super cute, really soft. Print is fine bu...\n",
       "89965     en  One of them worked, the other one didn't. Ther...\n",
       "89978     en   I only received one out of the three strikers :(\n",
       "89982     el  Οι οργανισμοί πρέπει να είναι σε θέση να μετρή...\n",
       "89986     el  Το Abeam με την Arabella, απέναντι από το λιμά...\n",
       "\n",
       "[9000 rows x 2 columns]"
      ]
     },
     "execution_count": 7,
     "metadata": {},
     "output_type": "execute_result"
    }
   ],
   "source": [
    "en_gr_cond = lang_df.labels.eq(\"el\") | lang_df.labels.eq(\"en\")\n",
    "en_gr_df = lang_df.loc[en_gr_cond, [\"labels\", \"text\"]]\n",
    "en_gr_df"
   ]
  },
  {
   "cell_type": "code",
   "execution_count": 8,
   "id": "68aa37a0-6802-471a-a55a-40636d718f12",
   "metadata": {},
   "outputs": [
    {
     "data": {
      "text/html": [
       "<div>\n",
       "<style scoped>\n",
       "    .dataframe tbody tr th:only-of-type {\n",
       "        vertical-align: middle;\n",
       "    }\n",
       "\n",
       "    .dataframe tbody tr th {\n",
       "        vertical-align: top;\n",
       "    }\n",
       "\n",
       "    .dataframe thead th {\n",
       "        text-align: right;\n",
       "    }\n",
       "</style>\n",
       "<table border=\"1\" class=\"dataframe\">\n",
       "  <thead>\n",
       "    <tr style=\"text-align: right;\">\n",
       "      <th></th>\n",
       "      <th>labels</th>\n",
       "      <th>text</th>\n",
       "    </tr>\n",
       "  </thead>\n",
       "  <tbody>\n",
       "    <tr>\n",
       "      <th>40771</th>\n",
       "      <td>other</td>\n",
       "      <td>Rada Bezpieczeństwa ONZ wzywa do humanitarnego...</td>\n",
       "    </tr>\n",
       "    <tr>\n",
       "      <th>73391</th>\n",
       "      <td>other</td>\n",
       "      <td>100% recomendable para Samsung Galaxy A5 2017....</td>\n",
       "    </tr>\n",
       "    <tr>\n",
       "      <th>22717</th>\n",
       "      <td>other</td>\n",
       "      <td>هل قصة خفض التكلفة معقولة ?</td>\n",
       "    </tr>\n",
       "    <tr>\n",
       "      <th>89044</th>\n",
       "      <td>other</td>\n",
       "      <td>De momento genial, las teclas tienen mucha sen...</td>\n",
       "    </tr>\n",
       "    <tr>\n",
       "      <th>40535</th>\n",
       "      <td>other</td>\n",
       "      <td>คิด   22   ชัดเจน สะท้อน สภาพแวดล้อม ทรัพยากร ...</td>\n",
       "    </tr>\n",
       "    <tr>\n",
       "      <th>...</th>\n",
       "      <td>...</td>\n",
       "      <td>...</td>\n",
       "    </tr>\n",
       "    <tr>\n",
       "      <th>45284</th>\n",
       "      <td>other</td>\n",
       "      <td>но те са били първите индианци , които е вижда...</td>\n",
       "    </tr>\n",
       "    <tr>\n",
       "      <th>3393</th>\n",
       "      <td>other</td>\n",
       "      <td>Très Agréable à porter et semble résistant. Pa...</td>\n",
       "    </tr>\n",
       "    <tr>\n",
       "      <th>33908</th>\n",
       "      <td>other</td>\n",
       "      <td>Nunca llegó el.producto y ellos procedieron al...</td>\n",
       "    </tr>\n",
       "    <tr>\n",
       "      <th>75023</th>\n",
       "      <td>other</td>\n",
       "      <td>Wie geht sie bloß auf??? Ich habe zwei gekauft...</td>\n",
       "    </tr>\n",
       "    <tr>\n",
       "      <th>24212</th>\n",
       "      <td>other</td>\n",
       "      <td>यहां तक कि जब उन ् होंने 1975 में उत ् तरी हुए...</td>\n",
       "    </tr>\n",
       "  </tbody>\n",
       "</table>\n",
       "<p>15000 rows × 2 columns</p>\n",
       "</div>"
      ],
      "text/plain": [
       "      labels                                               text\n",
       "40771  other  Rada Bezpieczeństwa ONZ wzywa do humanitarnego...\n",
       "73391  other  100% recomendable para Samsung Galaxy A5 2017....\n",
       "22717  other                        هل قصة خفض التكلفة معقولة ?\n",
       "89044  other  De momento genial, las teclas tienen mucha sen...\n",
       "40535  other  คิด   22   ชัดเจน สะท้อน สภาพแวดล้อม ทรัพยากร ...\n",
       "...      ...                                                ...\n",
       "45284  other  но те са били първите индианци , които е вижда...\n",
       "3393   other  Très Agréable à porter et semble résistant. Pa...\n",
       "33908  other  Nunca llegó el.producto y ellos procedieron al...\n",
       "75023  other  Wie geht sie bloß auf??? Ich habe zwei gekauft...\n",
       "24212  other  यहां तक कि जब उन ् होंने 1975 में उत ् तरी हुए...\n",
       "\n",
       "[15000 rows x 2 columns]"
      ]
     },
     "execution_count": 8,
     "metadata": {},
     "output_type": "execute_result"
    }
   ],
   "source": [
    "others_df = lang_df.loc[~en_gr_cond, [\"labels\", \"text\"]]\n",
    "others_df = others_df.sample(15000)\n",
    "others_df.labels = \"other\"\n",
    "others_df"
   ]
  },
  {
   "cell_type": "code",
   "execution_count": 9,
   "id": "6b3b00e0-ad10-471d-bf7b-6ec73579d69a",
   "metadata": {},
   "outputs": [
    {
     "data": {
      "text/html": [
       "<div>\n",
       "<style scoped>\n",
       "    .dataframe tbody tr th:only-of-type {\n",
       "        vertical-align: middle;\n",
       "    }\n",
       "\n",
       "    .dataframe tbody tr th {\n",
       "        vertical-align: top;\n",
       "    }\n",
       "\n",
       "    .dataframe thead th {\n",
       "        text-align: right;\n",
       "    }\n",
       "</style>\n",
       "<table border=\"1\" class=\"dataframe\">\n",
       "  <thead>\n",
       "    <tr style=\"text-align: right;\">\n",
       "      <th></th>\n",
       "      <th>labels</th>\n",
       "      <th>text</th>\n",
       "    </tr>\n",
       "  </thead>\n",
       "  <tbody>\n",
       "    <tr>\n",
       "      <th>0</th>\n",
       "      <td>el</td>\n",
       "      <td>Παρά τον εαυτό μου , η γνώμη μου για τη σύνεση...</td>\n",
       "    </tr>\n",
       "    <tr>\n",
       "      <th>1</th>\n",
       "      <td>en</td>\n",
       "      <td>Didnt really seem to work much.</td>\n",
       "    </tr>\n",
       "    <tr>\n",
       "      <th>2</th>\n",
       "      <td>el</td>\n",
       "      <td>Ακόμα και το να ξέρεις ότι ήταν ένα άγαλμα που...</td>\n",
       "    </tr>\n",
       "    <tr>\n",
       "      <th>3</th>\n",
       "      <td>en</td>\n",
       "      <td>Highly recommend for those who don't like bein...</td>\n",
       "    </tr>\n",
       "    <tr>\n",
       "      <th>4</th>\n",
       "      <td>el</td>\n",
       "      <td>Έχω κάνει τέσσερις ή πέντε .</td>\n",
       "    </tr>\n",
       "    <tr>\n",
       "      <th>...</th>\n",
       "      <td>...</td>\n",
       "      <td>...</td>\n",
       "    </tr>\n",
       "    <tr>\n",
       "      <th>23995</th>\n",
       "      <td>other</td>\n",
       "      <td>но те са били първите индианци , които е вижда...</td>\n",
       "    </tr>\n",
       "    <tr>\n",
       "      <th>23996</th>\n",
       "      <td>other</td>\n",
       "      <td>Très Agréable à porter et semble résistant. Pa...</td>\n",
       "    </tr>\n",
       "    <tr>\n",
       "      <th>23997</th>\n",
       "      <td>other</td>\n",
       "      <td>Nunca llegó el.producto y ellos procedieron al...</td>\n",
       "    </tr>\n",
       "    <tr>\n",
       "      <th>23998</th>\n",
       "      <td>other</td>\n",
       "      <td>Wie geht sie bloß auf??? Ich habe zwei gekauft...</td>\n",
       "    </tr>\n",
       "    <tr>\n",
       "      <th>23999</th>\n",
       "      <td>other</td>\n",
       "      <td>यहां तक कि जब उन ् होंने 1975 में उत ् तरी हुए...</td>\n",
       "    </tr>\n",
       "  </tbody>\n",
       "</table>\n",
       "<p>24000 rows × 2 columns</p>\n",
       "</div>"
      ],
      "text/plain": [
       "      labels                                               text\n",
       "0         el  Παρά τον εαυτό μου , η γνώμη μου για τη σύνεση...\n",
       "1         en                    Didnt really seem to work much.\n",
       "2         el  Ακόμα και το να ξέρεις ότι ήταν ένα άγαλμα που...\n",
       "3         en  Highly recommend for those who don't like bein...\n",
       "4         el                       Έχω κάνει τέσσερις ή πέντε .\n",
       "...      ...                                                ...\n",
       "23995  other  но те са били първите индианци , които е вижда...\n",
       "23996  other  Très Agréable à porter et semble résistant. Pa...\n",
       "23997  other  Nunca llegó el.producto y ellos procedieron al...\n",
       "23998  other  Wie geht sie bloß auf??? Ich habe zwei gekauft...\n",
       "23999  other  यहां तक कि जब उन ् होंने 1975 में उत ् तरी हुए...\n",
       "\n",
       "[24000 rows x 2 columns]"
      ]
     },
     "execution_count": 9,
     "metadata": {},
     "output_type": "execute_result"
    }
   ],
   "source": [
    "gold1_df = pd.concat([en_gr_df, others_df], axis=0, ignore_index=True, copy=False)\n",
    "gold1_df"
   ]
  },
  {
   "cell_type": "markdown",
   "id": "c2697de5-d487-4603-8708-cc502034a3dd",
   "metadata": {},
   "source": [
    "### Greek-Greeklish identification dataset"
   ]
  },
  {
   "cell_type": "code",
   "execution_count": 10,
   "id": "fbf1b45a-9a2f-419e-b900-4c6e873349cc",
   "metadata": {},
   "outputs": [],
   "source": [
    "head_url = \"https://forum.warmane.com\"\n",
    "warmane_url = \"https://forum.warmane.com/forumdisplay.php?f=20\""
   ]
  },
  {
   "cell_type": "code",
   "execution_count": 11,
   "id": "03a32104-f828-44e2-b9e6-fb0a1d5bd71c",
   "metadata": {
    "tags": []
   },
   "outputs": [
    {
     "name": "stdout",
     "output_type": "stream",
     "text": [
      "Processing page 1 of 8...\n"
     ]
    },
    {
     "name": "stderr",
     "output_type": "stream",
     "text": [
      "100%|██████████████████████████████████████████████████████████████████████████████████| 20/20 [00:04<00:00,  4.23it/s]\n"
     ]
    },
    {
     "name": "stdout",
     "output_type": "stream",
     "text": [
      "Processing page 2 of 8...\n"
     ]
    },
    {
     "name": "stderr",
     "output_type": "stream",
     "text": [
      "100%|██████████████████████████████████████████████████████████████████████████████████| 20/20 [00:03<00:00,  5.48it/s]\n"
     ]
    },
    {
     "name": "stdout",
     "output_type": "stream",
     "text": [
      "Processing page 3 of 8...\n"
     ]
    },
    {
     "name": "stderr",
     "output_type": "stream",
     "text": [
      "100%|██████████████████████████████████████████████████████████████████████████████████| 20/20 [00:03<00:00,  5.57it/s]\n"
     ]
    },
    {
     "name": "stdout",
     "output_type": "stream",
     "text": [
      "Processing page 4 of 8...\n"
     ]
    },
    {
     "name": "stderr",
     "output_type": "stream",
     "text": [
      "100%|██████████████████████████████████████████████████████████████████████████████████| 20/20 [00:03<00:00,  5.16it/s]\n"
     ]
    },
    {
     "name": "stdout",
     "output_type": "stream",
     "text": [
      "Processing page 5 of 8...\n"
     ]
    },
    {
     "name": "stderr",
     "output_type": "stream",
     "text": [
      "100%|██████████████████████████████████████████████████████████████████████████████████| 20/20 [00:03<00:00,  5.24it/s]\n"
     ]
    },
    {
     "name": "stdout",
     "output_type": "stream",
     "text": [
      "Processing page 6 of 8...\n"
     ]
    },
    {
     "name": "stderr",
     "output_type": "stream",
     "text": [
      "100%|██████████████████████████████████████████████████████████████████████████████████| 20/20 [00:03<00:00,  5.44it/s]\n"
     ]
    },
    {
     "name": "stdout",
     "output_type": "stream",
     "text": [
      "Processing page 7 of 8...\n"
     ]
    },
    {
     "name": "stderr",
     "output_type": "stream",
     "text": [
      " 65%|█████████████████████████████████████████████████████▎                            | 13/20 [00:02<00:01,  5.11it/s]"
     ]
    },
    {
     "name": "stdout",
     "output_type": "stream",
     "text": [
      "ERROR: Failed to get information on post  https://forum.warmane.com/showthread.php?t=272585\n"
     ]
    },
    {
     "name": "stderr",
     "output_type": "stream",
     "text": [
      "100%|██████████████████████████████████████████████████████████████████████████████████| 20/20 [00:03<00:00,  5.42it/s]\n"
     ]
    },
    {
     "name": "stdout",
     "output_type": "stream",
     "text": [
      "Processing page 8 of 8...\n"
     ]
    },
    {
     "name": "stderr",
     "output_type": "stream",
     "text": [
      " 62%|████████████████████████████████████████████████████▌                               | 5/8 [00:00<00:00,  5.13it/s]"
     ]
    },
    {
     "name": "stdout",
     "output_type": "stream",
     "text": [
      "ERROR: Failed to get information on post  https://forum.warmane.com/showthread.php?t=278731\n"
     ]
    },
    {
     "name": "stderr",
     "output_type": "stream",
     "text": [
      "100%|████████████████████████████████████████████████████████████████████████████████████| 8/8 [00:01<00:00,  5.46it/s]\n"
     ]
    }
   ],
   "source": [
    "from src.util import fetch_soup\n",
    "from tasks.warmane import parse_warmane_thread\n",
    "from tqdm import tqdm\n",
    "\n",
    "\n",
    "threads = []\n",
    "\n",
    "for page in range(1, 9):\n",
    "    url = warmane_url + f\"&page={page}\"\n",
    "    soup = fetch_soup(url)\n",
    "\n",
    "    print(f\"Processing page {page} of 8...\")\n",
    "    thread_tags = soup.find_all(\"li\", {\"class\": \"threadbit\"})\n",
    "    for thread_tag in tqdm(thread_tags):\n",
    "        thread = parse_warmane_thread(head_url, thread_tag)\n",
    "        threads.append(thread)"
   ]
  },
  {
   "cell_type": "code",
   "execution_count": 12,
   "id": "e0d9a523-1311-4960-ab66-1f9b98c03729",
   "metadata": {
    "tags": []
   },
   "outputs": [
    {
     "data": {
      "text/plain": [
       "414"
      ]
     },
     "execution_count": 12,
     "metadata": {},
     "output_type": "execute_result"
    }
   ],
   "source": [
    "import itertools\n",
    "\n",
    "# flatten nested lists \n",
    "posts = set(itertools.chain.from_iterable([thread.posts for thread in threads]))\n",
    "len(posts)"
   ]
  },
  {
   "cell_type": "code",
   "execution_count": 13,
   "id": "2425baf7-a694-4a49-98c0-11d565c2cb98",
   "metadata": {
    "tags": []
   },
   "outputs": [
    {
     "data": {
      "text/html": [
       "<div>\n",
       "<style scoped>\n",
       "    .dataframe tbody tr th:only-of-type {\n",
       "        vertical-align: middle;\n",
       "    }\n",
       "\n",
       "    .dataframe tbody tr th {\n",
       "        vertical-align: top;\n",
       "    }\n",
       "\n",
       "    .dataframe thead th {\n",
       "        text-align: right;\n",
       "    }\n",
       "</style>\n",
       "<table border=\"1\" class=\"dataframe\">\n",
       "  <thead>\n",
       "    <tr style=\"text-align: right;\">\n",
       "      <th></th>\n",
       "      <th>thread_id</th>\n",
       "      <th>author</th>\n",
       "      <th>contents</th>\n",
       "      <th>date</th>\n",
       "      <th>reply_to</th>\n",
       "    </tr>\n",
       "    <tr>\n",
       "      <th>id</th>\n",
       "      <th></th>\n",
       "      <th></th>\n",
       "      <th></th>\n",
       "      <th></th>\n",
       "      <th></th>\n",
       "    </tr>\n",
       "  </thead>\n",
       "  <tbody>\n",
       "    <tr>\n",
       "      <th>2926596</th>\n",
       "      <td>384475</td>\n",
       "      <td>Ripsin</td>\n",
       "      <td>Kalhspera paides,\\n\\r\\nEimai arketo kairo ston...</td>\n",
       "      <td>2018-05-22</td>\n",
       "      <td>-1</td>\n",
       "    </tr>\n",
       "    <tr>\n",
       "      <th>2473988</th>\n",
       "      <td>300013</td>\n",
       "      <td>v4gflo</td>\n",
       "      <td>geia sas.psaxnw ellhniko guild ston Deathwing ...</td>\n",
       "      <td>2015-06-17</td>\n",
       "      <td>-1</td>\n",
       "    </tr>\n",
       "    <tr>\n",
       "      <th>2420747</th>\n",
       "      <td>290921</td>\n",
       "      <td>AlexPan</td>\n",
       "      <td>Καλησπέρα παιδιά, το πρόβλημα είναι το εξής. \\...</td>\n",
       "      <td>2015-03-24</td>\n",
       "      <td>-1</td>\n",
       "    </tr>\n",
       "    <tr>\n",
       "      <th>2981903</th>\n",
       "      <td>399822</td>\n",
       "      <td>xAchillesGate4x</td>\n",
       "      <td>Καλησπέρα παίδες. Ψάχνω Ελληνικό active raidin...</td>\n",
       "      <td>2019-03-03</td>\n",
       "      <td>-1</td>\n",
       "    </tr>\n",
       "    <tr>\n",
       "      <th>2879517</th>\n",
       "      <td>371804</td>\n",
       "      <td>Csdas</td>\n",
       "      <td>Opoios gnwrizei kati as mou kanei /w Dremoria ...</td>\n",
       "      <td>2017-11-29</td>\n",
       "      <td>-1</td>\n",
       "    </tr>\n",
       "    <tr>\n",
       "      <th>...</th>\n",
       "      <td>...</td>\n",
       "      <td>...</td>\n",
       "      <td>...</td>\n",
       "      <td>...</td>\n",
       "      <td>...</td>\n",
       "    </tr>\n",
       "    <tr>\n",
       "      <th>2877428</th>\n",
       "      <td>353812</td>\n",
       "      <td>Shiverbro</td>\n",
       "      <td>kalos private aksizei na ksekiniseis paidia?</td>\n",
       "      <td>2017-11-21</td>\n",
       "      <td>2875915</td>\n",
       "    </tr>\n",
       "    <tr>\n",
       "      <th>3069941</th>\n",
       "      <td>423611</td>\n",
       "      <td>crystallenia898</td>\n",
       "      <td>Ε μεις αυξανόμαστε και θα αρχίσουμε να στήνουμ...</td>\n",
       "      <td>2020-07-26</td>\n",
       "      <td>3068345</td>\n",
       "    </tr>\n",
       "    <tr>\n",
       "      <th>2801654</th>\n",
       "      <td>350071</td>\n",
       "      <td>Draculation</td>\n",
       "      <td>Bump! ICC25 6/12</td>\n",
       "      <td>2017-05-07</td>\n",
       "      <td>2795443</td>\n",
       "    </tr>\n",
       "    <tr>\n",
       "      <th>2873339</th>\n",
       "      <td>370241</td>\n",
       "      <td>Ripsin</td>\n",
       "      <td>Kalhspera tha ithela na rwthsw an kapoios gnwr...</td>\n",
       "      <td>2017-11-07</td>\n",
       "      <td>-1</td>\n",
       "    </tr>\n",
       "    <tr>\n",
       "      <th>2410495</th>\n",
       "      <td>289030</td>\n",
       "      <td>boolouk</td>\n",
       "      <td>Εμπειρια εχω, αλλα δεν εχω χρονο...αυτο ειναι ...</td>\n",
       "      <td>2015-03-13</td>\n",
       "      <td>2409274</td>\n",
       "    </tr>\n",
       "  </tbody>\n",
       "</table>\n",
       "<p>414 rows × 5 columns</p>\n",
       "</div>"
      ],
      "text/plain": [
       "         thread_id           author  \\\n",
       "id                                    \n",
       "2926596     384475           Ripsin   \n",
       "2473988     300013           v4gflo   \n",
       "2420747     290921          AlexPan   \n",
       "2981903     399822  xAchillesGate4x   \n",
       "2879517     371804            Csdas   \n",
       "...            ...              ...   \n",
       "2877428     353812        Shiverbro   \n",
       "3069941     423611  crystallenia898   \n",
       "2801654     350071      Draculation   \n",
       "2873339     370241           Ripsin   \n",
       "2410495     289030          boolouk   \n",
       "\n",
       "                                                  contents       date  \\\n",
       "id                                                                      \n",
       "2926596  Kalhspera paides,\\n\\r\\nEimai arketo kairo ston... 2018-05-22   \n",
       "2473988  geia sas.psaxnw ellhniko guild ston Deathwing ... 2015-06-17   \n",
       "2420747  Καλησπέρα παιδιά, το πρόβλημα είναι το εξής. \\... 2015-03-24   \n",
       "2981903  Καλησπέρα παίδες. Ψάχνω Ελληνικό active raidin... 2019-03-03   \n",
       "2879517  Opoios gnwrizei kati as mou kanei /w Dremoria ... 2017-11-29   \n",
       "...                                                    ...        ...   \n",
       "2877428       kalos private aksizei na ksekiniseis paidia? 2017-11-21   \n",
       "3069941  Ε μεις αυξανόμαστε και θα αρχίσουμε να στήνουμ... 2020-07-26   \n",
       "2801654                                   Bump! ICC25 6/12 2017-05-07   \n",
       "2873339  Kalhspera tha ithela na rwthsw an kapoios gnwr... 2017-11-07   \n",
       "2410495  Εμπειρια εχω, αλλα δεν εχω χρονο...αυτο ειναι ... 2015-03-13   \n",
       "\n",
       "         reply_to  \n",
       "id                 \n",
       "2926596        -1  \n",
       "2473988        -1  \n",
       "2420747        -1  \n",
       "2981903        -1  \n",
       "2879517        -1  \n",
       "...           ...  \n",
       "2877428   2875915  \n",
       "3069941   3068345  \n",
       "2801654   2795443  \n",
       "2873339        -1  \n",
       "2410495   2409274  \n",
       "\n",
       "[414 rows x 5 columns]"
      ]
     },
     "execution_count": 13,
     "metadata": {},
     "output_type": "execute_result"
    }
   ],
   "source": [
    "import pandas as pd\n",
    "\n",
    "warmane_df = pd.DataFrame.from_records([post.__dict__ for post in posts], index=\"id\")\n",
    "warmane_df.reply_to = warmane_df.reply_to.fillna(-1).astype(int)\n",
    "warmane_df"
   ]
  },
  {
   "cell_type": "code",
   "execution_count": 14,
   "id": "dbffc615-c381-41d5-b39f-0d25f77a63e2",
   "metadata": {
    "tags": []
   },
   "outputs": [
    {
     "data": {
      "text/html": [
       "<div>\n",
       "<style scoped>\n",
       "    .dataframe tbody tr th:only-of-type {\n",
       "        vertical-align: middle;\n",
       "    }\n",
       "\n",
       "    .dataframe tbody tr th {\n",
       "        vertical-align: top;\n",
       "    }\n",
       "\n",
       "    .dataframe thead th {\n",
       "        text-align: right;\n",
       "    }\n",
       "</style>\n",
       "<table border=\"1\" class=\"dataframe\">\n",
       "  <thead>\n",
       "    <tr style=\"text-align: right;\">\n",
       "      <th></th>\n",
       "      <th>thread_id</th>\n",
       "      <th>author</th>\n",
       "      <th>contents</th>\n",
       "      <th>date</th>\n",
       "      <th>reply_to</th>\n",
       "    </tr>\n",
       "    <tr>\n",
       "      <th>id</th>\n",
       "      <th></th>\n",
       "      <th></th>\n",
       "      <th></th>\n",
       "      <th></th>\n",
       "      <th></th>\n",
       "    </tr>\n",
       "  </thead>\n",
       "  <tbody>\n",
       "    <tr>\n",
       "      <th>3082464</th>\n",
       "      <td>427259</td>\n",
       "      <td>malakas17</td>\n",
       "      <td></td>\n",
       "      <td>2020-10-20</td>\n",
       "      <td>3081822</td>\n",
       "    </tr>\n",
       "    <tr>\n",
       "      <th>3113236</th>\n",
       "      <td>427259</td>\n",
       "      <td>malakas17</td>\n",
       "      <td></td>\n",
       "      <td>2021-05-12</td>\n",
       "      <td>3113009</td>\n",
       "    </tr>\n",
       "    <tr>\n",
       "      <th>3099161</th>\n",
       "      <td>431660</td>\n",
       "      <td>malakas17</td>\n",
       "      <td></td>\n",
       "      <td>2021-02-10</td>\n",
       "      <td>3096432</td>\n",
       "    </tr>\n",
       "    <tr>\n",
       "      <th>3113819</th>\n",
       "      <td>427259</td>\n",
       "      <td>malakas17</td>\n",
       "      <td></td>\n",
       "      <td>2021-05-16</td>\n",
       "      <td>3113236</td>\n",
       "    </tr>\n",
       "    <tr>\n",
       "      <th>3099593</th>\n",
       "      <td>427259</td>\n",
       "      <td>boonick</td>\n",
       "      <td></td>\n",
       "      <td>2021-02-14</td>\n",
       "      <td>3093400</td>\n",
       "    </tr>\n",
       "    <tr>\n",
       "      <th>3081820</th>\n",
       "      <td>427259</td>\n",
       "      <td>malakas17</td>\n",
       "      <td></td>\n",
       "      <td>2020-10-16</td>\n",
       "      <td>3080427</td>\n",
       "    </tr>\n",
       "    <tr>\n",
       "      <th>3081822</th>\n",
       "      <td>427259</td>\n",
       "      <td>malakas17</td>\n",
       "      <td></td>\n",
       "      <td>2020-10-16</td>\n",
       "      <td>3081820</td>\n",
       "    </tr>\n",
       "  </tbody>\n",
       "</table>\n",
       "</div>"
      ],
      "text/plain": [
       "         thread_id     author contents       date  reply_to\n",
       "id                                                         \n",
       "3082464     427259  malakas17          2020-10-20   3081822\n",
       "3113236     427259  malakas17          2021-05-12   3113009\n",
       "3099161     431660  malakas17          2021-02-10   3096432\n",
       "3113819     427259  malakas17          2021-05-16   3113236\n",
       "3099593     427259    boonick          2021-02-14   3093400\n",
       "3081820     427259  malakas17          2020-10-16   3080427\n",
       "3081822     427259  malakas17          2020-10-16   3081820"
      ]
     },
     "execution_count": 14,
     "metadata": {},
     "output_type": "execute_result"
    }
   ],
   "source": [
    "empty_contents = warmane_df.contents.apply(lambda x: x.isspace() | len(x)==0)\n",
    "warmane_df[empty_contents]"
   ]
  },
  {
   "cell_type": "code",
   "execution_count": 15,
   "id": "29103c28-5579-41e8-b33e-a9fa7a49428d",
   "metadata": {
    "tags": []
   },
   "outputs": [],
   "source": [
    "warmane_df = warmane_df[~empty_contents]"
   ]
  },
  {
   "cell_type": "code",
   "execution_count": 16,
   "id": "3c6bc888-adf2-4c94-bddf-4af870e9a0f6",
   "metadata": {
    "tags": []
   },
   "outputs": [],
   "source": [
    "regex_model = RegexClassifier(include_greeklish=False)\n",
    "preds = regex_model.predict(warmane_df.contents)"
   ]
  },
  {
   "cell_type": "code",
   "execution_count": 17,
   "id": "46995910-7936-46c4-ac34-611a8fdaa307",
   "metadata": {
    "tags": []
   },
   "outputs": [
    {
     "data": {
      "text/plain": [
       "id\n",
       "2926596    Kalhspera paides,\\n\\r\\nEimai arketo kairo ston...\n",
       "2473988    geia sas.psaxnw ellhniko guild ston Deathwing ...\n",
       "2879517    Opoios gnwrizei kati as mou kanei /w Dremoria ...\n",
       "2959390               Bubblethesap Icecrown wotlk horde belf\n",
       "2947119    den se vrisko kane add evvi  .\\nmou leei den u...\n",
       "                                 ...                        \n",
       "2557881                          Paokara einai padou file :P\n",
       "2602989    Me to plevro ton Allience ayti ti fora Oi <<An...\n",
       "2877428         kalos private aksizei na ksekiniseis paidia?\n",
       "2801654                                     Bump! ICC25 6/12\n",
       "2873339    Kalhspera tha ithela na rwthsw an kapoios gnwr...\n",
       "Name: contents, Length: 227, dtype: object"
      ]
     },
     "execution_count": 17,
     "metadata": {},
     "output_type": "execute_result"
    }
   ],
   "source": [
    "warmane_df[preds==\"en\"].contents"
   ]
  },
  {
   "cell_type": "code",
   "execution_count": 18,
   "id": "e1e87acd-db99-4c72-b226-207e8d84e1f0",
   "metadata": {
    "tags": []
   },
   "outputs": [
    {
     "data": {
      "text/plain": [
       "Series([], Name: contents, dtype: object)"
      ]
     },
     "execution_count": 18,
     "metadata": {},
     "output_type": "execute_result"
    }
   ],
   "source": [
    "warmane_df[preds==\"greeklish\"].contents"
   ]
  },
  {
   "cell_type": "code",
   "execution_count": 19,
   "id": "17442e3b-93c7-4a53-82c2-bd26c63b0f16",
   "metadata": {
    "tags": []
   },
   "outputs": [
    {
     "data": {
      "text/plain": [
       "id\n",
       "2420747    Καλησπέρα παιδιά, το πρόβλημα είναι το εξής. \\...\n",
       "2981903    Καλησπέρα παίδες. Ψάχνω Ελληνικό active raidin...\n",
       "2959391    Καλησπερα θα πας στις ιδιότητες (properties) σ...\n",
       "2719776    Originally Posted by celphecil\\n\\nΚαλησπέρα Σω...\n",
       "2971700    Ελληνικο guild , ψαχνουμε ατομα για runs ICC10...\n",
       "                                 ...                        \n",
       "2609122    πώρωση με τα μισά Dung, Quests και Raids bugge...\n",
       "2707437    Λοιπόν μαγες,ξέρει κάποιος γιατί δεν γίνεται ν...\n",
       "2777071    INACTIVE\\n\\n\\n <Northern Defiance>  Καινούργια...\n",
       "3069941    Ε μεις αυξανόμαστε και θα αρχίσουμε να στήνουμ...\n",
       "2410495    Εμπειρια εχω, αλλα δεν εχω χρονο...αυτο ειναι ...\n",
       "Name: contents, Length: 180, dtype: object"
      ]
     },
     "execution_count": 19,
     "metadata": {},
     "output_type": "execute_result"
    }
   ],
   "source": [
    "warmane_df[preds==\"el\"].contents"
   ]
  },
  {
   "cell_type": "code",
   "execution_count": 20,
   "id": "bba2d5fd-9fb7-4fd7-b8f5-a9944d337c07",
   "metadata": {
    "tags": []
   },
   "outputs": [
    {
     "data": {
      "text/html": [
       "<div>\n",
       "<style scoped>\n",
       "    .dataframe tbody tr th:only-of-type {\n",
       "        vertical-align: middle;\n",
       "    }\n",
       "\n",
       "    .dataframe tbody tr th {\n",
       "        vertical-align: top;\n",
       "    }\n",
       "\n",
       "    .dataframe thead th {\n",
       "        text-align: right;\n",
       "    }\n",
       "</style>\n",
       "<table border=\"1\" class=\"dataframe\">\n",
       "  <thead>\n",
       "    <tr style=\"text-align: right;\">\n",
       "      <th></th>\n",
       "      <th>labels</th>\n",
       "      <th>text</th>\n",
       "    </tr>\n",
       "    <tr>\n",
       "      <th>id</th>\n",
       "      <th></th>\n",
       "      <th></th>\n",
       "    </tr>\n",
       "  </thead>\n",
       "  <tbody>\n",
       "    <tr>\n",
       "      <th>2926596</th>\n",
       "      <td>greeklish</td>\n",
       "      <td>Kalhspera paides,\\n\\r\\nEimai arketo kairo ston...</td>\n",
       "    </tr>\n",
       "    <tr>\n",
       "      <th>2473988</th>\n",
       "      <td>greeklish</td>\n",
       "      <td>geia sas.psaxnw ellhniko guild ston Deathwing ...</td>\n",
       "    </tr>\n",
       "    <tr>\n",
       "      <th>2420747</th>\n",
       "      <td>el</td>\n",
       "      <td>Καλησπέρα παιδιά, το πρόβλημα είναι το εξής. \\...</td>\n",
       "    </tr>\n",
       "    <tr>\n",
       "      <th>2981903</th>\n",
       "      <td>el</td>\n",
       "      <td>Καλησπέρα παίδες. Ψάχνω Ελληνικό active raidin...</td>\n",
       "    </tr>\n",
       "    <tr>\n",
       "      <th>2879517</th>\n",
       "      <td>greeklish</td>\n",
       "      <td>Opoios gnwrizei kati as mou kanei /w Dremoria ...</td>\n",
       "    </tr>\n",
       "    <tr>\n",
       "      <th>...</th>\n",
       "      <td>...</td>\n",
       "      <td>...</td>\n",
       "    </tr>\n",
       "    <tr>\n",
       "      <th>2877428</th>\n",
       "      <td>greeklish</td>\n",
       "      <td>kalos private aksizei na ksekiniseis paidia?</td>\n",
       "    </tr>\n",
       "    <tr>\n",
       "      <th>3069941</th>\n",
       "      <td>el</td>\n",
       "      <td>Ε μεις αυξανόμαστε και θα αρχίσουμε να στήνουμ...</td>\n",
       "    </tr>\n",
       "    <tr>\n",
       "      <th>2801654</th>\n",
       "      <td>greeklish</td>\n",
       "      <td>Bump! ICC25 6/12</td>\n",
       "    </tr>\n",
       "    <tr>\n",
       "      <th>2873339</th>\n",
       "      <td>greeklish</td>\n",
       "      <td>Kalhspera tha ithela na rwthsw an kapoios gnwr...</td>\n",
       "    </tr>\n",
       "    <tr>\n",
       "      <th>2410495</th>\n",
       "      <td>el</td>\n",
       "      <td>Εμπειρια εχω, αλλα δεν εχω χρονο...αυτο ειναι ...</td>\n",
       "    </tr>\n",
       "  </tbody>\n",
       "</table>\n",
       "<p>407 rows × 2 columns</p>\n",
       "</div>"
      ],
      "text/plain": [
       "            labels                                               text\n",
       "id                                                                   \n",
       "2926596  greeklish  Kalhspera paides,\\n\\r\\nEimai arketo kairo ston...\n",
       "2473988  greeklish  geia sas.psaxnw ellhniko guild ston Deathwing ...\n",
       "2420747         el  Καλησπέρα παιδιά, το πρόβλημα είναι το εξής. \\...\n",
       "2981903         el  Καλησπέρα παίδες. Ψάχνω Ελληνικό active raidin...\n",
       "2879517  greeklish  Opoios gnwrizei kati as mou kanei /w Dremoria ...\n",
       "...            ...                                                ...\n",
       "2877428  greeklish       kalos private aksizei na ksekiniseis paidia?\n",
       "3069941         el  Ε μεις αυξανόμαστε και θα αρχίσουμε να στήνουμ...\n",
       "2801654  greeklish                                   Bump! ICC25 6/12\n",
       "2873339  greeklish  Kalhspera tha ithela na rwthsw an kapoios gnwr...\n",
       "2410495         el  Εμπειρια εχω, αλλα δεν εχω χρονο...αυτο ειναι ...\n",
       "\n",
       "[407 rows x 2 columns]"
      ]
     },
     "execution_count": 20,
     "metadata": {},
     "output_type": "execute_result"
    }
   ],
   "source": [
    "labels = np.where(preds==\"en\", \"greeklish\", \"el\")\n",
    "gold2_df = pd.DataFrame({\"labels\": labels, \"text\": warmane_df.contents})\n",
    "gold2_df"
   ]
  },
  {
   "cell_type": "code",
   "execution_count": 21,
   "id": "ff7306dd-67e1-4bf6-be4b-6c8974964b61",
   "metadata": {},
   "outputs": [
    {
     "data": {
      "text/html": [
       "<div>\n",
       "<style scoped>\n",
       "    .dataframe tbody tr th:only-of-type {\n",
       "        vertical-align: middle;\n",
       "    }\n",
       "\n",
       "    .dataframe tbody tr th {\n",
       "        vertical-align: top;\n",
       "    }\n",
       "\n",
       "    .dataframe thead th {\n",
       "        text-align: right;\n",
       "    }\n",
       "</style>\n",
       "<table border=\"1\" class=\"dataframe\">\n",
       "  <thead>\n",
       "    <tr style=\"text-align: right;\">\n",
       "      <th></th>\n",
       "      <th>labels</th>\n",
       "      <th>text</th>\n",
       "    </tr>\n",
       "  </thead>\n",
       "  <tbody>\n",
       "    <tr>\n",
       "      <th>0</th>\n",
       "      <td>el</td>\n",
       "      <td>Παρά τον εαυτό μου , η γνώμη μου για τη σύνεση...</td>\n",
       "    </tr>\n",
       "    <tr>\n",
       "      <th>1</th>\n",
       "      <td>en</td>\n",
       "      <td>Didnt really seem to work much.</td>\n",
       "    </tr>\n",
       "    <tr>\n",
       "      <th>2</th>\n",
       "      <td>el</td>\n",
       "      <td>Ακόμα και το να ξέρεις ότι ήταν ένα άγαλμα που...</td>\n",
       "    </tr>\n",
       "    <tr>\n",
       "      <th>3</th>\n",
       "      <td>en</td>\n",
       "      <td>Highly recommend for those who don't like bein...</td>\n",
       "    </tr>\n",
       "    <tr>\n",
       "      <th>4</th>\n",
       "      <td>el</td>\n",
       "      <td>Έχω κάνει τέσσερις ή πέντε .</td>\n",
       "    </tr>\n",
       "    <tr>\n",
       "      <th>...</th>\n",
       "      <td>...</td>\n",
       "      <td>...</td>\n",
       "    </tr>\n",
       "    <tr>\n",
       "      <th>2877428</th>\n",
       "      <td>greeklish</td>\n",
       "      <td>kalos private aksizei na ksekiniseis paidia?</td>\n",
       "    </tr>\n",
       "    <tr>\n",
       "      <th>3069941</th>\n",
       "      <td>el</td>\n",
       "      <td>Ε μεις αυξανόμαστε και θα αρχίσουμε να στήνουμ...</td>\n",
       "    </tr>\n",
       "    <tr>\n",
       "      <th>2801654</th>\n",
       "      <td>greeklish</td>\n",
       "      <td>Bump! ICC25 6/12</td>\n",
       "    </tr>\n",
       "    <tr>\n",
       "      <th>2873339</th>\n",
       "      <td>greeklish</td>\n",
       "      <td>Kalhspera tha ithela na rwthsw an kapoios gnwr...</td>\n",
       "    </tr>\n",
       "    <tr>\n",
       "      <th>2410495</th>\n",
       "      <td>el</td>\n",
       "      <td>Εμπειρια εχω, αλλα δεν εχω χρονο...αυτο ειναι ...</td>\n",
       "    </tr>\n",
       "  </tbody>\n",
       "</table>\n",
       "<p>24407 rows × 2 columns</p>\n",
       "</div>"
      ],
      "text/plain": [
       "            labels                                               text\n",
       "0               el  Παρά τον εαυτό μου , η γνώμη μου για τη σύνεση...\n",
       "1               en                    Didnt really seem to work much.\n",
       "2               el  Ακόμα και το να ξέρεις ότι ήταν ένα άγαλμα που...\n",
       "3               en  Highly recommend for those who don't like bein...\n",
       "4               el                       Έχω κάνει τέσσερις ή πέντε .\n",
       "...            ...                                                ...\n",
       "2877428  greeklish       kalos private aksizei na ksekiniseis paidia?\n",
       "3069941         el  Ε μεις αυξανόμαστε και θα αρχίσουμε να στήνουμ...\n",
       "2801654  greeklish                                   Bump! ICC25 6/12\n",
       "2873339  greeklish  Kalhspera tha ithela na rwthsw an kapoios gnwr...\n",
       "2410495         el  Εμπειρια εχω, αλλα δεν εχω χρονο...αυτο ειναι ...\n",
       "\n",
       "[24407 rows x 2 columns]"
      ]
     },
     "execution_count": 21,
     "metadata": {},
     "output_type": "execute_result"
    }
   ],
   "source": [
    "gold_df = pd.concat([gold1_df, gold2_df])\n",
    "gold_df"
   ]
  },
  {
   "cell_type": "code",
   "execution_count": 22,
   "id": "be21cbf4-0e05-490c-b6a2-3c68b425c89b",
   "metadata": {},
   "outputs": [],
   "source": [
    "import os\n",
    "\n",
    "\n",
    "OUTPUT_DIR = \"output\"\n",
    "\n",
    "def csv_output(df: pd.DataFrame, filename: str) -> None:\n",
    "    file = os.path.join(OUTPUT_DIR, filename)\n",
    "    df.to_csv(file)\n",
    "    print(f\"File saved successfully as {file}\")"
   ]
  },
  {
   "cell_type": "code",
   "execution_count": 23,
   "id": "95c8b92b-4bde-4c06-b92f-86d31c24e1a0",
   "metadata": {
    "tags": []
   },
   "outputs": [
    {
     "name": "stdout",
     "output_type": "stream",
     "text": [
      "File saved successfully as output\\gold.csv\n"
     ]
    }
   ],
   "source": [
    "csv_output(gold_df, \"gold.csv\")"
   ]
  },
  {
   "cell_type": "markdown",
   "id": "9345fd42-2426-4b4d-b7f6-e4e17fecb622",
   "metadata": {},
   "source": [
    "## Youtube Crawling"
   ]
  },
  {
   "cell_type": "code",
   "execution_count": 26,
   "id": "923224eb-9f12-44c7-b463-8fb262165bbb",
   "metadata": {
    "tags": []
   },
   "outputs": [],
   "source": [
    "from selenium.webdriver.chrome.service import Service\n",
    "from webdriver_manager.chrome import ChromeDriverManager\n",
    "from selenium import webdriver\n",
    "\n",
    "\n",
    "class ChromeDriverManager:\n",
    "    \"\"\"\n",
    "    A singleton class for managing a Chrome WebDriver instance using Selenium.\n",
    "\n",
    "    This class ensures that only one instance of the Chrome WebDriver is created\n",
    "    and provides methods for setting options, getting the instance, and quitting\n",
    "    the WebDriver when done.\n",
    "\n",
    "    Usage:\n",
    "    - To set options, use the `set_options` class method.\n",
    "    - To obtain the Chrome WebDriver instance, use the `get` class method.\n",
    "    - To quit and close the Chrome WebDriver instance, use the `quit` class method.\n",
    "    \"\"\"\n",
    "    DRIVER = None\n",
    "    options = webdriver.ChromeOptions()\n",
    "\n",
    "    @classmethod\n",
    "    def set_options(cls, options):\n",
    "        cls.options = options\n",
    "        \n",
    "    @classmethod   \n",
    "    def get(cls):\n",
    "        \"\"\"\n",
    "        Get the singleton instance of the Chrome WebDriver.\n",
    "\n",
    "        If the WebDriver instance does not exist, a new one is created using the\n",
    "        configured options.\n",
    "\n",
    "        Returns:\n",
    "        The singleton instance of the Chrome WebDriver.\n",
    "        \"\"\"\n",
    "        if cls.DRIVER is None:\n",
    "            cls.DRIVER = _new_chrome_driver(cls.options)\n",
    "        return cls.DRIVER\n",
    "\n",
    "    @classmethod  \n",
    "    def quit(cls):\n",
    "        \"\"\"\n",
    "        Quit and close the Chrome WebDriver instance.\n",
    "\n",
    "        This method should be called when the WebDriver is no longer needed.\n",
    "        \"\"\"\n",
    "        cls.DRIVER.quit()\n",
    "        cls.DRIVER = None\n",
    "\n",
    "    def __init__(self):\n",
    "        \"\"\"\n",
    "        Raise an exception to enforce the singleton pattern.\n",
    "\n",
    "        To obtain the Chrome WebDriver instance, use the `get` class method.\n",
    "        \"\"\"\n",
    "        raise Exception(\"DriverManager is a singleton. Use DriverManager.get() to get a driver.\")\n",
    "\n",
    "      \n",
    "def _new_chrome_driver(options):\n",
    "    try:\n",
    "        service = Service()\n",
    "    except Exception:\n",
    "        service = Service(ChromeDriverManager().install())\n",
    "        \n",
    "    return webdriver.Chrome(service=service, options=options)\n",
    "\n",
    "\n",
    "def default_options():\n",
    "    \"\"\"\n",
    "    Default configuration, featuring headless setup, standard language and user agent settings.\n",
    "    \"\"\"\n",
    "    options = webdriver.ChromeOptions()\n",
    "    options.add_argument(\"--headless\")\n",
    "    options.add_argument('--lang=en')\n",
    "    options.add_argument(\"user-agent=Mozilla/5.0 (Windows NT 10.0; Win64; x64) AppleWebKit/537.36 (KHTML, like Gecko) Chrome/104.0.0.0 Safari/537.36\")\n",
    "    return options\n",
    "\n",
    "\n",
    "def jupyter_options():\n",
    "    \"\"\"\n",
    "    Adds jupyter-specific settings to default_options().\n",
    "    \"\"\"\n",
    "    options = default_options()\n",
    "    # prevent console spam\n",
    "    options.add_experimental_option('excludeSwitches', ['enable-logging'])\n",
    "    return options\n",
    "\n",
    "\n",
    "ChromeDriverManager.set_options(jupyter_options())"
   ]
  },
  {
   "cell_type": "code",
   "execution_count": 27,
   "id": "fc364ba5-43ef-41dc-b47e-7b593ff4adcd",
   "metadata": {
    "tags": []
   },
   "outputs": [
    {
     "name": "stdout",
     "output_type": "stream",
     "text": [
      "Scrolling (0 out of max 10)...\n",
      "Scrolling (1 out of max 10)...\n",
      "Scrolling (2 out of max 10)...\n",
      "Scrolling (3 out of max 10)...\n",
      "Scrolling (4 out of max 10)...\n",
      "Scrolling (5 out of max 10)...\n",
      "Scrolling (6 out of max 10)...\n",
      "Scrolling (7 out of max 10)...\n",
      "Scrolling (8 out of max 10)...\n",
      "Scrolling (9 out of max 10)...\n",
      "Scrolling (10 out of max 10)...\n"
     ]
    }
   ],
   "source": [
    "from tasks.youtube import scrape_youtube, extract_search_results, extract_comments\n",
    "\n",
    "\n",
    "# \"greek songs\" search in Greek\n",
    "search_url = \"https://www.youtube.com/results?search_query=%CE%B5%CE%BB%CE%BB%CE%B7%CE%BD%CE%B9%CE%BA%CE%B1+%CF%84%CF%81%CE%B1%CE%B3%CE%BF%CF%85%CE%B4%CE%B9%CE%B1\"\n",
    "search_soup = scrape_youtube(ChromeDriverManager.get(), search_url, max_scrolls=10, verbose=True)"
   ]
  },
  {
   "cell_type": "code",
   "execution_count": 28,
   "id": "cccbdab7-02e4-4d4d-979d-7dcda9723c54",
   "metadata": {
    "tags": []
   },
   "outputs": [
    {
     "data": {
      "text/html": [
       "<div>\n",
       "<style scoped>\n",
       "    .dataframe tbody tr th:only-of-type {\n",
       "        vertical-align: middle;\n",
       "    }\n",
       "\n",
       "    .dataframe tbody tr th {\n",
       "        vertical-align: top;\n",
       "    }\n",
       "\n",
       "    .dataframe thead th {\n",
       "        text-align: right;\n",
       "    }\n",
       "</style>\n",
       "<table border=\"1\" class=\"dataframe\">\n",
       "  <thead>\n",
       "    <tr style=\"text-align: right;\">\n",
       "      <th></th>\n",
       "      <th>title</th>\n",
       "      <th>link</th>\n",
       "    </tr>\n",
       "  </thead>\n",
       "  <tbody>\n",
       "    <tr>\n",
       "      <th>0</th>\n",
       "      <td>\\n\\nΠου 'ναι τα χρόνια ! - 40 αθάνατα, αγαπημέ...</td>\n",
       "      <td>/watch?v=OdX0y96UPEA&amp;pp=ygUjzrXOu867zrfOvc65zr...</td>\n",
       "    </tr>\n",
       "    <tr>\n",
       "      <th>1</th>\n",
       "      <td>\\n\\nGreek Hits 2023 | Non-Stop Mix by Elegant ...</td>\n",
       "      <td>/watch?v=RcSAggke-_U&amp;pp=ygUjzrXOu867zrfOvc65zr...</td>\n",
       "    </tr>\n",
       "    <tr>\n",
       "      <th>2</th>\n",
       "      <td>\\n\\nGreek Ultra Hits Non Stop Mix By Nikos Hal...</td>\n",
       "      <td>/watch?v=KhCU68Eok9E&amp;pp=ygUjzrXOu867zrfOvc65zr...</td>\n",
       "    </tr>\n",
       "    <tr>\n",
       "      <th>3</th>\n",
       "      <td>\\n\\nAnastasia - Omorfi | Αναστασία - Όμορφη (O...</td>\n",
       "      <td>/watch?v=f8wpmLCmbas&amp;pp=ygUjzrXOu867zrfOvc65zr...</td>\n",
       "    </tr>\n",
       "    <tr>\n",
       "      <th>4</th>\n",
       "      <td>\\n\\nΜουσική ιστορία Νο.1 (μέρος πρώτο) - 100 χ...</td>\n",
       "      <td>/watch?v=p5g82ta4sTk&amp;pp=ygUjzrXOu867zrfOvc65zr...</td>\n",
       "    </tr>\n",
       "    <tr>\n",
       "      <th>...</th>\n",
       "      <td>...</td>\n",
       "      <td>...</td>\n",
       "    </tr>\n",
       "    <tr>\n",
       "      <th>218</th>\n",
       "      <td>\\n\\nΧρήστος Μενιδιάτης – Από Σήμερα | Official...</td>\n",
       "      <td>/watch?v=6-UiKOxBXc8&amp;pp=ygUjzrXOu867zrfOvc65zr...</td>\n",
       "    </tr>\n",
       "    <tr>\n",
       "      <th>219</th>\n",
       "      <td>\\n\\nπαιδιά τραγούδια | Ελληνικά Χριστουγεννιάτ...</td>\n",
       "      <td>/watch?v=CoFLfM4beq4&amp;pp=ygUjzrXOu867zrfOvc65zr...</td>\n",
       "    </tr>\n",
       "    <tr>\n",
       "      <th>220</th>\n",
       "      <td>\\n\\nΔιαχρονικά ελληνικά τραγούδια (Σε υψηλή πο...</td>\n",
       "      <td>/watch?v=32ZVcMG70iU&amp;pp=ygUjzrXOu867zrfOvc65zr...</td>\n",
       "    </tr>\n",
       "    <tr>\n",
       "      <th>221</th>\n",
       "      <td>\\n\\nStavento feat. Ήβη Αδάμου - Για Σένα (Offi...</td>\n",
       "      <td>/watch?v=mYkJ-Hrw1LA&amp;pp=ygUjzrXOu867zrfOvc65zr...</td>\n",
       "    </tr>\n",
       "    <tr>\n",
       "      <th>222</th>\n",
       "      <td>\\n\\nΣτου Μανώλη την Ταβέρνα - Παιδικά τραγούδι...</td>\n",
       "      <td>/watch?v=6mgDAp-HCsE&amp;pp=ygUjzrXOu867zrfOvc65zr...</td>\n",
       "    </tr>\n",
       "  </tbody>\n",
       "</table>\n",
       "<p>223 rows × 2 columns</p>\n",
       "</div>"
      ],
      "text/plain": [
       "                                                 title  \\\n",
       "0    \\n\\nΠου 'ναι τα χρόνια ! - 40 αθάνατα, αγαπημέ...   \n",
       "1    \\n\\nGreek Hits 2023 | Non-Stop Mix by Elegant ...   \n",
       "2    \\n\\nGreek Ultra Hits Non Stop Mix By Nikos Hal...   \n",
       "3    \\n\\nAnastasia - Omorfi | Αναστασία - Όμορφη (O...   \n",
       "4    \\n\\nΜουσική ιστορία Νο.1 (μέρος πρώτο) - 100 χ...   \n",
       "..                                                 ...   \n",
       "218  \\n\\nΧρήστος Μενιδιάτης – Από Σήμερα | Official...   \n",
       "219  \\n\\nπαιδιά τραγούδια | Ελληνικά Χριστουγεννιάτ...   \n",
       "220  \\n\\nΔιαχρονικά ελληνικά τραγούδια (Σε υψηλή πο...   \n",
       "221  \\n\\nStavento feat. Ήβη Αδάμου - Για Σένα (Offi...   \n",
       "222  \\n\\nΣτου Μανώλη την Ταβέρνα - Παιδικά τραγούδι...   \n",
       "\n",
       "                                                  link  \n",
       "0    /watch?v=OdX0y96UPEA&pp=ygUjzrXOu867zrfOvc65zr...  \n",
       "1    /watch?v=RcSAggke-_U&pp=ygUjzrXOu867zrfOvc65zr...  \n",
       "2    /watch?v=KhCU68Eok9E&pp=ygUjzrXOu867zrfOvc65zr...  \n",
       "3    /watch?v=f8wpmLCmbas&pp=ygUjzrXOu867zrfOvc65zr...  \n",
       "4    /watch?v=p5g82ta4sTk&pp=ygUjzrXOu867zrfOvc65zr...  \n",
       "..                                                 ...  \n",
       "218  /watch?v=6-UiKOxBXc8&pp=ygUjzrXOu867zrfOvc65zr...  \n",
       "219  /watch?v=CoFLfM4beq4&pp=ygUjzrXOu867zrfOvc65zr...  \n",
       "220  /watch?v=32ZVcMG70iU&pp=ygUjzrXOu867zrfOvc65zr...  \n",
       "221  /watch?v=mYkJ-Hrw1LA&pp=ygUjzrXOu867zrfOvc65zr...  \n",
       "222  /watch?v=6mgDAp-HCsE&pp=ygUjzrXOu867zrfOvc65zr...  \n",
       "\n",
       "[223 rows x 2 columns]"
      ]
     },
     "execution_count": 28,
     "metadata": {},
     "output_type": "execute_result"
    }
   ],
   "source": [
    "results = extract_search_results(search_soup)\n",
    "results_df = pd.DataFrame({\"title\": results[0], \"link\": results[1]})\n",
    "results_df"
   ]
  },
  {
   "cell_type": "code",
   "execution_count": 29,
   "id": "33ad8596-1462-41d4-a81f-2c00bf2d7e39",
   "metadata": {
    "tags": []
   },
   "outputs": [
    {
     "data": {
      "text/html": [
       "<div>\n",
       "<style scoped>\n",
       "    .dataframe tbody tr th:only-of-type {\n",
       "        vertical-align: middle;\n",
       "    }\n",
       "\n",
       "    .dataframe tbody tr th {\n",
       "        vertical-align: top;\n",
       "    }\n",
       "\n",
       "    .dataframe thead th {\n",
       "        text-align: right;\n",
       "    }\n",
       "</style>\n",
       "<table border=\"1\" class=\"dataframe\">\n",
       "  <thead>\n",
       "    <tr style=\"text-align: right;\">\n",
       "      <th></th>\n",
       "      <th>title</th>\n",
       "      <th>link</th>\n",
       "    </tr>\n",
       "  </thead>\n",
       "  <tbody>\n",
       "    <tr>\n",
       "      <th>0</th>\n",
       "      <td>Που 'ναι τα χρόνια ! - 40 αθάνατα, αγαπημένα, ...</td>\n",
       "      <td>https://www.youtube.com/watch?v=OdX0y96UPEA&amp;pp...</td>\n",
       "    </tr>\n",
       "    <tr>\n",
       "      <th>1</th>\n",
       "      <td>Greek Hits 2023 | Non-Stop Mix by Elegant Gree...</td>\n",
       "      <td>https://www.youtube.com/watch?v=RcSAggke-_U&amp;pp...</td>\n",
       "    </tr>\n",
       "    <tr>\n",
       "      <th>2</th>\n",
       "      <td>Greek Ultra Hits Non Stop Mix By Nikos Halkous...</td>\n",
       "      <td>https://www.youtube.com/watch?v=KhCU68Eok9E&amp;pp...</td>\n",
       "    </tr>\n",
       "    <tr>\n",
       "      <th>3</th>\n",
       "      <td>Anastasia - Omorfi | Αναστασία - Όμορφη (Offic...</td>\n",
       "      <td>https://www.youtube.com/watch?v=f8wpmLCmbas&amp;pp...</td>\n",
       "    </tr>\n",
       "    <tr>\n",
       "      <th>4</th>\n",
       "      <td>Μουσική ιστορία Νο.1 (μέρος πρώτο) - 100 χρυσά...</td>\n",
       "      <td>https://www.youtube.com/watch?v=p5g82ta4sTk&amp;pp...</td>\n",
       "    </tr>\n",
       "    <tr>\n",
       "      <th>...</th>\n",
       "      <td>...</td>\n",
       "      <td>...</td>\n",
       "    </tr>\n",
       "    <tr>\n",
       "      <th>218</th>\n",
       "      <td>Χρήστος Μενιδιάτης – Από Σήμερα | Official Mus...</td>\n",
       "      <td>https://www.youtube.com/watch?v=6-UiKOxBXc8&amp;pp...</td>\n",
       "    </tr>\n",
       "    <tr>\n",
       "      <th>219</th>\n",
       "      <td>παιδιά τραγούδια | Ελληνικά Χριστουγεννιάτικα ...</td>\n",
       "      <td>https://www.youtube.com/watch?v=CoFLfM4beq4&amp;pp...</td>\n",
       "    </tr>\n",
       "    <tr>\n",
       "      <th>220</th>\n",
       "      <td>Διαχρονικά ελληνικά τραγούδια (Σε υψηλή ποιότη...</td>\n",
       "      <td>https://www.youtube.com/watch?v=32ZVcMG70iU&amp;pp...</td>\n",
       "    </tr>\n",
       "    <tr>\n",
       "      <th>221</th>\n",
       "      <td>Stavento feat. Ήβη Αδάμου - Για Σένα (Official...</td>\n",
       "      <td>https://www.youtube.com/watch?v=mYkJ-Hrw1LA&amp;pp...</td>\n",
       "    </tr>\n",
       "    <tr>\n",
       "      <th>222</th>\n",
       "      <td>Στου Μανώλη την Ταβέρνα - Παιδικά τραγούδια | ...</td>\n",
       "      <td>https://www.youtube.com/watch?v=6mgDAp-HCsE&amp;pp...</td>\n",
       "    </tr>\n",
       "  </tbody>\n",
       "</table>\n",
       "<p>223 rows × 2 columns</p>\n",
       "</div>"
      ],
      "text/plain": [
       "                                                 title  \\\n",
       "0    Που 'ναι τα χρόνια ! - 40 αθάνατα, αγαπημένα, ...   \n",
       "1    Greek Hits 2023 | Non-Stop Mix by Elegant Gree...   \n",
       "2    Greek Ultra Hits Non Stop Mix By Nikos Halkous...   \n",
       "3    Anastasia - Omorfi | Αναστασία - Όμορφη (Offic...   \n",
       "4    Μουσική ιστορία Νο.1 (μέρος πρώτο) - 100 χρυσά...   \n",
       "..                                                 ...   \n",
       "218  Χρήστος Μενιδιάτης – Από Σήμερα | Official Mus...   \n",
       "219  παιδιά τραγούδια | Ελληνικά Χριστουγεννιάτικα ...   \n",
       "220  Διαχρονικά ελληνικά τραγούδια (Σε υψηλή ποιότη...   \n",
       "221  Stavento feat. Ήβη Αδάμου - Για Σένα (Official...   \n",
       "222  Στου Μανώλη την Ταβέρνα - Παιδικά τραγούδια | ...   \n",
       "\n",
       "                                                  link  \n",
       "0    https://www.youtube.com/watch?v=OdX0y96UPEA&pp...  \n",
       "1    https://www.youtube.com/watch?v=RcSAggke-_U&pp...  \n",
       "2    https://www.youtube.com/watch?v=KhCU68Eok9E&pp...  \n",
       "3    https://www.youtube.com/watch?v=f8wpmLCmbas&pp...  \n",
       "4    https://www.youtube.com/watch?v=p5g82ta4sTk&pp...  \n",
       "..                                                 ...  \n",
       "218  https://www.youtube.com/watch?v=6-UiKOxBXc8&pp...  \n",
       "219  https://www.youtube.com/watch?v=CoFLfM4beq4&pp...  \n",
       "220  https://www.youtube.com/watch?v=32ZVcMG70iU&pp...  \n",
       "221  https://www.youtube.com/watch?v=mYkJ-Hrw1LA&pp...  \n",
       "222  https://www.youtube.com/watch?v=6mgDAp-HCsE&pp...  \n",
       "\n",
       "[223 rows x 2 columns]"
      ]
     },
     "execution_count": 29,
     "metadata": {},
     "output_type": "execute_result"
    }
   ],
   "source": [
    "results_df.title = results_df.title.apply(lambda x: x.strip())\n",
    "results_df.link = results_df.link.apply(lambda x: \"https://www.youtube.com\" + x) \n",
    "results_df"
   ]
  },
  {
   "cell_type": "code",
   "execution_count": 30,
   "id": "1ef13a6a-2c51-419d-ba62-a58a7fd7e36a",
   "metadata": {
    "tags": []
   },
   "outputs": [
    {
     "data": {
      "text/html": [
       "<div>\n",
       "<style scoped>\n",
       "    .dataframe tbody tr th:only-of-type {\n",
       "        vertical-align: middle;\n",
       "    }\n",
       "\n",
       "    .dataframe tbody tr th {\n",
       "        vertical-align: top;\n",
       "    }\n",
       "\n",
       "    .dataframe thead th {\n",
       "        text-align: right;\n",
       "    }\n",
       "</style>\n",
       "<table border=\"1\" class=\"dataframe\">\n",
       "  <thead>\n",
       "    <tr style=\"text-align: right;\">\n",
       "      <th></th>\n",
       "      <th>title</th>\n",
       "      <th>link</th>\n",
       "    </tr>\n",
       "  </thead>\n",
       "  <tbody>\n",
       "    <tr>\n",
       "      <th>0</th>\n",
       "      <td>Που 'ναι τα χρόνια ! - 40 αθάνατα, αγαπημένα, ...</td>\n",
       "      <td>https://www.youtube.com/watch?v=OdX0y96UPEA&amp;pp...</td>\n",
       "    </tr>\n",
       "    <tr>\n",
       "      <th>3</th>\n",
       "      <td>Anastasia - Omorfi | Αναστασία - Όμορφη (Offic...</td>\n",
       "      <td>https://www.youtube.com/watch?v=f8wpmLCmbas&amp;pp...</td>\n",
       "    </tr>\n",
       "    <tr>\n",
       "      <th>4</th>\n",
       "      <td>Μουσική ιστορία Νο.1 (μέρος πρώτο) - 100 χρυσά...</td>\n",
       "      <td>https://www.youtube.com/watch?v=p5g82ta4sTk&amp;pp...</td>\n",
       "    </tr>\n",
       "    <tr>\n",
       "      <th>5</th>\n",
       "      <td>Αντώνης Ρέμος - Χίλια Σπίρτα - Official Music ...</td>\n",
       "      <td>https://www.youtube.com/watch?v=sTyGh6edBRQ&amp;pp...</td>\n",
       "    </tr>\n",
       "    <tr>\n",
       "      <th>6</th>\n",
       "      <td>Τα λαϊκά της ταβέρνας Νο.2 - 90 αξέχαστα, αυθε...</td>\n",
       "      <td>https://www.youtube.com/watch?v=VrxTxAByQW4&amp;pp...</td>\n",
       "    </tr>\n",
       "    <tr>\n",
       "      <th>...</th>\n",
       "      <td>...</td>\n",
       "      <td>...</td>\n",
       "    </tr>\n",
       "    <tr>\n",
       "      <th>218</th>\n",
       "      <td>Χρήστος Μενιδιάτης – Από Σήμερα | Official Mus...</td>\n",
       "      <td>https://www.youtube.com/watch?v=6-UiKOxBXc8&amp;pp...</td>\n",
       "    </tr>\n",
       "    <tr>\n",
       "      <th>219</th>\n",
       "      <td>παιδιά τραγούδια | Ελληνικά Χριστουγεννιάτικα ...</td>\n",
       "      <td>https://www.youtube.com/watch?v=CoFLfM4beq4&amp;pp...</td>\n",
       "    </tr>\n",
       "    <tr>\n",
       "      <th>220</th>\n",
       "      <td>Διαχρονικά ελληνικά τραγούδια (Σε υψηλή ποιότη...</td>\n",
       "      <td>https://www.youtube.com/watch?v=32ZVcMG70iU&amp;pp...</td>\n",
       "    </tr>\n",
       "    <tr>\n",
       "      <th>221</th>\n",
       "      <td>Stavento feat. Ήβη Αδάμου - Για Σένα (Official...</td>\n",
       "      <td>https://www.youtube.com/watch?v=mYkJ-Hrw1LA&amp;pp...</td>\n",
       "    </tr>\n",
       "    <tr>\n",
       "      <th>222</th>\n",
       "      <td>Στου Μανώλη την Ταβέρνα - Παιδικά τραγούδια | ...</td>\n",
       "      <td>https://www.youtube.com/watch?v=6mgDAp-HCsE&amp;pp...</td>\n",
       "    </tr>\n",
       "  </tbody>\n",
       "</table>\n",
       "<p>184 rows × 2 columns</p>\n",
       "</div>"
      ],
      "text/plain": [
       "                                                 title  \\\n",
       "0    Που 'ναι τα χρόνια ! - 40 αθάνατα, αγαπημένα, ...   \n",
       "3    Anastasia - Omorfi | Αναστασία - Όμορφη (Offic...   \n",
       "4    Μουσική ιστορία Νο.1 (μέρος πρώτο) - 100 χρυσά...   \n",
       "5    Αντώνης Ρέμος - Χίλια Σπίρτα - Official Music ...   \n",
       "6    Τα λαϊκά της ταβέρνας Νο.2 - 90 αξέχαστα, αυθε...   \n",
       "..                                                 ...   \n",
       "218  Χρήστος Μενιδιάτης – Από Σήμερα | Official Mus...   \n",
       "219  παιδιά τραγούδια | Ελληνικά Χριστουγεννιάτικα ...   \n",
       "220  Διαχρονικά ελληνικά τραγούδια (Σε υψηλή ποιότη...   \n",
       "221  Stavento feat. Ήβη Αδάμου - Για Σένα (Official...   \n",
       "222  Στου Μανώλη την Ταβέρνα - Παιδικά τραγούδια | ...   \n",
       "\n",
       "                                                  link  \n",
       "0    https://www.youtube.com/watch?v=OdX0y96UPEA&pp...  \n",
       "3    https://www.youtube.com/watch?v=f8wpmLCmbas&pp...  \n",
       "4    https://www.youtube.com/watch?v=p5g82ta4sTk&pp...  \n",
       "5    https://www.youtube.com/watch?v=sTyGh6edBRQ&pp...  \n",
       "6    https://www.youtube.com/watch?v=VrxTxAByQW4&pp...  \n",
       "..                                                 ...  \n",
       "218  https://www.youtube.com/watch?v=6-UiKOxBXc8&pp...  \n",
       "219  https://www.youtube.com/watch?v=CoFLfM4beq4&pp...  \n",
       "220  https://www.youtube.com/watch?v=32ZVcMG70iU&pp...  \n",
       "221  https://www.youtube.com/watch?v=mYkJ-Hrw1LA&pp...  \n",
       "222  https://www.youtube.com/watch?v=6mgDAp-HCsE&pp...  \n",
       "\n",
       "[184 rows x 2 columns]"
      ]
     },
     "execution_count": 30,
     "metadata": {},
     "output_type": "execute_result"
    }
   ],
   "source": [
    "greeklish_model = RegexClassifier(include_greeklish=True)\n",
    "preds = greeklish_model.predict(results_df.title)\n",
    "gr_res_df = results_df[(preds != \"en\") & (preds != None)]\n",
    "gr_res_df"
   ]
  },
  {
   "cell_type": "code",
   "execution_count": 31,
   "id": "4846afa7-1d7f-4fc2-8b79-7b2eca3bc418",
   "metadata": {},
   "outputs": [],
   "source": [
    "import bs4\n",
    "import threading\n",
    "\n",
    "\n",
    "def scrape_job(yt_url: str) -> tuple[str, bs4.BeautifulSoup]:\n",
    "    # access global driver object\n",
    "    try:\n",
    "        result = scrape_youtube(ChromeDriverManager.get(), \n",
    "                                yt_url, \n",
    "                                scroll_wait_secs=2,\n",
    "                                max_scrolls=15,\n",
    "                                verbose=False)\n",
    "    except Exception:\n",
    "        result = None\n",
    "    return yt_url, result"
   ]
  },
  {
   "cell_type": "code",
   "execution_count": 32,
   "id": "e711006a-ca32-4d6b-8a38-250ad1c5df61",
   "metadata": {},
   "outputs": [
    {
     "name": "stdout",
     "output_type": "stream",
     "text": [
      "Scrapping comments...\n"
     ]
    },
    {
     "name": "stderr",
     "output_type": "stream",
     "text": [
      "100%|████████████████████████████████████████████████████████████████████████████████| 150/150 [05:18<00:00,  2.13s/it]\n"
     ]
    }
   ],
   "source": [
    "import concurrent.futures\n",
    "\n",
    "\n",
    "jobs = 15\n",
    "# get at most max_videos, if more videos were crawled during the search\n",
    "max_videos = 150\n",
    "urls = gr_res_df.link[:max_videos] if len(gr_res_df) > max_videos else gr_res_df\n",
    "\n",
    "print(\"Scrapping comments...\")\n",
    "with concurrent.futures.ThreadPoolExecutor(max_workers=jobs) as executor:\n",
    "    results = list(tqdm(executor.map(scrape_job, urls), total=len(urls)))\n",
    "\n",
    "ChromeDriverManager.quit()"
   ]
  },
  {
   "cell_type": "code",
   "execution_count": 33,
   "id": "b4fc7b1f-3bcc-4af6-a39e-e6af2f4ab52e",
   "metadata": {},
   "outputs": [],
   "source": [
    "from tasks.youtube import extract_comments\n",
    "\n",
    "\n",
    "scraped_urls = []\n",
    "comments = []\n",
    "dates = []\n",
    "\n",
    "for url, result in results:\n",
    "    if result is not None:\n",
    "        new_comments, new_dates = extract_comments(result)\n",
    "        comments += new_comments\n",
    "        dates += new_dates\n",
    "        scraped_urls += ([url] * len(new_comments))"
   ]
  },
  {
   "cell_type": "code",
   "execution_count": 34,
   "id": "c476b479-9f93-408c-bb09-4b114a037c15",
   "metadata": {
    "tags": []
   },
   "outputs": [
    {
     "data": {
      "text/html": [
       "<div>\n",
       "<style scoped>\n",
       "    .dataframe tbody tr th:only-of-type {\n",
       "        vertical-align: middle;\n",
       "    }\n",
       "\n",
       "    .dataframe tbody tr th {\n",
       "        vertical-align: top;\n",
       "    }\n",
       "\n",
       "    .dataframe thead th {\n",
       "        text-align: right;\n",
       "    }\n",
       "</style>\n",
       "<table border=\"1\" class=\"dataframe\">\n",
       "  <thead>\n",
       "    <tr style=\"text-align: right;\">\n",
       "      <th></th>\n",
       "      <th>link</th>\n",
       "      <th>text</th>\n",
       "      <th>date</th>\n",
       "    </tr>\n",
       "  </thead>\n",
       "  <tbody>\n",
       "    <tr>\n",
       "      <th>0</th>\n",
       "      <td>https://www.youtube.com/watch?v=OdX0y96UPEA&amp;pp...</td>\n",
       "      <td>The most beautiful country in the world!\\nSerb...</td>\n",
       "      <td>2022-11-25 11:39:51.936919</td>\n",
       "    </tr>\n",
       "    <tr>\n",
       "      <th>1</th>\n",
       "      <td>https://www.youtube.com/watch?v=OdX0y96UPEA&amp;pp...</td>\n",
       "      <td>Прелепи Скијатос и прелепа Грчка. Пуно поздрав...</td>\n",
       "      <td>2021-11-25 11:39:51.941927</td>\n",
       "    </tr>\n",
       "    <tr>\n",
       "      <th>2</th>\n",
       "      <td>https://www.youtube.com/watch?v=OdX0y96UPEA&amp;pp...</td>\n",
       "      <td>Phenomenal songs, enjoyed a lot! Thank you Gre...</td>\n",
       "      <td>2023-02-25 11:39:51.948242</td>\n",
       "    </tr>\n",
       "    <tr>\n",
       "      <th>3</th>\n",
       "      <td>https://www.youtube.com/watch?v=OdX0y96UPEA&amp;pp...</td>\n",
       "      <td>This mix is definitely one of the best I’ve he...</td>\n",
       "      <td>2021-11-25 11:39:51.951241</td>\n",
       "    </tr>\n",
       "    <tr>\n",
       "      <th>4</th>\n",
       "      <td>https://www.youtube.com/watch?v=OdX0y96UPEA&amp;pp...</td>\n",
       "      <td>I'd love to live in Greece one day.....love th...</td>\n",
       "      <td>2021-11-25 11:39:51.955497</td>\n",
       "    </tr>\n",
       "    <tr>\n",
       "      <th>...</th>\n",
       "      <td>...</td>\n",
       "      <td>...</td>\n",
       "      <td>...</td>\n",
       "    </tr>\n",
       "    <tr>\n",
       "      <th>4323</th>\n",
       "      <td>https://www.youtube.com/watch?v=rkb7hgYqcDk&amp;pp...</td>\n",
       "      <td>μμμμ</td>\n",
       "      <td>2020-11-25 11:40:12.419526</td>\n",
       "    </tr>\n",
       "    <tr>\n",
       "      <th>4324</th>\n",
       "      <td>https://www.youtube.com/watch?v=rkb7hgYqcDk&amp;pp...</td>\n",
       "      <td>Κυριε δημητρη  αμα ειστε  μεσα στο σπιτι σας ν...</td>\n",
       "      <td>2023-03-25 11:40:12.423574</td>\n",
       "    </tr>\n",
       "    <tr>\n",
       "      <th>4325</th>\n",
       "      <td>https://www.youtube.com/watch?v=rkb7hgYqcDk&amp;pp...</td>\n",
       "      <td>Ικ</td>\n",
       "      <td>2020-11-25 11:40:12.425860</td>\n",
       "    </tr>\n",
       "    <tr>\n",
       "      <th>4326</th>\n",
       "      <td>https://www.youtube.com/watch?v=rkb7hgYqcDk&amp;pp...</td>\n",
       "      <td>Επιτέλους ποιότητα!!</td>\n",
       "      <td>2023-06-25 11:40:12.430896</td>\n",
       "    </tr>\n",
       "    <tr>\n",
       "      <th>4327</th>\n",
       "      <td>https://www.youtube.com/watch?v=rkb7hgYqcDk&amp;pp...</td>\n",
       "      <td>Κάθε  τραγούδι  ένα ταξίδι!!!</td>\n",
       "      <td>2020-11-25 11:40:12.434899</td>\n",
       "    </tr>\n",
       "  </tbody>\n",
       "</table>\n",
       "<p>4328 rows × 3 columns</p>\n",
       "</div>"
      ],
      "text/plain": [
       "                                                   link  \\\n",
       "0     https://www.youtube.com/watch?v=OdX0y96UPEA&pp...   \n",
       "1     https://www.youtube.com/watch?v=OdX0y96UPEA&pp...   \n",
       "2     https://www.youtube.com/watch?v=OdX0y96UPEA&pp...   \n",
       "3     https://www.youtube.com/watch?v=OdX0y96UPEA&pp...   \n",
       "4     https://www.youtube.com/watch?v=OdX0y96UPEA&pp...   \n",
       "...                                                 ...   \n",
       "4323  https://www.youtube.com/watch?v=rkb7hgYqcDk&pp...   \n",
       "4324  https://www.youtube.com/watch?v=rkb7hgYqcDk&pp...   \n",
       "4325  https://www.youtube.com/watch?v=rkb7hgYqcDk&pp...   \n",
       "4326  https://www.youtube.com/watch?v=rkb7hgYqcDk&pp...   \n",
       "4327  https://www.youtube.com/watch?v=rkb7hgYqcDk&pp...   \n",
       "\n",
       "                                                   text  \\\n",
       "0     The most beautiful country in the world!\\nSerb...   \n",
       "1     Прелепи Скијатос и прелепа Грчка. Пуно поздрав...   \n",
       "2     Phenomenal songs, enjoyed a lot! Thank you Gre...   \n",
       "3     This mix is definitely one of the best I’ve he...   \n",
       "4     I'd love to live in Greece one day.....love th...   \n",
       "...                                                 ...   \n",
       "4323                                               μμμμ   \n",
       "4324  Κυριε δημητρη  αμα ειστε  μεσα στο σπιτι σας ν...   \n",
       "4325                                                 Ικ   \n",
       "4326                               Επιτέλους ποιότητα!!   \n",
       "4327                      Κάθε  τραγούδι  ένα ταξίδι!!!   \n",
       "\n",
       "                           date  \n",
       "0    2022-11-25 11:39:51.936919  \n",
       "1    2021-11-25 11:39:51.941927  \n",
       "2    2023-02-25 11:39:51.948242  \n",
       "3    2021-11-25 11:39:51.951241  \n",
       "4    2021-11-25 11:39:51.955497  \n",
       "...                         ...  \n",
       "4323 2020-11-25 11:40:12.419526  \n",
       "4324 2023-03-25 11:40:12.423574  \n",
       "4325 2020-11-25 11:40:12.425860  \n",
       "4326 2023-06-25 11:40:12.430896  \n",
       "4327 2020-11-25 11:40:12.434899  \n",
       "\n",
       "[4328 rows x 3 columns]"
      ]
     },
     "execution_count": 34,
     "metadata": {},
     "output_type": "execute_result"
    }
   ],
   "source": [
    "comments_df = pd.DataFrame({\"link\": scraped_urls, \"text\": comments, \"date\": dates})\n",
    "comments_df"
   ]
  },
  {
   "cell_type": "code",
   "execution_count": 35,
   "id": "b89403e2-1223-4602-a93e-5adf7aeafc41",
   "metadata": {},
   "outputs": [
    {
     "data": {
      "text/html": [
       "<div>\n",
       "<style scoped>\n",
       "    .dataframe tbody tr th:only-of-type {\n",
       "        vertical-align: middle;\n",
       "    }\n",
       "\n",
       "    .dataframe tbody tr th {\n",
       "        vertical-align: top;\n",
       "    }\n",
       "\n",
       "    .dataframe thead th {\n",
       "        text-align: right;\n",
       "    }\n",
       "</style>\n",
       "<table border=\"1\" class=\"dataframe\">\n",
       "  <thead>\n",
       "    <tr style=\"text-align: right;\">\n",
       "      <th></th>\n",
       "      <th>title</th>\n",
       "      <th>link</th>\n",
       "      <th>text</th>\n",
       "      <th>date</th>\n",
       "    </tr>\n",
       "  </thead>\n",
       "  <tbody>\n",
       "    <tr>\n",
       "      <th>0</th>\n",
       "      <td>Που 'ναι τα χρόνια ! - 40 αθάνατα, αγαπημένα, ...</td>\n",
       "      <td>https://www.youtube.com/watch?v=OdX0y96UPEA&amp;pp...</td>\n",
       "      <td>The most beautiful country in the world!\\nSerb...</td>\n",
       "      <td>2022-11-25 11:39:51.936919</td>\n",
       "    </tr>\n",
       "    <tr>\n",
       "      <th>1</th>\n",
       "      <td>Που 'ναι τα χρόνια ! - 40 αθάνατα, αγαπημένα, ...</td>\n",
       "      <td>https://www.youtube.com/watch?v=OdX0y96UPEA&amp;pp...</td>\n",
       "      <td>Прелепи Скијатос и прелепа Грчка. Пуно поздрав...</td>\n",
       "      <td>2021-11-25 11:39:51.941927</td>\n",
       "    </tr>\n",
       "    <tr>\n",
       "      <th>2</th>\n",
       "      <td>Που 'ναι τα χρόνια ! - 40 αθάνατα, αγαπημένα, ...</td>\n",
       "      <td>https://www.youtube.com/watch?v=OdX0y96UPEA&amp;pp...</td>\n",
       "      <td>Phenomenal songs, enjoyed a lot! Thank you Gre...</td>\n",
       "      <td>2023-02-25 11:39:51.948242</td>\n",
       "    </tr>\n",
       "    <tr>\n",
       "      <th>3</th>\n",
       "      <td>Που 'ναι τα χρόνια ! - 40 αθάνατα, αγαπημένα, ...</td>\n",
       "      <td>https://www.youtube.com/watch?v=OdX0y96UPEA&amp;pp...</td>\n",
       "      <td>This mix is definitely one of the best I’ve he...</td>\n",
       "      <td>2021-11-25 11:39:51.951241</td>\n",
       "    </tr>\n",
       "    <tr>\n",
       "      <th>4</th>\n",
       "      <td>Που 'ναι τα χρόνια ! - 40 αθάνατα, αγαπημένα, ...</td>\n",
       "      <td>https://www.youtube.com/watch?v=OdX0y96UPEA&amp;pp...</td>\n",
       "      <td>I'd love to live in Greece one day.....love th...</td>\n",
       "      <td>2021-11-25 11:39:51.955497</td>\n",
       "    </tr>\n",
       "    <tr>\n",
       "      <th>...</th>\n",
       "      <td>...</td>\n",
       "      <td>...</td>\n",
       "      <td>...</td>\n",
       "      <td>...</td>\n",
       "    </tr>\n",
       "    <tr>\n",
       "      <th>4422</th>\n",
       "      <td>ΤΡΑΓΟΥΔΙΑ ΠΟΥ ΑΓΑΠΗΣΑΜΕ (ΕΠΙΛΟΓΕΣ)</td>\n",
       "      <td>https://www.youtube.com/watch?v=rkb7hgYqcDk&amp;pp...</td>\n",
       "      <td>μμμμ</td>\n",
       "      <td>2020-11-25 11:40:12.419526</td>\n",
       "    </tr>\n",
       "    <tr>\n",
       "      <th>4423</th>\n",
       "      <td>ΤΡΑΓΟΥΔΙΑ ΠΟΥ ΑΓΑΠΗΣΑΜΕ (ΕΠΙΛΟΓΕΣ)</td>\n",
       "      <td>https://www.youtube.com/watch?v=rkb7hgYqcDk&amp;pp...</td>\n",
       "      <td>Κυριε δημητρη  αμα ειστε  μεσα στο σπιτι σας ν...</td>\n",
       "      <td>2023-03-25 11:40:12.423574</td>\n",
       "    </tr>\n",
       "    <tr>\n",
       "      <th>4424</th>\n",
       "      <td>ΤΡΑΓΟΥΔΙΑ ΠΟΥ ΑΓΑΠΗΣΑΜΕ (ΕΠΙΛΟΓΕΣ)</td>\n",
       "      <td>https://www.youtube.com/watch?v=rkb7hgYqcDk&amp;pp...</td>\n",
       "      <td>Ικ</td>\n",
       "      <td>2020-11-25 11:40:12.425860</td>\n",
       "    </tr>\n",
       "    <tr>\n",
       "      <th>4425</th>\n",
       "      <td>ΤΡΑΓΟΥΔΙΑ ΠΟΥ ΑΓΑΠΗΣΑΜΕ (ΕΠΙΛΟΓΕΣ)</td>\n",
       "      <td>https://www.youtube.com/watch?v=rkb7hgYqcDk&amp;pp...</td>\n",
       "      <td>Επιτέλους ποιότητα!!</td>\n",
       "      <td>2023-06-25 11:40:12.430896</td>\n",
       "    </tr>\n",
       "    <tr>\n",
       "      <th>4426</th>\n",
       "      <td>ΤΡΑΓΟΥΔΙΑ ΠΟΥ ΑΓΑΠΗΣΑΜΕ (ΕΠΙΛΟΓΕΣ)</td>\n",
       "      <td>https://www.youtube.com/watch?v=rkb7hgYqcDk&amp;pp...</td>\n",
       "      <td>Κάθε  τραγούδι  ένα ταξίδι!!!</td>\n",
       "      <td>2020-11-25 11:40:12.434899</td>\n",
       "    </tr>\n",
       "  </tbody>\n",
       "</table>\n",
       "<p>4427 rows × 4 columns</p>\n",
       "</div>"
      ],
      "text/plain": [
       "                                                  title  \\\n",
       "0     Που 'ναι τα χρόνια ! - 40 αθάνατα, αγαπημένα, ...   \n",
       "1     Που 'ναι τα χρόνια ! - 40 αθάνατα, αγαπημένα, ...   \n",
       "2     Που 'ναι τα χρόνια ! - 40 αθάνατα, αγαπημένα, ...   \n",
       "3     Που 'ναι τα χρόνια ! - 40 αθάνατα, αγαπημένα, ...   \n",
       "4     Που 'ναι τα χρόνια ! - 40 αθάνατα, αγαπημένα, ...   \n",
       "...                                                 ...   \n",
       "4422                 ΤΡΑΓΟΥΔΙΑ ΠΟΥ ΑΓΑΠΗΣΑΜΕ (ΕΠΙΛΟΓΕΣ)   \n",
       "4423                 ΤΡΑΓΟΥΔΙΑ ΠΟΥ ΑΓΑΠΗΣΑΜΕ (ΕΠΙΛΟΓΕΣ)   \n",
       "4424                 ΤΡΑΓΟΥΔΙΑ ΠΟΥ ΑΓΑΠΗΣΑΜΕ (ΕΠΙΛΟΓΕΣ)   \n",
       "4425                 ΤΡΑΓΟΥΔΙΑ ΠΟΥ ΑΓΑΠΗΣΑΜΕ (ΕΠΙΛΟΓΕΣ)   \n",
       "4426                 ΤΡΑΓΟΥΔΙΑ ΠΟΥ ΑΓΑΠΗΣΑΜΕ (ΕΠΙΛΟΓΕΣ)   \n",
       "\n",
       "                                                   link  \\\n",
       "0     https://www.youtube.com/watch?v=OdX0y96UPEA&pp...   \n",
       "1     https://www.youtube.com/watch?v=OdX0y96UPEA&pp...   \n",
       "2     https://www.youtube.com/watch?v=OdX0y96UPEA&pp...   \n",
       "3     https://www.youtube.com/watch?v=OdX0y96UPEA&pp...   \n",
       "4     https://www.youtube.com/watch?v=OdX0y96UPEA&pp...   \n",
       "...                                                 ...   \n",
       "4422  https://www.youtube.com/watch?v=rkb7hgYqcDk&pp...   \n",
       "4423  https://www.youtube.com/watch?v=rkb7hgYqcDk&pp...   \n",
       "4424  https://www.youtube.com/watch?v=rkb7hgYqcDk&pp...   \n",
       "4425  https://www.youtube.com/watch?v=rkb7hgYqcDk&pp...   \n",
       "4426  https://www.youtube.com/watch?v=rkb7hgYqcDk&pp...   \n",
       "\n",
       "                                                   text  \\\n",
       "0     The most beautiful country in the world!\\nSerb...   \n",
       "1     Прелепи Скијатос и прелепа Грчка. Пуно поздрав...   \n",
       "2     Phenomenal songs, enjoyed a lot! Thank you Gre...   \n",
       "3     This mix is definitely one of the best I’ve he...   \n",
       "4     I'd love to live in Greece one day.....love th...   \n",
       "...                                                 ...   \n",
       "4422                                               μμμμ   \n",
       "4423  Κυριε δημητρη  αμα ειστε  μεσα στο σπιτι σας ν...   \n",
       "4424                                                 Ικ   \n",
       "4425                               Επιτέλους ποιότητα!!   \n",
       "4426                      Κάθε  τραγούδι  ένα ταξίδι!!!   \n",
       "\n",
       "                           date  \n",
       "0    2022-11-25 11:39:51.936919  \n",
       "1    2021-11-25 11:39:51.941927  \n",
       "2    2023-02-25 11:39:51.948242  \n",
       "3    2021-11-25 11:39:51.951241  \n",
       "4    2021-11-25 11:39:51.955497  \n",
       "...                         ...  \n",
       "4422 2020-11-25 11:40:12.419526  \n",
       "4423 2023-03-25 11:40:12.423574  \n",
       "4424 2020-11-25 11:40:12.425860  \n",
       "4425 2023-06-25 11:40:12.430896  \n",
       "4426 2020-11-25 11:40:12.434899  \n",
       "\n",
       "[4427 rows x 4 columns]"
      ]
     },
     "execution_count": 35,
     "metadata": {},
     "output_type": "execute_result"
    }
   ],
   "source": [
    "crawl_df = pd.merge(gr_res_df, comments_df, how=\"inner\", on=\"link\")\n",
    "crawl_df"
   ]
  },
  {
   "cell_type": "code",
   "execution_count": 36,
   "id": "3f4a3b8c-85b1-4e5f-993d-acdf84fcf92e",
   "metadata": {},
   "outputs": [
    {
     "data": {
      "text/plain": [
       "4427"
      ]
     },
     "execution_count": 36,
     "metadata": {},
     "output_type": "execute_result"
    }
   ],
   "source": [
    "sum(crawl_df.date != None)"
   ]
  },
  {
   "cell_type": "code",
   "execution_count": 37,
   "id": "f37f9c73-a70f-48b2-a81c-f63252ae3d67",
   "metadata": {},
   "outputs": [
    {
     "data": {
      "text/html": [
       "<div>\n",
       "<style scoped>\n",
       "    .dataframe tbody tr th:only-of-type {\n",
       "        vertical-align: middle;\n",
       "    }\n",
       "\n",
       "    .dataframe tbody tr th {\n",
       "        vertical-align: top;\n",
       "    }\n",
       "\n",
       "    .dataframe thead th {\n",
       "        text-align: right;\n",
       "    }\n",
       "</style>\n",
       "<table border=\"1\" class=\"dataframe\">\n",
       "  <thead>\n",
       "    <tr style=\"text-align: right;\">\n",
       "      <th></th>\n",
       "      <th>title</th>\n",
       "      <th>link</th>\n",
       "      <th>text</th>\n",
       "      <th>date</th>\n",
       "    </tr>\n",
       "  </thead>\n",
       "  <tbody>\n",
       "  </tbody>\n",
       "</table>\n",
       "</div>"
      ],
      "text/plain": [
       "Empty DataFrame\n",
       "Columns: [title, link, text, date]\n",
       "Index: []"
      ]
     },
     "execution_count": 37,
     "metadata": {},
     "output_type": "execute_result"
    }
   ],
   "source": [
    "crawl_df[crawl_df.text.apply(lambda x: x.isspace())]"
   ]
  },
  {
   "cell_type": "code",
   "execution_count": 38,
   "id": "4de9d2e6-3d1a-4405-a09f-80f99cecbdbd",
   "metadata": {
    "tags": []
   },
   "outputs": [
    {
     "data": {
      "text/html": [
       "<div>\n",
       "<style scoped>\n",
       "    .dataframe tbody tr th:only-of-type {\n",
       "        vertical-align: middle;\n",
       "    }\n",
       "\n",
       "    .dataframe tbody tr th {\n",
       "        vertical-align: top;\n",
       "    }\n",
       "\n",
       "    .dataframe thead th {\n",
       "        text-align: right;\n",
       "    }\n",
       "</style>\n",
       "<table border=\"1\" class=\"dataframe\">\n",
       "  <thead>\n",
       "    <tr style=\"text-align: right;\">\n",
       "      <th></th>\n",
       "      <th>title</th>\n",
       "      <th>link</th>\n",
       "      <th>text</th>\n",
       "      <th>date</th>\n",
       "    </tr>\n",
       "  </thead>\n",
       "  <tbody>\n",
       "    <tr>\n",
       "      <th>0</th>\n",
       "      <td>Που 'ναι τα χρόνια ! - 40 αθάνατα, αγαπημένα, ...</td>\n",
       "      <td>https://www.youtube.com/watch?v=OdX0y96UPEA&amp;pp...</td>\n",
       "      <td>The most beautiful country in the world!\\nSerb...</td>\n",
       "      <td>2022-11-25 11:39:51.936919</td>\n",
       "    </tr>\n",
       "    <tr>\n",
       "      <th>1</th>\n",
       "      <td>Που 'ναι τα χρόνια ! - 40 αθάνατα, αγαπημένα, ...</td>\n",
       "      <td>https://www.youtube.com/watch?v=OdX0y96UPEA&amp;pp...</td>\n",
       "      <td>Прелепи Скијатос и прелепа Грчка. Пуно поздрав...</td>\n",
       "      <td>2021-11-25 11:39:51.941927</td>\n",
       "    </tr>\n",
       "    <tr>\n",
       "      <th>2</th>\n",
       "      <td>Που 'ναι τα χρόνια ! - 40 αθάνατα, αγαπημένα, ...</td>\n",
       "      <td>https://www.youtube.com/watch?v=OdX0y96UPEA&amp;pp...</td>\n",
       "      <td>Phenomenal songs, enjoyed a lot! Thank you Gre...</td>\n",
       "      <td>2023-02-25 11:39:51.948242</td>\n",
       "    </tr>\n",
       "    <tr>\n",
       "      <th>3</th>\n",
       "      <td>Που 'ναι τα χρόνια ! - 40 αθάνατα, αγαπημένα, ...</td>\n",
       "      <td>https://www.youtube.com/watch?v=OdX0y96UPEA&amp;pp...</td>\n",
       "      <td>This mix is definitely one of the best I’ve he...</td>\n",
       "      <td>2021-11-25 11:39:51.951241</td>\n",
       "    </tr>\n",
       "    <tr>\n",
       "      <th>4</th>\n",
       "      <td>Που 'ναι τα χρόνια ! - 40 αθάνατα, αγαπημένα, ...</td>\n",
       "      <td>https://www.youtube.com/watch?v=OdX0y96UPEA&amp;pp...</td>\n",
       "      <td>I'd love to live in Greece one day.....love th...</td>\n",
       "      <td>2021-11-25 11:39:51.955497</td>\n",
       "    </tr>\n",
       "    <tr>\n",
       "      <th>...</th>\n",
       "      <td>...</td>\n",
       "      <td>...</td>\n",
       "      <td>...</td>\n",
       "      <td>...</td>\n",
       "    </tr>\n",
       "    <tr>\n",
       "      <th>4416</th>\n",
       "      <td>ΤΡΑΓΟΥΔΙΑ ΠΟΥ ΑΓΑΠΗΣΑΜΕ (ΕΠΙΛΟΓΕΣ)</td>\n",
       "      <td>https://www.youtube.com/watch?v=rkb7hgYqcDk&amp;pp...</td>\n",
       "      <td></td>\n",
       "      <td>2023-08-25 11:40:12.397540</td>\n",
       "    </tr>\n",
       "    <tr>\n",
       "      <th>4418</th>\n",
       "      <td>ΤΡΑΓΟΥΔΙΑ ΠΟΥ ΑΓΑΠΗΣΑΜΕ (ΕΠΙΛΟΓΕΣ)</td>\n",
       "      <td>https://www.youtube.com/watch?v=rkb7hgYqcDk&amp;pp...</td>\n",
       "      <td></td>\n",
       "      <td>2020-11-25 11:40:12.404305</td>\n",
       "    </tr>\n",
       "    <tr>\n",
       "      <th>4419</th>\n",
       "      <td>ΤΡΑΓΟΥΔΙΑ ΠΟΥ ΑΓΑΠΗΣΑΜΕ (ΕΠΙΛΟΓΕΣ)</td>\n",
       "      <td>https://www.youtube.com/watch?v=rkb7hgYqcDk&amp;pp...</td>\n",
       "      <td>savvatovrado 2023 pinontas kai akougontas...</td>\n",
       "      <td>2023-08-25 11:40:12.407506</td>\n",
       "    </tr>\n",
       "    <tr>\n",
       "      <th>4420</th>\n",
       "      <td>ΤΡΑΓΟΥΔΙΑ ΠΟΥ ΑΓΑΠΗΣΑΜΕ (ΕΠΙΛΟΓΕΣ)</td>\n",
       "      <td>https://www.youtube.com/watch?v=rkb7hgYqcDk&amp;pp...</td>\n",
       "      <td>Efkaristo ja afto tragudhja</td>\n",
       "      <td>2023-01-25 11:40:12.412206</td>\n",
       "    </tr>\n",
       "    <tr>\n",
       "      <th>4421</th>\n",
       "      <td>ΤΡΑΓΟΥΔΙΑ ΠΟΥ ΑΓΑΠΗΣΑΜΕ (ΕΠΙΛΟΓΕΣ)</td>\n",
       "      <td>https://www.youtube.com/watch?v=rkb7hgYqcDk&amp;pp...</td>\n",
       "      <td>I’\\nIn m in</td>\n",
       "      <td>2020-11-25 11:40:12.416347</td>\n",
       "    </tr>\n",
       "  </tbody>\n",
       "</table>\n",
       "<p>1600 rows × 4 columns</p>\n",
       "</div>"
      ],
      "text/plain": [
       "                                                  title  \\\n",
       "0     Που 'ναι τα χρόνια ! - 40 αθάνατα, αγαπημένα, ...   \n",
       "1     Που 'ναι τα χρόνια ! - 40 αθάνατα, αγαπημένα, ...   \n",
       "2     Που 'ναι τα χρόνια ! - 40 αθάνατα, αγαπημένα, ...   \n",
       "3     Που 'ναι τα χρόνια ! - 40 αθάνατα, αγαπημένα, ...   \n",
       "4     Που 'ναι τα χρόνια ! - 40 αθάνατα, αγαπημένα, ...   \n",
       "...                                                 ...   \n",
       "4416                 ΤΡΑΓΟΥΔΙΑ ΠΟΥ ΑΓΑΠΗΣΑΜΕ (ΕΠΙΛΟΓΕΣ)   \n",
       "4418                 ΤΡΑΓΟΥΔΙΑ ΠΟΥ ΑΓΑΠΗΣΑΜΕ (ΕΠΙΛΟΓΕΣ)   \n",
       "4419                 ΤΡΑΓΟΥΔΙΑ ΠΟΥ ΑΓΑΠΗΣΑΜΕ (ΕΠΙΛΟΓΕΣ)   \n",
       "4420                 ΤΡΑΓΟΥΔΙΑ ΠΟΥ ΑΓΑΠΗΣΑΜΕ (ΕΠΙΛΟΓΕΣ)   \n",
       "4421                 ΤΡΑΓΟΥΔΙΑ ΠΟΥ ΑΓΑΠΗΣΑΜΕ (ΕΠΙΛΟΓΕΣ)   \n",
       "\n",
       "                                                   link  \\\n",
       "0     https://www.youtube.com/watch?v=OdX0y96UPEA&pp...   \n",
       "1     https://www.youtube.com/watch?v=OdX0y96UPEA&pp...   \n",
       "2     https://www.youtube.com/watch?v=OdX0y96UPEA&pp...   \n",
       "3     https://www.youtube.com/watch?v=OdX0y96UPEA&pp...   \n",
       "4     https://www.youtube.com/watch?v=OdX0y96UPEA&pp...   \n",
       "...                                                 ...   \n",
       "4416  https://www.youtube.com/watch?v=rkb7hgYqcDk&pp...   \n",
       "4418  https://www.youtube.com/watch?v=rkb7hgYqcDk&pp...   \n",
       "4419  https://www.youtube.com/watch?v=rkb7hgYqcDk&pp...   \n",
       "4420  https://www.youtube.com/watch?v=rkb7hgYqcDk&pp...   \n",
       "4421  https://www.youtube.com/watch?v=rkb7hgYqcDk&pp...   \n",
       "\n",
       "                                                   text  \\\n",
       "0     The most beautiful country in the world!\\nSerb...   \n",
       "1     Прелепи Скијатос и прелепа Грчка. Пуно поздрав...   \n",
       "2     Phenomenal songs, enjoyed a lot! Thank you Gre...   \n",
       "3     This mix is definitely one of the best I’ve he...   \n",
       "4     I'd love to live in Greece one day.....love th...   \n",
       "...                                                 ...   \n",
       "4416                                                      \n",
       "4418                                                      \n",
       "4419       savvatovrado 2023 pinontas kai akougontas...   \n",
       "4420                        Efkaristo ja afto tragudhja   \n",
       "4421                                        I’\\nIn m in   \n",
       "\n",
       "                           date  \n",
       "0    2022-11-25 11:39:51.936919  \n",
       "1    2021-11-25 11:39:51.941927  \n",
       "2    2023-02-25 11:39:51.948242  \n",
       "3    2021-11-25 11:39:51.951241  \n",
       "4    2021-11-25 11:39:51.955497  \n",
       "...                         ...  \n",
       "4416 2023-08-25 11:40:12.397540  \n",
       "4418 2020-11-25 11:40:12.404305  \n",
       "4419 2023-08-25 11:40:12.407506  \n",
       "4420 2023-01-25 11:40:12.412206  \n",
       "4421 2020-11-25 11:40:12.416347  \n",
       "\n",
       "[1600 rows x 4 columns]"
      ]
     },
     "execution_count": 38,
     "metadata": {},
     "output_type": "execute_result"
    }
   ],
   "source": [
    "preds = greeklish_model.predict(crawl_df.text)\n",
    "mask = (preds != \"el\") & (preds != \"greeklish\")\n",
    "crawl_df[mask]"
   ]
  },
  {
   "cell_type": "code",
   "execution_count": 39,
   "id": "bb7f6e4c-9678-4ea3-9c4f-a0121eac910e",
   "metadata": {
    "tags": []
   },
   "outputs": [
    {
     "name": "stdout",
     "output_type": "stream",
     "text": [
      "File saved successfully as output\\crawl.csv\n"
     ]
    }
   ],
   "source": [
    "csv_output(crawl_df, \"crawl.csv\")"
   ]
  },
  {
   "cell_type": "markdown",
   "id": "cf0324f7-ccbc-4157-983b-441cbb1c83c6",
   "metadata": {},
   "source": [
    "## Language Identification"
   ]
  },
  {
   "cell_type": "code",
   "execution_count": 40,
   "id": "852afc7e-a026-4457-9cfe-a451da710b32",
   "metadata": {
    "tags": []
   },
   "outputs": [
    {
     "data": {
      "text/html": [
       "<div>\n",
       "<style scoped>\n",
       "    .dataframe tbody tr th:only-of-type {\n",
       "        vertical-align: middle;\n",
       "    }\n",
       "\n",
       "    .dataframe tbody tr th {\n",
       "        vertical-align: top;\n",
       "    }\n",
       "\n",
       "    .dataframe thead th {\n",
       "        text-align: right;\n",
       "    }\n",
       "</style>\n",
       "<table border=\"1\" class=\"dataframe\">\n",
       "  <thead>\n",
       "    <tr style=\"text-align: right;\">\n",
       "      <th></th>\n",
       "      <th>labels</th>\n",
       "      <th>text</th>\n",
       "    </tr>\n",
       "  </thead>\n",
       "  <tbody>\n",
       "    <tr>\n",
       "      <th>23046</th>\n",
       "      <td>other</td>\n",
       "      <td>Nadal tuimelt in de Franse Open finale</td>\n",
       "    </tr>\n",
       "    <tr>\n",
       "      <th>23212</th>\n",
       "      <td>other</td>\n",
       "      <td>Déçu ne fonctionne pas avec 1 Samsung A... dom...</td>\n",
       "    </tr>\n",
       "    <tr>\n",
       "      <th>18110</th>\n",
       "      <td>other</td>\n",
       "      <td>انصاف کے لحاظ سے سپریم کورٹ نے اعلان کیا کہ اس...</td>\n",
       "    </tr>\n",
       "    <tr>\n",
       "      <th>22530</th>\n",
       "      <td>other</td>\n",
       "      <td>Meest krachtige tyfoon van 2013 raakt de Filip...</td>\n",
       "    </tr>\n",
       "    <tr>\n",
       "      <th>10563</th>\n",
       "      <td>other</td>\n",
       "      <td>Он вступил в НАТО в 1952. году .</td>\n",
       "    </tr>\n",
       "    <tr>\n",
       "      <th>...</th>\n",
       "      <td>...</td>\n",
       "      <td>...</td>\n",
       "    </tr>\n",
       "    <tr>\n",
       "      <th>23007</th>\n",
       "      <td>other</td>\n",
       "      <td>Tovuti ya MCI inaelezea lengo ya kupima mbio h...</td>\n",
       "    </tr>\n",
       "    <tr>\n",
       "      <th>23607</th>\n",
       "      <td>other</td>\n",
       "      <td>انا انا انا انتهيت اشاهد الكثير من هذه الاشياء...</td>\n",
       "    </tr>\n",
       "    <tr>\n",
       "      <th>17279</th>\n",
       "      <td>other</td>\n",
       "      <td>การประมูล ใน การแข่งขัน ยัง ง่าย ขึ้น ด้วย ชื่...</td>\n",
       "    </tr>\n",
       "    <tr>\n",
       "      <th>5066</th>\n",
       "      <td>en</td>\n",
       "      <td>This product was not for dogs. Definitely for ...</td>\n",
       "    </tr>\n",
       "    <tr>\n",
       "      <th>534</th>\n",
       "      <td>el</td>\n",
       "      <td>Έχετε ένα χρηματοκιβώτιο εδώ ; τα φρύδια του τ...</td>\n",
       "    </tr>\n",
       "  </tbody>\n",
       "</table>\n",
       "<p>19525 rows × 2 columns</p>\n",
       "</div>"
      ],
      "text/plain": [
       "      labels                                               text\n",
       "23046  other             Nadal tuimelt in de Franse Open finale\n",
       "23212  other  Déçu ne fonctionne pas avec 1 Samsung A... dom...\n",
       "18110  other  انصاف کے لحاظ سے سپریم کورٹ نے اعلان کیا کہ اس...\n",
       "22530  other  Meest krachtige tyfoon van 2013 raakt de Filip...\n",
       "10563  other                   Он вступил в НАТО в 1952. году .\n",
       "...      ...                                                ...\n",
       "23007  other  Tovuti ya MCI inaelezea lengo ya kupima mbio h...\n",
       "23607  other  انا انا انا انتهيت اشاهد الكثير من هذه الاشياء...\n",
       "17279  other  การประมูล ใน การแข่งขัน ยัง ง่าย ขึ้น ด้วย ชื่...\n",
       "5066      en  This product was not for dogs. Definitely for ...\n",
       "534       el  Έχετε ένα χρηματοκιβώτιο εδώ ; τα φρύδια του τ...\n",
       "\n",
       "[19525 rows x 2 columns]"
      ]
     },
     "execution_count": 40,
     "metadata": {},
     "output_type": "execute_result"
    }
   ],
   "source": [
    "from sklearn.model_selection import train_test_split\n",
    "\n",
    "\n",
    "data_train, data_test = train_test_split(gold_df, test_size=0.2, \n",
    "                                         random_state=42, stratify=gold_df.labels)\n",
    "data_train"
   ]
  },
  {
   "cell_type": "code",
   "execution_count": 41,
   "id": "0a182208-c3db-4892-8617-2209629396fd",
   "metadata": {
    "tags": []
   },
   "outputs": [
    {
     "data": {
      "text/plain": [
       "((19525, 80976), (19525,), (4882, 80976), (4882,))"
      ]
     },
     "execution_count": 41,
     "metadata": {},
     "output_type": "execute_result"
    }
   ],
   "source": [
    "from sklearn.feature_extraction.text import CountVectorizer, TfidfVectorizer\n",
    "\n",
    "\n",
    "vectorizer = TfidfVectorizer().fit(data_train.text)\n",
    "x_train = vectorizer.transform(data_train.text)\n",
    "y_train = data_train.labels\n",
    "x_test = vectorizer.transform(data_test.text)\n",
    "y_test = data_test.labels\n",
    "\n",
    "x_train.shape, y_train.shape, x_test.shape, y_test.shape"
   ]
  },
  {
   "cell_type": "code",
   "execution_count": 42,
   "id": "586c604d-1467-498c-9b04-57b00bf5db71",
   "metadata": {
    "tags": []
   },
   "outputs": [],
   "source": [
    "from sklearn.model_selection import cross_val_score\n",
    "\n",
    "\n",
    "def cross_val_res(model, x, y, scoring=None, cv=10):\n",
    "    if scoring is None:\n",
    "        scoring = \"f1_macro\"\n",
    "    res = cross_val_score(model, x, y, cv=cv, scoring=scoring)\n",
    "    return res"
   ]
  },
  {
   "cell_type": "markdown",
   "id": "10e77140-ffb9-41d2-9984-5764179617b3",
   "metadata": {},
   "source": [
    "### Dummy Classifier"
   ]
  },
  {
   "cell_type": "code",
   "execution_count": 43,
   "id": "a52c1a13-bf6a-4de9-a281-c43996874a5b",
   "metadata": {
    "tags": []
   },
   "outputs": [],
   "source": [
    "from sklearn.metrics import f1_score\n",
    "from sklearn.metrics import classification_report\n",
    "from sklearn.metrics import ConfusionMatrixDisplay\n",
    "import matplotlib.pyplot as plt\n",
    "import warnings\n",
    "\n",
    "\n",
    "def get_statistics(y_test, y_pred):\n",
    "    with warnings.catch_warnings():\n",
    "        warnings.simplefilter(\"ignore\")\n",
    "\n",
    "        print(f\"Macro F1: {f1_score(y_test, y_pred, average='macro', zero_division=0)}\")\n",
    "        print(classification_report(y_test, y_pred, zero_division=0))\n",
    "        ConfusionMatrixDisplay.from_predictions(y_test, \n",
    "                                                y_pred, \n",
    "                                                colorbar=True)\n",
    "        plt.show()"
   ]
  },
  {
   "cell_type": "code",
   "execution_count": 44,
   "id": "fc35cfee-456b-4ebb-a6bb-f91d7b8aa0c2",
   "metadata": {
    "tags": []
   },
   "outputs": [
    {
     "name": "stdout",
     "output_type": "stream",
     "text": [
      "Macro F1: 0.19030702867292565\n",
      "              precision    recall  f1-score   support\n",
      "\n",
      "          el       0.00      0.00      0.00       936\n",
      "          en       0.00      0.00      0.00       900\n",
      "   greeklish       0.00      0.00      0.00        46\n",
      "       other       0.61      1.00      0.76      3000\n",
      "\n",
      "    accuracy                           0.61      4882\n",
      "   macro avg       0.15      0.25      0.19      4882\n",
      "weighted avg       0.38      0.61      0.47      4882\n",
      "\n"
     ]
    },
    {
     "data": {
      "image/png": "[encoded data removed]",
      "text/plain": [
       "<Figure size 640x480 with 2 Axes>"
      ]
     },
     "metadata": {},
     "output_type": "display_data"
    }
   ],
   "source": [
    "from sklearn.dummy import DummyClassifier, DummyRegressor\n",
    "\n",
    "\n",
    "majority = DummyClassifier(strategy=\"most_frequent\")\n",
    "majority.fit(x_train, y_train)\n",
    "majority_res = majority.predict(x_test)\n",
    "\n",
    "get_statistics(y_test, majority_res)"
   ]
  },
  {
   "cell_type": "markdown",
   "id": "eb0b9c1a-4593-4890-9090-46b31dcc7866",
   "metadata": {},
   "source": [
    "### Regex Classification"
   ]
  },
  {
   "cell_type": "code",
   "execution_count": 45,
   "id": "0eb47656-a440-41c2-ae24-175969c76e06",
   "metadata": {
    "tags": []
   },
   "outputs": [
    {
     "name": "stdout",
     "output_type": "stream",
     "text": [
      "Regex Classifier mean macro F1: 0.5040, std: 0.5009\n"
     ]
    }
   ],
   "source": [
    "with warnings.catch_warnings():\n",
    "    warnings.simplefilter(\"ignore\")\n",
    "\n",
    "    regex_model = RegexClassifier()\n",
    "    res = cross_val_res(regex_model, data_train.text, y_train, scoring=\"f1_macro\")\n",
    "    print(f\"Regex Classifier mean macro F1: {res[0]:.4f}, std: {res[1]:.4f}\")"
   ]
  },
  {
   "cell_type": "code",
   "execution_count": 46,
   "id": "cdfa7f60-198c-4860-90a0-8f52e5b6151c",
   "metadata": {
    "tags": []
   },
   "outputs": [
    {
     "name": "stdout",
     "output_type": "stream",
     "text": [
      "Macro F1: 0.5048806538860134\n",
      "              precision    recall  f1-score   support\n",
      "\n",
      "          el       1.00      1.00      1.00       936\n",
      "          en       0.32      1.00      0.48       900\n",
      "   greeklish       0.00      0.00      0.00        46\n",
      "       other       1.00      0.37      0.54      3000\n",
      "\n",
      "    accuracy                           0.60      4882\n",
      "   macro avg       0.58      0.59      0.50      4882\n",
      "weighted avg       0.86      0.60      0.61      4882\n",
      "\n"
     ]
    },
    {
     "data": {
      "image/png": "[encoded data removed]",
      "text/plain": [
       "<Figure size 640x480 with 2 Axes>"
      ]
     },
     "metadata": {},
     "output_type": "display_data"
    }
   ],
   "source": [
    "regex_model = RegexClassifier(include_greeklish=True).fit(data_train.text, y_train)\n",
    "regex_res = regex_model.predict(data_test.text)\n",
    "get_statistics(y_test, regex_res)"
   ]
  },
  {
   "cell_type": "markdown",
   "id": "059ecd9d-3525-4f86-a102-5117125ddf5f",
   "metadata": {},
   "source": [
    "### Logistic Regression"
   ]
  },
  {
   "cell_type": "code",
   "execution_count": 47,
   "id": "51d879dd-7534-4cb6-b887-17bc89d3cb4c",
   "metadata": {
    "tags": []
   },
   "outputs": [
    {
     "name": "stdout",
     "output_type": "stream",
     "text": [
      "Logistic Regression mean macro F1-score 0.8140, std: 0.8535\n"
     ]
    }
   ],
   "source": [
    "from sklearn.linear_model import LogisticRegression\n",
    "\n",
    "\n",
    "with warnings.catch_warnings():\n",
    "    # ignore warnings about deprecated methods in libraries\n",
    "    warnings.simplefilter(\"ignore\")\n",
    "\n",
    "    lr = LogisticRegression(max_iter=1000)\n",
    "    res = cross_val_res(lr, x_train, y_train)\n",
    "    print(f\"Logistic Regression mean macro F1-score {res[0]:.4f}, std: {res[1]:.4f}\")"
   ]
  },
  {
   "cell_type": "code",
   "execution_count": 48,
   "id": "0fc257a8-a52f-4f5b-832d-2e6e8d57f112",
   "metadata": {
    "tags": []
   },
   "outputs": [
    {
     "name": "stdout",
     "output_type": "stream",
     "text": [
      "Macro F1: 0.8889742452224132\n",
      "              precision    recall  f1-score   support\n",
      "\n",
      "          el       1.00      0.94      0.97       936\n",
      "          en       0.99      0.97      0.98       900\n",
      "   greeklish       1.00      0.46      0.63        46\n",
      "       other       0.97      1.00      0.98      3000\n",
      "\n",
      "    accuracy                           0.98      4882\n",
      "   macro avg       0.99      0.84      0.89      4882\n",
      "weighted avg       0.98      0.98      0.97      4882\n",
      "\n"
     ]
    },
    {
     "data": {
      "image/png": "[encoded data removed]",
      "text/plain": [
       "<Figure size 640x480 with 2 Axes>"
      ]
     },
     "metadata": {},
     "output_type": "display_data"
    }
   ],
   "source": [
    "with warnings.catch_warnings():\n",
    "    warnings.simplefilter(\"ignore\")\n",
    "    lr = LogisticRegression(max_iter=1000).fit(x_train, y_train)\n",
    "    lr_res = lr.predict(x_test)\n",
    "\n",
    "get_statistics(y_test, lr_res)"
   ]
  },
  {
   "cell_type": "code",
   "execution_count": 49,
   "id": "2e25433a-8668-415c-9f9c-744d4c2075cf",
   "metadata": {},
   "outputs": [
    {
     "ename": "KeyboardInterrupt",
     "evalue": "",
     "output_type": "error",
     "traceback": [
      "\u001b[1;31m---------------------------------------------------------------------------\u001b[0m",
      "\u001b[1;31mKeyboardInterrupt\u001b[0m                         Traceback (most recent call last)",
      "Cell \u001b[1;32mIn[49], line 7\u001b[0m\n\u001b[0;32m      1\u001b[0m \u001b[38;5;28;01mfrom\u001b[39;00m \u001b[38;5;21;01msklearn\u001b[39;00m\u001b[38;5;21;01m.\u001b[39;00m\u001b[38;5;21;01mensemble\u001b[39;00m \u001b[38;5;28;01mimport\u001b[39;00m RandomForestClassifier\n\u001b[0;32m      4\u001b[0m forest_model \u001b[38;5;241m=\u001b[39m RandomForestClassifier(n_estimators\u001b[38;5;241m=\u001b[39m\u001b[38;5;241m50\u001b[39m, \n\u001b[0;32m      5\u001b[0m                                       n_jobs\u001b[38;5;241m=\u001b[39m\u001b[38;5;241m-\u001b[39m\u001b[38;5;241m1\u001b[39m, \n\u001b[0;32m      6\u001b[0m                                       criterion\u001b[38;5;241m=\u001b[39m\u001b[38;5;124m\"\u001b[39m\u001b[38;5;124mentropy\u001b[39m\u001b[38;5;124m\"\u001b[39m)\n\u001b[1;32m----> 7\u001b[0m res \u001b[38;5;241m=\u001b[39m cross_val_res(forest_model, x_train, y_train, cv\u001b[38;5;241m=\u001b[39m\u001b[38;5;241m3\u001b[39m)\n\u001b[0;32m      8\u001b[0m \u001b[38;5;28mprint\u001b[39m(\u001b[38;5;124mf\u001b[39m\u001b[38;5;124m\"\u001b[39m\u001b[38;5;124mRandom Forest mean macro F1: \u001b[39m\u001b[38;5;132;01m{\u001b[39;00mres[\u001b[38;5;241m0\u001b[39m]\u001b[38;5;132;01m:\u001b[39;00m\u001b[38;5;124m.4f\u001b[39m\u001b[38;5;132;01m}\u001b[39;00m\u001b[38;5;124m, std: \u001b[39m\u001b[38;5;132;01m{\u001b[39;00mres[\u001b[38;5;241m1\u001b[39m]\u001b[38;5;132;01m:\u001b[39;00m\u001b[38;5;124m.4f\u001b[39m\u001b[38;5;132;01m}\u001b[39;00m\u001b[38;5;124m\"\u001b[39m)\n",
      "Cell \u001b[1;32mIn[42], line 7\u001b[0m, in \u001b[0;36mcross_val_res\u001b[1;34m(model, x, y, scoring, cv)\u001b[0m\n\u001b[0;32m      5\u001b[0m \u001b[38;5;28;01mif\u001b[39;00m scoring \u001b[38;5;129;01mis\u001b[39;00m \u001b[38;5;28;01mNone\u001b[39;00m:\n\u001b[0;32m      6\u001b[0m     scoring \u001b[38;5;241m=\u001b[39m \u001b[38;5;124m\"\u001b[39m\u001b[38;5;124mf1_macro\u001b[39m\u001b[38;5;124m\"\u001b[39m\n\u001b[1;32m----> 7\u001b[0m res \u001b[38;5;241m=\u001b[39m cross_val_score(model, x, y, cv\u001b[38;5;241m=\u001b[39mcv, scoring\u001b[38;5;241m=\u001b[39mscoring)\n\u001b[0;32m      8\u001b[0m \u001b[38;5;28;01mreturn\u001b[39;00m res\n",
      "File \u001b[1;32m~\\anaconda3\\envs\\manis\\Lib\\site-packages\\sklearn\\model_selection\\_validation.py:562\u001b[0m, in \u001b[0;36mcross_val_score\u001b[1;34m(estimator, X, y, groups, scoring, cv, n_jobs, verbose, fit_params, pre_dispatch, error_score)\u001b[0m\n\u001b[0;32m    559\u001b[0m \u001b[38;5;66;03m# To ensure multimetric format is not supported\u001b[39;00m\n\u001b[0;32m    560\u001b[0m scorer \u001b[38;5;241m=\u001b[39m check_scoring(estimator, scoring\u001b[38;5;241m=\u001b[39mscoring)\n\u001b[1;32m--> 562\u001b[0m cv_results \u001b[38;5;241m=\u001b[39m cross_validate(\n\u001b[0;32m    563\u001b[0m     estimator\u001b[38;5;241m=\u001b[39mestimator,\n\u001b[0;32m    564\u001b[0m     X\u001b[38;5;241m=\u001b[39mX,\n\u001b[0;32m    565\u001b[0m     y\u001b[38;5;241m=\u001b[39my,\n\u001b[0;32m    566\u001b[0m     groups\u001b[38;5;241m=\u001b[39mgroups,\n\u001b[0;32m    567\u001b[0m     scoring\u001b[38;5;241m=\u001b[39m{\u001b[38;5;124m\"\u001b[39m\u001b[38;5;124mscore\u001b[39m\u001b[38;5;124m\"\u001b[39m: scorer},\n\u001b[0;32m    568\u001b[0m     cv\u001b[38;5;241m=\u001b[39mcv,\n\u001b[0;32m    569\u001b[0m     n_jobs\u001b[38;5;241m=\u001b[39mn_jobs,\n\u001b[0;32m    570\u001b[0m     verbose\u001b[38;5;241m=\u001b[39mverbose,\n\u001b[0;32m    571\u001b[0m     fit_params\u001b[38;5;241m=\u001b[39mfit_params,\n\u001b[0;32m    572\u001b[0m     pre_dispatch\u001b[38;5;241m=\u001b[39mpre_dispatch,\n\u001b[0;32m    573\u001b[0m     error_score\u001b[38;5;241m=\u001b[39merror_score,\n\u001b[0;32m    574\u001b[0m )\n\u001b[0;32m    575\u001b[0m \u001b[38;5;28;01mreturn\u001b[39;00m cv_results[\u001b[38;5;124m\"\u001b[39m\u001b[38;5;124mtest_score\u001b[39m\u001b[38;5;124m\"\u001b[39m]\n",
      "File \u001b[1;32m~\\anaconda3\\envs\\manis\\Lib\\site-packages\\sklearn\\utils\\_param_validation.py:211\u001b[0m, in \u001b[0;36mvalidate_params.<locals>.decorator.<locals>.wrapper\u001b[1;34m(*args, **kwargs)\u001b[0m\n\u001b[0;32m    205\u001b[0m \u001b[38;5;28;01mtry\u001b[39;00m:\n\u001b[0;32m    206\u001b[0m     \u001b[38;5;28;01mwith\u001b[39;00m config_context(\n\u001b[0;32m    207\u001b[0m         skip_parameter_validation\u001b[38;5;241m=\u001b[39m(\n\u001b[0;32m    208\u001b[0m             prefer_skip_nested_validation \u001b[38;5;129;01mor\u001b[39;00m global_skip_validation\n\u001b[0;32m    209\u001b[0m         )\n\u001b[0;32m    210\u001b[0m     ):\n\u001b[1;32m--> 211\u001b[0m         \u001b[38;5;28;01mreturn\u001b[39;00m func(\u001b[38;5;241m*\u001b[39margs, \u001b[38;5;241m*\u001b[39m\u001b[38;5;241m*\u001b[39mkwargs)\n\u001b[0;32m    212\u001b[0m \u001b[38;5;28;01mexcept\u001b[39;00m InvalidParameterError \u001b[38;5;28;01mas\u001b[39;00m e:\n\u001b[0;32m    213\u001b[0m     \u001b[38;5;66;03m# When the function is just a wrapper around an estimator, we allow\u001b[39;00m\n\u001b[0;32m    214\u001b[0m     \u001b[38;5;66;03m# the function to delegate validation to the estimator, but we replace\u001b[39;00m\n\u001b[0;32m    215\u001b[0m     \u001b[38;5;66;03m# the name of the estimator by the name of the function in the error\u001b[39;00m\n\u001b[0;32m    216\u001b[0m     \u001b[38;5;66;03m# message to avoid confusion.\u001b[39;00m\n\u001b[0;32m    217\u001b[0m     msg \u001b[38;5;241m=\u001b[39m re\u001b[38;5;241m.\u001b[39msub(\n\u001b[0;32m    218\u001b[0m         \u001b[38;5;124mr\u001b[39m\u001b[38;5;124m\"\u001b[39m\u001b[38;5;124mparameter of \u001b[39m\u001b[38;5;124m\\\u001b[39m\u001b[38;5;124mw+ must be\u001b[39m\u001b[38;5;124m\"\u001b[39m,\n\u001b[0;32m    219\u001b[0m         \u001b[38;5;124mf\u001b[39m\u001b[38;5;124m\"\u001b[39m\u001b[38;5;124mparameter of \u001b[39m\u001b[38;5;132;01m{\u001b[39;00mfunc\u001b[38;5;241m.\u001b[39m\u001b[38;5;18m__qualname__\u001b[39m\u001b[38;5;132;01m}\u001b[39;00m\u001b[38;5;124m must be\u001b[39m\u001b[38;5;124m\"\u001b[39m,\n\u001b[0;32m    220\u001b[0m         \u001b[38;5;28mstr\u001b[39m(e),\n\u001b[0;32m    221\u001b[0m     )\n",
      "File \u001b[1;32m~\\anaconda3\\envs\\manis\\Lib\\site-packages\\sklearn\\model_selection\\_validation.py:309\u001b[0m, in \u001b[0;36mcross_validate\u001b[1;34m(estimator, X, y, groups, scoring, cv, n_jobs, verbose, fit_params, pre_dispatch, return_train_score, return_estimator, return_indices, error_score)\u001b[0m\n\u001b[0;32m    306\u001b[0m \u001b[38;5;66;03m# We clone the estimator to make sure that all the folds are\u001b[39;00m\n\u001b[0;32m    307\u001b[0m \u001b[38;5;66;03m# independent, and that it is pickle-able.\u001b[39;00m\n\u001b[0;32m    308\u001b[0m parallel \u001b[38;5;241m=\u001b[39m Parallel(n_jobs\u001b[38;5;241m=\u001b[39mn_jobs, verbose\u001b[38;5;241m=\u001b[39mverbose, pre_dispatch\u001b[38;5;241m=\u001b[39mpre_dispatch)\n\u001b[1;32m--> 309\u001b[0m results \u001b[38;5;241m=\u001b[39m parallel(\n\u001b[0;32m    310\u001b[0m     delayed(_fit_and_score)(\n\u001b[0;32m    311\u001b[0m         clone(estimator),\n\u001b[0;32m    312\u001b[0m         X,\n\u001b[0;32m    313\u001b[0m         y,\n\u001b[0;32m    314\u001b[0m         scorers,\n\u001b[0;32m    315\u001b[0m         train,\n\u001b[0;32m    316\u001b[0m         test,\n\u001b[0;32m    317\u001b[0m         verbose,\n\u001b[0;32m    318\u001b[0m         \u001b[38;5;28;01mNone\u001b[39;00m,\n\u001b[0;32m    319\u001b[0m         fit_params,\n\u001b[0;32m    320\u001b[0m         return_train_score\u001b[38;5;241m=\u001b[39mreturn_train_score,\n\u001b[0;32m    321\u001b[0m         return_times\u001b[38;5;241m=\u001b[39m\u001b[38;5;28;01mTrue\u001b[39;00m,\n\u001b[0;32m    322\u001b[0m         return_estimator\u001b[38;5;241m=\u001b[39mreturn_estimator,\n\u001b[0;32m    323\u001b[0m         error_score\u001b[38;5;241m=\u001b[39merror_score,\n\u001b[0;32m    324\u001b[0m     )\n\u001b[0;32m    325\u001b[0m     \u001b[38;5;28;01mfor\u001b[39;00m train, test \u001b[38;5;129;01min\u001b[39;00m indices\n\u001b[0;32m    326\u001b[0m )\n\u001b[0;32m    328\u001b[0m _warn_or_raise_about_fit_failures(results, error_score)\n\u001b[0;32m    330\u001b[0m \u001b[38;5;66;03m# For callable scoring, the return type is only know after calling. If the\u001b[39;00m\n\u001b[0;32m    331\u001b[0m \u001b[38;5;66;03m# return type is a dictionary, the error scores can now be inserted with\u001b[39;00m\n\u001b[0;32m    332\u001b[0m \u001b[38;5;66;03m# the correct key.\u001b[39;00m\n",
      "File \u001b[1;32m~\\anaconda3\\envs\\manis\\Lib\\site-packages\\sklearn\\utils\\parallel.py:65\u001b[0m, in \u001b[0;36mParallel.__call__\u001b[1;34m(self, iterable)\u001b[0m\n\u001b[0;32m     60\u001b[0m config \u001b[38;5;241m=\u001b[39m get_config()\n\u001b[0;32m     61\u001b[0m iterable_with_config \u001b[38;5;241m=\u001b[39m (\n\u001b[0;32m     62\u001b[0m     (_with_config(delayed_func, config), args, kwargs)\n\u001b[0;32m     63\u001b[0m     \u001b[38;5;28;01mfor\u001b[39;00m delayed_func, args, kwargs \u001b[38;5;129;01min\u001b[39;00m iterable\n\u001b[0;32m     64\u001b[0m )\n\u001b[1;32m---> 65\u001b[0m \u001b[38;5;28;01mreturn\u001b[39;00m \u001b[38;5;28msuper\u001b[39m()\u001b[38;5;241m.\u001b[39m\u001b[38;5;21m__call__\u001b[39m(iterable_with_config)\n",
      "File \u001b[1;32m~\\anaconda3\\envs\\manis\\Lib\\site-packages\\joblib\\parallel.py:1088\u001b[0m, in \u001b[0;36mParallel.__call__\u001b[1;34m(self, iterable)\u001b[0m\n\u001b[0;32m   1085\u001b[0m \u001b[38;5;28;01mif\u001b[39;00m \u001b[38;5;28mself\u001b[39m\u001b[38;5;241m.\u001b[39mdispatch_one_batch(iterator):\n\u001b[0;32m   1086\u001b[0m     \u001b[38;5;28mself\u001b[39m\u001b[38;5;241m.\u001b[39m_iterating \u001b[38;5;241m=\u001b[39m \u001b[38;5;28mself\u001b[39m\u001b[38;5;241m.\u001b[39m_original_iterator \u001b[38;5;129;01mis\u001b[39;00m \u001b[38;5;129;01mnot\u001b[39;00m \u001b[38;5;28;01mNone\u001b[39;00m\n\u001b[1;32m-> 1088\u001b[0m \u001b[38;5;28;01mwhile\u001b[39;00m \u001b[38;5;28mself\u001b[39m\u001b[38;5;241m.\u001b[39mdispatch_one_batch(iterator):\n\u001b[0;32m   1089\u001b[0m     \u001b[38;5;28;01mpass\u001b[39;00m\n\u001b[0;32m   1091\u001b[0m \u001b[38;5;28;01mif\u001b[39;00m pre_dispatch \u001b[38;5;241m==\u001b[39m \u001b[38;5;124m\"\u001b[39m\u001b[38;5;124mall\u001b[39m\u001b[38;5;124m\"\u001b[39m \u001b[38;5;129;01mor\u001b[39;00m n_jobs \u001b[38;5;241m==\u001b[39m \u001b[38;5;241m1\u001b[39m:\n\u001b[0;32m   1092\u001b[0m     \u001b[38;5;66;03m# The iterable was consumed all at once by the above for loop.\u001b[39;00m\n\u001b[0;32m   1093\u001b[0m     \u001b[38;5;66;03m# No need to wait for async callbacks to trigger to\u001b[39;00m\n\u001b[0;32m   1094\u001b[0m     \u001b[38;5;66;03m# consumption.\u001b[39;00m\n",
      "File \u001b[1;32m~\\anaconda3\\envs\\manis\\Lib\\site-packages\\joblib\\parallel.py:901\u001b[0m, in \u001b[0;36mParallel.dispatch_one_batch\u001b[1;34m(self, iterator)\u001b[0m\n\u001b[0;32m    899\u001b[0m     \u001b[38;5;28;01mreturn\u001b[39;00m \u001b[38;5;28;01mFalse\u001b[39;00m\n\u001b[0;32m    900\u001b[0m \u001b[38;5;28;01melse\u001b[39;00m:\n\u001b[1;32m--> 901\u001b[0m     \u001b[38;5;28mself\u001b[39m\u001b[38;5;241m.\u001b[39m_dispatch(tasks)\n\u001b[0;32m    902\u001b[0m     \u001b[38;5;28;01mreturn\u001b[39;00m \u001b[38;5;28;01mTrue\u001b[39;00m\n",
      "File \u001b[1;32m~\\anaconda3\\envs\\manis\\Lib\\site-packages\\joblib\\parallel.py:819\u001b[0m, in \u001b[0;36mParallel._dispatch\u001b[1;34m(self, batch)\u001b[0m\n\u001b[0;32m    817\u001b[0m \u001b[38;5;28;01mwith\u001b[39;00m \u001b[38;5;28mself\u001b[39m\u001b[38;5;241m.\u001b[39m_lock:\n\u001b[0;32m    818\u001b[0m     job_idx \u001b[38;5;241m=\u001b[39m \u001b[38;5;28mlen\u001b[39m(\u001b[38;5;28mself\u001b[39m\u001b[38;5;241m.\u001b[39m_jobs)\n\u001b[1;32m--> 819\u001b[0m     job \u001b[38;5;241m=\u001b[39m \u001b[38;5;28mself\u001b[39m\u001b[38;5;241m.\u001b[39m_backend\u001b[38;5;241m.\u001b[39mapply_async(batch, callback\u001b[38;5;241m=\u001b[39mcb)\n\u001b[0;32m    820\u001b[0m     \u001b[38;5;66;03m# A job can complete so quickly than its callback is\u001b[39;00m\n\u001b[0;32m    821\u001b[0m     \u001b[38;5;66;03m# called before we get here, causing self._jobs to\u001b[39;00m\n\u001b[0;32m    822\u001b[0m     \u001b[38;5;66;03m# grow. To ensure correct results ordering, .insert is\u001b[39;00m\n\u001b[0;32m    823\u001b[0m     \u001b[38;5;66;03m# used (rather than .append) in the following line\u001b[39;00m\n\u001b[0;32m    824\u001b[0m     \u001b[38;5;28mself\u001b[39m\u001b[38;5;241m.\u001b[39m_jobs\u001b[38;5;241m.\u001b[39minsert(job_idx, job)\n",
      "File \u001b[1;32m~\\anaconda3\\envs\\manis\\Lib\\site-packages\\joblib\\_parallel_backends.py:208\u001b[0m, in \u001b[0;36mSequentialBackend.apply_async\u001b[1;34m(self, func, callback)\u001b[0m\n\u001b[0;32m    206\u001b[0m \u001b[38;5;28;01mdef\u001b[39;00m \u001b[38;5;21mapply_async\u001b[39m(\u001b[38;5;28mself\u001b[39m, func, callback\u001b[38;5;241m=\u001b[39m\u001b[38;5;28;01mNone\u001b[39;00m):\n\u001b[0;32m    207\u001b[0m \u001b[38;5;250m    \u001b[39m\u001b[38;5;124;03m\"\"\"Schedule a func to be run\"\"\"\u001b[39;00m\n\u001b[1;32m--> 208\u001b[0m     result \u001b[38;5;241m=\u001b[39m ImmediateResult(func)\n\u001b[0;32m    209\u001b[0m     \u001b[38;5;28;01mif\u001b[39;00m callback:\n\u001b[0;32m    210\u001b[0m         callback(result)\n",
      "File \u001b[1;32m~\\anaconda3\\envs\\manis\\Lib\\site-packages\\joblib\\_parallel_backends.py:597\u001b[0m, in \u001b[0;36mImmediateResult.__init__\u001b[1;34m(self, batch)\u001b[0m\n\u001b[0;32m    594\u001b[0m \u001b[38;5;28;01mdef\u001b[39;00m \u001b[38;5;21m__init__\u001b[39m(\u001b[38;5;28mself\u001b[39m, batch):\n\u001b[0;32m    595\u001b[0m     \u001b[38;5;66;03m# Don't delay the application, to avoid keeping the input\u001b[39;00m\n\u001b[0;32m    596\u001b[0m     \u001b[38;5;66;03m# arguments in memory\u001b[39;00m\n\u001b[1;32m--> 597\u001b[0m     \u001b[38;5;28mself\u001b[39m\u001b[38;5;241m.\u001b[39mresults \u001b[38;5;241m=\u001b[39m batch()\n",
      "File \u001b[1;32m~\\anaconda3\\envs\\manis\\Lib\\site-packages\\joblib\\parallel.py:288\u001b[0m, in \u001b[0;36mBatchedCalls.__call__\u001b[1;34m(self)\u001b[0m\n\u001b[0;32m    284\u001b[0m \u001b[38;5;28;01mdef\u001b[39;00m \u001b[38;5;21m__call__\u001b[39m(\u001b[38;5;28mself\u001b[39m):\n\u001b[0;32m    285\u001b[0m     \u001b[38;5;66;03m# Set the default nested backend to self._backend but do not set the\u001b[39;00m\n\u001b[0;32m    286\u001b[0m     \u001b[38;5;66;03m# change the default number of processes to -1\u001b[39;00m\n\u001b[0;32m    287\u001b[0m     \u001b[38;5;28;01mwith\u001b[39;00m parallel_backend(\u001b[38;5;28mself\u001b[39m\u001b[38;5;241m.\u001b[39m_backend, n_jobs\u001b[38;5;241m=\u001b[39m\u001b[38;5;28mself\u001b[39m\u001b[38;5;241m.\u001b[39m_n_jobs):\n\u001b[1;32m--> 288\u001b[0m         \u001b[38;5;28;01mreturn\u001b[39;00m [func(\u001b[38;5;241m*\u001b[39margs, \u001b[38;5;241m*\u001b[39m\u001b[38;5;241m*\u001b[39mkwargs)\n\u001b[0;32m    289\u001b[0m                 \u001b[38;5;28;01mfor\u001b[39;00m func, args, kwargs \u001b[38;5;129;01min\u001b[39;00m \u001b[38;5;28mself\u001b[39m\u001b[38;5;241m.\u001b[39mitems]\n",
      "File \u001b[1;32m~\\anaconda3\\envs\\manis\\Lib\\site-packages\\joblib\\parallel.py:288\u001b[0m, in \u001b[0;36m<listcomp>\u001b[1;34m(.0)\u001b[0m\n\u001b[0;32m    284\u001b[0m \u001b[38;5;28;01mdef\u001b[39;00m \u001b[38;5;21m__call__\u001b[39m(\u001b[38;5;28mself\u001b[39m):\n\u001b[0;32m    285\u001b[0m     \u001b[38;5;66;03m# Set the default nested backend to self._backend but do not set the\u001b[39;00m\n\u001b[0;32m    286\u001b[0m     \u001b[38;5;66;03m# change the default number of processes to -1\u001b[39;00m\n\u001b[0;32m    287\u001b[0m     \u001b[38;5;28;01mwith\u001b[39;00m parallel_backend(\u001b[38;5;28mself\u001b[39m\u001b[38;5;241m.\u001b[39m_backend, n_jobs\u001b[38;5;241m=\u001b[39m\u001b[38;5;28mself\u001b[39m\u001b[38;5;241m.\u001b[39m_n_jobs):\n\u001b[1;32m--> 288\u001b[0m         \u001b[38;5;28;01mreturn\u001b[39;00m [func(\u001b[38;5;241m*\u001b[39margs, \u001b[38;5;241m*\u001b[39m\u001b[38;5;241m*\u001b[39mkwargs)\n\u001b[0;32m    289\u001b[0m                 \u001b[38;5;28;01mfor\u001b[39;00m func, args, kwargs \u001b[38;5;129;01min\u001b[39;00m \u001b[38;5;28mself\u001b[39m\u001b[38;5;241m.\u001b[39mitems]\n",
      "File \u001b[1;32m~\\anaconda3\\envs\\manis\\Lib\\site-packages\\sklearn\\utils\\parallel.py:127\u001b[0m, in \u001b[0;36m_FuncWrapper.__call__\u001b[1;34m(self, *args, **kwargs)\u001b[0m\n\u001b[0;32m    125\u001b[0m     config \u001b[38;5;241m=\u001b[39m {}\n\u001b[0;32m    126\u001b[0m \u001b[38;5;28;01mwith\u001b[39;00m config_context(\u001b[38;5;241m*\u001b[39m\u001b[38;5;241m*\u001b[39mconfig):\n\u001b[1;32m--> 127\u001b[0m     \u001b[38;5;28;01mreturn\u001b[39;00m \u001b[38;5;28mself\u001b[39m\u001b[38;5;241m.\u001b[39mfunction(\u001b[38;5;241m*\u001b[39margs, \u001b[38;5;241m*\u001b[39m\u001b[38;5;241m*\u001b[39mkwargs)\n",
      "File \u001b[1;32m~\\anaconda3\\envs\\manis\\Lib\\site-packages\\sklearn\\model_selection\\_validation.py:732\u001b[0m, in \u001b[0;36m_fit_and_score\u001b[1;34m(estimator, X, y, scorer, train, test, verbose, parameters, fit_params, return_train_score, return_parameters, return_n_test_samples, return_times, return_estimator, split_progress, candidate_progress, error_score)\u001b[0m\n\u001b[0;32m    730\u001b[0m         estimator\u001b[38;5;241m.\u001b[39mfit(X_train, \u001b[38;5;241m*\u001b[39m\u001b[38;5;241m*\u001b[39mfit_params)\n\u001b[0;32m    731\u001b[0m     \u001b[38;5;28;01melse\u001b[39;00m:\n\u001b[1;32m--> 732\u001b[0m         estimator\u001b[38;5;241m.\u001b[39mfit(X_train, y_train, \u001b[38;5;241m*\u001b[39m\u001b[38;5;241m*\u001b[39mfit_params)\n\u001b[0;32m    734\u001b[0m \u001b[38;5;28;01mexcept\u001b[39;00m \u001b[38;5;167;01mException\u001b[39;00m:\n\u001b[0;32m    735\u001b[0m     \u001b[38;5;66;03m# Note fit time as time until error\u001b[39;00m\n\u001b[0;32m    736\u001b[0m     fit_time \u001b[38;5;241m=\u001b[39m time\u001b[38;5;241m.\u001b[39mtime() \u001b[38;5;241m-\u001b[39m start_time\n",
      "File \u001b[1;32m~\\anaconda3\\envs\\manis\\Lib\\site-packages\\sklearn\\base.py:1151\u001b[0m, in \u001b[0;36m_fit_context.<locals>.decorator.<locals>.wrapper\u001b[1;34m(estimator, *args, **kwargs)\u001b[0m\n\u001b[0;32m   1144\u001b[0m     estimator\u001b[38;5;241m.\u001b[39m_validate_params()\n\u001b[0;32m   1146\u001b[0m \u001b[38;5;28;01mwith\u001b[39;00m config_context(\n\u001b[0;32m   1147\u001b[0m     skip_parameter_validation\u001b[38;5;241m=\u001b[39m(\n\u001b[0;32m   1148\u001b[0m         prefer_skip_nested_validation \u001b[38;5;129;01mor\u001b[39;00m global_skip_validation\n\u001b[0;32m   1149\u001b[0m     )\n\u001b[0;32m   1150\u001b[0m ):\n\u001b[1;32m-> 1151\u001b[0m     \u001b[38;5;28;01mreturn\u001b[39;00m fit_method(estimator, \u001b[38;5;241m*\u001b[39margs, \u001b[38;5;241m*\u001b[39m\u001b[38;5;241m*\u001b[39mkwargs)\n",
      "File \u001b[1;32m~\\anaconda3\\envs\\manis\\Lib\\site-packages\\sklearn\\ensemble\\_forest.py:456\u001b[0m, in \u001b[0;36mBaseForest.fit\u001b[1;34m(self, X, y, sample_weight)\u001b[0m\n\u001b[0;32m    445\u001b[0m trees \u001b[38;5;241m=\u001b[39m [\n\u001b[0;32m    446\u001b[0m     \u001b[38;5;28mself\u001b[39m\u001b[38;5;241m.\u001b[39m_make_estimator(append\u001b[38;5;241m=\u001b[39m\u001b[38;5;28;01mFalse\u001b[39;00m, random_state\u001b[38;5;241m=\u001b[39mrandom_state)\n\u001b[0;32m    447\u001b[0m     \u001b[38;5;28;01mfor\u001b[39;00m i \u001b[38;5;129;01min\u001b[39;00m \u001b[38;5;28mrange\u001b[39m(n_more_estimators)\n\u001b[0;32m    448\u001b[0m ]\n\u001b[0;32m    450\u001b[0m \u001b[38;5;66;03m# Parallel loop: we prefer the threading backend as the Cython code\u001b[39;00m\n\u001b[0;32m    451\u001b[0m \u001b[38;5;66;03m# for fitting the trees is internally releasing the Python GIL\u001b[39;00m\n\u001b[0;32m    452\u001b[0m \u001b[38;5;66;03m# making threading more efficient than multiprocessing in\u001b[39;00m\n\u001b[0;32m    453\u001b[0m \u001b[38;5;66;03m# that case. However, for joblib 0.12+ we respect any\u001b[39;00m\n\u001b[0;32m    454\u001b[0m \u001b[38;5;66;03m# parallel_backend contexts set at a higher level,\u001b[39;00m\n\u001b[0;32m    455\u001b[0m \u001b[38;5;66;03m# since correctness does not rely on using threads.\u001b[39;00m\n\u001b[1;32m--> 456\u001b[0m trees \u001b[38;5;241m=\u001b[39m Parallel(\n\u001b[0;32m    457\u001b[0m     n_jobs\u001b[38;5;241m=\u001b[39m\u001b[38;5;28mself\u001b[39m\u001b[38;5;241m.\u001b[39mn_jobs,\n\u001b[0;32m    458\u001b[0m     verbose\u001b[38;5;241m=\u001b[39m\u001b[38;5;28mself\u001b[39m\u001b[38;5;241m.\u001b[39mverbose,\n\u001b[0;32m    459\u001b[0m     prefer\u001b[38;5;241m=\u001b[39m\u001b[38;5;124m\"\u001b[39m\u001b[38;5;124mthreads\u001b[39m\u001b[38;5;124m\"\u001b[39m,\n\u001b[0;32m    460\u001b[0m )(\n\u001b[0;32m    461\u001b[0m     delayed(_parallel_build_trees)(\n\u001b[0;32m    462\u001b[0m         t,\n\u001b[0;32m    463\u001b[0m         \u001b[38;5;28mself\u001b[39m\u001b[38;5;241m.\u001b[39mbootstrap,\n\u001b[0;32m    464\u001b[0m         X,\n\u001b[0;32m    465\u001b[0m         y,\n\u001b[0;32m    466\u001b[0m         sample_weight,\n\u001b[0;32m    467\u001b[0m         i,\n\u001b[0;32m    468\u001b[0m         \u001b[38;5;28mlen\u001b[39m(trees),\n\u001b[0;32m    469\u001b[0m         verbose\u001b[38;5;241m=\u001b[39m\u001b[38;5;28mself\u001b[39m\u001b[38;5;241m.\u001b[39mverbose,\n\u001b[0;32m    470\u001b[0m         class_weight\u001b[38;5;241m=\u001b[39m\u001b[38;5;28mself\u001b[39m\u001b[38;5;241m.\u001b[39mclass_weight,\n\u001b[0;32m    471\u001b[0m         n_samples_bootstrap\u001b[38;5;241m=\u001b[39mn_samples_bootstrap,\n\u001b[0;32m    472\u001b[0m     )\n\u001b[0;32m    473\u001b[0m     \u001b[38;5;28;01mfor\u001b[39;00m i, t \u001b[38;5;129;01min\u001b[39;00m \u001b[38;5;28menumerate\u001b[39m(trees)\n\u001b[0;32m    474\u001b[0m )\n\u001b[0;32m    476\u001b[0m \u001b[38;5;66;03m# Collect newly grown trees\u001b[39;00m\n\u001b[0;32m    477\u001b[0m \u001b[38;5;28mself\u001b[39m\u001b[38;5;241m.\u001b[39mestimators_\u001b[38;5;241m.\u001b[39mextend(trees)\n",
      "File \u001b[1;32m~\\anaconda3\\envs\\manis\\Lib\\site-packages\\sklearn\\utils\\parallel.py:65\u001b[0m, in \u001b[0;36mParallel.__call__\u001b[1;34m(self, iterable)\u001b[0m\n\u001b[0;32m     60\u001b[0m config \u001b[38;5;241m=\u001b[39m get_config()\n\u001b[0;32m     61\u001b[0m iterable_with_config \u001b[38;5;241m=\u001b[39m (\n\u001b[0;32m     62\u001b[0m     (_with_config(delayed_func, config), args, kwargs)\n\u001b[0;32m     63\u001b[0m     \u001b[38;5;28;01mfor\u001b[39;00m delayed_func, args, kwargs \u001b[38;5;129;01min\u001b[39;00m iterable\n\u001b[0;32m     64\u001b[0m )\n\u001b[1;32m---> 65\u001b[0m \u001b[38;5;28;01mreturn\u001b[39;00m \u001b[38;5;28msuper\u001b[39m()\u001b[38;5;241m.\u001b[39m\u001b[38;5;21m__call__\u001b[39m(iterable_with_config)\n",
      "File \u001b[1;32m~\\anaconda3\\envs\\manis\\Lib\\site-packages\\joblib\\parallel.py:1098\u001b[0m, in \u001b[0;36mParallel.__call__\u001b[1;34m(self, iterable)\u001b[0m\n\u001b[0;32m   1095\u001b[0m     \u001b[38;5;28mself\u001b[39m\u001b[38;5;241m.\u001b[39m_iterating \u001b[38;5;241m=\u001b[39m \u001b[38;5;28;01mFalse\u001b[39;00m\n\u001b[0;32m   1097\u001b[0m \u001b[38;5;28;01mwith\u001b[39;00m \u001b[38;5;28mself\u001b[39m\u001b[38;5;241m.\u001b[39m_backend\u001b[38;5;241m.\u001b[39mretrieval_context():\n\u001b[1;32m-> 1098\u001b[0m     \u001b[38;5;28mself\u001b[39m\u001b[38;5;241m.\u001b[39mretrieve()\n\u001b[0;32m   1099\u001b[0m \u001b[38;5;66;03m# Make sure that we get a last message telling us we are done\u001b[39;00m\n\u001b[0;32m   1100\u001b[0m elapsed_time \u001b[38;5;241m=\u001b[39m time\u001b[38;5;241m.\u001b[39mtime() \u001b[38;5;241m-\u001b[39m \u001b[38;5;28mself\u001b[39m\u001b[38;5;241m.\u001b[39m_start_time\n",
      "File \u001b[1;32m~\\anaconda3\\envs\\manis\\Lib\\site-packages\\joblib\\parallel.py:975\u001b[0m, in \u001b[0;36mParallel.retrieve\u001b[1;34m(self)\u001b[0m\n\u001b[0;32m    973\u001b[0m \u001b[38;5;28;01mtry\u001b[39;00m:\n\u001b[0;32m    974\u001b[0m     \u001b[38;5;28;01mif\u001b[39;00m \u001b[38;5;28mgetattr\u001b[39m(\u001b[38;5;28mself\u001b[39m\u001b[38;5;241m.\u001b[39m_backend, \u001b[38;5;124m'\u001b[39m\u001b[38;5;124msupports_timeout\u001b[39m\u001b[38;5;124m'\u001b[39m, \u001b[38;5;28;01mFalse\u001b[39;00m):\n\u001b[1;32m--> 975\u001b[0m         \u001b[38;5;28mself\u001b[39m\u001b[38;5;241m.\u001b[39m_output\u001b[38;5;241m.\u001b[39mextend(job\u001b[38;5;241m.\u001b[39mget(timeout\u001b[38;5;241m=\u001b[39m\u001b[38;5;28mself\u001b[39m\u001b[38;5;241m.\u001b[39mtimeout))\n\u001b[0;32m    976\u001b[0m     \u001b[38;5;28;01melse\u001b[39;00m:\n\u001b[0;32m    977\u001b[0m         \u001b[38;5;28mself\u001b[39m\u001b[38;5;241m.\u001b[39m_output\u001b[38;5;241m.\u001b[39mextend(job\u001b[38;5;241m.\u001b[39mget())\n",
      "File \u001b[1;32m~\\anaconda3\\envs\\manis\\Lib\\site-packages\\joblib\\_parallel_backends.py:567\u001b[0m, in \u001b[0;36mLokyBackend.wrap_future_result\u001b[1;34m(future, timeout)\u001b[0m\n\u001b[0;32m    564\u001b[0m \u001b[38;5;250m\u001b[39m\u001b[38;5;124;03m\"\"\"Wrapper for Future.result to implement the same behaviour as\u001b[39;00m\n\u001b[0;32m    565\u001b[0m \u001b[38;5;124;03mAsyncResults.get from multiprocessing.\"\"\"\u001b[39;00m\n\u001b[0;32m    566\u001b[0m \u001b[38;5;28;01mtry\u001b[39;00m:\n\u001b[1;32m--> 567\u001b[0m     \u001b[38;5;28;01mreturn\u001b[39;00m future\u001b[38;5;241m.\u001b[39mresult(timeout\u001b[38;5;241m=\u001b[39mtimeout)\n\u001b[0;32m    568\u001b[0m \u001b[38;5;28;01mexcept\u001b[39;00m CfTimeoutError \u001b[38;5;28;01mas\u001b[39;00m e:\n\u001b[0;32m    569\u001b[0m     \u001b[38;5;28;01mraise\u001b[39;00m \u001b[38;5;167;01mTimeoutError\u001b[39;00m \u001b[38;5;28;01mfrom\u001b[39;00m \u001b[38;5;21;01me\u001b[39;00m\n",
      "File \u001b[1;32m~\\anaconda3\\envs\\manis\\Lib\\concurrent\\futures\\_base.py:451\u001b[0m, in \u001b[0;36mFuture.result\u001b[1;34m(self, timeout)\u001b[0m\n\u001b[0;32m    448\u001b[0m \u001b[38;5;28;01melif\u001b[39;00m \u001b[38;5;28mself\u001b[39m\u001b[38;5;241m.\u001b[39m_state \u001b[38;5;241m==\u001b[39m FINISHED:\n\u001b[0;32m    449\u001b[0m     \u001b[38;5;28;01mreturn\u001b[39;00m \u001b[38;5;28mself\u001b[39m\u001b[38;5;241m.\u001b[39m__get_result()\n\u001b[1;32m--> 451\u001b[0m \u001b[38;5;28mself\u001b[39m\u001b[38;5;241m.\u001b[39m_condition\u001b[38;5;241m.\u001b[39mwait(timeout)\n\u001b[0;32m    453\u001b[0m \u001b[38;5;28;01mif\u001b[39;00m \u001b[38;5;28mself\u001b[39m\u001b[38;5;241m.\u001b[39m_state \u001b[38;5;129;01min\u001b[39;00m [CANCELLED, CANCELLED_AND_NOTIFIED]:\n\u001b[0;32m    454\u001b[0m     \u001b[38;5;28;01mraise\u001b[39;00m CancelledError()\n",
      "File \u001b[1;32m~\\anaconda3\\envs\\manis\\Lib\\threading.py:320\u001b[0m, in \u001b[0;36mCondition.wait\u001b[1;34m(self, timeout)\u001b[0m\n\u001b[0;32m    318\u001b[0m \u001b[38;5;28;01mtry\u001b[39;00m:    \u001b[38;5;66;03m# restore state no matter what (e.g., KeyboardInterrupt)\u001b[39;00m\n\u001b[0;32m    319\u001b[0m     \u001b[38;5;28;01mif\u001b[39;00m timeout \u001b[38;5;129;01mis\u001b[39;00m \u001b[38;5;28;01mNone\u001b[39;00m:\n\u001b[1;32m--> 320\u001b[0m         waiter\u001b[38;5;241m.\u001b[39macquire()\n\u001b[0;32m    321\u001b[0m         gotit \u001b[38;5;241m=\u001b[39m \u001b[38;5;28;01mTrue\u001b[39;00m\n\u001b[0;32m    322\u001b[0m     \u001b[38;5;28;01melse\u001b[39;00m:\n",
      "\u001b[1;31mKeyboardInterrupt\u001b[0m: "
     ]
    }
   ],
   "source": [
    "from sklearn.ensemble import RandomForestClassifier\n",
    "\n",
    "\n",
    "forest_model = RandomForestClassifier(n_estimators=50, \n",
    "                                      n_jobs=-1, \n",
    "                                      criterion=\"entropy\")\n",
    "res = cross_val_res(forest_model, x_train, y_train, cv=3)\n",
    "print(f\"Random Forest mean macro F1: {res[0]:.4f}, std: {res[1]:.4f}\")"
   ]
  },
  {
   "cell_type": "code",
   "execution_count": null,
   "id": "11adac17-016c-4c15-8f84-71818e662763",
   "metadata": {},
   "outputs": [],
   "source": [
    "from sklearn.ensemble import RandomForestClassifier\n",
    "\n",
    "\n",
    "forest_model = RandomForestClassifier(n_estimators=100, \n",
    "                                      n_jobs=-1, \n",
    "                                      criterion=\"entropy\", \n",
    "                                      verbose=1).fit(x_train, y_train)\n",
    "forest_pred = forest_model.predict(x_test)\n",
    "get_statistics(y_test, forest_pred)"
   ]
  },
  {
   "cell_type": "markdown",
   "id": "bfc319b9-5825-43be-88d5-707ed906d325",
   "metadata": {},
   "source": [
    "### Adaboost"
   ]
  },
  {
   "cell_type": "code",
   "execution_count": null,
   "id": "e6518279-b235-4598-aff5-6a7865c3a68b",
   "metadata": {},
   "outputs": [],
   "source": [
    "from sklearn.ensemble import AdaBoostClassifier\n",
    "\n",
    "\n",
    "ada_model = AdaBoostClassifier(n_estimators=50)\n",
    "res = cross_val_res(ada_model, x_train, y_train, cv=3)\n",
    "print(f\"AdaBoost mean macro F1: {res[0]:.4f}, std: {res[1]:.4f}\")"
   ]
  },
  {
   "cell_type": "code",
   "execution_count": null,
   "id": "285ec6f1-717a-48a8-8a8b-3d9e93caa531",
   "metadata": {},
   "outputs": [],
   "source": [
    "ada_model = AdaBoostClassifier(n_estimators=100).fit(x_train, y_train)\n",
    "ada_pred = ada_model.predict(x_test)\n",
    "get_statistics(y_test, ada_pred)"
   ]
  },
  {
   "cell_type": "code",
   "execution_count": null,
   "id": "e185b12c-828e-4d51-a4dd-e47183ddb0eb",
   "metadata": {},
   "outputs": [],
   "source": [
    "missed = y_test != ada_pred\n",
    "pd.DataFrame({\"predicted\": ada_pred[missed], \"actual\": data_test[missed].labels, \"text\": data_test[missed].text})"
   ]
  },
  {
   "cell_type": "code",
   "execution_count": null,
   "id": "36893bd6-9b9f-4aa1-b2d3-07ecdbb70f3a",
   "metadata": {},
   "outputs": [],
   "source": [
    "missed = y_test != forest_pred\n",
    "pd.DataFrame({\"predicted\": forest_pred[missed], \"actual\": data_test[missed].labels, \"text\": data_test[missed].text})"
   ]
  },
  {
   "cell_type": "code",
   "execution_count": null,
   "id": "bbd4fa74-04f1-48e0-9954-8d77e9f5685c",
   "metadata": {
    "tags": []
   },
   "outputs": [],
   "source": [
    "print(f\"Notebook executed in {int((time()-start)// 60)} minutes and {(time()-start) % 60:.1f} seconds\")"
   ]
  }
 ],
 "metadata": {
  "kernelspec": {
   "display_name": "Python 3 (ipykernel)",
   "language": "python",
   "name": "python3"
  },
  "language_info": {
   "codemirror_mode": {
    "name": "ipython",
    "version": 3
   },
   "file_extension": ".py",
   "mimetype": "text/x-python",
   "name": "python",
   "nbconvert_exporter": "python",
   "pygments_lexer": "ipython3",
   "version": "3.11.5"
  }
 },
 "nbformat": 4,
 "nbformat_minor": 5
}
