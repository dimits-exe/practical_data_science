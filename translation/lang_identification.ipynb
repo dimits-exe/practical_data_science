{
 "cells": [
  {
   "cell_type": "markdown",
   "id": "20af37f8-1993-4f12-9bc8-e89b5b46226d",
   "metadata": {},
   "source": [
    "# Scraping YouTube for Language Identification and Toxicity Detection Tasks\n",
    "## Assignment #2\n",
    "###  Practical Data Science course, MSc in Data Science (2023/2024)\n",
    "\n",
    "---\n",
    "\n",
    "> Dimitris Tsirmpas <br>\n",
    "> MSc in Data Science f3352315 <br>\n",
    "> Athens University of Economics and Business"
   ]
  },
  {
   "cell_type": "markdown",
   "id": "30e8cf04-0f13-49e2-850c-cf99acd707f6",
   "metadata": {},
   "source": [
    "In this project we attempt to achieve the following goals:\n",
    "\n",
    "- Creating a language dataset including Greeklish\n",
    "- Crawling YouTube videos which include both Greek and Greeklish comments\n",
    "- Training a language identification classifier\n",
    "- Training a LLM-based toxicity classifier\n",
    "- Using the LLM classifier to produce data for, and train a traditional ML toxicity classifier\n",
    "- Applying our language identification and toxicity classifiers on the crawled YouTube videos and identifying interesting facts and trends"
   ]
  },
  {
   "cell_type": "code",
   "execution_count": 1,
   "id": "61c64785-61ad-4212-a91e-141f1cfd19b5",
   "metadata": {},
   "outputs": [],
   "source": [
    "from time import time\n",
    "\n",
    "start = time()"
   ]
  },
  {
   "cell_type": "markdown",
   "id": "613dd683-1740-4ee8-9e6c-46a061641b23",
   "metadata": {},
   "source": [
    "Before we begin, we need to have a baseline rule-based model which we will originally use to classify our input data. We thus create a model which predicts a text's language only using regex rules.\n",
    "This classifier obviously does not need to be trained (fitted), and thus we will only use it for predictions.\n",
    "\n",
    "We will define our language identification task as identifiying one of three languages: Greek, English and Greeklish. We will also include an \"other\" category for all other languages."
   ]
  },
  {
   "cell_type": "markdown",
   "id": "26f6978d-5009-4a94-89e1-ee8ccb01d081",
   "metadata": {},
   "source": [
    "## Regex classifier"
   ]
  },
  {
   "cell_type": "code",
   "execution_count": 2,
   "id": "59b239c8-6826-4835-8b63-5874804b468a",
   "metadata": {
    "tags": []
   },
   "outputs": [],
   "source": [
    "from sklearn.base import BaseEstimator, RegressorMixin\n",
    "import numpy as np\n",
    "import re\n",
    "\n",
    "\n",
    "#idea credit https://www.linkedin.com/pulse/regex-one-pattern-rule-them-all-find-bring-darkness-bind-carranza/\n",
    "class RegexClassifier(BaseEstimator, RegressorMixin):\n",
    "    \"\"\"\n",
    "    Language Classifier using Regular Expressions\n",
    "    \"\"\"\n",
    "\n",
    "    language_regex_dict = {\n",
    "        'el': r'([\\u0370-\\u03ff\\u1f00-\\u1fff]+)\\s?',  # Greek\n",
    "        'en': r'([a-zA-Z]+)\\s?',  # English\n",
    "    }\n",
    "\n",
    "    # STATIC INITALIZATION BLOCK\n",
    "    # pre-compie all expressions to save execution time\n",
    "    for lang in language_regex_dict.keys():\n",
    "        language_regex_dict[lang] = re.compile(language_regex_dict[lang])\n",
    "\n",
    "\n",
    "    def __init__(self, include_greeklish=True):\n",
    "        \"\"\"\n",
    "        Initialize a new :class:`RegexClassifier` instance.\n",
    "\n",
    "        :param include_greeklish: Optional. If True, include Greeklish in the language identification process.\n",
    "        \"\"\"\n",
    "        self.include_greeklish = include_greeklish\n",
    "\n",
    "    def predict(self, x):\n",
    "        preds = []\n",
    "\n",
    "        for text in x:\n",
    "            pred = \"other\"\n",
    "\n",
    "            if self.include_greeklish and \\\n",
    "                re.search(RegexClassifier.language_regex_dict[\"el\"], text) and \\\n",
    "                re.search(RegexClassifier.language_regex_dict[\"en\"], text):\n",
    "                    pred = \"greeklish\"\n",
    "            else:\n",
    "                for lang_code, regex_pattern in RegexClassifier.language_regex_dict.items():\n",
    "                    match = re.search(regex_pattern, text)\n",
    "                    if match:\n",
    "                        pred = lang_code\n",
    "                        break\n",
    "            preds.append(pred)\n",
    "        return np.array(preds)\n",
    "    \n",
    "    def fit(self, x, y):\n",
    "        return self"
   ]
  },
  {
   "cell_type": "code",
   "execution_count": 3,
   "id": "96a77733-0bfa-45e0-a5a7-4432baab8455",
   "metadata": {
    "tags": []
   },
   "outputs": [
    {
     "name": "stdout",
     "output_type": "stream",
     "text": [
      "Detected Language Code: ['other' 'en' 'el']\n"
     ]
    }
   ],
   "source": [
    "# Example usage\n",
    "user_input_text = [\"你好，これはサンプルです。안녕하세요\", \"this is an english sentence\", \"δεν αντεχω αλλο\"]\n",
    "detected_language = RegexClassifier().predict(user_input_text)\n",
    "print(f\"Detected Language Code: {detected_language}\")"
   ]
  },
  {
   "cell_type": "markdown",
   "id": "2e6a8254-d567-492c-9a98-c944e7ca5199",
   "metadata": {},
   "source": [
    "## Defining the Gold Standard\n"
   ]
  },
  {
   "cell_type": "markdown",
   "id": "0ca590d3-e5ac-4c6b-a81f-f45d034b059e",
   "metadata": {},
   "source": [
    "The first task we ought to complete is derive our \"gold\" dataset, aka the dataset on which our classifiers will be trained on."
   ]
  },
  {
   "cell_type": "markdown",
   "id": "a77d5818-afe2-4c09-9a29-6f615dd492ec",
   "metadata": {},
   "source": [
    "### Greek-English identification dataset"
   ]
  },
  {
   "cell_type": "markdown",
   "id": "35fbce76-e950-4efc-9b38-09da72af29c8",
   "metadata": {},
   "source": [
    "We will begin by creating a base dataset including three of the four categories of data we defined in our language identification task (those being \"Greek\", \"English\" and \"Other\").\n",
    "\n",
    "For this we will be using a subset of the [papluca language identification dataset](https://huggingface.co/datasets/papluca/language-identification), which is available to us through `huggingface`."
   ]
  },
  {
   "cell_type": "markdown",
   "id": "54c319e7-d83b-4be3-9821-103acfacd4ba",
   "metadata": {},
   "source": [
    "We download the dataset and turn it into a pandas Dataframe, so we can easily combine it with other sources later on."
   ]
  },
  {
   "cell_type": "code",
   "execution_count": 4,
   "id": "7884d336-7550-4a37-9125-fd31d52561e3",
   "metadata": {},
   "outputs": [],
   "source": [
    "import pandas as pd\n",
    "\n",
    "\n",
    "def dataset_to_pd(dataset_dict: dict) -> pd.DataFrame:\n",
    "    \"\"\"\n",
    "    Convert a dictionary of datasets into a single pandas DataFrame.\n",
    "    \n",
    "    The datasets are assumed to be stored as values in the input dictionary,\n",
    "    with corresponding labels as keys.\n",
    "    \n",
    "    :param dataset_dict: A dictionary where keys are labels and values are datasets.\n",
    "    :type dataset_dict: dict\n",
    "    \n",
    "    :return: A concatenated pandas DataFrame with an additional 'set' column\n",
    "         indicating the original label of each row.\n",
    "    :rtype: pd.DataFrame\n",
    "    \n",
    "    :Example:\n",
    "    \n",
    "    .. code-block:: python\n",
    "    \n",
    "    >>> dataset_dict = {'A': dataset_A, 'B': dataset_B, 'C': dataset_C}\n",
    "    >>> result_df = dataset_to_pd(dataset_dict)\n",
    "    >>> print(result_df)\n",
    "         set  ...  (columns of the datasets)\n",
    "    0    A   ...  ...\n",
    "    1    A   ...  ...\n",
    "    ...      ...  ...\n",
    "    n    C   ...  ...\n",
    "    \"\"\"\n",
    "    df_ls = []\n",
    "    label_array = np.empty(shape=(sum([len(dataset) for dataset in dataset_dict.values()])), dtype=object)\n",
    "    last_idx = -1\n",
    "\n",
    "    for label, dataset in dataset_dict.items():\n",
    "        new_last_idx = len(dataset) + last_idx\n",
    "        label_array.put(np.arange(last_idx+1, new_last_idx+1, 1), label)\n",
    "        last_idx = new_last_idx\n",
    "\n",
    "        df_ls.append(pd.DataFrame(dataset))\n",
    "\n",
    "    full_df = pd.concat(df_ls, ignore_index=True)\n",
    "    full_df[\"set\"] = label_array\n",
    "    full_df.insert(0, \"set\", full_df.pop(\"set\"))\n",
    "\n",
    "    return full_df"
   ]
  },
  {
   "cell_type": "code",
   "execution_count": 5,
   "id": "321846d4-f30f-46f6-b67d-cae6566f7ea0",
   "metadata": {},
   "outputs": [
    {
     "data": {
      "text/plain": [
       "DatasetDict({\n",
       "    train: Dataset({\n",
       "        features: ['labels', 'text'],\n",
       "        num_rows: 70000\n",
       "    })\n",
       "    validation: Dataset({\n",
       "        features: ['labels', 'text'],\n",
       "        num_rows: 10000\n",
       "    })\n",
       "    test: Dataset({\n",
       "        features: ['labels', 'text'],\n",
       "        num_rows: 10000\n",
       "    })\n",
       "})"
      ]
     },
     "execution_count": 5,
     "metadata": {},
     "output_type": "execute_result"
    }
   ],
   "source": [
    "from datasets import load_dataset\n",
    "\n",
    "\n",
    "dataset_dict = load_dataset(\"papluca/language-identification\")\n",
    "dataset_dict"
   ]
  },
  {
   "cell_type": "code",
   "execution_count": 6,
   "id": "fd8bd535-bb09-413a-b30b-cc3c978f93fd",
   "metadata": {},
   "outputs": [
    {
     "data": {
      "text/html": [
       "<div>\n",
       "<style scoped>\n",
       "    .dataframe tbody tr th:only-of-type {\n",
       "        vertical-align: middle;\n",
       "    }\n",
       "\n",
       "    .dataframe tbody tr th {\n",
       "        vertical-align: top;\n",
       "    }\n",
       "\n",
       "    .dataframe thead th {\n",
       "        text-align: right;\n",
       "    }\n",
       "</style>\n",
       "<table border=\"1\" class=\"dataframe\">\n",
       "  <thead>\n",
       "    <tr style=\"text-align: right;\">\n",
       "      <th></th>\n",
       "      <th>set</th>\n",
       "      <th>labels</th>\n",
       "      <th>text</th>\n",
       "    </tr>\n",
       "  </thead>\n",
       "  <tbody>\n",
       "    <tr>\n",
       "      <th>0</th>\n",
       "      <td>train</td>\n",
       "      <td>pt</td>\n",
       "      <td>os chefes de defesa da estónia, letónia, lituâ...</td>\n",
       "    </tr>\n",
       "    <tr>\n",
       "      <th>1</th>\n",
       "      <td>train</td>\n",
       "      <td>bg</td>\n",
       "      <td>размерът на хоризонталната мрежа може да бъде ...</td>\n",
       "    </tr>\n",
       "    <tr>\n",
       "      <th>2</th>\n",
       "      <td>train</td>\n",
       "      <td>zh</td>\n",
       "      <td>很好，以前从不去评价，不知道浪费了多少积分，现在知道积分可以换钱，就要好好评价了，后来我就把...</td>\n",
       "    </tr>\n",
       "    <tr>\n",
       "      <th>3</th>\n",
       "      <td>train</td>\n",
       "      <td>th</td>\n",
       "      <td>สำหรับ ของเก่า ที่ จริงจัง ลอง   honeychurch  ...</td>\n",
       "    </tr>\n",
       "    <tr>\n",
       "      <th>4</th>\n",
       "      <td>train</td>\n",
       "      <td>ru</td>\n",
       "      <td>Он увеличил давление .</td>\n",
       "    </tr>\n",
       "    <tr>\n",
       "      <th>...</th>\n",
       "      <td>...</td>\n",
       "      <td>...</td>\n",
       "      <td>...</td>\n",
       "    </tr>\n",
       "    <tr>\n",
       "      <th>89995</th>\n",
       "      <td>test</td>\n",
       "      <td>zh</td>\n",
       "      <td>史料很充分，对岸的很多观点与大陆迥异啊。</td>\n",
       "    </tr>\n",
       "    <tr>\n",
       "      <th>89996</th>\n",
       "      <td>test</td>\n",
       "      <td>tr</td>\n",
       "      <td>Örneğin, teşhis Yunanca bir kelimeden alındı (...</td>\n",
       "    </tr>\n",
       "    <tr>\n",
       "      <th>89997</th>\n",
       "      <td>test</td>\n",
       "      <td>vi</td>\n",
       "      <td>Nếu lite/light chỉ đơn giản là mô tả một đặc t...</td>\n",
       "    </tr>\n",
       "    <tr>\n",
       "      <th>89998</th>\n",
       "      <td>test</td>\n",
       "      <td>bg</td>\n",
       "      <td>Например, една щатска столица, която посетихме...</td>\n",
       "    </tr>\n",
       "    <tr>\n",
       "      <th>89999</th>\n",
       "      <td>test</td>\n",
       "      <td>pl</td>\n",
       "      <td>Mam dla ciebie kilka propozycji:</td>\n",
       "    </tr>\n",
       "  </tbody>\n",
       "</table>\n",
       "<p>90000 rows × 3 columns</p>\n",
       "</div>"
      ],
      "text/plain": [
       "         set labels                                               text\n",
       "0      train     pt  os chefes de defesa da estónia, letónia, lituâ...\n",
       "1      train     bg  размерът на хоризонталната мрежа може да бъде ...\n",
       "2      train     zh  很好，以前从不去评价，不知道浪费了多少积分，现在知道积分可以换钱，就要好好评价了，后来我就把...\n",
       "3      train     th  สำหรับ ของเก่า ที่ จริงจัง ลอง   honeychurch  ...\n",
       "4      train     ru                             Он увеличил давление .\n",
       "...      ...    ...                                                ...\n",
       "89995   test     zh                               史料很充分，对岸的很多观点与大陆迥异啊。\n",
       "89996   test     tr  Örneğin, teşhis Yunanca bir kelimeden alındı (...\n",
       "89997   test     vi  Nếu lite/light chỉ đơn giản là mô tả một đặc t...\n",
       "89998   test     bg  Например, една щатска столица, която посетихме...\n",
       "89999   test     pl                   Mam dla ciebie kilka propozycji:\n",
       "\n",
       "[90000 rows x 3 columns]"
      ]
     },
     "execution_count": 6,
     "metadata": {},
     "output_type": "execute_result"
    }
   ],
   "source": [
    "lang_df = dataset_to_pd(dataset_dict)\n",
    "lang_df"
   ]
  },
  {
   "cell_type": "code",
   "execution_count": 7,
   "id": "b65d7720-bf89-4b94-8283-4544209ea5be",
   "metadata": {
    "tags": []
   },
   "outputs": [
    {
     "data": {
      "text/html": [
       "<div>\n",
       "<style scoped>\n",
       "    .dataframe tbody tr th:only-of-type {\n",
       "        vertical-align: middle;\n",
       "    }\n",
       "\n",
       "    .dataframe tbody tr th {\n",
       "        vertical-align: top;\n",
       "    }\n",
       "\n",
       "    .dataframe thead th {\n",
       "        text-align: right;\n",
       "    }\n",
       "</style>\n",
       "<table border=\"1\" class=\"dataframe\">\n",
       "  <thead>\n",
       "    <tr style=\"text-align: right;\">\n",
       "      <th></th>\n",
       "      <th>labels</th>\n",
       "      <th>text</th>\n",
       "    </tr>\n",
       "  </thead>\n",
       "  <tbody>\n",
       "    <tr>\n",
       "      <th>18</th>\n",
       "      <td>el</td>\n",
       "      <td>Παρά τον εαυτό μου , η γνώμη μου για τη σύνεση...</td>\n",
       "    </tr>\n",
       "    <tr>\n",
       "      <th>39</th>\n",
       "      <td>en</td>\n",
       "      <td>Didnt really seem to work much.</td>\n",
       "    </tr>\n",
       "    <tr>\n",
       "      <th>40</th>\n",
       "      <td>el</td>\n",
       "      <td>Ακόμα και το να ξέρεις ότι ήταν ένα άγαλμα που...</td>\n",
       "    </tr>\n",
       "    <tr>\n",
       "      <th>49</th>\n",
       "      <td>en</td>\n",
       "      <td>Highly recommend for those who don't like bein...</td>\n",
       "    </tr>\n",
       "    <tr>\n",
       "      <th>75</th>\n",
       "      <td>el</td>\n",
       "      <td>Έχω κάνει τέσσερις ή πέντε .</td>\n",
       "    </tr>\n",
       "    <tr>\n",
       "      <th>...</th>\n",
       "      <td>...</td>\n",
       "      <td>...</td>\n",
       "    </tr>\n",
       "    <tr>\n",
       "      <th>89961</th>\n",
       "      <td>en</td>\n",
       "      <td>It's super cute, really soft. Print is fine bu...</td>\n",
       "    </tr>\n",
       "    <tr>\n",
       "      <th>89965</th>\n",
       "      <td>en</td>\n",
       "      <td>One of them worked, the other one didn't. Ther...</td>\n",
       "    </tr>\n",
       "    <tr>\n",
       "      <th>89978</th>\n",
       "      <td>en</td>\n",
       "      <td>I only received one out of the three strikers :(</td>\n",
       "    </tr>\n",
       "    <tr>\n",
       "      <th>89982</th>\n",
       "      <td>el</td>\n",
       "      <td>Οι οργανισμοί πρέπει να είναι σε θέση να μετρή...</td>\n",
       "    </tr>\n",
       "    <tr>\n",
       "      <th>89986</th>\n",
       "      <td>el</td>\n",
       "      <td>Το Abeam με την Arabella, απέναντι από το λιμά...</td>\n",
       "    </tr>\n",
       "  </tbody>\n",
       "</table>\n",
       "<p>9000 rows × 2 columns</p>\n",
       "</div>"
      ],
      "text/plain": [
       "      labels                                               text\n",
       "18        el  Παρά τον εαυτό μου , η γνώμη μου για τη σύνεση...\n",
       "39        en                    Didnt really seem to work much.\n",
       "40        el  Ακόμα και το να ξέρεις ότι ήταν ένα άγαλμα που...\n",
       "49        en  Highly recommend for those who don't like bein...\n",
       "75        el                       Έχω κάνει τέσσερις ή πέντε .\n",
       "...      ...                                                ...\n",
       "89961     en  It's super cute, really soft. Print is fine bu...\n",
       "89965     en  One of them worked, the other one didn't. Ther...\n",
       "89978     en   I only received one out of the three strikers :(\n",
       "89982     el  Οι οργανισμοί πρέπει να είναι σε θέση να μετρή...\n",
       "89986     el  Το Abeam με την Arabella, απέναντι από το λιμά...\n",
       "\n",
       "[9000 rows x 2 columns]"
      ]
     },
     "execution_count": 7,
     "metadata": {},
     "output_type": "execute_result"
    }
   ],
   "source": [
    "en_gr_cond = lang_df.labels.eq(\"el\") | lang_df.labels.eq(\"en\")\n",
    "en_gr_df = lang_df.loc[en_gr_cond, [\"labels\", \"text\"]]\n",
    "en_gr_df"
   ]
  },
  {
   "cell_type": "markdown",
   "id": "3ec0525f-7498-4319-a45b-30b4ca30b189",
   "metadata": {},
   "source": [
    "We sample a set of $15.000$ data records belonging to other languages and tag them as \"other\":"
   ]
  },
  {
   "cell_type": "code",
   "execution_count": 8,
   "id": "68aa37a0-6802-471a-a55a-40636d718f12",
   "metadata": {},
   "outputs": [
    {
     "data": {
      "text/html": [
       "<div>\n",
       "<style scoped>\n",
       "    .dataframe tbody tr th:only-of-type {\n",
       "        vertical-align: middle;\n",
       "    }\n",
       "\n",
       "    .dataframe tbody tr th {\n",
       "        vertical-align: top;\n",
       "    }\n",
       "\n",
       "    .dataframe thead th {\n",
       "        text-align: right;\n",
       "    }\n",
       "</style>\n",
       "<table border=\"1\" class=\"dataframe\">\n",
       "  <thead>\n",
       "    <tr style=\"text-align: right;\">\n",
       "      <th></th>\n",
       "      <th>labels</th>\n",
       "      <th>text</th>\n",
       "    </tr>\n",
       "  </thead>\n",
       "  <tbody>\n",
       "    <tr>\n",
       "      <th>1321</th>\n",
       "      <td>other</td>\n",
       "      <td>O empresário flamboyant assinalou o plano após...</td>\n",
       "    </tr>\n",
       "    <tr>\n",
       "      <th>64441</th>\n",
       "      <td>other</td>\n",
       "      <td>Szef japońskiej partii opozycyjnej krytykuje p...</td>\n",
       "    </tr>\n",
       "    <tr>\n",
       "      <th>37433</th>\n",
       "      <td>other</td>\n",
       "      <td>US set na inaugurację Obamy</td>\n",
       "    </tr>\n",
       "    <tr>\n",
       "      <th>82330</th>\n",
       "      <td>other</td>\n",
       "      <td>Mali gaat stemmen op president</td>\n",
       "    </tr>\n",
       "    <tr>\n",
       "      <th>8997</th>\n",
       "      <td>other</td>\n",
       "      <td>La narrativa religiosa non è ridondante e ripe...</td>\n",
       "    </tr>\n",
       "    <tr>\n",
       "      <th>...</th>\n",
       "      <td>...</td>\n",
       "      <td>...</td>\n",
       "    </tr>\n",
       "    <tr>\n",
       "      <th>84924</th>\n",
       "      <td>other</td>\n",
       "      <td>Tôi muốn nói rằng các tác nhân tự trị mà cộng ...</td>\n",
       "    </tr>\n",
       "    <tr>\n",
       "      <th>48892</th>\n",
       "      <td>other</td>\n",
       "      <td>केवल शहर के बाहरी क ् षेत ् र में एक ऐसे शॉपिं...</td>\n",
       "    </tr>\n",
       "    <tr>\n",
       "      <th>25326</th>\n",
       "      <td>other</td>\n",
       "      <td>тел авив е в много отношения въплъщение на нов...</td>\n",
       "    </tr>\n",
       "    <tr>\n",
       "      <th>22453</th>\n",
       "      <td>other</td>\n",
       "      <td>Gute Kopfhörer und sehr viel bass</td>\n",
       "    </tr>\n",
       "    <tr>\n",
       "      <th>69583</th>\n",
       "      <td>other</td>\n",
       "      <td>سلطان اور اس کی بیوی نے مسجد اقصٰی میں داخل ہو...</td>\n",
       "    </tr>\n",
       "  </tbody>\n",
       "</table>\n",
       "<p>15000 rows × 2 columns</p>\n",
       "</div>"
      ],
      "text/plain": [
       "      labels                                               text\n",
       "1321   other  O empresário flamboyant assinalou o plano após...\n",
       "64441  other  Szef japońskiej partii opozycyjnej krytykuje p...\n",
       "37433  other                        US set na inaugurację Obamy\n",
       "82330  other                     Mali gaat stemmen op president\n",
       "8997   other  La narrativa religiosa non è ridondante e ripe...\n",
       "...      ...                                                ...\n",
       "84924  other  Tôi muốn nói rằng các tác nhân tự trị mà cộng ...\n",
       "48892  other  केवल शहर के बाहरी क ् षेत ् र में एक ऐसे शॉपिं...\n",
       "25326  other  тел авив е в много отношения въплъщение на нов...\n",
       "22453  other                  Gute Kopfhörer und sehr viel bass\n",
       "69583  other  سلطان اور اس کی بیوی نے مسجد اقصٰی میں داخل ہو...\n",
       "\n",
       "[15000 rows x 2 columns]"
      ]
     },
     "execution_count": 8,
     "metadata": {},
     "output_type": "execute_result"
    }
   ],
   "source": [
    "others_df = lang_df.loc[~en_gr_cond, [\"labels\", \"text\"]]\n",
    "others_df = others_df.sample(15000)\n",
    "others_df.labels = \"other\"\n",
    "others_df"
   ]
  },
  {
   "cell_type": "code",
   "execution_count": 9,
   "id": "6b3b00e0-ad10-471d-bf7b-6ec73579d69a",
   "metadata": {},
   "outputs": [
    {
     "data": {
      "text/html": [
       "<div>\n",
       "<style scoped>\n",
       "    .dataframe tbody tr th:only-of-type {\n",
       "        vertical-align: middle;\n",
       "    }\n",
       "\n",
       "    .dataframe tbody tr th {\n",
       "        vertical-align: top;\n",
       "    }\n",
       "\n",
       "    .dataframe thead th {\n",
       "        text-align: right;\n",
       "    }\n",
       "</style>\n",
       "<table border=\"1\" class=\"dataframe\">\n",
       "  <thead>\n",
       "    <tr style=\"text-align: right;\">\n",
       "      <th></th>\n",
       "      <th>labels</th>\n",
       "      <th>text</th>\n",
       "    </tr>\n",
       "  </thead>\n",
       "  <tbody>\n",
       "    <tr>\n",
       "      <th>0</th>\n",
       "      <td>el</td>\n",
       "      <td>Παρά τον εαυτό μου , η γνώμη μου για τη σύνεση...</td>\n",
       "    </tr>\n",
       "    <tr>\n",
       "      <th>1</th>\n",
       "      <td>en</td>\n",
       "      <td>Didnt really seem to work much.</td>\n",
       "    </tr>\n",
       "    <tr>\n",
       "      <th>2</th>\n",
       "      <td>el</td>\n",
       "      <td>Ακόμα και το να ξέρεις ότι ήταν ένα άγαλμα που...</td>\n",
       "    </tr>\n",
       "    <tr>\n",
       "      <th>3</th>\n",
       "      <td>en</td>\n",
       "      <td>Highly recommend for those who don't like bein...</td>\n",
       "    </tr>\n",
       "    <tr>\n",
       "      <th>4</th>\n",
       "      <td>el</td>\n",
       "      <td>Έχω κάνει τέσσερις ή πέντε .</td>\n",
       "    </tr>\n",
       "    <tr>\n",
       "      <th>...</th>\n",
       "      <td>...</td>\n",
       "      <td>...</td>\n",
       "    </tr>\n",
       "    <tr>\n",
       "      <th>23995</th>\n",
       "      <td>other</td>\n",
       "      <td>Tôi muốn nói rằng các tác nhân tự trị mà cộng ...</td>\n",
       "    </tr>\n",
       "    <tr>\n",
       "      <th>23996</th>\n",
       "      <td>other</td>\n",
       "      <td>केवल शहर के बाहरी क ् षेत ् र में एक ऐसे शॉपिं...</td>\n",
       "    </tr>\n",
       "    <tr>\n",
       "      <th>23997</th>\n",
       "      <td>other</td>\n",
       "      <td>тел авив е в много отношения въплъщение на нов...</td>\n",
       "    </tr>\n",
       "    <tr>\n",
       "      <th>23998</th>\n",
       "      <td>other</td>\n",
       "      <td>Gute Kopfhörer und sehr viel bass</td>\n",
       "    </tr>\n",
       "    <tr>\n",
       "      <th>23999</th>\n",
       "      <td>other</td>\n",
       "      <td>سلطان اور اس کی بیوی نے مسجد اقصٰی میں داخل ہو...</td>\n",
       "    </tr>\n",
       "  </tbody>\n",
       "</table>\n",
       "<p>24000 rows × 2 columns</p>\n",
       "</div>"
      ],
      "text/plain": [
       "      labels                                               text\n",
       "0         el  Παρά τον εαυτό μου , η γνώμη μου για τη σύνεση...\n",
       "1         en                    Didnt really seem to work much.\n",
       "2         el  Ακόμα και το να ξέρεις ότι ήταν ένα άγαλμα που...\n",
       "3         en  Highly recommend for those who don't like bein...\n",
       "4         el                       Έχω κάνει τέσσερις ή πέντε .\n",
       "...      ...                                                ...\n",
       "23995  other  Tôi muốn nói rằng các tác nhân tự trị mà cộng ...\n",
       "23996  other  केवल शहर के बाहरी क ् षेत ् र में एक ऐसे शॉपिं...\n",
       "23997  other  тел авив е в много отношения въплъщение на нов...\n",
       "23998  other                  Gute Kopfhörer und sehr viel bass\n",
       "23999  other  سلطان اور اس کی بیوی نے مسجد اقصٰی میں داخل ہو...\n",
       "\n",
       "[24000 rows x 2 columns]"
      ]
     },
     "execution_count": 9,
     "metadata": {},
     "output_type": "execute_result"
    }
   ],
   "source": [
    "gold1_df = pd.concat([en_gr_df, others_df], axis=0, ignore_index=True, copy=False)\n",
    "gold1_df"
   ]
  },
  {
   "cell_type": "markdown",
   "id": "c2697de5-d487-4603-8708-cc502034a3dd",
   "metadata": {},
   "source": [
    "### Greek-Greeklish identification dataset"
   ]
  },
  {
   "cell_type": "markdown",
   "id": "d2453f47-2e4a-4453-9ea7-cbd205740cb9",
   "metadata": {},
   "source": [
    "A much harder task will be to incude Greeklish in our dataset. There are only few papers dedicated to Greeklish language identification or translation `[1,2]`. Out of these, only one provides [a comprehensive Greeklish dataset](http://metashare.ilsp.gr:8080/repository/browse/greeklish-database-from-actual-users/23e0174a63cb11e2b2f8842b2b6a04d7c72cf16d853e4c1db3995068af41a6c1/) `[2]`, which is not publically available.\n",
    "\n",
    "```\n",
    "[1] Aimilios Chalamandaris, Athanassios Protopapas, Pirros Tsiakoulis, and Spyros Raptis. 2006. All Greek to me! An automatic Greeklish to Greek transliteration system. In Proceedings of the Fifth International Conference on Language Resources and Evaluation (LREC’06), Genoa, Italy. European Language Resources Association (ELRA).\n",
    "[2] A. Chalamandaris, P. Tsiakoulis, S. Raptis, G. Giannopoulos, and G. Carayannis. 2004. Bypassing Greeklish!. In Proceedings of the Fourth International Conference on Language Resources and Evaluation (LREC’04), Lisbon, Portugal. European Language Resources Association (ELRA).\n",
    "```"
   ]
  },
  {
   "cell_type": "markdown",
   "id": "65986a2c-eb33-471a-ab66-07df4f6b6c1d",
   "metadata": {},
   "source": [
    "We thus need to create our own dataset. We begin with crawling a Greek gaming forum, which we have verified contains many posts in Greeklish and almost none in English."
   ]
  },
  {
   "cell_type": "code",
   "execution_count": 10,
   "id": "fbf1b45a-9a2f-419e-b900-4c6e873349cc",
   "metadata": {},
   "outputs": [],
   "source": [
    "head_url = \"https://forum.warmane.com\"\n",
    "warmane_url = \"https://forum.warmane.com/forumdisplay.php?f=20\""
   ]
  },
  {
   "cell_type": "code",
   "execution_count": 11,
   "id": "03a32104-f828-44e2-b9e6-fb0a1d5bd71c",
   "metadata": {
    "tags": []
   },
   "outputs": [
    {
     "name": "stdout",
     "output_type": "stream",
     "text": [
      "Processing page 1 of 8...\n"
     ]
    },
    {
     "name": "stderr",
     "output_type": "stream",
     "text": [
      "100%|██████████████████████████████████████████████████████████████████████████████████| 20/20 [00:05<00:00,  3.78it/s]\n"
     ]
    },
    {
     "name": "stdout",
     "output_type": "stream",
     "text": [
      "Processing page 2 of 8...\n"
     ]
    },
    {
     "name": "stderr",
     "output_type": "stream",
     "text": [
      "100%|██████████████████████████████████████████████████████████████████████████████████| 20/20 [00:03<00:00,  5.64it/s]\n"
     ]
    },
    {
     "name": "stdout",
     "output_type": "stream",
     "text": [
      "Processing page 3 of 8...\n"
     ]
    },
    {
     "name": "stderr",
     "output_type": "stream",
     "text": [
      "100%|██████████████████████████████████████████████████████████████████████████████████| 20/20 [00:03<00:00,  5.57it/s]\n"
     ]
    },
    {
     "name": "stdout",
     "output_type": "stream",
     "text": [
      "Processing page 4 of 8...\n"
     ]
    },
    {
     "name": "stderr",
     "output_type": "stream",
     "text": [
      "100%|██████████████████████████████████████████████████████████████████████████████████| 20/20 [00:03<00:00,  5.41it/s]\n"
     ]
    },
    {
     "name": "stdout",
     "output_type": "stream",
     "text": [
      "Processing page 5 of 8...\n"
     ]
    },
    {
     "name": "stderr",
     "output_type": "stream",
     "text": [
      "100%|██████████████████████████████████████████████████████████████████████████████████| 20/20 [00:03<00:00,  5.10it/s]\n"
     ]
    },
    {
     "name": "stdout",
     "output_type": "stream",
     "text": [
      "Processing page 6 of 8...\n"
     ]
    },
    {
     "name": "stderr",
     "output_type": "stream",
     "text": [
      "100%|██████████████████████████████████████████████████████████████████████████████████| 20/20 [00:03<00:00,  5.05it/s]\n"
     ]
    },
    {
     "name": "stdout",
     "output_type": "stream",
     "text": [
      "Processing page 7 of 8...\n"
     ]
    },
    {
     "name": "stderr",
     "output_type": "stream",
     "text": [
      " 70%|█████████████████████████████████████████████████████████▍                        | 14/20 [00:02<00:01,  5.36it/s]"
     ]
    },
    {
     "name": "stdout",
     "output_type": "stream",
     "text": [
      "ERROR: Failed to get information on post  https://forum.warmane.com/showthread.php?t=272585\n"
     ]
    },
    {
     "name": "stderr",
     "output_type": "stream",
     "text": [
      "100%|██████████████████████████████████████████████████████████████████████████████████| 20/20 [00:03<00:00,  5.50it/s]\n"
     ]
    },
    {
     "name": "stdout",
     "output_type": "stream",
     "text": [
      "Processing page 8 of 8...\n"
     ]
    },
    {
     "name": "stderr",
     "output_type": "stream",
     "text": [
      " 78%|█████████████████████████████████████████████████████████████████▎                  | 7/9 [00:01<00:00,  5.33it/s]"
     ]
    },
    {
     "name": "stdout",
     "output_type": "stream",
     "text": [
      "ERROR: Failed to get information on post  https://forum.warmane.com/showthread.php?t=278731\n"
     ]
    },
    {
     "name": "stderr",
     "output_type": "stream",
     "text": [
      "100%|████████████████████████████████████████████████████████████████████████████████████| 9/9 [00:01<00:00,  5.58it/s]\n"
     ]
    }
   ],
   "source": [
    "from src.crawling import fetch_soup\n",
    "from tasks.warmane import parse_warmane_thread\n",
    "from tqdm import tqdm\n",
    "\n",
    "\n",
    "threads = []\n",
    "\n",
    "for page in range(1, 9):\n",
    "    url = warmane_url + f\"&page={page}\"\n",
    "    soup = fetch_soup(url)\n",
    "\n",
    "    print(f\"Processing page {page} of 8...\")\n",
    "    thread_tags = soup.find_all(\"li\", {\"class\": \"threadbit\"})\n",
    "    for thread_tag in tqdm(thread_tags):\n",
    "        thread = parse_warmane_thread(head_url, thread_tag)\n",
    "        threads.append(thread)"
   ]
  },
  {
   "cell_type": "code",
   "execution_count": 12,
   "id": "e0d9a523-1311-4960-ab66-1f9b98c03729",
   "metadata": {
    "tags": []
   },
   "outputs": [
    {
     "data": {
      "text/plain": [
       "415"
      ]
     },
     "execution_count": 12,
     "metadata": {},
     "output_type": "execute_result"
    }
   ],
   "source": [
    "import itertools\n",
    "\n",
    "# flatten nested lists \n",
    "posts = set(itertools.chain.from_iterable([thread.posts for thread in threads]))\n",
    "len(posts)"
   ]
  },
  {
   "cell_type": "code",
   "execution_count": 13,
   "id": "2425baf7-a694-4a49-98c0-11d565c2cb98",
   "metadata": {
    "tags": []
   },
   "outputs": [
    {
     "data": {
      "text/html": [
       "<div>\n",
       "<style scoped>\n",
       "    .dataframe tbody tr th:only-of-type {\n",
       "        vertical-align: middle;\n",
       "    }\n",
       "\n",
       "    .dataframe tbody tr th {\n",
       "        vertical-align: top;\n",
       "    }\n",
       "\n",
       "    .dataframe thead th {\n",
       "        text-align: right;\n",
       "    }\n",
       "</style>\n",
       "<table border=\"1\" class=\"dataframe\">\n",
       "  <thead>\n",
       "    <tr style=\"text-align: right;\">\n",
       "      <th></th>\n",
       "      <th>thread_id</th>\n",
       "      <th>author</th>\n",
       "      <th>contents</th>\n",
       "      <th>date</th>\n",
       "      <th>reply_to</th>\n",
       "    </tr>\n",
       "    <tr>\n",
       "      <th>id</th>\n",
       "      <th></th>\n",
       "      <th></th>\n",
       "      <th></th>\n",
       "      <th></th>\n",
       "      <th></th>\n",
       "    </tr>\n",
       "  </thead>\n",
       "  <tbody>\n",
       "    <tr>\n",
       "      <th>2926596</th>\n",
       "      <td>384475</td>\n",
       "      <td>Ripsin</td>\n",
       "      <td>Kalhspera paides,\\n\\r\\nEimai arketo kairo ston...</td>\n",
       "      <td>2018-05-22</td>\n",
       "      <td>-1</td>\n",
       "    </tr>\n",
       "    <tr>\n",
       "      <th>2473988</th>\n",
       "      <td>300013</td>\n",
       "      <td>v4gflo</td>\n",
       "      <td>geia sas.psaxnw ellhniko guild ston Deathwing ...</td>\n",
       "      <td>2015-06-17</td>\n",
       "      <td>-1</td>\n",
       "    </tr>\n",
       "    <tr>\n",
       "      <th>2420747</th>\n",
       "      <td>290921</td>\n",
       "      <td>AlexPan</td>\n",
       "      <td>Καλησπέρα παιδιά, το πρόβλημα είναι το εξής. \\...</td>\n",
       "      <td>2015-03-24</td>\n",
       "      <td>-1</td>\n",
       "    </tr>\n",
       "    <tr>\n",
       "      <th>2981903</th>\n",
       "      <td>399822</td>\n",
       "      <td>xAchillesGate4x</td>\n",
       "      <td>Καλησπέρα παίδες. Ψάχνω Ελληνικό active raidin...</td>\n",
       "      <td>2019-03-03</td>\n",
       "      <td>-1</td>\n",
       "    </tr>\n",
       "    <tr>\n",
       "      <th>2879517</th>\n",
       "      <td>371804</td>\n",
       "      <td>Csdas</td>\n",
       "      <td>Opoios gnwrizei kati as mou kanei /w Dremoria ...</td>\n",
       "      <td>2017-11-29</td>\n",
       "      <td>-1</td>\n",
       "    </tr>\n",
       "    <tr>\n",
       "      <th>...</th>\n",
       "      <td>...</td>\n",
       "      <td>...</td>\n",
       "      <td>...</td>\n",
       "      <td>...</td>\n",
       "      <td>...</td>\n",
       "    </tr>\n",
       "    <tr>\n",
       "      <th>2877428</th>\n",
       "      <td>353812</td>\n",
       "      <td>Shiverbro</td>\n",
       "      <td>kalos private aksizei na ksekiniseis paidia?</td>\n",
       "      <td>2017-11-21</td>\n",
       "      <td>2875915</td>\n",
       "    </tr>\n",
       "    <tr>\n",
       "      <th>3069941</th>\n",
       "      <td>423611</td>\n",
       "      <td>crystallenia898</td>\n",
       "      <td>Ε μεις αυξανόμαστε και θα αρχίσουμε να στήνουμ...</td>\n",
       "      <td>2020-07-26</td>\n",
       "      <td>3068345</td>\n",
       "    </tr>\n",
       "    <tr>\n",
       "      <th>2801654</th>\n",
       "      <td>350071</td>\n",
       "      <td>Draculation</td>\n",
       "      <td>Bump! ICC25 6/12</td>\n",
       "      <td>2017-05-07</td>\n",
       "      <td>2795443</td>\n",
       "    </tr>\n",
       "    <tr>\n",
       "      <th>2873339</th>\n",
       "      <td>370241</td>\n",
       "      <td>Ripsin</td>\n",
       "      <td>Kalhspera tha ithela na rwthsw an kapoios gnwr...</td>\n",
       "      <td>2017-11-07</td>\n",
       "      <td>-1</td>\n",
       "    </tr>\n",
       "    <tr>\n",
       "      <th>2410495</th>\n",
       "      <td>289030</td>\n",
       "      <td>boolouk</td>\n",
       "      <td>Εμπειρια εχω, αλλα δεν εχω χρονο...αυτο ειναι ...</td>\n",
       "      <td>2015-03-13</td>\n",
       "      <td>2409274</td>\n",
       "    </tr>\n",
       "  </tbody>\n",
       "</table>\n",
       "<p>415 rows × 5 columns</p>\n",
       "</div>"
      ],
      "text/plain": [
       "         thread_id           author  \\\n",
       "id                                    \n",
       "2926596     384475           Ripsin   \n",
       "2473988     300013           v4gflo   \n",
       "2420747     290921          AlexPan   \n",
       "2981903     399822  xAchillesGate4x   \n",
       "2879517     371804            Csdas   \n",
       "...            ...              ...   \n",
       "2877428     353812        Shiverbro   \n",
       "3069941     423611  crystallenia898   \n",
       "2801654     350071      Draculation   \n",
       "2873339     370241           Ripsin   \n",
       "2410495     289030          boolouk   \n",
       "\n",
       "                                                  contents       date  \\\n",
       "id                                                                      \n",
       "2926596  Kalhspera paides,\\n\\r\\nEimai arketo kairo ston... 2018-05-22   \n",
       "2473988  geia sas.psaxnw ellhniko guild ston Deathwing ... 2015-06-17   \n",
       "2420747  Καλησπέρα παιδιά, το πρόβλημα είναι το εξής. \\... 2015-03-24   \n",
       "2981903  Καλησπέρα παίδες. Ψάχνω Ελληνικό active raidin... 2019-03-03   \n",
       "2879517  Opoios gnwrizei kati as mou kanei /w Dremoria ... 2017-11-29   \n",
       "...                                                    ...        ...   \n",
       "2877428       kalos private aksizei na ksekiniseis paidia? 2017-11-21   \n",
       "3069941  Ε μεις αυξανόμαστε και θα αρχίσουμε να στήνουμ... 2020-07-26   \n",
       "2801654                                   Bump! ICC25 6/12 2017-05-07   \n",
       "2873339  Kalhspera tha ithela na rwthsw an kapoios gnwr... 2017-11-07   \n",
       "2410495  Εμπειρια εχω, αλλα δεν εχω χρονο...αυτο ειναι ... 2015-03-13   \n",
       "\n",
       "         reply_to  \n",
       "id                 \n",
       "2926596        -1  \n",
       "2473988        -1  \n",
       "2420747        -1  \n",
       "2981903        -1  \n",
       "2879517        -1  \n",
       "...           ...  \n",
       "2877428   2875915  \n",
       "3069941   3068345  \n",
       "2801654   2795443  \n",
       "2873339        -1  \n",
       "2410495   2409274  \n",
       "\n",
       "[415 rows x 5 columns]"
      ]
     },
     "execution_count": 13,
     "metadata": {},
     "output_type": "execute_result"
    }
   ],
   "source": [
    "import pandas as pd\n",
    "\n",
    "warmane_df = pd.DataFrame.from_records([post.__dict__ for post in posts], index=\"id\")\n",
    "warmane_df.reply_to = warmane_df.reply_to.fillna(-1).astype(int)\n",
    "warmane_df"
   ]
  },
  {
   "cell_type": "markdown",
   "id": "6991044b-992a-4ca8-906a-0f322ed21e46",
   "metadata": {},
   "source": [
    "We will also clear out empty posts."
   ]
  },
  {
   "cell_type": "code",
   "execution_count": 14,
   "id": "dbffc615-c381-41d5-b39f-0d25f77a63e2",
   "metadata": {
    "tags": []
   },
   "outputs": [
    {
     "data": {
      "text/html": [
       "<div>\n",
       "<style scoped>\n",
       "    .dataframe tbody tr th:only-of-type {\n",
       "        vertical-align: middle;\n",
       "    }\n",
       "\n",
       "    .dataframe tbody tr th {\n",
       "        vertical-align: top;\n",
       "    }\n",
       "\n",
       "    .dataframe thead th {\n",
       "        text-align: right;\n",
       "    }\n",
       "</style>\n",
       "<table border=\"1\" class=\"dataframe\">\n",
       "  <thead>\n",
       "    <tr style=\"text-align: right;\">\n",
       "      <th></th>\n",
       "      <th>thread_id</th>\n",
       "      <th>author</th>\n",
       "      <th>contents</th>\n",
       "      <th>date</th>\n",
       "      <th>reply_to</th>\n",
       "    </tr>\n",
       "    <tr>\n",
       "      <th>id</th>\n",
       "      <th></th>\n",
       "      <th></th>\n",
       "      <th></th>\n",
       "      <th></th>\n",
       "      <th></th>\n",
       "    </tr>\n",
       "  </thead>\n",
       "  <tbody>\n",
       "    <tr>\n",
       "      <th>3082464</th>\n",
       "      <td>427259</td>\n",
       "      <td>malakas17</td>\n",
       "      <td></td>\n",
       "      <td>2020-10-20</td>\n",
       "      <td>3081822</td>\n",
       "    </tr>\n",
       "    <tr>\n",
       "      <th>3113236</th>\n",
       "      <td>427259</td>\n",
       "      <td>malakas17</td>\n",
       "      <td></td>\n",
       "      <td>2021-05-12</td>\n",
       "      <td>3113009</td>\n",
       "    </tr>\n",
       "    <tr>\n",
       "      <th>3099161</th>\n",
       "      <td>431660</td>\n",
       "      <td>malakas17</td>\n",
       "      <td></td>\n",
       "      <td>2021-02-10</td>\n",
       "      <td>3096432</td>\n",
       "    </tr>\n",
       "    <tr>\n",
       "      <th>3113819</th>\n",
       "      <td>427259</td>\n",
       "      <td>malakas17</td>\n",
       "      <td></td>\n",
       "      <td>2021-05-16</td>\n",
       "      <td>3113236</td>\n",
       "    </tr>\n",
       "    <tr>\n",
       "      <th>3099593</th>\n",
       "      <td>427259</td>\n",
       "      <td>boonick</td>\n",
       "      <td></td>\n",
       "      <td>2021-02-14</td>\n",
       "      <td>3093400</td>\n",
       "    </tr>\n",
       "    <tr>\n",
       "      <th>3081820</th>\n",
       "      <td>427259</td>\n",
       "      <td>malakas17</td>\n",
       "      <td></td>\n",
       "      <td>2020-10-16</td>\n",
       "      <td>3080427</td>\n",
       "    </tr>\n",
       "    <tr>\n",
       "      <th>3081822</th>\n",
       "      <td>427259</td>\n",
       "      <td>malakas17</td>\n",
       "      <td></td>\n",
       "      <td>2020-10-16</td>\n",
       "      <td>3081820</td>\n",
       "    </tr>\n",
       "  </tbody>\n",
       "</table>\n",
       "</div>"
      ],
      "text/plain": [
       "         thread_id     author contents       date  reply_to\n",
       "id                                                         \n",
       "3082464     427259  malakas17          2020-10-20   3081822\n",
       "3113236     427259  malakas17          2021-05-12   3113009\n",
       "3099161     431660  malakas17          2021-02-10   3096432\n",
       "3113819     427259  malakas17          2021-05-16   3113236\n",
       "3099593     427259    boonick          2021-02-14   3093400\n",
       "3081820     427259  malakas17          2020-10-16   3080427\n",
       "3081822     427259  malakas17          2020-10-16   3081820"
      ]
     },
     "execution_count": 14,
     "metadata": {},
     "output_type": "execute_result"
    }
   ],
   "source": [
    "empty_contents = warmane_df.contents.apply(lambda x: x.isspace() | len(x)==0)\n",
    "warmane_df[empty_contents]"
   ]
  },
  {
   "cell_type": "code",
   "execution_count": 15,
   "id": "29103c28-5579-41e8-b33e-a9fa7a49428d",
   "metadata": {
    "tags": []
   },
   "outputs": [],
   "source": [
    "warmane_df = warmane_df[~empty_contents]"
   ]
  },
  {
   "cell_type": "markdown",
   "id": "c927eb64-514b-4e3d-87bc-0859f0d2beb8",
   "metadata": {},
   "source": [
    "While this dataset fits our needs, it is by no means large enough to accurately model Greeklish on traditional NLP models. \n",
    "\n",
    "Thus, we turn our attention early to YouTube scraping. YouTube is one of the few sites featuring lively comment sections in Greek informal enough for Greeklish to be present. Knowing that Greeklish are generally more prevalent towards younger generations, we can select certain videos where this demographic is present to scrape for comments. In our case, we select 5 Greek gaming videos."
   ]
  },
  {
   "cell_type": "code",
   "execution_count": 16,
   "id": "923224eb-9f12-44c7-b463-8fb262165bbb",
   "metadata": {
    "tags": []
   },
   "outputs": [],
   "source": [
    "from src.crawling import ChromeDriverManager, jupyter_options\n",
    "\n",
    "\n",
    "ChromeDriverManager.set_options(jupyter_options())"
   ]
  },
  {
   "cell_type": "code",
   "execution_count": 17,
   "id": "a77b074e-1271-421b-aabb-141681485e82",
   "metadata": {},
   "outputs": [
    {
     "name": "stderr",
     "output_type": "stream",
     "text": [
      "  0%|                                                                                            | 0/5 [00:00<?, ?it/s]"
     ]
    },
    {
     "name": "stdout",
     "output_type": "stream",
     "text": [
      "Creating new driver...\n",
      "New driver online.\n"
     ]
    },
    {
     "name": "stderr",
     "output_type": "stream",
     "text": [
      "100%|████████████████████████████████████████████████████████████████████████████████████| 5/5 [01:25<00:00, 17.00s/it]\n"
     ]
    }
   ],
   "source": [
    "from tasks.youtube import extract_search_results, extract_comments, scrape_youtube\n",
    "\n",
    "\n",
    "greek_yt_urls = [\"https://www.youtube.com/watch?v=4Y2gxkqbsbA\", \n",
    "       \"https://www.youtube.com/watch?v=31LcJ9gqQvA\",\n",
    "       \"https://www.youtube.com/watch?v=1cZXAQ1JEJo\",\n",
    "       \"https://www.youtube.com/watch?v=x7lnS6jMS64\",\n",
    "       \"https://www.youtube.com/watch?v=ImilczGN-00\"]\n",
    "scrape_results = []\n",
    "\n",
    "for url in tqdm(greek_yt_urls):\n",
    "    scrape_results.append(scrape_youtube(ChromeDriverManager.get(), url, max_scrolls=10, verbose=False))"
   ]
  },
  {
   "cell_type": "code",
   "execution_count": 18,
   "id": "7f61a6d4-3a7f-4f66-b990-fe070c7b1527",
   "metadata": {},
   "outputs": [],
   "source": [
    "from tasks.youtube import extract_comments\n",
    "\n",
    "\n",
    "all_comments = []\n",
    "for result in scrape_results:\n",
    "    comments, _ = extract_comments(result)\n",
    "    all_comments += comments\n",
    "\n",
    "all_comments = pd.Series(all_comments)"
   ]
  },
  {
   "cell_type": "markdown",
   "id": "1d140310-d3f5-4be4-b3ab-51997d4e39f0",
   "metadata": {},
   "source": [
    "We now combine our two Greeklish datasets:"
   ]
  },
  {
   "cell_type": "code",
   "execution_count": 19,
   "id": "7c965cdf-969f-4385-939f-21a7c20b4e7e",
   "metadata": {},
   "outputs": [
    {
     "data": {
      "text/plain": [
       "2926596    Kalhspera paides,\\n\\r\\nEimai arketo kairo ston...\n",
       "2473988    geia sas.psaxnw ellhniko guild ston Deathwing ...\n",
       "2420747    Καλησπέρα παιδιά, το πρόβλημα είναι το εξής. \\...\n",
       "2981903    Καλησπέρα παίδες. Ψάχνω Ελληνικό active raidin...\n",
       "2879517    Opoios gnwrizei kati as mou kanei /w Dremoria ...\n",
       "                                 ...                        \n",
       "692                                        Gianni παίξε Pubg\n",
       "693                                                    Πρώτη\n",
       "694                                                    First\n",
       "695                                             First of all\n",
       "696                                                   Πρώτος\n",
       "Length: 1105, dtype: object"
      ]
     },
     "execution_count": 19,
     "metadata": {},
     "output_type": "execute_result"
    }
   ],
   "source": [
    "greeklish_series = pd.concat([warmane_df.contents, all_comments])\n",
    "greeklish_series"
   ]
  },
  {
   "cell_type": "markdown",
   "id": "9d548f2b-c783-4c03-b9e8-76f4ac8e39aa",
   "metadata": {},
   "source": [
    "We filter out empty and \"junk\" comments."
   ]
  },
  {
   "cell_type": "code",
   "execution_count": 20,
   "id": "bcdd8c12-f28c-4ddb-83dc-0eb90a839d04",
   "metadata": {},
   "outputs": [
    {
     "data": {
      "text/plain": [
       "2926596    Kalhspera paides,\\n\\r\\nEimai arketo kairo ston...\n",
       "2473988    geia sas.psaxnw ellhniko guild ston Deathwing ...\n",
       "2420747    Καλησπέρα παιδιά, το πρόβλημα είναι το εξής. \\...\n",
       "2981903    Καλησπέρα παίδες. Ψάχνω Ελληνικό active raidin...\n",
       "2879517    Opoios gnwrizei kati as mou kanei /w Dremoria ...\n",
       "                                 ...                        \n",
       "690                                               Πρώτο like\n",
       "691                                                   Πρώτος\n",
       "692                                        Gianni παίξε Pubg\n",
       "693                                                    Πρώτη\n",
       "696                                                   Πρώτος\n",
       "Length: 1081, dtype: object"
      ]
     },
     "execution_count": 20,
     "metadata": {},
     "output_type": "execute_result"
    }
   ],
   "source": [
    "conditions = (greeklish_series.apply(lambda x: len(x) != 0)) & \\\n",
    "                (greeklish_series.apply(lambda x: \"RRR\" not in x)) & \\\n",
    "                (greeklish_series.apply(lambda x: \"PPP\" not in x)) & \\\n",
    "                (greeklish_series.apply(lambda x: \"First\" not in x))\n",
    "cleared_greeklish_series = greeklish_series[conditions]\n",
    "cleared_greeklish_series"
   ]
  },
  {
   "cell_type": "markdown",
   "id": "110174d3-004c-4dbb-ad80-ed4b54206c0c",
   "metadata": {},
   "source": [
    "And annotate the entire Greeklish dataset using our rules-based (Regex) classifier. \n",
    "\n",
    "Since we selected videos exclusively in Greek, we can safely assume that the vast majority of comments not featuring Greek characters are in Greeklish. We can also safely assume from prior knowledge that Greeklish comments will conversly not feature any Greek characters. \n",
    "\n",
    "We thus classify all comments with English charactes are Greeklish."
   ]
  },
  {
   "cell_type": "code",
   "execution_count": 21,
   "id": "3c6bc888-adf2-4c94-bddf-4af870e9a0f6",
   "metadata": {
    "tags": []
   },
   "outputs": [],
   "source": [
    "regex_model = RegexClassifier(include_greeklish=False)\n",
    "preds = regex_model.predict(cleared_greeklish_series)"
   ]
  },
  {
   "cell_type": "markdown",
   "id": "e71babb0-522b-4417-8d78-8df76e88c6ad",
   "metadata": {},
   "source": [
    "We can briefly verify that our assumptions are correct:"
   ]
  },
  {
   "cell_type": "code",
   "execution_count": 23,
   "id": "46995910-7936-46c4-ac34-611a8fdaa307",
   "metadata": {
    "tags": []
   },
   "outputs": [
    {
     "data": {
      "text/plain": [
       "2926596    Kalhspera paides,\\n\\r\\nEimai arketo kairo ston...\n",
       "2473988    geia sas.psaxnw ellhniko guild ston Deathwing ...\n",
       "2879517    Opoios gnwrizei kati as mou kanei /w Dremoria ...\n",
       "2959390               Bubblethesap Icecrown wotlk horde belf\n",
       "2947119    den se vrisko kane add evvi  .\\nmou leei den u...\n",
       "                                 ...                        \n",
       "676                                         Epitelous amogus\n",
       "681        Ante Pali me ta atoma pou einai first.... Mhn ...\n",
       "683                                                      Lol\n",
       "684                                             na xanapexis\n",
       "689                                                     Hafa\n",
       "Length: 414, dtype: object"
      ]
     },
     "execution_count": 23,
     "metadata": {},
     "output_type": "execute_result"
    }
   ],
   "source": [
    "cleared_greeklish_series[preds==\"en\"]"
   ]
  },
  {
   "cell_type": "code",
   "execution_count": 24,
   "id": "17442e3b-93c7-4a53-82c2-bd26c63b0f16",
   "metadata": {
    "tags": []
   },
   "outputs": [
    {
     "data": {
      "text/plain": [
       "2420747    Καλησπέρα παιδιά, το πρόβλημα είναι το εξής. \\...\n",
       "2981903    Καλησπέρα παίδες. Ψάχνω Ελληνικό active raidin...\n",
       "2959391    Καλησπερα θα πας στις ιδιότητες (properties) σ...\n",
       "2719776    Originally Posted by celphecil\\n\\nΚαλησπέρα Σω...\n",
       "2971700    Ελληνικο guild , ψαχνουμε ατομα για runs ICC10...\n",
       "                                 ...                        \n",
       "690                                               Πρώτο like\n",
       "691                                                   Πρώτος\n",
       "692                                        Gianni παίξε Pubg\n",
       "693                                                    Πρώτη\n",
       "696                                                   Πρώτος\n",
       "Length: 663, dtype: object"
      ]
     },
     "execution_count": 24,
     "metadata": {},
     "output_type": "execute_result"
    }
   ],
   "source": [
    "cleared_greeklish_series[preds==\"el\"]"
   ]
  },
  {
   "cell_type": "code",
   "execution_count": 25,
   "id": "bba2d5fd-9fb7-4fd7-b8f5-a9944d337c07",
   "metadata": {
    "tags": []
   },
   "outputs": [
    {
     "data": {
      "text/html": [
       "<div>\n",
       "<style scoped>\n",
       "    .dataframe tbody tr th:only-of-type {\n",
       "        vertical-align: middle;\n",
       "    }\n",
       "\n",
       "    .dataframe tbody tr th {\n",
       "        vertical-align: top;\n",
       "    }\n",
       "\n",
       "    .dataframe thead th {\n",
       "        text-align: right;\n",
       "    }\n",
       "</style>\n",
       "<table border=\"1\" class=\"dataframe\">\n",
       "  <thead>\n",
       "    <tr style=\"text-align: right;\">\n",
       "      <th></th>\n",
       "      <th>labels</th>\n",
       "      <th>text</th>\n",
       "    </tr>\n",
       "  </thead>\n",
       "  <tbody>\n",
       "    <tr>\n",
       "      <th>2926596</th>\n",
       "      <td>greeklish</td>\n",
       "      <td>Kalhspera paides,\\n\\r\\nEimai arketo kairo ston...</td>\n",
       "    </tr>\n",
       "    <tr>\n",
       "      <th>2473988</th>\n",
       "      <td>greeklish</td>\n",
       "      <td>geia sas.psaxnw ellhniko guild ston Deathwing ...</td>\n",
       "    </tr>\n",
       "    <tr>\n",
       "      <th>2420747</th>\n",
       "      <td>el</td>\n",
       "      <td>Καλησπέρα παιδιά, το πρόβλημα είναι το εξής. \\...</td>\n",
       "    </tr>\n",
       "    <tr>\n",
       "      <th>2981903</th>\n",
       "      <td>el</td>\n",
       "      <td>Καλησπέρα παίδες. Ψάχνω Ελληνικό active raidin...</td>\n",
       "    </tr>\n",
       "    <tr>\n",
       "      <th>2879517</th>\n",
       "      <td>greeklish</td>\n",
       "      <td>Opoios gnwrizei kati as mou kanei /w Dremoria ...</td>\n",
       "    </tr>\n",
       "    <tr>\n",
       "      <th>...</th>\n",
       "      <td>...</td>\n",
       "      <td>...</td>\n",
       "    </tr>\n",
       "    <tr>\n",
       "      <th>690</th>\n",
       "      <td>el</td>\n",
       "      <td>Πρώτο like</td>\n",
       "    </tr>\n",
       "    <tr>\n",
       "      <th>691</th>\n",
       "      <td>el</td>\n",
       "      <td>Πρώτος</td>\n",
       "    </tr>\n",
       "    <tr>\n",
       "      <th>692</th>\n",
       "      <td>el</td>\n",
       "      <td>Gianni παίξε Pubg</td>\n",
       "    </tr>\n",
       "    <tr>\n",
       "      <th>693</th>\n",
       "      <td>el</td>\n",
       "      <td>Πρώτη</td>\n",
       "    </tr>\n",
       "    <tr>\n",
       "      <th>696</th>\n",
       "      <td>el</td>\n",
       "      <td>Πρώτος</td>\n",
       "    </tr>\n",
       "  </tbody>\n",
       "</table>\n",
       "<p>1081 rows × 2 columns</p>\n",
       "</div>"
      ],
      "text/plain": [
       "            labels                                               text\n",
       "2926596  greeklish  Kalhspera paides,\\n\\r\\nEimai arketo kairo ston...\n",
       "2473988  greeklish  geia sas.psaxnw ellhniko guild ston Deathwing ...\n",
       "2420747         el  Καλησπέρα παιδιά, το πρόβλημα είναι το εξής. \\...\n",
       "2981903         el  Καλησπέρα παίδες. Ψάχνω Ελληνικό active raidin...\n",
       "2879517  greeklish  Opoios gnwrizei kati as mou kanei /w Dremoria ...\n",
       "...            ...                                                ...\n",
       "690             el                                         Πρώτο like\n",
       "691             el                                             Πρώτος\n",
       "692             el                                  Gianni παίξε Pubg\n",
       "693             el                                              Πρώτη\n",
       "696             el                                             Πρώτος\n",
       "\n",
       "[1081 rows x 2 columns]"
      ]
     },
     "execution_count": 25,
     "metadata": {},
     "output_type": "execute_result"
    }
   ],
   "source": [
    "labels = np.where(preds==\"en\", \"greeklish\", \"el\")\n",
    "gold2_df = pd.DataFrame({\"labels\": labels, \"text\": cleared_greeklish_series})\n",
    "gold2_df"
   ]
  },
  {
   "cell_type": "markdown",
   "id": "ae40ce06-ee64-4289-be8b-4ed40eac04f5",
   "metadata": {},
   "source": [
    "Having our Greek-English-Other and our Greek-Greeklish datasets we can now combine them to form our gold dataset."
   ]
  },
  {
   "cell_type": "code",
   "execution_count": 26,
   "id": "ff7306dd-67e1-4bf6-be4b-6c8974964b61",
   "metadata": {},
   "outputs": [
    {
     "data": {
      "text/html": [
       "<div>\n",
       "<style scoped>\n",
       "    .dataframe tbody tr th:only-of-type {\n",
       "        vertical-align: middle;\n",
       "    }\n",
       "\n",
       "    .dataframe tbody tr th {\n",
       "        vertical-align: top;\n",
       "    }\n",
       "\n",
       "    .dataframe thead th {\n",
       "        text-align: right;\n",
       "    }\n",
       "</style>\n",
       "<table border=\"1\" class=\"dataframe\">\n",
       "  <thead>\n",
       "    <tr style=\"text-align: right;\">\n",
       "      <th></th>\n",
       "      <th>labels</th>\n",
       "      <th>text</th>\n",
       "    </tr>\n",
       "  </thead>\n",
       "  <tbody>\n",
       "    <tr>\n",
       "      <th>0</th>\n",
       "      <td>el</td>\n",
       "      <td>Παρά τον εαυτό μου , η γνώμη μου για τη σύνεση...</td>\n",
       "    </tr>\n",
       "    <tr>\n",
       "      <th>1</th>\n",
       "      <td>en</td>\n",
       "      <td>Didnt really seem to work much.</td>\n",
       "    </tr>\n",
       "    <tr>\n",
       "      <th>2</th>\n",
       "      <td>el</td>\n",
       "      <td>Ακόμα και το να ξέρεις ότι ήταν ένα άγαλμα που...</td>\n",
       "    </tr>\n",
       "    <tr>\n",
       "      <th>3</th>\n",
       "      <td>en</td>\n",
       "      <td>Highly recommend for those who don't like bein...</td>\n",
       "    </tr>\n",
       "    <tr>\n",
       "      <th>4</th>\n",
       "      <td>el</td>\n",
       "      <td>Έχω κάνει τέσσερις ή πέντε .</td>\n",
       "    </tr>\n",
       "    <tr>\n",
       "      <th>...</th>\n",
       "      <td>...</td>\n",
       "      <td>...</td>\n",
       "    </tr>\n",
       "    <tr>\n",
       "      <th>690</th>\n",
       "      <td>el</td>\n",
       "      <td>Πρώτο like</td>\n",
       "    </tr>\n",
       "    <tr>\n",
       "      <th>691</th>\n",
       "      <td>el</td>\n",
       "      <td>Πρώτος</td>\n",
       "    </tr>\n",
       "    <tr>\n",
       "      <th>692</th>\n",
       "      <td>el</td>\n",
       "      <td>Gianni παίξε Pubg</td>\n",
       "    </tr>\n",
       "    <tr>\n",
       "      <th>693</th>\n",
       "      <td>el</td>\n",
       "      <td>Πρώτη</td>\n",
       "    </tr>\n",
       "    <tr>\n",
       "      <th>696</th>\n",
       "      <td>el</td>\n",
       "      <td>Πρώτος</td>\n",
       "    </tr>\n",
       "  </tbody>\n",
       "</table>\n",
       "<p>25081 rows × 2 columns</p>\n",
       "</div>"
      ],
      "text/plain": [
       "    labels                                               text\n",
       "0       el  Παρά τον εαυτό μου , η γνώμη μου για τη σύνεση...\n",
       "1       en                    Didnt really seem to work much.\n",
       "2       el  Ακόμα και το να ξέρεις ότι ήταν ένα άγαλμα που...\n",
       "3       en  Highly recommend for those who don't like bein...\n",
       "4       el                       Έχω κάνει τέσσερις ή πέντε .\n",
       "..     ...                                                ...\n",
       "690     el                                         Πρώτο like\n",
       "691     el                                             Πρώτος\n",
       "692     el                                  Gianni παίξε Pubg\n",
       "693     el                                              Πρώτη\n",
       "696     el                                             Πρώτος\n",
       "\n",
       "[25081 rows x 2 columns]"
      ]
     },
     "execution_count": 26,
     "metadata": {},
     "output_type": "execute_result"
    }
   ],
   "source": [
    "gold_df = pd.concat([gold1_df, gold2_df])\n",
    "gold_df"
   ]
  },
  {
   "cell_type": "code",
   "execution_count": 27,
   "id": "be21cbf4-0e05-490c-b6a2-3c68b425c89b",
   "metadata": {},
   "outputs": [],
   "source": [
    "import os\n",
    "\n",
    "\n",
    "OUTPUT_DIR = \"output\"\n",
    "\n",
    "def csv_output(df: pd.DataFrame, filename: str) -> None:\n",
    "    \"\"\"\n",
    "    Save a pandas DataFrame to a CSV file.\n",
    "\n",
    "    :param df: The DataFrame to be saved.\n",
    "    :type df: pd.DataFrame\n",
    "\n",
    "    :param filename: The name of the CSV file.\n",
    "    :type filename: str\n",
    "\n",
    "    :return: This function does not return anything.\n",
    "    :rtype: None\n",
    "    \"\"\"\n",
    "    file = os.path.join(OUTPUT_DIR, filename)\n",
    "    df.to_csv(file, encoding = 'utf8')\n",
    "    print(f\"File saved successfully as {file}\")"
   ]
  },
  {
   "cell_type": "code",
   "execution_count": 28,
   "id": "95c8b92b-4bde-4c06-b92f-86d31c24e1a0",
   "metadata": {
    "tags": []
   },
   "outputs": [
    {
     "name": "stdout",
     "output_type": "stream",
     "text": [
      "File saved successfully as output\\gold.csv\n"
     ]
    }
   ],
   "source": [
    "csv_output(gold_df, \"gold.csv\")"
   ]
  },
  {
   "cell_type": "markdown",
   "id": "9345fd42-2426-4b4d-b7f6-e4e17fecb622",
   "metadata": {},
   "source": [
    "## Youtube Crawling"
   ]
  },
  {
   "cell_type": "code",
   "execution_count": 29,
   "id": "fc364ba5-43ef-41dc-b47e-7b593ff4adcd",
   "metadata": {
    "tags": []
   },
   "outputs": [
    {
     "name": "stdout",
     "output_type": "stream",
     "text": [
      "Scrolling (0 out of max 5)...\n",
      "Scrolling (1 out of max 5)...\n",
      "Scrolling (2 out of max 5)...\n",
      "Scrolling (3 out of max 5)...\n",
      "Scrolling (4 out of max 5)...\n",
      "Scrolling (5 out of max 5)...\n"
     ]
    }
   ],
   "source": [
    "from tasks.youtube import extract_search_results, extract_comments\n",
    "\n",
    "\n",
    "# \"greek songs\" search in Greek\n",
    "song_search_url = \"https://www.youtube.com/results?search_query=%CE%B5%CE%BB%CE%BB%CE%B7%CE%BD%CE%B9%CE%BA%CE%B1+%CF%84%CF%81%CE%B1%CE%B3%CE%BF%CF%85%CE%B4%CE%B9%CE%B1\"\n",
    "search_soup = scrape_youtube(ChromeDriverManager.get(), song_search_url, max_scrolls=5, verbose=True)\n",
    "results_search_song = extract_search_results(search_soup)"
   ]
  },
  {
   "cell_type": "code",
   "execution_count": 30,
   "id": "785dc0b6-77a8-4e32-b4f7-1cba15f70db5",
   "metadata": {},
   "outputs": [
    {
     "name": "stdout",
     "output_type": "stream",
     "text": [
      "Scrolling (0 out of max 5)...\n",
      "Scrolling (1 out of max 5)...\n",
      "Scrolling (2 out of max 5)...\n",
      "Scrolling (3 out of max 5)...\n",
      "Scrolling (4 out of max 5)...\n",
      "Scrolling (5 out of max 5)...\n"
     ]
    }
   ],
   "source": [
    "gaming_search_url = \"https://www.youtube.com/results?search_query=greek+fortnite\"\n",
    "gaming_soup = scrape_youtube(ChromeDriverManager.get(), gaming_search_url, max_scrolls=5, verbose=True)\n",
    "results_search_gaming = extract_search_results(gaming_soup)"
   ]
  },
  {
   "cell_type": "code",
   "execution_count": 31,
   "id": "cccbdab7-02e4-4d4d-979d-7dcda9723c54",
   "metadata": {
    "tags": []
   },
   "outputs": [
    {
     "data": {
      "text/html": [
       "<div>\n",
       "<style scoped>\n",
       "    .dataframe tbody tr th:only-of-type {\n",
       "        vertical-align: middle;\n",
       "    }\n",
       "\n",
       "    .dataframe tbody tr th {\n",
       "        vertical-align: top;\n",
       "    }\n",
       "\n",
       "    .dataframe thead th {\n",
       "        text-align: right;\n",
       "    }\n",
       "</style>\n",
       "<table border=\"1\" class=\"dataframe\">\n",
       "  <thead>\n",
       "    <tr style=\"text-align: right;\">\n",
       "      <th></th>\n",
       "      <th>title</th>\n",
       "      <th>link</th>\n",
       "      <th>source</th>\n",
       "    </tr>\n",
       "  </thead>\n",
       "  <tbody>\n",
       "    <tr>\n",
       "      <th>0</th>\n",
       "      <td>\\n\\nΠου 'ναι τα χρόνια ! - 40 αθάνατα, αγαπημέ...</td>\n",
       "      <td>/watch?v=OdX0y96UPEA&amp;pp=ygUjzrXOu867zrfOvc65zr...</td>\n",
       "      <td>song</td>\n",
       "    </tr>\n",
       "    <tr>\n",
       "      <th>1</th>\n",
       "      <td>\\n\\nGreek Hits 2023 | Non-Stop Mix by Elegant ...</td>\n",
       "      <td>/watch?v=RcSAggke-_U&amp;pp=ygUjzrXOu867zrfOvc65zr...</td>\n",
       "      <td>song</td>\n",
       "    </tr>\n",
       "    <tr>\n",
       "      <th>2</th>\n",
       "      <td>\\n\\nΜουσική ιστορία Νο.1 (μέρος πρώτο) - 100 χ...</td>\n",
       "      <td>/watch?v=p5g82ta4sTk&amp;pp=ygUjzrXOu867zrfOvc65zr...</td>\n",
       "      <td>song</td>\n",
       "    </tr>\n",
       "    <tr>\n",
       "      <th>3</th>\n",
       "      <td>\\n\\n00's GREEK MIX | KAPSOURA EDITION\\n</td>\n",
       "      <td>/watch?v=isCeE38TrXA&amp;pp=ygUjzrXOu867zrfOvc65zr...</td>\n",
       "      <td>song</td>\n",
       "    </tr>\n",
       "    <tr>\n",
       "      <th>4</th>\n",
       "      <td>\\n\\nΤΑ ΛΑΪΚΑ ΤΗΣ ΤΑΒΕΡΝΑΣ | NON STOP MIX - Που...</td>\n",
       "      <td>/watch?v=C4f3xcZzr3s&amp;pp=ygUjzrXOu867zrfOvc65zr...</td>\n",
       "      <td>song</td>\n",
       "    </tr>\n",
       "    <tr>\n",
       "      <th>...</th>\n",
       "      <td>...</td>\n",
       "      <td>...</td>\n",
       "      <td>...</td>\n",
       "    </tr>\n",
       "    <tr>\n",
       "      <th>264</th>\n",
       "      <td>\\n\\nFIRST PERSON FORTNITE...(GR)\\n</td>\n",
       "      <td>/watch?v=h4fdNVxH9To&amp;pp=ygUOZ3JlZWsgZm9ydG5pdG...</td>\n",
       "      <td>gaming</td>\n",
       "    </tr>\n",
       "    <tr>\n",
       "      <th>265</th>\n",
       "      <td>\\n\\nΤΟ TILTED TOWERS ΕΠΕΣΤΡΕΨΕ ΚΑΙ ΤΟ ΚΑΤΑΚΤΑΜ...</td>\n",
       "      <td>/watch?v=1d8dXGe3tEk&amp;pp=ygUOZ3JlZWsgZm9ydG5pdG...</td>\n",
       "      <td>gaming</td>\n",
       "    </tr>\n",
       "    <tr>\n",
       "      <th>266</th>\n",
       "      <td>\\n\\nΠΡΩΤΗ ΦΟΡΑ ΣΤΟ * ΝΕΟ * CHAPTER 4 ΤΟΥ FORTN...</td>\n",
       "      <td>/watch?v=cxE0-UXa0hY&amp;pp=ygUOZ3JlZWsgZm9ydG5pdG...</td>\n",
       "      <td>gaming</td>\n",
       "    </tr>\n",
       "    <tr>\n",
       "      <th>267</th>\n",
       "      <td>\\n\\nΑΝ ΜΕ ΝΙΚΗΣΕΙ Ο ΑΔΕΡΦΟΣ ΜΟΥ ΤΟΥ ΚΑΝΩ ΔΩΡΟ ...</td>\n",
       "      <td>/watch?v=2QkNQOrM0ds&amp;pp=ygUOZ3JlZWsgZm9ydG5pdG...</td>\n",
       "      <td>gaming</td>\n",
       "    </tr>\n",
       "    <tr>\n",
       "      <th>268</th>\n",
       "      <td>\\n\\nΓΙΑ ΚΑΘΕ DEATH ΠΙΝΩ 1 ΓΟΥΛΙΑ ΝΕΡΟ CHALLENG...</td>\n",
       "      <td>/watch?v=6869pq4DZPg&amp;pp=ygUOZ3JlZWsgZm9ydG5pdG...</td>\n",
       "      <td>gaming</td>\n",
       "    </tr>\n",
       "  </tbody>\n",
       "</table>\n",
       "<p>269 rows × 3 columns</p>\n",
       "</div>"
      ],
      "text/plain": [
       "                                                 title  \\\n",
       "0    \\n\\nΠου 'ναι τα χρόνια ! - 40 αθάνατα, αγαπημέ...   \n",
       "1    \\n\\nGreek Hits 2023 | Non-Stop Mix by Elegant ...   \n",
       "2    \\n\\nΜουσική ιστορία Νο.1 (μέρος πρώτο) - 100 χ...   \n",
       "3              \\n\\n00's GREEK MIX | KAPSOURA EDITION\\n   \n",
       "4    \\n\\nΤΑ ΛΑΪΚΑ ΤΗΣ ΤΑΒΕΡΝΑΣ | NON STOP MIX - Που...   \n",
       "..                                                 ...   \n",
       "264                 \\n\\nFIRST PERSON FORTNITE...(GR)\\n   \n",
       "265  \\n\\nΤΟ TILTED TOWERS ΕΠΕΣΤΡΕΨΕ ΚΑΙ ΤΟ ΚΑΤΑΚΤΑΜ...   \n",
       "266  \\n\\nΠΡΩΤΗ ΦΟΡΑ ΣΤΟ * ΝΕΟ * CHAPTER 4 ΤΟΥ FORTN...   \n",
       "267  \\n\\nΑΝ ΜΕ ΝΙΚΗΣΕΙ Ο ΑΔΕΡΦΟΣ ΜΟΥ ΤΟΥ ΚΑΝΩ ΔΩΡΟ ...   \n",
       "268  \\n\\nΓΙΑ ΚΑΘΕ DEATH ΠΙΝΩ 1 ΓΟΥΛΙΑ ΝΕΡΟ CHALLENG...   \n",
       "\n",
       "                                                  link  source  \n",
       "0    /watch?v=OdX0y96UPEA&pp=ygUjzrXOu867zrfOvc65zr...    song  \n",
       "1    /watch?v=RcSAggke-_U&pp=ygUjzrXOu867zrfOvc65zr...    song  \n",
       "2    /watch?v=p5g82ta4sTk&pp=ygUjzrXOu867zrfOvc65zr...    song  \n",
       "3    /watch?v=isCeE38TrXA&pp=ygUjzrXOu867zrfOvc65zr...    song  \n",
       "4    /watch?v=C4f3xcZzr3s&pp=ygUjzrXOu867zrfOvc65zr...    song  \n",
       "..                                                 ...     ...  \n",
       "264  /watch?v=h4fdNVxH9To&pp=ygUOZ3JlZWsgZm9ydG5pdG...  gaming  \n",
       "265  /watch?v=1d8dXGe3tEk&pp=ygUOZ3JlZWsgZm9ydG5pdG...  gaming  \n",
       "266  /watch?v=cxE0-UXa0hY&pp=ygUOZ3JlZWsgZm9ydG5pdG...  gaming  \n",
       "267  /watch?v=2QkNQOrM0ds&pp=ygUOZ3JlZWsgZm9ydG5pdG...  gaming  \n",
       "268  /watch?v=6869pq4DZPg&pp=ygUOZ3JlZWsgZm9ydG5pdG...  gaming  \n",
       "\n",
       "[269 rows x 3 columns]"
      ]
     },
     "execution_count": 31,
     "metadata": {},
     "output_type": "execute_result"
    }
   ],
   "source": [
    "results_df = pd.DataFrame({\"title\": results_search_song[0] + results_search_gaming[0],\n",
    "                           \"link\":  results_search_song[1] + results_search_gaming[1],\n",
    "                          \"source\": np.array(len(results_search_song[0])*[\"song\"] + len(results_search_gaming[0])*[\"gaming\"]) })\n",
    "results_df"
   ]
  },
  {
   "cell_type": "code",
   "execution_count": 32,
   "id": "33ad8596-1462-41d4-a81f-2c00bf2d7e39",
   "metadata": {
    "tags": []
   },
   "outputs": [
    {
     "data": {
      "text/html": [
       "<div>\n",
       "<style scoped>\n",
       "    .dataframe tbody tr th:only-of-type {\n",
       "        vertical-align: middle;\n",
       "    }\n",
       "\n",
       "    .dataframe tbody tr th {\n",
       "        vertical-align: top;\n",
       "    }\n",
       "\n",
       "    .dataframe thead th {\n",
       "        text-align: right;\n",
       "    }\n",
       "</style>\n",
       "<table border=\"1\" class=\"dataframe\">\n",
       "  <thead>\n",
       "    <tr style=\"text-align: right;\">\n",
       "      <th></th>\n",
       "      <th>title</th>\n",
       "      <th>link</th>\n",
       "      <th>source</th>\n",
       "    </tr>\n",
       "  </thead>\n",
       "  <tbody>\n",
       "    <tr>\n",
       "      <th>0</th>\n",
       "      <td>Που 'ναι τα χρόνια ! - 40 αθάνατα, αγαπημένα, ...</td>\n",
       "      <td>https://www.youtube.com/watch?v=OdX0y96UPEA&amp;pp...</td>\n",
       "      <td>song</td>\n",
       "    </tr>\n",
       "    <tr>\n",
       "      <th>1</th>\n",
       "      <td>Greek Hits 2023 | Non-Stop Mix by Elegant Gree...</td>\n",
       "      <td>https://www.youtube.com/watch?v=RcSAggke-_U&amp;pp...</td>\n",
       "      <td>song</td>\n",
       "    </tr>\n",
       "    <tr>\n",
       "      <th>2</th>\n",
       "      <td>Μουσική ιστορία Νο.1 (μέρος πρώτο) - 100 χρυσά...</td>\n",
       "      <td>https://www.youtube.com/watch?v=p5g82ta4sTk&amp;pp...</td>\n",
       "      <td>song</td>\n",
       "    </tr>\n",
       "    <tr>\n",
       "      <th>3</th>\n",
       "      <td>00's GREEK MIX | KAPSOURA EDITION</td>\n",
       "      <td>https://www.youtube.com/watch?v=isCeE38TrXA&amp;pp...</td>\n",
       "      <td>song</td>\n",
       "    </tr>\n",
       "    <tr>\n",
       "      <th>4</th>\n",
       "      <td>ΤΑ ΛΑΪΚΑ ΤΗΣ ΤΑΒΕΡΝΑΣ | NON STOP MIX - Πουλόπο...</td>\n",
       "      <td>https://www.youtube.com/watch?v=C4f3xcZzr3s&amp;pp...</td>\n",
       "      <td>song</td>\n",
       "    </tr>\n",
       "    <tr>\n",
       "      <th>...</th>\n",
       "      <td>...</td>\n",
       "      <td>...</td>\n",
       "      <td>...</td>\n",
       "    </tr>\n",
       "    <tr>\n",
       "      <th>264</th>\n",
       "      <td>FIRST PERSON FORTNITE...(GR)</td>\n",
       "      <td>https://www.youtube.com/watch?v=h4fdNVxH9To&amp;pp...</td>\n",
       "      <td>gaming</td>\n",
       "    </tr>\n",
       "    <tr>\n",
       "      <th>265</th>\n",
       "      <td>ΤΟ TILTED TOWERS ΕΠΕΣΤΡΕΨΕ ΚΑΙ ΤΟ ΚΑΤΑΚΤΑΜΕ! (...</td>\n",
       "      <td>https://www.youtube.com/watch?v=1d8dXGe3tEk&amp;pp...</td>\n",
       "      <td>gaming</td>\n",
       "    </tr>\n",
       "    <tr>\n",
       "      <th>266</th>\n",
       "      <td>ΠΡΩΤΗ ΦΟΡΑ ΣΤΟ * ΝΕΟ * CHAPTER 4 ΤΟΥ FORTNITE !!!</td>\n",
       "      <td>https://www.youtube.com/watch?v=cxE0-UXa0hY&amp;pp...</td>\n",
       "      <td>gaming</td>\n",
       "    </tr>\n",
       "    <tr>\n",
       "      <th>267</th>\n",
       "      <td>ΑΝ ΜΕ ΝΙΚΗΣΕΙ Ο ΑΔΕΡΦΟΣ ΜΟΥ ΤΟΥ ΚΑΝΩ ΔΩΡΟ PC! ...</td>\n",
       "      <td>https://www.youtube.com/watch?v=2QkNQOrM0ds&amp;pp...</td>\n",
       "      <td>gaming</td>\n",
       "    </tr>\n",
       "    <tr>\n",
       "      <th>268</th>\n",
       "      <td>ΓΙΑ ΚΑΘΕ DEATH ΠΙΝΩ 1 ΓΟΥΛΙΑ ΝΕΡΟ CHALLENGE! (...</td>\n",
       "      <td>https://www.youtube.com/watch?v=6869pq4DZPg&amp;pp...</td>\n",
       "      <td>gaming</td>\n",
       "    </tr>\n",
       "  </tbody>\n",
       "</table>\n",
       "<p>269 rows × 3 columns</p>\n",
       "</div>"
      ],
      "text/plain": [
       "                                                 title  \\\n",
       "0    Που 'ναι τα χρόνια ! - 40 αθάνατα, αγαπημένα, ...   \n",
       "1    Greek Hits 2023 | Non-Stop Mix by Elegant Gree...   \n",
       "2    Μουσική ιστορία Νο.1 (μέρος πρώτο) - 100 χρυσά...   \n",
       "3                    00's GREEK MIX | KAPSOURA EDITION   \n",
       "4    ΤΑ ΛΑΪΚΑ ΤΗΣ ΤΑΒΕΡΝΑΣ | NON STOP MIX - Πουλόπο...   \n",
       "..                                                 ...   \n",
       "264                       FIRST PERSON FORTNITE...(GR)   \n",
       "265  ΤΟ TILTED TOWERS ΕΠΕΣΤΡΕΨΕ ΚΑΙ ΤΟ ΚΑΤΑΚΤΑΜΕ! (...   \n",
       "266  ΠΡΩΤΗ ΦΟΡΑ ΣΤΟ * ΝΕΟ * CHAPTER 4 ΤΟΥ FORTNITE !!!   \n",
       "267  ΑΝ ΜΕ ΝΙΚΗΣΕΙ Ο ΑΔΕΡΦΟΣ ΜΟΥ ΤΟΥ ΚΑΝΩ ΔΩΡΟ PC! ...   \n",
       "268  ΓΙΑ ΚΑΘΕ DEATH ΠΙΝΩ 1 ΓΟΥΛΙΑ ΝΕΡΟ CHALLENGE! (...   \n",
       "\n",
       "                                                  link  source  \n",
       "0    https://www.youtube.com/watch?v=OdX0y96UPEA&pp...    song  \n",
       "1    https://www.youtube.com/watch?v=RcSAggke-_U&pp...    song  \n",
       "2    https://www.youtube.com/watch?v=p5g82ta4sTk&pp...    song  \n",
       "3    https://www.youtube.com/watch?v=isCeE38TrXA&pp...    song  \n",
       "4    https://www.youtube.com/watch?v=C4f3xcZzr3s&pp...    song  \n",
       "..                                                 ...     ...  \n",
       "264  https://www.youtube.com/watch?v=h4fdNVxH9To&pp...  gaming  \n",
       "265  https://www.youtube.com/watch?v=1d8dXGe3tEk&pp...  gaming  \n",
       "266  https://www.youtube.com/watch?v=cxE0-UXa0hY&pp...  gaming  \n",
       "267  https://www.youtube.com/watch?v=2QkNQOrM0ds&pp...  gaming  \n",
       "268  https://www.youtube.com/watch?v=6869pq4DZPg&pp...  gaming  \n",
       "\n",
       "[269 rows x 3 columns]"
      ]
     },
     "execution_count": 32,
     "metadata": {},
     "output_type": "execute_result"
    }
   ],
   "source": [
    "results_df.title = results_df.title.apply(lambda x: x.strip())\n",
    "results_df.link = results_df.link.apply(lambda x: \"https://www.youtube.com\" + x) \n",
    "results_df"
   ]
  },
  {
   "cell_type": "code",
   "execution_count": 33,
   "id": "1ef13a6a-2c51-419d-ba62-a58a7fd7e36a",
   "metadata": {
    "tags": []
   },
   "outputs": [
    {
     "data": {
      "text/html": [
       "<div>\n",
       "<style scoped>\n",
       "    .dataframe tbody tr th:only-of-type {\n",
       "        vertical-align: middle;\n",
       "    }\n",
       "\n",
       "    .dataframe tbody tr th {\n",
       "        vertical-align: top;\n",
       "    }\n",
       "\n",
       "    .dataframe thead th {\n",
       "        text-align: right;\n",
       "    }\n",
       "</style>\n",
       "<table border=\"1\" class=\"dataframe\">\n",
       "  <thead>\n",
       "    <tr style=\"text-align: right;\">\n",
       "      <th></th>\n",
       "      <th>title</th>\n",
       "      <th>link</th>\n",
       "      <th>source</th>\n",
       "    </tr>\n",
       "  </thead>\n",
       "  <tbody>\n",
       "    <tr>\n",
       "      <th>0</th>\n",
       "      <td>Που 'ναι τα χρόνια ! - 40 αθάνατα, αγαπημένα, ...</td>\n",
       "      <td>https://www.youtube.com/watch?v=OdX0y96UPEA&amp;pp...</td>\n",
       "      <td>song</td>\n",
       "    </tr>\n",
       "    <tr>\n",
       "      <th>2</th>\n",
       "      <td>Μουσική ιστορία Νο.1 (μέρος πρώτο) - 100 χρυσά...</td>\n",
       "      <td>https://www.youtube.com/watch?v=p5g82ta4sTk&amp;pp...</td>\n",
       "      <td>song</td>\n",
       "    </tr>\n",
       "    <tr>\n",
       "      <th>4</th>\n",
       "      <td>ΤΑ ΛΑΪΚΑ ΤΗΣ ΤΑΒΕΡΝΑΣ | NON STOP MIX - Πουλόπο...</td>\n",
       "      <td>https://www.youtube.com/watch?v=C4f3xcZzr3s&amp;pp...</td>\n",
       "      <td>song</td>\n",
       "    </tr>\n",
       "    <tr>\n",
       "      <th>6</th>\n",
       "      <td>40 ελληνικά τραγούδια από τα 60's (by Elias)</td>\n",
       "      <td>https://www.youtube.com/watch?v=WIiJc6_4khQ&amp;pp...</td>\n",
       "      <td>song</td>\n",
       "    </tr>\n",
       "    <tr>\n",
       "      <th>8</th>\n",
       "      <td>Όμορφα ελληνικά τραγούδια</td>\n",
       "      <td>https://www.youtube.com/watch?v=UIfND1RykJc&amp;pp...</td>\n",
       "      <td>song</td>\n",
       "    </tr>\n",
       "    <tr>\n",
       "      <th>...</th>\n",
       "      <td>...</td>\n",
       "      <td>...</td>\n",
       "      <td>...</td>\n",
       "    </tr>\n",
       "    <tr>\n",
       "      <th>263</th>\n",
       "      <td>ΝΙΚΗ ΜΟΝΟ ΜΕ AR CHALLENGE! (Fortnite Greek)</td>\n",
       "      <td>https://www.youtube.com/watch?v=oLR2t4xIEq8&amp;pp...</td>\n",
       "      <td>gaming</td>\n",
       "    </tr>\n",
       "    <tr>\n",
       "      <th>265</th>\n",
       "      <td>ΤΟ TILTED TOWERS ΕΠΕΣΤΡΕΨΕ ΚΑΙ ΤΟ ΚΑΤΑΚΤΑΜΕ! (...</td>\n",
       "      <td>https://www.youtube.com/watch?v=1d8dXGe3tEk&amp;pp...</td>\n",
       "      <td>gaming</td>\n",
       "    </tr>\n",
       "    <tr>\n",
       "      <th>266</th>\n",
       "      <td>ΠΡΩΤΗ ΦΟΡΑ ΣΤΟ * ΝΕΟ * CHAPTER 4 ΤΟΥ FORTNITE !!!</td>\n",
       "      <td>https://www.youtube.com/watch?v=cxE0-UXa0hY&amp;pp...</td>\n",
       "      <td>gaming</td>\n",
       "    </tr>\n",
       "    <tr>\n",
       "      <th>267</th>\n",
       "      <td>ΑΝ ΜΕ ΝΙΚΗΣΕΙ Ο ΑΔΕΡΦΟΣ ΜΟΥ ΤΟΥ ΚΑΝΩ ΔΩΡΟ PC! ...</td>\n",
       "      <td>https://www.youtube.com/watch?v=2QkNQOrM0ds&amp;pp...</td>\n",
       "      <td>gaming</td>\n",
       "    </tr>\n",
       "    <tr>\n",
       "      <th>268</th>\n",
       "      <td>ΓΙΑ ΚΑΘΕ DEATH ΠΙΝΩ 1 ΓΟΥΛΙΑ ΝΕΡΟ CHALLENGE! (...</td>\n",
       "      <td>https://www.youtube.com/watch?v=6869pq4DZPg&amp;pp...</td>\n",
       "      <td>gaming</td>\n",
       "    </tr>\n",
       "  </tbody>\n",
       "</table>\n",
       "<p>240 rows × 3 columns</p>\n",
       "</div>"
      ],
      "text/plain": [
       "                                                 title  \\\n",
       "0    Που 'ναι τα χρόνια ! - 40 αθάνατα, αγαπημένα, ...   \n",
       "2    Μουσική ιστορία Νο.1 (μέρος πρώτο) - 100 χρυσά...   \n",
       "4    ΤΑ ΛΑΪΚΑ ΤΗΣ ΤΑΒΕΡΝΑΣ | NON STOP MIX - Πουλόπο...   \n",
       "6         40 ελληνικά τραγούδια από τα 60's (by Elias)   \n",
       "8                            Όμορφα ελληνικά τραγούδια   \n",
       "..                                                 ...   \n",
       "263        ΝΙΚΗ ΜΟΝΟ ΜΕ AR CHALLENGE! (Fortnite Greek)   \n",
       "265  ΤΟ TILTED TOWERS ΕΠΕΣΤΡΕΨΕ ΚΑΙ ΤΟ ΚΑΤΑΚΤΑΜΕ! (...   \n",
       "266  ΠΡΩΤΗ ΦΟΡΑ ΣΤΟ * ΝΕΟ * CHAPTER 4 ΤΟΥ FORTNITE !!!   \n",
       "267  ΑΝ ΜΕ ΝΙΚΗΣΕΙ Ο ΑΔΕΡΦΟΣ ΜΟΥ ΤΟΥ ΚΑΝΩ ΔΩΡΟ PC! ...   \n",
       "268  ΓΙΑ ΚΑΘΕ DEATH ΠΙΝΩ 1 ΓΟΥΛΙΑ ΝΕΡΟ CHALLENGE! (...   \n",
       "\n",
       "                                                  link  source  \n",
       "0    https://www.youtube.com/watch?v=OdX0y96UPEA&pp...    song  \n",
       "2    https://www.youtube.com/watch?v=p5g82ta4sTk&pp...    song  \n",
       "4    https://www.youtube.com/watch?v=C4f3xcZzr3s&pp...    song  \n",
       "6    https://www.youtube.com/watch?v=WIiJc6_4khQ&pp...    song  \n",
       "8    https://www.youtube.com/watch?v=UIfND1RykJc&pp...    song  \n",
       "..                                                 ...     ...  \n",
       "263  https://www.youtube.com/watch?v=oLR2t4xIEq8&pp...  gaming  \n",
       "265  https://www.youtube.com/watch?v=1d8dXGe3tEk&pp...  gaming  \n",
       "266  https://www.youtube.com/watch?v=cxE0-UXa0hY&pp...  gaming  \n",
       "267  https://www.youtube.com/watch?v=2QkNQOrM0ds&pp...  gaming  \n",
       "268  https://www.youtube.com/watch?v=6869pq4DZPg&pp...  gaming  \n",
       "\n",
       "[240 rows x 3 columns]"
      ]
     },
     "execution_count": 33,
     "metadata": {},
     "output_type": "execute_result"
    }
   ],
   "source": [
    "greeklish_model = RegexClassifier(include_greeklish=True)\n",
    "preds = greeklish_model.predict(results_df.title)\n",
    "gr_res_df = results_df[(preds != \"en\") & (preds != None)]\n",
    "gr_res_df"
   ]
  },
  {
   "cell_type": "code",
   "execution_count": 34,
   "id": "a24623c0-ce6d-4e3d-bf26-87b79cd2c390",
   "metadata": {},
   "outputs": [],
   "source": [
    "from selenium.common.exceptions import JavascriptException\n",
    "import bs4\n",
    "\n",
    "\n",
    "def scrape(urls: list[str]) -> list[tuple[str, bs4.BeautifulSoup]]:\n",
    "    scrape_results = []\n",
    "    \n",
    "    print(\"Scraping videos...\")\n",
    "    for url in tqdm(urls):\n",
    "        try:\n",
    "            scrape_results.append((url, scrape_youtube(ChromeDriverManager.get(), url, max_scrolls=10, scroll_wait_secs=1.3, verbose=False)))\n",
    "        except JavascriptException:\n",
    "            continue\n",
    "        except Exception as e:\n",
    "            print(e)\n",
    "            continue  \n",
    "    return scrape_results\n",
    "\n",
    "\n",
    "def process_scraped(scrape_results: list[tuple[str, bs4.BeautifulSoup]]) -> pd.DataFrame:\n",
    "    scraped_urls = []\n",
    "    comments = []\n",
    "    dates = []\n",
    "    \n",
    "    print(\"Processing comments...\")\n",
    "    print(type(scrape_results[0]))\n",
    "    for url, result in tqdm(scrape_results):\n",
    "        if result is not None:\n",
    "            new_comments, new_dates = extract_comments(result)\n",
    "            comments += new_comments\n",
    "            dates += new_dates\n",
    "            scraped_urls += ([url] * len(new_comments))\n",
    "    return pd.DataFrame({\"link\": scraped_urls, \"text\": comments, \"date\": dates})\n",
    "\n",
    "\n",
    "def filter_comments(df: pd.DataFrame) -> pd.DataFrame:\n",
    "    preds = greeklish_model.predict(df.text)\n",
    "    mask = ((preds != \"el\") & (preds != \"greeklish\"))\n",
    "    return comments_df[mask]"
   ]
  },
  {
   "cell_type": "raw",
   "id": "fc5738a8-b2e9-4f11-b370-6a38efb60a53",
   "metadata": {},
   "source": [
    "max_videos = 150\n",
    "urls = gr_res_df.link.sample(max_videos) if len(gr_res_df.link) > max_videos else gr_res_df.link\n",
    "\n",
    "scraped = scrape(urls)\n",
    "comments_df = process_scraped(scraped)\n",
    "\n",
    "comments_df.date = comments_df.date.apply(lambda x: x.date() if x is not None else None)\n",
    "comments_df = filter_comments(comments_df)\n",
    "crawl_df = pd.merge(gr_res_df, comments_df, how=\"inner\", on=\"link\")"
   ]
  },
  {
   "cell_type": "code",
   "execution_count": 35,
   "id": "f6b75dfc-5a4b-4c63-a203-cf06627a7a7c",
   "metadata": {},
   "outputs": [
    {
     "data": {
      "text/html": [
       "<div>\n",
       "<style scoped>\n",
       "    .dataframe tbody tr th:only-of-type {\n",
       "        vertical-align: middle;\n",
       "    }\n",
       "\n",
       "    .dataframe tbody tr th {\n",
       "        vertical-align: top;\n",
       "    }\n",
       "\n",
       "    .dataframe thead th {\n",
       "        text-align: right;\n",
       "    }\n",
       "</style>\n",
       "<table border=\"1\" class=\"dataframe\">\n",
       "  <thead>\n",
       "    <tr style=\"text-align: right;\">\n",
       "      <th></th>\n",
       "      <th>Unnamed: 0.1</th>\n",
       "      <th>Unnamed: 0</th>\n",
       "      <th>title</th>\n",
       "      <th>link</th>\n",
       "      <th>source</th>\n",
       "      <th>text</th>\n",
       "      <th>date</th>\n",
       "    </tr>\n",
       "  </thead>\n",
       "  <tbody>\n",
       "    <tr>\n",
       "      <th>0</th>\n",
       "      <td>0</td>\n",
       "      <td>0</td>\n",
       "      <td>Που 'ναι τα χρόνια ! - 40 αθάνατα, αγαπημένα, ...</td>\n",
       "      <td>https://www.youtube.com/watch?v=OdX0y96UPEA&amp;pp...</td>\n",
       "      <td>song</td>\n",
       "      <td>Great selection, one more time. THANKS!</td>\n",
       "      <td>2023-07-27</td>\n",
       "    </tr>\n",
       "    <tr>\n",
       "      <th>1</th>\n",
       "      <td>3</td>\n",
       "      <td>3</td>\n",
       "      <td>Που 'ναι τα χρόνια ! - 40 αθάνατα, αγαπημένα, ...</td>\n",
       "      <td>https://www.youtube.com/watch?v=OdX0y96UPEA&amp;pp...</td>\n",
       "      <td>song</td>\n",
       "      <td>️</td>\n",
       "      <td>2023-07-27</td>\n",
       "    </tr>\n",
       "    <tr>\n",
       "      <th>2</th>\n",
       "      <td>4</td>\n",
       "      <td>4</td>\n",
       "      <td>Μουσική ιστορία Νο.1 (μέρος πρώτο) - 100 χρυσά...</td>\n",
       "      <td>https://www.youtube.com/watch?v=p5g82ta4sTk&amp;pp...</td>\n",
       "      <td>song</td>\n",
       "      <td>Încă  o zi petrecută cu muzica voastră  fantas...</td>\n",
       "      <td>2022-11-27</td>\n",
       "    </tr>\n",
       "    <tr>\n",
       "      <th>3</th>\n",
       "      <td>5</td>\n",
       "      <td>5</td>\n",
       "      <td>Μουσική ιστορία Νο.1 (μέρος πρώτο) - 100 χρυσά...</td>\n",
       "      <td>https://www.youtube.com/watch?v=p5g82ta4sTk&amp;pp...</td>\n",
       "      <td>song</td>\n",
       "      <td>ANTIGUAS CANCIONES DE GRECIA PAIS NATAL DE MIS...</td>\n",
       "      <td>2022-11-27</td>\n",
       "    </tr>\n",
       "    <tr>\n",
       "      <th>4</th>\n",
       "      <td>6</td>\n",
       "      <td>6</td>\n",
       "      <td>Μουσική ιστορία Νο.1 (μέρος πρώτο) - 100 χρυσά...</td>\n",
       "      <td>https://www.youtube.com/watch?v=p5g82ta4sTk&amp;pp...</td>\n",
       "      <td>song</td>\n",
       "      <td>FelicităriSuperb \\nSă fiți mereu bine \\nMomen...</td>\n",
       "      <td>2022-11-27</td>\n",
       "    </tr>\n",
       "    <tr>\n",
       "      <th>...</th>\n",
       "      <td>...</td>\n",
       "      <td>...</td>\n",
       "      <td>...</td>\n",
       "      <td>...</td>\n",
       "      <td>...</td>\n",
       "      <td>...</td>\n",
       "      <td>...</td>\n",
       "    </tr>\n",
       "    <tr>\n",
       "      <th>3117</th>\n",
       "      <td>3450</td>\n",
       "      <td>3450</td>\n",
       "      <td>Θα Χωρίσω Εξαιτίας Του Fortnite…</td>\n",
       "      <td>https://www.youtube.com/watch?v=jla9IrQAIkk&amp;pp...</td>\n",
       "      <td>gaming</td>\n",
       "      <td>Fake</td>\n",
       "      <td>2023-11-18</td>\n",
       "    </tr>\n",
       "    <tr>\n",
       "      <th>3118</th>\n",
       "      <td>3451</td>\n",
       "      <td>3451</td>\n",
       "      <td>Θα Χωρίσω Εξαιτίας Του Fortnite…</td>\n",
       "      <td>https://www.youtube.com/watch?v=jla9IrQAIkk&amp;pp...</td>\n",
       "      <td>gaming</td>\n",
       "      <td>malaka einai gia ton poutso to stisimo tou vinteo</td>\n",
       "      <td>2023-11-23</td>\n",
       "    </tr>\n",
       "    <tr>\n",
       "      <th>3119</th>\n",
       "      <td>3452</td>\n",
       "      <td>3452</td>\n",
       "      <td>Θα Χωρίσω Εξαιτίας Του Fortnite…</td>\n",
       "      <td>https://www.youtube.com/watch?v=jla9IrQAIkk&amp;pp...</td>\n",
       "      <td>gaming</td>\n",
       "      <td>KALITERA</td>\n",
       "      <td>2023-11-19</td>\n",
       "    </tr>\n",
       "    <tr>\n",
       "      <th>3120</th>\n",
       "      <td>3453</td>\n",
       "      <td>3453</td>\n",
       "      <td>Θα Χωρίσω Εξαιτίας Του Fortnite…</td>\n",
       "      <td>https://www.youtube.com/watch?v=jla9IrQAIkk&amp;pp...</td>\n",
       "      <td>gaming</td>\n",
       "      <td>o monos youtuber pou dn exei bgalei pote fake ...</td>\n",
       "      <td>2023-11-18</td>\n",
       "    </tr>\n",
       "    <tr>\n",
       "      <th>3121</th>\n",
       "      <td>3454</td>\n",
       "      <td>3454</td>\n",
       "      <td>Θα Χωρίσω Εξαιτίας Του Fortnite…</td>\n",
       "      <td>https://www.youtube.com/watch?v=jla9IrQAIkk&amp;pp...</td>\n",
       "      <td>gaming</td>\n",
       "      <td>epitelous</td>\n",
       "      <td>2023-11-18</td>\n",
       "    </tr>\n",
       "  </tbody>\n",
       "</table>\n",
       "<p>3122 rows × 7 columns</p>\n",
       "</div>"
      ],
      "text/plain": [
       "      Unnamed: 0.1  Unnamed: 0  \\\n",
       "0                0           0   \n",
       "1                3           3   \n",
       "2                4           4   \n",
       "3                5           5   \n",
       "4                6           6   \n",
       "...            ...         ...   \n",
       "3117          3450        3450   \n",
       "3118          3451        3451   \n",
       "3119          3452        3452   \n",
       "3120          3453        3453   \n",
       "3121          3454        3454   \n",
       "\n",
       "                                                  title  \\\n",
       "0     Που 'ναι τα χρόνια ! - 40 αθάνατα, αγαπημένα, ...   \n",
       "1     Που 'ναι τα χρόνια ! - 40 αθάνατα, αγαπημένα, ...   \n",
       "2     Μουσική ιστορία Νο.1 (μέρος πρώτο) - 100 χρυσά...   \n",
       "3     Μουσική ιστορία Νο.1 (μέρος πρώτο) - 100 χρυσά...   \n",
       "4     Μουσική ιστορία Νο.1 (μέρος πρώτο) - 100 χρυσά...   \n",
       "...                                                 ...   \n",
       "3117                   Θα Χωρίσω Εξαιτίας Του Fortnite…   \n",
       "3118                   Θα Χωρίσω Εξαιτίας Του Fortnite…   \n",
       "3119                   Θα Χωρίσω Εξαιτίας Του Fortnite…   \n",
       "3120                   Θα Χωρίσω Εξαιτίας Του Fortnite…   \n",
       "3121                   Θα Χωρίσω Εξαιτίας Του Fortnite…   \n",
       "\n",
       "                                                   link  source  \\\n",
       "0     https://www.youtube.com/watch?v=OdX0y96UPEA&pp...    song   \n",
       "1     https://www.youtube.com/watch?v=OdX0y96UPEA&pp...    song   \n",
       "2     https://www.youtube.com/watch?v=p5g82ta4sTk&pp...    song   \n",
       "3     https://www.youtube.com/watch?v=p5g82ta4sTk&pp...    song   \n",
       "4     https://www.youtube.com/watch?v=p5g82ta4sTk&pp...    song   \n",
       "...                                                 ...     ...   \n",
       "3117  https://www.youtube.com/watch?v=jla9IrQAIkk&pp...  gaming   \n",
       "3118  https://www.youtube.com/watch?v=jla9IrQAIkk&pp...  gaming   \n",
       "3119  https://www.youtube.com/watch?v=jla9IrQAIkk&pp...  gaming   \n",
       "3120  https://www.youtube.com/watch?v=jla9IrQAIkk&pp...  gaming   \n",
       "3121  https://www.youtube.com/watch?v=jla9IrQAIkk&pp...  gaming   \n",
       "\n",
       "                                                   text       date  \n",
       "0               Great selection, one more time. THANKS! 2023-07-27  \n",
       "1                                                     ️ 2023-07-27  \n",
       "2     Încă  o zi petrecută cu muzica voastră  fantas... 2022-11-27  \n",
       "3     ANTIGUAS CANCIONES DE GRECIA PAIS NATAL DE MIS... 2022-11-27  \n",
       "4      FelicităriSuperb \\nSă fiți mereu bine \\nMomen... 2022-11-27  \n",
       "...                                                 ...        ...  \n",
       "3117                                               Fake 2023-11-18  \n",
       "3118  malaka einai gia ton poutso to stisimo tou vinteo 2023-11-23  \n",
       "3119                                           KALITERA 2023-11-19  \n",
       "3120  o monos youtuber pou dn exei bgalei pote fake ... 2023-11-18  \n",
       "3121                                          epitelous 2023-11-18  \n",
       "\n",
       "[3122 rows x 7 columns]"
      ]
     },
     "execution_count": 35,
     "metadata": {},
     "output_type": "execute_result"
    }
   ],
   "source": [
    "crawl_df = pd.read_csv(\"output/temp.csv\", encoding=\"utf8\")\n",
    "crawl_df.date = pd.to_datetime(crawl_df.date)\n",
    "crawl_df"
   ]
  },
  {
   "cell_type": "code",
   "execution_count": 36,
   "id": "04eaef1b-837b-423c-a261-ceec238d04d0",
   "metadata": {},
   "outputs": [
    {
     "data": {
      "text/html": [
       "<div>\n",
       "<style scoped>\n",
       "    .dataframe tbody tr th:only-of-type {\n",
       "        vertical-align: middle;\n",
       "    }\n",
       "\n",
       "    .dataframe tbody tr th {\n",
       "        vertical-align: top;\n",
       "    }\n",
       "\n",
       "    .dataframe thead th {\n",
       "        text-align: right;\n",
       "    }\n",
       "</style>\n",
       "<table border=\"1\" class=\"dataframe\">\n",
       "  <thead>\n",
       "    <tr style=\"text-align: right;\">\n",
       "      <th></th>\n",
       "      <th>Unnamed: 0.1</th>\n",
       "      <th>Unnamed: 0</th>\n",
       "      <th>title</th>\n",
       "      <th>link</th>\n",
       "      <th>source</th>\n",
       "      <th>text</th>\n",
       "      <th>date</th>\n",
       "    </tr>\n",
       "  </thead>\n",
       "  <tbody>\n",
       "    <tr>\n",
       "      <th>0</th>\n",
       "      <td>0</td>\n",
       "      <td>0</td>\n",
       "      <td>Που 'ναι τα χρόνια ! - 40 αθάνατα, αγαπημένα, ...</td>\n",
       "      <td>https://www.youtube.com/watch?v=OdX0y96UPEA&amp;pp...</td>\n",
       "      <td>song</td>\n",
       "      <td>Great selection, one more time. THANKS!</td>\n",
       "      <td>2023-07-27</td>\n",
       "    </tr>\n",
       "    <tr>\n",
       "      <th>1</th>\n",
       "      <td>3</td>\n",
       "      <td>3</td>\n",
       "      <td>Που 'ναι τα χρόνια ! - 40 αθάνατα, αγαπημένα, ...</td>\n",
       "      <td>https://www.youtube.com/watch?v=OdX0y96UPEA&amp;pp...</td>\n",
       "      <td>song</td>\n",
       "      <td>️</td>\n",
       "      <td>2023-07-27</td>\n",
       "    </tr>\n",
       "    <tr>\n",
       "      <th>2</th>\n",
       "      <td>4</td>\n",
       "      <td>4</td>\n",
       "      <td>Μουσική ιστορία Νο.1 (μέρος πρώτο) - 100 χρυσά...</td>\n",
       "      <td>https://www.youtube.com/watch?v=p5g82ta4sTk&amp;pp...</td>\n",
       "      <td>song</td>\n",
       "      <td>Încă  o zi petrecută cu muzica voastră  fantas...</td>\n",
       "      <td>2022-11-27</td>\n",
       "    </tr>\n",
       "    <tr>\n",
       "      <th>3</th>\n",
       "      <td>5</td>\n",
       "      <td>5</td>\n",
       "      <td>Μουσική ιστορία Νο.1 (μέρος πρώτο) - 100 χρυσά...</td>\n",
       "      <td>https://www.youtube.com/watch?v=p5g82ta4sTk&amp;pp...</td>\n",
       "      <td>song</td>\n",
       "      <td>ANTIGUAS CANCIONES DE GRECIA PAIS NATAL DE MIS...</td>\n",
       "      <td>2022-11-27</td>\n",
       "    </tr>\n",
       "    <tr>\n",
       "      <th>4</th>\n",
       "      <td>6</td>\n",
       "      <td>6</td>\n",
       "      <td>Μουσική ιστορία Νο.1 (μέρος πρώτο) - 100 χρυσά...</td>\n",
       "      <td>https://www.youtube.com/watch?v=p5g82ta4sTk&amp;pp...</td>\n",
       "      <td>song</td>\n",
       "      <td>FelicităriSuperb \\nSă fiți mereu bine \\nMomen...</td>\n",
       "      <td>2022-11-27</td>\n",
       "    </tr>\n",
       "    <tr>\n",
       "      <th>...</th>\n",
       "      <td>...</td>\n",
       "      <td>...</td>\n",
       "      <td>...</td>\n",
       "      <td>...</td>\n",
       "      <td>...</td>\n",
       "      <td>...</td>\n",
       "      <td>...</td>\n",
       "    </tr>\n",
       "    <tr>\n",
       "      <th>3117</th>\n",
       "      <td>3450</td>\n",
       "      <td>3450</td>\n",
       "      <td>Θα Χωρίσω Εξαιτίας Του Fortnite…</td>\n",
       "      <td>https://www.youtube.com/watch?v=jla9IrQAIkk&amp;pp...</td>\n",
       "      <td>gaming</td>\n",
       "      <td>Fake</td>\n",
       "      <td>2023-11-18</td>\n",
       "    </tr>\n",
       "    <tr>\n",
       "      <th>3118</th>\n",
       "      <td>3451</td>\n",
       "      <td>3451</td>\n",
       "      <td>Θα Χωρίσω Εξαιτίας Του Fortnite…</td>\n",
       "      <td>https://www.youtube.com/watch?v=jla9IrQAIkk&amp;pp...</td>\n",
       "      <td>gaming</td>\n",
       "      <td>malaka einai gia ton poutso to stisimo tou vinteo</td>\n",
       "      <td>2023-11-23</td>\n",
       "    </tr>\n",
       "    <tr>\n",
       "      <th>3119</th>\n",
       "      <td>3452</td>\n",
       "      <td>3452</td>\n",
       "      <td>Θα Χωρίσω Εξαιτίας Του Fortnite…</td>\n",
       "      <td>https://www.youtube.com/watch?v=jla9IrQAIkk&amp;pp...</td>\n",
       "      <td>gaming</td>\n",
       "      <td>KALITERA</td>\n",
       "      <td>2023-11-19</td>\n",
       "    </tr>\n",
       "    <tr>\n",
       "      <th>3120</th>\n",
       "      <td>3453</td>\n",
       "      <td>3453</td>\n",
       "      <td>Θα Χωρίσω Εξαιτίας Του Fortnite…</td>\n",
       "      <td>https://www.youtube.com/watch?v=jla9IrQAIkk&amp;pp...</td>\n",
       "      <td>gaming</td>\n",
       "      <td>o monos youtuber pou dn exei bgalei pote fake ...</td>\n",
       "      <td>2023-11-18</td>\n",
       "    </tr>\n",
       "    <tr>\n",
       "      <th>3121</th>\n",
       "      <td>3454</td>\n",
       "      <td>3454</td>\n",
       "      <td>Θα Χωρίσω Εξαιτίας Του Fortnite…</td>\n",
       "      <td>https://www.youtube.com/watch?v=jla9IrQAIkk&amp;pp...</td>\n",
       "      <td>gaming</td>\n",
       "      <td>epitelous</td>\n",
       "      <td>2023-11-18</td>\n",
       "    </tr>\n",
       "  </tbody>\n",
       "</table>\n",
       "<p>3122 rows × 7 columns</p>\n",
       "</div>"
      ],
      "text/plain": [
       "      Unnamed: 0.1  Unnamed: 0  \\\n",
       "0                0           0   \n",
       "1                3           3   \n",
       "2                4           4   \n",
       "3                5           5   \n",
       "4                6           6   \n",
       "...            ...         ...   \n",
       "3117          3450        3450   \n",
       "3118          3451        3451   \n",
       "3119          3452        3452   \n",
       "3120          3453        3453   \n",
       "3121          3454        3454   \n",
       "\n",
       "                                                  title  \\\n",
       "0     Που 'ναι τα χρόνια ! - 40 αθάνατα, αγαπημένα, ...   \n",
       "1     Που 'ναι τα χρόνια ! - 40 αθάνατα, αγαπημένα, ...   \n",
       "2     Μουσική ιστορία Νο.1 (μέρος πρώτο) - 100 χρυσά...   \n",
       "3     Μουσική ιστορία Νο.1 (μέρος πρώτο) - 100 χρυσά...   \n",
       "4     Μουσική ιστορία Νο.1 (μέρος πρώτο) - 100 χρυσά...   \n",
       "...                                                 ...   \n",
       "3117                   Θα Χωρίσω Εξαιτίας Του Fortnite…   \n",
       "3118                   Θα Χωρίσω Εξαιτίας Του Fortnite…   \n",
       "3119                   Θα Χωρίσω Εξαιτίας Του Fortnite…   \n",
       "3120                   Θα Χωρίσω Εξαιτίας Του Fortnite…   \n",
       "3121                   Θα Χωρίσω Εξαιτίας Του Fortnite…   \n",
       "\n",
       "                                                   link  source  \\\n",
       "0     https://www.youtube.com/watch?v=OdX0y96UPEA&pp...    song   \n",
       "1     https://www.youtube.com/watch?v=OdX0y96UPEA&pp...    song   \n",
       "2     https://www.youtube.com/watch?v=p5g82ta4sTk&pp...    song   \n",
       "3     https://www.youtube.com/watch?v=p5g82ta4sTk&pp...    song   \n",
       "4     https://www.youtube.com/watch?v=p5g82ta4sTk&pp...    song   \n",
       "...                                                 ...     ...   \n",
       "3117  https://www.youtube.com/watch?v=jla9IrQAIkk&pp...  gaming   \n",
       "3118  https://www.youtube.com/watch?v=jla9IrQAIkk&pp...  gaming   \n",
       "3119  https://www.youtube.com/watch?v=jla9IrQAIkk&pp...  gaming   \n",
       "3120  https://www.youtube.com/watch?v=jla9IrQAIkk&pp...  gaming   \n",
       "3121  https://www.youtube.com/watch?v=jla9IrQAIkk&pp...  gaming   \n",
       "\n",
       "                                                   text       date  \n",
       "0               Great selection, one more time. THANKS! 2023-07-27  \n",
       "1                                                     ️ 2023-07-27  \n",
       "2     Încă  o zi petrecută cu muzica voastră  fantas... 2022-11-27  \n",
       "3     ANTIGUAS CANCIONES DE GRECIA PAIS NATAL DE MIS... 2022-11-27  \n",
       "4      FelicităriSuperb \\nSă fiți mereu bine \\nMomen... 2022-11-27  \n",
       "...                                                 ...        ...  \n",
       "3117                                               Fake 2023-11-18  \n",
       "3118  malaka einai gia ton poutso to stisimo tou vinteo 2023-11-23  \n",
       "3119                                           KALITERA 2023-11-19  \n",
       "3120  o monos youtuber pou dn exei bgalei pote fake ... 2023-11-18  \n",
       "3121                                          epitelous 2023-11-18  \n",
       "\n",
       "[3122 rows x 7 columns]"
      ]
     },
     "execution_count": 36,
     "metadata": {},
     "output_type": "execute_result"
    }
   ],
   "source": [
    "crawl_df = crawl_df.dropna()\n",
    "crawl_df = crawl_df[~crawl_df.text.apply(lambda x: len(x.strip())==0)]\n",
    "crawl_df"
   ]
  },
  {
   "cell_type": "code",
   "execution_count": 37,
   "id": "a10c703c-74d6-4d27-a22f-58a7d3d0a04b",
   "metadata": {},
   "outputs": [],
   "source": [
    "ChromeDriverManager.quit()"
   ]
  },
  {
   "cell_type": "code",
   "execution_count": 38,
   "id": "48d923d1-685f-448e-b145-118ab639a11e",
   "metadata": {},
   "outputs": [
    {
     "name": "stdout",
     "output_type": "stream",
     "text": [
      "File saved successfully as output\\temp.csv\n"
     ]
    }
   ],
   "source": [
    "csv_output(crawl_df, \"temp.csv\")"
   ]
  },
  {
   "cell_type": "markdown",
   "id": "cf0324f7-ccbc-4157-983b-441cbb1c83c6",
   "metadata": {},
   "source": [
    "## Language Identification"
   ]
  },
  {
   "cell_type": "markdown",
   "id": "b89fb06d-4f15-4c68-9ab6-5e068153049f",
   "metadata": {},
   "source": [
    "https://stats.stackexchange.com/questions/357466/are-unbalanced-datasets-problematic-and-how-does-oversampling-purport-to-he\n",
    "https://gking.harvard.edu/files/abs/0s-abs.shtml\n",
    "https://www.kaggle.com/code/residentmario/undersampling-and-oversampling-imbalanced-data\n"
   ]
  },
  {
   "cell_type": "code",
   "execution_count": 39,
   "id": "852afc7e-a026-4457-9cfe-a451da710b32",
   "metadata": {
    "tags": []
   },
   "outputs": [
    {
     "data": {
      "image/png": "[encoded data removed]",
      "text/plain": [
       "<Figure size 640x480 with 3 Axes>"
      ]
     },
     "metadata": {},
     "output_type": "display_data"
    }
   ],
   "source": [
    "from src.ml import train_test_val_split\n",
    "import matplotlib.pyplot as plt\n",
    "\n",
    "\n",
    "data_train, data_val, data_test = train_test_val_split(gold_df, train_ratio=0.7, val_ratio=0.1, test_ratio=0.2,\n",
    "                                                        random_state=42, stratify_col=\"labels\")\n",
    "# code block from Ioannis Pavlopoulos\n",
    "axes = pd.DataFrame({\"train\": data_train.labels.value_counts(),\n",
    "              \"validation\": data_val.labels.value_counts(),\n",
    "              \"test\": data_test.labels.value_counts()}\n",
    "            ).plot.pie(subplots=True, \n",
    "                       textprops={'fontsize': 8},\n",
    "                       autopct=f'%1.1f%%', # print percent% results \n",
    "                       legend=False)\n",
    "\n",
    "axes[0].set_xlabel(data_train.shape[0])\n",
    "axes[1].set_xlabel(data_val.shape[0])\n",
    "axes[2].set_xlabel(data_test.shape[0])\n",
    "\n",
    "axes[1].text(0, -2, 'Number of records', ha='center')\n",
    "\n",
    "plt.tight_layout(pad=2.0)\n",
    "plt.show()"
   ]
  },
  {
   "cell_type": "code",
   "execution_count": 40,
   "id": "0a182208-c3db-4892-8617-2209629396fd",
   "metadata": {
    "tags": []
   },
   "outputs": [],
   "source": [
    "from sklearn.feature_extraction.text import TfidfVectorizer\n",
    "\n",
    "\n",
    "vectorizer = TfidfVectorizer().fit(data_train.text)\n",
    "x_train = vectorizer.transform(data_train.text)\n",
    "y_train = data_train.labels\n",
    "x_val = vectorizer.transform(data_val.text)\n",
    "y_val = data_val.labels\n",
    "x_test = vectorizer.transform(data_test.text)\n",
    "y_test = data_test.labels"
   ]
  },
  {
   "cell_type": "code",
   "execution_count": 41,
   "id": "586c604d-1467-498c-9b04-57b00bf5db71",
   "metadata": {
    "tags": []
   },
   "outputs": [],
   "source": [
    "from sklearn.model_selection import cross_val_score\n",
    "\n",
    "\n",
    "def cross_val_res(model, x, y, scoring=None, cv=10):\n",
    "    if scoring is None:\n",
    "        scoring = \"f1_macro\"\n",
    "    res = cross_val_score(model, x, y, cv=cv, scoring=scoring)\n",
    "    return res"
   ]
  },
  {
   "cell_type": "markdown",
   "id": "10e77140-ffb9-41d2-9984-5764179617b3",
   "metadata": {},
   "source": [
    "### Dummy Classifier"
   ]
  },
  {
   "cell_type": "code",
   "execution_count": 42,
   "id": "a52c1a13-bf6a-4de9-a281-c43996874a5b",
   "metadata": {
    "tags": []
   },
   "outputs": [],
   "source": [
    "from sklearn.metrics import f1_score\n",
    "from sklearn.metrics import classification_report\n",
    "from sklearn.metrics import ConfusionMatrixDisplay\n",
    "import matplotlib.pyplot as plt\n",
    "import warnings\n",
    "\n",
    "\n",
    "def get_statistics(y_test, y_pred):\n",
    "    with warnings.catch_warnings():\n",
    "        warnings.simplefilter(\"ignore\")\n",
    "\n",
    "        print(f\"Macro F1: {f1_score(y_test, y_pred, average='macro', zero_division=0)}\")\n",
    "        print(classification_report(y_test, y_pred, zero_division=0))\n",
    "        ConfusionMatrixDisplay.from_predictions(y_test, \n",
    "                                                y_pred, \n",
    "                                                colorbar=True)\n",
    "        plt.show()"
   ]
  },
  {
   "cell_type": "code",
   "execution_count": 43,
   "id": "fc35cfee-456b-4ebb-a6bb-f91d7b8aa0c2",
   "metadata": {
    "tags": []
   },
   "outputs": [
    {
     "name": "stdout",
     "output_type": "stream",
     "text": [
      "Macro F1: 0.18628064032016006\n",
      "              precision    recall  f1-score   support\n",
      "\n",
      "          el       0.00      0.00      0.00      1060\n",
      "          en       0.00      0.00      0.00       909\n",
      "   greeklish       0.00      0.00      0.00        69\n",
      "       other       0.59      1.00      0.75      2979\n",
      "\n",
      "    accuracy                           0.59      5017\n",
      "   macro avg       0.15      0.25      0.19      5017\n",
      "weighted avg       0.35      0.59      0.44      5017\n",
      "\n"
     ]
    },
    {
     "data": {
      "image/png": "[encoded data removed]",
      "text/plain": [
       "<Figure size 640x480 with 2 Axes>"
      ]
     },
     "metadata": {},
     "output_type": "display_data"
    }
   ],
   "source": [
    "from sklearn.dummy import DummyClassifier, DummyRegressor\n",
    "\n",
    "\n",
    "majority = DummyClassifier(strategy=\"most_frequent\")\n",
    "majority.fit(x_train, y_train)\n",
    "majority_res = majority.predict(x_test)\n",
    "\n",
    "get_statistics(y_test, majority_res)"
   ]
  },
  {
   "cell_type": "markdown",
   "id": "eb0b9c1a-4593-4890-9090-46b31dcc7866",
   "metadata": {},
   "source": [
    "### Regex Classification"
   ]
  },
  {
   "cell_type": "code",
   "execution_count": 44,
   "id": "0eb47656-a440-41c2-ae24-175969c76e06",
   "metadata": {
    "tags": []
   },
   "outputs": [
    {
     "name": "stdout",
     "output_type": "stream",
     "text": [
      "Regex Classifier mean macro F1: 0.4648, std: 0.4549\n"
     ]
    }
   ],
   "source": [
    "with warnings.catch_warnings():\n",
    "    warnings.simplefilter(\"ignore\")\n",
    "\n",
    "    regex_model = RegexClassifier()\n",
    "    res = cross_val_res(regex_model, data_train.text, y_train, scoring=\"f1_macro\")\n",
    "    print(f\"Regex Classifier mean macro F1: {res[0]:.4f}, std: {res[1]:.4f}\")"
   ]
  },
  {
   "cell_type": "code",
   "execution_count": 45,
   "id": "cdfa7f60-198c-4860-90a0-8f52e5b6151c",
   "metadata": {
    "tags": []
   },
   "outputs": [
    {
     "name": "stdout",
     "output_type": "stream",
     "text": [
      "Macro F1: 0.45793704690788506\n",
      "              precision    recall  f1-score   support\n",
      "\n",
      "          el       1.00      0.71      0.83      1060\n",
      "          en       0.31      1.00      0.48       909\n",
      "   greeklish       0.00      0.00      0.00        69\n",
      "       other       1.00      0.36      0.52      2979\n",
      "\n",
      "    accuracy                           0.54      5017\n",
      "   macro avg       0.58      0.52      0.46      5017\n",
      "weighted avg       0.86      0.54      0.57      5017\n",
      "\n"
     ]
    },
    {
     "data": {
      "image/png": "[encoded data removed]",
      "text/plain": [
       "<Figure size 640x480 with 2 Axes>"
      ]
     },
     "metadata": {},
     "output_type": "display_data"
    }
   ],
   "source": [
    "regex_model = RegexClassifier(include_greeklish=True).fit(data_train.text, y_train)\n",
    "regex_res = regex_model.predict(data_test.text)\n",
    "get_statistics(y_test, regex_res)"
   ]
  },
  {
   "cell_type": "markdown",
   "id": "d85fd2ac-c5de-4721-baf7-c52a5c286364",
   "metadata": {},
   "source": [
    "### Naive Bayes"
   ]
  },
  {
   "cell_type": "markdown",
   "id": "a855d45e-e89c-4a8a-acf4-caa6c72b6438",
   "metadata": {},
   "source": [
    "https://towardsdatascience.com/naive-bayes-classifiers-for-text-classification-be0d133d35ba"
   ]
  },
  {
   "cell_type": "code",
   "execution_count": 46,
   "id": "833bff3c-0a75-4f58-bafb-3cd28cdb4e1c",
   "metadata": {},
   "outputs": [
    {
     "name": "stdout",
     "output_type": "stream",
     "text": [
      "Naive Bayes mean macro F1-score 0.8063, std: 0.7712\n"
     ]
    }
   ],
   "source": [
    "from sklearn.naive_bayes import MultinomialNB\n",
    "\n",
    "\n",
    "naive_x_train = x_train.toarray()\n",
    "naive_x_test = x_test.toarray()\n",
    "\n",
    "naive_model = MultinomialNB()\n",
    "res = cross_val_res(naive_model, naive_x_train, y_train, cv=5)\n",
    "print(f\"Naive Bayes mean macro F1-score {res[0]:.4f}, std: {res[1]:.4f}\")"
   ]
  },
  {
   "cell_type": "code",
   "execution_count": 47,
   "id": "f1f56e9a-1573-4229-8746-5eb7aed053b3",
   "metadata": {},
   "outputs": [
    {
     "name": "stdout",
     "output_type": "stream",
     "text": [
      "Macro F1: 0.8543809446259338\n",
      "              precision    recall  f1-score   support\n",
      "\n",
      "          el       0.99      0.99      0.99      1060\n",
      "          en       0.98      1.00      0.99       909\n",
      "   greeklish       1.00      0.29      0.45        69\n",
      "       other       0.98      1.00      0.99      2979\n",
      "\n",
      "    accuracy                           0.98      5017\n",
      "   macro avg       0.99      0.82      0.85      5017\n",
      "weighted avg       0.99      0.98      0.98      5017\n",
      "\n"
     ]
    },
    {
     "data": {
      "image/png": "[encoded data removed]",
      "text/plain": [
       "<Figure size 640x480 with 2 Axes>"
      ]
     },
     "metadata": {},
     "output_type": "display_data"
    }
   ],
   "source": [
    "from sklearn.naive_bayes import MultinomialNB\n",
    "\n",
    "\n",
    "naive_model = MultinomialNB().fit(naive_x_train, y_train)\n",
    "naive_res = naive_model.predict(naive_x_test)\n",
    "\n",
    "get_statistics(y_test, naive_res)"
   ]
  },
  {
   "cell_type": "markdown",
   "id": "059ecd9d-3525-4f86-a102-5117125ddf5f",
   "metadata": {},
   "source": [
    "### Logistic Regression"
   ]
  },
  {
   "cell_type": "code",
   "execution_count": 48,
   "id": "51d879dd-7534-4cb6-b887-17bc89d3cb4c",
   "metadata": {
    "tags": []
   },
   "outputs": [
    {
     "name": "stdout",
     "output_type": "stream",
     "text": [
      "Logistic Regression mean macro F1-score 0.8711, std: 0.8785\n"
     ]
    }
   ],
   "source": [
    "from sklearn.linear_model import LogisticRegression\n",
    "\n",
    "\n",
    "with warnings.catch_warnings():\n",
    "    # ignore warnings about deprecated methods in libraries\n",
    "    warnings.simplefilter(\"ignore\")\n",
    "\n",
    "    lr = LogisticRegression(max_iter=1000)\n",
    "    res = cross_val_res(lr, x_train, y_train)\n",
    "    print(f\"Logistic Regression mean macro F1-score {res[0]:.4f}, std: {res[1]:.4f}\")"
   ]
  },
  {
   "cell_type": "code",
   "execution_count": 49,
   "id": "0fc257a8-a52f-4f5b-832d-2e6e8d57f112",
   "metadata": {
    "tags": []
   },
   "outputs": [
    {
     "name": "stdout",
     "output_type": "stream",
     "text": [
      "Macro F1: 0.8984018229094715\n",
      "              precision    recall  f1-score   support\n",
      "\n",
      "          el       1.00      0.92      0.96      1060\n",
      "          en       1.00      0.96      0.98       909\n",
      "   greeklish       0.97      0.52      0.68        69\n",
      "       other       0.95      1.00      0.98      2979\n",
      "\n",
      "    accuracy                           0.97      5017\n",
      "   macro avg       0.98      0.85      0.90      5017\n",
      "weighted avg       0.97      0.97      0.97      5017\n",
      "\n"
     ]
    },
    {
     "data": {
      "image/png": "[encoded data removed]",
      "text/plain": [
       "<Figure size 640x480 with 2 Axes>"
      ]
     },
     "metadata": {},
     "output_type": "display_data"
    }
   ],
   "source": [
    "with warnings.catch_warnings():\n",
    "    warnings.simplefilter(\"ignore\")\n",
    "    lr = LogisticRegression(max_iter=1000).fit(x_train, y_train)\n",
    "    lr_res = lr.predict(x_test)\n",
    "\n",
    "get_statistics(y_test, lr_res)"
   ]
  },
  {
   "cell_type": "markdown",
   "id": "b0ce1d27-89b9-4ca1-9063-79e677fe64ec",
   "metadata": {},
   "source": [
    "### Random Forest"
   ]
  },
  {
   "cell_type": "raw",
   "id": "27193fef-dbcd-44e3-8a77-3dfdd78f638c",
   "metadata": {},
   "source": [
    "from sklearn.ensemble import RandomForestClassifier\n",
    "\n",
    "\n",
    "forest_model = RandomForestClassifier(n_estimators=50, \n",
    "                                      n_jobs=-1, \n",
    "                                      criterion=\"entropy\")\n",
    "res = cross_val_res(forest_model, x_train, y_train, cv=3)\n",
    "print(f\"Random Forest mean macro F1: {res[0]:.4f}, std: {res[1]:.4f}\")"
   ]
  },
  {
   "cell_type": "code",
   "execution_count": 50,
   "id": "11adac17-016c-4c15-8f84-71818e662763",
   "metadata": {},
   "outputs": [
    {
     "name": "stderr",
     "output_type": "stream",
     "text": [
      "[Parallel(n_jobs=-1)]: Using backend ThreadingBackend with 8 concurrent workers.\n",
      "[Parallel(n_jobs=-1)]: Done  34 tasks      | elapsed:    6.7s\n",
      "[Parallel(n_jobs=-1)]: Done 100 out of 100 | elapsed:   17.9s finished\n",
      "[Parallel(n_jobs=8)]: Using backend ThreadingBackend with 8 concurrent workers.\n",
      "[Parallel(n_jobs=8)]: Done  34 tasks      | elapsed:    0.0s\n",
      "[Parallel(n_jobs=8)]: Done 100 out of 100 | elapsed:    0.1s finished\n"
     ]
    },
    {
     "name": "stdout",
     "output_type": "stream",
     "text": [
      "Macro F1: 0.9351006491558607\n",
      "              precision    recall  f1-score   support\n",
      "\n",
      "          el       1.00      0.97      0.98      1060\n",
      "          en       0.98      1.00      0.99       909\n",
      "   greeklish       0.94      0.67      0.78        69\n",
      "       other       0.98      0.99      0.99      2979\n",
      "\n",
      "    accuracy                           0.99      5017\n",
      "   macro avg       0.98      0.91      0.94      5017\n",
      "weighted avg       0.98      0.99      0.98      5017\n",
      "\n"
     ]
    },
    {
     "data": {
      "image/png": "[encoded data removed]",
      "text/plain": [
       "<Figure size 640x480 with 2 Axes>"
      ]
     },
     "metadata": {},
     "output_type": "display_data"
    }
   ],
   "source": [
    "from sklearn.ensemble import RandomForestClassifier\n",
    "\n",
    "\n",
    "forest_model = RandomForestClassifier(n_estimators=100, \n",
    "                                      n_jobs=-1, \n",
    "                                      criterion=\"entropy\", \n",
    "                                      verbose=1).fit(x_train, y_train)\n",
    "forest_pred = forest_model.predict(x_test)\n",
    "get_statistics(y_test, forest_pred)"
   ]
  },
  {
   "cell_type": "markdown",
   "id": "bfc319b9-5825-43be-88d5-707ed906d325",
   "metadata": {},
   "source": [
    "### Adaboost"
   ]
  },
  {
   "cell_type": "raw",
   "id": "545ef9b2-7429-4701-aea3-97f295ec1672",
   "metadata": {},
   "source": [
    "from sklearn.ensemble import AdaBoostClassifier\n",
    "\n",
    "\n",
    "ada_model = AdaBoostClassifier(n_estimators=50)\n",
    "res = cross_val_res(ada_model, x_train, y_train, cv=3)\n",
    "print(f\"AdaBoost mean macro F1: {res[0]:.4f}, std: {res[1]:.4f}\")"
   ]
  },
  {
   "cell_type": "code",
   "execution_count": 51,
   "id": "285ec6f1-717a-48a8-8a8b-3d9e93caa531",
   "metadata": {},
   "outputs": [
    {
     "name": "stdout",
     "output_type": "stream",
     "text": [
      "Macro F1: 0.8478906298021992\n",
      "              precision    recall  f1-score   support\n",
      "\n",
      "          el       0.99      0.88      0.93      1060\n",
      "          en       1.00      0.97      0.98       909\n",
      "   greeklish       0.71      0.39      0.50        69\n",
      "       other       0.94      1.00      0.97      2979\n",
      "\n",
      "    accuracy                           0.96      5017\n",
      "   macro avg       0.91      0.81      0.85      5017\n",
      "weighted avg       0.96      0.96      0.96      5017\n",
      "\n"
     ]
    },
    {
     "data": {
      "image/png": "[encoded data removed]",
      "text/plain": [
       "<Figure size 640x480 with 2 Axes>"
      ]
     },
     "metadata": {},
     "output_type": "display_data"
    }
   ],
   "source": [
    "from sklearn.ensemble import AdaBoostClassifier\n",
    "\n",
    "\n",
    "ada_model = AdaBoostClassifier(n_estimators=100).fit(x_train, y_train)\n",
    "ada_pred = ada_model.predict(x_test)\n",
    "get_statistics(y_test, ada_pred)"
   ]
  },
  {
   "cell_type": "code",
   "execution_count": 52,
   "id": "e185b12c-828e-4d51-a4dd-e47183ddb0eb",
   "metadata": {},
   "outputs": [
    {
     "data": {
      "text/html": [
       "<div>\n",
       "<style scoped>\n",
       "    .dataframe tbody tr th:only-of-type {\n",
       "        vertical-align: middle;\n",
       "    }\n",
       "\n",
       "    .dataframe tbody tr th {\n",
       "        vertical-align: top;\n",
       "    }\n",
       "\n",
       "    .dataframe thead th {\n",
       "        text-align: right;\n",
       "    }\n",
       "</style>\n",
       "<table border=\"1\" class=\"dataframe\">\n",
       "  <thead>\n",
       "    <tr style=\"text-align: right;\">\n",
       "      <th></th>\n",
       "      <th>predicted</th>\n",
       "      <th>actual</th>\n",
       "      <th>text</th>\n",
       "    </tr>\n",
       "  </thead>\n",
       "  <tbody>\n",
       "    <tr>\n",
       "      <th>3595</th>\n",
       "      <td>other</td>\n",
       "      <td>el</td>\n",
       "      <td>Πουαρό ! Έκλαψα .</td>\n",
       "    </tr>\n",
       "    <tr>\n",
       "      <th>2878909</th>\n",
       "      <td>greeklish</td>\n",
       "      <td>el</td>\n",
       "      <td>Alliance ή Horde ?</td>\n",
       "    </tr>\n",
       "    <tr>\n",
       "      <th>304</th>\n",
       "      <td>other</td>\n",
       "      <td>el</td>\n",
       "      <td>Είσαι τέλειος συνεχαι έτσι</td>\n",
       "    </tr>\n",
       "    <tr>\n",
       "      <th>447</th>\n",
       "      <td>other</td>\n",
       "      <td>el</td>\n",
       "      <td>Την μια φορά που έπαιξα λολ ήταν στα ελληνικά....</td>\n",
       "    </tr>\n",
       "    <tr>\n",
       "      <th>646</th>\n",
       "      <td>other</td>\n",
       "      <td>el</td>\n",
       "      <td>Γιάννη βλέπω πώς τελευταία όλα πάνε μέτρια</td>\n",
       "    </tr>\n",
       "    <tr>\n",
       "      <th>...</th>\n",
       "      <td>...</td>\n",
       "      <td>...</td>\n",
       "      <td>...</td>\n",
       "    </tr>\n",
       "    <tr>\n",
       "      <th>214</th>\n",
       "      <td>other</td>\n",
       "      <td>greeklish</td>\n",
       "      <td>re file den eine oreo na ta kaneis copy giati ...</td>\n",
       "    </tr>\n",
       "    <tr>\n",
       "      <th>3017340</th>\n",
       "      <td>other</td>\n",
       "      <td>greeklish</td>\n",
       "      <td>Thirothan\\n#5518\\nkane add :)</td>\n",
       "    </tr>\n",
       "    <tr>\n",
       "      <th>520</th>\n",
       "      <td>other</td>\n",
       "      <td>en</td>\n",
       "      <td>No big deal. Just looks different.</td>\n",
       "    </tr>\n",
       "    <tr>\n",
       "      <th>3200</th>\n",
       "      <td>other</td>\n",
       "      <td>el</td>\n",
       "      <td>Απίθανο .</td>\n",
       "    </tr>\n",
       "    <tr>\n",
       "      <th>677</th>\n",
       "      <td>other</td>\n",
       "      <td>el</td>\n",
       "      <td>παιξε bonelab</td>\n",
       "    </tr>\n",
       "  </tbody>\n",
       "</table>\n",
       "<p>203 rows × 3 columns</p>\n",
       "</div>"
      ],
      "text/plain": [
       "         predicted     actual  \\\n",
       "3595         other         el   \n",
       "2878909  greeklish         el   \n",
       "304          other         el   \n",
       "447          other         el   \n",
       "646          other         el   \n",
       "...            ...        ...   \n",
       "214          other  greeklish   \n",
       "3017340      other  greeklish   \n",
       "520          other         en   \n",
       "3200         other         el   \n",
       "677          other         el   \n",
       "\n",
       "                                                      text  \n",
       "3595                                     Πουαρό ! Έκλαψα .  \n",
       "2878909                                 Alliance ή Horde ?  \n",
       "304                             Είσαι τέλειος συνεχαι έτσι  \n",
       "447      Την μια φορά που έπαιξα λολ ήταν στα ελληνικά....  \n",
       "646             Γιάννη βλέπω πώς τελευταία όλα πάνε μέτρια  \n",
       "...                                                    ...  \n",
       "214      re file den eine oreo na ta kaneis copy giati ...  \n",
       "3017340                      Thirothan\\n#5518\\nkane add :)  \n",
       "520                     No big deal. Just looks different.  \n",
       "3200                                             Απίθανο .  \n",
       "677                                          παιξε bonelab  \n",
       "\n",
       "[203 rows x 3 columns]"
      ]
     },
     "execution_count": 52,
     "metadata": {},
     "output_type": "execute_result"
    }
   ],
   "source": [
    "missed = y_test != ada_pred\n",
    "pd.DataFrame({\"predicted\": ada_pred[missed], \"actual\": data_test[missed].labels, \"text\": data_test[missed].text})"
   ]
  },
  {
   "cell_type": "code",
   "execution_count": 53,
   "id": "36893bd6-9b9f-4aa1-b2d3-07ecdbb70f3a",
   "metadata": {},
   "outputs": [
    {
     "data": {
      "text/html": [
       "<div>\n",
       "<style scoped>\n",
       "    .dataframe tbody tr th:only-of-type {\n",
       "        vertical-align: middle;\n",
       "    }\n",
       "\n",
       "    .dataframe tbody tr th {\n",
       "        vertical-align: top;\n",
       "    }\n",
       "\n",
       "    .dataframe thead th {\n",
       "        text-align: right;\n",
       "    }\n",
       "</style>\n",
       "<table border=\"1\" class=\"dataframe\">\n",
       "  <thead>\n",
       "    <tr style=\"text-align: right;\">\n",
       "      <th></th>\n",
       "      <th>predicted</th>\n",
       "      <th>actual</th>\n",
       "      <th>text</th>\n",
       "    </tr>\n",
       "  </thead>\n",
       "  <tbody>\n",
       "    <tr>\n",
       "      <th>3595</th>\n",
       "      <td>other</td>\n",
       "      <td>el</td>\n",
       "      <td>Πουαρό ! Έκλαψα .</td>\n",
       "    </tr>\n",
       "    <tr>\n",
       "      <th>2878909</th>\n",
       "      <td>greeklish</td>\n",
       "      <td>el</td>\n",
       "      <td>Alliance ή Horde ?</td>\n",
       "    </tr>\n",
       "    <tr>\n",
       "      <th>9402</th>\n",
       "      <td>en</td>\n",
       "      <td>other</td>\n",
       "      <td>Uh yeah very yeah hakuna mengi hapo unajua</td>\n",
       "    </tr>\n",
       "    <tr>\n",
       "      <th>19291</th>\n",
       "      <td>greeklish</td>\n",
       "      <td>other</td>\n",
       "      <td>hu aise plays banate hain jo kai baraherast ta...</td>\n",
       "    </tr>\n",
       "    <tr>\n",
       "      <th>6921</th>\n",
       "      <td>other</td>\n",
       "      <td>el</td>\n",
       "      <td>Λώρενς !</td>\n",
       "    </tr>\n",
       "    <tr>\n",
       "      <th>...</th>\n",
       "      <td>...</td>\n",
       "      <td>...</td>\n",
       "      <td>...</td>\n",
       "    </tr>\n",
       "    <tr>\n",
       "      <th>12770</th>\n",
       "      <td>en</td>\n",
       "      <td>other</td>\n",
       "      <td>my mwenyewe .</td>\n",
       "    </tr>\n",
       "    <tr>\n",
       "      <th>684</th>\n",
       "      <td>other</td>\n",
       "      <td>greeklish</td>\n",
       "      <td>na xanapexis</td>\n",
       "    </tr>\n",
       "    <tr>\n",
       "      <th>527</th>\n",
       "      <td>other</td>\n",
       "      <td>greeklish</td>\n",
       "      <td>travis scot burger is lit</td>\n",
       "    </tr>\n",
       "    <tr>\n",
       "      <th>13160</th>\n",
       "      <td>en</td>\n",
       "      <td>other</td>\n",
       "      <td>Ambos os artigos estão a ser publicados hoje n...</td>\n",
       "    </tr>\n",
       "    <tr>\n",
       "      <th>3200</th>\n",
       "      <td>other</td>\n",
       "      <td>el</td>\n",
       "      <td>Απίθανο .</td>\n",
       "    </tr>\n",
       "  </tbody>\n",
       "</table>\n",
       "<p>75 rows × 3 columns</p>\n",
       "</div>"
      ],
      "text/plain": [
       "         predicted     actual  \\\n",
       "3595         other         el   \n",
       "2878909  greeklish         el   \n",
       "9402            en      other   \n",
       "19291    greeklish      other   \n",
       "6921         other         el   \n",
       "...            ...        ...   \n",
       "12770           en      other   \n",
       "684          other  greeklish   \n",
       "527          other  greeklish   \n",
       "13160           en      other   \n",
       "3200         other         el   \n",
       "\n",
       "                                                      text  \n",
       "3595                                     Πουαρό ! Έκλαψα .  \n",
       "2878909                                 Alliance ή Horde ?  \n",
       "9402            Uh yeah very yeah hakuna mengi hapo unajua  \n",
       "19291    hu aise plays banate hain jo kai baraherast ta...  \n",
       "6921                                              Λώρενς !  \n",
       "...                                                    ...  \n",
       "12770                                        my mwenyewe .  \n",
       "684                                           na xanapexis  \n",
       "527                              travis scot burger is lit  \n",
       "13160    Ambos os artigos estão a ser publicados hoje n...  \n",
       "3200                                             Απίθανο .  \n",
       "\n",
       "[75 rows x 3 columns]"
      ]
     },
     "execution_count": 53,
     "metadata": {},
     "output_type": "execute_result"
    }
   ],
   "source": [
    "missed = y_test != forest_pred\n",
    "pd.DataFrame({\"predicted\": forest_pred[missed], \"actual\": data_test[missed].labels, \"text\": data_test[missed].text})"
   ]
  },
  {
   "cell_type": "markdown",
   "id": "389cc971-8bb2-4ecb-ab23-99239ac71308",
   "metadata": {},
   "source": [
    "### Hyperparameter tuning"
   ]
  },
  {
   "cell_type": "code",
   "execution_count": 54,
   "id": "ce091a09-186f-4906-90fc-d1a5e0ead56a",
   "metadata": {},
   "outputs": [
    {
     "name": "stderr",
     "output_type": "stream",
     "text": [
      "100%|███████████████████████████████████████████████████████████████████████████████████| 5/5 [08:24<00:00, 100.81s/it]\n"
     ]
    }
   ],
   "source": [
    "estimators = []\n",
    "scores = []\n",
    "\n",
    "for n_estimators in tqdm([int(x) for x in np.linspace(start = 100, stop = 1000, num = 5)]):\n",
    "    estim = RandomForestClassifier(n_estimators=n_estimators, \n",
    "                                  n_jobs=-1, \n",
    "                                  criterion=\"entropy\").fit(x_train, y_train)\n",
    "    score = f1_score(y_val, estim.predict(x_val), average='macro', zero_division=0)\n",
    "\n",
    "    estimators.append(estim)\n",
    "    scores.append(score)"
   ]
  },
  {
   "cell_type": "code",
   "execution_count": 55,
   "id": "3ae6d6a4-2a6b-4bc8-8374-f20fc49ebd69",
   "metadata": {},
   "outputs": [
    {
     "name": "stdout",
     "output_type": "stream",
     "text": [
      "Best model RandomForestClassifier(criterion='entropy', n_estimators=550, n_jobs=-1) with macro F1 score of 0.9457409456175994\n"
     ]
    }
   ],
   "source": [
    "best_model = estimators[np.argmax(scores)]\n",
    "print(f\"Best model {best_model} with macro F1 score of {max(scores)}\")"
   ]
  },
  {
   "cell_type": "markdown",
   "id": "de1fcfcc-e684-4e53-9253-0069aa838e77",
   "metadata": {},
   "source": [
    "### Annotating the operational dataset"
   ]
  },
  {
   "cell_type": "code",
   "execution_count": 56,
   "id": "36f59042-4429-4486-9a70-ea6af98c8c76",
   "metadata": {},
   "outputs": [],
   "source": [
    "x_oper = vectorizer.transform(crawl_df.text)\n",
    "crawl_df[\"language\"] = best_model.predict(x_oper)"
   ]
  },
  {
   "cell_type": "code",
   "execution_count": 57,
   "id": "bb7f6e4c-9678-4ea3-9c4f-a0121eac910e",
   "metadata": {
    "tags": []
   },
   "outputs": [
    {
     "name": "stdout",
     "output_type": "stream",
     "text": [
      "File saved successfully as output\\crawl.csv\n"
     ]
    }
   ],
   "source": [
    "csv_output(crawl_df, \"crawl.csv\")"
   ]
  },
  {
   "cell_type": "markdown",
   "id": "b1353ecc-5d5f-4447-a92b-543a227c3d52",
   "metadata": {},
   "source": [
    "### Exploring the operational dataset"
   ]
  },
  {
   "cell_type": "code",
   "execution_count": 58,
   "id": "9d812f06-088a-46aa-831a-c6f6a39ce53a",
   "metadata": {},
   "outputs": [],
   "source": [
    "crawl_df[\"language\"] = best_model.predict(x_oper)"
   ]
  },
  {
   "cell_type": "code",
   "execution_count": 59,
   "id": "b80cf5e2-fefe-4fa8-93f1-692b1bd45ced",
   "metadata": {},
   "outputs": [],
   "source": [
    "RESOURCE_OUTPUT = \"results\"\n",
    "\n",
    "def save_plot(filename):\n",
    "    path = os.path.join(RESOURCE_OUTPUT, filename)\n",
    "    plt.savefig(path, bbox_inches=\"tight\")\n",
    "    print(f\"Figured saved to \" + path)"
   ]
  },
  {
   "cell_type": "code",
   "execution_count": 60,
   "id": "7e0777af-dc21-4f23-a6e7-c1078af74c78",
   "metadata": {},
   "outputs": [
    {
     "name": "stdout",
     "output_type": "stream",
     "text": [
      "Figured saved to results\\lang_dis.png\n"
     ]
    },
    {
     "data": {
      "image/png": "[encoded data removed]",
      "text/plain": [
       "<Figure size 500x500 with 1 Axes>"
      ]
     },
     "metadata": {},
     "output_type": "display_data"
    }
   ],
   "source": [
    "import seaborn as sns\n",
    "\n",
    "\n",
    "sns.displot(crawl_df.language)\n",
    "save_plot(\"lang_dis.png\")\n",
    "plt.title(\"Post languages\")\n",
    "plt.show()"
   ]
  },
  {
   "cell_type": "code",
   "execution_count": 61,
   "id": "d7036f2c-bfdb-4d71-b049-8fbbf8ef375b",
   "metadata": {},
   "outputs": [],
   "source": [
    "languages = np.unique(crawl_df.language)\n",
    "\n",
    "lang_col = []\n",
    "len_col = []\n",
    "\n",
    "for language in languages:\n",
    "    if language != \"other\":\n",
    "        comments_text = crawl_df.loc[crawl_df.language == language, \"text\"]\n",
    "        comments_length = comments_text.apply(lambda x: len(x))\n",
    "        \n",
    "        lang_col += [language] * len(comments_length)\n",
    "        len_col += list(comments_length)\n",
    "\n",
    "len_df = pd.DataFrame({\"language\": lang_col, \"comment_length\": len_col})"
   ]
  },
  {
   "cell_type": "code",
   "execution_count": 62,
   "id": "6ab7fb17-6863-4730-84c3-2852eada4bad",
   "metadata": {},
   "outputs": [],
   "source": [
    "palette ={\"el\": \"blue\", \"en\": \"red\", \"greeklish\": \"green\"}"
   ]
  },
  {
   "cell_type": "code",
   "execution_count": 63,
   "id": "df6b95b4-0e0f-44ac-bd39-add2a9067390",
   "metadata": {},
   "outputs": [
    {
     "data": {
      "image/png": "[encoded data removed]",
      "text/plain": [
       "<Figure size 613.125x500 with 1 Axes>"
      ]
     },
     "metadata": {},
     "output_type": "display_data"
    }
   ],
   "source": [
    "sns.displot(len_df, x=\"comment_length\", hue=\"language\", multiple=\"stack\", palette=palette)\n",
    "plt.title(\"Stacked plot of comment length (characters) by language\")\n",
    "plt.xlabel(\"Length of comment (characters)\")\n",
    "plt.show()"
   ]
  },
  {
   "cell_type": "code",
   "execution_count": 64,
   "id": "f541276f-6d2d-4400-a8bd-518bae837223",
   "metadata": {},
   "outputs": [
    {
     "name": "stdout",
     "output_type": "stream",
     "text": [
      "Figured saved to results\\length_dis.png\n"
     ]
    },
    {
     "data": {
      "image/png": "[encoded data removed]",
      "text/plain": [
       "<Figure size 640x480 with 2 Axes>"
      ]
     },
     "metadata": {},
     "output_type": "display_data"
    }
   ],
   "source": [
    "fig, (ax1, ax2) = plt.subplots(1,2)\n",
    "sns.histplot(len_df[len_df.comment_length<=250],\n",
    "             x=\"comment_length\", \n",
    "             hue=\"language\", \n",
    "             multiple=\"stack\", \n",
    "             palette=palette,\n",
    "             ax=ax1)\n",
    "ax1.set_xlabel(\"Length of comment (characters < 250)\")\n",
    "ax1.set_ylabel(\"Number of comments\")\n",
    "\n",
    "sns.histplot(len_df[len_df.comment_length>250], \n",
    "             x=\"comment_length\", \n",
    "             hue=\"language\", \n",
    "             multiple=\"stack\",\n",
    "             palette=palette,\n",
    "             ax=ax2)\n",
    "ax2.set_xlabel(\"Length of comment (characters)\")\n",
    "ax2.set_ylabel(\"Number of comments\")\n",
    "\n",
    "fig.suptitle(\"Stacked plot of long and short comments length by language\")\n",
    "save_plot(\"length_dis.png\")\n",
    "plt.show()"
   ]
  },
  {
   "cell_type": "code",
   "execution_count": 65,
   "id": "49f6e9b3-df9d-47fd-8ac7-d25d17488383",
   "metadata": {},
   "outputs": [
    {
     "data": {
      "text/plain": [
       "language            en\n",
       "comment_length    1570\n",
       "Name: 274, dtype: object"
      ]
     },
     "execution_count": 65,
     "metadata": {},
     "output_type": "execute_result"
    }
   ],
   "source": [
    "len_df.iloc[np.argmax(len_df.comment_length)]"
   ]
  },
  {
   "cell_type": "code",
   "execution_count": 66,
   "id": "8d0046d1-6546-4678-9a37-7fd5f9539658",
   "metadata": {},
   "outputs": [],
   "source": [
    "emoji_pattern = re.compile(\n",
    "    r'[\\U0001F600-\\U0001F64F\\U0001F300-\\U0001F5FF\\U0001F680-\\U0001F6FF'\n",
    "    r'\\U0001F700-\\U0001F77F\\U0001F780-\\U0001F7FF\\U0001F800-\\U0001F8FF'\n",
    "    r'\\U0001F900-\\U0001F9FF\\U0001FA00-\\U0001FA6F\\u2600-\\u26FF\\u2700-\\u27BF'\n",
    "    r'\\u2B50\\u2B06\\u2934\\u2935\\u2B05\\u2194-\\u2199\\u21A9\\u21AA\\u2139\\u2328'\n",
    "    r'\\u23CF\\u23E9-\\u23F3\\u231A\\u23F8-\\u23FA\\u231B\\u23F0\\u231A\\u1F004'\n",
    "    r'\\u1F0CF\\u1F18E\\u3030\\u303D]', flags=re.UNICODE\n",
    ")\n",
    "\n",
    "emojis_col = []\n",
    "\n",
    "for language in languages:\n",
    "    if language != \"other\":\n",
    "        comments_text = crawl_df.loc[crawl_df.language == language, \"text\"]\n",
    "        comments_length = comments_text.apply(lambda x: len(emoji_pattern.findall(x)))\n",
    "    \n",
    "        emojis_col += list(comments_length)\n",
    "\n",
    "emoji_df = pd.DataFrame({\"language\": lang_col, \"emojis\": emojis_col})"
   ]
  },
  {
   "cell_type": "code",
   "execution_count": 67,
   "id": "cda75427-7fc2-4580-8044-1de1c5bdf218",
   "metadata": {},
   "outputs": [
    {
     "data": {
      "image/png": "[encoded data removed]",
      "text/plain": [
       "<Figure size 613.125x500 with 1 Axes>"
      ]
     },
     "metadata": {},
     "output_type": "display_data"
    }
   ],
   "source": [
    "sns.displot(emoji_df[emoji_df.emojis > 0],\n",
    "            x=\"emojis\", \n",
    "            hue=\"language\",\n",
    "            multiple=\"stack\",\n",
    "            palette=palette)\n",
    "plt.title(\"Stacked plot of emojis used in comments by language\")\n",
    "plt.xlabel(\"Number of emojis\")\n",
    "plt.show()"
   ]
  },
  {
   "cell_type": "code",
   "execution_count": 68,
   "id": "aa5b1104-b84b-4cf5-8ec2-06a7532618c3",
   "metadata": {},
   "outputs": [
    {
     "name": "stdout",
     "output_type": "stream",
     "text": [
      "Figured saved to results\\emojis_dis.png\n"
     ]
    },
    {
     "data": {
      "image/png": "[encoded data removed]",
      "text/plain": [
       "<Figure size 640x480 with 2 Axes>"
      ]
     },
     "metadata": {},
     "output_type": "display_data"
    }
   ],
   "source": [
    "fig, (ax1, ax2) = plt.subplots(1, 2)\n",
    "sns.histplot(emoji_df[(emoji_df.emojis > 0) & (emoji_df.emojis < 10)],\n",
    "             x=\"emojis\",\n",
    "             hue=\"language\",\n",
    "             multiple=\"stack\",\n",
    "             palette=palette,\n",
    "             ax=ax1)\n",
    "ax1.set_xlabel(\"Number of emojis (<10)\")\n",
    "ax1.set_ylabel(\"Number of comments\")\n",
    "\n",
    "sns.histplot(emoji_df[emoji_df.emojis > 10],\n",
    "             x=\"emojis\", \n",
    "             hue=\"language\", \n",
    "             multiple=\"stack\",\n",
    "             palette=palette,\n",
    "             ax=ax2)\n",
    "ax2.set_xlabel(\"Number of emojis (>10)\")\n",
    "ax2.set_ylabel(\"Number of emojis\")\n",
    "\n",
    "fig.suptitle(\"Stacked plot of emojis used in comments by language\")\n",
    "save_plot(\"emojis_dis.png\")\n",
    "plt.show()"
   ]
  },
  {
   "cell_type": "code",
   "execution_count": 69,
   "id": "09c4fd84-0c84-4152-949b-6f1f2bfda69c",
   "metadata": {},
   "outputs": [
    {
     "data": {
      "text/html": [
       "<div>\n",
       "<style scoped>\n",
       "    .dataframe tbody tr th:only-of-type {\n",
       "        vertical-align: middle;\n",
       "    }\n",
       "\n",
       "    .dataframe tbody tr th {\n",
       "        vertical-align: top;\n",
       "    }\n",
       "\n",
       "    .dataframe thead th {\n",
       "        text-align: right;\n",
       "    }\n",
       "</style>\n",
       "<table border=\"1\" class=\"dataframe\">\n",
       "  <thead>\n",
       "    <tr style=\"text-align: right;\">\n",
       "      <th></th>\n",
       "      <th></th>\n",
       "      <th>Unnamed: 0.1</th>\n",
       "      <th>Unnamed: 0</th>\n",
       "      <th>title</th>\n",
       "      <th>link</th>\n",
       "      <th>source</th>\n",
       "      <th>text</th>\n",
       "    </tr>\n",
       "    <tr>\n",
       "      <th>date</th>\n",
       "      <th>language</th>\n",
       "      <th></th>\n",
       "      <th></th>\n",
       "      <th></th>\n",
       "      <th></th>\n",
       "      <th></th>\n",
       "      <th></th>\n",
       "    </tr>\n",
       "  </thead>\n",
       "  <tbody>\n",
       "    <tr>\n",
       "      <th rowspan=\"2\" valign=\"top\">2015-11-27</th>\n",
       "      <th>greeklish</th>\n",
       "      <td>3</td>\n",
       "      <td>3</td>\n",
       "      <td>3</td>\n",
       "      <td>3</td>\n",
       "      <td>3</td>\n",
       "      <td>3</td>\n",
       "    </tr>\n",
       "    <tr>\n",
       "      <th>other</th>\n",
       "      <td>4</td>\n",
       "      <td>4</td>\n",
       "      <td>4</td>\n",
       "      <td>4</td>\n",
       "      <td>4</td>\n",
       "      <td>4</td>\n",
       "    </tr>\n",
       "    <tr>\n",
       "      <th rowspan=\"2\" valign=\"top\">2016-11-27</th>\n",
       "      <th>en</th>\n",
       "      <td>2</td>\n",
       "      <td>2</td>\n",
       "      <td>2</td>\n",
       "      <td>2</td>\n",
       "      <td>2</td>\n",
       "      <td>2</td>\n",
       "    </tr>\n",
       "    <tr>\n",
       "      <th>other</th>\n",
       "      <td>1</td>\n",
       "      <td>1</td>\n",
       "      <td>1</td>\n",
       "      <td>1</td>\n",
       "      <td>1</td>\n",
       "      <td>1</td>\n",
       "    </tr>\n",
       "    <tr>\n",
       "      <th>2017-11-27</th>\n",
       "      <th>en</th>\n",
       "      <td>2</td>\n",
       "      <td>2</td>\n",
       "      <td>2</td>\n",
       "      <td>2</td>\n",
       "      <td>2</td>\n",
       "      <td>2</td>\n",
       "    </tr>\n",
       "    <tr>\n",
       "      <th>...</th>\n",
       "      <th>...</th>\n",
       "      <td>...</td>\n",
       "      <td>...</td>\n",
       "      <td>...</td>\n",
       "      <td>...</td>\n",
       "      <td>...</td>\n",
       "      <td>...</td>\n",
       "    </tr>\n",
       "    <tr>\n",
       "      <th rowspan=\"2\" valign=\"top\">2023-11-25</th>\n",
       "      <th>greeklish</th>\n",
       "      <td>2</td>\n",
       "      <td>2</td>\n",
       "      <td>2</td>\n",
       "      <td>2</td>\n",
       "      <td>2</td>\n",
       "      <td>2</td>\n",
       "    </tr>\n",
       "    <tr>\n",
       "      <th>other</th>\n",
       "      <td>5</td>\n",
       "      <td>5</td>\n",
       "      <td>5</td>\n",
       "      <td>5</td>\n",
       "      <td>5</td>\n",
       "      <td>5</td>\n",
       "    </tr>\n",
       "    <tr>\n",
       "      <th rowspan=\"2\" valign=\"top\">2023-11-26</th>\n",
       "      <th>en</th>\n",
       "      <td>2</td>\n",
       "      <td>2</td>\n",
       "      <td>2</td>\n",
       "      <td>2</td>\n",
       "      <td>2</td>\n",
       "      <td>2</td>\n",
       "    </tr>\n",
       "    <tr>\n",
       "      <th>other</th>\n",
       "      <td>8</td>\n",
       "      <td>8</td>\n",
       "      <td>8</td>\n",
       "      <td>8</td>\n",
       "      <td>8</td>\n",
       "      <td>8</td>\n",
       "    </tr>\n",
       "    <tr>\n",
       "      <th>2023-11-27</th>\n",
       "      <th>other</th>\n",
       "      <td>1</td>\n",
       "      <td>1</td>\n",
       "      <td>1</td>\n",
       "      <td>1</td>\n",
       "      <td>1</td>\n",
       "      <td>1</td>\n",
       "    </tr>\n",
       "  </tbody>\n",
       "</table>\n",
       "<p>103 rows × 6 columns</p>\n",
       "</div>"
      ],
      "text/plain": [
       "                      Unnamed: 0.1  Unnamed: 0  title  link  source  text\n",
       "date       language                                                      \n",
       "2015-11-27 greeklish             3           3      3     3       3     3\n",
       "           other                 4           4      4     4       4     4\n",
       "2016-11-27 en                    2           2      2     2       2     2\n",
       "           other                 1           1      1     1       1     1\n",
       "2017-11-27 en                    2           2      2     2       2     2\n",
       "...                            ...         ...    ...   ...     ...   ...\n",
       "2023-11-25 greeklish             2           2      2     2       2     2\n",
       "           other                 5           5      5     5       5     5\n",
       "2023-11-26 en                    2           2      2     2       2     2\n",
       "           other                 8           8      8     8       8     8\n",
       "2023-11-27 other                 1           1      1     1       1     1\n",
       "\n",
       "[103 rows x 6 columns]"
      ]
     },
     "execution_count": 69,
     "metadata": {},
     "output_type": "execute_result"
    }
   ],
   "source": [
    "date_df = crawl_df.groupby([\"date\", \"language\"]).count()\n",
    "date_df"
   ]
  },
  {
   "cell_type": "code",
   "execution_count": 70,
   "id": "9ddf42fe-128e-419c-a764-90a0dd7d9985",
   "metadata": {},
   "outputs": [
    {
     "data": {
      "text/plain": [
       "0     2015-11-27\n",
       "1     2015-11-27\n",
       "2     2016-11-27\n",
       "3     2016-11-27\n",
       "4     2017-11-27\n",
       "         ...    \n",
       "98    2023-11-25\n",
       "99    2023-11-25\n",
       "100   2023-11-26\n",
       "101   2023-11-26\n",
       "102   2023-11-27\n",
       "Name: date, Length: 103, dtype: datetime64[ns]"
      ]
     },
     "execution_count": 70,
     "metadata": {},
     "output_type": "execute_result"
    }
   ],
   "source": [
    "date_df2 = date_df.reset_index()\n",
    "date_df2.date = pd.to_datetime(date_df2.date)\n",
    "date_df2.date"
   ]
  },
  {
   "cell_type": "code",
   "execution_count": 71,
   "id": "f1fb70c8-acd3-47af-aa91-23dcc4b5f874",
   "metadata": {},
   "outputs": [
    {
     "name": "stdout",
     "output_type": "stream",
     "text": [
      "Figured saved to results\\time_plot.png\n"
     ]
    },
    {
     "data": {
      "image/png": "[encoded data removed]",
      "text/plain": [
       "<Figure size 640x480 with 1 Axes>"
      ]
     },
     "metadata": {},
     "output_type": "display_data"
    }
   ],
   "source": [
    "import matplotlib.dates as mdates\n",
    "\n",
    "\n",
    "sns.lineplot(x=\"date\", \n",
    "             y=\"text\",\n",
    "             hue=\"language\", \n",
    "             palette=palette,\n",
    "             data=date_df2[date_df2.language != \"other\"])\n",
    "\n",
    "plt.title(\"Dates of submitted comments by language\")\n",
    "plt.xlabel(\"Date of comment\")\n",
    "plt.ylabel(\"Number of comments\")\n",
    "\n",
    "plt.gcf().autofmt_xdate()\n",
    "plt.gca().fmt_xdata = mdates.DateFormatter('%Y-%m')\n",
    "\n",
    "save_plot(\"time_plot.png\")\n",
    "plt.show()"
   ]
  },
  {
   "cell_type": "markdown",
   "id": "9ee4484b-30a7-4055-a7a9-41343ac44ebb",
   "metadata": {},
   "source": [
    "## Toxicity Classification"
   ]
  },
  {
   "cell_type": "markdown",
   "id": "0f3cb51e-ecf0-452d-8dbb-e0c56f014bc8",
   "metadata": {},
   "source": [
    "### Importing the data"
   ]
  },
  {
   "cell_type": "code",
   "execution_count": 72,
   "id": "f9ea4800-2809-480f-b8e7-35e68e153601",
   "metadata": {},
   "outputs": [
    {
     "data": {
      "text/plain": [
       "(365,\n",
       " '\"Εαν σας άρεσε κάντε Like ρεεε μη ντρέπεστε! +1 όσοι είδαν το μπλουζάκι PDT p.s το AR το βάλαμε έτσι για συντομογραφία, εννοείται πως άλλο AR και άλλο τρίσφαιρο!\" - 1')"
      ]
     },
     "execution_count": 72,
     "metadata": {},
     "output_type": "execute_result"
    }
   ],
   "source": [
    "with open(os.path.join(\"data\", \"chatgpt_annot.txt\"), \"r\", encoding=\"utf8\") as file:\n",
    "    raw_annot = file.read()\n",
    "\n",
    "records = raw_annot.split(\"\\n\")\n",
    "len(records), records[0]"
   ]
  },
  {
   "cell_type": "code",
   "execution_count": 73,
   "id": "b955aaa6-9b30-46f6-a279-ae4a029d2329",
   "metadata": {},
   "outputs": [
    {
     "data": {
      "text/plain": [
       "('\"Εαν σας άρεσε κάντε Like ρεεε μη ντρέπεστε! +1 όσοι είδαν το μπλουζάκι PDT p.s το AR το βάλαμε έτσι για συντομογραφία, εννοείται πως άλλο AR και άλλο τρίσφαιρο!\" ',\n",
       " 1)"
      ]
     },
     "execution_count": 73,
     "metadata": {},
     "output_type": "execute_result"
    }
   ],
   "source": [
    "annotations = [record.split(\"-\") for record in records]\n",
    "\n",
    "comments = []\n",
    "values = []\n",
    "for annotation in filter(lambda x: len(x) != 1, annotations):\n",
    "    comment = annotation[0]\n",
    "    value = int(annotation[1])\n",
    "    comments.append(comment)\n",
    "    values.append(value)\n",
    "\n",
    "comments[0], values[0]"
   ]
  },
  {
   "cell_type": "code",
   "execution_count": 74,
   "id": "7f12bd53-b2ae-4791-8123-811ff3d22791",
   "metadata": {},
   "outputs": [
    {
     "data": {
      "text/html": [
       "<div>\n",
       "<style scoped>\n",
       "    .dataframe tbody tr th:only-of-type {\n",
       "        vertical-align: middle;\n",
       "    }\n",
       "\n",
       "    .dataframe tbody tr th {\n",
       "        vertical-align: top;\n",
       "    }\n",
       "\n",
       "    .dataframe thead th {\n",
       "        text-align: right;\n",
       "    }\n",
       "</style>\n",
       "<table border=\"1\" class=\"dataframe\">\n",
       "  <thead>\n",
       "    <tr style=\"text-align: right;\">\n",
       "      <th></th>\n",
       "      <th>comments</th>\n",
       "      <th>toxicity</th>\n",
       "    </tr>\n",
       "  </thead>\n",
       "  <tbody>\n",
       "    <tr>\n",
       "      <th>0</th>\n",
       "      <td>\"Εαν σας άρεσε κάντε Like ρεεε μη ντρέπεστε! +...</td>\n",
       "      <td>1</td>\n",
       "    </tr>\n",
       "    <tr>\n",
       "      <th>1</th>\n",
       "      <td>\"Φήμες λένε ότι ο Gianuba βάζει καρδούλες ️\"</td>\n",
       "      <td>1</td>\n",
       "    </tr>\n",
       "    <tr>\n",
       "      <th>2</th>\n",
       "      <td>\"Congrats on your channel , que venha o 1 milh...</td>\n",
       "      <td>1</td>\n",
       "    </tr>\n",
       "    <tr>\n",
       "      <th>3</th>\n",
       "      <td>\"ΤΟΣΑ ΤΕΛΕΙΑ ΒΙΝΤΕΟ ΘΑ ΚΑΝΕΙ Ο GIANOUBA22\"</td>\n",
       "      <td>1</td>\n",
       "    </tr>\n",
       "    <tr>\n",
       "      <th>4</th>\n",
       "      <td>\"Η φάση που ο gianuba 22 φοράει μπλούζα pdt nu...</td>\n",
       "      <td>1</td>\n",
       "    </tr>\n",
       "    <tr>\n",
       "      <th>...</th>\n",
       "      <td>...</td>\n",
       "      <td>...</td>\n",
       "    </tr>\n",
       "    <tr>\n",
       "      <th>178</th>\n",
       "      <td>Ψάχνουμε άτομα για raid Παρασκευή 9:00, Σάββατ...</td>\n",
       "      <td>3</td>\n",
       "    </tr>\n",
       "    <tr>\n",
       "      <th>179</th>\n",
       "      <td>Μήπως παίζατε καθόλου στον παλιό Neltharion πρ...</td>\n",
       "      <td>4</td>\n",
       "    </tr>\n",
       "    <tr>\n",
       "      <th>180</th>\n",
       "      <td>Σε Horde ή Alliance θα είναι το guild;</td>\n",
       "      <td>1</td>\n",
       "    </tr>\n",
       "    <tr>\n",
       "      <th>181</th>\n",
       "      <td>Υπάρχει κανένα active ελληνικό guild από πλευρ...</td>\n",
       "      <td>1</td>\n",
       "    </tr>\n",
       "    <tr>\n",
       "      <th>182</th>\n",
       "      <td>Θα παίξει κανείς στον καινούργιο realm; Αν ψηθ...</td>\n",
       "      <td>1</td>\n",
       "    </tr>\n",
       "  </tbody>\n",
       "</table>\n",
       "<p>183 rows × 2 columns</p>\n",
       "</div>"
      ],
      "text/plain": [
       "                                              comments  toxicity\n",
       "0    \"Εαν σας άρεσε κάντε Like ρεεε μη ντρέπεστε! +...         1\n",
       "1        \"Φήμες λένε ότι ο Gianuba βάζει καρδούλες ️\"          1\n",
       "2    \"Congrats on your channel , que venha o 1 milh...         1\n",
       "3          \"ΤΟΣΑ ΤΕΛΕΙΑ ΒΙΝΤΕΟ ΘΑ ΚΑΝΕΙ Ο GIANOUBA22\"          1\n",
       "4    \"Η φάση που ο gianuba 22 φοράει μπλούζα pdt nu...         1\n",
       "..                                                 ...       ...\n",
       "178  Ψάχνουμε άτομα για raid Παρασκευή 9:00, Σάββατ...         3\n",
       "179  Μήπως παίζατε καθόλου στον παλιό Neltharion πρ...         4\n",
       "180            Σε Horde ή Alliance θα είναι το guild;          1\n",
       "181  Υπάρχει κανένα active ελληνικό guild από πλευρ...         1\n",
       "182  Θα παίξει κανείς στον καινούργιο realm; Αν ψηθ...         1\n",
       "\n",
       "[183 rows x 2 columns]"
      ]
     },
     "execution_count": 74,
     "metadata": {},
     "output_type": "execute_result"
    }
   ],
   "source": [
    "toxicity_df = pd.DataFrame({\"comments\": comments, \"toxicity\": values})\n",
    "toxicity_df"
   ]
  },
  {
   "cell_type": "code",
   "execution_count": 75,
   "id": "a247e1ca-d8c4-4ef0-9db7-b846ba46f293",
   "metadata": {},
   "outputs": [
    {
     "data": {
      "text/plain": [
       "array([1, 2, 3, 4, 5], dtype=int64)"
      ]
     },
     "execution_count": 75,
     "metadata": {},
     "output_type": "execute_result"
    }
   ],
   "source": [
    "np.unique(toxicity_df.toxicity)"
   ]
  },
  {
   "cell_type": "code",
   "execution_count": 76,
   "id": "3d461df4-506b-4ce7-975b-8e7db19712bc",
   "metadata": {},
   "outputs": [
    {
     "data": {
      "text/plain": [
       "<seaborn.axisgrid.FacetGrid at 0x1d301d588d0>"
      ]
     },
     "execution_count": 76,
     "metadata": {},
     "output_type": "execute_result"
    },
    {
     "data": {
      "image/png": "[encoded data removed]",
      "text/plain": [
       "<Figure size 500x500 with 1 Axes>"
      ]
     },
     "metadata": {},
     "output_type": "display_data"
    }
   ],
   "source": [
    "sns.displot(toxicity_df.toxicity)"
   ]
  },
  {
   "cell_type": "markdown",
   "id": "8a974f3d-6c84-4c3e-8b5f-ca62d226f899",
   "metadata": {},
   "source": [
    "### Data Transformation"
   ]
  },
  {
   "cell_type": "code",
   "execution_count": 77,
   "id": "b34b4fdd-6b62-468b-9a86-60bf9e7783ee",
   "metadata": {},
   "outputs": [],
   "source": [
    "from sklearn.feature_extraction.text import TfidfVectorizer\n",
    "from sklearn.model_selection import train_test_split\n",
    "\n",
    "\n",
    "data_train, data_test = train_test_split(toxicity_df, random_state=42)\n",
    "vectorizer = TfidfVectorizer().fit(data_train.comments)\n",
    "x_train = vectorizer.transform(data_train.comments)\n",
    "y_train = data_train.toxicity\n",
    "x_test = vectorizer.transform(data_test.comments)\n",
    "y_test = data_test.toxicity"
   ]
  },
  {
   "cell_type": "markdown",
   "id": "15b8f762-77f9-4362-9d87-7808c44c0e22",
   "metadata": {},
   "source": [
    "### Model Selection"
   ]
  },
  {
   "cell_type": "markdown",
   "id": "1c117497-cb30-4df8-afd2-61ef3da02068",
   "metadata": {},
   "source": [
    "### Naive Bayes"
   ]
  },
  {
   "cell_type": "markdown",
   "id": "a50dabcc-809d-436a-b81e-390afe348e94",
   "metadata": {},
   "source": [
    "https://towardsdatascience.com/naive-bayes-classifiers-for-text-classification-be0d133d35ba"
   ]
  },
  {
   "cell_type": "code",
   "execution_count": 78,
   "id": "19d1cc4f-8530-4795-b4e9-c027868e8660",
   "metadata": {},
   "outputs": [
    {
     "name": "stdout",
     "output_type": "stream",
     "text": [
      "Naive Bayes mean macro F1-score 0.2797, std: 0.1395\n"
     ]
    },
    {
     "name": "stderr",
     "output_type": "stream",
     "text": [
      "C:\\Users\\user\\anaconda3\\envs\\manis\\Lib\\site-packages\\sklearn\\model_selection\\_split.py:725: UserWarning: The least populated class in y has only 3 members, which is less than n_splits=5.\n",
      "  warnings.warn(\n"
     ]
    }
   ],
   "source": [
    "naive_x_train = x_train.toarray()\n",
    "naive_x_test = x_test.toarray()\n",
    "\n",
    "naive_model = MultinomialNB()\n",
    "res = cross_val_res(naive_model, naive_x_train, y_train, cv=5)\n",
    "print(f\"Naive Bayes mean macro F1-score {res[0]:.4f}, std: {res[1]:.4f}\")"
   ]
  },
  {
   "cell_type": "code",
   "execution_count": 79,
   "id": "3d774a28-0ff7-4c4a-bf88-800bc5c5462b",
   "metadata": {},
   "outputs": [
    {
     "name": "stdout",
     "output_type": "stream",
     "text": [
      "Macro F1: 0.21913043478260869\n",
      "              precision    recall  f1-score   support\n",
      "\n",
      "           1       0.55      0.96      0.70        25\n",
      "           2       0.00      0.00      0.00        13\n",
      "           3       0.00      0.00      0.00         4\n",
      "           4       0.50      0.33      0.40         3\n",
      "           5       0.00      0.00      0.00         1\n",
      "\n",
      "    accuracy                           0.54        46\n",
      "   macro avg       0.21      0.26      0.22        46\n",
      "weighted avg       0.33      0.54      0.40        46\n",
      "\n"
     ]
    },
    {
     "data": {
      "image/png": "[encoded data removed]",
      "text/plain": [
       "<Figure size 640x480 with 2 Axes>"
      ]
     },
     "metadata": {},
     "output_type": "display_data"
    }
   ],
   "source": [
    "naive_model = MultinomialNB().fit(naive_x_train, y_train)\n",
    "naive_res = naive_model.predict(naive_x_test)\n",
    "\n",
    "get_statistics(y_test, naive_res)"
   ]
  },
  {
   "cell_type": "markdown",
   "id": "0bfc5307-89fa-4663-a406-201c54a507ef",
   "metadata": {},
   "source": [
    "### Logistic Regression"
   ]
  },
  {
   "cell_type": "code",
   "execution_count": 80,
   "id": "126ce160-f513-4fa9-8cc3-219224ce4e39",
   "metadata": {
    "tags": []
   },
   "outputs": [
    {
     "name": "stdout",
     "output_type": "stream",
     "text": [
      "Logistic Regression mean macro F1-score 0.1818, std: 0.4605\n"
     ]
    }
   ],
   "source": [
    "with warnings.catch_warnings():\n",
    "    # ignore warnings about deprecated methods in libraries\n",
    "    warnings.simplefilter(\"ignore\")\n",
    "\n",
    "    lr = LogisticRegression(max_iter=1000)\n",
    "    res = cross_val_res(lr, x_train, y_train)\n",
    "    print(f\"Logistic Regression mean macro F1-score {res[0]:.4f}, std: {res[1]:.4f}\")"
   ]
  },
  {
   "cell_type": "code",
   "execution_count": 81,
   "id": "9aec7e92-9cd6-4c92-944e-3e59cd9ef7e2",
   "metadata": {
    "tags": []
   },
   "outputs": [
    {
     "name": "stdout",
     "output_type": "stream",
     "text": [
      "Macro F1: 0.21913043478260869\n",
      "              precision    recall  f1-score   support\n",
      "\n",
      "           1       0.55      0.96      0.70        25\n",
      "           2       0.00      0.00      0.00        13\n",
      "           3       0.00      0.00      0.00         4\n",
      "           4       0.50      0.33      0.40         3\n",
      "           5       0.00      0.00      0.00         1\n",
      "\n",
      "    accuracy                           0.54        46\n",
      "   macro avg       0.21      0.26      0.22        46\n",
      "weighted avg       0.33      0.54      0.40        46\n",
      "\n"
     ]
    },
    {
     "data": {
      "image/png": "[encoded data removed]",
      "text/plain": [
       "<Figure size 640x480 with 2 Axes>"
      ]
     },
     "metadata": {},
     "output_type": "display_data"
    }
   ],
   "source": [
    "with warnings.catch_warnings():\n",
    "    warnings.simplefilter(\"ignore\")\n",
    "    lr = LogisticRegression(max_iter=1000).fit(x_train, y_train)\n",
    "    lr_res = lr.predict(x_test)\n",
    "\n",
    "get_statistics(y_test, lr_res)"
   ]
  },
  {
   "cell_type": "markdown",
   "id": "0d6be997-d438-4452-b2dc-17365aecf9f0",
   "metadata": {},
   "source": [
    "### Random Forest"
   ]
  },
  {
   "cell_type": "code",
   "execution_count": 82,
   "id": "6407054c-546e-4f02-b442-49d9bed8fda3",
   "metadata": {},
   "outputs": [
    {
     "name": "stderr",
     "output_type": "stream",
     "text": [
      "C:\\Users\\user\\anaconda3\\envs\\manis\\Lib\\site-packages\\sklearn\\model_selection\\_split.py:725: UserWarning: The least populated class in y has only 3 members, which is less than n_splits=10.\n",
      "  warnings.warn(\n"
     ]
    },
    {
     "name": "stdout",
     "output_type": "stream",
     "text": [
      "Random Forest mean macro F1: 0.3092, std: 0.4472\n"
     ]
    }
   ],
   "source": [
    "forest_model = RandomForestClassifier(n_estimators=50, \n",
    "                                      n_jobs=-1, \n",
    "                                      criterion=\"entropy\")\n",
    "res = cross_val_res(forest_model, x_train, y_train)\n",
    "print(f\"Random Forest mean macro F1: {res[0]:.4f}, std: {res[1]:.4f}\")"
   ]
  },
  {
   "cell_type": "code",
   "execution_count": 83,
   "id": "bae3ffa1-5ac5-488c-b66d-47954275ad07",
   "metadata": {},
   "outputs": [
    {
     "name": "stderr",
     "output_type": "stream",
     "text": [
      "[Parallel(n_jobs=1)]: Using backend SequentialBackend with 1 concurrent workers.\n",
      "[Parallel(n_jobs=1)]: Done 100 out of 100 | elapsed:    0.7s finished\n",
      "[Parallel(n_jobs=1)]: Using backend SequentialBackend with 1 concurrent workers.\n",
      "[Parallel(n_jobs=1)]: Done 100 out of 100 | elapsed:    0.0s finished\n"
     ]
    },
    {
     "name": "stdout",
     "output_type": "stream",
     "text": [
      "Macro F1: 0.22117647058823525\n",
      "              precision    recall  f1-score   support\n",
      "\n",
      "           1       0.56      0.96      0.71        25\n",
      "           2       0.00      0.00      0.00        13\n",
      "           3       0.00      0.00      0.00         4\n",
      "           4       0.50      0.33      0.40         3\n",
      "           5       0.00      0.00      0.00         1\n",
      "\n",
      "    accuracy                           0.54        46\n",
      "   macro avg       0.21      0.26      0.22        46\n",
      "weighted avg       0.34      0.54      0.41        46\n",
      "\n"
     ]
    },
    {
     "data": {
      "image/png": "[encoded data removed]",
      "text/plain": [
       "<Figure size 640x480 with 2 Axes>"
      ]
     },
     "metadata": {},
     "output_type": "display_data"
    }
   ],
   "source": [
    "forest_model = RandomForestClassifier(n_estimators=100,\n",
    "                                      criterion=\"entropy\", \n",
    "                                      verbose=1).fit(x_train, y_train)\n",
    "forest_pred = forest_model.predict(x_test)\n",
    "get_statistics(y_test, forest_pred)"
   ]
  },
  {
   "cell_type": "markdown",
   "id": "1402517e-99e0-4d5e-9d93-19fbb1bb166b",
   "metadata": {},
   "source": [
    "### Adaboost"
   ]
  },
  {
   "cell_type": "code",
   "execution_count": 84,
   "id": "57a85ff7-b7ca-43ac-97f1-1d662e0d8e00",
   "metadata": {},
   "outputs": [
    {
     "name": "stdout",
     "output_type": "stream",
     "text": [
      "AdaBoost mean macro F1: 0.2347, std: 0.2274\n"
     ]
    }
   ],
   "source": [
    "ada_model = AdaBoostClassifier(n_estimators=50)\n",
    "res = cross_val_res(ada_model, x_train, y_train, cv=3)\n",
    "print(f\"AdaBoost mean macro F1: {res[0]:.4f}, std: {res[1]:.4f}\")"
   ]
  },
  {
   "cell_type": "code",
   "execution_count": 85,
   "id": "dea91b85-d109-4d90-a4d9-996f6e2d7433",
   "metadata": {},
   "outputs": [
    {
     "name": "stdout",
     "output_type": "stream",
     "text": [
      "Macro F1: 0.24285714285714288\n",
      "              precision    recall  f1-score   support\n",
      "\n",
      "           1       0.56      1.00      0.71        25\n",
      "           2       0.00      0.00      0.00        13\n",
      "           3       0.00      0.00      0.00         4\n",
      "           4       1.00      0.33      0.50         3\n",
      "           5       0.00      0.00      0.00         1\n",
      "\n",
      "    accuracy                           0.57        46\n",
      "   macro avg       0.31      0.27      0.24        46\n",
      "weighted avg       0.37      0.57      0.42        46\n",
      "\n"
     ]
    },
    {
     "data": {
      "image/png": "[encoded data removed]",
      "text/plain": [
       "<Figure size 640x480 with 2 Axes>"
      ]
     },
     "metadata": {},
     "output_type": "display_data"
    }
   ],
   "source": [
    "ada_model = AdaBoostClassifier(n_estimators=100).fit(x_train, y_train)\n",
    "ada_pred = ada_model.predict(x_test)\n",
    "get_statistics(y_test, ada_pred)"
   ]
  },
  {
   "cell_type": "markdown",
   "id": "cb4ee783-5e74-4f34-b06b-3a4c04768ebb",
   "metadata": {},
   "source": [
    "### Classifiying the crawled data"
   ]
  },
  {
   "cell_type": "code",
   "execution_count": 86,
   "id": "1afc59de-c15d-43ae-b126-38440266fb31",
   "metadata": {
    "scrolled": true
   },
   "outputs": [
    {
     "data": {
      "text/html": [
       "<div>\n",
       "<style scoped>\n",
       "    .dataframe tbody tr th:only-of-type {\n",
       "        vertical-align: middle;\n",
       "    }\n",
       "\n",
       "    .dataframe tbody tr th {\n",
       "        vertical-align: top;\n",
       "    }\n",
       "\n",
       "    .dataframe thead th {\n",
       "        text-align: right;\n",
       "    }\n",
       "</style>\n",
       "<table border=\"1\" class=\"dataframe\">\n",
       "  <thead>\n",
       "    <tr style=\"text-align: right;\">\n",
       "      <th></th>\n",
       "      <th>Unnamed: 0.1</th>\n",
       "      <th>Unnamed: 0</th>\n",
       "      <th>title</th>\n",
       "      <th>link</th>\n",
       "      <th>source</th>\n",
       "      <th>text</th>\n",
       "      <th>date</th>\n",
       "      <th>language</th>\n",
       "      <th>toxicity</th>\n",
       "    </tr>\n",
       "  </thead>\n",
       "  <tbody>\n",
       "    <tr>\n",
       "      <th>0</th>\n",
       "      <td>0</td>\n",
       "      <td>0</td>\n",
       "      <td>Που 'ναι τα χρόνια ! - 40 αθάνατα, αγαπημένα, ...</td>\n",
       "      <td>https://www.youtube.com/watch?v=OdX0y96UPEA&amp;pp...</td>\n",
       "      <td>song</td>\n",
       "      <td>Great selection, one more time. THANKS!</td>\n",
       "      <td>2023-07-27</td>\n",
       "      <td>en</td>\n",
       "      <td>1</td>\n",
       "    </tr>\n",
       "    <tr>\n",
       "      <th>1</th>\n",
       "      <td>3</td>\n",
       "      <td>3</td>\n",
       "      <td>Που 'ναι τα χρόνια ! - 40 αθάνατα, αγαπημένα, ...</td>\n",
       "      <td>https://www.youtube.com/watch?v=OdX0y96UPEA&amp;pp...</td>\n",
       "      <td>song</td>\n",
       "      <td>️</td>\n",
       "      <td>2023-07-27</td>\n",
       "      <td>other</td>\n",
       "      <td>1</td>\n",
       "    </tr>\n",
       "    <tr>\n",
       "      <th>2</th>\n",
       "      <td>4</td>\n",
       "      <td>4</td>\n",
       "      <td>Μουσική ιστορία Νο.1 (μέρος πρώτο) - 100 χρυσά...</td>\n",
       "      <td>https://www.youtube.com/watch?v=p5g82ta4sTk&amp;pp...</td>\n",
       "      <td>song</td>\n",
       "      <td>Încă  o zi petrecută cu muzica voastră  fantas...</td>\n",
       "      <td>2022-11-27</td>\n",
       "      <td>other</td>\n",
       "      <td>1</td>\n",
       "    </tr>\n",
       "    <tr>\n",
       "      <th>3</th>\n",
       "      <td>5</td>\n",
       "      <td>5</td>\n",
       "      <td>Μουσική ιστορία Νο.1 (μέρος πρώτο) - 100 χρυσά...</td>\n",
       "      <td>https://www.youtube.com/watch?v=p5g82ta4sTk&amp;pp...</td>\n",
       "      <td>song</td>\n",
       "      <td>ANTIGUAS CANCIONES DE GRECIA PAIS NATAL DE MIS...</td>\n",
       "      <td>2022-11-27</td>\n",
       "      <td>other</td>\n",
       "      <td>1</td>\n",
       "    </tr>\n",
       "    <tr>\n",
       "      <th>4</th>\n",
       "      <td>6</td>\n",
       "      <td>6</td>\n",
       "      <td>Μουσική ιστορία Νο.1 (μέρος πρώτο) - 100 χρυσά...</td>\n",
       "      <td>https://www.youtube.com/watch?v=p5g82ta4sTk&amp;pp...</td>\n",
       "      <td>song</td>\n",
       "      <td>FelicităriSuperb \\nSă fiți mereu bine \\nMomen...</td>\n",
       "      <td>2022-11-27</td>\n",
       "      <td>other</td>\n",
       "      <td>1</td>\n",
       "    </tr>\n",
       "    <tr>\n",
       "      <th>...</th>\n",
       "      <td>...</td>\n",
       "      <td>...</td>\n",
       "      <td>...</td>\n",
       "      <td>...</td>\n",
       "      <td>...</td>\n",
       "      <td>...</td>\n",
       "      <td>...</td>\n",
       "      <td>...</td>\n",
       "      <td>...</td>\n",
       "    </tr>\n",
       "    <tr>\n",
       "      <th>3117</th>\n",
       "      <td>3450</td>\n",
       "      <td>3450</td>\n",
       "      <td>Θα Χωρίσω Εξαιτίας Του Fortnite…</td>\n",
       "      <td>https://www.youtube.com/watch?v=jla9IrQAIkk&amp;pp...</td>\n",
       "      <td>gaming</td>\n",
       "      <td>Fake</td>\n",
       "      <td>2023-11-18</td>\n",
       "      <td>other</td>\n",
       "      <td>1</td>\n",
       "    </tr>\n",
       "    <tr>\n",
       "      <th>3118</th>\n",
       "      <td>3451</td>\n",
       "      <td>3451</td>\n",
       "      <td>Θα Χωρίσω Εξαιτίας Του Fortnite…</td>\n",
       "      <td>https://www.youtube.com/watch?v=jla9IrQAIkk&amp;pp...</td>\n",
       "      <td>gaming</td>\n",
       "      <td>malaka einai gia ton poutso to stisimo tou vinteo</td>\n",
       "      <td>2023-11-23</td>\n",
       "      <td>greeklish</td>\n",
       "      <td>1</td>\n",
       "    </tr>\n",
       "    <tr>\n",
       "      <th>3119</th>\n",
       "      <td>3452</td>\n",
       "      <td>3452</td>\n",
       "      <td>Θα Χωρίσω Εξαιτίας Του Fortnite…</td>\n",
       "      <td>https://www.youtube.com/watch?v=jla9IrQAIkk&amp;pp...</td>\n",
       "      <td>gaming</td>\n",
       "      <td>KALITERA</td>\n",
       "      <td>2023-11-19</td>\n",
       "      <td>other</td>\n",
       "      <td>1</td>\n",
       "    </tr>\n",
       "    <tr>\n",
       "      <th>3120</th>\n",
       "      <td>3453</td>\n",
       "      <td>3453</td>\n",
       "      <td>Θα Χωρίσω Εξαιτίας Του Fortnite…</td>\n",
       "      <td>https://www.youtube.com/watch?v=jla9IrQAIkk&amp;pp...</td>\n",
       "      <td>gaming</td>\n",
       "      <td>o monos youtuber pou dn exei bgalei pote fake ...</td>\n",
       "      <td>2023-11-18</td>\n",
       "      <td>greeklish</td>\n",
       "      <td>1</td>\n",
       "    </tr>\n",
       "    <tr>\n",
       "      <th>3121</th>\n",
       "      <td>3454</td>\n",
       "      <td>3454</td>\n",
       "      <td>Θα Χωρίσω Εξαιτίας Του Fortnite…</td>\n",
       "      <td>https://www.youtube.com/watch?v=jla9IrQAIkk&amp;pp...</td>\n",
       "      <td>gaming</td>\n",
       "      <td>epitelous</td>\n",
       "      <td>2023-11-18</td>\n",
       "      <td>other</td>\n",
       "      <td>1</td>\n",
       "    </tr>\n",
       "  </tbody>\n",
       "</table>\n",
       "<p>3122 rows × 9 columns</p>\n",
       "</div>"
      ],
      "text/plain": [
       "      Unnamed: 0.1  Unnamed: 0  \\\n",
       "0                0           0   \n",
       "1                3           3   \n",
       "2                4           4   \n",
       "3                5           5   \n",
       "4                6           6   \n",
       "...            ...         ...   \n",
       "3117          3450        3450   \n",
       "3118          3451        3451   \n",
       "3119          3452        3452   \n",
       "3120          3453        3453   \n",
       "3121          3454        3454   \n",
       "\n",
       "                                                  title  \\\n",
       "0     Που 'ναι τα χρόνια ! - 40 αθάνατα, αγαπημένα, ...   \n",
       "1     Που 'ναι τα χρόνια ! - 40 αθάνατα, αγαπημένα, ...   \n",
       "2     Μουσική ιστορία Νο.1 (μέρος πρώτο) - 100 χρυσά...   \n",
       "3     Μουσική ιστορία Νο.1 (μέρος πρώτο) - 100 χρυσά...   \n",
       "4     Μουσική ιστορία Νο.1 (μέρος πρώτο) - 100 χρυσά...   \n",
       "...                                                 ...   \n",
       "3117                   Θα Χωρίσω Εξαιτίας Του Fortnite…   \n",
       "3118                   Θα Χωρίσω Εξαιτίας Του Fortnite…   \n",
       "3119                   Θα Χωρίσω Εξαιτίας Του Fortnite…   \n",
       "3120                   Θα Χωρίσω Εξαιτίας Του Fortnite…   \n",
       "3121                   Θα Χωρίσω Εξαιτίας Του Fortnite…   \n",
       "\n",
       "                                                   link  source  \\\n",
       "0     https://www.youtube.com/watch?v=OdX0y96UPEA&pp...    song   \n",
       "1     https://www.youtube.com/watch?v=OdX0y96UPEA&pp...    song   \n",
       "2     https://www.youtube.com/watch?v=p5g82ta4sTk&pp...    song   \n",
       "3     https://www.youtube.com/watch?v=p5g82ta4sTk&pp...    song   \n",
       "4     https://www.youtube.com/watch?v=p5g82ta4sTk&pp...    song   \n",
       "...                                                 ...     ...   \n",
       "3117  https://www.youtube.com/watch?v=jla9IrQAIkk&pp...  gaming   \n",
       "3118  https://www.youtube.com/watch?v=jla9IrQAIkk&pp...  gaming   \n",
       "3119  https://www.youtube.com/watch?v=jla9IrQAIkk&pp...  gaming   \n",
       "3120  https://www.youtube.com/watch?v=jla9IrQAIkk&pp...  gaming   \n",
       "3121  https://www.youtube.com/watch?v=jla9IrQAIkk&pp...  gaming   \n",
       "\n",
       "                                                   text       date   language  \\\n",
       "0               Great selection, one more time. THANKS! 2023-07-27         en   \n",
       "1                                                     ️ 2023-07-27      other   \n",
       "2     Încă  o zi petrecută cu muzica voastră  fantas... 2022-11-27      other   \n",
       "3     ANTIGUAS CANCIONES DE GRECIA PAIS NATAL DE MIS... 2022-11-27      other   \n",
       "4      FelicităriSuperb \\nSă fiți mereu bine \\nMomen... 2022-11-27      other   \n",
       "...                                                 ...        ...        ...   \n",
       "3117                                               Fake 2023-11-18      other   \n",
       "3118  malaka einai gia ton poutso to stisimo tou vinteo 2023-11-23  greeklish   \n",
       "3119                                           KALITERA 2023-11-19      other   \n",
       "3120  o monos youtuber pou dn exei bgalei pote fake ... 2023-11-18  greeklish   \n",
       "3121                                          epitelous 2023-11-18      other   \n",
       "\n",
       "      toxicity  \n",
       "0            1  \n",
       "1            1  \n",
       "2            1  \n",
       "3            1  \n",
       "4            1  \n",
       "...        ...  \n",
       "3117         1  \n",
       "3118         1  \n",
       "3119         1  \n",
       "3120         1  \n",
       "3121         1  \n",
       "\n",
       "[3122 rows x 9 columns]"
      ]
     },
     "execution_count": 86,
     "metadata": {},
     "output_type": "execute_result"
    }
   ],
   "source": [
    "crawl_df[\"toxicity\"] = ada_model.predict(vectorizer.transform(crawl_df.text))\n",
    "crawl_df"
   ]
  },
  {
   "cell_type": "markdown",
   "id": "9f9b95fd-85f8-4977-90a9-e4829f048219",
   "metadata": {},
   "source": [
    "### Analysing the Toxicity of crawled data"
   ]
  },
  {
   "cell_type": "code",
   "execution_count": 87,
   "id": "e62ee869-393a-45a7-9362-fa2ab5637907",
   "metadata": {},
   "outputs": [],
   "source": [
    "def export_to_latex(df, name, col_format, caption=None):\n",
    "    path = os.path.join(RESOURCE_OUTPUT, name)\n",
    "    df.to_latex(buf=path,\n",
    "                index=False,\n",
    "                formatters={\"name\": str.upper},\n",
    "                float_format=\"{:.3f}\".format,\n",
    "                label=\"tab::\" + name.split(\".\")[0],\n",
    "                caption=caption,\n",
    "                escape=True,\n",
    "               encoding=\"utf-8\",\n",
    "               column_format=col_format)\n",
    "    print(f\"Dataframe exported to {path}\")\n",
    "\n",
    "\n",
    "def remove_emojis(text):\n",
    "    return emoji_pattern.sub(r'', text)\n",
    "\n",
    "long_col_format = '|p{10cm}|p{1cm}|'"
   ]
  },
  {
   "cell_type": "markdown",
   "id": "f7bfdace-8ae4-4798-9a13-21e34c78766f",
   "metadata": {},
   "source": [
    "#### Finding the most toxic language"
   ]
  },
  {
   "cell_type": "code",
   "execution_count": 88,
   "id": "f23595dd-85cc-411d-ad92-6392fa846945",
   "metadata": {
    "scrolled": true
   },
   "outputs": [
    {
     "name": "stdout",
     "output_type": "stream",
     "text": [
      "Dataframe exported to results\\toxic_lang.tex\n"
     ]
    },
    {
     "data": {
      "text/html": [
       "<div>\n",
       "<style scoped>\n",
       "    .dataframe tbody tr th:only-of-type {\n",
       "        vertical-align: middle;\n",
       "    }\n",
       "\n",
       "    .dataframe tbody tr th {\n",
       "        vertical-align: top;\n",
       "    }\n",
       "\n",
       "    .dataframe thead th {\n",
       "        text-align: right;\n",
       "    }\n",
       "</style>\n",
       "<table border=\"1\" class=\"dataframe\">\n",
       "  <thead>\n",
       "    <tr style=\"text-align: right;\">\n",
       "      <th></th>\n",
       "      <th>language</th>\n",
       "      <th>toxicity</th>\n",
       "    </tr>\n",
       "  </thead>\n",
       "  <tbody>\n",
       "    <tr>\n",
       "      <th>0</th>\n",
       "      <td>el</td>\n",
       "      <td>1.000000</td>\n",
       "    </tr>\n",
       "    <tr>\n",
       "      <th>1</th>\n",
       "      <td>en</td>\n",
       "      <td>1.089928</td>\n",
       "    </tr>\n",
       "    <tr>\n",
       "      <th>2</th>\n",
       "      <td>greeklish</td>\n",
       "      <td>1.010345</td>\n",
       "    </tr>\n",
       "    <tr>\n",
       "      <th>3</th>\n",
       "      <td>other</td>\n",
       "      <td>1.000000</td>\n",
       "    </tr>\n",
       "  </tbody>\n",
       "</table>\n",
       "</div>"
      ],
      "text/plain": [
       "    language  toxicity\n",
       "0         el  1.000000\n",
       "1         en  1.089928\n",
       "2  greeklish  1.010345\n",
       "3      other  1.000000"
      ]
     },
     "execution_count": 88,
     "metadata": {},
     "output_type": "execute_result"
    }
   ],
   "source": [
    "toxic_lang_df = crawl_df.loc[:, [\"language\", \"toxicity\"]].groupby(\"language\").mean().reset_index()\n",
    "\n",
    "caption = \"Average toxicity by language.\"\n",
    "export_to_latex(toxic_lang_df, \"toxic_lang.tex\", caption=caption, col_format=\"|p{3.5cm}|p{1cm}|\")\n",
    "\n",
    "toxic_lang_df"
   ]
  },
  {
   "cell_type": "markdown",
   "id": "6e1e4b1d-b290-4d45-926e-0d5663bc6d9e",
   "metadata": {},
   "source": [
    "#### Finding the most toxic video"
   ]
  },
  {
   "cell_type": "code",
   "execution_count": 89,
   "id": "c5f296c4-4925-4abe-a7a2-881026081cad",
   "metadata": {
    "scrolled": true
   },
   "outputs": [
    {
     "data": {
      "text/html": [
       "<div>\n",
       "<style scoped>\n",
       "    .dataframe tbody tr th:only-of-type {\n",
       "        vertical-align: middle;\n",
       "    }\n",
       "\n",
       "    .dataframe tbody tr th {\n",
       "        vertical-align: top;\n",
       "    }\n",
       "\n",
       "    .dataframe thead th {\n",
       "        text-align: right;\n",
       "    }\n",
       "</style>\n",
       "<table border=\"1\" class=\"dataframe\">\n",
       "  <thead>\n",
       "    <tr style=\"text-align: right;\">\n",
       "      <th></th>\n",
       "      <th>toxicity</th>\n",
       "    </tr>\n",
       "    <tr>\n",
       "      <th>link</th>\n",
       "      <th></th>\n",
       "    </tr>\n",
       "  </thead>\n",
       "  <tbody>\n",
       "    <tr>\n",
       "      <th>https://www.youtube.com/watch?v=dyZXS49yhcU&amp;pp=ygUjzrXOu867zrfOvc65zrrOsSDPhM-BzrHOs86_z4XOtM65zrE%3D</th>\n",
       "      <td>1.333333</td>\n",
       "    </tr>\n",
       "    <tr>\n",
       "      <th>https://www.youtube.com/watch?v=_fnNiMXH4PI&amp;pp=ygUOZ3JlZWsgZm9ydG5pdGU%3D</th>\n",
       "      <td>1.214286</td>\n",
       "    </tr>\n",
       "    <tr>\n",
       "      <th>https://www.youtube.com/watch?v=z4DMFzyCkP0&amp;pp=ygUjzrXOu867zrfOvc65zrrOsSDPhM-BzrHOs86_z4XOtM65zrE%3D</th>\n",
       "      <td>1.136364</td>\n",
       "    </tr>\n",
       "    <tr>\n",
       "      <th>https://www.youtube.com/watch?v=-hsjov_72W0&amp;pp=ygUjzrXOu867zrfOvc65zrrOsSDPhM-BzrHOs86_z4XOtM65zrE%3D</th>\n",
       "      <td>1.133333</td>\n",
       "    </tr>\n",
       "    <tr>\n",
       "      <th>https://www.youtube.com/watch?v=ii2To2gvzkU&amp;pp=ygUjzrXOu867zrfOvc65zrrOsSDPhM-BzrHOs86_z4XOtM65zrE%3D</th>\n",
       "      <td>1.121951</td>\n",
       "    </tr>\n",
       "    <tr>\n",
       "      <th>...</th>\n",
       "      <td>...</td>\n",
       "    </tr>\n",
       "    <tr>\n",
       "      <th>https://www.youtube.com/watch?v=JA_8z_JGQnU&amp;pp=ygUOZ3JlZWsgZm9ydG5pdGU%3D</th>\n",
       "      <td>1.000000</td>\n",
       "    </tr>\n",
       "    <tr>\n",
       "      <th>https://www.youtube.com/watch?v=IosIQt6716w&amp;pp=ygUOZ3JlZWsgZm9ydG5pdGU%3D</th>\n",
       "      <td>1.000000</td>\n",
       "    </tr>\n",
       "    <tr>\n",
       "      <th>https://www.youtube.com/watch?v=I_I5RympRL4&amp;pp=ygUjzrXOu867zrfOvc65zrrOsSDPhM-BzrHOs86_z4XOtM65zrE%3D</th>\n",
       "      <td>1.000000</td>\n",
       "    </tr>\n",
       "    <tr>\n",
       "      <th>https://www.youtube.com/watch?v=HP26OIbNhX0&amp;pp=ygUjzrXOu867zrfOvc65zrrOsSDPhM-BzrHOs86_z4XOtM65zrE%3D</th>\n",
       "      <td>1.000000</td>\n",
       "    </tr>\n",
       "    <tr>\n",
       "      <th>https://www.youtube.com/watch?v=XBig64ZfCKE&amp;pp=ygUOZ3JlZWsgZm9ydG5pdGU%3D</th>\n",
       "      <td>1.000000</td>\n",
       "    </tr>\n",
       "  </tbody>\n",
       "</table>\n",
       "<p>126 rows × 1 columns</p>\n",
       "</div>"
      ],
      "text/plain": [
       "                                                    toxicity\n",
       "link                                                        \n",
       "https://www.youtube.com/watch?v=dyZXS49yhcU&pp=...  1.333333\n",
       "https://www.youtube.com/watch?v=_fnNiMXH4PI&pp=...  1.214286\n",
       "https://www.youtube.com/watch?v=z4DMFzyCkP0&pp=...  1.136364\n",
       "https://www.youtube.com/watch?v=-hsjov_72W0&pp=...  1.133333\n",
       "https://www.youtube.com/watch?v=ii2To2gvzkU&pp=...  1.121951\n",
       "...                                                      ...\n",
       "https://www.youtube.com/watch?v=JA_8z_JGQnU&pp=...  1.000000\n",
       "https://www.youtube.com/watch?v=IosIQt6716w&pp=...  1.000000\n",
       "https://www.youtube.com/watch?v=I_I5RympRL4&pp=...  1.000000\n",
       "https://www.youtube.com/watch?v=HP26OIbNhX0&pp=...  1.000000\n",
       "https://www.youtube.com/watch?v=XBig64ZfCKE&pp=...  1.000000\n",
       "\n",
       "[126 rows x 1 columns]"
      ]
     },
     "execution_count": 89,
     "metadata": {},
     "output_type": "execute_result"
    }
   ],
   "source": [
    "toxic_videos_df = crawl_df.loc[:, [\"link\", \"toxicity\"]].groupby(\"link\").mean().sort_values(\"toxicity\", ascending=False)\n",
    "toxic_videos_df"
   ]
  },
  {
   "cell_type": "code",
   "execution_count": 90,
   "id": "acb7f375-3681-4a87-8aa5-0ae77f6e7a63",
   "metadata": {},
   "outputs": [
    {
     "name": "stdout",
     "output_type": "stream",
     "text": [
      "Dataframe exported to results\\toxic_videos.tex\n"
     ]
    },
    {
     "data": {
      "text/html": [
       "<div>\n",
       "<style scoped>\n",
       "    .dataframe tbody tr th:only-of-type {\n",
       "        vertical-align: middle;\n",
       "    }\n",
       "\n",
       "    .dataframe tbody tr th {\n",
       "        vertical-align: top;\n",
       "    }\n",
       "\n",
       "    .dataframe thead th {\n",
       "        text-align: right;\n",
       "    }\n",
       "</style>\n",
       "<table border=\"1\" class=\"dataframe\">\n",
       "  <thead>\n",
       "    <tr style=\"text-align: right;\">\n",
       "      <th></th>\n",
       "      <th>title</th>\n",
       "      <th>toxicity</th>\n",
       "    </tr>\n",
       "  </thead>\n",
       "  <tbody>\n",
       "    <tr>\n",
       "      <th>0</th>\n",
       "      <td>Ρομαντικά Ελαφρά Τραγούδια | Non Stop Mix</td>\n",
       "      <td>1.333333</td>\n",
       "    </tr>\n",
       "    <tr>\n",
       "      <th>1</th>\n",
       "      <td>ΞΕΚΛΕΙΔΩΣΑ ΟΛΟ ΤΟ BATTL PASS ΤΗΣ SASON 2! (ort...</td>\n",
       "      <td>1.214286</td>\n",
       "    </tr>\n",
       "    <tr>\n",
       "      <th>2</th>\n",
       "      <td>Ελαφρολαϊκά παλιά - 120 μεγάλες επιτυχίες (by ...</td>\n",
       "      <td>1.136364</td>\n",
       "    </tr>\n",
       "    <tr>\n",
       "      <th>3</th>\n",
       "      <td>Nina Mazani - Άγχος (Από το “Ενκάντο: Ένας Κόσ...</td>\n",
       "      <td>1.133333</td>\n",
       "    </tr>\n",
       "    <tr>\n",
       "      <th>4</th>\n",
       "      <td>Ένα τραγούδι η ζωή μας - 70 αγαπημένα τραγούδι...</td>\n",
       "      <td>1.121951</td>\n",
       "    </tr>\n",
       "  </tbody>\n",
       "</table>\n",
       "</div>"
      ],
      "text/plain": [
       "                                               title  toxicity\n",
       "0          Ρομαντικά Ελαφρά Τραγούδια | Non Stop Mix  1.333333\n",
       "1  ΞΕΚΛΕΙΔΩΣΑ ΟΛΟ ΤΟ BATTL PASS ΤΗΣ SASON 2! (ort...  1.214286\n",
       "2  Ελαφρολαϊκά παλιά - 120 μεγάλες επιτυχίες (by ...  1.136364\n",
       "3  Nina Mazani - Άγχος (Από το “Ενκάντο: Ένας Κόσ...  1.133333\n",
       "4  Ένα τραγούδι η ζωή μας - 70 αγαπημένα τραγούδι...  1.121951"
      ]
     },
     "execution_count": 90,
     "metadata": {},
     "output_type": "execute_result"
    }
   ],
   "source": [
    "toxic_videos_df = toxic_videos_df.merge(\n",
    "                    crawl_df.loc[:, [\"link\", \"title\"]].drop_duplicates(), \n",
    "                    on=\"link\", \n",
    "                    how=\"inner\").loc[:, [\"title\", \"toxicity\"]].head(5)\n",
    "\n",
    "toxic_videos_df.title = toxic_videos_df.title.apply(lambda x: remove_emojis(x))\n",
    "caption = \"The top 5 videos with the most toxic comments on average.\"\n",
    "export_to_latex(toxic_videos_df, \"toxic_videos.tex\", caption=caption, col_format=long_col_format)\n",
    "\n",
    "toxic_videos_df"
   ]
  },
  {
   "cell_type": "markdown",
   "id": "48aac27c-20e0-403b-8fdf-5602a31bcdec",
   "metadata": {},
   "source": [
    "#### Finding videos where toxicity was uniform across time"
   ]
  },
  {
   "cell_type": "code",
   "execution_count": 91,
   "id": "da1a158f-a837-43ec-b436-5099e9f60064",
   "metadata": {},
   "outputs": [
    {
     "data": {
      "text/html": [
       "<div>\n",
       "<style scoped>\n",
       "    .dataframe tbody tr th:only-of-type {\n",
       "        vertical-align: middle;\n",
       "    }\n",
       "\n",
       "    .dataframe tbody tr th {\n",
       "        vertical-align: top;\n",
       "    }\n",
       "\n",
       "    .dataframe thead th {\n",
       "        text-align: right;\n",
       "    }\n",
       "</style>\n",
       "<table border=\"1\" class=\"dataframe\">\n",
       "  <thead>\n",
       "    <tr style=\"text-align: right;\">\n",
       "      <th></th>\n",
       "      <th></th>\n",
       "      <th>toxicity</th>\n",
       "    </tr>\n",
       "    <tr>\n",
       "      <th>link</th>\n",
       "      <th>date</th>\n",
       "      <th></th>\n",
       "    </tr>\n",
       "  </thead>\n",
       "  <tbody>\n",
       "    <tr>\n",
       "      <th rowspan=\"5\" valign=\"top\">https://www.youtube.com/watch?v=-HrCOFXMUx8&amp;pp=ygUjzrXOu867zrfOvc65zrrOsSDPhM-BzrHOs86_z4XOtM65zrE%3D</th>\n",
       "      <th>2023-01-27</th>\n",
       "      <td>1.0</td>\n",
       "    </tr>\n",
       "    <tr>\n",
       "      <th>2023-03-27</th>\n",
       "      <td>1.0</td>\n",
       "    </tr>\n",
       "    <tr>\n",
       "      <th>2023-09-27</th>\n",
       "      <td>1.0</td>\n",
       "    </tr>\n",
       "    <tr>\n",
       "      <th>2023-10-27</th>\n",
       "      <td>1.0</td>\n",
       "    </tr>\n",
       "    <tr>\n",
       "      <th>2023-11-20</th>\n",
       "      <td>1.0</td>\n",
       "    </tr>\n",
       "    <tr>\n",
       "      <th>...</th>\n",
       "      <th>...</th>\n",
       "      <td>...</td>\n",
       "    </tr>\n",
       "    <tr>\n",
       "      <th rowspan=\"5\" valign=\"top\">https://www.youtube.com/watch?v=z4DMFzyCkP0&amp;pp=ygUjzrXOu867zrfOvc65zrrOsSDPhM-BzrHOs86_z4XOtM65zrE%3D</th>\n",
       "      <th>2020-11-27</th>\n",
       "      <td>1.0</td>\n",
       "    </tr>\n",
       "    <tr>\n",
       "      <th>2021-11-27</th>\n",
       "      <td>1.0</td>\n",
       "    </tr>\n",
       "    <tr>\n",
       "      <th>2022-11-27</th>\n",
       "      <td>1.3</td>\n",
       "    </tr>\n",
       "    <tr>\n",
       "      <th>2023-01-27</th>\n",
       "      <td>1.0</td>\n",
       "    </tr>\n",
       "    <tr>\n",
       "      <th>2023-06-27</th>\n",
       "      <td>1.0</td>\n",
       "    </tr>\n",
       "  </tbody>\n",
       "</table>\n",
       "<p>414 rows × 1 columns</p>\n",
       "</div>"
      ],
      "text/plain": [
       "                                                               toxicity\n",
       "link                                               date                \n",
       "https://www.youtube.com/watch?v=-HrCOFXMUx8&pp=... 2023-01-27       1.0\n",
       "                                                   2023-03-27       1.0\n",
       "                                                   2023-09-27       1.0\n",
       "                                                   2023-10-27       1.0\n",
       "                                                   2023-11-20       1.0\n",
       "...                                                                 ...\n",
       "https://www.youtube.com/watch?v=z4DMFzyCkP0&pp=... 2020-11-27       1.0\n",
       "                                                   2021-11-27       1.0\n",
       "                                                   2022-11-27       1.3\n",
       "                                                   2023-01-27       1.0\n",
       "                                                   2023-06-27       1.0\n",
       "\n",
       "[414 rows x 1 columns]"
      ]
     },
     "execution_count": 91,
     "metadata": {},
     "output_type": "execute_result"
    }
   ],
   "source": [
    "toxic_time_df = crawl_df.loc[:, [\"link\", \"date\", \"toxicity\"]].groupby([\"link\", \"date\"]).mean()\n",
    "toxic_time_df"
   ]
  },
  {
   "cell_type": "code",
   "execution_count": 92,
   "id": "d07de243-5172-4d99-8a62-3bb10c1055b7",
   "metadata": {},
   "outputs": [
    {
     "name": "stdout",
     "output_type": "stream",
     "text": [
      "Dataframe exported to results\\toxic_uniform.tex\n"
     ]
    },
    {
     "data": {
      "text/html": [
       "<div>\n",
       "<style scoped>\n",
       "    .dataframe tbody tr th:only-of-type {\n",
       "        vertical-align: middle;\n",
       "    }\n",
       "\n",
       "    .dataframe tbody tr th {\n",
       "        vertical-align: top;\n",
       "    }\n",
       "\n",
       "    .dataframe thead th {\n",
       "        text-align: right;\n",
       "    }\n",
       "</style>\n",
       "<table border=\"1\" class=\"dataframe\">\n",
       "  <thead>\n",
       "    <tr style=\"text-align: right;\">\n",
       "      <th></th>\n",
       "      <th>title</th>\n",
       "      <th>toxicity</th>\n",
       "    </tr>\n",
       "  </thead>\n",
       "  <tbody>\n",
       "    <tr>\n",
       "      <th>0</th>\n",
       "      <td>ΤΑ ΣΠΑΜΕ ΕΛΛΗΝΙΚΑ | KONSTANTINOS SOT</td>\n",
       "      <td>1.0</td>\n",
       "    </tr>\n",
       "    <tr>\n",
       "      <th>1</th>\n",
       "      <td>5 Ωρες Non Stop special!!  Αποκλειστικά για μ...</td>\n",
       "      <td>1.0</td>\n",
       "    </tr>\n",
       "    <tr>\n",
       "      <th>2</th>\n",
       "      <td>Ελληνικό Έντεχνο - λαφρολαϊκό mix</td>\n",
       "      <td>1.0</td>\n",
       "    </tr>\n",
       "    <tr>\n",
       "      <th>3</th>\n",
       "      <td>ΠΡΟΚΑΛΕΣΑ STRAMSNIPR ΣΕ 1V1?! ΔΕΙΤΕ ΤΙ ΕΓΙΝΕ..</td>\n",
       "      <td>1.0</td>\n",
       "    </tr>\n",
       "    <tr>\n",
       "      <th>4</th>\n",
       "      <td>ΤΡΟΛΛΑΡΩ ΚΙΝΕΖΟΥΣ ΣΤΟ ORTNIT! (ortnite Greek)</td>\n",
       "      <td>1.0</td>\n",
       "    </tr>\n",
       "    <tr>\n",
       "      <th>...</th>\n",
       "      <td>...</td>\n",
       "      <td>...</td>\n",
       "    </tr>\n",
       "    <tr>\n",
       "      <th>121</th>\n",
       "      <td>WINS ΜΟΝΟ ΜΕ SKYBAS ΣΤΟ NW SASON! (ortnite Gre...</td>\n",
       "      <td>1.0</td>\n",
       "    </tr>\n",
       "    <tr>\n",
       "      <th>122</th>\n",
       "      <td>ΞΕΧΑΣΤΕ ΤΟ ORTNIT, ΑΛΛΑΖΟΥΝ ΟΛΑ... ΜΙΑ ΝΕΑ ΑΡΧ...</td>\n",
       "      <td>1.0</td>\n",
       "    </tr>\n",
       "    <tr>\n",
       "      <th>123</th>\n",
       "      <td>ΠΑΜΕ ΓΙΑ ΡΕΚΟΡ ΣΤΟ ORTNIT ONLY UP CHAPTR 2 * L...</td>\n",
       "      <td>1.0</td>\n",
       "    </tr>\n",
       "    <tr>\n",
       "      <th>124</th>\n",
       "      <td>ΜΕ SCAMMAR ΚΟΡΙΤΣΙ(SCAMMR GTS SCAMMD){GRK}</td>\n",
       "      <td>1.0</td>\n",
       "    </tr>\n",
       "    <tr>\n",
       "      <th>125</th>\n",
       "      <td>ΞΕΚΛΕΙΔΩΣΑ ΟΛΟ ΤΟ CHAPTR 2 BATTL PASS! (ortnit...</td>\n",
       "      <td>1.0</td>\n",
       "    </tr>\n",
       "  </tbody>\n",
       "</table>\n",
       "<p>126 rows × 2 columns</p>\n",
       "</div>"
      ],
      "text/plain": [
       "                                                 title  toxicity\n",
       "0                 ΤΑ ΣΠΑΜΕ ΕΛΛΗΝΙΚΑ | KONSTANTINOS SOT       1.0\n",
       "1     5 Ωρες Non Stop special!!  Αποκλειστικά για μ...       1.0\n",
       "2                    Ελληνικό Έντεχνο - λαφρολαϊκό mix       1.0\n",
       "3       ΠΡΟΚΑΛΕΣΑ STRAMSNIPR ΣΕ 1V1?! ΔΕΙΤΕ ΤΙ ΕΓΙΝΕ..       1.0\n",
       "4        ΤΡΟΛΛΑΡΩ ΚΙΝΕΖΟΥΣ ΣΤΟ ORTNIT! (ortnite Greek)       1.0\n",
       "..                                                 ...       ...\n",
       "121  WINS ΜΟΝΟ ΜΕ SKYBAS ΣΤΟ NW SASON! (ortnite Gre...       1.0\n",
       "122  ΞΕΧΑΣΤΕ ΤΟ ORTNIT, ΑΛΛΑΖΟΥΝ ΟΛΑ... ΜΙΑ ΝΕΑ ΑΡΧ...       1.0\n",
       "123  ΠΑΜΕ ΓΙΑ ΡΕΚΟΡ ΣΤΟ ORTNIT ONLY UP CHAPTR 2 * L...       1.0\n",
       "124         ΜΕ SCAMMAR ΚΟΡΙΤΣΙ(SCAMMR GTS SCAMMD){GRK}       1.0\n",
       "125  ΞΕΚΛΕΙΔΩΣΑ ΟΛΟ ΤΟ CHAPTR 2 BATTL PASS! (ortnit...       1.0\n",
       "\n",
       "[126 rows x 2 columns]"
      ]
     },
     "execution_count": 92,
     "metadata": {},
     "output_type": "execute_result"
    }
   ],
   "source": [
    "toxic_time_var_df = toxic_time_df.groupby([\"link\", \"toxicity\"]).std().reset_index().sort_values(\"toxicity\", ascending=True)\n",
    "uniform_toxic_df = toxic_time_var_df[toxic_time_var_df.toxicity == 1]\n",
    "uniform_toxic_df = uniform_toxic_df.merge(\n",
    "                    crawl_df.loc[:, [\"link\", \"title\"]].drop_duplicates(), \n",
    "                    on=\"link\", \n",
    "                    how=\"inner\").loc[:, [\"title\", \"toxicity\"]]\n",
    "\n",
    "uniform_toxic_df.title = uniform_toxic_df.title.apply(lambda x: remove_emojis(x))\n",
    "caption = \"Videos where comment toxicity stayed uniform over time.\"\n",
    "export_to_latex(uniform_toxic_df, \"toxic_uniform.tex\", caption=caption, col_format=long_col_format)\n",
    "\n",
    "uniform_toxic_df"
   ]
  },
  {
   "cell_type": "markdown",
   "id": "f2998d0f-dc46-413c-8af2-e60a8758f000",
   "metadata": {},
   "source": [
    "#### Finding videos where toxicity increases over time"
   ]
  },
  {
   "cell_type": "code",
   "execution_count": 93,
   "id": "c23eef98-1d9f-4f0d-bc19-487f6f69b3f8",
   "metadata": {
    "scrolled": true
   },
   "outputs": [
    {
     "data": {
      "text/html": [
       "<div>\n",
       "<style scoped>\n",
       "    .dataframe tbody tr th:only-of-type {\n",
       "        vertical-align: middle;\n",
       "    }\n",
       "\n",
       "    .dataframe tbody tr th {\n",
       "        vertical-align: top;\n",
       "    }\n",
       "\n",
       "    .dataframe thead th {\n",
       "        text-align: right;\n",
       "    }\n",
       "</style>\n",
       "<table border=\"1\" class=\"dataframe\">\n",
       "  <thead>\n",
       "    <tr style=\"text-align: right;\">\n",
       "      <th></th>\n",
       "      <th>link</th>\n",
       "      <th>toxicity_diff</th>\n",
       "    </tr>\n",
       "  </thead>\n",
       "  <tbody>\n",
       "    <tr>\n",
       "      <th>1</th>\n",
       "      <td>https://www.youtube.com/watch?v=0sTegFKn-nQ&amp;pp...</td>\n",
       "      <td>3.0</td>\n",
       "    </tr>\n",
       "    <tr>\n",
       "      <th>4</th>\n",
       "      <td>https://www.youtube.com/watch?v=ExbSJygJtTE&amp;pp...</td>\n",
       "      <td>3.0</td>\n",
       "    </tr>\n",
       "    <tr>\n",
       "      <th>5</th>\n",
       "      <td>https://www.youtube.com/watch?v=KTLpcbiqFFs&amp;pp...</td>\n",
       "      <td>3.0</td>\n",
       "    </tr>\n",
       "    <tr>\n",
       "      <th>6</th>\n",
       "      <td>https://www.youtube.com/watch?v=ZTJPZJ453dY&amp;pp...</td>\n",
       "      <td>3.0</td>\n",
       "    </tr>\n",
       "    <tr>\n",
       "      <th>7</th>\n",
       "      <td>https://www.youtube.com/watch?v=_fnNiMXH4PI&amp;pp...</td>\n",
       "      <td>3.0</td>\n",
       "    </tr>\n",
       "    <tr>\n",
       "      <th>8</th>\n",
       "      <td>https://www.youtube.com/watch?v=b-GnJoG6VE8&amp;pp...</td>\n",
       "      <td>3.0</td>\n",
       "    </tr>\n",
       "    <tr>\n",
       "      <th>14</th>\n",
       "      <td>https://www.youtube.com/watch?v=rJabqwE75Ig&amp;pp...</td>\n",
       "      <td>3.0</td>\n",
       "    </tr>\n",
       "    <tr>\n",
       "      <th>15</th>\n",
       "      <td>https://www.youtube.com/watch?v=z4DMFzyCkP0&amp;pp...</td>\n",
       "      <td>3.0</td>\n",
       "    </tr>\n",
       "    <tr>\n",
       "      <th>10</th>\n",
       "      <td>https://www.youtube.com/watch?v=gUeMZez8GzU&amp;pp...</td>\n",
       "      <td>2.6</td>\n",
       "    </tr>\n",
       "    <tr>\n",
       "      <th>11</th>\n",
       "      <td>https://www.youtube.com/watch?v=ii2To2gvzkU&amp;pp...</td>\n",
       "      <td>2.5</td>\n",
       "    </tr>\n",
       "    <tr>\n",
       "      <th>0</th>\n",
       "      <td>https://www.youtube.com/watch?v=-hsjov_72W0&amp;pp...</td>\n",
       "      <td>2.0</td>\n",
       "    </tr>\n",
       "    <tr>\n",
       "      <th>2</th>\n",
       "      <td>https://www.youtube.com/watch?v=2tfbx59a_dM&amp;pp...</td>\n",
       "      <td>2.0</td>\n",
       "    </tr>\n",
       "    <tr>\n",
       "      <th>3</th>\n",
       "      <td>https://www.youtube.com/watch?v=5QPCJ3bfxp0&amp;pp...</td>\n",
       "      <td>2.0</td>\n",
       "    </tr>\n",
       "    <tr>\n",
       "      <th>9</th>\n",
       "      <td>https://www.youtube.com/watch?v=dyZXS49yhcU&amp;pp...</td>\n",
       "      <td>2.0</td>\n",
       "    </tr>\n",
       "    <tr>\n",
       "      <th>12</th>\n",
       "      <td>https://www.youtube.com/watch?v=jP0fwWXofOM&amp;pp...</td>\n",
       "      <td>2.0</td>\n",
       "    </tr>\n",
       "    <tr>\n",
       "      <th>13</th>\n",
       "      <td>https://www.youtube.com/watch?v=lwmUnvCNX-Y&amp;pp...</td>\n",
       "      <td>2.0</td>\n",
       "    </tr>\n",
       "  </tbody>\n",
       "</table>\n",
       "</div>"
      ],
      "text/plain": [
       "                                                 link  toxicity_diff\n",
       "1   https://www.youtube.com/watch?v=0sTegFKn-nQ&pp...            3.0\n",
       "4   https://www.youtube.com/watch?v=ExbSJygJtTE&pp...            3.0\n",
       "5   https://www.youtube.com/watch?v=KTLpcbiqFFs&pp...            3.0\n",
       "6   https://www.youtube.com/watch?v=ZTJPZJ453dY&pp...            3.0\n",
       "7   https://www.youtube.com/watch?v=_fnNiMXH4PI&pp...            3.0\n",
       "8   https://www.youtube.com/watch?v=b-GnJoG6VE8&pp...            3.0\n",
       "14  https://www.youtube.com/watch?v=rJabqwE75Ig&pp...            3.0\n",
       "15  https://www.youtube.com/watch?v=z4DMFzyCkP0&pp...            3.0\n",
       "10  https://www.youtube.com/watch?v=gUeMZez8GzU&pp...            2.6\n",
       "11  https://www.youtube.com/watch?v=ii2To2gvzkU&pp...            2.5\n",
       "0   https://www.youtube.com/watch?v=-hsjov_72W0&pp...            2.0\n",
       "2   https://www.youtube.com/watch?v=2tfbx59a_dM&pp...            2.0\n",
       "3   https://www.youtube.com/watch?v=5QPCJ3bfxp0&pp...            2.0\n",
       "9   https://www.youtube.com/watch?v=dyZXS49yhcU&pp...            2.0\n",
       "12  https://www.youtube.com/watch?v=jP0fwWXofOM&pp...            2.0\n",
       "13  https://www.youtube.com/watch?v=lwmUnvCNX-Y&pp...            2.0"
      ]
     },
     "execution_count": 93,
     "metadata": {},
     "output_type": "execute_result"
    }
   ],
   "source": [
    "toxic_time_incr_df = crawl_df.loc[:,[\"link\", \"date\", \"toxicity\"]].copy()\n",
    "toxic_time_incr_df = toxic_time_incr_df.sort_values(\"date\")\n",
    "toxic_time_incr_df[\"toxicity_diff\"] = toxic_time_incr_df.toxicity.diff()\n",
    "toxic_time_incr_df = toxic_time_incr_df.loc[toxic_time_incr_df.toxicity_diff > 0, :]\n",
    "toxic_time_incr_df = toxic_time_incr_df.loc[:, [\"link\", \"toxicity_diff\"]].groupby(\"link\").mean()\n",
    "toxic_time_incr_df = toxic_time_incr_df.reset_index().sort_values(\"toxicity_diff\", ascending=False)\n",
    "toxic_time_incr_df"
   ]
  },
  {
   "cell_type": "code",
   "execution_count": 94,
   "id": "0e61dc76-957a-438b-ba4f-dd1dd6b979d8",
   "metadata": {},
   "outputs": [
    {
     "name": "stdout",
     "output_type": "stream",
     "text": [
      "Dataframe exported to results\\toxic_increasing.tex\n"
     ]
    },
    {
     "data": {
      "text/html": [
       "<div>\n",
       "<style scoped>\n",
       "    .dataframe tbody tr th:only-of-type {\n",
       "        vertical-align: middle;\n",
       "    }\n",
       "\n",
       "    .dataframe tbody tr th {\n",
       "        vertical-align: top;\n",
       "    }\n",
       "\n",
       "    .dataframe thead th {\n",
       "        text-align: right;\n",
       "    }\n",
       "</style>\n",
       "<table border=\"1\" class=\"dataframe\">\n",
       "  <thead>\n",
       "    <tr style=\"text-align: right;\">\n",
       "      <th></th>\n",
       "      <th>title</th>\n",
       "      <th>toxicity_diff</th>\n",
       "    </tr>\n",
       "  </thead>\n",
       "  <tbody>\n",
       "    <tr>\n",
       "      <th>0</th>\n",
       "      <td>Greek Music Mix 2021 - Ελληνικα Τραγουδια Mix ...</td>\n",
       "      <td>3.0</td>\n",
       "    </tr>\n",
       "    <tr>\n",
       "      <th>1</th>\n",
       "      <td>ΜΕ SCAMMAR ΚΟΡΙΤΣΙ(SCAMMR GTS SCAMMD){GRK}</td>\n",
       "      <td>3.0</td>\n",
       "    </tr>\n",
       "    <tr>\n",
       "      <th>2</th>\n",
       "      <td>Πέρασα 2 ΩΡΕΣ στο OG ortnite</td>\n",
       "      <td>3.0</td>\n",
       "    </tr>\n",
       "    <tr>\n",
       "      <th>3</th>\n",
       "      <td>ΣΚΟΤΩΣΑ ΤΟΝ MONGRAAL M 2OBOMB !</td>\n",
       "      <td>3.0</td>\n",
       "    </tr>\n",
       "    <tr>\n",
       "      <th>4</th>\n",
       "      <td>ΞΕΚΛΕΙΔΩΣΑ ΟΛΟ ΤΟ BATTL PASS ΤΗΣ SASON 2! (ort...</td>\n",
       "      <td>3.0</td>\n",
       "    </tr>\n",
       "    <tr>\n",
       "      <th>5</th>\n",
       "      <td>ΑΝ ΓΕΛΑΣΕΙΣ ΧΑΝΕΙΣ 500 VBUCKS! (ortnite unny M...</td>\n",
       "      <td>3.0</td>\n",
       "    </tr>\n",
       "    <tr>\n",
       "      <th>6</th>\n",
       "      <td>ΗΡΘΕ ΤΟ HALLOWN ΣΤΟ ORTNIT ft W1ndz</td>\n",
       "      <td>3.0</td>\n",
       "    </tr>\n",
       "    <tr>\n",
       "      <th>7</th>\n",
       "      <td>Ελαφρολαϊκά παλιά - 120 μεγάλες επιτυχίες (by ...</td>\n",
       "      <td>3.0</td>\n",
       "    </tr>\n",
       "    <tr>\n",
       "      <th>8</th>\n",
       "      <td>5 Ωρες Non Stop special!!  Αποκλειστικά για μ...</td>\n",
       "      <td>2.6</td>\n",
       "    </tr>\n",
       "    <tr>\n",
       "      <th>9</th>\n",
       "      <td>Ένα τραγούδι η ζωή μας - 70 αγαπημένα τραγούδι...</td>\n",
       "      <td>2.5</td>\n",
       "    </tr>\n",
       "    <tr>\n",
       "      <th>10</th>\n",
       "      <td>Nina Mazani - Άγχος (Από το “Ενκάντο: Ένας Κόσ...</td>\n",
       "      <td>2.0</td>\n",
       "    </tr>\n",
       "    <tr>\n",
       "      <th>11</th>\n",
       "      <td>Κωνσταντίνος Αργυρός - Ελπίδα - Official Music...</td>\n",
       "      <td>2.0</td>\n",
       "    </tr>\n",
       "    <tr>\n",
       "      <th>12</th>\n",
       "      <td>ΠΑΛΙΑ ΛΑΙΚΑ ΓΙΑ ΟΛΑ ΤΑ ΓΟΥΣΤΑ!!!!!MIX - ΕΠΙΛΕΓ...</td>\n",
       "      <td>2.0</td>\n",
       "    </tr>\n",
       "    <tr>\n",
       "      <th>13</th>\n",
       "      <td>Ρομαντικά Ελαφρά Τραγούδια | Non Stop Mix</td>\n",
       "      <td>2.0</td>\n",
       "    </tr>\n",
       "    <tr>\n",
       "      <th>14</th>\n",
       "      <td>TRYHARDIANS O TH GALAXY ΣΤΟ ΝΕΟ ARNA MOD! ft. ...</td>\n",
       "      <td>2.0</td>\n",
       "    </tr>\n",
       "    <tr>\n",
       "      <th>15</th>\n",
       "      <td>1v1 ΜΕ ΤΟΝ ΠΙΟ *TOXIC OG* ΠΑΙΧΤΗ ΣΤΟΝ ΚΟΣΜΟ</td>\n",
       "      <td>2.0</td>\n",
       "    </tr>\n",
       "  </tbody>\n",
       "</table>\n",
       "</div>"
      ],
      "text/plain": [
       "                                                title  toxicity_diff\n",
       "0   Greek Music Mix 2021 - Ελληνικα Τραγουδια Mix ...            3.0\n",
       "1          ΜΕ SCAMMAR ΚΟΡΙΤΣΙ(SCAMMR GTS SCAMMD){GRK}            3.0\n",
       "2                        Πέρασα 2 ΩΡΕΣ στο OG ortnite            3.0\n",
       "3                     ΣΚΟΤΩΣΑ ΤΟΝ MONGRAAL M 2OBOMB !            3.0\n",
       "4   ΞΕΚΛΕΙΔΩΣΑ ΟΛΟ ΤΟ BATTL PASS ΤΗΣ SASON 2! (ort...            3.0\n",
       "5   ΑΝ ΓΕΛΑΣΕΙΣ ΧΑΝΕΙΣ 500 VBUCKS! (ortnite unny M...            3.0\n",
       "6                 ΗΡΘΕ ΤΟ HALLOWN ΣΤΟ ORTNIT ft W1ndz            3.0\n",
       "7   Ελαφρολαϊκά παλιά - 120 μεγάλες επιτυχίες (by ...            3.0\n",
       "8    5 Ωρες Non Stop special!!  Αποκλειστικά για μ...            2.6\n",
       "9   Ένα τραγούδι η ζωή μας - 70 αγαπημένα τραγούδι...            2.5\n",
       "10  Nina Mazani - Άγχος (Από το “Ενκάντο: Ένας Κόσ...            2.0\n",
       "11  Κωνσταντίνος Αργυρός - Ελπίδα - Official Music...            2.0\n",
       "12  ΠΑΛΙΑ ΛΑΙΚΑ ΓΙΑ ΟΛΑ ΤΑ ΓΟΥΣΤΑ!!!!!MIX - ΕΠΙΛΕΓ...            2.0\n",
       "13          Ρομαντικά Ελαφρά Τραγούδια | Non Stop Mix            2.0\n",
       "14  TRYHARDIANS O TH GALAXY ΣΤΟ ΝΕΟ ARNA MOD! ft. ...            2.0\n",
       "15        1v1 ΜΕ ΤΟΝ ΠΙΟ *TOXIC OG* ΠΑΙΧΤΗ ΣΤΟΝ ΚΟΣΜΟ            2.0"
      ]
     },
     "execution_count": 94,
     "metadata": {},
     "output_type": "execute_result"
    }
   ],
   "source": [
    "toxic_time_incr_df = toxic_time_incr_df.merge(\n",
    "                    crawl_df.loc[:, [\"link\", \"title\"]].drop_duplicates(), \n",
    "                    on=\"link\", \n",
    "                    how=\"inner\").loc[:, [\"title\", \"toxicity_diff\"]]\n",
    "\n",
    "\n",
    "toxic_time_incr_df.title = toxic_time_incr_df.title.apply(lambda x: remove_emojis(x))\n",
    "caption = \"Videos where comment toxicity stayed increased over time.\"\\\n",
    "            \"The toxicity\\_diff represents the average difference between comment toxicity\"\\\n",
    "            \"with lag 1 across each date.\"\n",
    "export_to_latex(toxic_time_incr_df, \"toxic_increasing.tex\", caption=caption, col_format=long_col_format)\n",
    "\n",
    "toxic_time_incr_df"
   ]
  },
  {
   "cell_type": "code",
   "execution_count": 95,
   "id": "bbd4fa74-04f1-48e0-9954-8d77e9f5685c",
   "metadata": {
    "tags": []
   },
   "outputs": [
    {
     "name": "stdout",
     "output_type": "stream",
     "text": [
      "Notebook executed in 20 minutes and 15.3 seconds\n"
     ]
    }
   ],
   "source": [
    "print(f\"Notebook executed in {int((time()-start)// 60)} minutes and {(time()-start) % 60:.1f} seconds\")"
   ]
  }
 ],
 "metadata": {
  "kernelspec": {
   "display_name": "Python 3 (ipykernel)",
   "language": "python",
   "name": "python3"
  },
  "language_info": {
   "codemirror_mode": {
    "name": "ipython",
    "version": 3
   },
   "file_extension": ".py",
   "mimetype": "text/x-python",
   "name": "python",
   "nbconvert_exporter": "python",
   "pygments_lexer": "ipython3",
   "version": "3.11.5"
  }
 },
 "nbformat": 4,
 "nbformat_minor": 5
}
